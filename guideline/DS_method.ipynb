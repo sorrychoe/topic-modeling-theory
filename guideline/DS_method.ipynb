{
 "cells": [
  {
   "cell_type": "markdown",
   "metadata": {},
   "source": [
    "# DS Methodology Guideline"
   ]
  },
  {
   "cell_type": "markdown",
   "metadata": {},
   "source": [
    "##### Author information\n",
    "- Name: Keungoui Kim\n",
    "- email address: awekim@handong.edu\n",
    "- GitHub: aidskim\n",
    "- Youtube URL: https://youtube.com/~~~"
   ]
  },
  {
   "attachments": {},
   "cell_type": "markdown",
   "metadata": {},
   "source": [
    "#### Part 1. Brief background of methodology\n",
    "- Explain the situation before this methodology was introduced.\n",
    "- Explain why this methodology is introduced and where it can be used."
   ]
  },
  {
   "attachments": {},
   "cell_type": "markdown",
   "metadata": {},
   "source": [
    "#### Part 2. Key concept of methodology\n",
    "- Explain the key concept of the methodology with mathematical equations.\n",
    "- Explain the main strength of the methodology. "
   ]
  },
  {
   "attachments": {},
   "cell_type": "markdown",
   "metadata": {},
   "source": [
    "#### Part 3. Example\n",
    "- Using a very simple toy data, write down a sample code.\n",
    "- You must present the result, what it means, and how it can be used."
   ]
  }
 ],
 "metadata": {
  "kernelspec": {
   "display_name": "gpuenv",
   "language": "python",
   "name": "python3"
  },
  "language_info": {
   "name": "python",
   "version": "3.9.16 (main, Jan 11 2023, 16:16:36) [MSC v.1916 64 bit (AMD64)]"
  },
  "orig_nbformat": 4,
  "vscode": {
   "interpreter": {
    "hash": "d288b0b05eff9a885f46bca58a1e22eaa20d9eeebab83492fa79239d8adcb3ac"
   }
  }
 },
 "nbformat": 4,
 "nbformat_minor": 2
}
