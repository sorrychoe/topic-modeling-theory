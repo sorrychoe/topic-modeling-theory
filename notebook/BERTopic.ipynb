{
 "cells": [
  {
   "cell_type": "markdown",
   "metadata": {},
   "source": [
    "# Topics over Time (ToT)"
   ]
  },
  {
   "cell_type": "markdown",
   "metadata": {},
   "source": [
    "#### Author information\n",
    "\n",
    "- **Name:** Jaeseong Choe\n",
    "\n",
    "- **email address:** 21900759@handong.ac.kr\n",
    "\n",
    "- **GitHub:** https://github.com/sorrychoe\n",
    "\n",
    "- **Linkedin:** https://www.linkedin.com/in/jaeseong-choe-048639250/\n",
    "\n",
    "- **Personal Webpage:** https://jaeseongchoe.vercel.app/"
   ]
  },
  {
   "attachments": {},
   "cell_type": "markdown",
   "metadata": {},
   "source": [
    "## Part 1. Brief background of methodology"
   ]
  },
  {
   "cell_type": "markdown",
   "metadata": {},
   "source": [
    "### Overview\n",
    "\n",
    "- **BERTopic is a topic modeling technique that leverages transformer-based embeddings and a class-based TF-IDF (c-TF-IDF) approach** to generate dense clusters of documents, resulting in interpretable topics with meaningful descriptions."
   ]
  },
  {
   "cell_type": "markdown",
   "metadata": {},
   "source": [
    "### Situation Before ToT\n",
    "\n",
    "- Traditional topic modeling methods like Latent Dirichlet Allocation (LDA) often struggled with capturing the semantic nuances of documents, especially when dealing with short texts or documents with overlapping topics."
   ]
  },
  {
   "cell_type": "markdown",
   "metadata": {},
   "source": [
    "### Why ToT Was Introduced\n",
    "\n",
    "- BERTopic was introduced from the paper \"TBERTopic: Neural topic modeling with a class-based TF-IDF procedure\" of Maarten Grootendorst. (2022).\n",
    "\n",
    "- BERTopic was introduced to address the limitations of traditional models by incorporating transformer-based embeddings, which capture contextual information, and by utilizing c-TF-IDF for more coherent topic representations"
   ]
  },
  {
   "cell_type": "markdown",
   "metadata": {},
   "source": [
    "### Use Cases\n",
    "\n",
    "- BERTopic is applicable in various domains, including analyzing customer reviews, extracting themes from research articles, monitoring social media trends, and exploring historical document collections."
   ]
  },
  {
   "attachments": {},
   "cell_type": "markdown",
   "metadata": {},
   "source": [
    "## Part 2. Key concept of methodology"
   ]
  },
  {
   "cell_type": "markdown",
   "metadata": {},
   "source": [
    "### Key Concept\n",
    "\n",
    "- BERTopic combines transformer-based embeddings with clustering algorithms and a class-based TF-IDF approach to identify and represent topics within a corpus. \n",
    "  "
   ]
  },
  {
   "cell_type": "markdown",
   "metadata": {},
   "source": [
    "### Generative Process\n",
    "\n",
    "The methodology involves four main steps:\n",
    "\n",
    "**1. Document Embedding**\n",
    "\n",
    "- Each document is converted into a vector representation using a pre-trained transformer model, such as BERT. \n",
    "\n",
    "**2. Dimensionality Reduction**\n",
    "\n",
    "- The high-dimensional embeddings are reduced to a lower-dimensional space using techniques like UMAP to preserve semantic relationships. \n",
    "\n",
    "**3. Clustering**\n",
    "\n",
    "- The reduced embeddings are clustered using algorithms like HDBSCAN to group semantically similar documents. \n",
    "\n",
    "**4. Topic Representation**\n",
    "\n",
    "- For each cluster, a c-TF-IDF approach is applied to extract representative words, forming the topic description."
   ]
  },
  {
   "cell_type": "markdown",
   "metadata": {},
   "source": [
    "![ToT_Graphic](./img/bertopic_Graphic.png)"
   ]
  },
  {
   "cell_type": "markdown",
   "metadata": {
    "vscode": {
     "languageId": "plaintext"
    }
   },
   "source": [
    "### Strength\n",
    "\n",
    "- BERTopic effectively captures semantic relationships in documents through transformer embeddings and provides coherent topic representations using c-TF-IDF. Its modular design allows for flexibility in choosing embedding models, dimensionality reduction techniques, and clustering algorithms, making it adaptable to various datasets and applications."
   ]
  },
  {
   "attachments": {},
   "cell_type": "markdown",
   "metadata": {},
   "source": [
    "## Part 3. Example"
   ]
  },
  {
   "cell_type": "markdown",
   "metadata": {},
   "source": [
    "### Precautions\n",
    "\n",
    "- If you re-execute the code, there may be a slight difference in the result.\n",
    "\n",
    "- Of course, the difference in the number or content of the topic will not be significant due to the learning rate, but the number of the topic changes."
   ]
  },
  {
   "cell_type": "code",
   "execution_count": 1,
   "metadata": {},
   "outputs": [],
   "source": [
    "# import librarys\n",
    "import pandas as pd # for load excel data\n",
    "import pyBigKinds as pbk # for preprocessing news data\n",
    "from sklearn.feature_extraction.text import CountVectorizer # for vectorize text data \n",
    "from konlpy.tag import Mecab # for tokenize the Korean Words\n",
    "from bertopic.vectorizers import ClassTfidfTransformer # for get c-TF-IDF value\n",
    "from bertopic import BERTopic # for load the BERTopic model\n",
    "from hdbscan import HDBSCAN # for tunning the BERTopic model\n",
    "from umap import UMAP # for tunning the BERTopic model\n",
    "\n",
    "# for ignore the warning message\n",
    "import warnings\n",
    "warnings.filterwarnings(\"ignore\")"
   ]
  },
  {
   "cell_type": "code",
   "execution_count": 2,
   "metadata": {},
   "outputs": [],
   "source": [
    "def list_to_str(words: list):\n",
    "    \"\"\"Function that list data change to string for text preprocessing\"\"\"\n",
    "    for i in range(len(words)):\n",
    "        text = \"\"\n",
    "        for word in words[i]:\n",
    "            if text == \"\":\n",
    "                text = word\n",
    "            else: \n",
    "                text = text + \" \" + word\n",
    "        words[i] = text\n",
    "    return words"
   ]
  },
  {
   "cell_type": "code",
   "execution_count": 3,
   "metadata": {},
   "outputs": [],
   "source": [
    "class CustomTokenizer:\n",
    "    \"\"\" Define the Korean Tokenizer\"\"\"\n",
    "    def __init__(self, tagger):\n",
    "        self.tagger = tagger\n",
    "    def __call__(self, sent):\n",
    "        sent = sent[:1000000]\n",
    "        word_tokens = self.tagger.morphs(sent)\n",
    "        result = [word for word in word_tokens if len(word) > 1]\n",
    "        return result"
   ]
  },
  {
   "cell_type": "code",
   "execution_count": 4,
   "metadata": {},
   "outputs": [],
   "source": [
    "# data load\n",
    "# The data is related to Handong University, \n",
    "# which was reported in major Korean daily newspapers from January 1995 to September 2024.\n",
    "df = pd.read_excel(\"data/NewsResult_19950101-20240930.xlsx\", engine=\"openpyxl\")\n",
    "\n",
    "# add the time stamp for ToT\n",
    "df[\"시점\"] = (round(df[\"일자\"]/10000,0)).astype(int)\n",
    "df = df.sort_values(\"시점\")\n",
    "df.reset_index(drop=True, inplace=True)\n",
    "\n",
    "# text Preprocessing \n",
    "words = pbk.keyword_parser(pbk.keyword_list(df))\n",
    "words = list_to_str(words)\n",
    "timestamp = df[\"시점\"].tolist()\n",
    "\n",
    "# Define tokenizer & Vectorizer\n",
    "custom_tokenizer = CustomTokenizer(Mecab())\n",
    "vectorizer = CountVectorizer(tokenizer=custom_tokenizer, max_features=3000)"
   ]
  },
  {
   "cell_type": "code",
   "execution_count": 5,
   "metadata": {},
   "outputs": [],
   "source": [
    "# set the HDBSCAN Model for tunning BERTopic model\n",
    "ctfidf_model = ClassTfidfTransformer(reduce_frequent_words=True)\n",
    "umap_model = UMAP(n_components=5, n_neighbors=15, min_dist=0.1, metric=\"cosine\", random_state=42)\n",
    "hdbscan_model = HDBSCAN(min_samples=10, gen_min_span_tree=True, prediction_data=False, min_cluster_size=20)\n",
    "\n",
    "# Define Topic Model for ToT\n",
    "topic_model = BERTopic(\n",
    "    embedding_model=\"sentence-transformers/xlm-r-100langs-bert-base-nli-stsb-mean-tokens\", \n",
    "    vectorizer_model=vectorizer,\n",
    "    hdbscan_model=hdbscan_model,\n",
    "    ctfidf_model=ctfidf_model,\n",
    "    top_n_words=20,\n",
    "    min_topic_size=20,\n",
    "    verbose=True\n",
    ")"
   ]
  },
  {
   "cell_type": "code",
   "execution_count": 6,
   "metadata": {},
   "outputs": [
    {
     "name": "stderr",
     "output_type": "stream",
     "text": [
      "2024-11-19 16:50:27,376 - BERTopic - Embedding - Transforming documents to embeddings.\n"
     ]
    },
    {
     "data": {
      "application/vnd.jupyter.widget-view+json": {
       "model_id": "8c549b7c27214c718dd3acfcd3ee7abe",
       "version_major": 2,
       "version_minor": 0
      },
      "text/plain": [
       "Batches:   0%|          | 0/252 [00:00<?, ?it/s]"
      ]
     },
     "metadata": {},
     "output_type": "display_data"
    },
    {
     "name": "stderr",
     "output_type": "stream",
     "text": [
      "2024-11-19 16:53:11,223 - BERTopic - Embedding - Completed ✓\n",
      "2024-11-19 16:53:11,225 - BERTopic - Dimensionality - Fitting the dimensionality reduction algorithm\n",
      "OMP: Info #276: omp_set_nested routine deprecated, please use omp_set_max_active_levels instead.\n",
      "2024-11-19 16:53:23,754 - BERTopic - Dimensionality - Completed ✓\n",
      "2024-11-19 16:53:23,755 - BERTopic - Cluster - Start clustering the reduced embeddings\n",
      "2024-11-19 16:53:23,889 - BERTopic - Cluster - Completed ✓\n",
      "2024-11-19 16:53:23,894 - BERTopic - Representation - Extracting topics from clusters using representation models.\n",
      "2024-11-19 16:53:27,424 - BERTopic - Representation - Completed ✓\n"
     ]
    }
   ],
   "source": [
    "# fit the data\n",
    "topics, probs = topic_model.fit_transform(words)"
   ]
  },
  {
   "cell_type": "code",
   "execution_count": 7,
   "metadata": {},
   "outputs": [
    {
     "data": {
      "text/html": [
       "<div>\n",
       "<style scoped>\n",
       "    .dataframe tbody tr th:only-of-type {\n",
       "        vertical-align: middle;\n",
       "    }\n",
       "\n",
       "    .dataframe tbody tr th {\n",
       "        vertical-align: top;\n",
       "    }\n",
       "\n",
       "    .dataframe thead th {\n",
       "        text-align: right;\n",
       "    }\n",
       "</style>\n",
       "<table border=\"1\" class=\"dataframe\">\n",
       "  <thead>\n",
       "    <tr style=\"text-align: right;\">\n",
       "      <th></th>\n",
       "      <th>Topic</th>\n",
       "      <th>Count</th>\n",
       "      <th>Name</th>\n",
       "      <th>Representation</th>\n",
       "      <th>Representative_Docs</th>\n",
       "    </tr>\n",
       "  </thead>\n",
       "  <tbody>\n",
       "    <tr>\n",
       "      <th>0</th>\n",
       "      <td>-1</td>\n",
       "      <td>3414</td>\n",
       "      <td>-1_수시_ac_www_정시</td>\n",
       "      <td>[수시, ac, www, 정시, kr, 히딩크, 모집, 전형, 수능, 총장, 경쟁,...</td>\n",
       "      <td>[수능 학생부 농어촌 실업계 특기자 대상 선발 대학수학능력시험 학교생활 기록부 성적...</td>\n",
       "    </tr>\n",
       "    <tr>\n",
       "      <th>1</th>\n",
       "      <td>0</td>\n",
       "      <td>336</td>\n",
       "      <td>0_20_예비_지정_외국어</td>\n",
       "      <td>[20, 예비, 지정, 외국어, 탐구, 수리, 대학생, 선교사, 과목, 신청, 번역...</td>\n",
       "      <td>[G2시대 동북아질서 재편 천안함 연평도 정면충돌 남북 한반도 평화 안정 건설적 대...</td>\n",
       "    </tr>\n",
       "    <tr>\n",
       "      <th>2</th>\n",
       "      <td>1</td>\n",
       "      <td>225</td>\n",
       "      <td>1_ai_로봇_백신_인공지능</td>\n",
       "      <td>[ai, 로봇, 백신, 인공지능, 진화, 유전자, 유네스코, 인간, 창조, 창업, ...</td>\n",
       "      <td>[네트워크화 시대 효율적 진보 어른들 텔레비전 낭비 과거 어른 어른 세대 휴대전화 ...</td>\n",
       "    </tr>\n",
       "    <tr>\n",
       "      <th>3</th>\n",
       "      <td>2</td>\n",
       "      <td>190</td>\n",
       "      <td>2_30_피지_학과_인원</td>\n",
       "      <td>[30, 피지, 학과, 인원, 공학, 제외, 학부, 기증, 학년도, 특수, 마을, ...</td>\n",
       "      <td>[한동대학교 신앙 학문 조화 지구촌 인재 양성 요람 변화 갱신 요구 한국교회 기독교...</td>\n",
       "    </tr>\n",
       "    <tr>\n",
       "      <th>4</th>\n",
       "      <td>3</td>\n",
       "      <td>154</td>\n",
       "      <td>3_퀴어_누리_동성애_동성애자</td>\n",
       "      <td>[퀴어, 누리, 동성애, 동성애자, 행사, 본부, 고등학교, 시민, 회장, 연합회,...</td>\n",
       "      <td>[성문화 캠퍼스 질서 억압 허구 페미니즘 동성애 대학 화두 금기 터널 대학가 화두 ...</td>\n",
       "    </tr>\n",
       "    <tr>\n",
       "      <th>...</th>\n",
       "      <td>...</td>\n",
       "      <td>...</td>\n",
       "      <td>...</td>\n",
       "      <td>...</td>\n",
       "      <td>...</td>\n",
       "    </tr>\n",
       "    <tr>\n",
       "      <th>64</th>\n",
       "      <td>63</td>\n",
       "      <td>22</td>\n",
       "      <td>63_지선_전신_사고_모교</td>\n",
       "      <td>[지선, 전신, 사고, 모교, 화상, 이지선, 55, 치료, 운전자, 수술, 재활,...</td>\n",
       "      <td>[지선 사랑해 이지선 이대 교수 컴백 사고 23년 모교로 전신 화상 아픔 희망 전도...</td>\n",
       "    </tr>\n",
       "    <tr>\n",
       "      <th>65</th>\n",
       "      <td>64</td>\n",
       "      <td>21</td>\n",
       "      <td>64_사학_석사_학사_31</td>\n",
       "      <td>[사학, 석사, 학사, 31, 역임, 도박, 친서, 박사, 역사, 학회, 포스코, ...</td>\n",
       "      <td>[포항시 협력 글로컬 대학 육성 거버넌스 공식 출범 경북 포항시 글로컬대학 지정 지...</td>\n",
       "    </tr>\n",
       "    <tr>\n",
       "      <th>66</th>\n",
       "      <td>65</td>\n",
       "      <td>21</td>\n",
       "      <td>65_통치_중립_주립_주임</td>\n",
       "      <td>[통치, 중립, 주립, 주임, 일자리, 편입, 글로벌, 가스, 도청, 도시, 동성,...</td>\n",
       "      <td>[미국대학 진학 가능 편입과정 대세 텍사스주립대 글로벌 프론티어 기숙 프로그램 미국...</td>\n",
       "    </tr>\n",
       "    <tr>\n",
       "      <th>67</th>\n",
       "      <td>66</td>\n",
       "      <td>21</td>\n",
       "      <td>66_대학교_내진_합격자_서명</td>\n",
       "      <td>[대학교, 내진, 합격자, 서명, 75, 시국, 등록금, 반값, 지진, 등록, 사이...</td>\n",
       "      <td>[전문가들 정면돌파 장기전 대비 정면 돌파 이례적 나흘간 마라톤 전원 회의 집권 육...</td>\n",
       "    </tr>\n",
       "    <tr>\n",
       "      <th>68</th>\n",
       "      <td>67</td>\n",
       "      <td>20</td>\n",
       "      <td>67_싱가포르_하노이_실무_협상</td>\n",
       "      <td>[싱가포르, 하노이, 실무, 협상, 영변, 선언, 국무, 회담, 종전, 판문점, 비...</td>\n",
       "      <td>[삐걱 등장 친서 외교 반응 북한 새해 담화 가지 등장 정상 친서 새해 도널드 트럼...</td>\n",
       "    </tr>\n",
       "  </tbody>\n",
       "</table>\n",
       "<p>69 rows × 5 columns</p>\n",
       "</div>"
      ],
      "text/plain": [
       "    Topic  Count               Name  \\\n",
       "0      -1   3414    -1_수시_ac_www_정시   \n",
       "1       0    336     0_20_예비_지정_외국어   \n",
       "2       1    225    1_ai_로봇_백신_인공지능   \n",
       "3       2    190      2_30_피지_학과_인원   \n",
       "4       3    154   3_퀴어_누리_동성애_동성애자   \n",
       "..    ...    ...                ...   \n",
       "64     63     22     63_지선_전신_사고_모교   \n",
       "65     64     21     64_사학_석사_학사_31   \n",
       "66     65     21     65_통치_중립_주립_주임   \n",
       "67     66     21   66_대학교_내진_합격자_서명   \n",
       "68     67     20  67_싱가포르_하노이_실무_협상   \n",
       "\n",
       "                                       Representation  \\\n",
       "0   [수시, ac, www, 정시, kr, 히딩크, 모집, 전형, 수능, 총장, 경쟁,...   \n",
       "1   [20, 예비, 지정, 외국어, 탐구, 수리, 대학생, 선교사, 과목, 신청, 번역...   \n",
       "2   [ai, 로봇, 백신, 인공지능, 진화, 유전자, 유네스코, 인간, 창조, 창업, ...   \n",
       "3   [30, 피지, 학과, 인원, 공학, 제외, 학부, 기증, 학년도, 특수, 마을, ...   \n",
       "4   [퀴어, 누리, 동성애, 동성애자, 행사, 본부, 고등학교, 시민, 회장, 연합회,...   \n",
       "..                                                ...   \n",
       "64  [지선, 전신, 사고, 모교, 화상, 이지선, 55, 치료, 운전자, 수술, 재활,...   \n",
       "65  [사학, 석사, 학사, 31, 역임, 도박, 친서, 박사, 역사, 학회, 포스코, ...   \n",
       "66  [통치, 중립, 주립, 주임, 일자리, 편입, 글로벌, 가스, 도청, 도시, 동성,...   \n",
       "67  [대학교, 내진, 합격자, 서명, 75, 시국, 등록금, 반값, 지진, 등록, 사이...   \n",
       "68  [싱가포르, 하노이, 실무, 협상, 영변, 선언, 국무, 회담, 종전, 판문점, 비...   \n",
       "\n",
       "                                  Representative_Docs  \n",
       "0   [수능 학생부 농어촌 실업계 특기자 대상 선발 대학수학능력시험 학교생활 기록부 성적...  \n",
       "1   [G2시대 동북아질서 재편 천안함 연평도 정면충돌 남북 한반도 평화 안정 건설적 대...  \n",
       "2   [네트워크화 시대 효율적 진보 어른들 텔레비전 낭비 과거 어른 어른 세대 휴대전화 ...  \n",
       "3   [한동대학교 신앙 학문 조화 지구촌 인재 양성 요람 변화 갱신 요구 한국교회 기독교...  \n",
       "4   [성문화 캠퍼스 질서 억압 허구 페미니즘 동성애 대학 화두 금기 터널 대학가 화두 ...  \n",
       "..                                                ...  \n",
       "64  [지선 사랑해 이지선 이대 교수 컴백 사고 23년 모교로 전신 화상 아픔 희망 전도...  \n",
       "65  [포항시 협력 글로컬 대학 육성 거버넌스 공식 출범 경북 포항시 글로컬대학 지정 지...  \n",
       "66  [미국대학 진학 가능 편입과정 대세 텍사스주립대 글로벌 프론티어 기숙 프로그램 미국...  \n",
       "67  [전문가들 정면돌파 장기전 대비 정면 돌파 이례적 나흘간 마라톤 전원 회의 집권 육...  \n",
       "68  [삐걱 등장 친서 외교 반응 북한 새해 담화 가지 등장 정상 친서 새해 도널드 트럼...  \n",
       "\n",
       "[69 rows x 5 columns]"
      ]
     },
     "execution_count": 7,
     "metadata": {},
     "output_type": "execute_result"
    }
   ],
   "source": [
    "# show topic dataframe\n",
    "topic_model.get_topic_info()"
   ]
  },
  {
   "cell_type": "code",
   "execution_count": 8,
   "metadata": {},
   "outputs": [
    {
     "data": {
      "application/vnd.plotly.v1+json": {
       "config": {
        "plotlyServerURL": "https://plot.ly"
       },
       "data": [
        {
         "customdata": [
          [
           0,
           "20 | 예비 | 지정 | 외국어 | 탐구",
           336
          ],
          [
           1,
           "ai | 로봇 | 백신 | 인공지능 | 진화",
           225
          ],
          [
           2,
           "30 | 피지 | 학과 | 인원 | 공학",
           190
          ],
          [
           3,
           "퀴어 | 누리 | 동성애 | 동성애자 | 행사",
           154
          ],
          [
           4,
           "반영 | 순위 | 평판 | 부친상 | 비율",
           150
          ],
          [
           5,
           "지진 | 15 | 옥수수 | 건물 | 발생",
           143
          ],
          [
           6,
           "지정 | 건대 | 통합 | 10 | 사정관",
           142
          ],
          [
           7,
           "통일부 | 헌법 | 단군 | 헌재 | 민원",
           136
          ],
          [
           8,
           "발인 | 대회 | 혐오 | 재판 | 한국어",
           130
          ],
          [
           9,
           "미사일 | 발사 | icbm | 도발 | 탄도",
           125
          ],
          [
           10,
           "25 | 블로그 | 가족 | 성경 | 대안",
           121
          ],
          [
           11,
           "중국 | 주석 | 외교 | 회담 | 시진핑",
           119
          ],
          [
           12,
           "지소 | 미아 | 종료 | 오바마 | 안보",
           114
          ],
          [
           13,
           "김치 | 벽돌 | 코스타 | 선교 | 논술",
           103
          ],
          [
           14,
           "트럼프 | 대통령 | 회담 | 북미 | 정상",
           95
          ],
          [
           15,
           "28 | esg | 29 | 게임 | 발인",
           95
          ],
          [
           16,
           "지진 | 대피 | 피해 | 발생 | 아파트",
           93
          ],
          [
           17,
           "남북 | 비핵화 | 대북 | 종전 | 선언",
           88
          ],
          [
           18,
           "50 | 중앙일보 | 교대 | 신대 | 교과",
           81
          ],
          [
           19,
           "21 | 추천자 | 특차 | 23 | 피지",
           77
          ],
          [
           20,
           "19 | 만점 | 18 | 아이 | 친구",
           64
          ],
          [
           21,
           "가산점 | 점수 | 사업단 | 분위 | 경선",
           63
          ],
          [
           22,
           "10 | 태권 | 화학 | 12 | 판결",
           63
          ],
          [
           23,
           "미군 | 주한 | 지소 | 미아 | 종료",
           62
          ],
          [
           24,
           "교대 | 일괄 | 합산 | 적정 | 보직",
           61
          ],
          [
           25,
           "회담 | 대화 | 정상 | 협정 | 안보",
           61
          ],
          [
           26,
           "예수 | 지옥 | 하나님 | 동성애 | 교리",
           61
          ],
          [
           27,
           "발인 | 12 | 부친상 | 병원 | 세브",
           58
          ],
          [
           28,
           "유엔사 | 17 | 출장 | 작전 | 사령관",
           56
          ],
          [
           29,
           "00 | 특강 | 전지 | 송도 | 명회",
           56
          ],
          [
           30,
           "70 | 지수 | 보험 | 동맹 | 조약",
           56
          ],
          [
           31,
           "재판관 | 법관 | 분과 | 헌법 | 만점",
           53
          ],
          [
           32,
           "인터넷 | 11 | 투스 | 지수 | 부문",
           49
          ],
          [
           33,
           "트럼프 | 보좌관 | 북미 | 행정부 | 판문점",
           49
          ],
          [
           34,
           "동포 | 100 | 식당 | 사정관 | 의혹",
           47
          ],
          [
           35,
           "남북 | 대남 | nll | 관계 | 한반도",
           46
          ],
          [
           36,
           "바이오 | 지능 | 인공 | 인공지능 | 레이저",
           45
          ],
          [
           37,
           "검찰 | 수사 | 사법 | 금법 | 권위",
           45
          ],
          [
           38,
           "영화 | 상영 | 코드 | 영화제 | dna",
           44
          ],
          [
           39,
           "80 | 대안 | 실업 | 전형 | 세계관",
           44
          ],
          [
           40,
           "원자력 | 법률가 | 동해안 | 13 | 원전",
           44
          ],
          [
           41,
           "채플 | 발인 | 소수자 | 공론 | 병원",
           41
          ],
          [
           42,
           "사무 | 처장 | 초교 | 사무총장 | 국장",
           41
          ],
          [
           43,
           "26 | 입국 | 특보 | 대담 | 투스",
           40
          ],
          [
           44,
           "무급 | 휴직 | 전단 | 반환 | 방미",
           39
          ],
          [
           45,
           "구절 | 200 | 시국 | 상자 | 명회",
           38
          ],
          [
           46,
           "샘플 | 광고 | 변증 | 스타 | 포스코",
           38
          ],
          [
           47,
           "신대 | 충남 | 교대 | 원대 | 가톨릭",
           35
          ],
          [
           48,
           "24 | 폭파 | 기숙사 | 에너지 | 폐기",
           35
          ],
          [
           49,
           "23 | 주주 | 교차 | 법조 | 베트남",
           34
          ],
          [
           50,
           "sw | 커닝 | 서해 | 유공자 | 직원",
           34
          ],
          [
           51,
           "지수 | 부문 | 자궁 | 명성 | 증권",
           32
          ],
          [
           52,
           "자전거 | 종로 | 가격 | 도로 | 전지",
           30
          ],
          [
           53,
           "사정관 | 27 | 진로 | 독립운동 | 파크",
           29
          ],
          [
           54,
           "고양이 | 길고양이 | 이승만 | 동물 | tv",
           27
          ],
          [
           55,
           "커닝 | 레이저 | 국적 | 판결 | 추방",
           27
          ],
          [
           56,
           "14 | 차세대 | 세대 | 경연 | 어린이",
           26
          ],
          [
           57,
           "인성 | 적성 | 면접 | 독자 | 구술",
           25
          ],
          [
           58,
           "법정 | 구속 | 혐의 | 후보 | 징역",
           24
          ],
          [
           59,
           "sma | 무급 | 분담금 | 방위비 | 휴직",
           24
          ],
          [
           60,
           "인상 | 구매 | 방위비 | 파병 | 정당",
           24
          ],
          [
           61,
           "총장 | 신학 | 학번 | 61 | 59",
           23
          ],
          [
           62,
           "검정고시 | 주식 | 전년 | 학년도 | 학업",
           22
          ],
          [
           63,
           "지선 | 전신 | 사고 | 모교 | 화상",
           22
          ],
          [
           64,
           "사학 | 석사 | 학사 | 31 | 역임",
           21
          ],
          [
           65,
           "통치 | 중립 | 주립 | 주임 | 일자리",
           21
          ],
          [
           66,
           "대학교 | 내진 | 합격자 | 서명 | 75",
           21
          ],
          [
           67,
           "싱가포르 | 하노이 | 실무 | 협상 | 영변",
           20
          ]
         ],
         "hovertemplate": "<b>Topic %{customdata[0]}</b><br>%{customdata[1]}<br>Size: %{customdata[2]}",
         "legendgroup": "",
         "marker": {
          "color": "#B0BEC5",
          "line": {
           "color": "DarkSlateGrey",
           "width": 2
          },
          "size": [
           336,
           225,
           190,
           154,
           150,
           143,
           142,
           136,
           130,
           125,
           121,
           119,
           114,
           103,
           95,
           95,
           93,
           88,
           81,
           77,
           64,
           63,
           63,
           62,
           61,
           61,
           61,
           58,
           56,
           56,
           56,
           53,
           49,
           49,
           47,
           46,
           45,
           45,
           44,
           44,
           44,
           41,
           41,
           40,
           39,
           38,
           38,
           35,
           35,
           34,
           34,
           32,
           30,
           29,
           27,
           27,
           26,
           25,
           24,
           24,
           24,
           23,
           22,
           22,
           21,
           21,
           21,
           20
          ],
          "sizemode": "area",
          "sizeref": 0.21,
          "symbol": "circle"
         },
         "mode": "markers",
         "name": "",
         "orientation": "v",
         "showlegend": false,
         "type": "scatter",
         "x": [
          -2.1049959659576416,
          12.518321990966797,
          -2.711242437362671,
          -2.74774432182312,
          4.5011396408081055,
          5.429379463195801,
          -1.4514719247817993,
          -2.8218536376953125,
          -5.1339569091796875,
          0.7948443293571472,
          -9.27375602722168,
          0.6156357526779175,
          12.536335945129395,
          -4.049286842346191,
          0.9837915897369385,
          -9.622005462646484,
          -3.205099105834961,
          0.8706758618354797,
          4.842056751251221,
          -9.217681884765625,
          5.419321537017822,
          7.45538854598999,
          5.753489017486572,
          0.7554221749305725,
          6.997701168060303,
          0.6686141490936279,
          7.377290725708008,
          -15.070769309997559,
          5.42313814163208,
          -3.2852160930633545,
          5.773586273193359,
          -2.762240409851074,
          -2.4810051918029785,
          0.9299766421318054,
          -1.4371737241744995,
          0.9353037476539612,
          -4.299849033355713,
          5.468303680419922,
          2.5310781002044678,
          -5.2951579093933105,
          -15.165680885314941,
          -4.818553924560547,
          5.433226108551025,
          -9.357122421264648,
          -2.451413869857788,
          -2.231241226196289,
          6.113811492919922,
          -2.4581942558288574,
          -9.150978088378906,
          -9.153660774230957,
          -2.455029010772705,
          12.437981605529785,
          5.271561622619629,
          -9.547586441040039,
          2.53110671043396,
          6.459273338317871,
          -15.304730415344238,
          5.813084125518799,
          -2.7196476459503174,
          7.208295822143555,
          6.9164628982543945,
          -4.493235111236572,
          5.582901954650879,
          4.427154541015625,
          -2.711879014968872,
          -4.219066619873047,
          5.903483867645264,
          0.4768963158130646
         ],
         "xaxis": "x",
         "y": [
          7.960432052612305,
          -0.8820740580558777,
          -8.792945861816406,
          9.033710479736328,
          9.851245880126953,
          10.840042114257812,
          14.354000091552734,
          9.141948699951172,
          7.686538219451904,
          -4.257425785064697,
          3.98095440864563,
          -5.010410308837891,
          -0.9006227850914001,
          7.906558513641357,
          -4.0844526290893555,
          4.329614639282227,
          8.375541687011719,
          -5.432563781738281,
          9.861359596252441,
          -4.266043186187744,
          9.925134658813477,
          1.9995566606521606,
          2.793874740600586,
          -5.053602695465088,
          2.417351007461548,
          -5.109986305236816,
          2.074350357055664,
          9.629901885986328,
          10.352921485900879,
          8.238110542297363,
          2.0775699615478516,
          7.964155673980713,
          7.839699745178223,
          -4.1677093505859375,
          14.396309852600098,
          -5.447956085205078,
          8.277436256408691,
          3.0680418014526367,
          21.50960350036621,
          7.743512153625488,
          9.7236967086792,
          7.581240177154541,
          10.814373016357422,
          4.063611030578613,
          18.41200065612793,
          7.87003755569458,
          2.515455484390259,
          9.212259292602539,
          -4.199278831481934,
          -4.201943397521973,
          18.395729064941406,
          -0.8036072850227356,
          9.821555137634277,
          4.254158020019531,
          21.509632110595703,
          2.506572723388672,
          9.861099243164062,
          2.8761672973632812,
          9.111231803894043,
          2.2139639854431152,
          2.5269689559936523,
          7.624269008636475,
          10.223386764526367,
          9.84520149230957,
          -8.793509483337402,
          8.146805763244629,
          2.182901382446289,
          -5.171179294586182
         ],
         "yaxis": "y"
        }
       ],
       "layout": {
        "annotations": [
         {
          "showarrow": false,
          "text": "D1",
          "x": -17.600439977645873,
          "y": 7.311770510673524,
          "yshift": 10
         },
         {
          "showarrow": false,
          "text": "D2",
          "x": -1.5918268203735346,
          "xshift": 10,
          "y": 24.73607692718506
         }
        ],
        "height": 650,
        "hoverlabel": {
         "bgcolor": "white",
         "font": {
          "family": "Rockwell",
          "size": 16
         }
        },
        "legend": {
         "itemsizing": "constant",
         "tracegroupgap": 0
        },
        "margin": {
         "t": 60
        },
        "shapes": [
         {
          "line": {
           "color": "#CFD8DC",
           "width": 2
          },
          "type": "line",
          "x0": -1.5918268203735346,
          "x1": -1.5918268203735346,
          "y0": -10.112535905838012,
          "y1": 24.73607692718506
         },
         {
          "line": {
           "color": "#9E9E9E",
           "width": 2
          },
          "type": "line",
          "x0": -17.600439977645873,
          "x1": 14.416786336898804,
          "y0": 7.311770510673524,
          "y1": 7.311770510673524
         }
        ],
        "sliders": [
         {
          "active": 0,
          "pad": {
           "t": 50
          },
          "steps": [
           {
            "args": [
             {
              "marker.color": [
               [
                "red",
                "#B0BEC5",
                "#B0BEC5",
                "#B0BEC5",
                "#B0BEC5",
                "#B0BEC5",
                "#B0BEC5",
                "#B0BEC5",
                "#B0BEC5",
                "#B0BEC5",
                "#B0BEC5",
                "#B0BEC5",
                "#B0BEC5",
                "#B0BEC5",
                "#B0BEC5",
                "#B0BEC5",
                "#B0BEC5",
                "#B0BEC5",
                "#B0BEC5",
                "#B0BEC5",
                "#B0BEC5",
                "#B0BEC5",
                "#B0BEC5",
                "#B0BEC5",
                "#B0BEC5",
                "#B0BEC5",
                "#B0BEC5",
                "#B0BEC5",
                "#B0BEC5",
                "#B0BEC5",
                "#B0BEC5",
                "#B0BEC5",
                "#B0BEC5",
                "#B0BEC5",
                "#B0BEC5",
                "#B0BEC5",
                "#B0BEC5",
                "#B0BEC5",
                "#B0BEC5",
                "#B0BEC5",
                "#B0BEC5",
                "#B0BEC5",
                "#B0BEC5",
                "#B0BEC5",
                "#B0BEC5",
                "#B0BEC5",
                "#B0BEC5",
                "#B0BEC5",
                "#B0BEC5",
                "#B0BEC5",
                "#B0BEC5",
                "#B0BEC5",
                "#B0BEC5",
                "#B0BEC5",
                "#B0BEC5",
                "#B0BEC5",
                "#B0BEC5",
                "#B0BEC5",
                "#B0BEC5",
                "#B0BEC5",
                "#B0BEC5",
                "#B0BEC5",
                "#B0BEC5",
                "#B0BEC5",
                "#B0BEC5",
                "#B0BEC5",
                "#B0BEC5",
                "#B0BEC5"
               ]
              ]
             }
            ],
            "label": "Topic 0",
            "method": "update"
           },
           {
            "args": [
             {
              "marker.color": [
               [
                "#B0BEC5",
                "red",
                "#B0BEC5",
                "#B0BEC5",
                "#B0BEC5",
                "#B0BEC5",
                "#B0BEC5",
                "#B0BEC5",
                "#B0BEC5",
                "#B0BEC5",
                "#B0BEC5",
                "#B0BEC5",
                "#B0BEC5",
                "#B0BEC5",
                "#B0BEC5",
                "#B0BEC5",
                "#B0BEC5",
                "#B0BEC5",
                "#B0BEC5",
                "#B0BEC5",
                "#B0BEC5",
                "#B0BEC5",
                "#B0BEC5",
                "#B0BEC5",
                "#B0BEC5",
                "#B0BEC5",
                "#B0BEC5",
                "#B0BEC5",
                "#B0BEC5",
                "#B0BEC5",
                "#B0BEC5",
                "#B0BEC5",
                "#B0BEC5",
                "#B0BEC5",
                "#B0BEC5",
                "#B0BEC5",
                "#B0BEC5",
                "#B0BEC5",
                "#B0BEC5",
                "#B0BEC5",
                "#B0BEC5",
                "#B0BEC5",
                "#B0BEC5",
                "#B0BEC5",
                "#B0BEC5",
                "#B0BEC5",
                "#B0BEC5",
                "#B0BEC5",
                "#B0BEC5",
                "#B0BEC5",
                "#B0BEC5",
                "#B0BEC5",
                "#B0BEC5",
                "#B0BEC5",
                "#B0BEC5",
                "#B0BEC5",
                "#B0BEC5",
                "#B0BEC5",
                "#B0BEC5",
                "#B0BEC5",
                "#B0BEC5",
                "#B0BEC5",
                "#B0BEC5",
                "#B0BEC5",
                "#B0BEC5",
                "#B0BEC5",
                "#B0BEC5",
                "#B0BEC5"
               ]
              ]
             }
            ],
            "label": "Topic 1",
            "method": "update"
           },
           {
            "args": [
             {
              "marker.color": [
               [
                "#B0BEC5",
                "#B0BEC5",
                "red",
                "#B0BEC5",
                "#B0BEC5",
                "#B0BEC5",
                "#B0BEC5",
                "#B0BEC5",
                "#B0BEC5",
                "#B0BEC5",
                "#B0BEC5",
                "#B0BEC5",
                "#B0BEC5",
                "#B0BEC5",
                "#B0BEC5",
                "#B0BEC5",
                "#B0BEC5",
                "#B0BEC5",
                "#B0BEC5",
                "#B0BEC5",
                "#B0BEC5",
                "#B0BEC5",
                "#B0BEC5",
                "#B0BEC5",
                "#B0BEC5",
                "#B0BEC5",
                "#B0BEC5",
                "#B0BEC5",
                "#B0BEC5",
                "#B0BEC5",
                "#B0BEC5",
                "#B0BEC5",
                "#B0BEC5",
                "#B0BEC5",
                "#B0BEC5",
                "#B0BEC5",
                "#B0BEC5",
                "#B0BEC5",
                "#B0BEC5",
                "#B0BEC5",
                "#B0BEC5",
                "#B0BEC5",
                "#B0BEC5",
                "#B0BEC5",
                "#B0BEC5",
                "#B0BEC5",
                "#B0BEC5",
                "#B0BEC5",
                "#B0BEC5",
                "#B0BEC5",
                "#B0BEC5",
                "#B0BEC5",
                "#B0BEC5",
                "#B0BEC5",
                "#B0BEC5",
                "#B0BEC5",
                "#B0BEC5",
                "#B0BEC5",
                "#B0BEC5",
                "#B0BEC5",
                "#B0BEC5",
                "#B0BEC5",
                "#B0BEC5",
                "#B0BEC5",
                "#B0BEC5",
                "#B0BEC5",
                "#B0BEC5",
                "#B0BEC5"
               ]
              ]
             }
            ],
            "label": "Topic 2",
            "method": "update"
           },
           {
            "args": [
             {
              "marker.color": [
               [
                "#B0BEC5",
                "#B0BEC5",
                "#B0BEC5",
                "red",
                "#B0BEC5",
                "#B0BEC5",
                "#B0BEC5",
                "#B0BEC5",
                "#B0BEC5",
                "#B0BEC5",
                "#B0BEC5",
                "#B0BEC5",
                "#B0BEC5",
                "#B0BEC5",
                "#B0BEC5",
                "#B0BEC5",
                "#B0BEC5",
                "#B0BEC5",
                "#B0BEC5",
                "#B0BEC5",
                "#B0BEC5",
                "#B0BEC5",
                "#B0BEC5",
                "#B0BEC5",
                "#B0BEC5",
                "#B0BEC5",
                "#B0BEC5",
                "#B0BEC5",
                "#B0BEC5",
                "#B0BEC5",
                "#B0BEC5",
                "#B0BEC5",
                "#B0BEC5",
                "#B0BEC5",
                "#B0BEC5",
                "#B0BEC5",
                "#B0BEC5",
                "#B0BEC5",
                "#B0BEC5",
                "#B0BEC5",
                "#B0BEC5",
                "#B0BEC5",
                "#B0BEC5",
                "#B0BEC5",
                "#B0BEC5",
                "#B0BEC5",
                "#B0BEC5",
                "#B0BEC5",
                "#B0BEC5",
                "#B0BEC5",
                "#B0BEC5",
                "#B0BEC5",
                "#B0BEC5",
                "#B0BEC5",
                "#B0BEC5",
                "#B0BEC5",
                "#B0BEC5",
                "#B0BEC5",
                "#B0BEC5",
                "#B0BEC5",
                "#B0BEC5",
                "#B0BEC5",
                "#B0BEC5",
                "#B0BEC5",
                "#B0BEC5",
                "#B0BEC5",
                "#B0BEC5",
                "#B0BEC5"
               ]
              ]
             }
            ],
            "label": "Topic 3",
            "method": "update"
           },
           {
            "args": [
             {
              "marker.color": [
               [
                "#B0BEC5",
                "#B0BEC5",
                "#B0BEC5",
                "#B0BEC5",
                "red",
                "#B0BEC5",
                "#B0BEC5",
                "#B0BEC5",
                "#B0BEC5",
                "#B0BEC5",
                "#B0BEC5",
                "#B0BEC5",
                "#B0BEC5",
                "#B0BEC5",
                "#B0BEC5",
                "#B0BEC5",
                "#B0BEC5",
                "#B0BEC5",
                "#B0BEC5",
                "#B0BEC5",
                "#B0BEC5",
                "#B0BEC5",
                "#B0BEC5",
                "#B0BEC5",
                "#B0BEC5",
                "#B0BEC5",
                "#B0BEC5",
                "#B0BEC5",
                "#B0BEC5",
                "#B0BEC5",
                "#B0BEC5",
                "#B0BEC5",
                "#B0BEC5",
                "#B0BEC5",
                "#B0BEC5",
                "#B0BEC5",
                "#B0BEC5",
                "#B0BEC5",
                "#B0BEC5",
                "#B0BEC5",
                "#B0BEC5",
                "#B0BEC5",
                "#B0BEC5",
                "#B0BEC5",
                "#B0BEC5",
                "#B0BEC5",
                "#B0BEC5",
                "#B0BEC5",
                "#B0BEC5",
                "#B0BEC5",
                "#B0BEC5",
                "#B0BEC5",
                "#B0BEC5",
                "#B0BEC5",
                "#B0BEC5",
                "#B0BEC5",
                "#B0BEC5",
                "#B0BEC5",
                "#B0BEC5",
                "#B0BEC5",
                "#B0BEC5",
                "#B0BEC5",
                "#B0BEC5",
                "#B0BEC5",
                "#B0BEC5",
                "#B0BEC5",
                "#B0BEC5",
                "#B0BEC5"
               ]
              ]
             }
            ],
            "label": "Topic 4",
            "method": "update"
           },
           {
            "args": [
             {
              "marker.color": [
               [
                "#B0BEC5",
                "#B0BEC5",
                "#B0BEC5",
                "#B0BEC5",
                "#B0BEC5",
                "red",
                "#B0BEC5",
                "#B0BEC5",
                "#B0BEC5",
                "#B0BEC5",
                "#B0BEC5",
                "#B0BEC5",
                "#B0BEC5",
                "#B0BEC5",
                "#B0BEC5",
                "#B0BEC5",
                "#B0BEC5",
                "#B0BEC5",
                "#B0BEC5",
                "#B0BEC5",
                "#B0BEC5",
                "#B0BEC5",
                "#B0BEC5",
                "#B0BEC5",
                "#B0BEC5",
                "#B0BEC5",
                "#B0BEC5",
                "#B0BEC5",
                "#B0BEC5",
                "#B0BEC5",
                "#B0BEC5",
                "#B0BEC5",
                "#B0BEC5",
                "#B0BEC5",
                "#B0BEC5",
                "#B0BEC5",
                "#B0BEC5",
                "#B0BEC5",
                "#B0BEC5",
                "#B0BEC5",
                "#B0BEC5",
                "#B0BEC5",
                "#B0BEC5",
                "#B0BEC5",
                "#B0BEC5",
                "#B0BEC5",
                "#B0BEC5",
                "#B0BEC5",
                "#B0BEC5",
                "#B0BEC5",
                "#B0BEC5",
                "#B0BEC5",
                "#B0BEC5",
                "#B0BEC5",
                "#B0BEC5",
                "#B0BEC5",
                "#B0BEC5",
                "#B0BEC5",
                "#B0BEC5",
                "#B0BEC5",
                "#B0BEC5",
                "#B0BEC5",
                "#B0BEC5",
                "#B0BEC5",
                "#B0BEC5",
                "#B0BEC5",
                "#B0BEC5",
                "#B0BEC5"
               ]
              ]
             }
            ],
            "label": "Topic 5",
            "method": "update"
           },
           {
            "args": [
             {
              "marker.color": [
               [
                "#B0BEC5",
                "#B0BEC5",
                "#B0BEC5",
                "#B0BEC5",
                "#B0BEC5",
                "#B0BEC5",
                "red",
                "#B0BEC5",
                "#B0BEC5",
                "#B0BEC5",
                "#B0BEC5",
                "#B0BEC5",
                "#B0BEC5",
                "#B0BEC5",
                "#B0BEC5",
                "#B0BEC5",
                "#B0BEC5",
                "#B0BEC5",
                "#B0BEC5",
                "#B0BEC5",
                "#B0BEC5",
                "#B0BEC5",
                "#B0BEC5",
                "#B0BEC5",
                "#B0BEC5",
                "#B0BEC5",
                "#B0BEC5",
                "#B0BEC5",
                "#B0BEC5",
                "#B0BEC5",
                "#B0BEC5",
                "#B0BEC5",
                "#B0BEC5",
                "#B0BEC5",
                "#B0BEC5",
                "#B0BEC5",
                "#B0BEC5",
                "#B0BEC5",
                "#B0BEC5",
                "#B0BEC5",
                "#B0BEC5",
                "#B0BEC5",
                "#B0BEC5",
                "#B0BEC5",
                "#B0BEC5",
                "#B0BEC5",
                "#B0BEC5",
                "#B0BEC5",
                "#B0BEC5",
                "#B0BEC5",
                "#B0BEC5",
                "#B0BEC5",
                "#B0BEC5",
                "#B0BEC5",
                "#B0BEC5",
                "#B0BEC5",
                "#B0BEC5",
                "#B0BEC5",
                "#B0BEC5",
                "#B0BEC5",
                "#B0BEC5",
                "#B0BEC5",
                "#B0BEC5",
                "#B0BEC5",
                "#B0BEC5",
                "#B0BEC5",
                "#B0BEC5",
                "#B0BEC5"
               ]
              ]
             }
            ],
            "label": "Topic 6",
            "method": "update"
           },
           {
            "args": [
             {
              "marker.color": [
               [
                "#B0BEC5",
                "#B0BEC5",
                "#B0BEC5",
                "#B0BEC5",
                "#B0BEC5",
                "#B0BEC5",
                "#B0BEC5",
                "red",
                "#B0BEC5",
                "#B0BEC5",
                "#B0BEC5",
                "#B0BEC5",
                "#B0BEC5",
                "#B0BEC5",
                "#B0BEC5",
                "#B0BEC5",
                "#B0BEC5",
                "#B0BEC5",
                "#B0BEC5",
                "#B0BEC5",
                "#B0BEC5",
                "#B0BEC5",
                "#B0BEC5",
                "#B0BEC5",
                "#B0BEC5",
                "#B0BEC5",
                "#B0BEC5",
                "#B0BEC5",
                "#B0BEC5",
                "#B0BEC5",
                "#B0BEC5",
                "#B0BEC5",
                "#B0BEC5",
                "#B0BEC5",
                "#B0BEC5",
                "#B0BEC5",
                "#B0BEC5",
                "#B0BEC5",
                "#B0BEC5",
                "#B0BEC5",
                "#B0BEC5",
                "#B0BEC5",
                "#B0BEC5",
                "#B0BEC5",
                "#B0BEC5",
                "#B0BEC5",
                "#B0BEC5",
                "#B0BEC5",
                "#B0BEC5",
                "#B0BEC5",
                "#B0BEC5",
                "#B0BEC5",
                "#B0BEC5",
                "#B0BEC5",
                "#B0BEC5",
                "#B0BEC5",
                "#B0BEC5",
                "#B0BEC5",
                "#B0BEC5",
                "#B0BEC5",
                "#B0BEC5",
                "#B0BEC5",
                "#B0BEC5",
                "#B0BEC5",
                "#B0BEC5",
                "#B0BEC5",
                "#B0BEC5",
                "#B0BEC5"
               ]
              ]
             }
            ],
            "label": "Topic 7",
            "method": "update"
           },
           {
            "args": [
             {
              "marker.color": [
               [
                "#B0BEC5",
                "#B0BEC5",
                "#B0BEC5",
                "#B0BEC5",
                "#B0BEC5",
                "#B0BEC5",
                "#B0BEC5",
                "#B0BEC5",
                "red",
                "#B0BEC5",
                "#B0BEC5",
                "#B0BEC5",
                "#B0BEC5",
                "#B0BEC5",
                "#B0BEC5",
                "#B0BEC5",
                "#B0BEC5",
                "#B0BEC5",
                "#B0BEC5",
                "#B0BEC5",
                "#B0BEC5",
                "#B0BEC5",
                "#B0BEC5",
                "#B0BEC5",
                "#B0BEC5",
                "#B0BEC5",
                "#B0BEC5",
                "#B0BEC5",
                "#B0BEC5",
                "#B0BEC5",
                "#B0BEC5",
                "#B0BEC5",
                "#B0BEC5",
                "#B0BEC5",
                "#B0BEC5",
                "#B0BEC5",
                "#B0BEC5",
                "#B0BEC5",
                "#B0BEC5",
                "#B0BEC5",
                "#B0BEC5",
                "#B0BEC5",
                "#B0BEC5",
                "#B0BEC5",
                "#B0BEC5",
                "#B0BEC5",
                "#B0BEC5",
                "#B0BEC5",
                "#B0BEC5",
                "#B0BEC5",
                "#B0BEC5",
                "#B0BEC5",
                "#B0BEC5",
                "#B0BEC5",
                "#B0BEC5",
                "#B0BEC5",
                "#B0BEC5",
                "#B0BEC5",
                "#B0BEC5",
                "#B0BEC5",
                "#B0BEC5",
                "#B0BEC5",
                "#B0BEC5",
                "#B0BEC5",
                "#B0BEC5",
                "#B0BEC5",
                "#B0BEC5",
                "#B0BEC5"
               ]
              ]
             }
            ],
            "label": "Topic 8",
            "method": "update"
           },
           {
            "args": [
             {
              "marker.color": [
               [
                "#B0BEC5",
                "#B0BEC5",
                "#B0BEC5",
                "#B0BEC5",
                "#B0BEC5",
                "#B0BEC5",
                "#B0BEC5",
                "#B0BEC5",
                "#B0BEC5",
                "red",
                "#B0BEC5",
                "#B0BEC5",
                "#B0BEC5",
                "#B0BEC5",
                "#B0BEC5",
                "#B0BEC5",
                "#B0BEC5",
                "#B0BEC5",
                "#B0BEC5",
                "#B0BEC5",
                "#B0BEC5",
                "#B0BEC5",
                "#B0BEC5",
                "#B0BEC5",
                "#B0BEC5",
                "#B0BEC5",
                "#B0BEC5",
                "#B0BEC5",
                "#B0BEC5",
                "#B0BEC5",
                "#B0BEC5",
                "#B0BEC5",
                "#B0BEC5",
                "#B0BEC5",
                "#B0BEC5",
                "#B0BEC5",
                "#B0BEC5",
                "#B0BEC5",
                "#B0BEC5",
                "#B0BEC5",
                "#B0BEC5",
                "#B0BEC5",
                "#B0BEC5",
                "#B0BEC5",
                "#B0BEC5",
                "#B0BEC5",
                "#B0BEC5",
                "#B0BEC5",
                "#B0BEC5",
                "#B0BEC5",
                "#B0BEC5",
                "#B0BEC5",
                "#B0BEC5",
                "#B0BEC5",
                "#B0BEC5",
                "#B0BEC5",
                "#B0BEC5",
                "#B0BEC5",
                "#B0BEC5",
                "#B0BEC5",
                "#B0BEC5",
                "#B0BEC5",
                "#B0BEC5",
                "#B0BEC5",
                "#B0BEC5",
                "#B0BEC5",
                "#B0BEC5",
                "#B0BEC5"
               ]
              ]
             }
            ],
            "label": "Topic 9",
            "method": "update"
           },
           {
            "args": [
             {
              "marker.color": [
               [
                "#B0BEC5",
                "#B0BEC5",
                "#B0BEC5",
                "#B0BEC5",
                "#B0BEC5",
                "#B0BEC5",
                "#B0BEC5",
                "#B0BEC5",
                "#B0BEC5",
                "#B0BEC5",
                "red",
                "#B0BEC5",
                "#B0BEC5",
                "#B0BEC5",
                "#B0BEC5",
                "#B0BEC5",
                "#B0BEC5",
                "#B0BEC5",
                "#B0BEC5",
                "#B0BEC5",
                "#B0BEC5",
                "#B0BEC5",
                "#B0BEC5",
                "#B0BEC5",
                "#B0BEC5",
                "#B0BEC5",
                "#B0BEC5",
                "#B0BEC5",
                "#B0BEC5",
                "#B0BEC5",
                "#B0BEC5",
                "#B0BEC5",
                "#B0BEC5",
                "#B0BEC5",
                "#B0BEC5",
                "#B0BEC5",
                "#B0BEC5",
                "#B0BEC5",
                "#B0BEC5",
                "#B0BEC5",
                "#B0BEC5",
                "#B0BEC5",
                "#B0BEC5",
                "#B0BEC5",
                "#B0BEC5",
                "#B0BEC5",
                "#B0BEC5",
                "#B0BEC5",
                "#B0BEC5",
                "#B0BEC5",
                "#B0BEC5",
                "#B0BEC5",
                "#B0BEC5",
                "#B0BEC5",
                "#B0BEC5",
                "#B0BEC5",
                "#B0BEC5",
                "#B0BEC5",
                "#B0BEC5",
                "#B0BEC5",
                "#B0BEC5",
                "#B0BEC5",
                "#B0BEC5",
                "#B0BEC5",
                "#B0BEC5",
                "#B0BEC5",
                "#B0BEC5",
                "#B0BEC5"
               ]
              ]
             }
            ],
            "label": "Topic 10",
            "method": "update"
           },
           {
            "args": [
             {
              "marker.color": [
               [
                "#B0BEC5",
                "#B0BEC5",
                "#B0BEC5",
                "#B0BEC5",
                "#B0BEC5",
                "#B0BEC5",
                "#B0BEC5",
                "#B0BEC5",
                "#B0BEC5",
                "#B0BEC5",
                "#B0BEC5",
                "red",
                "#B0BEC5",
                "#B0BEC5",
                "#B0BEC5",
                "#B0BEC5",
                "#B0BEC5",
                "#B0BEC5",
                "#B0BEC5",
                "#B0BEC5",
                "#B0BEC5",
                "#B0BEC5",
                "#B0BEC5",
                "#B0BEC5",
                "#B0BEC5",
                "#B0BEC5",
                "#B0BEC5",
                "#B0BEC5",
                "#B0BEC5",
                "#B0BEC5",
                "#B0BEC5",
                "#B0BEC5",
                "#B0BEC5",
                "#B0BEC5",
                "#B0BEC5",
                "#B0BEC5",
                "#B0BEC5",
                "#B0BEC5",
                "#B0BEC5",
                "#B0BEC5",
                "#B0BEC5",
                "#B0BEC5",
                "#B0BEC5",
                "#B0BEC5",
                "#B0BEC5",
                "#B0BEC5",
                "#B0BEC5",
                "#B0BEC5",
                "#B0BEC5",
                "#B0BEC5",
                "#B0BEC5",
                "#B0BEC5",
                "#B0BEC5",
                "#B0BEC5",
                "#B0BEC5",
                "#B0BEC5",
                "#B0BEC5",
                "#B0BEC5",
                "#B0BEC5",
                "#B0BEC5",
                "#B0BEC5",
                "#B0BEC5",
                "#B0BEC5",
                "#B0BEC5",
                "#B0BEC5",
                "#B0BEC5",
                "#B0BEC5",
                "#B0BEC5"
               ]
              ]
             }
            ],
            "label": "Topic 11",
            "method": "update"
           },
           {
            "args": [
             {
              "marker.color": [
               [
                "#B0BEC5",
                "#B0BEC5",
                "#B0BEC5",
                "#B0BEC5",
                "#B0BEC5",
                "#B0BEC5",
                "#B0BEC5",
                "#B0BEC5",
                "#B0BEC5",
                "#B0BEC5",
                "#B0BEC5",
                "#B0BEC5",
                "red",
                "#B0BEC5",
                "#B0BEC5",
                "#B0BEC5",
                "#B0BEC5",
                "#B0BEC5",
                "#B0BEC5",
                "#B0BEC5",
                "#B0BEC5",
                "#B0BEC5",
                "#B0BEC5",
                "#B0BEC5",
                "#B0BEC5",
                "#B0BEC5",
                "#B0BEC5",
                "#B0BEC5",
                "#B0BEC5",
                "#B0BEC5",
                "#B0BEC5",
                "#B0BEC5",
                "#B0BEC5",
                "#B0BEC5",
                "#B0BEC5",
                "#B0BEC5",
                "#B0BEC5",
                "#B0BEC5",
                "#B0BEC5",
                "#B0BEC5",
                "#B0BEC5",
                "#B0BEC5",
                "#B0BEC5",
                "#B0BEC5",
                "#B0BEC5",
                "#B0BEC5",
                "#B0BEC5",
                "#B0BEC5",
                "#B0BEC5",
                "#B0BEC5",
                "#B0BEC5",
                "#B0BEC5",
                "#B0BEC5",
                "#B0BEC5",
                "#B0BEC5",
                "#B0BEC5",
                "#B0BEC5",
                "#B0BEC5",
                "#B0BEC5",
                "#B0BEC5",
                "#B0BEC5",
                "#B0BEC5",
                "#B0BEC5",
                "#B0BEC5",
                "#B0BEC5",
                "#B0BEC5",
                "#B0BEC5",
                "#B0BEC5"
               ]
              ]
             }
            ],
            "label": "Topic 12",
            "method": "update"
           },
           {
            "args": [
             {
              "marker.color": [
               [
                "#B0BEC5",
                "#B0BEC5",
                "#B0BEC5",
                "#B0BEC5",
                "#B0BEC5",
                "#B0BEC5",
                "#B0BEC5",
                "#B0BEC5",
                "#B0BEC5",
                "#B0BEC5",
                "#B0BEC5",
                "#B0BEC5",
                "#B0BEC5",
                "red",
                "#B0BEC5",
                "#B0BEC5",
                "#B0BEC5",
                "#B0BEC5",
                "#B0BEC5",
                "#B0BEC5",
                "#B0BEC5",
                "#B0BEC5",
                "#B0BEC5",
                "#B0BEC5",
                "#B0BEC5",
                "#B0BEC5",
                "#B0BEC5",
                "#B0BEC5",
                "#B0BEC5",
                "#B0BEC5",
                "#B0BEC5",
                "#B0BEC5",
                "#B0BEC5",
                "#B0BEC5",
                "#B0BEC5",
                "#B0BEC5",
                "#B0BEC5",
                "#B0BEC5",
                "#B0BEC5",
                "#B0BEC5",
                "#B0BEC5",
                "#B0BEC5",
                "#B0BEC5",
                "#B0BEC5",
                "#B0BEC5",
                "#B0BEC5",
                "#B0BEC5",
                "#B0BEC5",
                "#B0BEC5",
                "#B0BEC5",
                "#B0BEC5",
                "#B0BEC5",
                "#B0BEC5",
                "#B0BEC5",
                "#B0BEC5",
                "#B0BEC5",
                "#B0BEC5",
                "#B0BEC5",
                "#B0BEC5",
                "#B0BEC5",
                "#B0BEC5",
                "#B0BEC5",
                "#B0BEC5",
                "#B0BEC5",
                "#B0BEC5",
                "#B0BEC5",
                "#B0BEC5",
                "#B0BEC5"
               ]
              ]
             }
            ],
            "label": "Topic 13",
            "method": "update"
           },
           {
            "args": [
             {
              "marker.color": [
               [
                "#B0BEC5",
                "#B0BEC5",
                "#B0BEC5",
                "#B0BEC5",
                "#B0BEC5",
                "#B0BEC5",
                "#B0BEC5",
                "#B0BEC5",
                "#B0BEC5",
                "#B0BEC5",
                "#B0BEC5",
                "#B0BEC5",
                "#B0BEC5",
                "#B0BEC5",
                "red",
                "#B0BEC5",
                "#B0BEC5",
                "#B0BEC5",
                "#B0BEC5",
                "#B0BEC5",
                "#B0BEC5",
                "#B0BEC5",
                "#B0BEC5",
                "#B0BEC5",
                "#B0BEC5",
                "#B0BEC5",
                "#B0BEC5",
                "#B0BEC5",
                "#B0BEC5",
                "#B0BEC5",
                "#B0BEC5",
                "#B0BEC5",
                "#B0BEC5",
                "#B0BEC5",
                "#B0BEC5",
                "#B0BEC5",
                "#B0BEC5",
                "#B0BEC5",
                "#B0BEC5",
                "#B0BEC5",
                "#B0BEC5",
                "#B0BEC5",
                "#B0BEC5",
                "#B0BEC5",
                "#B0BEC5",
                "#B0BEC5",
                "#B0BEC5",
                "#B0BEC5",
                "#B0BEC5",
                "#B0BEC5",
                "#B0BEC5",
                "#B0BEC5",
                "#B0BEC5",
                "#B0BEC5",
                "#B0BEC5",
                "#B0BEC5",
                "#B0BEC5",
                "#B0BEC5",
                "#B0BEC5",
                "#B0BEC5",
                "#B0BEC5",
                "#B0BEC5",
                "#B0BEC5",
                "#B0BEC5",
                "#B0BEC5",
                "#B0BEC5",
                "#B0BEC5",
                "#B0BEC5"
               ]
              ]
             }
            ],
            "label": "Topic 14",
            "method": "update"
           },
           {
            "args": [
             {
              "marker.color": [
               [
                "#B0BEC5",
                "#B0BEC5",
                "#B0BEC5",
                "#B0BEC5",
                "#B0BEC5",
                "#B0BEC5",
                "#B0BEC5",
                "#B0BEC5",
                "#B0BEC5",
                "#B0BEC5",
                "#B0BEC5",
                "#B0BEC5",
                "#B0BEC5",
                "#B0BEC5",
                "#B0BEC5",
                "red",
                "#B0BEC5",
                "#B0BEC5",
                "#B0BEC5",
                "#B0BEC5",
                "#B0BEC5",
                "#B0BEC5",
                "#B0BEC5",
                "#B0BEC5",
                "#B0BEC5",
                "#B0BEC5",
                "#B0BEC5",
                "#B0BEC5",
                "#B0BEC5",
                "#B0BEC5",
                "#B0BEC5",
                "#B0BEC5",
                "#B0BEC5",
                "#B0BEC5",
                "#B0BEC5",
                "#B0BEC5",
                "#B0BEC5",
                "#B0BEC5",
                "#B0BEC5",
                "#B0BEC5",
                "#B0BEC5",
                "#B0BEC5",
                "#B0BEC5",
                "#B0BEC5",
                "#B0BEC5",
                "#B0BEC5",
                "#B0BEC5",
                "#B0BEC5",
                "#B0BEC5",
                "#B0BEC5",
                "#B0BEC5",
                "#B0BEC5",
                "#B0BEC5",
                "#B0BEC5",
                "#B0BEC5",
                "#B0BEC5",
                "#B0BEC5",
                "#B0BEC5",
                "#B0BEC5",
                "#B0BEC5",
                "#B0BEC5",
                "#B0BEC5",
                "#B0BEC5",
                "#B0BEC5",
                "#B0BEC5",
                "#B0BEC5",
                "#B0BEC5",
                "#B0BEC5"
               ]
              ]
             }
            ],
            "label": "Topic 15",
            "method": "update"
           },
           {
            "args": [
             {
              "marker.color": [
               [
                "#B0BEC5",
                "#B0BEC5",
                "#B0BEC5",
                "#B0BEC5",
                "#B0BEC5",
                "#B0BEC5",
                "#B0BEC5",
                "#B0BEC5",
                "#B0BEC5",
                "#B0BEC5",
                "#B0BEC5",
                "#B0BEC5",
                "#B0BEC5",
                "#B0BEC5",
                "#B0BEC5",
                "#B0BEC5",
                "red",
                "#B0BEC5",
                "#B0BEC5",
                "#B0BEC5",
                "#B0BEC5",
                "#B0BEC5",
                "#B0BEC5",
                "#B0BEC5",
                "#B0BEC5",
                "#B0BEC5",
                "#B0BEC5",
                "#B0BEC5",
                "#B0BEC5",
                "#B0BEC5",
                "#B0BEC5",
                "#B0BEC5",
                "#B0BEC5",
                "#B0BEC5",
                "#B0BEC5",
                "#B0BEC5",
                "#B0BEC5",
                "#B0BEC5",
                "#B0BEC5",
                "#B0BEC5",
                "#B0BEC5",
                "#B0BEC5",
                "#B0BEC5",
                "#B0BEC5",
                "#B0BEC5",
                "#B0BEC5",
                "#B0BEC5",
                "#B0BEC5",
                "#B0BEC5",
                "#B0BEC5",
                "#B0BEC5",
                "#B0BEC5",
                "#B0BEC5",
                "#B0BEC5",
                "#B0BEC5",
                "#B0BEC5",
                "#B0BEC5",
                "#B0BEC5",
                "#B0BEC5",
                "#B0BEC5",
                "#B0BEC5",
                "#B0BEC5",
                "#B0BEC5",
                "#B0BEC5",
                "#B0BEC5",
                "#B0BEC5",
                "#B0BEC5",
                "#B0BEC5"
               ]
              ]
             }
            ],
            "label": "Topic 16",
            "method": "update"
           },
           {
            "args": [
             {
              "marker.color": [
               [
                "#B0BEC5",
                "#B0BEC5",
                "#B0BEC5",
                "#B0BEC5",
                "#B0BEC5",
                "#B0BEC5",
                "#B0BEC5",
                "#B0BEC5",
                "#B0BEC5",
                "#B0BEC5",
                "#B0BEC5",
                "#B0BEC5",
                "#B0BEC5",
                "#B0BEC5",
                "#B0BEC5",
                "#B0BEC5",
                "#B0BEC5",
                "red",
                "#B0BEC5",
                "#B0BEC5",
                "#B0BEC5",
                "#B0BEC5",
                "#B0BEC5",
                "#B0BEC5",
                "#B0BEC5",
                "#B0BEC5",
                "#B0BEC5",
                "#B0BEC5",
                "#B0BEC5",
                "#B0BEC5",
                "#B0BEC5",
                "#B0BEC5",
                "#B0BEC5",
                "#B0BEC5",
                "#B0BEC5",
                "#B0BEC5",
                "#B0BEC5",
                "#B0BEC5",
                "#B0BEC5",
                "#B0BEC5",
                "#B0BEC5",
                "#B0BEC5",
                "#B0BEC5",
                "#B0BEC5",
                "#B0BEC5",
                "#B0BEC5",
                "#B0BEC5",
                "#B0BEC5",
                "#B0BEC5",
                "#B0BEC5",
                "#B0BEC5",
                "#B0BEC5",
                "#B0BEC5",
                "#B0BEC5",
                "#B0BEC5",
                "#B0BEC5",
                "#B0BEC5",
                "#B0BEC5",
                "#B0BEC5",
                "#B0BEC5",
                "#B0BEC5",
                "#B0BEC5",
                "#B0BEC5",
                "#B0BEC5",
                "#B0BEC5",
                "#B0BEC5",
                "#B0BEC5",
                "#B0BEC5"
               ]
              ]
             }
            ],
            "label": "Topic 17",
            "method": "update"
           },
           {
            "args": [
             {
              "marker.color": [
               [
                "#B0BEC5",
                "#B0BEC5",
                "#B0BEC5",
                "#B0BEC5",
                "#B0BEC5",
                "#B0BEC5",
                "#B0BEC5",
                "#B0BEC5",
                "#B0BEC5",
                "#B0BEC5",
                "#B0BEC5",
                "#B0BEC5",
                "#B0BEC5",
                "#B0BEC5",
                "#B0BEC5",
                "#B0BEC5",
                "#B0BEC5",
                "#B0BEC5",
                "red",
                "#B0BEC5",
                "#B0BEC5",
                "#B0BEC5",
                "#B0BEC5",
                "#B0BEC5",
                "#B0BEC5",
                "#B0BEC5",
                "#B0BEC5",
                "#B0BEC5",
                "#B0BEC5",
                "#B0BEC5",
                "#B0BEC5",
                "#B0BEC5",
                "#B0BEC5",
                "#B0BEC5",
                "#B0BEC5",
                "#B0BEC5",
                "#B0BEC5",
                "#B0BEC5",
                "#B0BEC5",
                "#B0BEC5",
                "#B0BEC5",
                "#B0BEC5",
                "#B0BEC5",
                "#B0BEC5",
                "#B0BEC5",
                "#B0BEC5",
                "#B0BEC5",
                "#B0BEC5",
                "#B0BEC5",
                "#B0BEC5",
                "#B0BEC5",
                "#B0BEC5",
                "#B0BEC5",
                "#B0BEC5",
                "#B0BEC5",
                "#B0BEC5",
                "#B0BEC5",
                "#B0BEC5",
                "#B0BEC5",
                "#B0BEC5",
                "#B0BEC5",
                "#B0BEC5",
                "#B0BEC5",
                "#B0BEC5",
                "#B0BEC5",
                "#B0BEC5",
                "#B0BEC5",
                "#B0BEC5"
               ]
              ]
             }
            ],
            "label": "Topic 18",
            "method": "update"
           },
           {
            "args": [
             {
              "marker.color": [
               [
                "#B0BEC5",
                "#B0BEC5",
                "#B0BEC5",
                "#B0BEC5",
                "#B0BEC5",
                "#B0BEC5",
                "#B0BEC5",
                "#B0BEC5",
                "#B0BEC5",
                "#B0BEC5",
                "#B0BEC5",
                "#B0BEC5",
                "#B0BEC5",
                "#B0BEC5",
                "#B0BEC5",
                "#B0BEC5",
                "#B0BEC5",
                "#B0BEC5",
                "#B0BEC5",
                "red",
                "#B0BEC5",
                "#B0BEC5",
                "#B0BEC5",
                "#B0BEC5",
                "#B0BEC5",
                "#B0BEC5",
                "#B0BEC5",
                "#B0BEC5",
                "#B0BEC5",
                "#B0BEC5",
                "#B0BEC5",
                "#B0BEC5",
                "#B0BEC5",
                "#B0BEC5",
                "#B0BEC5",
                "#B0BEC5",
                "#B0BEC5",
                "#B0BEC5",
                "#B0BEC5",
                "#B0BEC5",
                "#B0BEC5",
                "#B0BEC5",
                "#B0BEC5",
                "#B0BEC5",
                "#B0BEC5",
                "#B0BEC5",
                "#B0BEC5",
                "#B0BEC5",
                "#B0BEC5",
                "#B0BEC5",
                "#B0BEC5",
                "#B0BEC5",
                "#B0BEC5",
                "#B0BEC5",
                "#B0BEC5",
                "#B0BEC5",
                "#B0BEC5",
                "#B0BEC5",
                "#B0BEC5",
                "#B0BEC5",
                "#B0BEC5",
                "#B0BEC5",
                "#B0BEC5",
                "#B0BEC5",
                "#B0BEC5",
                "#B0BEC5",
                "#B0BEC5",
                "#B0BEC5"
               ]
              ]
             }
            ],
            "label": "Topic 19",
            "method": "update"
           },
           {
            "args": [
             {
              "marker.color": [
               [
                "#B0BEC5",
                "#B0BEC5",
                "#B0BEC5",
                "#B0BEC5",
                "#B0BEC5",
                "#B0BEC5",
                "#B0BEC5",
                "#B0BEC5",
                "#B0BEC5",
                "#B0BEC5",
                "#B0BEC5",
                "#B0BEC5",
                "#B0BEC5",
                "#B0BEC5",
                "#B0BEC5",
                "#B0BEC5",
                "#B0BEC5",
                "#B0BEC5",
                "#B0BEC5",
                "#B0BEC5",
                "red",
                "#B0BEC5",
                "#B0BEC5",
                "#B0BEC5",
                "#B0BEC5",
                "#B0BEC5",
                "#B0BEC5",
                "#B0BEC5",
                "#B0BEC5",
                "#B0BEC5",
                "#B0BEC5",
                "#B0BEC5",
                "#B0BEC5",
                "#B0BEC5",
                "#B0BEC5",
                "#B0BEC5",
                "#B0BEC5",
                "#B0BEC5",
                "#B0BEC5",
                "#B0BEC5",
                "#B0BEC5",
                "#B0BEC5",
                "#B0BEC5",
                "#B0BEC5",
                "#B0BEC5",
                "#B0BEC5",
                "#B0BEC5",
                "#B0BEC5",
                "#B0BEC5",
                "#B0BEC5",
                "#B0BEC5",
                "#B0BEC5",
                "#B0BEC5",
                "#B0BEC5",
                "#B0BEC5",
                "#B0BEC5",
                "#B0BEC5",
                "#B0BEC5",
                "#B0BEC5",
                "#B0BEC5",
                "#B0BEC5",
                "#B0BEC5",
                "#B0BEC5",
                "#B0BEC5",
                "#B0BEC5",
                "#B0BEC5",
                "#B0BEC5",
                "#B0BEC5"
               ]
              ]
             }
            ],
            "label": "Topic 20",
            "method": "update"
           },
           {
            "args": [
             {
              "marker.color": [
               [
                "#B0BEC5",
                "#B0BEC5",
                "#B0BEC5",
                "#B0BEC5",
                "#B0BEC5",
                "#B0BEC5",
                "#B0BEC5",
                "#B0BEC5",
                "#B0BEC5",
                "#B0BEC5",
                "#B0BEC5",
                "#B0BEC5",
                "#B0BEC5",
                "#B0BEC5",
                "#B0BEC5",
                "#B0BEC5",
                "#B0BEC5",
                "#B0BEC5",
                "#B0BEC5",
                "#B0BEC5",
                "#B0BEC5",
                "red",
                "#B0BEC5",
                "#B0BEC5",
                "#B0BEC5",
                "#B0BEC5",
                "#B0BEC5",
                "#B0BEC5",
                "#B0BEC5",
                "#B0BEC5",
                "#B0BEC5",
                "#B0BEC5",
                "#B0BEC5",
                "#B0BEC5",
                "#B0BEC5",
                "#B0BEC5",
                "#B0BEC5",
                "#B0BEC5",
                "#B0BEC5",
                "#B0BEC5",
                "#B0BEC5",
                "#B0BEC5",
                "#B0BEC5",
                "#B0BEC5",
                "#B0BEC5",
                "#B0BEC5",
                "#B0BEC5",
                "#B0BEC5",
                "#B0BEC5",
                "#B0BEC5",
                "#B0BEC5",
                "#B0BEC5",
                "#B0BEC5",
                "#B0BEC5",
                "#B0BEC5",
                "#B0BEC5",
                "#B0BEC5",
                "#B0BEC5",
                "#B0BEC5",
                "#B0BEC5",
                "#B0BEC5",
                "#B0BEC5",
                "#B0BEC5",
                "#B0BEC5",
                "#B0BEC5",
                "#B0BEC5",
                "#B0BEC5",
                "#B0BEC5"
               ]
              ]
             }
            ],
            "label": "Topic 21",
            "method": "update"
           },
           {
            "args": [
             {
              "marker.color": [
               [
                "#B0BEC5",
                "#B0BEC5",
                "#B0BEC5",
                "#B0BEC5",
                "#B0BEC5",
                "#B0BEC5",
                "#B0BEC5",
                "#B0BEC5",
                "#B0BEC5",
                "#B0BEC5",
                "#B0BEC5",
                "#B0BEC5",
                "#B0BEC5",
                "#B0BEC5",
                "#B0BEC5",
                "#B0BEC5",
                "#B0BEC5",
                "#B0BEC5",
                "#B0BEC5",
                "#B0BEC5",
                "#B0BEC5",
                "#B0BEC5",
                "red",
                "#B0BEC5",
                "#B0BEC5",
                "#B0BEC5",
                "#B0BEC5",
                "#B0BEC5",
                "#B0BEC5",
                "#B0BEC5",
                "#B0BEC5",
                "#B0BEC5",
                "#B0BEC5",
                "#B0BEC5",
                "#B0BEC5",
                "#B0BEC5",
                "#B0BEC5",
                "#B0BEC5",
                "#B0BEC5",
                "#B0BEC5",
                "#B0BEC5",
                "#B0BEC5",
                "#B0BEC5",
                "#B0BEC5",
                "#B0BEC5",
                "#B0BEC5",
                "#B0BEC5",
                "#B0BEC5",
                "#B0BEC5",
                "#B0BEC5",
                "#B0BEC5",
                "#B0BEC5",
                "#B0BEC5",
                "#B0BEC5",
                "#B0BEC5",
                "#B0BEC5",
                "#B0BEC5",
                "#B0BEC5",
                "#B0BEC5",
                "#B0BEC5",
                "#B0BEC5",
                "#B0BEC5",
                "#B0BEC5",
                "#B0BEC5",
                "#B0BEC5",
                "#B0BEC5",
                "#B0BEC5",
                "#B0BEC5"
               ]
              ]
             }
            ],
            "label": "Topic 22",
            "method": "update"
           },
           {
            "args": [
             {
              "marker.color": [
               [
                "#B0BEC5",
                "#B0BEC5",
                "#B0BEC5",
                "#B0BEC5",
                "#B0BEC5",
                "#B0BEC5",
                "#B0BEC5",
                "#B0BEC5",
                "#B0BEC5",
                "#B0BEC5",
                "#B0BEC5",
                "#B0BEC5",
                "#B0BEC5",
                "#B0BEC5",
                "#B0BEC5",
                "#B0BEC5",
                "#B0BEC5",
                "#B0BEC5",
                "#B0BEC5",
                "#B0BEC5",
                "#B0BEC5",
                "#B0BEC5",
                "#B0BEC5",
                "red",
                "#B0BEC5",
                "#B0BEC5",
                "#B0BEC5",
                "#B0BEC5",
                "#B0BEC5",
                "#B0BEC5",
                "#B0BEC5",
                "#B0BEC5",
                "#B0BEC5",
                "#B0BEC5",
                "#B0BEC5",
                "#B0BEC5",
                "#B0BEC5",
                "#B0BEC5",
                "#B0BEC5",
                "#B0BEC5",
                "#B0BEC5",
                "#B0BEC5",
                "#B0BEC5",
                "#B0BEC5",
                "#B0BEC5",
                "#B0BEC5",
                "#B0BEC5",
                "#B0BEC5",
                "#B0BEC5",
                "#B0BEC5",
                "#B0BEC5",
                "#B0BEC5",
                "#B0BEC5",
                "#B0BEC5",
                "#B0BEC5",
                "#B0BEC5",
                "#B0BEC5",
                "#B0BEC5",
                "#B0BEC5",
                "#B0BEC5",
                "#B0BEC5",
                "#B0BEC5",
                "#B0BEC5",
                "#B0BEC5",
                "#B0BEC5",
                "#B0BEC5",
                "#B0BEC5",
                "#B0BEC5"
               ]
              ]
             }
            ],
            "label": "Topic 23",
            "method": "update"
           },
           {
            "args": [
             {
              "marker.color": [
               [
                "#B0BEC5",
                "#B0BEC5",
                "#B0BEC5",
                "#B0BEC5",
                "#B0BEC5",
                "#B0BEC5",
                "#B0BEC5",
                "#B0BEC5",
                "#B0BEC5",
                "#B0BEC5",
                "#B0BEC5",
                "#B0BEC5",
                "#B0BEC5",
                "#B0BEC5",
                "#B0BEC5",
                "#B0BEC5",
                "#B0BEC5",
                "#B0BEC5",
                "#B0BEC5",
                "#B0BEC5",
                "#B0BEC5",
                "#B0BEC5",
                "#B0BEC5",
                "#B0BEC5",
                "red",
                "#B0BEC5",
                "#B0BEC5",
                "#B0BEC5",
                "#B0BEC5",
                "#B0BEC5",
                "#B0BEC5",
                "#B0BEC5",
                "#B0BEC5",
                "#B0BEC5",
                "#B0BEC5",
                "#B0BEC5",
                "#B0BEC5",
                "#B0BEC5",
                "#B0BEC5",
                "#B0BEC5",
                "#B0BEC5",
                "#B0BEC5",
                "#B0BEC5",
                "#B0BEC5",
                "#B0BEC5",
                "#B0BEC5",
                "#B0BEC5",
                "#B0BEC5",
                "#B0BEC5",
                "#B0BEC5",
                "#B0BEC5",
                "#B0BEC5",
                "#B0BEC5",
                "#B0BEC5",
                "#B0BEC5",
                "#B0BEC5",
                "#B0BEC5",
                "#B0BEC5",
                "#B0BEC5",
                "#B0BEC5",
                "#B0BEC5",
                "#B0BEC5",
                "#B0BEC5",
                "#B0BEC5",
                "#B0BEC5",
                "#B0BEC5",
                "#B0BEC5",
                "#B0BEC5"
               ]
              ]
             }
            ],
            "label": "Topic 24",
            "method": "update"
           },
           {
            "args": [
             {
              "marker.color": [
               [
                "#B0BEC5",
                "#B0BEC5",
                "#B0BEC5",
                "#B0BEC5",
                "#B0BEC5",
                "#B0BEC5",
                "#B0BEC5",
                "#B0BEC5",
                "#B0BEC5",
                "#B0BEC5",
                "#B0BEC5",
                "#B0BEC5",
                "#B0BEC5",
                "#B0BEC5",
                "#B0BEC5",
                "#B0BEC5",
                "#B0BEC5",
                "#B0BEC5",
                "#B0BEC5",
                "#B0BEC5",
                "#B0BEC5",
                "#B0BEC5",
                "#B0BEC5",
                "#B0BEC5",
                "#B0BEC5",
                "red",
                "#B0BEC5",
                "#B0BEC5",
                "#B0BEC5",
                "#B0BEC5",
                "#B0BEC5",
                "#B0BEC5",
                "#B0BEC5",
                "#B0BEC5",
                "#B0BEC5",
                "#B0BEC5",
                "#B0BEC5",
                "#B0BEC5",
                "#B0BEC5",
                "#B0BEC5",
                "#B0BEC5",
                "#B0BEC5",
                "#B0BEC5",
                "#B0BEC5",
                "#B0BEC5",
                "#B0BEC5",
                "#B0BEC5",
                "#B0BEC5",
                "#B0BEC5",
                "#B0BEC5",
                "#B0BEC5",
                "#B0BEC5",
                "#B0BEC5",
                "#B0BEC5",
                "#B0BEC5",
                "#B0BEC5",
                "#B0BEC5",
                "#B0BEC5",
                "#B0BEC5",
                "#B0BEC5",
                "#B0BEC5",
                "#B0BEC5",
                "#B0BEC5",
                "#B0BEC5",
                "#B0BEC5",
                "#B0BEC5",
                "#B0BEC5",
                "#B0BEC5"
               ]
              ]
             }
            ],
            "label": "Topic 25",
            "method": "update"
           },
           {
            "args": [
             {
              "marker.color": [
               [
                "#B0BEC5",
                "#B0BEC5",
                "#B0BEC5",
                "#B0BEC5",
                "#B0BEC5",
                "#B0BEC5",
                "#B0BEC5",
                "#B0BEC5",
                "#B0BEC5",
                "#B0BEC5",
                "#B0BEC5",
                "#B0BEC5",
                "#B0BEC5",
                "#B0BEC5",
                "#B0BEC5",
                "#B0BEC5",
                "#B0BEC5",
                "#B0BEC5",
                "#B0BEC5",
                "#B0BEC5",
                "#B0BEC5",
                "#B0BEC5",
                "#B0BEC5",
                "#B0BEC5",
                "#B0BEC5",
                "#B0BEC5",
                "red",
                "#B0BEC5",
                "#B0BEC5",
                "#B0BEC5",
                "#B0BEC5",
                "#B0BEC5",
                "#B0BEC5",
                "#B0BEC5",
                "#B0BEC5",
                "#B0BEC5",
                "#B0BEC5",
                "#B0BEC5",
                "#B0BEC5",
                "#B0BEC5",
                "#B0BEC5",
                "#B0BEC5",
                "#B0BEC5",
                "#B0BEC5",
                "#B0BEC5",
                "#B0BEC5",
                "#B0BEC5",
                "#B0BEC5",
                "#B0BEC5",
                "#B0BEC5",
                "#B0BEC5",
                "#B0BEC5",
                "#B0BEC5",
                "#B0BEC5",
                "#B0BEC5",
                "#B0BEC5",
                "#B0BEC5",
                "#B0BEC5",
                "#B0BEC5",
                "#B0BEC5",
                "#B0BEC5",
                "#B0BEC5",
                "#B0BEC5",
                "#B0BEC5",
                "#B0BEC5",
                "#B0BEC5",
                "#B0BEC5",
                "#B0BEC5"
               ]
              ]
             }
            ],
            "label": "Topic 26",
            "method": "update"
           },
           {
            "args": [
             {
              "marker.color": [
               [
                "#B0BEC5",
                "#B0BEC5",
                "#B0BEC5",
                "#B0BEC5",
                "#B0BEC5",
                "#B0BEC5",
                "#B0BEC5",
                "#B0BEC5",
                "#B0BEC5",
                "#B0BEC5",
                "#B0BEC5",
                "#B0BEC5",
                "#B0BEC5",
                "#B0BEC5",
                "#B0BEC5",
                "#B0BEC5",
                "#B0BEC5",
                "#B0BEC5",
                "#B0BEC5",
                "#B0BEC5",
                "#B0BEC5",
                "#B0BEC5",
                "#B0BEC5",
                "#B0BEC5",
                "#B0BEC5",
                "#B0BEC5",
                "#B0BEC5",
                "red",
                "#B0BEC5",
                "#B0BEC5",
                "#B0BEC5",
                "#B0BEC5",
                "#B0BEC5",
                "#B0BEC5",
                "#B0BEC5",
                "#B0BEC5",
                "#B0BEC5",
                "#B0BEC5",
                "#B0BEC5",
                "#B0BEC5",
                "#B0BEC5",
                "#B0BEC5",
                "#B0BEC5",
                "#B0BEC5",
                "#B0BEC5",
                "#B0BEC5",
                "#B0BEC5",
                "#B0BEC5",
                "#B0BEC5",
                "#B0BEC5",
                "#B0BEC5",
                "#B0BEC5",
                "#B0BEC5",
                "#B0BEC5",
                "#B0BEC5",
                "#B0BEC5",
                "#B0BEC5",
                "#B0BEC5",
                "#B0BEC5",
                "#B0BEC5",
                "#B0BEC5",
                "#B0BEC5",
                "#B0BEC5",
                "#B0BEC5",
                "#B0BEC5",
                "#B0BEC5",
                "#B0BEC5",
                "#B0BEC5"
               ]
              ]
             }
            ],
            "label": "Topic 27",
            "method": "update"
           },
           {
            "args": [
             {
              "marker.color": [
               [
                "#B0BEC5",
                "#B0BEC5",
                "#B0BEC5",
                "#B0BEC5",
                "#B0BEC5",
                "#B0BEC5",
                "#B0BEC5",
                "#B0BEC5",
                "#B0BEC5",
                "#B0BEC5",
                "#B0BEC5",
                "#B0BEC5",
                "#B0BEC5",
                "#B0BEC5",
                "#B0BEC5",
                "#B0BEC5",
                "#B0BEC5",
                "#B0BEC5",
                "#B0BEC5",
                "#B0BEC5",
                "#B0BEC5",
                "#B0BEC5",
                "#B0BEC5",
                "#B0BEC5",
                "#B0BEC5",
                "#B0BEC5",
                "#B0BEC5",
                "#B0BEC5",
                "red",
                "#B0BEC5",
                "#B0BEC5",
                "#B0BEC5",
                "#B0BEC5",
                "#B0BEC5",
                "#B0BEC5",
                "#B0BEC5",
                "#B0BEC5",
                "#B0BEC5",
                "#B0BEC5",
                "#B0BEC5",
                "#B0BEC5",
                "#B0BEC5",
                "#B0BEC5",
                "#B0BEC5",
                "#B0BEC5",
                "#B0BEC5",
                "#B0BEC5",
                "#B0BEC5",
                "#B0BEC5",
                "#B0BEC5",
                "#B0BEC5",
                "#B0BEC5",
                "#B0BEC5",
                "#B0BEC5",
                "#B0BEC5",
                "#B0BEC5",
                "#B0BEC5",
                "#B0BEC5",
                "#B0BEC5",
                "#B0BEC5",
                "#B0BEC5",
                "#B0BEC5",
                "#B0BEC5",
                "#B0BEC5",
                "#B0BEC5",
                "#B0BEC5",
                "#B0BEC5",
                "#B0BEC5"
               ]
              ]
             }
            ],
            "label": "Topic 28",
            "method": "update"
           },
           {
            "args": [
             {
              "marker.color": [
               [
                "#B0BEC5",
                "#B0BEC5",
                "#B0BEC5",
                "#B0BEC5",
                "#B0BEC5",
                "#B0BEC5",
                "#B0BEC5",
                "#B0BEC5",
                "#B0BEC5",
                "#B0BEC5",
                "#B0BEC5",
                "#B0BEC5",
                "#B0BEC5",
                "#B0BEC5",
                "#B0BEC5",
                "#B0BEC5",
                "#B0BEC5",
                "#B0BEC5",
                "#B0BEC5",
                "#B0BEC5",
                "#B0BEC5",
                "#B0BEC5",
                "#B0BEC5",
                "#B0BEC5",
                "#B0BEC5",
                "#B0BEC5",
                "#B0BEC5",
                "#B0BEC5",
                "#B0BEC5",
                "red",
                "#B0BEC5",
                "#B0BEC5",
                "#B0BEC5",
                "#B0BEC5",
                "#B0BEC5",
                "#B0BEC5",
                "#B0BEC5",
                "#B0BEC5",
                "#B0BEC5",
                "#B0BEC5",
                "#B0BEC5",
                "#B0BEC5",
                "#B0BEC5",
                "#B0BEC5",
                "#B0BEC5",
                "#B0BEC5",
                "#B0BEC5",
                "#B0BEC5",
                "#B0BEC5",
                "#B0BEC5",
                "#B0BEC5",
                "#B0BEC5",
                "#B0BEC5",
                "#B0BEC5",
                "#B0BEC5",
                "#B0BEC5",
                "#B0BEC5",
                "#B0BEC5",
                "#B0BEC5",
                "#B0BEC5",
                "#B0BEC5",
                "#B0BEC5",
                "#B0BEC5",
                "#B0BEC5",
                "#B0BEC5",
                "#B0BEC5",
                "#B0BEC5",
                "#B0BEC5"
               ]
              ]
             }
            ],
            "label": "Topic 29",
            "method": "update"
           },
           {
            "args": [
             {
              "marker.color": [
               [
                "#B0BEC5",
                "#B0BEC5",
                "#B0BEC5",
                "#B0BEC5",
                "#B0BEC5",
                "#B0BEC5",
                "#B0BEC5",
                "#B0BEC5",
                "#B0BEC5",
                "#B0BEC5",
                "#B0BEC5",
                "#B0BEC5",
                "#B0BEC5",
                "#B0BEC5",
                "#B0BEC5",
                "#B0BEC5",
                "#B0BEC5",
                "#B0BEC5",
                "#B0BEC5",
                "#B0BEC5",
                "#B0BEC5",
                "#B0BEC5",
                "#B0BEC5",
                "#B0BEC5",
                "#B0BEC5",
                "#B0BEC5",
                "#B0BEC5",
                "#B0BEC5",
                "#B0BEC5",
                "#B0BEC5",
                "red",
                "#B0BEC5",
                "#B0BEC5",
                "#B0BEC5",
                "#B0BEC5",
                "#B0BEC5",
                "#B0BEC5",
                "#B0BEC5",
                "#B0BEC5",
                "#B0BEC5",
                "#B0BEC5",
                "#B0BEC5",
                "#B0BEC5",
                "#B0BEC5",
                "#B0BEC5",
                "#B0BEC5",
                "#B0BEC5",
                "#B0BEC5",
                "#B0BEC5",
                "#B0BEC5",
                "#B0BEC5",
                "#B0BEC5",
                "#B0BEC5",
                "#B0BEC5",
                "#B0BEC5",
                "#B0BEC5",
                "#B0BEC5",
                "#B0BEC5",
                "#B0BEC5",
                "#B0BEC5",
                "#B0BEC5",
                "#B0BEC5",
                "#B0BEC5",
                "#B0BEC5",
                "#B0BEC5",
                "#B0BEC5",
                "#B0BEC5",
                "#B0BEC5"
               ]
              ]
             }
            ],
            "label": "Topic 30",
            "method": "update"
           },
           {
            "args": [
             {
              "marker.color": [
               [
                "#B0BEC5",
                "#B0BEC5",
                "#B0BEC5",
                "#B0BEC5",
                "#B0BEC5",
                "#B0BEC5",
                "#B0BEC5",
                "#B0BEC5",
                "#B0BEC5",
                "#B0BEC5",
                "#B0BEC5",
                "#B0BEC5",
                "#B0BEC5",
                "#B0BEC5",
                "#B0BEC5",
                "#B0BEC5",
                "#B0BEC5",
                "#B0BEC5",
                "#B0BEC5",
                "#B0BEC5",
                "#B0BEC5",
                "#B0BEC5",
                "#B0BEC5",
                "#B0BEC5",
                "#B0BEC5",
                "#B0BEC5",
                "#B0BEC5",
                "#B0BEC5",
                "#B0BEC5",
                "#B0BEC5",
                "#B0BEC5",
                "red",
                "#B0BEC5",
                "#B0BEC5",
                "#B0BEC5",
                "#B0BEC5",
                "#B0BEC5",
                "#B0BEC5",
                "#B0BEC5",
                "#B0BEC5",
                "#B0BEC5",
                "#B0BEC5",
                "#B0BEC5",
                "#B0BEC5",
                "#B0BEC5",
                "#B0BEC5",
                "#B0BEC5",
                "#B0BEC5",
                "#B0BEC5",
                "#B0BEC5",
                "#B0BEC5",
                "#B0BEC5",
                "#B0BEC5",
                "#B0BEC5",
                "#B0BEC5",
                "#B0BEC5",
                "#B0BEC5",
                "#B0BEC5",
                "#B0BEC5",
                "#B0BEC5",
                "#B0BEC5",
                "#B0BEC5",
                "#B0BEC5",
                "#B0BEC5",
                "#B0BEC5",
                "#B0BEC5",
                "#B0BEC5",
                "#B0BEC5"
               ]
              ]
             }
            ],
            "label": "Topic 31",
            "method": "update"
           },
           {
            "args": [
             {
              "marker.color": [
               [
                "#B0BEC5",
                "#B0BEC5",
                "#B0BEC5",
                "#B0BEC5",
                "#B0BEC5",
                "#B0BEC5",
                "#B0BEC5",
                "#B0BEC5",
                "#B0BEC5",
                "#B0BEC5",
                "#B0BEC5",
                "#B0BEC5",
                "#B0BEC5",
                "#B0BEC5",
                "#B0BEC5",
                "#B0BEC5",
                "#B0BEC5",
                "#B0BEC5",
                "#B0BEC5",
                "#B0BEC5",
                "#B0BEC5",
                "#B0BEC5",
                "#B0BEC5",
                "#B0BEC5",
                "#B0BEC5",
                "#B0BEC5",
                "#B0BEC5",
                "#B0BEC5",
                "#B0BEC5",
                "#B0BEC5",
                "#B0BEC5",
                "#B0BEC5",
                "red",
                "#B0BEC5",
                "#B0BEC5",
                "#B0BEC5",
                "#B0BEC5",
                "#B0BEC5",
                "#B0BEC5",
                "#B0BEC5",
                "#B0BEC5",
                "#B0BEC5",
                "#B0BEC5",
                "#B0BEC5",
                "#B0BEC5",
                "#B0BEC5",
                "#B0BEC5",
                "#B0BEC5",
                "#B0BEC5",
                "#B0BEC5",
                "#B0BEC5",
                "#B0BEC5",
                "#B0BEC5",
                "#B0BEC5",
                "#B0BEC5",
                "#B0BEC5",
                "#B0BEC5",
                "#B0BEC5",
                "#B0BEC5",
                "#B0BEC5",
                "#B0BEC5",
                "#B0BEC5",
                "#B0BEC5",
                "#B0BEC5",
                "#B0BEC5",
                "#B0BEC5",
                "#B0BEC5",
                "#B0BEC5"
               ]
              ]
             }
            ],
            "label": "Topic 32",
            "method": "update"
           },
           {
            "args": [
             {
              "marker.color": [
               [
                "#B0BEC5",
                "#B0BEC5",
                "#B0BEC5",
                "#B0BEC5",
                "#B0BEC5",
                "#B0BEC5",
                "#B0BEC5",
                "#B0BEC5",
                "#B0BEC5",
                "#B0BEC5",
                "#B0BEC5",
                "#B0BEC5",
                "#B0BEC5",
                "#B0BEC5",
                "#B0BEC5",
                "#B0BEC5",
                "#B0BEC5",
                "#B0BEC5",
                "#B0BEC5",
                "#B0BEC5",
                "#B0BEC5",
                "#B0BEC5",
                "#B0BEC5",
                "#B0BEC5",
                "#B0BEC5",
                "#B0BEC5",
                "#B0BEC5",
                "#B0BEC5",
                "#B0BEC5",
                "#B0BEC5",
                "#B0BEC5",
                "#B0BEC5",
                "#B0BEC5",
                "red",
                "#B0BEC5",
                "#B0BEC5",
                "#B0BEC5",
                "#B0BEC5",
                "#B0BEC5",
                "#B0BEC5",
                "#B0BEC5",
                "#B0BEC5",
                "#B0BEC5",
                "#B0BEC5",
                "#B0BEC5",
                "#B0BEC5",
                "#B0BEC5",
                "#B0BEC5",
                "#B0BEC5",
                "#B0BEC5",
                "#B0BEC5",
                "#B0BEC5",
                "#B0BEC5",
                "#B0BEC5",
                "#B0BEC5",
                "#B0BEC5",
                "#B0BEC5",
                "#B0BEC5",
                "#B0BEC5",
                "#B0BEC5",
                "#B0BEC5",
                "#B0BEC5",
                "#B0BEC5",
                "#B0BEC5",
                "#B0BEC5",
                "#B0BEC5",
                "#B0BEC5",
                "#B0BEC5"
               ]
              ]
             }
            ],
            "label": "Topic 33",
            "method": "update"
           },
           {
            "args": [
             {
              "marker.color": [
               [
                "#B0BEC5",
                "#B0BEC5",
                "#B0BEC5",
                "#B0BEC5",
                "#B0BEC5",
                "#B0BEC5",
                "#B0BEC5",
                "#B0BEC5",
                "#B0BEC5",
                "#B0BEC5",
                "#B0BEC5",
                "#B0BEC5",
                "#B0BEC5",
                "#B0BEC5",
                "#B0BEC5",
                "#B0BEC5",
                "#B0BEC5",
                "#B0BEC5",
                "#B0BEC5",
                "#B0BEC5",
                "#B0BEC5",
                "#B0BEC5",
                "#B0BEC5",
                "#B0BEC5",
                "#B0BEC5",
                "#B0BEC5",
                "#B0BEC5",
                "#B0BEC5",
                "#B0BEC5",
                "#B0BEC5",
                "#B0BEC5",
                "#B0BEC5",
                "#B0BEC5",
                "#B0BEC5",
                "red",
                "#B0BEC5",
                "#B0BEC5",
                "#B0BEC5",
                "#B0BEC5",
                "#B0BEC5",
                "#B0BEC5",
                "#B0BEC5",
                "#B0BEC5",
                "#B0BEC5",
                "#B0BEC5",
                "#B0BEC5",
                "#B0BEC5",
                "#B0BEC5",
                "#B0BEC5",
                "#B0BEC5",
                "#B0BEC5",
                "#B0BEC5",
                "#B0BEC5",
                "#B0BEC5",
                "#B0BEC5",
                "#B0BEC5",
                "#B0BEC5",
                "#B0BEC5",
                "#B0BEC5",
                "#B0BEC5",
                "#B0BEC5",
                "#B0BEC5",
                "#B0BEC5",
                "#B0BEC5",
                "#B0BEC5",
                "#B0BEC5",
                "#B0BEC5",
                "#B0BEC5"
               ]
              ]
             }
            ],
            "label": "Topic 34",
            "method": "update"
           },
           {
            "args": [
             {
              "marker.color": [
               [
                "#B0BEC5",
                "#B0BEC5",
                "#B0BEC5",
                "#B0BEC5",
                "#B0BEC5",
                "#B0BEC5",
                "#B0BEC5",
                "#B0BEC5",
                "#B0BEC5",
                "#B0BEC5",
                "#B0BEC5",
                "#B0BEC5",
                "#B0BEC5",
                "#B0BEC5",
                "#B0BEC5",
                "#B0BEC5",
                "#B0BEC5",
                "#B0BEC5",
                "#B0BEC5",
                "#B0BEC5",
                "#B0BEC5",
                "#B0BEC5",
                "#B0BEC5",
                "#B0BEC5",
                "#B0BEC5",
                "#B0BEC5",
                "#B0BEC5",
                "#B0BEC5",
                "#B0BEC5",
                "#B0BEC5",
                "#B0BEC5",
                "#B0BEC5",
                "#B0BEC5",
                "#B0BEC5",
                "#B0BEC5",
                "red",
                "#B0BEC5",
                "#B0BEC5",
                "#B0BEC5",
                "#B0BEC5",
                "#B0BEC5",
                "#B0BEC5",
                "#B0BEC5",
                "#B0BEC5",
                "#B0BEC5",
                "#B0BEC5",
                "#B0BEC5",
                "#B0BEC5",
                "#B0BEC5",
                "#B0BEC5",
                "#B0BEC5",
                "#B0BEC5",
                "#B0BEC5",
                "#B0BEC5",
                "#B0BEC5",
                "#B0BEC5",
                "#B0BEC5",
                "#B0BEC5",
                "#B0BEC5",
                "#B0BEC5",
                "#B0BEC5",
                "#B0BEC5",
                "#B0BEC5",
                "#B0BEC5",
                "#B0BEC5",
                "#B0BEC5",
                "#B0BEC5",
                "#B0BEC5"
               ]
              ]
             }
            ],
            "label": "Topic 35",
            "method": "update"
           },
           {
            "args": [
             {
              "marker.color": [
               [
                "#B0BEC5",
                "#B0BEC5",
                "#B0BEC5",
                "#B0BEC5",
                "#B0BEC5",
                "#B0BEC5",
                "#B0BEC5",
                "#B0BEC5",
                "#B0BEC5",
                "#B0BEC5",
                "#B0BEC5",
                "#B0BEC5",
                "#B0BEC5",
                "#B0BEC5",
                "#B0BEC5",
                "#B0BEC5",
                "#B0BEC5",
                "#B0BEC5",
                "#B0BEC5",
                "#B0BEC5",
                "#B0BEC5",
                "#B0BEC5",
                "#B0BEC5",
                "#B0BEC5",
                "#B0BEC5",
                "#B0BEC5",
                "#B0BEC5",
                "#B0BEC5",
                "#B0BEC5",
                "#B0BEC5",
                "#B0BEC5",
                "#B0BEC5",
                "#B0BEC5",
                "#B0BEC5",
                "#B0BEC5",
                "#B0BEC5",
                "red",
                "#B0BEC5",
                "#B0BEC5",
                "#B0BEC5",
                "#B0BEC5",
                "#B0BEC5",
                "#B0BEC5",
                "#B0BEC5",
                "#B0BEC5",
                "#B0BEC5",
                "#B0BEC5",
                "#B0BEC5",
                "#B0BEC5",
                "#B0BEC5",
                "#B0BEC5",
                "#B0BEC5",
                "#B0BEC5",
                "#B0BEC5",
                "#B0BEC5",
                "#B0BEC5",
                "#B0BEC5",
                "#B0BEC5",
                "#B0BEC5",
                "#B0BEC5",
                "#B0BEC5",
                "#B0BEC5",
                "#B0BEC5",
                "#B0BEC5",
                "#B0BEC5",
                "#B0BEC5",
                "#B0BEC5",
                "#B0BEC5"
               ]
              ]
             }
            ],
            "label": "Topic 36",
            "method": "update"
           },
           {
            "args": [
             {
              "marker.color": [
               [
                "#B0BEC5",
                "#B0BEC5",
                "#B0BEC5",
                "#B0BEC5",
                "#B0BEC5",
                "#B0BEC5",
                "#B0BEC5",
                "#B0BEC5",
                "#B0BEC5",
                "#B0BEC5",
                "#B0BEC5",
                "#B0BEC5",
                "#B0BEC5",
                "#B0BEC5",
                "#B0BEC5",
                "#B0BEC5",
                "#B0BEC5",
                "#B0BEC5",
                "#B0BEC5",
                "#B0BEC5",
                "#B0BEC5",
                "#B0BEC5",
                "#B0BEC5",
                "#B0BEC5",
                "#B0BEC5",
                "#B0BEC5",
                "#B0BEC5",
                "#B0BEC5",
                "#B0BEC5",
                "#B0BEC5",
                "#B0BEC5",
                "#B0BEC5",
                "#B0BEC5",
                "#B0BEC5",
                "#B0BEC5",
                "#B0BEC5",
                "#B0BEC5",
                "red",
                "#B0BEC5",
                "#B0BEC5",
                "#B0BEC5",
                "#B0BEC5",
                "#B0BEC5",
                "#B0BEC5",
                "#B0BEC5",
                "#B0BEC5",
                "#B0BEC5",
                "#B0BEC5",
                "#B0BEC5",
                "#B0BEC5",
                "#B0BEC5",
                "#B0BEC5",
                "#B0BEC5",
                "#B0BEC5",
                "#B0BEC5",
                "#B0BEC5",
                "#B0BEC5",
                "#B0BEC5",
                "#B0BEC5",
                "#B0BEC5",
                "#B0BEC5",
                "#B0BEC5",
                "#B0BEC5",
                "#B0BEC5",
                "#B0BEC5",
                "#B0BEC5",
                "#B0BEC5",
                "#B0BEC5"
               ]
              ]
             }
            ],
            "label": "Topic 37",
            "method": "update"
           },
           {
            "args": [
             {
              "marker.color": [
               [
                "#B0BEC5",
                "#B0BEC5",
                "#B0BEC5",
                "#B0BEC5",
                "#B0BEC5",
                "#B0BEC5",
                "#B0BEC5",
                "#B0BEC5",
                "#B0BEC5",
                "#B0BEC5",
                "#B0BEC5",
                "#B0BEC5",
                "#B0BEC5",
                "#B0BEC5",
                "#B0BEC5",
                "#B0BEC5",
                "#B0BEC5",
                "#B0BEC5",
                "#B0BEC5",
                "#B0BEC5",
                "#B0BEC5",
                "#B0BEC5",
                "#B0BEC5",
                "#B0BEC5",
                "#B0BEC5",
                "#B0BEC5",
                "#B0BEC5",
                "#B0BEC5",
                "#B0BEC5",
                "#B0BEC5",
                "#B0BEC5",
                "#B0BEC5",
                "#B0BEC5",
                "#B0BEC5",
                "#B0BEC5",
                "#B0BEC5",
                "#B0BEC5",
                "#B0BEC5",
                "red",
                "#B0BEC5",
                "#B0BEC5",
                "#B0BEC5",
                "#B0BEC5",
                "#B0BEC5",
                "#B0BEC5",
                "#B0BEC5",
                "#B0BEC5",
                "#B0BEC5",
                "#B0BEC5",
                "#B0BEC5",
                "#B0BEC5",
                "#B0BEC5",
                "#B0BEC5",
                "#B0BEC5",
                "#B0BEC5",
                "#B0BEC5",
                "#B0BEC5",
                "#B0BEC5",
                "#B0BEC5",
                "#B0BEC5",
                "#B0BEC5",
                "#B0BEC5",
                "#B0BEC5",
                "#B0BEC5",
                "#B0BEC5",
                "#B0BEC5",
                "#B0BEC5",
                "#B0BEC5"
               ]
              ]
             }
            ],
            "label": "Topic 38",
            "method": "update"
           },
           {
            "args": [
             {
              "marker.color": [
               [
                "#B0BEC5",
                "#B0BEC5",
                "#B0BEC5",
                "#B0BEC5",
                "#B0BEC5",
                "#B0BEC5",
                "#B0BEC5",
                "#B0BEC5",
                "#B0BEC5",
                "#B0BEC5",
                "#B0BEC5",
                "#B0BEC5",
                "#B0BEC5",
                "#B0BEC5",
                "#B0BEC5",
                "#B0BEC5",
                "#B0BEC5",
                "#B0BEC5",
                "#B0BEC5",
                "#B0BEC5",
                "#B0BEC5",
                "#B0BEC5",
                "#B0BEC5",
                "#B0BEC5",
                "#B0BEC5",
                "#B0BEC5",
                "#B0BEC5",
                "#B0BEC5",
                "#B0BEC5",
                "#B0BEC5",
                "#B0BEC5",
                "#B0BEC5",
                "#B0BEC5",
                "#B0BEC5",
                "#B0BEC5",
                "#B0BEC5",
                "#B0BEC5",
                "#B0BEC5",
                "#B0BEC5",
                "red",
                "#B0BEC5",
                "#B0BEC5",
                "#B0BEC5",
                "#B0BEC5",
                "#B0BEC5",
                "#B0BEC5",
                "#B0BEC5",
                "#B0BEC5",
                "#B0BEC5",
                "#B0BEC5",
                "#B0BEC5",
                "#B0BEC5",
                "#B0BEC5",
                "#B0BEC5",
                "#B0BEC5",
                "#B0BEC5",
                "#B0BEC5",
                "#B0BEC5",
                "#B0BEC5",
                "#B0BEC5",
                "#B0BEC5",
                "#B0BEC5",
                "#B0BEC5",
                "#B0BEC5",
                "#B0BEC5",
                "#B0BEC5",
                "#B0BEC5",
                "#B0BEC5"
               ]
              ]
             }
            ],
            "label": "Topic 39",
            "method": "update"
           },
           {
            "args": [
             {
              "marker.color": [
               [
                "#B0BEC5",
                "#B0BEC5",
                "#B0BEC5",
                "#B0BEC5",
                "#B0BEC5",
                "#B0BEC5",
                "#B0BEC5",
                "#B0BEC5",
                "#B0BEC5",
                "#B0BEC5",
                "#B0BEC5",
                "#B0BEC5",
                "#B0BEC5",
                "#B0BEC5",
                "#B0BEC5",
                "#B0BEC5",
                "#B0BEC5",
                "#B0BEC5",
                "#B0BEC5",
                "#B0BEC5",
                "#B0BEC5",
                "#B0BEC5",
                "#B0BEC5",
                "#B0BEC5",
                "#B0BEC5",
                "#B0BEC5",
                "#B0BEC5",
                "#B0BEC5",
                "#B0BEC5",
                "#B0BEC5",
                "#B0BEC5",
                "#B0BEC5",
                "#B0BEC5",
                "#B0BEC5",
                "#B0BEC5",
                "#B0BEC5",
                "#B0BEC5",
                "#B0BEC5",
                "#B0BEC5",
                "#B0BEC5",
                "red",
                "#B0BEC5",
                "#B0BEC5",
                "#B0BEC5",
                "#B0BEC5",
                "#B0BEC5",
                "#B0BEC5",
                "#B0BEC5",
                "#B0BEC5",
                "#B0BEC5",
                "#B0BEC5",
                "#B0BEC5",
                "#B0BEC5",
                "#B0BEC5",
                "#B0BEC5",
                "#B0BEC5",
                "#B0BEC5",
                "#B0BEC5",
                "#B0BEC5",
                "#B0BEC5",
                "#B0BEC5",
                "#B0BEC5",
                "#B0BEC5",
                "#B0BEC5",
                "#B0BEC5",
                "#B0BEC5",
                "#B0BEC5",
                "#B0BEC5"
               ]
              ]
             }
            ],
            "label": "Topic 40",
            "method": "update"
           },
           {
            "args": [
             {
              "marker.color": [
               [
                "#B0BEC5",
                "#B0BEC5",
                "#B0BEC5",
                "#B0BEC5",
                "#B0BEC5",
                "#B0BEC5",
                "#B0BEC5",
                "#B0BEC5",
                "#B0BEC5",
                "#B0BEC5",
                "#B0BEC5",
                "#B0BEC5",
                "#B0BEC5",
                "#B0BEC5",
                "#B0BEC5",
                "#B0BEC5",
                "#B0BEC5",
                "#B0BEC5",
                "#B0BEC5",
                "#B0BEC5",
                "#B0BEC5",
                "#B0BEC5",
                "#B0BEC5",
                "#B0BEC5",
                "#B0BEC5",
                "#B0BEC5",
                "#B0BEC5",
                "#B0BEC5",
                "#B0BEC5",
                "#B0BEC5",
                "#B0BEC5",
                "#B0BEC5",
                "#B0BEC5",
                "#B0BEC5",
                "#B0BEC5",
                "#B0BEC5",
                "#B0BEC5",
                "#B0BEC5",
                "#B0BEC5",
                "#B0BEC5",
                "#B0BEC5",
                "red",
                "#B0BEC5",
                "#B0BEC5",
                "#B0BEC5",
                "#B0BEC5",
                "#B0BEC5",
                "#B0BEC5",
                "#B0BEC5",
                "#B0BEC5",
                "#B0BEC5",
                "#B0BEC5",
                "#B0BEC5",
                "#B0BEC5",
                "#B0BEC5",
                "#B0BEC5",
                "#B0BEC5",
                "#B0BEC5",
                "#B0BEC5",
                "#B0BEC5",
                "#B0BEC5",
                "#B0BEC5",
                "#B0BEC5",
                "#B0BEC5",
                "#B0BEC5",
                "#B0BEC5",
                "#B0BEC5",
                "#B0BEC5"
               ]
              ]
             }
            ],
            "label": "Topic 41",
            "method": "update"
           },
           {
            "args": [
             {
              "marker.color": [
               [
                "#B0BEC5",
                "#B0BEC5",
                "#B0BEC5",
                "#B0BEC5",
                "#B0BEC5",
                "#B0BEC5",
                "#B0BEC5",
                "#B0BEC5",
                "#B0BEC5",
                "#B0BEC5",
                "#B0BEC5",
                "#B0BEC5",
                "#B0BEC5",
                "#B0BEC5",
                "#B0BEC5",
                "#B0BEC5",
                "#B0BEC5",
                "#B0BEC5",
                "#B0BEC5",
                "#B0BEC5",
                "#B0BEC5",
                "#B0BEC5",
                "#B0BEC5",
                "#B0BEC5",
                "#B0BEC5",
                "#B0BEC5",
                "#B0BEC5",
                "#B0BEC5",
                "#B0BEC5",
                "#B0BEC5",
                "#B0BEC5",
                "#B0BEC5",
                "#B0BEC5",
                "#B0BEC5",
                "#B0BEC5",
                "#B0BEC5",
                "#B0BEC5",
                "#B0BEC5",
                "#B0BEC5",
                "#B0BEC5",
                "#B0BEC5",
                "#B0BEC5",
                "red",
                "#B0BEC5",
                "#B0BEC5",
                "#B0BEC5",
                "#B0BEC5",
                "#B0BEC5",
                "#B0BEC5",
                "#B0BEC5",
                "#B0BEC5",
                "#B0BEC5",
                "#B0BEC5",
                "#B0BEC5",
                "#B0BEC5",
                "#B0BEC5",
                "#B0BEC5",
                "#B0BEC5",
                "#B0BEC5",
                "#B0BEC5",
                "#B0BEC5",
                "#B0BEC5",
                "#B0BEC5",
                "#B0BEC5",
                "#B0BEC5",
                "#B0BEC5",
                "#B0BEC5",
                "#B0BEC5"
               ]
              ]
             }
            ],
            "label": "Topic 42",
            "method": "update"
           },
           {
            "args": [
             {
              "marker.color": [
               [
                "#B0BEC5",
                "#B0BEC5",
                "#B0BEC5",
                "#B0BEC5",
                "#B0BEC5",
                "#B0BEC5",
                "#B0BEC5",
                "#B0BEC5",
                "#B0BEC5",
                "#B0BEC5",
                "#B0BEC5",
                "#B0BEC5",
                "#B0BEC5",
                "#B0BEC5",
                "#B0BEC5",
                "#B0BEC5",
                "#B0BEC5",
                "#B0BEC5",
                "#B0BEC5",
                "#B0BEC5",
                "#B0BEC5",
                "#B0BEC5",
                "#B0BEC5",
                "#B0BEC5",
                "#B0BEC5",
                "#B0BEC5",
                "#B0BEC5",
                "#B0BEC5",
                "#B0BEC5",
                "#B0BEC5",
                "#B0BEC5",
                "#B0BEC5",
                "#B0BEC5",
                "#B0BEC5",
                "#B0BEC5",
                "#B0BEC5",
                "#B0BEC5",
                "#B0BEC5",
                "#B0BEC5",
                "#B0BEC5",
                "#B0BEC5",
                "#B0BEC5",
                "#B0BEC5",
                "red",
                "#B0BEC5",
                "#B0BEC5",
                "#B0BEC5",
                "#B0BEC5",
                "#B0BEC5",
                "#B0BEC5",
                "#B0BEC5",
                "#B0BEC5",
                "#B0BEC5",
                "#B0BEC5",
                "#B0BEC5",
                "#B0BEC5",
                "#B0BEC5",
                "#B0BEC5",
                "#B0BEC5",
                "#B0BEC5",
                "#B0BEC5",
                "#B0BEC5",
                "#B0BEC5",
                "#B0BEC5",
                "#B0BEC5",
                "#B0BEC5",
                "#B0BEC5",
                "#B0BEC5"
               ]
              ]
             }
            ],
            "label": "Topic 43",
            "method": "update"
           },
           {
            "args": [
             {
              "marker.color": [
               [
                "#B0BEC5",
                "#B0BEC5",
                "#B0BEC5",
                "#B0BEC5",
                "#B0BEC5",
                "#B0BEC5",
                "#B0BEC5",
                "#B0BEC5",
                "#B0BEC5",
                "#B0BEC5",
                "#B0BEC5",
                "#B0BEC5",
                "#B0BEC5",
                "#B0BEC5",
                "#B0BEC5",
                "#B0BEC5",
                "#B0BEC5",
                "#B0BEC5",
                "#B0BEC5",
                "#B0BEC5",
                "#B0BEC5",
                "#B0BEC5",
                "#B0BEC5",
                "#B0BEC5",
                "#B0BEC5",
                "#B0BEC5",
                "#B0BEC5",
                "#B0BEC5",
                "#B0BEC5",
                "#B0BEC5",
                "#B0BEC5",
                "#B0BEC5",
                "#B0BEC5",
                "#B0BEC5",
                "#B0BEC5",
                "#B0BEC5",
                "#B0BEC5",
                "#B0BEC5",
                "#B0BEC5",
                "#B0BEC5",
                "#B0BEC5",
                "#B0BEC5",
                "#B0BEC5",
                "#B0BEC5",
                "red",
                "#B0BEC5",
                "#B0BEC5",
                "#B0BEC5",
                "#B0BEC5",
                "#B0BEC5",
                "#B0BEC5",
                "#B0BEC5",
                "#B0BEC5",
                "#B0BEC5",
                "#B0BEC5",
                "#B0BEC5",
                "#B0BEC5",
                "#B0BEC5",
                "#B0BEC5",
                "#B0BEC5",
                "#B0BEC5",
                "#B0BEC5",
                "#B0BEC5",
                "#B0BEC5",
                "#B0BEC5",
                "#B0BEC5",
                "#B0BEC5",
                "#B0BEC5"
               ]
              ]
             }
            ],
            "label": "Topic 44",
            "method": "update"
           },
           {
            "args": [
             {
              "marker.color": [
               [
                "#B0BEC5",
                "#B0BEC5",
                "#B0BEC5",
                "#B0BEC5",
                "#B0BEC5",
                "#B0BEC5",
                "#B0BEC5",
                "#B0BEC5",
                "#B0BEC5",
                "#B0BEC5",
                "#B0BEC5",
                "#B0BEC5",
                "#B0BEC5",
                "#B0BEC5",
                "#B0BEC5",
                "#B0BEC5",
                "#B0BEC5",
                "#B0BEC5",
                "#B0BEC5",
                "#B0BEC5",
                "#B0BEC5",
                "#B0BEC5",
                "#B0BEC5",
                "#B0BEC5",
                "#B0BEC5",
                "#B0BEC5",
                "#B0BEC5",
                "#B0BEC5",
                "#B0BEC5",
                "#B0BEC5",
                "#B0BEC5",
                "#B0BEC5",
                "#B0BEC5",
                "#B0BEC5",
                "#B0BEC5",
                "#B0BEC5",
                "#B0BEC5",
                "#B0BEC5",
                "#B0BEC5",
                "#B0BEC5",
                "#B0BEC5",
                "#B0BEC5",
                "#B0BEC5",
                "#B0BEC5",
                "#B0BEC5",
                "red",
                "#B0BEC5",
                "#B0BEC5",
                "#B0BEC5",
                "#B0BEC5",
                "#B0BEC5",
                "#B0BEC5",
                "#B0BEC5",
                "#B0BEC5",
                "#B0BEC5",
                "#B0BEC5",
                "#B0BEC5",
                "#B0BEC5",
                "#B0BEC5",
                "#B0BEC5",
                "#B0BEC5",
                "#B0BEC5",
                "#B0BEC5",
                "#B0BEC5",
                "#B0BEC5",
                "#B0BEC5",
                "#B0BEC5",
                "#B0BEC5"
               ]
              ]
             }
            ],
            "label": "Topic 45",
            "method": "update"
           },
           {
            "args": [
             {
              "marker.color": [
               [
                "#B0BEC5",
                "#B0BEC5",
                "#B0BEC5",
                "#B0BEC5",
                "#B0BEC5",
                "#B0BEC5",
                "#B0BEC5",
                "#B0BEC5",
                "#B0BEC5",
                "#B0BEC5",
                "#B0BEC5",
                "#B0BEC5",
                "#B0BEC5",
                "#B0BEC5",
                "#B0BEC5",
                "#B0BEC5",
                "#B0BEC5",
                "#B0BEC5",
                "#B0BEC5",
                "#B0BEC5",
                "#B0BEC5",
                "#B0BEC5",
                "#B0BEC5",
                "#B0BEC5",
                "#B0BEC5",
                "#B0BEC5",
                "#B0BEC5",
                "#B0BEC5",
                "#B0BEC5",
                "#B0BEC5",
                "#B0BEC5",
                "#B0BEC5",
                "#B0BEC5",
                "#B0BEC5",
                "#B0BEC5",
                "#B0BEC5",
                "#B0BEC5",
                "#B0BEC5",
                "#B0BEC5",
                "#B0BEC5",
                "#B0BEC5",
                "#B0BEC5",
                "#B0BEC5",
                "#B0BEC5",
                "#B0BEC5",
                "#B0BEC5",
                "red",
                "#B0BEC5",
                "#B0BEC5",
                "#B0BEC5",
                "#B0BEC5",
                "#B0BEC5",
                "#B0BEC5",
                "#B0BEC5",
                "#B0BEC5",
                "#B0BEC5",
                "#B0BEC5",
                "#B0BEC5",
                "#B0BEC5",
                "#B0BEC5",
                "#B0BEC5",
                "#B0BEC5",
                "#B0BEC5",
                "#B0BEC5",
                "#B0BEC5",
                "#B0BEC5",
                "#B0BEC5",
                "#B0BEC5"
               ]
              ]
             }
            ],
            "label": "Topic 46",
            "method": "update"
           },
           {
            "args": [
             {
              "marker.color": [
               [
                "#B0BEC5",
                "#B0BEC5",
                "#B0BEC5",
                "#B0BEC5",
                "#B0BEC5",
                "#B0BEC5",
                "#B0BEC5",
                "#B0BEC5",
                "#B0BEC5",
                "#B0BEC5",
                "#B0BEC5",
                "#B0BEC5",
                "#B0BEC5",
                "#B0BEC5",
                "#B0BEC5",
                "#B0BEC5",
                "#B0BEC5",
                "#B0BEC5",
                "#B0BEC5",
                "#B0BEC5",
                "#B0BEC5",
                "#B0BEC5",
                "#B0BEC5",
                "#B0BEC5",
                "#B0BEC5",
                "#B0BEC5",
                "#B0BEC5",
                "#B0BEC5",
                "#B0BEC5",
                "#B0BEC5",
                "#B0BEC5",
                "#B0BEC5",
                "#B0BEC5",
                "#B0BEC5",
                "#B0BEC5",
                "#B0BEC5",
                "#B0BEC5",
                "#B0BEC5",
                "#B0BEC5",
                "#B0BEC5",
                "#B0BEC5",
                "#B0BEC5",
                "#B0BEC5",
                "#B0BEC5",
                "#B0BEC5",
                "#B0BEC5",
                "#B0BEC5",
                "red",
                "#B0BEC5",
                "#B0BEC5",
                "#B0BEC5",
                "#B0BEC5",
                "#B0BEC5",
                "#B0BEC5",
                "#B0BEC5",
                "#B0BEC5",
                "#B0BEC5",
                "#B0BEC5",
                "#B0BEC5",
                "#B0BEC5",
                "#B0BEC5",
                "#B0BEC5",
                "#B0BEC5",
                "#B0BEC5",
                "#B0BEC5",
                "#B0BEC5",
                "#B0BEC5",
                "#B0BEC5"
               ]
              ]
             }
            ],
            "label": "Topic 47",
            "method": "update"
           },
           {
            "args": [
             {
              "marker.color": [
               [
                "#B0BEC5",
                "#B0BEC5",
                "#B0BEC5",
                "#B0BEC5",
                "#B0BEC5",
                "#B0BEC5",
                "#B0BEC5",
                "#B0BEC5",
                "#B0BEC5",
                "#B0BEC5",
                "#B0BEC5",
                "#B0BEC5",
                "#B0BEC5",
                "#B0BEC5",
                "#B0BEC5",
                "#B0BEC5",
                "#B0BEC5",
                "#B0BEC5",
                "#B0BEC5",
                "#B0BEC5",
                "#B0BEC5",
                "#B0BEC5",
                "#B0BEC5",
                "#B0BEC5",
                "#B0BEC5",
                "#B0BEC5",
                "#B0BEC5",
                "#B0BEC5",
                "#B0BEC5",
                "#B0BEC5",
                "#B0BEC5",
                "#B0BEC5",
                "#B0BEC5",
                "#B0BEC5",
                "#B0BEC5",
                "#B0BEC5",
                "#B0BEC5",
                "#B0BEC5",
                "#B0BEC5",
                "#B0BEC5",
                "#B0BEC5",
                "#B0BEC5",
                "#B0BEC5",
                "#B0BEC5",
                "#B0BEC5",
                "#B0BEC5",
                "#B0BEC5",
                "#B0BEC5",
                "red",
                "#B0BEC5",
                "#B0BEC5",
                "#B0BEC5",
                "#B0BEC5",
                "#B0BEC5",
                "#B0BEC5",
                "#B0BEC5",
                "#B0BEC5",
                "#B0BEC5",
                "#B0BEC5",
                "#B0BEC5",
                "#B0BEC5",
                "#B0BEC5",
                "#B0BEC5",
                "#B0BEC5",
                "#B0BEC5",
                "#B0BEC5",
                "#B0BEC5",
                "#B0BEC5"
               ]
              ]
             }
            ],
            "label": "Topic 48",
            "method": "update"
           },
           {
            "args": [
             {
              "marker.color": [
               [
                "#B0BEC5",
                "#B0BEC5",
                "#B0BEC5",
                "#B0BEC5",
                "#B0BEC5",
                "#B0BEC5",
                "#B0BEC5",
                "#B0BEC5",
                "#B0BEC5",
                "#B0BEC5",
                "#B0BEC5",
                "#B0BEC5",
                "#B0BEC5",
                "#B0BEC5",
                "#B0BEC5",
                "#B0BEC5",
                "#B0BEC5",
                "#B0BEC5",
                "#B0BEC5",
                "#B0BEC5",
                "#B0BEC5",
                "#B0BEC5",
                "#B0BEC5",
                "#B0BEC5",
                "#B0BEC5",
                "#B0BEC5",
                "#B0BEC5",
                "#B0BEC5",
                "#B0BEC5",
                "#B0BEC5",
                "#B0BEC5",
                "#B0BEC5",
                "#B0BEC5",
                "#B0BEC5",
                "#B0BEC5",
                "#B0BEC5",
                "#B0BEC5",
                "#B0BEC5",
                "#B0BEC5",
                "#B0BEC5",
                "#B0BEC5",
                "#B0BEC5",
                "#B0BEC5",
                "#B0BEC5",
                "#B0BEC5",
                "#B0BEC5",
                "#B0BEC5",
                "#B0BEC5",
                "#B0BEC5",
                "red",
                "#B0BEC5",
                "#B0BEC5",
                "#B0BEC5",
                "#B0BEC5",
                "#B0BEC5",
                "#B0BEC5",
                "#B0BEC5",
                "#B0BEC5",
                "#B0BEC5",
                "#B0BEC5",
                "#B0BEC5",
                "#B0BEC5",
                "#B0BEC5",
                "#B0BEC5",
                "#B0BEC5",
                "#B0BEC5",
                "#B0BEC5",
                "#B0BEC5"
               ]
              ]
             }
            ],
            "label": "Topic 49",
            "method": "update"
           },
           {
            "args": [
             {
              "marker.color": [
               [
                "#B0BEC5",
                "#B0BEC5",
                "#B0BEC5",
                "#B0BEC5",
                "#B0BEC5",
                "#B0BEC5",
                "#B0BEC5",
                "#B0BEC5",
                "#B0BEC5",
                "#B0BEC5",
                "#B0BEC5",
                "#B0BEC5",
                "#B0BEC5",
                "#B0BEC5",
                "#B0BEC5",
                "#B0BEC5",
                "#B0BEC5",
                "#B0BEC5",
                "#B0BEC5",
                "#B0BEC5",
                "#B0BEC5",
                "#B0BEC5",
                "#B0BEC5",
                "#B0BEC5",
                "#B0BEC5",
                "#B0BEC5",
                "#B0BEC5",
                "#B0BEC5",
                "#B0BEC5",
                "#B0BEC5",
                "#B0BEC5",
                "#B0BEC5",
                "#B0BEC5",
                "#B0BEC5",
                "#B0BEC5",
                "#B0BEC5",
                "#B0BEC5",
                "#B0BEC5",
                "#B0BEC5",
                "#B0BEC5",
                "#B0BEC5",
                "#B0BEC5",
                "#B0BEC5",
                "#B0BEC5",
                "#B0BEC5",
                "#B0BEC5",
                "#B0BEC5",
                "#B0BEC5",
                "#B0BEC5",
                "#B0BEC5",
                "red",
                "#B0BEC5",
                "#B0BEC5",
                "#B0BEC5",
                "#B0BEC5",
                "#B0BEC5",
                "#B0BEC5",
                "#B0BEC5",
                "#B0BEC5",
                "#B0BEC5",
                "#B0BEC5",
                "#B0BEC5",
                "#B0BEC5",
                "#B0BEC5",
                "#B0BEC5",
                "#B0BEC5",
                "#B0BEC5",
                "#B0BEC5"
               ]
              ]
             }
            ],
            "label": "Topic 50",
            "method": "update"
           },
           {
            "args": [
             {
              "marker.color": [
               [
                "#B0BEC5",
                "#B0BEC5",
                "#B0BEC5",
                "#B0BEC5",
                "#B0BEC5",
                "#B0BEC5",
                "#B0BEC5",
                "#B0BEC5",
                "#B0BEC5",
                "#B0BEC5",
                "#B0BEC5",
                "#B0BEC5",
                "#B0BEC5",
                "#B0BEC5",
                "#B0BEC5",
                "#B0BEC5",
                "#B0BEC5",
                "#B0BEC5",
                "#B0BEC5",
                "#B0BEC5",
                "#B0BEC5",
                "#B0BEC5",
                "#B0BEC5",
                "#B0BEC5",
                "#B0BEC5",
                "#B0BEC5",
                "#B0BEC5",
                "#B0BEC5",
                "#B0BEC5",
                "#B0BEC5",
                "#B0BEC5",
                "#B0BEC5",
                "#B0BEC5",
                "#B0BEC5",
                "#B0BEC5",
                "#B0BEC5",
                "#B0BEC5",
                "#B0BEC5",
                "#B0BEC5",
                "#B0BEC5",
                "#B0BEC5",
                "#B0BEC5",
                "#B0BEC5",
                "#B0BEC5",
                "#B0BEC5",
                "#B0BEC5",
                "#B0BEC5",
                "#B0BEC5",
                "#B0BEC5",
                "#B0BEC5",
                "#B0BEC5",
                "red",
                "#B0BEC5",
                "#B0BEC5",
                "#B0BEC5",
                "#B0BEC5",
                "#B0BEC5",
                "#B0BEC5",
                "#B0BEC5",
                "#B0BEC5",
                "#B0BEC5",
                "#B0BEC5",
                "#B0BEC5",
                "#B0BEC5",
                "#B0BEC5",
                "#B0BEC5",
                "#B0BEC5",
                "#B0BEC5"
               ]
              ]
             }
            ],
            "label": "Topic 51",
            "method": "update"
           },
           {
            "args": [
             {
              "marker.color": [
               [
                "#B0BEC5",
                "#B0BEC5",
                "#B0BEC5",
                "#B0BEC5",
                "#B0BEC5",
                "#B0BEC5",
                "#B0BEC5",
                "#B0BEC5",
                "#B0BEC5",
                "#B0BEC5",
                "#B0BEC5",
                "#B0BEC5",
                "#B0BEC5",
                "#B0BEC5",
                "#B0BEC5",
                "#B0BEC5",
                "#B0BEC5",
                "#B0BEC5",
                "#B0BEC5",
                "#B0BEC5",
                "#B0BEC5",
                "#B0BEC5",
                "#B0BEC5",
                "#B0BEC5",
                "#B0BEC5",
                "#B0BEC5",
                "#B0BEC5",
                "#B0BEC5",
                "#B0BEC5",
                "#B0BEC5",
                "#B0BEC5",
                "#B0BEC5",
                "#B0BEC5",
                "#B0BEC5",
                "#B0BEC5",
                "#B0BEC5",
                "#B0BEC5",
                "#B0BEC5",
                "#B0BEC5",
                "#B0BEC5",
                "#B0BEC5",
                "#B0BEC5",
                "#B0BEC5",
                "#B0BEC5",
                "#B0BEC5",
                "#B0BEC5",
                "#B0BEC5",
                "#B0BEC5",
                "#B0BEC5",
                "#B0BEC5",
                "#B0BEC5",
                "#B0BEC5",
                "red",
                "#B0BEC5",
                "#B0BEC5",
                "#B0BEC5",
                "#B0BEC5",
                "#B0BEC5",
                "#B0BEC5",
                "#B0BEC5",
                "#B0BEC5",
                "#B0BEC5",
                "#B0BEC5",
                "#B0BEC5",
                "#B0BEC5",
                "#B0BEC5",
                "#B0BEC5",
                "#B0BEC5"
               ]
              ]
             }
            ],
            "label": "Topic 52",
            "method": "update"
           },
           {
            "args": [
             {
              "marker.color": [
               [
                "#B0BEC5",
                "#B0BEC5",
                "#B0BEC5",
                "#B0BEC5",
                "#B0BEC5",
                "#B0BEC5",
                "#B0BEC5",
                "#B0BEC5",
                "#B0BEC5",
                "#B0BEC5",
                "#B0BEC5",
                "#B0BEC5",
                "#B0BEC5",
                "#B0BEC5",
                "#B0BEC5",
                "#B0BEC5",
                "#B0BEC5",
                "#B0BEC5",
                "#B0BEC5",
                "#B0BEC5",
                "#B0BEC5",
                "#B0BEC5",
                "#B0BEC5",
                "#B0BEC5",
                "#B0BEC5",
                "#B0BEC5",
                "#B0BEC5",
                "#B0BEC5",
                "#B0BEC5",
                "#B0BEC5",
                "#B0BEC5",
                "#B0BEC5",
                "#B0BEC5",
                "#B0BEC5",
                "#B0BEC5",
                "#B0BEC5",
                "#B0BEC5",
                "#B0BEC5",
                "#B0BEC5",
                "#B0BEC5",
                "#B0BEC5",
                "#B0BEC5",
                "#B0BEC5",
                "#B0BEC5",
                "#B0BEC5",
                "#B0BEC5",
                "#B0BEC5",
                "#B0BEC5",
                "#B0BEC5",
                "#B0BEC5",
                "#B0BEC5",
                "#B0BEC5",
                "#B0BEC5",
                "red",
                "#B0BEC5",
                "#B0BEC5",
                "#B0BEC5",
                "#B0BEC5",
                "#B0BEC5",
                "#B0BEC5",
                "#B0BEC5",
                "#B0BEC5",
                "#B0BEC5",
                "#B0BEC5",
                "#B0BEC5",
                "#B0BEC5",
                "#B0BEC5",
                "#B0BEC5"
               ]
              ]
             }
            ],
            "label": "Topic 53",
            "method": "update"
           },
           {
            "args": [
             {
              "marker.color": [
               [
                "#B0BEC5",
                "#B0BEC5",
                "#B0BEC5",
                "#B0BEC5",
                "#B0BEC5",
                "#B0BEC5",
                "#B0BEC5",
                "#B0BEC5",
                "#B0BEC5",
                "#B0BEC5",
                "#B0BEC5",
                "#B0BEC5",
                "#B0BEC5",
                "#B0BEC5",
                "#B0BEC5",
                "#B0BEC5",
                "#B0BEC5",
                "#B0BEC5",
                "#B0BEC5",
                "#B0BEC5",
                "#B0BEC5",
                "#B0BEC5",
                "#B0BEC5",
                "#B0BEC5",
                "#B0BEC5",
                "#B0BEC5",
                "#B0BEC5",
                "#B0BEC5",
                "#B0BEC5",
                "#B0BEC5",
                "#B0BEC5",
                "#B0BEC5",
                "#B0BEC5",
                "#B0BEC5",
                "#B0BEC5",
                "#B0BEC5",
                "#B0BEC5",
                "#B0BEC5",
                "#B0BEC5",
                "#B0BEC5",
                "#B0BEC5",
                "#B0BEC5",
                "#B0BEC5",
                "#B0BEC5",
                "#B0BEC5",
                "#B0BEC5",
                "#B0BEC5",
                "#B0BEC5",
                "#B0BEC5",
                "#B0BEC5",
                "#B0BEC5",
                "#B0BEC5",
                "#B0BEC5",
                "#B0BEC5",
                "red",
                "#B0BEC5",
                "#B0BEC5",
                "#B0BEC5",
                "#B0BEC5",
                "#B0BEC5",
                "#B0BEC5",
                "#B0BEC5",
                "#B0BEC5",
                "#B0BEC5",
                "#B0BEC5",
                "#B0BEC5",
                "#B0BEC5",
                "#B0BEC5"
               ]
              ]
             }
            ],
            "label": "Topic 54",
            "method": "update"
           },
           {
            "args": [
             {
              "marker.color": [
               [
                "#B0BEC5",
                "#B0BEC5",
                "#B0BEC5",
                "#B0BEC5",
                "#B0BEC5",
                "#B0BEC5",
                "#B0BEC5",
                "#B0BEC5",
                "#B0BEC5",
                "#B0BEC5",
                "#B0BEC5",
                "#B0BEC5",
                "#B0BEC5",
                "#B0BEC5",
                "#B0BEC5",
                "#B0BEC5",
                "#B0BEC5",
                "#B0BEC5",
                "#B0BEC5",
                "#B0BEC5",
                "#B0BEC5",
                "#B0BEC5",
                "#B0BEC5",
                "#B0BEC5",
                "#B0BEC5",
                "#B0BEC5",
                "#B0BEC5",
                "#B0BEC5",
                "#B0BEC5",
                "#B0BEC5",
                "#B0BEC5",
                "#B0BEC5",
                "#B0BEC5",
                "#B0BEC5",
                "#B0BEC5",
                "#B0BEC5",
                "#B0BEC5",
                "#B0BEC5",
                "#B0BEC5",
                "#B0BEC5",
                "#B0BEC5",
                "#B0BEC5",
                "#B0BEC5",
                "#B0BEC5",
                "#B0BEC5",
                "#B0BEC5",
                "#B0BEC5",
                "#B0BEC5",
                "#B0BEC5",
                "#B0BEC5",
                "#B0BEC5",
                "#B0BEC5",
                "#B0BEC5",
                "#B0BEC5",
                "#B0BEC5",
                "red",
                "#B0BEC5",
                "#B0BEC5",
                "#B0BEC5",
                "#B0BEC5",
                "#B0BEC5",
                "#B0BEC5",
                "#B0BEC5",
                "#B0BEC5",
                "#B0BEC5",
                "#B0BEC5",
                "#B0BEC5",
                "#B0BEC5"
               ]
              ]
             }
            ],
            "label": "Topic 55",
            "method": "update"
           },
           {
            "args": [
             {
              "marker.color": [
               [
                "#B0BEC5",
                "#B0BEC5",
                "#B0BEC5",
                "#B0BEC5",
                "#B0BEC5",
                "#B0BEC5",
                "#B0BEC5",
                "#B0BEC5",
                "#B0BEC5",
                "#B0BEC5",
                "#B0BEC5",
                "#B0BEC5",
                "#B0BEC5",
                "#B0BEC5",
                "#B0BEC5",
                "#B0BEC5",
                "#B0BEC5",
                "#B0BEC5",
                "#B0BEC5",
                "#B0BEC5",
                "#B0BEC5",
                "#B0BEC5",
                "#B0BEC5",
                "#B0BEC5",
                "#B0BEC5",
                "#B0BEC5",
                "#B0BEC5",
                "#B0BEC5",
                "#B0BEC5",
                "#B0BEC5",
                "#B0BEC5",
                "#B0BEC5",
                "#B0BEC5",
                "#B0BEC5",
                "#B0BEC5",
                "#B0BEC5",
                "#B0BEC5",
                "#B0BEC5",
                "#B0BEC5",
                "#B0BEC5",
                "#B0BEC5",
                "#B0BEC5",
                "#B0BEC5",
                "#B0BEC5",
                "#B0BEC5",
                "#B0BEC5",
                "#B0BEC5",
                "#B0BEC5",
                "#B0BEC5",
                "#B0BEC5",
                "#B0BEC5",
                "#B0BEC5",
                "#B0BEC5",
                "#B0BEC5",
                "#B0BEC5",
                "#B0BEC5",
                "red",
                "#B0BEC5",
                "#B0BEC5",
                "#B0BEC5",
                "#B0BEC5",
                "#B0BEC5",
                "#B0BEC5",
                "#B0BEC5",
                "#B0BEC5",
                "#B0BEC5",
                "#B0BEC5",
                "#B0BEC5"
               ]
              ]
             }
            ],
            "label": "Topic 56",
            "method": "update"
           },
           {
            "args": [
             {
              "marker.color": [
               [
                "#B0BEC5",
                "#B0BEC5",
                "#B0BEC5",
                "#B0BEC5",
                "#B0BEC5",
                "#B0BEC5",
                "#B0BEC5",
                "#B0BEC5",
                "#B0BEC5",
                "#B0BEC5",
                "#B0BEC5",
                "#B0BEC5",
                "#B0BEC5",
                "#B0BEC5",
                "#B0BEC5",
                "#B0BEC5",
                "#B0BEC5",
                "#B0BEC5",
                "#B0BEC5",
                "#B0BEC5",
                "#B0BEC5",
                "#B0BEC5",
                "#B0BEC5",
                "#B0BEC5",
                "#B0BEC5",
                "#B0BEC5",
                "#B0BEC5",
                "#B0BEC5",
                "#B0BEC5",
                "#B0BEC5",
                "#B0BEC5",
                "#B0BEC5",
                "#B0BEC5",
                "#B0BEC5",
                "#B0BEC5",
                "#B0BEC5",
                "#B0BEC5",
                "#B0BEC5",
                "#B0BEC5",
                "#B0BEC5",
                "#B0BEC5",
                "#B0BEC5",
                "#B0BEC5",
                "#B0BEC5",
                "#B0BEC5",
                "#B0BEC5",
                "#B0BEC5",
                "#B0BEC5",
                "#B0BEC5",
                "#B0BEC5",
                "#B0BEC5",
                "#B0BEC5",
                "#B0BEC5",
                "#B0BEC5",
                "#B0BEC5",
                "#B0BEC5",
                "#B0BEC5",
                "red",
                "#B0BEC5",
                "#B0BEC5",
                "#B0BEC5",
                "#B0BEC5",
                "#B0BEC5",
                "#B0BEC5",
                "#B0BEC5",
                "#B0BEC5",
                "#B0BEC5",
                "#B0BEC5"
               ]
              ]
             }
            ],
            "label": "Topic 57",
            "method": "update"
           },
           {
            "args": [
             {
              "marker.color": [
               [
                "#B0BEC5",
                "#B0BEC5",
                "#B0BEC5",
                "#B0BEC5",
                "#B0BEC5",
                "#B0BEC5",
                "#B0BEC5",
                "#B0BEC5",
                "#B0BEC5",
                "#B0BEC5",
                "#B0BEC5",
                "#B0BEC5",
                "#B0BEC5",
                "#B0BEC5",
                "#B0BEC5",
                "#B0BEC5",
                "#B0BEC5",
                "#B0BEC5",
                "#B0BEC5",
                "#B0BEC5",
                "#B0BEC5",
                "#B0BEC5",
                "#B0BEC5",
                "#B0BEC5",
                "#B0BEC5",
                "#B0BEC5",
                "#B0BEC5",
                "#B0BEC5",
                "#B0BEC5",
                "#B0BEC5",
                "#B0BEC5",
                "#B0BEC5",
                "#B0BEC5",
                "#B0BEC5",
                "#B0BEC5",
                "#B0BEC5",
                "#B0BEC5",
                "#B0BEC5",
                "#B0BEC5",
                "#B0BEC5",
                "#B0BEC5",
                "#B0BEC5",
                "#B0BEC5",
                "#B0BEC5",
                "#B0BEC5",
                "#B0BEC5",
                "#B0BEC5",
                "#B0BEC5",
                "#B0BEC5",
                "#B0BEC5",
                "#B0BEC5",
                "#B0BEC5",
                "#B0BEC5",
                "#B0BEC5",
                "#B0BEC5",
                "#B0BEC5",
                "#B0BEC5",
                "#B0BEC5",
                "red",
                "#B0BEC5",
                "#B0BEC5",
                "#B0BEC5",
                "#B0BEC5",
                "#B0BEC5",
                "#B0BEC5",
                "#B0BEC5",
                "#B0BEC5",
                "#B0BEC5"
               ]
              ]
             }
            ],
            "label": "Topic 58",
            "method": "update"
           },
           {
            "args": [
             {
              "marker.color": [
               [
                "#B0BEC5",
                "#B0BEC5",
                "#B0BEC5",
                "#B0BEC5",
                "#B0BEC5",
                "#B0BEC5",
                "#B0BEC5",
                "#B0BEC5",
                "#B0BEC5",
                "#B0BEC5",
                "#B0BEC5",
                "#B0BEC5",
                "#B0BEC5",
                "#B0BEC5",
                "#B0BEC5",
                "#B0BEC5",
                "#B0BEC5",
                "#B0BEC5",
                "#B0BEC5",
                "#B0BEC5",
                "#B0BEC5",
                "#B0BEC5",
                "#B0BEC5",
                "#B0BEC5",
                "#B0BEC5",
                "#B0BEC5",
                "#B0BEC5",
                "#B0BEC5",
                "#B0BEC5",
                "#B0BEC5",
                "#B0BEC5",
                "#B0BEC5",
                "#B0BEC5",
                "#B0BEC5",
                "#B0BEC5",
                "#B0BEC5",
                "#B0BEC5",
                "#B0BEC5",
                "#B0BEC5",
                "#B0BEC5",
                "#B0BEC5",
                "#B0BEC5",
                "#B0BEC5",
                "#B0BEC5",
                "#B0BEC5",
                "#B0BEC5",
                "#B0BEC5",
                "#B0BEC5",
                "#B0BEC5",
                "#B0BEC5",
                "#B0BEC5",
                "#B0BEC5",
                "#B0BEC5",
                "#B0BEC5",
                "#B0BEC5",
                "#B0BEC5",
                "#B0BEC5",
                "#B0BEC5",
                "#B0BEC5",
                "red",
                "#B0BEC5",
                "#B0BEC5",
                "#B0BEC5",
                "#B0BEC5",
                "#B0BEC5",
                "#B0BEC5",
                "#B0BEC5",
                "#B0BEC5"
               ]
              ]
             }
            ],
            "label": "Topic 59",
            "method": "update"
           },
           {
            "args": [
             {
              "marker.color": [
               [
                "#B0BEC5",
                "#B0BEC5",
                "#B0BEC5",
                "#B0BEC5",
                "#B0BEC5",
                "#B0BEC5",
                "#B0BEC5",
                "#B0BEC5",
                "#B0BEC5",
                "#B0BEC5",
                "#B0BEC5",
                "#B0BEC5",
                "#B0BEC5",
                "#B0BEC5",
                "#B0BEC5",
                "#B0BEC5",
                "#B0BEC5",
                "#B0BEC5",
                "#B0BEC5",
                "#B0BEC5",
                "#B0BEC5",
                "#B0BEC5",
                "#B0BEC5",
                "#B0BEC5",
                "#B0BEC5",
                "#B0BEC5",
                "#B0BEC5",
                "#B0BEC5",
                "#B0BEC5",
                "#B0BEC5",
                "#B0BEC5",
                "#B0BEC5",
                "#B0BEC5",
                "#B0BEC5",
                "#B0BEC5",
                "#B0BEC5",
                "#B0BEC5",
                "#B0BEC5",
                "#B0BEC5",
                "#B0BEC5",
                "#B0BEC5",
                "#B0BEC5",
                "#B0BEC5",
                "#B0BEC5",
                "#B0BEC5",
                "#B0BEC5",
                "#B0BEC5",
                "#B0BEC5",
                "#B0BEC5",
                "#B0BEC5",
                "#B0BEC5",
                "#B0BEC5",
                "#B0BEC5",
                "#B0BEC5",
                "#B0BEC5",
                "#B0BEC5",
                "#B0BEC5",
                "#B0BEC5",
                "#B0BEC5",
                "#B0BEC5",
                "red",
                "#B0BEC5",
                "#B0BEC5",
                "#B0BEC5",
                "#B0BEC5",
                "#B0BEC5",
                "#B0BEC5",
                "#B0BEC5"
               ]
              ]
             }
            ],
            "label": "Topic 60",
            "method": "update"
           },
           {
            "args": [
             {
              "marker.color": [
               [
                "#B0BEC5",
                "#B0BEC5",
                "#B0BEC5",
                "#B0BEC5",
                "#B0BEC5",
                "#B0BEC5",
                "#B0BEC5",
                "#B0BEC5",
                "#B0BEC5",
                "#B0BEC5",
                "#B0BEC5",
                "#B0BEC5",
                "#B0BEC5",
                "#B0BEC5",
                "#B0BEC5",
                "#B0BEC5",
                "#B0BEC5",
                "#B0BEC5",
                "#B0BEC5",
                "#B0BEC5",
                "#B0BEC5",
                "#B0BEC5",
                "#B0BEC5",
                "#B0BEC5",
                "#B0BEC5",
                "#B0BEC5",
                "#B0BEC5",
                "#B0BEC5",
                "#B0BEC5",
                "#B0BEC5",
                "#B0BEC5",
                "#B0BEC5",
                "#B0BEC5",
                "#B0BEC5",
                "#B0BEC5",
                "#B0BEC5",
                "#B0BEC5",
                "#B0BEC5",
                "#B0BEC5",
                "#B0BEC5",
                "#B0BEC5",
                "#B0BEC5",
                "#B0BEC5",
                "#B0BEC5",
                "#B0BEC5",
                "#B0BEC5",
                "#B0BEC5",
                "#B0BEC5",
                "#B0BEC5",
                "#B0BEC5",
                "#B0BEC5",
                "#B0BEC5",
                "#B0BEC5",
                "#B0BEC5",
                "#B0BEC5",
                "#B0BEC5",
                "#B0BEC5",
                "#B0BEC5",
                "#B0BEC5",
                "#B0BEC5",
                "#B0BEC5",
                "red",
                "#B0BEC5",
                "#B0BEC5",
                "#B0BEC5",
                "#B0BEC5",
                "#B0BEC5",
                "#B0BEC5"
               ]
              ]
             }
            ],
            "label": "Topic 61",
            "method": "update"
           },
           {
            "args": [
             {
              "marker.color": [
               [
                "#B0BEC5",
                "#B0BEC5",
                "#B0BEC5",
                "#B0BEC5",
                "#B0BEC5",
                "#B0BEC5",
                "#B0BEC5",
                "#B0BEC5",
                "#B0BEC5",
                "#B0BEC5",
                "#B0BEC5",
                "#B0BEC5",
                "#B0BEC5",
                "#B0BEC5",
                "#B0BEC5",
                "#B0BEC5",
                "#B0BEC5",
                "#B0BEC5",
                "#B0BEC5",
                "#B0BEC5",
                "#B0BEC5",
                "#B0BEC5",
                "#B0BEC5",
                "#B0BEC5",
                "#B0BEC5",
                "#B0BEC5",
                "#B0BEC5",
                "#B0BEC5",
                "#B0BEC5",
                "#B0BEC5",
                "#B0BEC5",
                "#B0BEC5",
                "#B0BEC5",
                "#B0BEC5",
                "#B0BEC5",
                "#B0BEC5",
                "#B0BEC5",
                "#B0BEC5",
                "#B0BEC5",
                "#B0BEC5",
                "#B0BEC5",
                "#B0BEC5",
                "#B0BEC5",
                "#B0BEC5",
                "#B0BEC5",
                "#B0BEC5",
                "#B0BEC5",
                "#B0BEC5",
                "#B0BEC5",
                "#B0BEC5",
                "#B0BEC5",
                "#B0BEC5",
                "#B0BEC5",
                "#B0BEC5",
                "#B0BEC5",
                "#B0BEC5",
                "#B0BEC5",
                "#B0BEC5",
                "#B0BEC5",
                "#B0BEC5",
                "#B0BEC5",
                "#B0BEC5",
                "red",
                "#B0BEC5",
                "#B0BEC5",
                "#B0BEC5",
                "#B0BEC5",
                "#B0BEC5"
               ]
              ]
             }
            ],
            "label": "Topic 62",
            "method": "update"
           },
           {
            "args": [
             {
              "marker.color": [
               [
                "#B0BEC5",
                "#B0BEC5",
                "#B0BEC5",
                "#B0BEC5",
                "#B0BEC5",
                "#B0BEC5",
                "#B0BEC5",
                "#B0BEC5",
                "#B0BEC5",
                "#B0BEC5",
                "#B0BEC5",
                "#B0BEC5",
                "#B0BEC5",
                "#B0BEC5",
                "#B0BEC5",
                "#B0BEC5",
                "#B0BEC5",
                "#B0BEC5",
                "#B0BEC5",
                "#B0BEC5",
                "#B0BEC5",
                "#B0BEC5",
                "#B0BEC5",
                "#B0BEC5",
                "#B0BEC5",
                "#B0BEC5",
                "#B0BEC5",
                "#B0BEC5",
                "#B0BEC5",
                "#B0BEC5",
                "#B0BEC5",
                "#B0BEC5",
                "#B0BEC5",
                "#B0BEC5",
                "#B0BEC5",
                "#B0BEC5",
                "#B0BEC5",
                "#B0BEC5",
                "#B0BEC5",
                "#B0BEC5",
                "#B0BEC5",
                "#B0BEC5",
                "#B0BEC5",
                "#B0BEC5",
                "#B0BEC5",
                "#B0BEC5",
                "#B0BEC5",
                "#B0BEC5",
                "#B0BEC5",
                "#B0BEC5",
                "#B0BEC5",
                "#B0BEC5",
                "#B0BEC5",
                "#B0BEC5",
                "#B0BEC5",
                "#B0BEC5",
                "#B0BEC5",
                "#B0BEC5",
                "#B0BEC5",
                "#B0BEC5",
                "#B0BEC5",
                "#B0BEC5",
                "#B0BEC5",
                "red",
                "#B0BEC5",
                "#B0BEC5",
                "#B0BEC5",
                "#B0BEC5"
               ]
              ]
             }
            ],
            "label": "Topic 63",
            "method": "update"
           },
           {
            "args": [
             {
              "marker.color": [
               [
                "#B0BEC5",
                "#B0BEC5",
                "#B0BEC5",
                "#B0BEC5",
                "#B0BEC5",
                "#B0BEC5",
                "#B0BEC5",
                "#B0BEC5",
                "#B0BEC5",
                "#B0BEC5",
                "#B0BEC5",
                "#B0BEC5",
                "#B0BEC5",
                "#B0BEC5",
                "#B0BEC5",
                "#B0BEC5",
                "#B0BEC5",
                "#B0BEC5",
                "#B0BEC5",
                "#B0BEC5",
                "#B0BEC5",
                "#B0BEC5",
                "#B0BEC5",
                "#B0BEC5",
                "#B0BEC5",
                "#B0BEC5",
                "#B0BEC5",
                "#B0BEC5",
                "#B0BEC5",
                "#B0BEC5",
                "#B0BEC5",
                "#B0BEC5",
                "#B0BEC5",
                "#B0BEC5",
                "#B0BEC5",
                "#B0BEC5",
                "#B0BEC5",
                "#B0BEC5",
                "#B0BEC5",
                "#B0BEC5",
                "#B0BEC5",
                "#B0BEC5",
                "#B0BEC5",
                "#B0BEC5",
                "#B0BEC5",
                "#B0BEC5",
                "#B0BEC5",
                "#B0BEC5",
                "#B0BEC5",
                "#B0BEC5",
                "#B0BEC5",
                "#B0BEC5",
                "#B0BEC5",
                "#B0BEC5",
                "#B0BEC5",
                "#B0BEC5",
                "#B0BEC5",
                "#B0BEC5",
                "#B0BEC5",
                "#B0BEC5",
                "#B0BEC5",
                "#B0BEC5",
                "#B0BEC5",
                "#B0BEC5",
                "red",
                "#B0BEC5",
                "#B0BEC5",
                "#B0BEC5"
               ]
              ]
             }
            ],
            "label": "Topic 64",
            "method": "update"
           },
           {
            "args": [
             {
              "marker.color": [
               [
                "#B0BEC5",
                "#B0BEC5",
                "#B0BEC5",
                "#B0BEC5",
                "#B0BEC5",
                "#B0BEC5",
                "#B0BEC5",
                "#B0BEC5",
                "#B0BEC5",
                "#B0BEC5",
                "#B0BEC5",
                "#B0BEC5",
                "#B0BEC5",
                "#B0BEC5",
                "#B0BEC5",
                "#B0BEC5",
                "#B0BEC5",
                "#B0BEC5",
                "#B0BEC5",
                "#B0BEC5",
                "#B0BEC5",
                "#B0BEC5",
                "#B0BEC5",
                "#B0BEC5",
                "#B0BEC5",
                "#B0BEC5",
                "#B0BEC5",
                "#B0BEC5",
                "#B0BEC5",
                "#B0BEC5",
                "#B0BEC5",
                "#B0BEC5",
                "#B0BEC5",
                "#B0BEC5",
                "#B0BEC5",
                "#B0BEC5",
                "#B0BEC5",
                "#B0BEC5",
                "#B0BEC5",
                "#B0BEC5",
                "#B0BEC5",
                "#B0BEC5",
                "#B0BEC5",
                "#B0BEC5",
                "#B0BEC5",
                "#B0BEC5",
                "#B0BEC5",
                "#B0BEC5",
                "#B0BEC5",
                "#B0BEC5",
                "#B0BEC5",
                "#B0BEC5",
                "#B0BEC5",
                "#B0BEC5",
                "#B0BEC5",
                "#B0BEC5",
                "#B0BEC5",
                "#B0BEC5",
                "#B0BEC5",
                "#B0BEC5",
                "#B0BEC5",
                "#B0BEC5",
                "#B0BEC5",
                "#B0BEC5",
                "#B0BEC5",
                "red",
                "#B0BEC5",
                "#B0BEC5"
               ]
              ]
             }
            ],
            "label": "Topic 65",
            "method": "update"
           },
           {
            "args": [
             {
              "marker.color": [
               [
                "#B0BEC5",
                "#B0BEC5",
                "#B0BEC5",
                "#B0BEC5",
                "#B0BEC5",
                "#B0BEC5",
                "#B0BEC5",
                "#B0BEC5",
                "#B0BEC5",
                "#B0BEC5",
                "#B0BEC5",
                "#B0BEC5",
                "#B0BEC5",
                "#B0BEC5",
                "#B0BEC5",
                "#B0BEC5",
                "#B0BEC5",
                "#B0BEC5",
                "#B0BEC5",
                "#B0BEC5",
                "#B0BEC5",
                "#B0BEC5",
                "#B0BEC5",
                "#B0BEC5",
                "#B0BEC5",
                "#B0BEC5",
                "#B0BEC5",
                "#B0BEC5",
                "#B0BEC5",
                "#B0BEC5",
                "#B0BEC5",
                "#B0BEC5",
                "#B0BEC5",
                "#B0BEC5",
                "#B0BEC5",
                "#B0BEC5",
                "#B0BEC5",
                "#B0BEC5",
                "#B0BEC5",
                "#B0BEC5",
                "#B0BEC5",
                "#B0BEC5",
                "#B0BEC5",
                "#B0BEC5",
                "#B0BEC5",
                "#B0BEC5",
                "#B0BEC5",
                "#B0BEC5",
                "#B0BEC5",
                "#B0BEC5",
                "#B0BEC5",
                "#B0BEC5",
                "#B0BEC5",
                "#B0BEC5",
                "#B0BEC5",
                "#B0BEC5",
                "#B0BEC5",
                "#B0BEC5",
                "#B0BEC5",
                "#B0BEC5",
                "#B0BEC5",
                "#B0BEC5",
                "#B0BEC5",
                "#B0BEC5",
                "#B0BEC5",
                "#B0BEC5",
                "red",
                "#B0BEC5"
               ]
              ]
             }
            ],
            "label": "Topic 66",
            "method": "update"
           },
           {
            "args": [
             {
              "marker.color": [
               [
                "#B0BEC5",
                "#B0BEC5",
                "#B0BEC5",
                "#B0BEC5",
                "#B0BEC5",
                "#B0BEC5",
                "#B0BEC5",
                "#B0BEC5",
                "#B0BEC5",
                "#B0BEC5",
                "#B0BEC5",
                "#B0BEC5",
                "#B0BEC5",
                "#B0BEC5",
                "#B0BEC5",
                "#B0BEC5",
                "#B0BEC5",
                "#B0BEC5",
                "#B0BEC5",
                "#B0BEC5",
                "#B0BEC5",
                "#B0BEC5",
                "#B0BEC5",
                "#B0BEC5",
                "#B0BEC5",
                "#B0BEC5",
                "#B0BEC5",
                "#B0BEC5",
                "#B0BEC5",
                "#B0BEC5",
                "#B0BEC5",
                "#B0BEC5",
                "#B0BEC5",
                "#B0BEC5",
                "#B0BEC5",
                "#B0BEC5",
                "#B0BEC5",
                "#B0BEC5",
                "#B0BEC5",
                "#B0BEC5",
                "#B0BEC5",
                "#B0BEC5",
                "#B0BEC5",
                "#B0BEC5",
                "#B0BEC5",
                "#B0BEC5",
                "#B0BEC5",
                "#B0BEC5",
                "#B0BEC5",
                "#B0BEC5",
                "#B0BEC5",
                "#B0BEC5",
                "#B0BEC5",
                "#B0BEC5",
                "#B0BEC5",
                "#B0BEC5",
                "#B0BEC5",
                "#B0BEC5",
                "#B0BEC5",
                "#B0BEC5",
                "#B0BEC5",
                "#B0BEC5",
                "#B0BEC5",
                "#B0BEC5",
                "#B0BEC5",
                "#B0BEC5",
                "#B0BEC5",
                "red"
               ]
              ]
             }
            ],
            "label": "Topic 67",
            "method": "update"
           }
          ]
         }
        ],
        "template": {
         "data": {
          "bar": [
           {
            "error_x": {
             "color": "rgb(36,36,36)"
            },
            "error_y": {
             "color": "rgb(36,36,36)"
            },
            "marker": {
             "line": {
              "color": "white",
              "width": 0.5
             },
             "pattern": {
              "fillmode": "overlay",
              "size": 10,
              "solidity": 0.2
             }
            },
            "type": "bar"
           }
          ],
          "barpolar": [
           {
            "marker": {
             "line": {
              "color": "white",
              "width": 0.5
             },
             "pattern": {
              "fillmode": "overlay",
              "size": 10,
              "solidity": 0.2
             }
            },
            "type": "barpolar"
           }
          ],
          "carpet": [
           {
            "aaxis": {
             "endlinecolor": "rgb(36,36,36)",
             "gridcolor": "white",
             "linecolor": "white",
             "minorgridcolor": "white",
             "startlinecolor": "rgb(36,36,36)"
            },
            "baxis": {
             "endlinecolor": "rgb(36,36,36)",
             "gridcolor": "white",
             "linecolor": "white",
             "minorgridcolor": "white",
             "startlinecolor": "rgb(36,36,36)"
            },
            "type": "carpet"
           }
          ],
          "choropleth": [
           {
            "colorbar": {
             "outlinewidth": 1,
             "tickcolor": "rgb(36,36,36)",
             "ticks": "outside"
            },
            "type": "choropleth"
           }
          ],
          "contour": [
           {
            "colorbar": {
             "outlinewidth": 1,
             "tickcolor": "rgb(36,36,36)",
             "ticks": "outside"
            },
            "colorscale": [
             [
              0,
              "#440154"
             ],
             [
              0.1111111111111111,
              "#482878"
             ],
             [
              0.2222222222222222,
              "#3e4989"
             ],
             [
              0.3333333333333333,
              "#31688e"
             ],
             [
              0.4444444444444444,
              "#26828e"
             ],
             [
              0.5555555555555556,
              "#1f9e89"
             ],
             [
              0.6666666666666666,
              "#35b779"
             ],
             [
              0.7777777777777778,
              "#6ece58"
             ],
             [
              0.8888888888888888,
              "#b5de2b"
             ],
             [
              1,
              "#fde725"
             ]
            ],
            "type": "contour"
           }
          ],
          "contourcarpet": [
           {
            "colorbar": {
             "outlinewidth": 1,
             "tickcolor": "rgb(36,36,36)",
             "ticks": "outside"
            },
            "type": "contourcarpet"
           }
          ],
          "heatmap": [
           {
            "colorbar": {
             "outlinewidth": 1,
             "tickcolor": "rgb(36,36,36)",
             "ticks": "outside"
            },
            "colorscale": [
             [
              0,
              "#440154"
             ],
             [
              0.1111111111111111,
              "#482878"
             ],
             [
              0.2222222222222222,
              "#3e4989"
             ],
             [
              0.3333333333333333,
              "#31688e"
             ],
             [
              0.4444444444444444,
              "#26828e"
             ],
             [
              0.5555555555555556,
              "#1f9e89"
             ],
             [
              0.6666666666666666,
              "#35b779"
             ],
             [
              0.7777777777777778,
              "#6ece58"
             ],
             [
              0.8888888888888888,
              "#b5de2b"
             ],
             [
              1,
              "#fde725"
             ]
            ],
            "type": "heatmap"
           }
          ],
          "heatmapgl": [
           {
            "colorbar": {
             "outlinewidth": 1,
             "tickcolor": "rgb(36,36,36)",
             "ticks": "outside"
            },
            "colorscale": [
             [
              0,
              "#440154"
             ],
             [
              0.1111111111111111,
              "#482878"
             ],
             [
              0.2222222222222222,
              "#3e4989"
             ],
             [
              0.3333333333333333,
              "#31688e"
             ],
             [
              0.4444444444444444,
              "#26828e"
             ],
             [
              0.5555555555555556,
              "#1f9e89"
             ],
             [
              0.6666666666666666,
              "#35b779"
             ],
             [
              0.7777777777777778,
              "#6ece58"
             ],
             [
              0.8888888888888888,
              "#b5de2b"
             ],
             [
              1,
              "#fde725"
             ]
            ],
            "type": "heatmapgl"
           }
          ],
          "histogram": [
           {
            "marker": {
             "line": {
              "color": "white",
              "width": 0.6
             }
            },
            "type": "histogram"
           }
          ],
          "histogram2d": [
           {
            "colorbar": {
             "outlinewidth": 1,
             "tickcolor": "rgb(36,36,36)",
             "ticks": "outside"
            },
            "colorscale": [
             [
              0,
              "#440154"
             ],
             [
              0.1111111111111111,
              "#482878"
             ],
             [
              0.2222222222222222,
              "#3e4989"
             ],
             [
              0.3333333333333333,
              "#31688e"
             ],
             [
              0.4444444444444444,
              "#26828e"
             ],
             [
              0.5555555555555556,
              "#1f9e89"
             ],
             [
              0.6666666666666666,
              "#35b779"
             ],
             [
              0.7777777777777778,
              "#6ece58"
             ],
             [
              0.8888888888888888,
              "#b5de2b"
             ],
             [
              1,
              "#fde725"
             ]
            ],
            "type": "histogram2d"
           }
          ],
          "histogram2dcontour": [
           {
            "colorbar": {
             "outlinewidth": 1,
             "tickcolor": "rgb(36,36,36)",
             "ticks": "outside"
            },
            "colorscale": [
             [
              0,
              "#440154"
             ],
             [
              0.1111111111111111,
              "#482878"
             ],
             [
              0.2222222222222222,
              "#3e4989"
             ],
             [
              0.3333333333333333,
              "#31688e"
             ],
             [
              0.4444444444444444,
              "#26828e"
             ],
             [
              0.5555555555555556,
              "#1f9e89"
             ],
             [
              0.6666666666666666,
              "#35b779"
             ],
             [
              0.7777777777777778,
              "#6ece58"
             ],
             [
              0.8888888888888888,
              "#b5de2b"
             ],
             [
              1,
              "#fde725"
             ]
            ],
            "type": "histogram2dcontour"
           }
          ],
          "mesh3d": [
           {
            "colorbar": {
             "outlinewidth": 1,
             "tickcolor": "rgb(36,36,36)",
             "ticks": "outside"
            },
            "type": "mesh3d"
           }
          ],
          "parcoords": [
           {
            "line": {
             "colorbar": {
              "outlinewidth": 1,
              "tickcolor": "rgb(36,36,36)",
              "ticks": "outside"
             }
            },
            "type": "parcoords"
           }
          ],
          "pie": [
           {
            "automargin": true,
            "type": "pie"
           }
          ],
          "scatter": [
           {
            "fillpattern": {
             "fillmode": "overlay",
             "size": 10,
             "solidity": 0.2
            },
            "type": "scatter"
           }
          ],
          "scatter3d": [
           {
            "line": {
             "colorbar": {
              "outlinewidth": 1,
              "tickcolor": "rgb(36,36,36)",
              "ticks": "outside"
             }
            },
            "marker": {
             "colorbar": {
              "outlinewidth": 1,
              "tickcolor": "rgb(36,36,36)",
              "ticks": "outside"
             }
            },
            "type": "scatter3d"
           }
          ],
          "scattercarpet": [
           {
            "marker": {
             "colorbar": {
              "outlinewidth": 1,
              "tickcolor": "rgb(36,36,36)",
              "ticks": "outside"
             }
            },
            "type": "scattercarpet"
           }
          ],
          "scattergeo": [
           {
            "marker": {
             "colorbar": {
              "outlinewidth": 1,
              "tickcolor": "rgb(36,36,36)",
              "ticks": "outside"
             }
            },
            "type": "scattergeo"
           }
          ],
          "scattergl": [
           {
            "marker": {
             "colorbar": {
              "outlinewidth": 1,
              "tickcolor": "rgb(36,36,36)",
              "ticks": "outside"
             }
            },
            "type": "scattergl"
           }
          ],
          "scattermapbox": [
           {
            "marker": {
             "colorbar": {
              "outlinewidth": 1,
              "tickcolor": "rgb(36,36,36)",
              "ticks": "outside"
             }
            },
            "type": "scattermapbox"
           }
          ],
          "scatterpolar": [
           {
            "marker": {
             "colorbar": {
              "outlinewidth": 1,
              "tickcolor": "rgb(36,36,36)",
              "ticks": "outside"
             }
            },
            "type": "scatterpolar"
           }
          ],
          "scatterpolargl": [
           {
            "marker": {
             "colorbar": {
              "outlinewidth": 1,
              "tickcolor": "rgb(36,36,36)",
              "ticks": "outside"
             }
            },
            "type": "scatterpolargl"
           }
          ],
          "scatterternary": [
           {
            "marker": {
             "colorbar": {
              "outlinewidth": 1,
              "tickcolor": "rgb(36,36,36)",
              "ticks": "outside"
             }
            },
            "type": "scatterternary"
           }
          ],
          "surface": [
           {
            "colorbar": {
             "outlinewidth": 1,
             "tickcolor": "rgb(36,36,36)",
             "ticks": "outside"
            },
            "colorscale": [
             [
              0,
              "#440154"
             ],
             [
              0.1111111111111111,
              "#482878"
             ],
             [
              0.2222222222222222,
              "#3e4989"
             ],
             [
              0.3333333333333333,
              "#31688e"
             ],
             [
              0.4444444444444444,
              "#26828e"
             ],
             [
              0.5555555555555556,
              "#1f9e89"
             ],
             [
              0.6666666666666666,
              "#35b779"
             ],
             [
              0.7777777777777778,
              "#6ece58"
             ],
             [
              0.8888888888888888,
              "#b5de2b"
             ],
             [
              1,
              "#fde725"
             ]
            ],
            "type": "surface"
           }
          ],
          "table": [
           {
            "cells": {
             "fill": {
              "color": "rgb(237,237,237)"
             },
             "line": {
              "color": "white"
             }
            },
            "header": {
             "fill": {
              "color": "rgb(217,217,217)"
             },
             "line": {
              "color": "white"
             }
            },
            "type": "table"
           }
          ]
         },
         "layout": {
          "annotationdefaults": {
           "arrowhead": 0,
           "arrowwidth": 1
          },
          "autotypenumbers": "strict",
          "coloraxis": {
           "colorbar": {
            "outlinewidth": 1,
            "tickcolor": "rgb(36,36,36)",
            "ticks": "outside"
           }
          },
          "colorscale": {
           "diverging": [
            [
             0,
             "rgb(103,0,31)"
            ],
            [
             0.1,
             "rgb(178,24,43)"
            ],
            [
             0.2,
             "rgb(214,96,77)"
            ],
            [
             0.3,
             "rgb(244,165,130)"
            ],
            [
             0.4,
             "rgb(253,219,199)"
            ],
            [
             0.5,
             "rgb(247,247,247)"
            ],
            [
             0.6,
             "rgb(209,229,240)"
            ],
            [
             0.7,
             "rgb(146,197,222)"
            ],
            [
             0.8,
             "rgb(67,147,195)"
            ],
            [
             0.9,
             "rgb(33,102,172)"
            ],
            [
             1,
             "rgb(5,48,97)"
            ]
           ],
           "sequential": [
            [
             0,
             "#440154"
            ],
            [
             0.1111111111111111,
             "#482878"
            ],
            [
             0.2222222222222222,
             "#3e4989"
            ],
            [
             0.3333333333333333,
             "#31688e"
            ],
            [
             0.4444444444444444,
             "#26828e"
            ],
            [
             0.5555555555555556,
             "#1f9e89"
            ],
            [
             0.6666666666666666,
             "#35b779"
            ],
            [
             0.7777777777777778,
             "#6ece58"
            ],
            [
             0.8888888888888888,
             "#b5de2b"
            ],
            [
             1,
             "#fde725"
            ]
           ],
           "sequentialminus": [
            [
             0,
             "#440154"
            ],
            [
             0.1111111111111111,
             "#482878"
            ],
            [
             0.2222222222222222,
             "#3e4989"
            ],
            [
             0.3333333333333333,
             "#31688e"
            ],
            [
             0.4444444444444444,
             "#26828e"
            ],
            [
             0.5555555555555556,
             "#1f9e89"
            ],
            [
             0.6666666666666666,
             "#35b779"
            ],
            [
             0.7777777777777778,
             "#6ece58"
            ],
            [
             0.8888888888888888,
             "#b5de2b"
            ],
            [
             1,
             "#fde725"
            ]
           ]
          },
          "colorway": [
           "#1F77B4",
           "#FF7F0E",
           "#2CA02C",
           "#D62728",
           "#9467BD",
           "#8C564B",
           "#E377C2",
           "#7F7F7F",
           "#BCBD22",
           "#17BECF"
          ],
          "font": {
           "color": "rgb(36,36,36)"
          },
          "geo": {
           "bgcolor": "white",
           "lakecolor": "white",
           "landcolor": "white",
           "showlakes": true,
           "showland": true,
           "subunitcolor": "white"
          },
          "hoverlabel": {
           "align": "left"
          },
          "hovermode": "closest",
          "mapbox": {
           "style": "light"
          },
          "paper_bgcolor": "white",
          "plot_bgcolor": "white",
          "polar": {
           "angularaxis": {
            "gridcolor": "rgb(232,232,232)",
            "linecolor": "rgb(36,36,36)",
            "showgrid": false,
            "showline": true,
            "ticks": "outside"
           },
           "bgcolor": "white",
           "radialaxis": {
            "gridcolor": "rgb(232,232,232)",
            "linecolor": "rgb(36,36,36)",
            "showgrid": false,
            "showline": true,
            "ticks": "outside"
           }
          },
          "scene": {
           "xaxis": {
            "backgroundcolor": "white",
            "gridcolor": "rgb(232,232,232)",
            "gridwidth": 2,
            "linecolor": "rgb(36,36,36)",
            "showbackground": true,
            "showgrid": false,
            "showline": true,
            "ticks": "outside",
            "zeroline": false,
            "zerolinecolor": "rgb(36,36,36)"
           },
           "yaxis": {
            "backgroundcolor": "white",
            "gridcolor": "rgb(232,232,232)",
            "gridwidth": 2,
            "linecolor": "rgb(36,36,36)",
            "showbackground": true,
            "showgrid": false,
            "showline": true,
            "ticks": "outside",
            "zeroline": false,
            "zerolinecolor": "rgb(36,36,36)"
           },
           "zaxis": {
            "backgroundcolor": "white",
            "gridcolor": "rgb(232,232,232)",
            "gridwidth": 2,
            "linecolor": "rgb(36,36,36)",
            "showbackground": true,
            "showgrid": false,
            "showline": true,
            "ticks": "outside",
            "zeroline": false,
            "zerolinecolor": "rgb(36,36,36)"
           }
          },
          "shapedefaults": {
           "fillcolor": "black",
           "line": {
            "width": 0
           },
           "opacity": 0.3
          },
          "ternary": {
           "aaxis": {
            "gridcolor": "rgb(232,232,232)",
            "linecolor": "rgb(36,36,36)",
            "showgrid": false,
            "showline": true,
            "ticks": "outside"
           },
           "baxis": {
            "gridcolor": "rgb(232,232,232)",
            "linecolor": "rgb(36,36,36)",
            "showgrid": false,
            "showline": true,
            "ticks": "outside"
           },
           "bgcolor": "white",
           "caxis": {
            "gridcolor": "rgb(232,232,232)",
            "linecolor": "rgb(36,36,36)",
            "showgrid": false,
            "showline": true,
            "ticks": "outside"
           }
          },
          "title": {
           "x": 0.05
          },
          "xaxis": {
           "automargin": true,
           "gridcolor": "rgb(232,232,232)",
           "linecolor": "rgb(36,36,36)",
           "showgrid": false,
           "showline": true,
           "ticks": "outside",
           "title": {
            "standoff": 15
           },
           "zeroline": false,
           "zerolinecolor": "rgb(36,36,36)"
          },
          "yaxis": {
           "automargin": true,
           "gridcolor": "rgb(232,232,232)",
           "linecolor": "rgb(36,36,36)",
           "showgrid": false,
           "showline": true,
           "ticks": "outside",
           "title": {
            "standoff": 15
           },
           "zeroline": false,
           "zerolinecolor": "rgb(36,36,36)"
          }
         }
        },
        "title": {
         "font": {
          "color": "Black",
          "size": 22
         },
         "text": "<b>Intertopic Distance Map</b>",
         "x": 0.5,
         "xanchor": "center",
         "y": 0.95,
         "yanchor": "top"
        },
        "width": 650,
        "xaxis": {
         "anchor": "y",
         "domain": [
          0,
          1
         ],
         "range": [
          -17.600439977645873,
          14.416786336898804
         ],
         "title": {
          "text": ""
         },
         "visible": false
        },
        "yaxis": {
         "anchor": "x",
         "domain": [
          0,
          1
         ],
         "range": [
          -10.112535905838012,
          24.73607692718506
         ],
         "title": {
          "text": ""
         },
         "visible": false
        }
       }
      }
     },
     "metadata": {},
     "output_type": "display_data"
    }
   ],
   "source": [
    "# show 2d visualized topic like LDAvis\n",
    "BERTopic_vis = topic_model.visualize_topics()\n",
    "BERTopic_vis"
   ]
  },
  {
   "cell_type": "code",
   "execution_count": 9,
   "metadata": {},
   "outputs": [
    {
     "data": {
      "application/vnd.plotly.v1+json": {
       "config": {
        "plotlyServerURL": "https://plot.ly"
       },
       "data": [
        {
         "hoverinfo": "text",
         "marker": {
          "color": "rgb(61,153,112)"
         },
         "mode": "lines",
         "type": "scatter",
         "x": [
          0,
          0.15428002227845938,
          0.15428002227845938,
          0
         ],
         "xaxis": "x",
         "y": [
          -25,
          -25,
          -35,
          -35
         ],
         "yaxis": "y"
        },
        {
         "hoverinfo": "text",
         "marker": {
          "color": "rgb(61,153,112)"
         },
         "mode": "lines",
         "type": "scatter",
         "x": [
          0,
          0.1371089619025666,
          0.1371089619025666,
          0
         ],
         "xaxis": "x",
         "y": [
          -45,
          -45,
          -55,
          -55
         ],
         "yaxis": "y"
        },
        {
         "hoverinfo": "text",
         "marker": {
          "color": "rgb(61,153,112)"
         },
         "mode": "lines",
         "type": "scatter",
         "x": [
          0,
          0.1456757654568659,
          0.1456757654568659,
          0
         ],
         "xaxis": "x",
         "y": [
          -65,
          -65,
          -75,
          -75
         ],
         "yaxis": "y"
        },
        {
         "hoverinfo": "text",
         "marker": {
          "color": "rgb(61,153,112)"
         },
         "mode": "lines",
         "type": "scatter",
         "x": [
          0.1371089619025666,
          0.16900038949834142,
          0.16900038949834142,
          0.1456757654568659
         ],
         "xaxis": "x",
         "y": [
          -50,
          -50,
          -70,
          -70
         ],
         "yaxis": "y"
        },
        {
         "hoverinfo": "text",
         "marker": {
          "color": "rgb(61,153,112)"
         },
         "mode": "lines",
         "type": "scatter",
         "x": [
          0.16900038949834142,
          0.17675687789141908,
          0.17675687789141908,
          0
         ],
         "xaxis": "x",
         "y": [
          -60,
          -60,
          -85,
          -85
         ],
         "yaxis": "y"
        },
        {
         "hoverinfo": "text",
         "marker": {
          "color": "rgb(61,153,112)"
         },
         "mode": "lines",
         "type": "scatter",
         "x": [
          0.15428002227845938,
          0.1977400043444704,
          0.1977400043444704,
          0.17675687789141908
         ],
         "xaxis": "x",
         "y": [
          -30,
          -30,
          -72.5,
          -72.5
         ],
         "yaxis": "y"
        },
        {
         "hoverinfo": "text",
         "marker": {
          "color": "rgb(61,153,112)"
         },
         "mode": "lines",
         "type": "scatter",
         "x": [
          0,
          0.20106432240773625,
          0.20106432240773625,
          0.1977400043444704
         ],
         "xaxis": "x",
         "y": [
          -15,
          -15,
          -51.25,
          -51.25
         ],
         "yaxis": "y"
        },
        {
         "hoverinfo": "text",
         "marker": {
          "color": "rgb(61,153,112)"
         },
         "mode": "lines",
         "type": "scatter",
         "x": [
          0.20106432240773625,
          0.2227683461582598,
          0.2227683461582598,
          0
         ],
         "xaxis": "x",
         "y": [
          -33.125,
          -33.125,
          -95,
          -95
         ],
         "yaxis": "y"
        },
        {
         "hoverinfo": "text",
         "marker": {
          "color": "rgb(61,153,112)"
         },
         "mode": "lines",
         "type": "scatter",
         "x": [
          0,
          0.3527497684526459,
          0.3527497684526459,
          0.2227683461582598
         ],
         "xaxis": "x",
         "y": [
          -5,
          -5,
          -64.0625,
          -64.0625
         ],
         "yaxis": "y"
        },
        {
         "hoverinfo": "text",
         "marker": {
          "color": "rgb(61,153,112)"
         },
         "mode": "lines",
         "type": "scatter",
         "x": [
          0.3527497684526459,
          0.3721224082741762,
          0.3721224082741762,
          0
         ],
         "xaxis": "x",
         "y": [
          -34.53125,
          -34.53125,
          -105,
          -105
         ],
         "yaxis": "y"
        },
        {
         "hoverinfo": "text",
         "marker": {
          "color": "rgb(61,153,112)"
         },
         "mode": "lines",
         "type": "scatter",
         "x": [
          0.3721224082741762,
          0.5473229356911586,
          0.5473229356911586,
          0
         ],
         "xaxis": "x",
         "y": [
          -69.765625,
          -69.765625,
          -115,
          -115
         ],
         "yaxis": "y"
        },
        {
         "hoverinfo": "text",
         "marker": {
          "color": "rgb(255,65,54)"
         },
         "mode": "lines",
         "type": "scatter",
         "x": [
          0,
          0.47483864465302517,
          0.47483864465302517,
          0
         ],
         "xaxis": "x",
         "y": [
          -135,
          -135,
          -145,
          -145
         ],
         "yaxis": "y"
        },
        {
         "hoverinfo": "text",
         "marker": {
          "color": "rgb(255,65,54)"
         },
         "mode": "lines",
         "type": "scatter",
         "x": [
          0,
          0.40671326179242795,
          0.40671326179242795,
          0
         ],
         "xaxis": "x",
         "y": [
          -155,
          -155,
          -165,
          -165
         ],
         "yaxis": "y"
        },
        {
         "hoverinfo": "text",
         "marker": {
          "color": "rgb(255,65,54)"
         },
         "mode": "lines",
         "type": "scatter",
         "x": [
          0.47483864465302517,
          0.4929635531480612,
          0.4929635531480612,
          0.40671326179242795
         ],
         "xaxis": "x",
         "y": [
          -140,
          -140,
          -160,
          -160
         ],
         "yaxis": "y"
        },
        {
         "hoverinfo": "text",
         "marker": {
          "color": "rgb(255,65,54)"
         },
         "mode": "lines",
         "type": "scatter",
         "x": [
          0,
          0.21267934635839847,
          0.21267934635839847,
          0
         ],
         "xaxis": "x",
         "y": [
          -195,
          -195,
          -205,
          -205
         ],
         "yaxis": "y"
        },
        {
         "hoverinfo": "text",
         "marker": {
          "color": "rgb(255,65,54)"
         },
         "mode": "lines",
         "type": "scatter",
         "x": [
          0.21267934635839847,
          0.26180245771954086,
          0.26180245771954086,
          0
         ],
         "xaxis": "x",
         "y": [
          -200,
          -200,
          -215,
          -215
         ],
         "yaxis": "y"
        },
        {
         "hoverinfo": "text",
         "marker": {
          "color": "rgb(255,65,54)"
         },
         "mode": "lines",
         "type": "scatter",
         "x": [
          0,
          0.31131009699003326,
          0.31131009699003326,
          0.26180245771954086
         ],
         "xaxis": "x",
         "y": [
          -185,
          -185,
          -207.5,
          -207.5
         ],
         "yaxis": "y"
        },
        {
         "hoverinfo": "text",
         "marker": {
          "color": "rgb(255,65,54)"
         },
         "mode": "lines",
         "type": "scatter",
         "x": [
          0,
          0.4760126205458555,
          0.4760126205458555,
          0.31131009699003326
         ],
         "xaxis": "x",
         "y": [
          -175,
          -175,
          -196.25,
          -196.25
         ],
         "yaxis": "y"
        },
        {
         "hoverinfo": "text",
         "marker": {
          "color": "rgb(255,65,54)"
         },
         "mode": "lines",
         "type": "scatter",
         "x": [
          0.4760126205458555,
          0.5746157049504567,
          0.5746157049504567,
          0
         ],
         "xaxis": "x",
         "y": [
          -185.625,
          -185.625,
          -225,
          -225
         ],
         "yaxis": "y"
        },
        {
         "hoverinfo": "text",
         "marker": {
          "color": "rgb(255,65,54)"
         },
         "mode": "lines",
         "type": "scatter",
         "x": [
          0.4929635531480612,
          0.6539910850598789,
          0.6539910850598789,
          0.5746157049504567
         ],
         "xaxis": "x",
         "y": [
          -150,
          -150,
          -205.3125,
          -205.3125
         ],
         "yaxis": "y"
        },
        {
         "hoverinfo": "text",
         "marker": {
          "color": "rgb(255,65,54)"
         },
         "mode": "lines",
         "type": "scatter",
         "x": [
          0,
          0.7749117401942017,
          0.7749117401942017,
          0.6539910850598789
         ],
         "xaxis": "x",
         "y": [
          -125,
          -125,
          -177.65625,
          -177.65625
         ],
         "yaxis": "y"
        },
        {
         "hoverinfo": "text",
         "marker": {
          "color": "rgb(255,65,54)"
         },
         "mode": "lines",
         "type": "scatter",
         "x": [
          0,
          0.45130929805145015,
          0.45130929805145015,
          0
         ],
         "xaxis": "x",
         "y": [
          -245,
          -245,
          -255,
          -255
         ],
         "yaxis": "y"
        },
        {
         "hoverinfo": "text",
         "marker": {
          "color": "rgb(255,65,54)"
         },
         "mode": "lines",
         "type": "scatter",
         "x": [
          0,
          0.5237949126055419,
          0.5237949126055419,
          0.45130929805145015
         ],
         "xaxis": "x",
         "y": [
          -235,
          -235,
          -250,
          -250
         ],
         "yaxis": "y"
        },
        {
         "hoverinfo": "text",
         "marker": {
          "color": "rgb(255,65,54)"
         },
         "mode": "lines",
         "type": "scatter",
         "x": [
          0.5237949126055419,
          0.5549285374342013,
          0.5549285374342013,
          0
         ],
         "xaxis": "x",
         "y": [
          -242.5,
          -242.5,
          -265,
          -265
         ],
         "yaxis": "y"
        },
        {
         "hoverinfo": "text",
         "marker": {
          "color": "rgb(255,65,54)"
         },
         "mode": "lines",
         "type": "scatter",
         "x": [
          0,
          0.4282803737745279,
          0.4282803737745279,
          0
         ],
         "xaxis": "x",
         "y": [
          -275,
          -275,
          -285,
          -285
         ],
         "yaxis": "y"
        },
        {
         "hoverinfo": "text",
         "marker": {
          "color": "rgb(255,65,54)"
         },
         "mode": "lines",
         "type": "scatter",
         "x": [
          0,
          0.22335487580354874,
          0.22335487580354874,
          0
         ],
         "xaxis": "x",
         "y": [
          -315,
          -315,
          -325,
          -325
         ],
         "yaxis": "y"
        },
        {
         "hoverinfo": "text",
         "marker": {
          "color": "rgb(255,65,54)"
         },
         "mode": "lines",
         "type": "scatter",
         "x": [
          0,
          0.28430422531171706,
          0.28430422531171706,
          0.22335487580354874
         ],
         "xaxis": "x",
         "y": [
          -305,
          -305,
          -320,
          -320
         ],
         "yaxis": "y"
        },
        {
         "hoverinfo": "text",
         "marker": {
          "color": "rgb(255,65,54)"
         },
         "mode": "lines",
         "type": "scatter",
         "x": [
          0.28430422531171706,
          0.3587208773367282,
          0.3587208773367282,
          0
         ],
         "xaxis": "x",
         "y": [
          -312.5,
          -312.5,
          -335,
          -335
         ],
         "yaxis": "y"
        },
        {
         "hoverinfo": "text",
         "marker": {
          "color": "rgb(255,65,54)"
         },
         "mode": "lines",
         "type": "scatter",
         "x": [
          0,
          0.37339079784812695,
          0.37339079784812695,
          0.3587208773367282
         ],
         "xaxis": "x",
         "y": [
          -295,
          -295,
          -323.75,
          -323.75
         ],
         "yaxis": "y"
        },
        {
         "hoverinfo": "text",
         "marker": {
          "color": "rgb(255,65,54)"
         },
         "mode": "lines",
         "type": "scatter",
         "x": [
          0.37339079784812695,
          0.39280309989154966,
          0.39280309989154966,
          0
         ],
         "xaxis": "x",
         "y": [
          -309.375,
          -309.375,
          -345,
          -345
         ],
         "yaxis": "y"
        },
        {
         "hoverinfo": "text",
         "marker": {
          "color": "rgb(255,65,54)"
         },
         "mode": "lines",
         "type": "scatter",
         "x": [
          0.39280309989154966,
          0.42098760800607504,
          0.42098760800607504,
          0
         ],
         "xaxis": "x",
         "y": [
          -327.1875,
          -327.1875,
          -355,
          -355
         ],
         "yaxis": "y"
        },
        {
         "hoverinfo": "text",
         "marker": {
          "color": "rgb(255,65,54)"
         },
         "mode": "lines",
         "type": "scatter",
         "x": [
          0.4282803737745279,
          0.4577712778148294,
          0.4577712778148294,
          0.42098760800607504
         ],
         "xaxis": "x",
         "y": [
          -280,
          -280,
          -341.09375,
          -341.09375
         ],
         "yaxis": "y"
        },
        {
         "hoverinfo": "text",
         "marker": {
          "color": "rgb(255,65,54)"
         },
         "mode": "lines",
         "type": "scatter",
         "x": [
          0.4577712778148294,
          0.5499505960133464,
          0.5499505960133464,
          0
         ],
         "xaxis": "x",
         "y": [
          -310.546875,
          -310.546875,
          -365,
          -365
         ],
         "yaxis": "y"
        },
        {
         "hoverinfo": "text",
         "marker": {
          "color": "rgb(255,65,54)"
         },
         "mode": "lines",
         "type": "scatter",
         "x": [
          0.5549285374342013,
          0.6151420059360649,
          0.6151420059360649,
          0.5499505960133464
         ],
         "xaxis": "x",
         "y": [
          -253.75,
          -253.75,
          -337.7734375,
          -337.7734375
         ],
         "yaxis": "y"
        },
        {
         "hoverinfo": "text",
         "marker": {
          "color": "rgb(255,65,54)"
         },
         "mode": "lines",
         "type": "scatter",
         "x": [
          0,
          0.2200253142635834,
          0.2200253142635834,
          0
         ],
         "xaxis": "x",
         "y": [
          -395,
          -395,
          -405,
          -405
         ],
         "yaxis": "y"
        },
        {
         "hoverinfo": "text",
         "marker": {
          "color": "rgb(255,65,54)"
         },
         "mode": "lines",
         "type": "scatter",
         "x": [
          0.2200253142635834,
          0.28336566029163196,
          0.28336566029163196,
          0
         ],
         "xaxis": "x",
         "y": [
          -400,
          -400,
          -415,
          -415
         ],
         "yaxis": "y"
        },
        {
         "hoverinfo": "text",
         "marker": {
          "color": "rgb(255,65,54)"
         },
         "mode": "lines",
         "type": "scatter",
         "x": [
          0,
          0.3157632092482962,
          0.3157632092482962,
          0.28336566029163196
         ],
         "xaxis": "x",
         "y": [
          -385,
          -385,
          -407.5,
          -407.5
         ],
         "yaxis": "y"
        },
        {
         "hoverinfo": "text",
         "marker": {
          "color": "rgb(255,65,54)"
         },
         "mode": "lines",
         "type": "scatter",
         "x": [
          0.3157632092482962,
          0.4022437726640572,
          0.4022437726640572,
          0
         ],
         "xaxis": "x",
         "y": [
          -396.25,
          -396.25,
          -425,
          -425
         ],
         "yaxis": "y"
        },
        {
         "hoverinfo": "text",
         "marker": {
          "color": "rgb(255,65,54)"
         },
         "mode": "lines",
         "type": "scatter",
         "x": [
          0,
          0.42075112204995274,
          0.42075112204995274,
          0.4022437726640572
         ],
         "xaxis": "x",
         "y": [
          -375,
          -375,
          -410.625,
          -410.625
         ],
         "yaxis": "y"
        },
        {
         "hoverinfo": "text",
         "marker": {
          "color": "rgb(255,65,54)"
         },
         "mode": "lines",
         "type": "scatter",
         "x": [
          0,
          0.3820033583114918,
          0.3820033583114918,
          0
         ],
         "xaxis": "x",
         "y": [
          -435,
          -435,
          -445,
          -445
         ],
         "yaxis": "y"
        },
        {
         "hoverinfo": "text",
         "marker": {
          "color": "rgb(255,65,54)"
         },
         "mode": "lines",
         "type": "scatter",
         "x": [
          0,
          0.32574008829643164,
          0.32574008829643164,
          0
         ],
         "xaxis": "x",
         "y": [
          -455,
          -455,
          -465,
          -465
         ],
         "yaxis": "y"
        },
        {
         "hoverinfo": "text",
         "marker": {
          "color": "rgb(255,65,54)"
         },
         "mode": "lines",
         "type": "scatter",
         "x": [
          0,
          0.1221102040808919,
          0.1221102040808919,
          0
         ],
         "xaxis": "x",
         "y": [
          -505,
          -505,
          -515,
          -515
         ],
         "yaxis": "y"
        },
        {
         "hoverinfo": "text",
         "marker": {
          "color": "rgb(255,65,54)"
         },
         "mode": "lines",
         "type": "scatter",
         "x": [
          0,
          0.14905434900064748,
          0.14905434900064748,
          0.1221102040808919
         ],
         "xaxis": "x",
         "y": [
          -495,
          -495,
          -510,
          -510
         ],
         "yaxis": "y"
        },
        {
         "hoverinfo": "text",
         "marker": {
          "color": "rgb(255,65,54)"
         },
         "mode": "lines",
         "type": "scatter",
         "x": [
          0,
          0.157555537027944,
          0.157555537027944,
          0
         ],
         "xaxis": "x",
         "y": [
          -525,
          -525,
          -535,
          -535
         ],
         "yaxis": "y"
        },
        {
         "hoverinfo": "text",
         "marker": {
          "color": "rgb(255,65,54)"
         },
         "mode": "lines",
         "type": "scatter",
         "x": [
          0.14905434900064748,
          0.1787526724341131,
          0.1787526724341131,
          0.157555537027944
         ],
         "xaxis": "x",
         "y": [
          -502.5,
          -502.5,
          -530,
          -530
         ],
         "yaxis": "y"
        },
        {
         "hoverinfo": "text",
         "marker": {
          "color": "rgb(255,65,54)"
         },
         "mode": "lines",
         "type": "scatter",
         "x": [
          0.1787526724341131,
          0.18941605278157211,
          0.18941605278157211,
          0
         ],
         "xaxis": "x",
         "y": [
          -516.25,
          -516.25,
          -545,
          -545
         ],
         "yaxis": "y"
        },
        {
         "hoverinfo": "text",
         "marker": {
          "color": "rgb(255,65,54)"
         },
         "mode": "lines",
         "type": "scatter",
         "x": [
          0,
          0.23875309843810621,
          0.23875309843810621,
          0.18941605278157211
         ],
         "xaxis": "x",
         "y": [
          -485,
          -485,
          -530.625,
          -530.625
         ],
         "yaxis": "y"
        },
        {
         "hoverinfo": "text",
         "marker": {
          "color": "rgb(255,65,54)"
         },
         "mode": "lines",
         "type": "scatter",
         "x": [
          0.23875309843810621,
          0.3074842081607756,
          0.3074842081607756,
          0
         ],
         "xaxis": "x",
         "y": [
          -507.8125,
          -507.8125,
          -555,
          -555
         ],
         "yaxis": "y"
        },
        {
         "hoverinfo": "text",
         "marker": {
          "color": "rgb(255,65,54)"
         },
         "mode": "lines",
         "type": "scatter",
         "x": [
          0,
          0.3379082541357294,
          0.3379082541357294,
          0.3074842081607756
         ],
         "xaxis": "x",
         "y": [
          -475,
          -475,
          -531.40625,
          -531.40625
         ],
         "yaxis": "y"
        },
        {
         "hoverinfo": "text",
         "marker": {
          "color": "rgb(255,65,54)"
         },
         "mode": "lines",
         "type": "scatter",
         "x": [
          0.3379082541357294,
          0.3430886273205851,
          0.3430886273205851,
          0
         ],
         "xaxis": "x",
         "y": [
          -503.203125,
          -503.203125,
          -565,
          -565
         ],
         "yaxis": "y"
        },
        {
         "hoverinfo": "text",
         "marker": {
          "color": "rgb(255,65,54)"
         },
         "mode": "lines",
         "type": "scatter",
         "x": [
          0.32574008829643164,
          0.3652883485907784,
          0.3652883485907784,
          0.3430886273205851
         ],
         "xaxis": "x",
         "y": [
          -460,
          -460,
          -534.1015625,
          -534.1015625
         ],
         "yaxis": "y"
        },
        {
         "hoverinfo": "text",
         "marker": {
          "color": "rgb(255,65,54)"
         },
         "mode": "lines",
         "type": "scatter",
         "x": [
          0,
          0.20968756511666964,
          0.20968756511666964,
          0
         ],
         "xaxis": "x",
         "y": [
          -575,
          -575,
          -585,
          -585
         ],
         "yaxis": "y"
        },
        {
         "hoverinfo": "text",
         "marker": {
          "color": "rgb(255,65,54)"
         },
         "mode": "lines",
         "type": "scatter",
         "x": [
          0.20968756511666964,
          0.3298257200201254,
          0.3298257200201254,
          0
         ],
         "xaxis": "x",
         "y": [
          -580,
          -580,
          -595,
          -595
         ],
         "yaxis": "y"
        },
        {
         "hoverinfo": "text",
         "marker": {
          "color": "rgb(255,65,54)"
         },
         "mode": "lines",
         "type": "scatter",
         "x": [
          0.3652883485907784,
          0.3997946401334387,
          0.3997946401334387,
          0.3298257200201254
         ],
         "xaxis": "x",
         "y": [
          -497.05078125,
          -497.05078125,
          -587.5,
          -587.5
         ],
         "yaxis": "y"
        },
        {
         "hoverinfo": "text",
         "marker": {
          "color": "rgb(255,65,54)"
         },
         "mode": "lines",
         "type": "scatter",
         "x": [
          0,
          0.38356311122802533,
          0.38356311122802533,
          0
         ],
         "xaxis": "x",
         "y": [
          -605,
          -605,
          -615,
          -615
         ],
         "yaxis": "y"
        },
        {
         "hoverinfo": "text",
         "marker": {
          "color": "rgb(255,65,54)"
         },
         "mode": "lines",
         "type": "scatter",
         "x": [
          0.38356311122802533,
          0.41221402235427146,
          0.41221402235427146,
          0
         ],
         "xaxis": "x",
         "y": [
          -610,
          -610,
          -625,
          -625
         ],
         "yaxis": "y"
        },
        {
         "hoverinfo": "text",
         "marker": {
          "color": "rgb(255,65,54)"
         },
         "mode": "lines",
         "type": "scatter",
         "x": [
          0.3997946401334387,
          0.44348306512943786,
          0.44348306512943786,
          0.41221402235427146
         ],
         "xaxis": "x",
         "y": [
          -542.275390625,
          -542.275390625,
          -617.5,
          -617.5
         ],
         "yaxis": "y"
        },
        {
         "hoverinfo": "text",
         "marker": {
          "color": "rgb(255,65,54)"
         },
         "mode": "lines",
         "type": "scatter",
         "x": [
          0.3820033583114918,
          0.5288104015267702,
          0.5288104015267702,
          0.44348306512943786
         ],
         "xaxis": "x",
         "y": [
          -440,
          -440,
          -579.8876953125,
          -579.8876953125
         ],
         "yaxis": "y"
        },
        {
         "hoverinfo": "text",
         "marker": {
          "color": "rgb(255,65,54)"
         },
         "mode": "lines",
         "type": "scatter",
         "x": [
          0.5288104015267702,
          0.5508302927326271,
          0.5508302927326271,
          0
         ],
         "xaxis": "x",
         "y": [
          -509.94384765625,
          -509.94384765625,
          -635,
          -635
         ],
         "yaxis": "y"
        },
        {
         "hoverinfo": "text",
         "marker": {
          "color": "rgb(255,65,54)"
         },
         "mode": "lines",
         "type": "scatter",
         "x": [
          0.42075112204995274,
          0.5787238698894877,
          0.5787238698894877,
          0.5508302927326271
         ],
         "xaxis": "x",
         "y": [
          -392.8125,
          -392.8125,
          -572.471923828125,
          -572.471923828125
         ],
         "yaxis": "y"
        },
        {
         "hoverinfo": "text",
         "marker": {
          "color": "rgb(255,65,54)"
         },
         "mode": "lines",
         "type": "scatter",
         "x": [
          0.6151420059360649,
          0.6537839916657916,
          0.6537839916657916,
          0.5787238698894877
         ],
         "xaxis": "x",
         "y": [
          -295.76171875,
          -295.76171875,
          -482.6422119140625,
          -482.6422119140625
         ],
         "yaxis": "y"
        },
        {
         "hoverinfo": "text",
         "marker": {
          "color": "rgb(255,65,54)"
         },
         "mode": "lines",
         "type": "scatter",
         "x": [
          0,
          0.6313758867430034,
          0.6313758867430034,
          0
         ],
         "xaxis": "x",
         "y": [
          -645,
          -645,
          -655,
          -655
         ],
         "yaxis": "y"
        },
        {
         "hoverinfo": "text",
         "marker": {
          "color": "rgb(255,65,54)"
         },
         "mode": "lines",
         "type": "scatter",
         "x": [
          0.6537839916657916,
          0.6851385739777393,
          0.6851385739777393,
          0.6313758867430034
         ],
         "xaxis": "x",
         "y": [
          -389.20196533203125,
          -389.20196533203125,
          -650,
          -650
         ],
         "yaxis": "y"
        },
        {
         "hoverinfo": "text",
         "marker": {
          "color": "rgb(255,65,54)"
         },
         "mode": "lines",
         "type": "scatter",
         "x": [
          0.7749117401942017,
          0.8418291361485493,
          0.8418291361485493,
          0.6851385739777393
         ],
         "xaxis": "x",
         "y": [
          -151.328125,
          -151.328125,
          -519.6009826660156,
          -519.6009826660156
         ],
         "yaxis": "y"
        },
        {
         "hoverinfo": "text",
         "marker": {
          "color": "rgb(255,65,54)"
         },
         "mode": "lines",
         "type": "scatter",
         "x": [
          0,
          0.6840789004451917,
          0.6840789004451917,
          0
         ],
         "xaxis": "x",
         "y": [
          -665,
          -665,
          -675,
          -675
         ],
         "yaxis": "y"
        },
        {
         "hoverinfo": "text",
         "marker": {
          "color": "rgb(255,65,54)"
         },
         "mode": "lines",
         "type": "scatter",
         "x": [
          0.8418291361485493,
          0.9576612304219759,
          0.9576612304219759,
          0.6840789004451917
         ],
         "xaxis": "x",
         "y": [
          -335.4645538330078,
          -335.4645538330078,
          -670,
          -670
         ],
         "yaxis": "y"
        },
        {
         "hoverinfo": "text",
         "marker": {
          "color": "rgb(0,116,217)"
         },
         "mode": "lines",
         "type": "scatter",
         "x": [
          0.5473229356911586,
          1.9517614506052574,
          1.9517614506052574,
          0.9576612304219759
         ],
         "xaxis": "x",
         "y": [
          -92.3828125,
          -92.3828125,
          -502.7322769165039,
          -502.7322769165039
         ],
         "yaxis": "y"
        }
       ],
       "layout": {
        "autosize": false,
        "height": 1220,
        "hoverlabel": {
         "bgcolor": "white",
         "font": {
          "family": "Rockwell",
          "size": 16
         }
        },
        "hovermode": "closest",
        "plot_bgcolor": "#ECEFF1",
        "showlegend": false,
        "template": {
         "data": {
          "bar": [
           {
            "error_x": {
             "color": "#2a3f5f"
            },
            "error_y": {
             "color": "#2a3f5f"
            },
            "marker": {
             "line": {
              "color": "white",
              "width": 0.5
             },
             "pattern": {
              "fillmode": "overlay",
              "size": 10,
              "solidity": 0.2
             }
            },
            "type": "bar"
           }
          ],
          "barpolar": [
           {
            "marker": {
             "line": {
              "color": "white",
              "width": 0.5
             },
             "pattern": {
              "fillmode": "overlay",
              "size": 10,
              "solidity": 0.2
             }
            },
            "type": "barpolar"
           }
          ],
          "carpet": [
           {
            "aaxis": {
             "endlinecolor": "#2a3f5f",
             "gridcolor": "#C8D4E3",
             "linecolor": "#C8D4E3",
             "minorgridcolor": "#C8D4E3",
             "startlinecolor": "#2a3f5f"
            },
            "baxis": {
             "endlinecolor": "#2a3f5f",
             "gridcolor": "#C8D4E3",
             "linecolor": "#C8D4E3",
             "minorgridcolor": "#C8D4E3",
             "startlinecolor": "#2a3f5f"
            },
            "type": "carpet"
           }
          ],
          "choropleth": [
           {
            "colorbar": {
             "outlinewidth": 0,
             "ticks": ""
            },
            "type": "choropleth"
           }
          ],
          "contour": [
           {
            "colorbar": {
             "outlinewidth": 0,
             "ticks": ""
            },
            "colorscale": [
             [
              0,
              "#0d0887"
             ],
             [
              0.1111111111111111,
              "#46039f"
             ],
             [
              0.2222222222222222,
              "#7201a8"
             ],
             [
              0.3333333333333333,
              "#9c179e"
             ],
             [
              0.4444444444444444,
              "#bd3786"
             ],
             [
              0.5555555555555556,
              "#d8576b"
             ],
             [
              0.6666666666666666,
              "#ed7953"
             ],
             [
              0.7777777777777778,
              "#fb9f3a"
             ],
             [
              0.8888888888888888,
              "#fdca26"
             ],
             [
              1,
              "#f0f921"
             ]
            ],
            "type": "contour"
           }
          ],
          "contourcarpet": [
           {
            "colorbar": {
             "outlinewidth": 0,
             "ticks": ""
            },
            "type": "contourcarpet"
           }
          ],
          "heatmap": [
           {
            "colorbar": {
             "outlinewidth": 0,
             "ticks": ""
            },
            "colorscale": [
             [
              0,
              "#0d0887"
             ],
             [
              0.1111111111111111,
              "#46039f"
             ],
             [
              0.2222222222222222,
              "#7201a8"
             ],
             [
              0.3333333333333333,
              "#9c179e"
             ],
             [
              0.4444444444444444,
              "#bd3786"
             ],
             [
              0.5555555555555556,
              "#d8576b"
             ],
             [
              0.6666666666666666,
              "#ed7953"
             ],
             [
              0.7777777777777778,
              "#fb9f3a"
             ],
             [
              0.8888888888888888,
              "#fdca26"
             ],
             [
              1,
              "#f0f921"
             ]
            ],
            "type": "heatmap"
           }
          ],
          "heatmapgl": [
           {
            "colorbar": {
             "outlinewidth": 0,
             "ticks": ""
            },
            "colorscale": [
             [
              0,
              "#0d0887"
             ],
             [
              0.1111111111111111,
              "#46039f"
             ],
             [
              0.2222222222222222,
              "#7201a8"
             ],
             [
              0.3333333333333333,
              "#9c179e"
             ],
             [
              0.4444444444444444,
              "#bd3786"
             ],
             [
              0.5555555555555556,
              "#d8576b"
             ],
             [
              0.6666666666666666,
              "#ed7953"
             ],
             [
              0.7777777777777778,
              "#fb9f3a"
             ],
             [
              0.8888888888888888,
              "#fdca26"
             ],
             [
              1,
              "#f0f921"
             ]
            ],
            "type": "heatmapgl"
           }
          ],
          "histogram": [
           {
            "marker": {
             "pattern": {
              "fillmode": "overlay",
              "size": 10,
              "solidity": 0.2
             }
            },
            "type": "histogram"
           }
          ],
          "histogram2d": [
           {
            "colorbar": {
             "outlinewidth": 0,
             "ticks": ""
            },
            "colorscale": [
             [
              0,
              "#0d0887"
             ],
             [
              0.1111111111111111,
              "#46039f"
             ],
             [
              0.2222222222222222,
              "#7201a8"
             ],
             [
              0.3333333333333333,
              "#9c179e"
             ],
             [
              0.4444444444444444,
              "#bd3786"
             ],
             [
              0.5555555555555556,
              "#d8576b"
             ],
             [
              0.6666666666666666,
              "#ed7953"
             ],
             [
              0.7777777777777778,
              "#fb9f3a"
             ],
             [
              0.8888888888888888,
              "#fdca26"
             ],
             [
              1,
              "#f0f921"
             ]
            ],
            "type": "histogram2d"
           }
          ],
          "histogram2dcontour": [
           {
            "colorbar": {
             "outlinewidth": 0,
             "ticks": ""
            },
            "colorscale": [
             [
              0,
              "#0d0887"
             ],
             [
              0.1111111111111111,
              "#46039f"
             ],
             [
              0.2222222222222222,
              "#7201a8"
             ],
             [
              0.3333333333333333,
              "#9c179e"
             ],
             [
              0.4444444444444444,
              "#bd3786"
             ],
             [
              0.5555555555555556,
              "#d8576b"
             ],
             [
              0.6666666666666666,
              "#ed7953"
             ],
             [
              0.7777777777777778,
              "#fb9f3a"
             ],
             [
              0.8888888888888888,
              "#fdca26"
             ],
             [
              1,
              "#f0f921"
             ]
            ],
            "type": "histogram2dcontour"
           }
          ],
          "mesh3d": [
           {
            "colorbar": {
             "outlinewidth": 0,
             "ticks": ""
            },
            "type": "mesh3d"
           }
          ],
          "parcoords": [
           {
            "line": {
             "colorbar": {
              "outlinewidth": 0,
              "ticks": ""
             }
            },
            "type": "parcoords"
           }
          ],
          "pie": [
           {
            "automargin": true,
            "type": "pie"
           }
          ],
          "scatter": [
           {
            "fillpattern": {
             "fillmode": "overlay",
             "size": 10,
             "solidity": 0.2
            },
            "type": "scatter"
           }
          ],
          "scatter3d": [
           {
            "line": {
             "colorbar": {
              "outlinewidth": 0,
              "ticks": ""
             }
            },
            "marker": {
             "colorbar": {
              "outlinewidth": 0,
              "ticks": ""
             }
            },
            "type": "scatter3d"
           }
          ],
          "scattercarpet": [
           {
            "marker": {
             "colorbar": {
              "outlinewidth": 0,
              "ticks": ""
             }
            },
            "type": "scattercarpet"
           }
          ],
          "scattergeo": [
           {
            "marker": {
             "colorbar": {
              "outlinewidth": 0,
              "ticks": ""
             }
            },
            "type": "scattergeo"
           }
          ],
          "scattergl": [
           {
            "marker": {
             "colorbar": {
              "outlinewidth": 0,
              "ticks": ""
             }
            },
            "type": "scattergl"
           }
          ],
          "scattermapbox": [
           {
            "marker": {
             "colorbar": {
              "outlinewidth": 0,
              "ticks": ""
             }
            },
            "type": "scattermapbox"
           }
          ],
          "scatterpolar": [
           {
            "marker": {
             "colorbar": {
              "outlinewidth": 0,
              "ticks": ""
             }
            },
            "type": "scatterpolar"
           }
          ],
          "scatterpolargl": [
           {
            "marker": {
             "colorbar": {
              "outlinewidth": 0,
              "ticks": ""
             }
            },
            "type": "scatterpolargl"
           }
          ],
          "scatterternary": [
           {
            "marker": {
             "colorbar": {
              "outlinewidth": 0,
              "ticks": ""
             }
            },
            "type": "scatterternary"
           }
          ],
          "surface": [
           {
            "colorbar": {
             "outlinewidth": 0,
             "ticks": ""
            },
            "colorscale": [
             [
              0,
              "#0d0887"
             ],
             [
              0.1111111111111111,
              "#46039f"
             ],
             [
              0.2222222222222222,
              "#7201a8"
             ],
             [
              0.3333333333333333,
              "#9c179e"
             ],
             [
              0.4444444444444444,
              "#bd3786"
             ],
             [
              0.5555555555555556,
              "#d8576b"
             ],
             [
              0.6666666666666666,
              "#ed7953"
             ],
             [
              0.7777777777777778,
              "#fb9f3a"
             ],
             [
              0.8888888888888888,
              "#fdca26"
             ],
             [
              1,
              "#f0f921"
             ]
            ],
            "type": "surface"
           }
          ],
          "table": [
           {
            "cells": {
             "fill": {
              "color": "#EBF0F8"
             },
             "line": {
              "color": "white"
             }
            },
            "header": {
             "fill": {
              "color": "#C8D4E3"
             },
             "line": {
              "color": "white"
             }
            },
            "type": "table"
           }
          ]
         },
         "layout": {
          "annotationdefaults": {
           "arrowcolor": "#2a3f5f",
           "arrowhead": 0,
           "arrowwidth": 1
          },
          "autotypenumbers": "strict",
          "coloraxis": {
           "colorbar": {
            "outlinewidth": 0,
            "ticks": ""
           }
          },
          "colorscale": {
           "diverging": [
            [
             0,
             "#8e0152"
            ],
            [
             0.1,
             "#c51b7d"
            ],
            [
             0.2,
             "#de77ae"
            ],
            [
             0.3,
             "#f1b6da"
            ],
            [
             0.4,
             "#fde0ef"
            ],
            [
             0.5,
             "#f7f7f7"
            ],
            [
             0.6,
             "#e6f5d0"
            ],
            [
             0.7,
             "#b8e186"
            ],
            [
             0.8,
             "#7fbc41"
            ],
            [
             0.9,
             "#4d9221"
            ],
            [
             1,
             "#276419"
            ]
           ],
           "sequential": [
            [
             0,
             "#0d0887"
            ],
            [
             0.1111111111111111,
             "#46039f"
            ],
            [
             0.2222222222222222,
             "#7201a8"
            ],
            [
             0.3333333333333333,
             "#9c179e"
            ],
            [
             0.4444444444444444,
             "#bd3786"
            ],
            [
             0.5555555555555556,
             "#d8576b"
            ],
            [
             0.6666666666666666,
             "#ed7953"
            ],
            [
             0.7777777777777778,
             "#fb9f3a"
            ],
            [
             0.8888888888888888,
             "#fdca26"
            ],
            [
             1,
             "#f0f921"
            ]
           ],
           "sequentialminus": [
            [
             0,
             "#0d0887"
            ],
            [
             0.1111111111111111,
             "#46039f"
            ],
            [
             0.2222222222222222,
             "#7201a8"
            ],
            [
             0.3333333333333333,
             "#9c179e"
            ],
            [
             0.4444444444444444,
             "#bd3786"
            ],
            [
             0.5555555555555556,
             "#d8576b"
            ],
            [
             0.6666666666666666,
             "#ed7953"
            ],
            [
             0.7777777777777778,
             "#fb9f3a"
            ],
            [
             0.8888888888888888,
             "#fdca26"
            ],
            [
             1,
             "#f0f921"
            ]
           ]
          },
          "colorway": [
           "#636efa",
           "#EF553B",
           "#00cc96",
           "#ab63fa",
           "#FFA15A",
           "#19d3f3",
           "#FF6692",
           "#B6E880",
           "#FF97FF",
           "#FECB52"
          ],
          "font": {
           "color": "#2a3f5f"
          },
          "geo": {
           "bgcolor": "white",
           "lakecolor": "white",
           "landcolor": "white",
           "showlakes": true,
           "showland": true,
           "subunitcolor": "#C8D4E3"
          },
          "hoverlabel": {
           "align": "left"
          },
          "hovermode": "closest",
          "mapbox": {
           "style": "light"
          },
          "paper_bgcolor": "white",
          "plot_bgcolor": "white",
          "polar": {
           "angularaxis": {
            "gridcolor": "#EBF0F8",
            "linecolor": "#EBF0F8",
            "ticks": ""
           },
           "bgcolor": "white",
           "radialaxis": {
            "gridcolor": "#EBF0F8",
            "linecolor": "#EBF0F8",
            "ticks": ""
           }
          },
          "scene": {
           "xaxis": {
            "backgroundcolor": "white",
            "gridcolor": "#DFE8F3",
            "gridwidth": 2,
            "linecolor": "#EBF0F8",
            "showbackground": true,
            "ticks": "",
            "zerolinecolor": "#EBF0F8"
           },
           "yaxis": {
            "backgroundcolor": "white",
            "gridcolor": "#DFE8F3",
            "gridwidth": 2,
            "linecolor": "#EBF0F8",
            "showbackground": true,
            "ticks": "",
            "zerolinecolor": "#EBF0F8"
           },
           "zaxis": {
            "backgroundcolor": "white",
            "gridcolor": "#DFE8F3",
            "gridwidth": 2,
            "linecolor": "#EBF0F8",
            "showbackground": true,
            "ticks": "",
            "zerolinecolor": "#EBF0F8"
           }
          },
          "shapedefaults": {
           "line": {
            "color": "#2a3f5f"
           }
          },
          "ternary": {
           "aaxis": {
            "gridcolor": "#DFE8F3",
            "linecolor": "#A2B1C6",
            "ticks": ""
           },
           "baxis": {
            "gridcolor": "#DFE8F3",
            "linecolor": "#A2B1C6",
            "ticks": ""
           },
           "bgcolor": "white",
           "caxis": {
            "gridcolor": "#DFE8F3",
            "linecolor": "#A2B1C6",
            "ticks": ""
           }
          },
          "title": {
           "x": 0.05
          },
          "xaxis": {
           "automargin": true,
           "gridcolor": "#EBF0F8",
           "linecolor": "#EBF0F8",
           "ticks": "",
           "title": {
            "standoff": 15
           },
           "zerolinecolor": "#EBF0F8",
           "zerolinewidth": 2
          },
          "yaxis": {
           "automargin": true,
           "gridcolor": "#EBF0F8",
           "linecolor": "#EBF0F8",
           "ticks": "",
           "title": {
            "standoff": 15
           },
           "zerolinecolor": "#EBF0F8",
           "zerolinewidth": 2
          }
         }
        },
        "title": {
         "font": {
          "color": "Black",
          "size": 22
         },
         "text": "<b>Hierarchical Clustering</b>",
         "x": 0.5,
         "xanchor": "center",
         "yanchor": "top"
        },
        "width": 1000,
        "xaxis": {
         "mirror": "allticks",
         "rangemode": "tozero",
         "showgrid": false,
         "showline": true,
         "showticklabels": true,
         "ticks": "outside",
         "type": "linear",
         "zeroline": false
        },
        "yaxis": {
         "mirror": "allticks",
         "range": [
          -680,
          0
         ],
         "rangemode": "tozero",
         "showgrid": false,
         "showline": true,
         "showticklabels": true,
         "tickmode": "array",
         "ticks": "outside",
         "ticktext": [
          "67_싱가포르_하노이_실무",
          "9_미사일_발사_icbm",
          "23_미군_주한_지소",
          "12_지소_미아_종료",
          "25_회담_대화_정상",
          "17_남북_비핵화_대북",
          "11_중국_주석_외교",
          "14_트럼프_대통령_회담",
          "33_트럼프_보좌관_북미",
          "35_남북_대남_nll",
          "44_무급_휴직_전단",
          "59_sma_무급_분담금",
          "63_지선_전신_사고",
          "54_고양이_길고양이_이승만",
          "48_24_폭파_기숙사",
          "26_예수_지옥_하나님",
          "38_영화_상영_코드",
          "55_커닝_레이저_국적",
          "22_10_태권_화학",
          "3_퀴어_누리_동성애",
          "7_통일부_헌법_단군",
          "37_검찰_수사_사법",
          "58_법정_구속_혐의",
          "64_사학_석사_학사",
          "43_26_입국_특보",
          "53_사정관_27_진로",
          "56_14_차세대_세대",
          "52_자전거_종로_가격",
          "49_23_주주_교차",
          "36_바이오_지능_인공",
          "21_가산점_점수_사업단",
          "13_김치_벽돌_코스타",
          "1_ai_로봇_백신",
          "29_00_특강_전지",
          "46_샘플_광고_변증",
          "45_구절_200_시국",
          "65_통치_중립_주립",
          "57_인성_적성_면접",
          "32_인터넷_11_투스",
          "24_교대_일괄_합산",
          "18_50_중앙일보_교대",
          "39_80_대안_실업",
          "50_sw_커닝_서해",
          "51_지수_부문_자궁",
          "30_70_지수_보험",
          "34_동포_100_식당",
          "31_재판관_법관_분과",
          "41_채플_발인_소수자",
          "15_28_esg_29",
          "6_지정_건대_통합",
          "0_20_예비_지정",
          "2_30_피지_학과",
          "4_반영_순위_평판",
          "8_발인_대회_혐오",
          "10_25_블로그_가족",
          "19_21_추천자_특차",
          "20_19_만점_18",
          "16_지진_대피_피해",
          "5_지진_15_옥수수",
          "28_유엔사_17_출장",
          "40_원자력_법률가_동해안",
          "27_발인_12_부친상",
          "42_사무_처장_초교",
          "66_대학교_내진_합격자",
          "62_검정고시_주식_전년",
          "60_인상_구매_방위비",
          "47_신대_충남_교대",
          "61_총장_신학_학번"
         ],
         "tickvals": [
          -5,
          -15,
          -25,
          -35,
          -45,
          -55,
          -65,
          -75,
          -85,
          -95,
          -105,
          -115,
          -125,
          -135,
          -145,
          -155,
          -165,
          -175,
          -185,
          -195,
          -205,
          -215,
          -225,
          -235,
          -245,
          -255,
          -265,
          -275,
          -285,
          -295,
          -305,
          -315,
          -325,
          -335,
          -345,
          -355,
          -365,
          -375,
          -385,
          -395,
          -405,
          -415,
          -425,
          -435,
          -445,
          -455,
          -465,
          -475,
          -485,
          -495,
          -505,
          -515,
          -525,
          -535,
          -545,
          -555,
          -565,
          -575,
          -585,
          -595,
          -605,
          -615,
          -625,
          -635,
          -645,
          -655,
          -665,
          -675
         ],
         "type": "linear",
         "zeroline": false
        }
       }
      }
     },
     "metadata": {},
     "output_type": "display_data"
    }
   ],
   "source": [
    "# To visualize the hierarchy of topics\n",
    "hierachy_vis = topic_model.visualize_hierarchy()\n",
    "hierachy_vis"
   ]
  },
  {
   "cell_type": "code",
   "execution_count": 10,
   "metadata": {},
   "outputs": [
    {
     "data": {
      "application/vnd.plotly.v1+json": {
       "config": {
        "plotlyServerURL": "https://plot.ly"
       },
       "data": [
        {
         "coloraxis": "coloraxis",
         "hovertemplate": "x: %{x}<br>y: %{y}<br>Similarity Score: %{z}<extra></extra>",
         "name": "0",
         "type": "heatmap",
         "x": [
          "0_20_예비_지정",
          "1_ai_로봇_백신",
          "2_30_피지_학과",
          "3_퀴어_누리_동성애",
          "4_반영_순위_평판",
          "5_지진_15_옥수수",
          "6_지정_건대_통합",
          "7_통일부_헌법_단군",
          "8_발인_대회_혐오",
          "9_미사일_발사_icbm",
          "10_25_블로그_가족",
          "11_중국_주석_외교",
          "12_지소_미아_종료",
          "13_김치_벽돌_코스타",
          "14_트럼프_대통령_회담",
          "15_28_esg_29",
          "16_지진_대피_피해",
          "17_남북_비핵화_대북",
          "18_50_중앙일보_교대",
          "19_21_추천자_특차",
          "20_19_만점_18",
          "21_가산점_점수_사업단",
          "22_10_태권_화학",
          "23_미군_주한_지소",
          "24_교대_일괄_합산",
          "25_회담_대화_정상",
          "26_예수_지옥_하나님",
          "27_발인_12_부친상",
          "28_유엔사_17_출장",
          "29_00_특강_전지",
          "30_70_지수_보험",
          "31_재판관_법관_분과",
          "32_인터넷_11_투스",
          "33_트럼프_보좌관_북미",
          "34_동포_100_식당",
          "35_남북_대남_nll",
          "36_바이오_지능_인공",
          "37_검찰_수사_사법",
          "38_영화_상영_코드",
          "39_80_대안_실업",
          "40_원자력_법률가_동해안",
          "41_채플_발인_소수자",
          "42_사무_처장_초교",
          "43_26_입국_특보",
          "44_무급_휴직_전단",
          "45_구절_200_시국",
          "46_샘플_광고_변증",
          "47_신대_충남_교대",
          "48_24_폭파_기숙사",
          "49_23_주주_교차",
          "50_sw_커닝_서해",
          "51_지수_부문_자궁",
          "52_자전거_종로_가격",
          "53_사정관_27_진로",
          "54_고양이_길고양이_이승만",
          "55_커닝_레이저_국적",
          "56_14_차세대_세대",
          "57_인성_적성_면접",
          "58_법정_구속_혐의",
          "59_sma_무급_분담금",
          "60_인상_구매_방위비",
          "61_총장_신학_학번",
          "62_검정고시_주식_전년",
          "63_지선_전신_사고",
          "64_사학_석사_학사",
          "65_통치_중립_주립",
          "66_대학교_내진_합격자",
          "67_싱가포르_하노이_실무"
         ],
         "xaxis": "x",
         "y": [
          "0_20_예비_지정",
          "1_ai_로봇_백신",
          "2_30_피지_학과",
          "3_퀴어_누리_동성애",
          "4_반영_순위_평판",
          "5_지진_15_옥수수",
          "6_지정_건대_통합",
          "7_통일부_헌법_단군",
          "8_발인_대회_혐오",
          "9_미사일_발사_icbm",
          "10_25_블로그_가족",
          "11_중국_주석_외교",
          "12_지소_미아_종료",
          "13_김치_벽돌_코스타",
          "14_트럼프_대통령_회담",
          "15_28_esg_29",
          "16_지진_대피_피해",
          "17_남북_비핵화_대북",
          "18_50_중앙일보_교대",
          "19_21_추천자_특차",
          "20_19_만점_18",
          "21_가산점_점수_사업단",
          "22_10_태권_화학",
          "23_미군_주한_지소",
          "24_교대_일괄_합산",
          "25_회담_대화_정상",
          "26_예수_지옥_하나님",
          "27_발인_12_부친상",
          "28_유엔사_17_출장",
          "29_00_특강_전지",
          "30_70_지수_보험",
          "31_재판관_법관_분과",
          "32_인터넷_11_투스",
          "33_트럼프_보좌관_북미",
          "34_동포_100_식당",
          "35_남북_대남_nll",
          "36_바이오_지능_인공",
          "37_검찰_수사_사법",
          "38_영화_상영_코드",
          "39_80_대안_실업",
          "40_원자력_법률가_동해안",
          "41_채플_발인_소수자",
          "42_사무_처장_초교",
          "43_26_입국_특보",
          "44_무급_휴직_전단",
          "45_구절_200_시국",
          "46_샘플_광고_변증",
          "47_신대_충남_교대",
          "48_24_폭파_기숙사",
          "49_23_주주_교차",
          "50_sw_커닝_서해",
          "51_지수_부문_자궁",
          "52_자전거_종로_가격",
          "53_사정관_27_진로",
          "54_고양이_길고양이_이승만",
          "55_커닝_레이저_국적",
          "56_14_차세대_세대",
          "57_인성_적성_면접",
          "58_법정_구속_혐의",
          "59_sma_무급_분담금",
          "60_인상_구매_방위비",
          "61_총장_신학_학번",
          "62_검정고시_주식_전년",
          "63_지선_전신_사고",
          "64_사학_석사_학사",
          "65_통치_중립_주립",
          "66_대학교_내진_합격자",
          "67_싱가포르_하노이_실무"
         ],
         "yaxis": "y",
         "z": [
          [
           0.9999998807907104,
           0.6593589782714844,
           0.9252115488052368,
           0.9075568318367004,
           0.9326304197311401,
           0.9186210632324219,
           0.9312838912010193,
           0.9149951934814453,
           0.9155030250549316,
           0.7160531282424927,
           0.9253649711608887,
           0.6223553419113159,
           0.7640838027000427,
           0.9155637621879578,
           0.584737241268158,
           0.8977870345115662,
           0.9127084612846375,
           0.89219069480896,
           0.9519997835159302,
           0.9424816966056824,
           0.9406403303146362,
           0.8894011378288269,
           0.9276100993156433,
           0.7515701055526733,
           0.9322279095649719,
           0.841943621635437,
           0.8540711402893066,
           0.9244810342788696,
           0.9230977296829224,
           0.909698486328125,
           0.8808427453041077,
           0.9219654202461243,
           0.9384872913360596,
           0.7917478084564209,
           0.9295547008514404,
           0.9108718633651733,
           0.9073153734207153,
           0.9214173555374146,
           0.9088296890258789,
           0.9217478036880493,
           0.9254316687583923,
           0.9034703373908997,
           0.9222412705421448,
           0.9170094132423401,
           0.8899040222167969,
           0.9590902328491211,
           0.9300014972686768,
           0.9080597162246704,
           0.9139596223831177,
           0.9295443892478943,
           0.8563047051429749,
           0.6617860198020935,
           0.9576818943023682,
           0.9115339517593384,
           0.9101772308349609,
           0.9234816431999207,
           0.9098802208900452,
           0.9244357943534851,
           0.9146089553833008,
           0.8452605605125427,
           0.856255054473877,
           0.9144889712333679,
           0.8798362016677856,
           0.9097722172737122,
           0.9108952283859253,
           0.9087435603141785,
           0.9138601422309875,
           0.7132619023323059
          ],
          [
           0.6593589782714844,
           1.0000001192092896,
           0.6614368557929993,
           0.60956871509552,
           0.6591467261314392,
           0.6809043884277344,
           0.6497043967247009,
           0.6495462656021118,
           0.666309654712677,
           0.7552608847618103,
           0.6714015007019043,
           0.6426362991333008,
           0.9023380279541016,
           0.6887829303741455,
           0.6015723943710327,
           0.6713301539421082,
           0.6507896184921265,
           0.7283033728599548,
           0.6369056105613708,
           0.640758752822876,
           0.6865898966789246,
           0.8322219252586365,
           0.6687846183776855,
           0.6830613613128662,
           0.7741358280181885,
           0.7535277009010315,
           0.8391321897506714,
           0.6440826654434204,
           0.6749992966651917,
           0.6575937867164612,
           0.7371147871017456,
           0.6356638669967651,
           0.6837013959884644,
           0.664710283279419,
           0.6660857796669006,
           0.6856600046157837,
           0.801087498664856,
           0.7004749774932861,
           0.7314123511314392,
           0.6651867032051086,
           0.6330156326293945,
           0.6385628581047058,
           0.6536849141120911,
           0.6512548327445984,
           0.7425708174705505,
           0.6707987189292908,
           0.7184181809425354,
           0.602783739566803,
           0.6653614044189453,
           0.6528996229171753,
           0.8190498948097229,
           0.8097372055053711,
           0.6531899571418762,
           0.6487708687782288,
           0.6747056245803833,
           0.7497472763061523,
           0.6587842106819153,
           0.6372368335723877,
           0.6160284280776978,
           0.8423364758491516,
           0.8062589168548584,
           0.6492422223091125,
           0.792209804058075,
           0.6976752281188965,
           0.6472153663635254,
           0.7368613481521606,
           0.676582932472229,
           0.7257694602012634
          ],
          [
           0.9252115488052368,
           0.6614368557929993,
           0.9999997615814209,
           0.9472365379333496,
           0.9256298542022705,
           0.9083831906318665,
           0.9480319023132324,
           0.9433425664901733,
           0.9377992749214172,
           0.7056840658187866,
           0.9220847487449646,
           0.5900042653083801,
           0.7571508884429932,
           0.956779956817627,
           0.5074816942214966,
           0.9680193662643433,
           0.9551037549972534,
           0.9017428159713745,
           0.9530448913574219,
           0.944380521774292,
           0.9448796510696411,
           0.9081228375434875,
           0.9508025646209717,
           0.7281773686408997,
           0.9316617846488953,
           0.8401123881340027,
           0.8672947883605957,
           0.9459214806556702,
           0.9290144443511963,
           0.9517468810081482,
           0.9094519019126892,
           0.9537491798400879,
           0.9742498397827148,
           0.7601847648620605,
           0.9309504628181458,
           0.9261249899864197,
           0.9393750429153442,
           0.9402573108673096,
           0.9126918315887451,
           0.9278417825698853,
           0.9376270771026611,
           0.9487160444259644,
           0.924423098564148,
           0.9463033676147461,
           0.8811013698577881,
           0.9493812322616577,
           0.9579423666000366,
           0.9449868202209473,
           0.9358815550804138,
           0.9490073323249817,
           0.8492418527603149,
           0.6506747007369995,
           0.9558359384536743,
           0.9552853107452393,
           0.9306271076202393,
           0.9351348876953125,
           0.9297203421592712,
           0.9514961242675781,
           0.9471874237060547,
           0.8075394630432129,
           0.8416460156440735,
           0.9486227035522461,
           0.856691300868988,
           0.9343657493591309,
           0.9792125225067139,
           0.9474977254867554,
           0.9330742955207825,
           0.683936357498169
          ],
          [
           0.9075568318367004,
           0.60956871509552,
           0.9472365379333496,
           0.9999996423721313,
           0.9518377780914307,
           0.9448369741439819,
           0.9669971466064453,
           0.9927987456321716,
           0.964211106300354,
           0.6889239549636841,
           0.9297985434532166,
           0.6121479272842407,
           0.7248555421829224,
           0.9889101982116699,
           0.5164375901222229,
           0.967504620552063,
           0.9854332208633423,
           0.9397158622741699,
           0.9508325457572937,
           0.9669003486633301,
           0.9593164920806885,
           0.8866403102874756,
           0.9876459836959839,
           0.7568377256393433,
           0.9129432439804077,
           0.8721252679824829,
           0.8513174057006836,
           0.9724454879760742,
           0.9672302603721619,
           0.99632728099823,
           0.8989231586456299,
           0.9835942983627319,
           0.9633650779724121,
           0.7988590002059937,
           0.945848822593689,
           0.97188800573349,
           0.9474475979804993,
           0.975375771522522,
           0.9099428653717041,
           0.9117581248283386,
           0.9764692783355713,
           0.9735907316207886,
           0.9767321348190308,
           0.9811446666717529,
           0.8696994781494141,
           0.9355435371398926,
           0.9762992262840271,
           0.9959236979484558,
           0.9710622429847717,
           0.9788907766342163,
           0.805499792098999,
           0.5261291265487671,
           0.9739038348197937,
           0.9786223769187927,
           0.9491458535194397,
           0.9488189220428467,
           0.976179838180542,
           0.9901520013809204,
           0.9965989589691162,
           0.7674825191497803,
           0.8439587354660034,
           0.9862686991691589,
           0.8591873645782471,
           0.9239336848258972,
           0.9678916931152344,
           0.9780367016792297,
           0.9454629421234131,
           0.677759051322937
          ],
          [
           0.9326304197311401,
           0.6591467261314392,
           0.9256298542022705,
           0.9518377780914307,
           0.9999998211860657,
           0.9407610297203064,
           0.9360532760620117,
           0.9574069976806641,
           0.9496998190879822,
           0.7108327150344849,
           0.9348852634429932,
           0.6263850331306458,
           0.7623080015182495,
           0.9597587585449219,
           0.5492734909057617,
           0.9405593276023865,
           0.9649962186813354,
           0.9236430525779724,
           0.9706763029098511,
           0.9564758539199829,
           0.9569846391677856,
           0.919761061668396,
           0.9641907215118408,
           0.7667120695114136,
           0.9381243586540222,
           0.8691062927246094,
           0.8754234313964844,
           0.9445433616638184,
           0.958997368812561,
           0.9527294039726257,
           0.8925333619117737,
           0.9584589600563049,
           0.9531036615371704,
           0.7949091196060181,
           0.9232065677642822,
           0.9475820064544678,
           0.9421336650848389,
           0.9605061411857605,
           0.9289565086364746,
           0.9040783643722534,
           0.9545637369155884,
           0.955516517162323,
           0.9465219974517822,
           0.9478855133056641,
           0.8623715043067932,
           0.9347752332687378,
           0.9640265703201294,
           0.9480180144309998,
           0.9377715587615967,
           0.9538394808769226,
           0.8148791193962097,
           0.6324080228805542,
           0.9615612030029297,
           0.9502228498458862,
           0.9507358074188232,
           0.9566633105278015,
           0.9487292170524597,
           0.9579237699508667,
           0.9563789367675781,
           0.8278821706771851,
           0.8725852370262146,
           0.9551069736480713,
           0.8898897767066956,
           0.9572024941444397,
           0.9307761192321777,
           0.9475458860397339,
           0.9511963725090027,
           0.7131567001342773
          ],
          [
           0.9186210632324219,
           0.6809043884277344,
           0.9083831906318665,
           0.9448369741439819,
           0.9407610297203064,
           0.9999997615814209,
           0.9433917999267578,
           0.9562607407569885,
           0.9335122108459473,
           0.7351483702659607,
           0.9219567179679871,
           0.6516757011413574,
           0.7824117541313171,
           0.9464882612228394,
           0.5886827707290649,
           0.9223307371139526,
           0.9454392194747925,
           0.9392050504684448,
           0.9272192120552063,
           0.9264541268348694,
           0.9515722990036011,
           0.8962702751159668,
           0.9592326283454895,
           0.7844201326370239,
           0.9262667298316956,
           0.8826104402542114,
           0.862203061580658,
           0.944488525390625,
           0.9591179490089417,
           0.9471775889396667,
           0.8879672884941101,
           0.936921238899231,
           0.9372062087059021,
           0.8261597156524658,
           0.9345440864562988,
           0.952984631061554,
           0.9378635287284851,
           0.9617928862571716,
           0.9143860340118408,
           0.8966742753982544,
           0.9547157287597656,
           0.9318188428878784,
           0.9673560857772827,
           0.9360284805297852,
           0.8967324495315552,
           0.9240177273750305,
           0.9526386857032776,
           0.941470742225647,
           0.9410080313682556,
           0.9481014013290405,
           0.8516837954521179,
           0.5983961820602417,
           0.9438145756721497,
           0.9330383539199829,
           0.9335477948188782,
           0.948455810546875,
           0.9661051034927368,
           0.9518719911575317,
           0.9520998001098633,
           0.8275860548019409,
           0.9038558006286621,
           0.9457494020462036,
           0.9114983081817627,
           0.915001630783081,
           0.9142795205116272,
           0.94529128074646,
           0.938010573387146,
           0.7311030030250549
          ],
          [
           0.9312838912010193,
           0.6497043967247009,
           0.9480319023132324,
           0.9669971466064453,
           0.9360532760620117,
           0.9433917999267578,
           1,
           0.9693345427513123,
           0.9593505263328552,
           0.714723527431488,
           0.9201228618621826,
           0.6287322044372559,
           0.7604086995124817,
           0.9649128913879395,
           0.5350372195243835,
           0.9442853927612305,
           0.9657712578773499,
           0.9360837936401367,
           0.9453689455986023,
           0.9447062611579895,
           0.9417228102684021,
           0.897697925567627,
           0.9723454713821411,
           0.7594637870788574,
           0.9341714382171631,
           0.8739008903503418,
           0.869357705116272,
           0.9717015624046326,
           0.9489697813987732,
           0.9692528247833252,
           0.9270014762878418,
           0.959233820438385,
           0.9643672108650208,
           0.8028618693351746,
           0.9784910678863525,
           0.9578909873962402,
           0.9461362957954407,
           0.9655419588088989,
           0.911300778388977,
           0.9447576403617859,
           0.9655638933181763,
           0.9519822597503662,
           0.9590762853622437,
           0.9605491757392883,
           0.9527459144592285,
           0.9430189728736877,
           0.9692953824996948,
           0.9649041295051575,
           0.9460705518722534,
           0.9550514221191406,
           0.8938477039337158,
           0.5921370387077332,
           0.962847113609314,
           0.9591439366340637,
           0.9354236721992493,
           0.9506555795669556,
           0.9571512937545776,
           0.9612793922424316,
           0.9689822196960449,
           0.8155832886695862,
           0.8619499206542969,
           0.9592723846435547,
           0.8735058307647705,
           0.8947858810424805,
           0.94947350025177,
           0.9591422080993652,
           0.9468759894371033,
           0.7066824436187744
          ],
          [
           0.9149951934814453,
           0.6495462656021118,
           0.9433425664901733,
           0.9927987456321716,
           0.9574069976806641,
           0.9562607407569885,
           0.9693345427513123,
           0.9999999403953552,
           0.9676762819290161,
           0.7293123006820679,
           0.9316173195838928,
           0.6518619060516357,
           0.7712281346321106,
           0.9848437309265137,
           0.5542453527450562,
           0.9638599157333374,
           0.9847275018692017,
           0.9702029228210449,
           0.9505859613418579,
           0.9628503322601318,
           0.9619608521461487,
           0.9022361636161804,
           0.9929453730583191,
           0.7982787489891052,
           0.929612398147583,
           0.9116420745849609,
           0.8675307035446167,
           0.9741399884223938,
           0.9695769548416138,
           0.9934969544410706,
           0.9124915599822998,
           0.9788668155670166,
           0.9656530618667603,
           0.8359134197235107,
           0.9537615776062012,
           0.9914271235466003,
           0.9622259140014648,
           0.9919644594192505,
           0.9207545518875122,
           0.9191148281097412,
           0.9781654477119446,
           0.9690550565719604,
           0.9766099452972412,
           0.9779887199401855,
           0.898910403251648,
           0.9414745569229126,
           0.9809384346008301,
           0.9855960607528687,
           0.9706588387489319,
           0.9775609970092773,
           0.8335453271865845,
           0.5555647611618042,
           0.9737679958343506,
           0.9722042679786682,
           0.9560293555259705,
           0.9674601554870605,
           0.9777057766914368,
           0.9875003099441528,
           0.9949406385421753,
           0.8053392171859741,
           0.8696399331092834,
           0.9777942299842834,
           0.8759624361991882,
           0.9273365139961243,
           0.9622104167938232,
           0.9838718175888062,
           0.9549790024757385,
           0.7196357250213623
          ],
          [
           0.9155030250549316,
           0.666309654712677,
           0.9377992749214172,
           0.964211106300354,
           0.9496998190879822,
           0.9335122108459473,
           0.9593505263328552,
           0.9676762819290161,
           1,
           0.7415485382080078,
           0.9077634811401367,
           0.6609026193618774,
           0.7790923118591309,
           0.9689143896102905,
           0.5595194101333618,
           0.9560949802398682,
           0.963549792766571,
           0.9372944831848145,
           0.9400434494018555,
           0.9549301862716675,
           0.9577043056488037,
           0.916275680065155,
           0.9720777273178101,
           0.7905572056770325,
           0.936577320098877,
           0.8849126100540161,
           0.8637992143630981,
           0.962640106678009,
           0.9541657567024231,
           0.9681254029273987,
           0.9243960380554199,
           0.9566942453384399,
           0.9535574316978455,
           0.8137340545654297,
           0.9375487565994263,
           0.9574663639068604,
           0.9551354646682739,
           0.9673260450363159,
           0.919638991355896,
           0.9584743976593018,
           0.9570294618606567,
           0.9765048027038574,
           0.958027184009552,
           0.9547949433326721,
           0.8947797417640686,
           0.9329594373703003,
           0.9724128246307373,
           0.9575273990631104,
           0.947533130645752,
           0.9585116505622864,
           0.8432047367095947,
           0.6198559999465942,
           0.9611856341362,
           0.9603214263916016,
           0.9464242458343506,
           0.957578182220459,
           0.9693429470062256,
           0.96839439868927,
           0.9681030511856079,
           0.8310192227363586,
           0.8721491694450378,
           0.9619442820549011,
           0.8846548795700073,
           0.9264828562736511,
           0.9503835439682007,
           0.9608106017112732,
           0.9541295170783997,
           0.7169639468193054
          ],
          [
           0.7160531282424927,
           0.7552608847618103,
           0.7056840658187866,
           0.6889239549636841,
           0.7108327150344849,
           0.7351483702659607,
           0.714723527431488,
           0.7293123006820679,
           0.7415485382080078,
           0.9999996423721313,
           0.7116396427154541,
           0.7479270696640015,
           0.8246849775314331,
           0.7212586402893066,
           0.750514030456543,
           0.7203790545463562,
           0.7093724012374878,
           0.8093704581260681,
           0.6978856325149536,
           0.7089032530784607,
           0.7436019778251648,
           0.7683777809143066,
           0.726910412311554,
           0.8367807865142822,
           0.763188898563385,
           0.8359566926956177,
           0.729076623916626,
           0.7099456787109375,
           0.7453611493110657,
           0.7126649022102356,
           0.7516336441040039,
           0.6978804469108582,
           0.7286936640739441,
           0.8428059816360474,
           0.7177612781524658,
           0.7772476077079773,
           0.7943665385246277,
           0.7549406886100769,
           0.747794508934021,
           0.7193855047225952,
           0.7077445983886719,
           0.7098085880279541,
           0.7197551131248474,
           0.7082481384277344,
           0.7649303674697876,
           0.7227870225906372,
           0.7477255463600159,
           0.6676479578018188,
           0.7091571688652039,
           0.708886444568634,
           0.754561185836792,
           0.6286064982414246,
           0.727210283279419,
           0.709639310836792,
           0.7492480278015137,
           0.7695028781890869,
           0.7166774868965149,
           0.7083644270896912,
           0.7006455063819885,
           0.8178339004516602,
           0.7694395184516907,
           0.6989143490791321,
           0.7890487909317017,
           0.7177926301956177,
           0.7079192399978638,
           0.749326765537262,
           0.721727192401886,
           0.7822298407554626
          ],
          [
           0.9253649711608887,
           0.6714015007019043,
           0.9220847487449646,
           0.9297985434532166,
           0.9348852634429932,
           0.9219567179679871,
           0.9201228618621826,
           0.9316173195838928,
           0.9077634811401367,
           0.7116396427154541,
           1.0000001192092896,
           0.6107128262519836,
           0.7484452128410339,
           0.9393054246902466,
           0.5286556482315063,
           0.939980685710907,
           0.9248478412628174,
           0.9013850092887878,
           0.9334912896156311,
           0.9497320652008057,
           0.936988115310669,
           0.9007689356803894,
           0.9387449026107788,
           0.7314707040786743,
           0.9207485914230347,
           0.8493975400924683,
           0.8795408606529236,
           0.9145786166191101,
           0.9414891004562378,
           0.9308311939239502,
           0.8917086720466614,
           0.9345355033874512,
           0.9465681314468384,
           0.7684997916221619,
           0.9302473664283752,
           0.9229239225387573,
           0.9188812971115112,
           0.9290367364883423,
           0.9039468765258789,
           0.8711232542991638,
           0.9215823411941528,
           0.9228306412696838,
           0.9325823783874512,
           0.9657871723175049,
           0.8541833162307739,
           0.9444360136985779,
           0.9431185722351074,
           0.9314604997634888,
           0.9643503427505493,
           0.9560553431510925,
           0.8369027376174927,
           0.6158732175827026,
           0.9493664503097534,
           0.9578877687454224,
           0.9238526225090027,
           0.9254778623580933,
           0.9144731760025024,
           0.9418449997901917,
           0.9311742782592773,
           0.8196378946304321,
           0.8410407900810242,
           0.9392906427383423,
           0.8873255252838135,
           0.9315881133079529,
           0.9176670908927917,
           0.9270060062408447,
           0.9257431030273438,
           0.6774110794067383
          ],
          [
           0.6223553419113159,
           0.6426362991333008,
           0.5900042653083801,
           0.6121479272842407,
           0.6263850331306458,
           0.6516757011413574,
           0.6287322044372559,
           0.6518619060516357,
           0.6609026193618774,
           0.7479270696640015,
           0.6107128262519836,
           1.000000238418579,
           0.7672301530838013,
           0.6293277144432068,
           0.7744874358177185,
           0.6045950055122375,
           0.6260371804237366,
           0.7591553330421448,
           0.6044911742210388,
           0.5930149555206299,
           0.6351063847541809,
           0.6416589617729187,
           0.6392185688018799,
           0.8233912587165833,
           0.6589129567146301,
           0.8473145961761475,
           0.672989010810852,
           0.6295477747917175,
           0.635147213935852,
           0.6230576038360596,
           0.6425957083702087,
           0.6063575744628906,
           0.6256844401359558,
           0.8439357280731201,
           0.6437069773674011,
           0.707939624786377,
           0.6757283210754395,
           0.6672582626342773,
           0.6338298320770264,
           0.6406094431877136,
           0.6159493327140808,
           0.605311393737793,
           0.6378002166748047,
           0.621780514717102,
           0.6896798014640808,
           0.6343302130699158,
           0.6467596292495728,
           0.5918111205101013,
           0.6170492172241211,
           0.6100221872329712,
           0.6595437526702881,
           0.5216999053955078,
           0.6312297582626343,
           0.6078048944473267,
           0.6331965327262878,
           0.6600841879844666,
           0.6297333240509033,
           0.6211744546890259,
           0.6208933591842651,
           0.7024208903312683,
           0.6466373205184937,
           0.619853138923645,
           0.6461637616157532,
           0.6049888134002686,
           0.5999110341072083,
           0.6571521162986755,
           0.6280146241188049,
           0.8368282318115234
          ],
          [
           0.7640838027000427,
           0.9023380279541016,
           0.7571508884429932,
           0.7248555421829224,
           0.7623080015182495,
           0.7824117541313171,
           0.7604086995124817,
           0.7712281346321106,
           0.7790923118591309,
           0.8246849775314331,
           0.7484452128410339,
           0.7672301530838013,
           1,
           0.7796750664710999,
           0.7594581842422485,
           0.7624441385269165,
           0.7544302344322205,
           0.8654237985610962,
           0.7493351101875305,
           0.7345231771469116,
           0.7929999828338623,
           0.8826645016670227,
           0.777092456817627,
           0.8743225336074829,
           0.8482158780097961,
           0.8966857194900513,
           0.8855708837509155,
           0.7556028962135315,
           0.7814432382583618,
           0.7626891136169434,
           0.8297528028488159,
           0.7400649785995483,
           0.78141188621521,
           0.8430794477462769,
           0.7713479995727539,
           0.8211360573768616,
           0.8622614741325378,
           0.8131447434425354,
           0.8060079216957092,
           0.7743518948554993,
           0.7471503019332886,
           0.7544520497322083,
           0.7615054845809937,
           0.753193199634552,
           0.8541550636291504,
           0.7723987102508545,
           0.8118340373039246,
           0.7170961499214172,
           0.7554726600646973,
           0.7444401979446411,
           0.8588968515396118,
           0.8135570287704468,
           0.7645825147628784,
           0.7450928092002869,
           0.7729451060295105,
           0.8390336632728577,
           0.7579309940338135,
           0.7448216080665588,
           0.7353700399398804,
           0.892263650894165,
           0.8556959629058838,
           0.7487480640411377,
           0.8549703359603882,
           0.767816960811615,
           0.7452549338340759,
           0.8251757621765137,
           0.781571626663208,
           0.8404567241668701
          ],
          [
           0.9155637621879578,
           0.6887829303741455,
           0.956779956817627,
           0.9889101982116699,
           0.9597587585449219,
           0.9464882612228394,
           0.9649128913879395,
           0.9848437309265137,
           0.9689143896102905,
           0.7212586402893066,
           0.9393054246902466,
           0.6293277144432068,
           0.7796750664710999,
           1.0000001192092896,
           0.5401886701583862,
           0.9778907895088196,
           0.9872316122055054,
           0.942840576171875,
           0.955832839012146,
           0.9712398052215576,
           0.972845196723938,
           0.9384747743606567,
           0.9901105165481567,
           0.7704560160636902,
           0.9462185502052307,
           0.8819180130958557,
           0.9009338617324829,
           0.9711877703666687,
           0.9734500646591187,
           0.9948394894599915,
           0.9201264381408691,
           0.9815031290054321,
           0.9745484590530396,
           0.8020278215408325,
           0.9496431350708008,
           0.9680639505386353,
           0.9757400751113892,
           0.9795548915863037,
           0.933965265750885,
           0.9203993082046509,
           0.9714837074279785,
           0.9770873785018921,
           0.9759182929992676,
           0.9806137084960938,
           0.8842167854309082,
           0.9463585019111633,
           0.9929277896881104,
           0.9851990342140198,
           0.9776277542114258,
           0.9827514886856079,
           0.8470367193222046,
           0.5982520580291748,
           0.9752324819564819,
           0.9814584255218506,
           0.9568275809288025,
           0.9704285264015198,
           0.9791125059127808,
           0.9883146286010742,
           0.9862689971923828,
           0.8162470459938049,
           0.883115828037262,
           0.9912293553352356,
           0.8985990881919861,
           0.9463154077529907,
           0.9713534116744995,
           0.9914177656173706,
           0.9544544219970703,
           0.704258918762207
          ],
          [
           0.584737241268158,
           0.6015723943710327,
           0.5074816942214966,
           0.5164375901222229,
           0.5492734909057617,
           0.5886827707290649,
           0.5350372195243835,
           0.5542453527450562,
           0.5595194101333618,
           0.750514030456543,
           0.5286556482315063,
           0.7744874358177185,
           0.7594581842422485,
           0.5401886701583862,
           0.9999999403953552,
           0.5309932827949524,
           0.5307683348655701,
           0.6575735807418823,
           0.5532006025314331,
           0.5155469179153442,
           0.5986236333847046,
           0.5941317677497864,
           0.543599545955658,
           0.7760235071182251,
           0.5904074311256409,
           0.7251476049423218,
           0.6041340231895447,
           0.5433427691459656,
           0.6070176959037781,
           0.5313283801078796,
           0.5977392196655273,
           0.5257430076599121,
           0.544414222240448,
           0.8888981342315674,
           0.5607306957244873,
           0.6124438643455505,
           0.5863996744155884,
           0.5722588300704956,
           0.5676462650299072,
           0.5574426651000977,
           0.5322636365890503,
           0.5342756509780884,
           0.5815246105194092,
           0.5276311635971069,
           0.6107062101364136,
           0.5767025947570801,
           0.5631025433540344,
           0.4999487102031708,
           0.532844603061676,
           0.5204477310180664,
           0.6012900471687317,
           0.5863351821899414,
           0.5796747207641602,
           0.5270931124687195,
           0.5655154585838318,
           0.5697311162948608,
           0.5436495542526245,
           0.5288864970207214,
           0.5305944681167603,
           0.6311022639274597,
           0.604457437992096,
           0.5366877317428589,
           0.6797290444374084,
           0.5480825901031494,
           0.5095105171203613,
           0.5682864785194397,
           0.5757105946540833,
           0.7682647705078125
          ],
          [
           0.8977870345115662,
           0.6713301539421082,
           0.9680193662643433,
           0.967504620552063,
           0.9405593276023865,
           0.9223307371139526,
           0.9442853927612305,
           0.9638599157333374,
           0.9560949802398682,
           0.7203790545463562,
           0.939980685710907,
           0.6045950055122375,
           0.7624441385269165,
           0.9778907895088196,
           0.5309932827949524,
           1.000000238418579,
           0.9624910354614258,
           0.9208510518074036,
           0.943622887134552,
           0.9657477140426636,
           0.9745573401451111,
           0.9263555407524109,
           0.9688135385513306,
           0.7539797425270081,
           0.9343962073326111,
           0.8580538034439087,
           0.8779399394989014,
           0.9550162553787231,
           0.9707130193710327,
           0.971222460269928,
           0.9232277274131775,
           0.9665396809577942,
           0.9684779047966003,
           0.7851245403289795,
           0.9295027256011963,
           0.9461846947669983,
           0.9532977938652039,
           0.959909200668335,
           0.9284600019454956,
           0.904945969581604,
           0.9530445337295532,
           0.9773180484771729,
           0.9526655673980713,
           0.9714393615722656,
           0.8603411912918091,
           0.9409874677658081,
           0.974022388458252,
           0.9640325307846069,
           0.968609094619751,
           0.9763545989990234,
           0.8270410895347595,
           0.6080034971237183,
           0.9658318758010864,
           0.9851120710372925,
           0.9545037746429443,
           0.9494929909706116,
           0.9603152275085449,
           0.9727894067764282,
           0.9686546325683594,
           0.7939496040344238,
           0.8638254404067993,
           0.9748731851577759,
           0.90245521068573,
           0.9436551332473755,
           0.9698582887649536,
           0.9659616947174072,
           0.9543275237083435,
           0.6891214847564697
          ],
          [
           0.9127084612846375,
           0.6507896184921265,
           0.9551037549972534,
           0.9854332208633423,
           0.9649962186813354,
           0.9454392194747925,
           0.9657712578773499,
           0.9847275018692017,
           0.963549792766571,
           0.7093724012374878,
           0.9248478412628174,
           0.6260371804237366,
           0.7544302344322205,
           0.9872316122055054,
           0.5307683348655701,
           0.9624910354614258,
           1,
           0.9411429166793823,
           0.9588603973388672,
           0.9604020118713379,
           0.9540960192680359,
           0.9166867733001709,
           0.9863901138305664,
           0.7606402039527893,
           0.9380019903182983,
           0.8774140477180481,
           0.878987729549408,
           0.9667198061943054,
           0.9637739658355713,
           0.9879506826400757,
           0.9129281044006348,
           0.9831994771957397,
           0.9727773666381836,
           0.803152859210968,
           0.9481451511383057,
           0.9682863354682922,
           0.9609517455101013,
           0.9792532920837402,
           0.9220519065856934,
           0.9228638410568237,
           0.968317449092865,
           0.9666497707366943,
           0.9744258522987366,
           0.9716078042984009,
           0.886145830154419,
           0.9404810667037964,
           0.9825836420059204,
           0.9789643883705139,
           0.9636520147323608,
           0.9725110530853271,
           0.835463285446167,
           0.5818229913711548,
           0.96529221534729,
           0.9712062478065491,
           0.9549587965011597,
           0.9637046456336975,
           0.9736800193786621,
           0.9796731472015381,
           0.9852957725524902,
           0.8007988333702087,
           0.8685464859008789,
           0.9786728620529175,
           0.8767317533493042,
           0.9453221559524536,
           0.967185378074646,
           0.980232834815979,
           0.9516820907592773,
           0.6943023204803467
          ],
          [
           0.89219069480896,
           0.7283033728599548,
           0.9017428159713745,
           0.9397158622741699,
           0.9236430525779724,
           0.9392050504684448,
           0.9360837936401367,
           0.9702029228210449,
           0.9372944831848145,
           0.8093704581260681,
           0.9013850092887878,
           0.7591553330421448,
           0.8654237985610962,
           0.942840576171875,
           0.6575735807418823,
           0.9208510518074036,
           0.9411429166793823,
           1,
           0.9099959135055542,
           0.914875864982605,
           0.9313712120056152,
           0.9017148613929749,
           0.9578491449356079,
           0.884192943572998,
           0.9224386811256409,
           0.9771950244903564,
           0.8826081156730652,
           0.934958279132843,
           0.9370786547660828,
           0.9500605463981628,
           0.9095718264579773,
           0.9288648962974548,
           0.9320771098136902,
           0.9082052111625671,
           0.9319376349449158,
           0.9920734167098999,
           0.9582047462463379,
           0.9772055149078369,
           0.90687495470047,
           0.8981990218162537,
           0.9381887912750244,
           0.9209067821502686,
           0.9372589588165283,
           0.9346463680267334,
           0.9267557859420776,
           0.916541337966919,
           0.9519187211990356,
           0.9269363880157471,
           0.9301367998123169,
           0.9332652688026428,
           0.8652467727661133,
           0.6134549379348755,
           0.9362565279006958,
           0.9234734773635864,
           0.9275766611099243,
           0.9577928781509399,
           0.9392561912536621,
           0.9404805898666382,
           0.947303831577301,
           0.8587276935577393,
           0.8873172998428345,
           0.9276423454284668,
           0.8829070329666138,
           0.8959152698516846,
           0.9146053194999695,
           0.9623881578445435,
           0.9276696443557739,
           0.8141480684280396
          ],
          [
           0.9519997835159302,
           0.6369056105613708,
           0.9530448913574219,
           0.9508325457572937,
           0.9706763029098511,
           0.9272192120552063,
           0.9453689455986023,
           0.9505859613418579,
           0.9400434494018555,
           0.6978856325149536,
           0.9334912896156311,
           0.6044911742210388,
           0.7493351101875305,
           0.955832839012146,
           0.5532006025314331,
           0.943622887134552,
           0.9588603973388672,
           0.9099959135055542,
           0.9999998807907104,
           0.9525167942047119,
           0.9571964740753174,
           0.9083472490310669,
           0.9581820964813232,
           0.738898515701294,
           0.9367572069168091,
           0.8469967842102051,
           0.864318311214447,
           0.9516565203666687,
           0.9478427171707153,
           0.9510670900344849,
           0.9051923751831055,
           0.9577881693840027,
           0.967343270778656,
           0.7893586158752441,
           0.9458164572715759,
           0.9374935030937195,
           0.9334841966629028,
           0.9486779570579529,
           0.9129787087440491,
           0.9247035980224609,
           0.9499303102493286,
           0.9510921835899353,
           0.9431790113449097,
           0.9473999738693237,
           0.8738915324211121,
           0.9634139537811279,
           0.9613536596298218,
           0.947659969329834,
           0.940027117729187,
           0.9489687085151672,
           0.8388445377349854,
           0.667033851146698,
           0.9718062281608582,
           0.9463893175125122,
           0.9336482286453247,
           0.9422929286956787,
           0.9403771162033081,
           0.957697868347168,
           0.9556655883789062,
           0.8120169639587402,
           0.8496580123901367,
           0.9581735730171204,
           0.876792311668396,
           0.9565693140029907,
           0.9499327540397644,
           0.9440946578979492,
           0.9516119360923767,
           0.6961730122566223
          ],
          [
           0.9424816966056824,
           0.640758752822876,
           0.944380521774292,
           0.9669003486633301,
           0.9564758539199829,
           0.9264541268348694,
           0.9447062611579895,
           0.9628503322601318,
           0.9549301862716675,
           0.7089032530784607,
           0.9497320652008057,
           0.5930149555206299,
           0.7345231771469116,
           0.9712398052215576,
           0.5155469179153442,
           0.9657477140426636,
           0.9604020118713379,
           0.914875864982605,
           0.9525167942047119,
           1.0000003576278687,
           0.9667543172836304,
           0.9093744158744812,
           0.9685118198394775,
           0.7487754225730896,
           0.9370441436767578,
           0.8522158265113831,
           0.8603987693786621,
           0.9579859972000122,
           0.9671318531036377,
           0.9677911996841431,
           0.8951400518417358,
           0.9770920872688293,
           0.9674453139305115,
           0.7768632173538208,
           0.9330512881278992,
           0.9459976553916931,
           0.9415683150291443,
           0.9570432901382446,
           0.9206323027610779,
           0.9081408977508545,
           0.977056622505188,
           0.9619448781013489,
           0.9567784667015076,
           0.9754244089126587,
           0.8533735871315002,
           0.9471057653427124,
           0.9683068990707397,
           0.9637616872787476,
           0.9656636118888855,
           0.9841638803482056,
           0.8150980472564697,
           0.5820801258087158,
           0.9749194979667664,
           0.9781558513641357,
           0.9477694034576416,
           0.9463999271392822,
           0.9691672921180725,
           0.9721364378929138,
           0.9677695631980896,
           0.806703507900238,
           0.8910418748855591,
           0.968148410320282,
           0.8922890424728394,
           0.9472615122795105,
           0.9604260921478271,
           0.9574692249298096,
           0.9349446892738342,
           0.6825621128082275
          ],
          [
           0.9406403303146362,
           0.6865898966789246,
           0.9448796510696411,
           0.9593164920806885,
           0.9569846391677856,
           0.9515722990036011,
           0.9417228102684021,
           0.9619608521461487,
           0.9577043056488037,
           0.7436019778251648,
           0.936988115310669,
           0.6351063847541809,
           0.7929999828338623,
           0.972845196723938,
           0.5986236333847046,
           0.9745573401451111,
           0.9540960192680359,
           0.9313712120056152,
           0.9571964740753174,
           0.9667543172836304,
           1,
           0.9392132759094238,
           0.9720969200134277,
           0.7932519912719727,
           0.9528926014900208,
           0.8720878958702087,
           0.8890851736068726,
           0.9636023640632629,
           0.9804259538650513,
           0.9633868932723999,
           0.9106869697570801,
           0.9596821069717407,
           0.9631677865982056,
           0.8207850456237793,
           0.9346457719802856,
           0.9518630504608154,
           0.954573929309845,
           0.9658561944961548,
           0.9425980448722839,
           0.9115136861801147,
           0.9588846564292908,
           0.9748069643974304,
           0.96620774269104,
           0.9579434394836426,
           0.8705630898475647,
           0.9557879567146301,
           0.9766777753829956,
           0.9585034251213074,
           0.9687048196792603,
           0.9758892059326172,
           0.840941846370697,
           0.6342538595199585,
           0.9796935319900513,
           0.963432788848877,
           0.9572941064834595,
           0.9631243944168091,
           0.9661580920219421,
           0.9755333065986633,
           0.9651325345039368,
           0.8297432065010071,
           0.8889750838279724,
           0.9740963578224182,
           0.9309403896331787,
           0.9453210830688477,
           0.9512192010879517,
           0.9625837802886963,
           0.9584068059921265,
           0.7188708186149597
          ],
          [
           0.8894011378288269,
           0.8322219252586365,
           0.9081228375434875,
           0.8866403102874756,
           0.919761061668396,
           0.8962702751159668,
           0.897697925567627,
           0.9022361636161804,
           0.916275680065155,
           0.7683777809143066,
           0.9007689356803894,
           0.6416589617729187,
           0.8826645016670227,
           0.9384747743606567,
           0.5941317677497864,
           0.9263555407524109,
           0.9166867733001709,
           0.9017148613929749,
           0.9083472490310669,
           0.9093744158744812,
           0.9392132759094238,
           0.9999998807907104,
           0.9307732582092285,
           0.7800579071044922,
           0.9757857322692871,
           0.863288164138794,
           0.951680600643158,
           0.90335613489151,
           0.9238904118537903,
           0.9118801355361938,
           0.9186314344406128,
           0.9075412154197693,
           0.9357266426086426,
           0.7819204330444336,
           0.9036463499069214,
           0.9043575525283813,
           0.9692452549934387,
           0.9336191415786743,
           0.9381949305534363,
           0.8884730339050293,
           0.8936070799827576,
           0.9174141883850098,
           0.909843385219574,
           0.9114736914634705,
           0.8835253119468689,
           0.9151610732078552,
           0.9606297612190247,
           0.8866865634918213,
           0.9206200838088989,
           0.9174538850784302,
           0.9031927585601807,
           0.757304310798645,
           0.9145875573158264,
           0.9152138829231262,
           0.9225721955299377,
           0.9653657078742981,
           0.9116238355636597,
           0.9140047430992126,
           0.8953081369400024,
           0.900970995426178,
           0.9226785898208618,
           0.9214493036270142,
           0.9408856630325317,
           0.9244173765182495,
           0.904396653175354,
           0.942626416683197,
           0.9224001169204712,
           0.7445998191833496
          ],
          [
           0.9276100993156433,
           0.6687846183776855,
           0.9508025646209717,
           0.9876459836959839,
           0.9641907215118408,
           0.9592326283454895,
           0.9723454713821411,
           0.9929453730583191,
           0.9720777273178101,
           0.726910412311554,
           0.9387449026107788,
           0.6392185688018799,
           0.777092456817627,
           0.9901105165481567,
           0.543599545955658,
           0.9688135385513306,
           0.9863901138305664,
           0.9578491449356079,
           0.9581820964813232,
           0.9685118198394775,
           0.9720969200134277,
           0.9307732582092285,
           1,
           0.7856582403182983,
           0.956193208694458,
           0.8968742489814758,
           0.8864598274230957,
           0.9800333380699158,
           0.9730492830276489,
           0.9909432530403137,
           0.9174857139587402,
           0.9810301661491394,
           0.9763939380645752,
           0.8169786334037781,
           0.9617571830749512,
           0.9802361726760864,
           0.9716751575469971,
           0.9937681555747986,
           0.9396332502365112,
           0.9306622743606567,
           0.9774285554885864,
           0.974629819393158,
           0.980117917060852,
           0.9784221649169922,
           0.9019226431846619,
           0.9536512494087219,
           0.9933054447174072,
           0.9846245646476746,
           0.9778674840927124,
           0.9820308685302734,
           0.8544228076934814,
           0.5814605355262756,
           0.977268397808075,
           0.9756370186805725,
           0.9656240940093994,
           0.983948826789856,
           0.980667769908905,
           0.9927188754081726,
           0.9921486377716064,
           0.828759491443634,
           0.8862035870552063,
           0.9833330512046814,
           0.8943073749542236,
           0.9342881441116333,
           0.9680662751197815,
           0.9835008382797241,
           0.9643200635910034,
           0.7101083993911743
          ],
          [
           0.7515701055526733,
           0.6830613613128662,
           0.7281773686408997,
           0.7568377256393433,
           0.7667120695114136,
           0.7844201326370239,
           0.7594637870788574,
           0.7982787489891052,
           0.7905572056770325,
           0.8367807865142822,
           0.7314707040786743,
           0.8233912587165833,
           0.8743225336074829,
           0.7704560160636902,
           0.7760235071182251,
           0.7539797425270081,
           0.7606402039527893,
           0.884192943572998,
           0.738898515701294,
           0.7487754225730896,
           0.7932519912719727,
           0.7800579071044922,
           0.7856582403182983,
           0.9999997019767761,
           0.7824572324752808,
           0.9178524017333984,
           0.7742737531661987,
           0.7651612758636475,
           0.7899981141090393,
           0.7709040641784668,
           0.7630338072776794,
           0.749630868434906,
           0.7567051649093628,
           0.9030479788780212,
           0.7551560401916504,
           0.8491518497467041,
           0.8047388792037964,
           0.8149991631507874,
           0.771856427192688,
           0.749459981918335,
           0.7685691118240356,
           0.7638319730758667,
           0.7748207449913025,
           0.7594111561775208,
           0.79758620262146,
           0.7508432865142822,
           0.7888287305831909,
           0.7444159388542175,
           0.7523406744003296,
           0.751893162727356,
           0.7379382252693176,
           0.5843629240989685,
           0.7711390852928162,
           0.7493382096290588,
           0.7752233743667603,
           0.8105460405349731,
           0.7685949206352234,
           0.7661901116371155,
           0.7672075033187866,
           0.7825499773025513,
           0.7760425806045532,
           0.7531597018241882,
           0.7863292694091797,
           0.7285486459732056,
           0.7436447739601135,
           0.8004892468452454,
           0.7592926025390625,
           0.8130565881729126
          ],
          [
           0.9322279095649719,
           0.7741358280181885,
           0.9316617846488953,
           0.9129432439804077,
           0.9381243586540222,
           0.9262667298316956,
           0.9341714382171631,
           0.929612398147583,
           0.936577320098877,
           0.763188898563385,
           0.9207485914230347,
           0.6589129567146301,
           0.8482158780097961,
           0.9462185502052307,
           0.5904074311256409,
           0.9343962073326111,
           0.9380019903182983,
           0.9224386811256409,
           0.9367572069168091,
           0.9370441436767578,
           0.9528926014900208,
           0.9757857322692871,
           0.956193208694458,
           0.7824572324752808,
           0.9999997615814209,
           0.8795673847198486,
           0.9359302520751953,
           0.9472205638885498,
           0.9414758086204529,
           0.9299012422561646,
           0.9232512712478638,
           0.9434911012649536,
           0.9699138402938843,
           0.8026712536811829,
           0.9452978372573853,
           0.9303917288780212,
           0.9663366079330444,
           0.9566780924797058,
           0.946459174156189,
           0.9326192140579224,
           0.9367892742156982,
           0.9346119165420532,
           0.9391719102859497,
           0.9367827773094177,
           0.9135603904724121,
           0.9506896734237671,
           0.9717861413955688,
           0.91363924741745,
           0.9403405785560608,
           0.9370744824409485,
           0.9209080934524536,
           0.7356479167938232,
           0.943450927734375,
           0.9361576437950134,
           0.9423633217811584,
           0.9794690012931824,
           0.9379392862319946,
           0.939569354057312,
           0.924759566783905,
           0.9077438712120056,
           0.9376393556594849,
           0.9357898831367493,
           0.9363061189651489,
           0.9234969019889832,
           0.9365700483322144,
           0.9476635456085205,
           0.9513645172119141,
           0.7429704070091248
          ],
          [
           0.841943621635437,
           0.7535277009010315,
           0.8401123881340027,
           0.8721252679824829,
           0.8691062927246094,
           0.8826104402542114,
           0.8739008903503418,
           0.9116420745849609,
           0.8849126100540161,
           0.8359566926956177,
           0.8493975400924683,
           0.8473145961761475,
           0.8966857194900513,
           0.8819180130958557,
           0.7251476049423218,
           0.8580538034439087,
           0.8774140477180481,
           0.9771950244903564,
           0.8469967842102051,
           0.8522158265113831,
           0.8720878958702087,
           0.863288164138794,
           0.8968742489814758,
           0.9178524017333984,
           0.8795673847198486,
           1,
           0.8617278337478638,
           0.8732978105545044,
           0.8781850934028625,
           0.8856931328773499,
           0.8669571876525879,
           0.8648825883865356,
           0.8723948001861572,
           0.9365609288215637,
           0.8729526996612549,
           0.9504005312919617,
           0.9149010181427002,
           0.9233090281486511,
           0.8610717058181763,
           0.8517262935638428,
           0.8745219111442566,
           0.8572536706924438,
           0.8753957152366638,
           0.8759957551956177,
           0.894585371017456,
           0.8596453666687012,
           0.8955808281898499,
           0.8569994568824768,
           0.8675562143325806,
           0.8663355112075806,
           0.8374766707420349,
           0.6239784359931946,
           0.8775384426116943,
           0.8624104857444763,
           0.8744605183601379,
           0.9078951478004456,
           0.8743211627006531,
           0.8749327659606934,
           0.8809819221496582,
           0.8558781147003174,
           0.85649573802948,
           0.8644511103630066,
           0.8471978902816772,
           0.8405137062072754,
           0.8517385125160217,
           0.9094409942626953,
           0.8693950176239014,
           0.8679528832435608
          ],
          [
           0.8540711402893066,
           0.8391321897506714,
           0.8672947883605957,
           0.8513174057006836,
           0.8754234313964844,
           0.862203061580658,
           0.869357705116272,
           0.8675307035446167,
           0.8637992143630981,
           0.729076623916626,
           0.8795408606529236,
           0.672989010810852,
           0.8855708837509155,
           0.9009338617324829,
           0.6041340231895447,
           0.8779399394989014,
           0.878987729549408,
           0.8826081156730652,
           0.864318311214447,
           0.8603987693786621,
           0.8890851736068726,
           0.951680600643158,
           0.8864598274230957,
           0.7742737531661987,
           0.9359302520751953,
           0.8617278337478638,
           1.000000238418579,
           0.861635684967041,
           0.8798405528068542,
           0.8769857883453369,
           0.8960102200508118,
           0.870254397392273,
           0.9002387523651123,
           0.7702092528343201,
           0.888343095779419,
           0.8770955801010132,
           0.9253838658332825,
           0.8939897418022156,
           0.887795090675354,
           0.8559539318084717,
           0.8566930294036865,
           0.8672583103179932,
           0.8725394010543823,
           0.8809076547622681,
           0.8760864734649658,
           0.8790101408958435,
           0.914806067943573,
           0.8543999791145325,
           0.8819348812103271,
           0.8726618885993958,
           0.9058629870414734,
           0.7639421820640564,
           0.8747304081916809,
           0.8784214854240417,
           0.8693153262138367,
           0.9180232286453247,
           0.8642841577529907,
           0.8661301136016846,
           0.8526473045349121,
           0.883704423904419,
           0.886340856552124,
           0.8806812763214111,
           0.9001866579055786,
           0.8800042867660522,
           0.8643651008605957,
           0.9133387804031372,
           0.8839303255081177,
           0.7397582530975342
          ],
          [
           0.9244810342788696,
           0.6440826654434204,
           0.9459214806556702,
           0.9724454879760742,
           0.9445433616638184,
           0.944488525390625,
           0.9717015624046326,
           0.9741399884223938,
           0.962640106678009,
           0.7099456787109375,
           0.9145786166191101,
           0.6295477747917175,
           0.7556028962135315,
           0.9711877703666687,
           0.5433427691459656,
           0.9550162553787231,
           0.9667198061943054,
           0.934958279132843,
           0.9516565203666687,
           0.9579859972000122,
           0.9636023640632629,
           0.90335613489151,
           0.9800333380699158,
           0.7651612758636475,
           0.9472205638885498,
           0.8732978105545044,
           0.861635684967041,
           0.9999998807907104,
           0.9568461775779724,
           0.9743772745132446,
           0.8915202617645264,
           0.9718932509422302,
           0.9687817096710205,
           0.8071492910385132,
           0.9570614099502563,
           0.9599982500076294,
           0.9492269158363342,
           0.9702991843223572,
           0.9175769090652466,
           0.9359429478645325,
           0.9846358299255371,
           0.9663174748420715,
           0.9661461710929871,
           0.9624319076538086,
           0.9012001752853394,
           0.9425684213638306,
           0.9741762280464172,
           0.9706700444221497,
           0.96543949842453,
           0.9630872011184692,
           0.8499736189842224,
           0.5920595526695251,
           0.9714895486831665,
           0.9580793380737305,
           0.9467794299125671,
           0.9589014649391174,
           0.9749268889427185,
           0.9762266278266907,
           0.9763319492340088,
           0.8115675449371338,
           0.8903492093086243,
           0.9694750308990479,
           0.8777672052383423,
           0.9103555679321289,
           0.9703012108802795,
           0.9638731479644775,
           0.9539581537246704,
           0.7021396160125732
          ],
          [
           0.9230977296829224,
           0.6749992966651917,
           0.9290144443511963,
           0.9672302603721619,
           0.958997368812561,
           0.9591179490089417,
           0.9489697813987732,
           0.9695769548416138,
           0.9541657567024231,
           0.7453611493110657,
           0.9414891004562378,
           0.635147213935852,
           0.7814432382583618,
           0.9734500646591187,
           0.6070176959037781,
           0.9707130193710327,
           0.9637739658355713,
           0.9370786547660828,
           0.9478427171707153,
           0.9671318531036377,
           0.9804259538650513,
           0.9238904118537903,
           0.9730492830276489,
           0.7899981141090393,
           0.9414758086204529,
           0.8781850934028625,
           0.8798405528068542,
           0.9568461775779724,
           1.0000001192092896,
           0.9694879055023193,
           0.9261261224746704,
           0.9721919298171997,
           0.9610425233840942,
           0.8368201851844788,
           0.936488687992096,
           0.9596654176712036,
           0.9512762427330017,
           0.9688301682472229,
           0.9301102161407471,
           0.9039415717124939,
           0.9681751728057861,
           0.9706559777259827,
           0.9851453900337219,
           0.9716049432754517,
           0.8775748014450073,
           0.9395012855529785,
           0.9734511375427246,
           0.9627724885940552,
           0.9629307985305786,
           0.9705197215080261,
           0.8346107006072998,
           0.6106966733932495,
           0.9719215631484985,
           0.9804856777191162,
           0.9578479528427124,
           0.9557239413261414,
           0.9708227515220642,
           0.9696943759918213,
           0.9716471433639526,
           0.8206506371498108,
           0.8967491984367371,
           0.9737905263900757,
           0.9509631395339966,
           0.9410617351531982,
           0.9431077837944031,
           0.9656158089637756,
           0.9621893167495728,
           0.720677375793457
          ],
          [
           0.909698486328125,
           0.6575937867164612,
           0.9517468810081482,
           0.99632728099823,
           0.9527294039726257,
           0.9471775889396667,
           0.9692528247833252,
           0.9934969544410706,
           0.9681254029273987,
           0.7126649022102356,
           0.9308311939239502,
           0.6230576038360596,
           0.7626891136169434,
           0.9948394894599915,
           0.5313283801078796,
           0.971222460269928,
           0.9879506826400757,
           0.9500605463981628,
           0.9510670900344849,
           0.9677911996841431,
           0.9633868932723999,
           0.9118801355361938,
           0.9909432530403137,
           0.7709040641784668,
           0.9299012422561646,
           0.8856931328773499,
           0.8769857883453369,
           0.9743772745132446,
           0.9694879055023193,
           1,
           0.913679838180542,
           0.9836969375610352,
           0.9696497321128845,
           0.8071948289871216,
           0.9502834677696228,
           0.9770821332931519,
           0.9668306708335876,
           0.9826561212539673,
           0.9203932881355286,
           0.9192575216293335,
           0.9771990776062012,
           0.9745593667030334,
           0.9768838286399841,
           0.9810688495635986,
           0.8874571323394775,
           0.9392949342727661,
           0.9854018688201904,
           0.9914252161979675,
           0.9744844436645508,
           0.9804323315620422,
           0.8319228887557983,
           0.5652522444725037,
           0.9740895628929138,
           0.9785067439079285,
           0.9533348083496094,
           0.9627156257629395,
           0.9801486134529114,
           0.9888299703598022,
           0.9930862188339233,
           0.7970547676086426,
           0.8696093559265137,
           0.9856005311012268,
           0.8776735067367554,
           0.93202805519104,
           0.971183180809021,
           0.9907933473587036,
           0.9509561657905579,
           0.69576495885849
          ],
          [
           0.8808427453041077,
           0.7371147871017456,
           0.9094519019126892,
           0.8989231586456299,
           0.8925333619117737,
           0.8879672884941101,
           0.9270014762878418,
           0.9124915599822998,
           0.9243960380554199,
           0.7516336441040039,
           0.8917086720466614,
           0.6425957083702087,
           0.8297528028488159,
           0.9201264381408691,
           0.5977392196655273,
           0.9232277274131775,
           0.9129281044006348,
           0.9095718264579773,
           0.9051923751831055,
           0.8951400518417358,
           0.9106869697570801,
           0.9186314344406128,
           0.9174857139587402,
           0.7630338072776794,
           0.9232512712478638,
           0.8669571876525879,
           0.8960102200508118,
           0.8915202617645264,
           0.9261261224746704,
           0.913679838180542,
           1,
           0.9060686230659485,
           0.9295083284378052,
           0.8046621084213257,
           0.9258169531822205,
           0.9151387214660645,
           0.9323437809944153,
           0.9257156848907471,
           0.8874776363372803,
           0.934253990650177,
           0.8898047804832458,
           0.9257591366767883,
           0.9113336205482483,
           0.911994218826294,
           0.9191806316375732,
           0.9129205942153931,
           0.933681845664978,
           0.8926820755004883,
           0.9012366533279419,
           0.91021728515625,
           0.9005945920944214,
           0.7341119647026062,
           0.9081966876983643,
           0.9271312952041626,
           0.9071227312088013,
           0.9197582602500916,
           0.9015297889709473,
           0.8999416828155518,
           0.905454695224762,
           0.85316401720047,
           0.8500551581382751,
           0.9117323160171509,
           0.9100748896598816,
           0.8961474299430847,
           0.8905594944953918,
           0.9292135238647461,
           0.9572222232818604,
           0.7345817685127258
          ],
          [
           0.9219654202461243,
           0.6356638669967651,
           0.9537491798400879,
           0.9835942983627319,
           0.9584589600563049,
           0.936921238899231,
           0.959233820438385,
           0.9788668155670166,
           0.9566942453384399,
           0.6978804469108582,
           0.9345355033874512,
           0.6063575744628906,
           0.7400649785995483,
           0.9815031290054321,
           0.5257430076599121,
           0.9665396809577942,
           0.9831994771957397,
           0.9288648962974548,
           0.9577881693840027,
           0.9770920872688293,
           0.9596821069717407,
           0.9075412154197693,
           0.9810301661491394,
           0.749630868434906,
           0.9434911012649536,
           0.8648825883865356,
           0.870254397392273,
           0.9718932509422302,
           0.9721919298171997,
           0.9836969375610352,
           0.9060686230659485,
           0.9999998807907104,
           0.9835525155067444,
           0.7929681539535522,
           0.9459701776504517,
           0.9604709148406982,
           0.9495514631271362,
           0.9701257944107056,
           0.9189733266830444,
           0.9197930097579956,
           0.9809272289276123,
           0.9707148671150208,
           0.9785286784172058,
           0.9835131168365479,
           0.8712437152862549,
           0.945303738117218,
           0.976189374923706,
           0.9795987010002136,
           0.9658891558647156,
           0.9724326729774475,
           0.8271033763885498,
           0.5898432731628418,
           0.9735901951789856,
           0.9831855893135071,
           0.9541810750961304,
           0.9535176157951355,
           0.9723798632621765,
           0.9797934293746948,
           0.9836805462837219,
           0.8009384870529175,
           0.8816922903060913,
           0.9789294004440308,
           0.8885419368743896,
           0.9342243671417236,
           0.9747399687767029,
           0.9729710817337036,
           0.9513506889343262,
           0.6850403547286987
          ],
          [
           0.9384872913360596,
           0.6837013959884644,
           0.9742498397827148,
           0.9633650779724121,
           0.9531036615371704,
           0.9372062087059021,
           0.9643672108650208,
           0.9656530618667603,
           0.9535574316978455,
           0.7286936640739441,
           0.9465681314468384,
           0.6256844401359558,
           0.78141188621521,
           0.9745484590530396,
           0.544414222240448,
           0.9684779047966003,
           0.9727773666381836,
           0.9320771098136902,
           0.967343270778656,
           0.9674453139305115,
           0.9631677865982056,
           0.9357266426086426,
           0.9763939380645752,
           0.7567051649093628,
           0.9699138402938843,
           0.8723948001861572,
           0.9002387523651123,
           0.9687817096710205,
           0.9610425233840942,
           0.9696497321128845,
           0.9295083284378052,
           0.9835525155067444,
           1,
           0.7963547110557556,
           0.9668283462524414,
           0.9549102783203125,
           0.9624033570289612,
           0.9694030284881592,
           0.934909462928772,
           0.940723717212677,
           0.9672050476074219,
           0.963677704334259,
           0.9612506031990051,
           0.9721566438674927,
           0.9060016870498657,
           0.9736589193344116,
           0.9823451638221741,
           0.9594270586967468,
           0.9645891785621643,
           0.9690426588058472,
           0.8860732913017273,
           0.6663316488265991,
           0.9729443788528442,
           0.9737970232963562,
           0.9552822113037109,
           0.9663622975349426,
           0.9612873196601868,
           0.9706902503967285,
           0.9679623246192932,
           0.8529133796691895,
           0.8951583504676819,
           0.9691869020462036,
           0.9024229049682617,
           0.9432051777839661,
           0.9767615795135498,
           0.9689862132072449,
           0.963528573513031,
           0.7052517533302307
          ],
          [
           0.7917478084564209,
           0.664710283279419,
           0.7601847648620605,
           0.7988590002059937,
           0.7949091196060181,
           0.8261597156524658,
           0.8028618693351746,
           0.8359134197235107,
           0.8137340545654297,
           0.8428059816360474,
           0.7684997916221619,
           0.8439357280731201,
           0.8430794477462769,
           0.8020278215408325,
           0.8888981342315674,
           0.7851245403289795,
           0.803152859210968,
           0.9082052111625671,
           0.7893586158752441,
           0.7768632173538208,
           0.8207850456237793,
           0.7819204330444336,
           0.8169786334037781,
           0.9030479788780212,
           0.8026712536811829,
           0.9365609288215637,
           0.7702092528343201,
           0.8071492910385132,
           0.8368201851844788,
           0.8071948289871216,
           0.8046621084213257,
           0.7929681539535522,
           0.7963547110557556,
           0.9999998807907104,
           0.8079448938369751,
           0.8798215389251709,
           0.8265720009803772,
           0.8425811529159546,
           0.7858965992927551,
           0.7853813767433167,
           0.8048344850540161,
           0.78671795129776,
           0.8259437680244446,
           0.7961400747299194,
           0.8281556367874146,
           0.8040995001792908,
           0.8161543607711792,
           0.7801147699356079,
           0.7918477058410645,
           0.788642168045044,
           0.7674269080162048,
           0.5842859745025635,
           0.8222694396972656,
           0.7899355292320251,
           0.809933066368103,
           0.8188199996948242,
           0.8073618412017822,
           0.8008923530578613,
           0.8113754987716675,
           0.7744001150131226,
           0.7910019159317017,
           0.7948841452598572,
           0.8249400854110718,
           0.7720496654510498,
           0.7736624479293823,
           0.825382649898529,
           0.8096790909767151,
           0.8593257665634155
          ],
          [
           0.9295547008514404,
           0.6660857796669006,
           0.9309504628181458,
           0.945848822593689,
           0.9232065677642822,
           0.9345440864562988,
           0.9784910678863525,
           0.9537615776062012,
           0.9375487565994263,
           0.7177612781524658,
           0.9302473664283752,
           0.6437069773674011,
           0.7713479995727539,
           0.9496431350708008,
           0.5607306957244873,
           0.9295027256011963,
           0.9481451511383057,
           0.9319376349449158,
           0.9458164572715759,
           0.9330512881278992,
           0.9346457719802856,
           0.9036463499069214,
           0.9617571830749512,
           0.7551560401916504,
           0.9452978372573853,
           0.8729526996612549,
           0.888343095779419,
           0.9570614099502563,
           0.936488687992096,
           0.9502834677696228,
           0.9258169531822205,
           0.9459701776504517,
           0.9668283462524414,
           0.8079448938369751,
           1,
           0.9493078589439392,
           0.9396823048591614,
           0.9566633105278015,
           0.9049235582351685,
           0.9402679204940796,
           0.9479000568389893,
           0.930416464805603,
           0.947631299495697,
           0.950961172580719,
           0.9448801279067993,
           0.9662419557571411,
           0.9628033638000488,
           0.9442850351333618,
           0.9501332640647888,
           0.9492340087890625,
           0.925529420375824,
           0.6277150511741638,
           0.9567145109176636,
           0.9428367614746094,
           0.9238682985305786,
           0.9495144486427307,
           0.9437652826309204,
           0.9510334730148315,
           0.9527172446250916,
           0.8357850313186646,
           0.8659170866012573,
           0.9497762322425842,
           0.8761950135231018,
           0.895637035369873,
           0.9322403073310852,
           0.9461734294891357,
           0.9523019790649414,
           0.7089873552322388
          ],
          [
           0.9108718633651733,
           0.6856600046157837,
           0.9261249899864197,
           0.97188800573349,
           0.9475820064544678,
           0.952984631061554,
           0.9578909873962402,
           0.9914271235466003,
           0.9574663639068604,
           0.7772476077079773,
           0.9229239225387573,
           0.707939624786377,
           0.8211360573768616,
           0.9680639505386353,
           0.6124438643455505,
           0.9461846947669983,
           0.9682863354682922,
           0.9920734167098999,
           0.9374935030937195,
           0.9459976553916931,
           0.9518630504608154,
           0.9043575525283813,
           0.9802361726760864,
           0.8491518497467041,
           0.9303917288780212,
           0.9504005312919617,
           0.8770955801010132,
           0.9599982500076294,
           0.9596654176712036,
           0.9770821332931519,
           0.9151387214660645,
           0.9604709148406982,
           0.9549102783203125,
           0.8798215389251709,
           0.9493078589439392,
           1,
           0.9637706279754639,
           0.9899482727050781,
           0.9168930649757385,
           0.9137486219406128,
           0.9655746221542358,
           0.9494233131408691,
           0.9624810218811035,
           0.9625858664512634,
           0.9179065227508545,
           0.935235857963562,
           0.9708128571510315,
           0.9613059759140015,
           0.9550127983093262,
           0.9606499075889587,
           0.8520442843437195,
           0.5869759917259216,
           0.9619882106781006,
           0.9531170129776001,
           0.9463863968849182,
           0.9667761325836182,
           0.9641210436820984,
           0.9691500663757324,
           0.9768273830413818,
           0.8370617628097534,
           0.8836272954940796,
           0.9573267102241516,
           0.8837344646453857,
           0.9169080853462219,
           0.9430069327354431,
           0.9778100252151489,
           0.9465324878692627,
           0.7716791033744812
          ],
          [
           0.9073153734207153,
           0.801087498664856,
           0.9393750429153442,
           0.9474475979804993,
           0.9421336650848389,
           0.9378635287284851,
           0.9461362957954407,
           0.9622259140014648,
           0.9551354646682739,
           0.7943665385246277,
           0.9188812971115112,
           0.6757283210754395,
           0.8622614741325378,
           0.9757400751113892,
           0.5863996744155884,
           0.9532977938652039,
           0.9609517455101013,
           0.9582047462463379,
           0.9334841966629028,
           0.9415683150291443,
           0.954573929309845,
           0.9692452549934387,
           0.9716751575469971,
           0.8047388792037964,
           0.9663366079330444,
           0.9149010181427002,
           0.9253838658332825,
           0.9492269158363342,
           0.9512762427330017,
           0.9668306708335876,
           0.9323437809944153,
           0.9495514631271362,
           0.9624033570289612,
           0.8265720009803772,
           0.9396823048591614,
           0.9637706279754639,
           0.9999997615814209,
           0.9772907495498657,
           0.9423186779022217,
           0.920714259147644,
           0.9456909894943237,
           0.946905791759491,
           0.948448896408081,
           0.9495928883552551,
           0.9171468019485474,
           0.9360664486885071,
           0.9855153560638428,
           0.9392513036727905,
           0.951169490814209,
           0.9538711309432983,
           0.8987725973129272,
           0.6862046718597412,
           0.9510261416435242,
           0.9485131502151489,
           0.9476782083511353,
           0.9832123517990112,
           0.9570340514183044,
           0.9563321471214294,
           0.951058030128479,
           0.8886113166809082,
           0.9246097803115845,
           0.9554355144500732,
           0.921887218952179,
           0.9379401206970215,
           0.9477201104164124,
           0.9861665964126587,
           0.9448833465576172,
           0.7626762390136719
          ],
          [
           0.9214173555374146,
           0.7004749774932861,
           0.9402573108673096,
           0.975375771522522,
           0.9605061411857605,
           0.9617928862571716,
           0.9655419588088989,
           0.9919644594192505,
           0.9673260450363159,
           0.7549406886100769,
           0.9290367364883423,
           0.6672582626342773,
           0.8131447434425354,
           0.9795548915863037,
           0.5722588300704956,
           0.959909200668335,
           0.9792532920837402,
           0.9772055149078369,
           0.9486779570579529,
           0.9570432901382446,
           0.9658561944961548,
           0.9336191415786743,
           0.9937681555747986,
           0.8149991631507874,
           0.9566780924797058,
           0.9233090281486511,
           0.8939897418022156,
           0.9702991843223572,
           0.9688301682472229,
           0.9826561212539673,
           0.9257156848907471,
           0.9701257944107056,
           0.9694030284881592,
           0.8425811529159546,
           0.9566633105278015,
           0.9899482727050781,
           0.9772907495498657,
           0.9999996423721313,
           0.9390575289726257,
           0.9259667992591858,
           0.9720087647438049,
           0.9644436836242676,
           0.9721159338951111,
           0.9676231145858765,
           0.9191108345985413,
           0.9461691975593567,
           0.9873172640800476,
           0.968039870262146,
           0.966710090637207,
           0.9730062484741211,
           0.8673691749572754,
           0.6049097776412964,
           0.9676535129547119,
           0.9632187485694885,
           0.9624829292297363,
           0.9875997304916382,
           0.9762369990348816,
           0.9796537160873413,
           0.9832609295845032,
           0.8507962226867676,
           0.9025236368179321,
           0.9684057235717773,
           0.9025804400444031,
           0.9333808422088623,
           0.9546763896942139,
           0.9839125871658325,
           0.9625769853591919,
           0.7434125542640686
          ],
          [
           0.9088296890258789,
           0.7314123511314392,
           0.9126918315887451,
           0.9099428653717041,
           0.9289565086364746,
           0.9143860340118408,
           0.911300778388977,
           0.9207545518875122,
           0.919638991355896,
           0.747794508934021,
           0.9039468765258789,
           0.6338298320770264,
           0.8060079216957092,
           0.933965265750885,
           0.5676462650299072,
           0.9284600019454956,
           0.9220519065856934,
           0.90687495470047,
           0.9129787087440491,
           0.9206323027610779,
           0.9425980448722839,
           0.9381949305534363,
           0.9396332502365112,
           0.771856427192688,
           0.946459174156189,
           0.8610717058181763,
           0.887795090675354,
           0.9175769090652466,
           0.9301102161407471,
           0.9203932881355286,
           0.8874776363372803,
           0.9189733266830444,
           0.934909462928772,
           0.7858965992927551,
           0.9049235582351685,
           0.9168930649757385,
           0.9423186779022217,
           0.9390575289726257,
           1.0000001192092896,
           0.8849397301673889,
           0.9102115035057068,
           0.9252240657806396,
           0.9214492440223694,
           0.9197714328765869,
           0.8672616481781006,
           0.9211663007736206,
           0.9509626626968384,
           0.9091336131095886,
           0.9230288863182068,
           0.93083655834198,
           0.8481632471084595,
           0.6489391326904297,
           0.9327296018600464,
           0.923080563545227,
           0.9672774076461792,
           0.9524424076080322,
           0.9188256859779358,
           0.9294072389602661,
           0.9177102446556091,
           0.8491377830505371,
           0.8820379376411438,
           0.9263868927955627,
           0.9014784097671509,
           0.9097775816917419,
           0.9101073741912842,
           0.9304267168045044,
           0.9207044243812561,
           0.7145419120788574
          ],
          [
           0.9217478036880493,
           0.6651867032051086,
           0.9278417825698853,
           0.9117581248283386,
           0.9040783643722534,
           0.8966742753982544,
           0.9447576403617859,
           0.9191148281097412,
           0.9584743976593018,
           0.7193855047225952,
           0.8711232542991638,
           0.6406094431877136,
           0.7743518948554993,
           0.9203993082046509,
           0.5574426651000977,
           0.904945969581604,
           0.9228638410568237,
           0.8981990218162537,
           0.9247035980224609,
           0.9081408977508545,
           0.9115136861801147,
           0.8884730339050293,
           0.9306622743606567,
           0.749459981918335,
           0.9326192140579224,
           0.8517262935638428,
           0.8559539318084717,
           0.9359429478645325,
           0.9039415717124939,
           0.9192575216293335,
           0.934253990650177,
           0.9197930097579956,
           0.940723717212677,
           0.7853813767433167,
           0.9402679204940796,
           0.9137486219406128,
           0.920714259147644,
           0.9259667992591858,
           0.8849397301673889,
           0.9999997019767761,
           0.918433666229248,
           0.9292294383049011,
           0.9146173000335693,
           0.9079862833023071,
           0.9143900871276855,
           0.9320420622825623,
           0.935835599899292,
           0.9076664447784424,
           0.8994544148445129,
           0.9067363739013672,
           0.889426052570343,
           0.7076247334480286,
           0.9290788173675537,
           0.9120587706565857,
           0.906786322593689,
           0.9262709617614746,
           0.9194742441177368,
           0.9188040494918823,
           0.918398380279541,
           0.8425723314285278,
           0.8493696451187134,
           0.9126591682434082,
           0.8558313846588135,
           0.8801235556602478,
           0.9230235815048218,
           0.9191999435424805,
           0.9502490758895874,
           0.6975772976875305
          ],
          [
           0.9254316687583923,
           0.6330156326293945,
           0.9376270771026611,
           0.9764692783355713,
           0.9545637369155884,
           0.9547157287597656,
           0.9655638933181763,
           0.9781654477119446,
           0.9570294618606567,
           0.7077445983886719,
           0.9215823411941528,
           0.6159493327140808,
           0.7471503019332886,
           0.9714837074279785,
           0.5322636365890503,
           0.9530445337295532,
           0.968317449092865,
           0.9381887912750244,
           0.9499303102493286,
           0.977056622505188,
           0.9588846564292908,
           0.8936070799827576,
           0.9774285554885864,
           0.7685691118240356,
           0.9367892742156982,
           0.8745219111442566,
           0.8566930294036865,
           0.9846358299255371,
           0.9681751728057861,
           0.9771990776062012,
           0.8898047804832458,
           0.9809272289276123,
           0.9672050476074219,
           0.8048344850540161,
           0.9479000568389893,
           0.9655746221542358,
           0.9456909894943237,
           0.9720087647438049,
           0.9102115035057068,
           0.918433666229248,
           0.9999998807907104,
           0.9622417092323303,
           0.9698658585548401,
           0.9703144431114197,
           0.889825165271759,
           0.9339040517807007,
           0.969212532043457,
           0.9722790122032166,
           0.9563067555427551,
           0.969158411026001,
           0.8316771388053894,
           0.5735614895820618,
           0.9696071743965149,
           0.9681748747825623,
           0.9432314038276672,
           0.9528231620788574,
           0.9840495586395264,
           0.9727070331573486,
           0.978664755821228,
           0.8055895566940308,
           0.9121226668357849,
           0.9678543210029602,
           0.8881304264068604,
           0.9236283302307129,
           0.9649578332901001,
           0.966019868850708,
           0.943790078163147,
           0.70441734790802
          ],
          [
           0.9034703373908997,
           0.6385628581047058,
           0.9487160444259644,
           0.9735907316207886,
           0.955516517162323,
           0.9318188428878784,
           0.9519822597503662,
           0.9690550565719604,
           0.9765048027038574,
           0.7098085880279541,
           0.9228306412696838,
           0.605311393737793,
           0.7544520497322083,
           0.9770873785018921,
           0.5342756509780884,
           0.9773180484771729,
           0.9666497707366943,
           0.9209067821502686,
           0.9510921835899353,
           0.9619448781013489,
           0.9748069643974304,
           0.9174141883850098,
           0.974629819393158,
           0.7638319730758667,
           0.9346119165420532,
           0.8572536706924438,
           0.8672583103179932,
           0.9663174748420715,
           0.9706559777259827,
           0.9745593667030334,
           0.9257591366767883,
           0.9707148671150208,
           0.963677704334259,
           0.78671795129776,
           0.930416464805603,
           0.9494233131408691,
           0.946905791759491,
           0.9644436836242676,
           0.9252240657806396,
           0.9292294383049011,
           0.9622417092323303,
           1,
           0.9652724266052246,
           0.9687190055847168,
           0.8661251068115234,
           0.9326199293136597,
           0.9751803278923035,
           0.9710060358047485,
           0.9608930349349976,
           0.9667707681655884,
           0.8193070888519287,
           0.6092110872268677,
           0.9697802066802979,
           0.9761879444122314,
           0.9585493803024292,
           0.9531612396240234,
           0.9657375812530518,
           0.9735607504844666,
           0.9753968715667725,
           0.8027086853981018,
           0.8579180240631104,
           0.977398157119751,
           0.8960607051849365,
           0.9375030398368835,
           0.9598718881607056,
           0.9635623693466187,
           0.9650906324386597,
           0.6788102388381958
          ],
          [
           0.9222412705421448,
           0.6536849141120911,
           0.924423098564148,
           0.9767321348190308,
           0.9465219974517822,
           0.9673560857772827,
           0.9590762853622437,
           0.9766099452972412,
           0.958027184009552,
           0.7197551131248474,
           0.9325823783874512,
           0.6378002166748047,
           0.7615054845809937,
           0.9759182929992676,
           0.5815246105194092,
           0.9526655673980713,
           0.9744258522987366,
           0.9372589588165283,
           0.9431790113449097,
           0.9567784667015076,
           0.96620774269104,
           0.909843385219574,
           0.980117917060852,
           0.7748207449913025,
           0.9391719102859497,
           0.8753957152366638,
           0.8725394010543823,
           0.9661461710929871,
           0.9851453900337219,
           0.9768838286399841,
           0.9113336205482483,
           0.9785286784172058,
           0.9612506031990051,
           0.8259437680244446,
           0.947631299495697,
           0.9624810218811035,
           0.948448896408081,
           0.9721159338951111,
           0.9214492440223694,
           0.9146173000335693,
           0.9698658585548401,
           0.9652724266052246,
           1,
           0.976759672164917,
           0.8844717144966125,
           0.9379967451095581,
           0.9742944836616516,
           0.9735254049301147,
           0.968614935874939,
           0.9658475518226624,
           0.8396823406219482,
           0.5779014825820923,
           0.9687178134918213,
           0.972579300403595,
           0.9510366320610046,
           0.9558438062667847,
           0.9760890007019043,
           0.9764507412910461,
           0.9800576567649841,
           0.8093544840812683,
           0.8851740956306458,
           0.977924108505249,
           0.9231631755828857,
           0.9231076836585999,
           0.9465315937995911,
           0.9686633348464966,
           0.9522050619125366,
           0.7013393044471741
          ],
          [
           0.9170094132423401,
           0.6512548327445984,
           0.9463033676147461,
           0.9811446666717529,
           0.9478855133056641,
           0.9360284805297852,
           0.9605491757392883,
           0.9779887199401855,
           0.9547949433326721,
           0.7082481384277344,
           0.9657871723175049,
           0.621780514717102,
           0.753193199634552,
           0.9806137084960938,
           0.5276311635971069,
           0.9714393615722656,
           0.9716078042984009,
           0.9346463680267334,
           0.9473999738693237,
           0.9754244089126587,
           0.9579434394836426,
           0.9114736914634705,
           0.9784221649169922,
           0.7594111561775208,
           0.9367827773094177,
           0.8759957551956177,
           0.8809076547622681,
           0.9624319076538086,
           0.9716049432754517,
           0.9810688495635986,
           0.911994218826294,
           0.9835131168365479,
           0.9721566438674927,
           0.7961400747299194,
           0.950961172580719,
           0.9625858664512634,
           0.9495928883552551,
           0.9676231145858765,
           0.9197714328765869,
           0.9079862833023071,
           0.9703144431114197,
           0.9687190055847168,
           0.976759672164917,
           0.9999998211860657,
           0.8783228993415833,
           0.9438667893409729,
           0.9762008190155029,
           0.9795571565628052,
           0.978947639465332,
           0.9760544896125793,
           0.8372368216514587,
           0.5768581628799438,
           0.974254846572876,
           0.9905867576599121,
           0.9498329162597656,
           0.9524065852165222,
           0.9627094864845276,
           0.9779276847839355,
           0.9798524379730225,
           0.8006268739700317,
           0.8679641485214233,
           0.978924572467804,
           0.8942370414733887,
           0.9303362369537354,
           0.9622512459754944,
           0.9711704254150391,
           0.9439798593521118,
           0.6867445707321167
          ],
          [
           0.8899040222167969,
           0.7425708174705505,
           0.8811013698577881,
           0.8696994781494141,
           0.8623715043067932,
           0.8967324495315552,
           0.9527459144592285,
           0.898910403251648,
           0.8947797417640686,
           0.7649303674697876,
           0.8541833162307739,
           0.6896798014640808,
           0.8541550636291504,
           0.8842167854309082,
           0.6107062101364136,
           0.8603411912918091,
           0.886145830154419,
           0.9267557859420776,
           0.8738915324211121,
           0.8533735871315002,
           0.8705630898475647,
           0.8835253119468689,
           0.9019226431846619,
           0.79758620262146,
           0.9135603904724121,
           0.894585371017456,
           0.8760864734649658,
           0.9012001752853394,
           0.8775748014450073,
           0.8874571323394775,
           0.9191806316375732,
           0.8712437152862549,
           0.9060016870498657,
           0.8281556367874146,
           0.9448801279067993,
           0.9179065227508545,
           0.9171468019485474,
           0.9191108345985413,
           0.8672616481781006,
           0.9143900871276855,
           0.889825165271759,
           0.8661251068115234,
           0.8844717144966125,
           0.8783228993415833,
           0.9999998807907104,
           0.8932828307151794,
           0.9100444316864014,
           0.863196074962616,
           0.866115391254425,
           0.8691361546516418,
           0.9531707763671875,
           0.6899189352989197,
           0.8873583078384399,
           0.8709794282913208,
           0.8698967099189758,
           0.9162347912788391,
           0.8812358975410461,
           0.8700412511825562,
           0.8798695802688599,
           0.8761138319969177,
           0.866963267326355,
           0.8663588166236877,
           0.8636434674263,
           0.8246669173240662,
           0.8652920126914978,
           0.9056567549705505,
           0.8966835737228394,
           0.7715930938720703
          ],
          [
           0.9590902328491211,
           0.6707987189292908,
           0.9493812322616577,
           0.9355435371398926,
           0.9347752332687378,
           0.9240177273750305,
           0.9430189728736877,
           0.9414745569229126,
           0.9329594373703003,
           0.7227870225906372,
           0.9444360136985779,
           0.6343302130699158,
           0.7723987102508545,
           0.9463585019111633,
           0.5767025947570801,
           0.9409874677658081,
           0.9404810667037964,
           0.916541337966919,
           0.9634139537811279,
           0.9471057653427124,
           0.9557879567146301,
           0.9151610732078552,
           0.9536512494087219,
           0.7508432865142822,
           0.9506896734237671,
           0.8596453666687012,
           0.8790101408958435,
           0.9425684213638306,
           0.9395012855529785,
           0.9392949342727661,
           0.9129205942153931,
           0.945303738117218,
           0.9736589193344116,
           0.8040995001792908,
           0.9662419557571411,
           0.935235857963562,
           0.9360664486885071,
           0.9461691975593567,
           0.9211663007736206,
           0.9320420622825623,
           0.9339040517807007,
           0.9326199293136597,
           0.9379967451095581,
           0.9438667893409729,
           0.8932828307151794,
           0.9999997615814209,
           0.9593861103057861,
           0.9328027963638306,
           0.9507807493209839,
           0.9551607966423035,
           0.8853795528411865,
           0.6648026704788208,
           0.9696683883666992,
           0.9408465623855591,
           0.9297438859939575,
           0.9470581412315369,
           0.9342144131660461,
           0.9544989466667175,
           0.9433295130729675,
           0.84794020652771,
           0.8574583530426025,
           0.9470968842506409,
           0.8867517113685608,
           0.9242950081825256,
           0.9393470883369446,
           0.9382341504096985,
           0.9511274099349976,
           0.7074426412582397
          ],
          [
           0.9300014972686768,
           0.7184181809425354,
           0.9579423666000366,
           0.9762992262840271,
           0.9640265703201294,
           0.9526386857032776,
           0.9692953824996948,
           0.9809384346008301,
           0.9724128246307373,
           0.7477255463600159,
           0.9431185722351074,
           0.6467596292495728,
           0.8118340373039246,
           0.9929277896881104,
           0.5631025433540344,
           0.974022388458252,
           0.9825836420059204,
           0.9519187211990356,
           0.9613536596298218,
           0.9683068990707397,
           0.9766777753829956,
           0.9606297612190247,
           0.9933054447174072,
           0.7888287305831909,
           0.9717861413955688,
           0.8955808281898499,
           0.914806067943573,
           0.9741762280464172,
           0.9734511375427246,
           0.9854018688201904,
           0.933681845664978,
           0.976189374923706,
           0.9823451638221741,
           0.8161543607711792,
           0.9628033638000488,
           0.9708128571510315,
           0.9855153560638428,
           0.9873172640800476,
           0.9509626626968384,
           0.935835599899292,
           0.969212532043457,
           0.9751803278923035,
           0.9742944836616516,
           0.9762008190155029,
           0.9100444316864014,
           0.9593861103057861,
           0.9999998807907104,
           0.9732306003570557,
           0.9767700433731079,
           0.9792764782905579,
           0.8814905285835266,
           0.6401535272598267,
           0.9761319756507874,
           0.9762822389602661,
           0.9663445353507996,
           0.9878140091896057,
           0.9764465093612671,
           0.9848907589912415,
           0.9802947640419006,
           0.8567244410514832,
           0.9051288366317749,
           0.9842261075973511,
           0.9177417159080505,
           0.9476345181465149,
           0.9684407711029053,
           0.9874292612075806,
           0.9656156897544861,
           0.7254176139831543
          ],
          [
           0.9080597162246704,
           0.602783739566803,
           0.9449868202209473,
           0.9959236979484558,
           0.9480180144309998,
           0.941470742225647,
           0.9649041295051575,
           0.9855960607528687,
           0.9575273990631104,
           0.6676479578018188,
           0.9314604997634888,
           0.5918111205101013,
           0.7170961499214172,
           0.9851990342140198,
           0.4999487102031708,
           0.9640325307846069,
           0.9789643883705139,
           0.9269363880157471,
           0.947659969329834,
           0.9637616872787476,
           0.9585034251213074,
           0.8866865634918213,
           0.9846245646476746,
           0.7444159388542175,
           0.91363924741745,
           0.8569994568824768,
           0.8543999791145325,
           0.9706700444221497,
           0.9627724885940552,
           0.9914252161979675,
           0.8926820755004883,
           0.9795987010002136,
           0.9594270586967468,
           0.7801147699356079,
           0.9442850351333618,
           0.9613059759140015,
           0.9392513036727905,
           0.968039870262146,
           0.9091336131095886,
           0.9076664447784424,
           0.9722790122032166,
           0.9710060358047485,
           0.9735254049301147,
           0.9795571565628052,
           0.863196074962616,
           0.9328027963638306,
           0.9732306003570557,
           1.0000001192092896,
           0.970557451248169,
           0.975987434387207,
           0.8027702569961548,
           0.5228623151779175,
           0.9712115526199341,
           0.9766851663589478,
           0.9447352886199951,
           0.9455356597900391,
           0.9689003825187683,
           0.9898096323013306,
           0.9916708469390869,
           0.7583339214324951,
           0.8358712792396545,
           0.9850149750709534,
           0.8550410270690918,
           0.9137197732925415,
           0.9648909568786621,
           0.9713433384895325,
           0.9419098496437073,
           0.6602758169174194
          ],
          [
           0.9139596223831177,
           0.6653614044189453,
           0.9358815550804138,
           0.9710622429847717,
           0.9377715587615967,
           0.9410080313682556,
           0.9460705518722534,
           0.9706588387489319,
           0.947533130645752,
           0.7091571688652039,
           0.9643503427505493,
           0.6170492172241211,
           0.7554726600646973,
           0.9776277542114258,
           0.532844603061676,
           0.968609094619751,
           0.9636520147323608,
           0.9301367998123169,
           0.940027117729187,
           0.9656636118888855,
           0.9687048196792603,
           0.9206200838088989,
           0.9778674840927124,
           0.7523406744003296,
           0.9403405785560608,
           0.8675562143325806,
           0.8819348812103271,
           0.96543949842453,
           0.9629307985305786,
           0.9744844436645508,
           0.9012366533279419,
           0.9658891558647156,
           0.9645891785621643,
           0.7918477058410645,
           0.9501332640647888,
           0.9550127983093262,
           0.951169490814209,
           0.966710090637207,
           0.9230288863182068,
           0.8994544148445129,
           0.9563067555427551,
           0.9608930349349976,
           0.968614935874939,
           0.978947639465332,
           0.866115391254425,
           0.9507807493209839,
           0.9767700433731079,
           0.970557451248169,
           1.0000004768371582,
           0.9865708351135254,
           0.839332640171051,
           0.5759935975074768,
           0.9684855937957764,
           0.9715925455093384,
           0.9508948922157288,
           0.957445502281189,
           0.967191219329834,
           0.9808636903762817,
           0.9736428260803223,
           0.804527997970581,
           0.8707103133201599,
           0.9778128266334534,
           0.8901498317718506,
           0.9344393014907837,
           0.9509463906288147,
           0.9680408239364624,
           0.9507764577865601,
           0.6757479310035706
          ],
          [
           0.9295443892478943,
           0.6528996229171753,
           0.9490073323249817,
           0.9788907766342163,
           0.9538394808769226,
           0.9481014013290405,
           0.9550514221191406,
           0.9775609970092773,
           0.9585116505622864,
           0.708886444568634,
           0.9560553431510925,
           0.6100221872329712,
           0.7444401979446411,
           0.9827514886856079,
           0.5204477310180664,
           0.9763545989990234,
           0.9725110530853271,
           0.9332652688026428,
           0.9489687085151672,
           0.9841638803482056,
           0.9758892059326172,
           0.9174538850784302,
           0.9820308685302734,
           0.751893162727356,
           0.9370744824409485,
           0.8663355112075806,
           0.8726618885993958,
           0.9630872011184692,
           0.9705197215080261,
           0.9804323315620422,
           0.91021728515625,
           0.9724326729774475,
           0.9690426588058472,
           0.788642168045044,
           0.9492340087890625,
           0.9606499075889587,
           0.9538711309432983,
           0.9730062484741211,
           0.93083655834198,
           0.9067363739013672,
           0.969158411026001,
           0.9667707681655884,
           0.9658475518226624,
           0.9760544896125793,
           0.8691361546516418,
           0.9551607966423035,
           0.9792764782905579,
           0.975987434387207,
           0.9865708351135254,
           0.9999998807907104,
           0.8308476805686951,
           0.5631338953971863,
           0.9757152199745178,
           0.9781301021575928,
           0.957496702671051,
           0.959115207195282,
           0.9788271188735962,
           0.9850987792015076,
           0.9808512330055237,
           0.8024137020111084,
           0.8777090311050415,
           0.9806585907936096,
           0.8889772891998291,
           0.947569727897644,
           0.9571496248245239,
           0.9714979529380798,
           0.9528553485870361,
           0.685843288898468
          ],
          [
           0.8563047051429749,
           0.8190498948097229,
           0.8492418527603149,
           0.805499792098999,
           0.8148791193962097,
           0.8516837954521179,
           0.8938477039337158,
           0.8335453271865845,
           0.8432047367095947,
           0.754561185836792,
           0.8369027376174927,
           0.6595437526702881,
           0.8588968515396118,
           0.8470367193222046,
           0.6012900471687317,
           0.8270410895347595,
           0.835463285446167,
           0.8652467727661133,
           0.8388445377349854,
           0.8150980472564697,
           0.840941846370697,
           0.9031927585601807,
           0.8544228076934814,
           0.7379382252693176,
           0.9209080934524536,
           0.8374766707420349,
           0.9058629870414734,
           0.8499736189842224,
           0.8346107006072998,
           0.8319228887557983,
           0.9005945920944214,
           0.8271033763885498,
           0.8860732913017273,
           0.7674269080162048,
           0.925529420375824,
           0.8520442843437195,
           0.8987725973129272,
           0.8673691749572754,
           0.8481632471084595,
           0.889426052570343,
           0.8316771388053894,
           0.8193070888519287,
           0.8396823406219482,
           0.8372368216514587,
           0.9531707763671875,
           0.8853795528411865,
           0.8814905285835266,
           0.8027702569961548,
           0.839332640171051,
           0.8308476805686951,
           1.000000238418579,
           0.77985018491745,
           0.8473957777023315,
           0.8299041986465454,
           0.8272374272346497,
           0.8931033611297607,
           0.8349916338920593,
           0.8240418434143066,
           0.8173658847808838,
           0.892731785774231,
           0.872683048248291,
           0.8305169343948364,
           0.8728910088539124,
           0.8118720054626465,
           0.8260900974273682,
           0.8666573762893677,
           0.8689349293708801,
           0.7394416332244873
          ],
          [
           0.6617860198020935,
           0.8097372055053711,
           0.6506747007369995,
           0.5261291265487671,
           0.6324080228805542,
           0.5983961820602417,
           0.5921370387077332,
           0.5555647611618042,
           0.6198559999465942,
           0.6286064982414246,
           0.6158732175827026,
           0.5216999053955078,
           0.8135570287704468,
           0.5982520580291748,
           0.5863351821899414,
           0.6080034971237183,
           0.5818229913711548,
           0.6134549379348755,
           0.667033851146698,
           0.5820801258087158,
           0.6342538595199585,
           0.757304310798645,
           0.5814605355262756,
           0.5843629240989685,
           0.7356479167938232,
           0.6239784359931946,
           0.7639421820640564,
           0.5920595526695251,
           0.6106966733932495,
           0.5652522444725037,
           0.7341119647026062,
           0.5898432731628418,
           0.6663316488265991,
           0.5842859745025635,
           0.6277150511741638,
           0.5869759917259216,
           0.6862046718597412,
           0.6049097776412964,
           0.6489391326904297,
           0.7076247334480286,
           0.5735614895820618,
           0.6092110872268677,
           0.5779014825820923,
           0.5768581628799438,
           0.6899189352989197,
           0.6648026704788208,
           0.6401535272598267,
           0.5228623151779175,
           0.5759935975074768,
           0.5631338953971863,
           0.77985018491745,
           0.9999998211860657,
           0.611202597618103,
           0.5855027437210083,
           0.6030337810516357,
           0.6550574898719788,
           0.5743106603622437,
           0.5552986860275269,
           0.5396097302436829,
           0.7913064956665039,
           0.7136574983596802,
           0.5794497132301331,
           0.7361346483230591,
           0.6789821982383728,
           0.6035613417625427,
           0.6333116292953491,
           0.68198162317276,
           0.6285715103149414
          ],
          [
           0.9576818943023682,
           0.6531899571418762,
           0.9558359384536743,
           0.9739038348197937,
           0.9615612030029297,
           0.9438145756721497,
           0.962847113609314,
           0.9737679958343506,
           0.9611856341362,
           0.727210283279419,
           0.9493664503097534,
           0.6312297582626343,
           0.7645825147628784,
           0.9752324819564819,
           0.5796747207641602,
           0.9658318758010864,
           0.96529221534729,
           0.9362565279006958,
           0.9718062281608582,
           0.9749194979667664,
           0.9796935319900513,
           0.9145875573158264,
           0.977268397808075,
           0.7711390852928162,
           0.943450927734375,
           0.8775384426116943,
           0.8747304081916809,
           0.9714895486831665,
           0.9719215631484985,
           0.9740895628929138,
           0.9081966876983643,
           0.9735901951789856,
           0.9729443788528442,
           0.8222694396972656,
           0.9567145109176636,
           0.9619882106781006,
           0.9510261416435242,
           0.9676535129547119,
           0.9327296018600464,
           0.9290788173675537,
           0.9696071743965149,
           0.9697802066802979,
           0.9687178134918213,
           0.974254846572876,
           0.8873583078384399,
           0.9696683883666992,
           0.9761319756507874,
           0.9712115526199341,
           0.9684855937957764,
           0.9757152199745178,
           0.8473957777023315,
           0.611202597618103,
           1,
           0.970996081829071,
           0.9545232057571411,
           0.956967294216156,
           0.9625343084335327,
           0.978897750377655,
           0.975860595703125,
           0.8210803270339966,
           0.8673110008239746,
           0.9760231971740723,
           0.8995972871780396,
           0.9407411813735962,
           0.9599212408065796,
           0.9650552868843079,
           0.9530300498008728,
           0.7111522555351257
          ],
          [
           0.9115339517593384,
           0.6487708687782288,
           0.9552853107452393,
           0.9786223769187927,
           0.9502228498458862,
           0.9330383539199829,
           0.9591439366340637,
           0.9722042679786682,
           0.9603214263916016,
           0.709639310836792,
           0.9578877687454224,
           0.6078048944473267,
           0.7450928092002869,
           0.9814584255218506,
           0.5270931124687195,
           0.9851120710372925,
           0.9712062478065491,
           0.9234734773635864,
           0.9463893175125122,
           0.9781558513641357,
           0.963432788848877,
           0.9152138829231262,
           0.9756370186805725,
           0.7493382096290588,
           0.9361576437950134,
           0.8624104857444763,
           0.8784214854240417,
           0.9580793380737305,
           0.9804856777191162,
           0.9785067439079285,
           0.9271312952041626,
           0.9831855893135071,
           0.9737970232963562,
           0.7899355292320251,
           0.9428367614746094,
           0.9531170129776001,
           0.9485131502151489,
           0.9632187485694885,
           0.923080563545227,
           0.9120587706565857,
           0.9681748747825623,
           0.9761879444122314,
           0.972579300403595,
           0.9905867576599121,
           0.8709794282913208,
           0.9408465623855591,
           0.9762822389602661,
           0.9766851663589478,
           0.9715925455093384,
           0.9781301021575928,
           0.8299041986465454,
           0.5855027437210083,
           0.970996081829071,
           1,
           0.9549527168273926,
           0.9481821060180664,
           0.9646366834640503,
           0.9767011404037476,
           0.9778683185577393,
           0.7969112396240234,
           0.8687904477119446,
           0.9799259305000305,
           0.9073899984359741,
           0.9386003613471985,
           0.9670103192329407,
           0.9671725034713745,
           0.9543783664703369,
           0.684441089630127
          ],
          [
           0.9101772308349609,
           0.6747056245803833,
           0.9306271076202393,
           0.9491458535194397,
           0.9507358074188232,
           0.9335477948188782,
           0.9354236721992493,
           0.9560293555259705,
           0.9464242458343506,
           0.7492480278015137,
           0.9238526225090027,
           0.6331965327262878,
           0.7729451060295105,
           0.9568275809288025,
           0.5655154585838318,
           0.9545037746429443,
           0.9549587965011597,
           0.9275766611099243,
           0.9336482286453247,
           0.9477694034576416,
           0.9572941064834595,
           0.9225721955299377,
           0.9656240940093994,
           0.7752233743667603,
           0.9423633217811584,
           0.8744605183601379,
           0.8693153262138367,
           0.9467794299125671,
           0.9578479528427124,
           0.9533348083496094,
           0.9071227312088013,
           0.9541810750961304,
           0.9552822113037109,
           0.809933066368103,
           0.9238682985305786,
           0.9463863968849182,
           0.9476782083511353,
           0.9624829292297363,
           0.9672774076461792,
           0.906786322593689,
           0.9432314038276672,
           0.9585493803024292,
           0.9510366320610046,
           0.9498329162597656,
           0.8698967099189758,
           0.9297438859939575,
           0.9663445353507996,
           0.9447352886199951,
           0.9508948922157288,
           0.957496702671051,
           0.8272374272346497,
           0.6030337810516357,
           0.9545232057571411,
           0.9549527168273926,
           1,
           0.9585543870925903,
           0.949072539806366,
           0.9592045545578003,
           0.9547203183174133,
           0.8290048241615295,
           0.8776073455810547,
           0.950374960899353,
           0.896224856376648,
           0.9257969856262207,
           0.9386099576950073,
           0.9488838911056519,
           0.9481410980224609,
           0.7025917768478394
          ],
          [
           0.9234816431999207,
           0.7497472763061523,
           0.9351348876953125,
           0.9488189220428467,
           0.9566633105278015,
           0.948455810546875,
           0.9506555795669556,
           0.9674601554870605,
           0.957578182220459,
           0.7695028781890869,
           0.9254778623580933,
           0.6600841879844666,
           0.8390336632728577,
           0.9704285264015198,
           0.5697311162948608,
           0.9494929909706116,
           0.9637046456336975,
           0.9577928781509399,
           0.9422929286956787,
           0.9463999271392822,
           0.9631243944168091,
           0.9653657078742981,
           0.983948826789856,
           0.8105460405349731,
           0.9794690012931824,
           0.9078951478004456,
           0.9180232286453247,
           0.9589014649391174,
           0.9557239413261414,
           0.9627156257629395,
           0.9197582602500916,
           0.9535176157951355,
           0.9663622975349426,
           0.8188199996948242,
           0.9495144486427307,
           0.9667761325836182,
           0.9832123517990112,
           0.9875997304916382,
           0.9524424076080322,
           0.9262709617614746,
           0.9528231620788574,
           0.9531612396240234,
           0.9558438062667847,
           0.9524065852165222,
           0.9162347912788391,
           0.9470581412315369,
           0.9878140091896057,
           0.9455356597900391,
           0.957445502281189,
           0.959115207195282,
           0.8931033611297607,
           0.6550574898719788,
           0.956967294216156,
           0.9481821060180664,
           0.9585543870925903,
           0.9999999403953552,
           0.9599381685256958,
           0.9657620191574097,
           0.9576940536499023,
           0.8866767287254333,
           0.9201920032501221,
           0.9538881182670593,
           0.9176955223083496,
           0.9311802387237549,
           0.9453626871109009,
           0.972885012626648,
           0.9563109278678894,
           0.739828884601593
          ],
          [
           0.9098802208900452,
           0.6587842106819153,
           0.9297203421592712,
           0.976179838180542,
           0.9487292170524597,
           0.9661051034927368,
           0.9571512937545776,
           0.9777057766914368,
           0.9693429470062256,
           0.7166774868965149,
           0.9144731760025024,
           0.6297333240509033,
           0.7579309940338135,
           0.9791125059127808,
           0.5436495542526245,
           0.9603152275085449,
           0.9736800193786621,
           0.9392561912536621,
           0.9403771162033081,
           0.9691672921180725,
           0.9661580920219421,
           0.9116238355636597,
           0.980667769908905,
           0.7685949206352234,
           0.9379392862319946,
           0.8743211627006531,
           0.8642841577529907,
           0.9749268889427185,
           0.9708227515220642,
           0.9801486134529114,
           0.9015297889709473,
           0.9723798632621765,
           0.9612873196601868,
           0.8073618412017822,
           0.9437652826309204,
           0.9641210436820984,
           0.9570340514183044,
           0.9762369990348816,
           0.9188256859779358,
           0.9194742441177368,
           0.9840495586395264,
           0.9657375812530518,
           0.9760890007019043,
           0.9627094864845276,
           0.8812358975410461,
           0.9342144131660461,
           0.9764465093612671,
           0.9689003825187683,
           0.967191219329834,
           0.9788271188735962,
           0.8349916338920593,
           0.5743106603622437,
           0.9625343084335327,
           0.9646366834640503,
           0.949072539806366,
           0.9599381685256958,
           1,
           0.9775270223617554,
           0.9795328974723816,
           0.8100237846374512,
           0.9173781275749207,
           0.9751216173171997,
           0.8994714617729187,
           0.9329819679260254,
           0.9535394906997681,
           0.9732829928398132,
           0.9494713544845581,
           0.7066814303398132
          ],
          [
           0.9244357943534851,
           0.6372368335723877,
           0.9514961242675781,
           0.9901520013809204,
           0.9579237699508667,
           0.9518719911575317,
           0.9612793922424316,
           0.9875003099441528,
           0.96839439868927,
           0.7083644270896912,
           0.9418449997901917,
           0.6211744546890259,
           0.7448216080665588,
           0.9883146286010742,
           0.5288864970207214,
           0.9727894067764282,
           0.9796731472015381,
           0.9404805898666382,
           0.957697868347168,
           0.9721364378929138,
           0.9755333065986633,
           0.9140047430992126,
           0.9927188754081726,
           0.7661901116371155,
           0.939569354057312,
           0.8749327659606934,
           0.8661301136016846,
           0.9762266278266907,
           0.9696943759918213,
           0.9888299703598022,
           0.8999416828155518,
           0.9797934293746948,
           0.9706902503967285,
           0.8008923530578613,
           0.9510334730148315,
           0.9691500663757324,
           0.9563321471214294,
           0.9796537160873413,
           0.9294072389602661,
           0.9188040494918823,
           0.9727070331573486,
           0.9735607504844666,
           0.9764507412910461,
           0.9779276847839355,
           0.8700412511825562,
           0.9544989466667175,
           0.9848907589912415,
           0.9898096323013306,
           0.9808636903762817,
           0.9850987792015076,
           0.8240418434143066,
           0.5552986860275269,
           0.978897750377655,
           0.9767011404037476,
           0.9592045545578003,
           0.9657620191574097,
           0.9775270223617554,
           1,
           0.9921377897262573,
           0.7989890575408936,
           0.8625391721725464,
           0.9873872399330139,
           0.8781045079231262,
           0.9321870803833008,
           0.9701297283172607,
           0.9743366241455078,
           0.9539042711257935,
           0.6884613037109375
          ],
          [
           0.9146089553833008,
           0.6160284280776978,
           0.9471874237060547,
           0.9965989589691162,
           0.9563789367675781,
           0.9520998001098633,
           0.9689822196960449,
           0.9949406385421753,
           0.9681030511856079,
           0.7006455063819885,
           0.9311742782592773,
           0.6208933591842651,
           0.7353700399398804,
           0.9862689971923828,
           0.5305944681167603,
           0.9686546325683594,
           0.9852957725524902,
           0.947303831577301,
           0.9556655883789062,
           0.9677695631980896,
           0.9651325345039368,
           0.8953081369400024,
           0.9921486377716064,
           0.7672075033187866,
           0.924759566783905,
           0.8809819221496582,
           0.8526473045349121,
           0.9763319492340088,
           0.9716471433639526,
           0.9930862188339233,
           0.905454695224762,
           0.9836805462837219,
           0.9679623246192932,
           0.8113754987716675,
           0.9527172446250916,
           0.9768273830413818,
           0.951058030128479,
           0.9832609295845032,
           0.9177102446556091,
           0.918398380279541,
           0.978664755821228,
           0.9753968715667725,
           0.9800576567649841,
           0.9798524379730225,
           0.8798695802688599,
           0.9433295130729675,
           0.9802947640419006,
           0.9916708469390869,
           0.9736428260803223,
           0.9808512330055237,
           0.8173658847808838,
           0.5396097302436829,
           0.975860595703125,
           0.9778683185577393,
           0.9547203183174133,
           0.9576940536499023,
           0.9795328974723816,
           0.9921377897262573,
           1,
           0.7827607989311218,
           0.8547686338424683,
           0.9874036312103271,
           0.8710026741027832,
           0.928333580493927,
           0.9664361476898193,
           0.9768111705780029,
           0.9557470083236694,
           0.687993049621582
          ],
          [
           0.8452605605125427,
           0.8423364758491516,
           0.8075394630432129,
           0.7674825191497803,
           0.8278821706771851,
           0.8275860548019409,
           0.8155832886695862,
           0.8053392171859741,
           0.8310192227363586,
           0.8178339004516602,
           0.8196378946304321,
           0.7024208903312683,
           0.892263650894165,
           0.8162470459938049,
           0.6311022639274597,
           0.7939496040344238,
           0.8007988333702087,
           0.8587276935577393,
           0.8120169639587402,
           0.806703507900238,
           0.8297432065010071,
           0.900970995426178,
           0.828759491443634,
           0.7825499773025513,
           0.9077438712120056,
           0.8558781147003174,
           0.883704423904419,
           0.8115675449371338,
           0.8206506371498108,
           0.7970547676086426,
           0.85316401720047,
           0.8009384870529175,
           0.8529133796691895,
           0.7744001150131226,
           0.8357850313186646,
           0.8370617628097534,
           0.8886113166809082,
           0.8507962226867676,
           0.8491377830505371,
           0.8425723314285278,
           0.8055895566940308,
           0.8027086853981018,
           0.8093544840812683,
           0.8006268739700317,
           0.8761138319969177,
           0.84794020652771,
           0.8567244410514832,
           0.7583339214324951,
           0.804527997970581,
           0.8024137020111084,
           0.892731785774231,
           0.7913064956665039,
           0.8210803270339966,
           0.7969112396240234,
           0.8290048241615295,
           0.8866767287254333,
           0.8100237846374512,
           0.7989890575408936,
           0.7827607989311218,
           0.9999996423721313,
           0.8885560035705566,
           0.7913852334022522,
           0.8730388879776001,
           0.8230106234550476,
           0.8005945086479187,
           0.839688777923584,
           0.8364344835281372,
           0.798363208770752
          ],
          [
           0.856255054473877,
           0.8062589168548584,
           0.8416460156440735,
           0.8439587354660034,
           0.8725852370262146,
           0.9038558006286621,
           0.8619499206542969,
           0.8696399331092834,
           0.8721491694450378,
           0.7694395184516907,
           0.8410407900810242,
           0.6466373205184937,
           0.8556959629058838,
           0.883115828037262,
           0.604457437992096,
           0.8638254404067993,
           0.8685464859008789,
           0.8873172998428345,
           0.8496580123901367,
           0.8910418748855591,
           0.8889750838279724,
           0.9226785898208618,
           0.8862035870552063,
           0.7760425806045532,
           0.9376393556594849,
           0.85649573802948,
           0.886340856552124,
           0.8903492093086243,
           0.8967491984367371,
           0.8696093559265137,
           0.8500551581382751,
           0.8816922903060913,
           0.8951583504676819,
           0.7910019159317017,
           0.8659170866012573,
           0.8836272954940796,
           0.9246097803115845,
           0.9025236368179321,
           0.8820379376411438,
           0.8493696451187134,
           0.9121226668357849,
           0.8579180240631104,
           0.8851740956306458,
           0.8679641485214233,
           0.866963267326355,
           0.8574583530426025,
           0.9051288366317749,
           0.8358712792396545,
           0.8707103133201599,
           0.8777090311050415,
           0.872683048248291,
           0.7136574983596802,
           0.8673110008239746,
           0.8687904477119446,
           0.8776073455810547,
           0.9201920032501221,
           0.9173781275749207,
           0.8625391721725464,
           0.8547686338424683,
           0.8885560035705566,
           0.9999999403953552,
           0.8631466627120972,
           0.9278236031532288,
           0.8763731122016907,
           0.8647745847702026,
           0.9012280702590942,
           0.86952805519104,
           0.7615067958831787
          ],
          [
           0.9144889712333679,
           0.6492422223091125,
           0.9486227035522461,
           0.9862686991691589,
           0.9551069736480713,
           0.9457494020462036,
           0.9592723846435547,
           0.9777942299842834,
           0.9619442820549011,
           0.6989143490791321,
           0.9392906427383423,
           0.619853138923645,
           0.7487480640411377,
           0.9912293553352356,
           0.5366877317428589,
           0.9748731851577759,
           0.9786728620529175,
           0.9276423454284668,
           0.9581735730171204,
           0.968148410320282,
           0.9740963578224182,
           0.9214493036270142,
           0.9833330512046814,
           0.7531597018241882,
           0.9357898831367493,
           0.8644511103630066,
           0.8806812763214111,
           0.9694750308990479,
           0.9737905263900757,
           0.9856005311012268,
           0.9117323160171509,
           0.9789294004440308,
           0.9691869020462036,
           0.7948841452598572,
           0.9497762322425842,
           0.9573267102241516,
           0.9554355144500732,
           0.9684057235717773,
           0.9263868927955627,
           0.9126591682434082,
           0.9678543210029602,
           0.977398157119751,
           0.977924108505249,
           0.978924572467804,
           0.8663588166236877,
           0.9470968842506409,
           0.9842261075973511,
           0.9850149750709534,
           0.9778128266334534,
           0.9806585907936096,
           0.8305169343948364,
           0.5794497132301331,
           0.9760231971740723,
           0.9799259305000305,
           0.950374960899353,
           0.9538881182670593,
           0.9751216173171997,
           0.9873872399330139,
           0.9874036312103271,
           0.7913852334022522,
           0.8631466627120972,
           0.9999997615814209,
           0.8938888907432556,
           0.9425749182701111,
           0.9618474245071411,
           0.9763240814208984,
           0.954925537109375,
           0.6926630735397339
          ],
          [
           0.8798362016677856,
           0.792209804058075,
           0.856691300868988,
           0.8591873645782471,
           0.8898897767066956,
           0.9114983081817627,
           0.8735058307647705,
           0.8759624361991882,
           0.8846548795700073,
           0.7890487909317017,
           0.8873255252838135,
           0.6461637616157532,
           0.8549703359603882,
           0.8985990881919861,
           0.6797290444374084,
           0.90245521068573,
           0.8767317533493042,
           0.8829070329666138,
           0.876792311668396,
           0.8922890424728394,
           0.9309403896331787,
           0.9408856630325317,
           0.8943073749542236,
           0.7863292694091797,
           0.9363061189651489,
           0.8471978902816772,
           0.9001866579055786,
           0.8777672052383423,
           0.9509631395339966,
           0.8776735067367554,
           0.9100748896598816,
           0.8885419368743896,
           0.9024229049682617,
           0.8249400854110718,
           0.8761950135231018,
           0.8837344646453857,
           0.921887218952179,
           0.9025804400444031,
           0.9014784097671509,
           0.8558313846588135,
           0.8881304264068604,
           0.8960607051849365,
           0.9231631755828857,
           0.8942370414733887,
           0.8636434674263,
           0.8867517113685608,
           0.9177417159080505,
           0.8550410270690918,
           0.8901498317718506,
           0.8889772891998291,
           0.8728910088539124,
           0.7361346483230591,
           0.8995972871780396,
           0.9073899984359741,
           0.896224856376648,
           0.9176955223083496,
           0.8994714617729187,
           0.8781045079231262,
           0.8710026741027832,
           0.8730388879776001,
           0.9278236031532288,
           0.8938888907432556,
           1,
           0.896967887878418,
           0.8591731786727905,
           0.9048993587493896,
           0.9104576110839844,
           0.7492153644561768
          ],
          [
           0.9097722172737122,
           0.6976752281188965,
           0.9343657493591309,
           0.9239336848258972,
           0.9572024941444397,
           0.915001630783081,
           0.8947858810424805,
           0.9273365139961243,
           0.9264828562736511,
           0.7177926301956177,
           0.9315881133079529,
           0.6049888134002686,
           0.767816960811615,
           0.9463154077529907,
           0.5480825901031494,
           0.9436551332473755,
           0.9453221559524536,
           0.8959152698516846,
           0.9565693140029907,
           0.9472615122795105,
           0.9453210830688477,
           0.9244173765182495,
           0.9342881441116333,
           0.7285486459732056,
           0.9234969019889832,
           0.8405137062072754,
           0.8800042867660522,
           0.9103555679321289,
           0.9410617351531982,
           0.93202805519104,
           0.8961474299430847,
           0.9342243671417236,
           0.9432051777839661,
           0.7720496654510498,
           0.895637035369873,
           0.9169080853462219,
           0.9379401206970215,
           0.9333808422088623,
           0.9097775816917419,
           0.8801235556602478,
           0.9236283302307129,
           0.9375030398368835,
           0.9231076836585999,
           0.9303362369537354,
           0.8246669173240662,
           0.9242950081825256,
           0.9476345181465149,
           0.9137197732925415,
           0.9344393014907837,
           0.947569727897644,
           0.8118720054626465,
           0.6789821982383728,
           0.9407411813735962,
           0.9386003613471985,
           0.9257969856262207,
           0.9311802387237549,
           0.9329819679260254,
           0.9321870803833008,
           0.928333580493927,
           0.8230106234550476,
           0.8763731122016907,
           0.9425749182701111,
           0.896967887878418,
           1.0000001192092896,
           0.924210786819458,
           0.938653826713562,
           0.9278640747070312,
           0.700867235660553
          ],
          [
           0.9108952283859253,
           0.6472153663635254,
           0.9792125225067139,
           0.9678916931152344,
           0.9307761192321777,
           0.9142795205116272,
           0.94947350025177,
           0.9622104167938232,
           0.9503835439682007,
           0.7079192399978638,
           0.9176670908927917,
           0.5999110341072083,
           0.7452549338340759,
           0.9713534116744995,
           0.5095105171203613,
           0.9698582887649536,
           0.967185378074646,
           0.9146053194999695,
           0.9499327540397644,
           0.9604260921478271,
           0.9512192010879517,
           0.904396653175354,
           0.9680662751197815,
           0.7436447739601135,
           0.9365700483322144,
           0.8517385125160217,
           0.8643651008605957,
           0.9703012108802795,
           0.9431077837944031,
           0.971183180809021,
           0.8905594944953918,
           0.9747399687767029,
           0.9767615795135498,
           0.7736624479293823,
           0.9322403073310852,
           0.9430069327354431,
           0.9477201104164124,
           0.9546763896942139,
           0.9101073741912842,
           0.9230235815048218,
           0.9649578332901001,
           0.9598718881607056,
           0.9465315937995911,
           0.9622512459754944,
           0.8652920126914978,
           0.9393470883369446,
           0.9684407711029053,
           0.9648909568786621,
           0.9509463906288147,
           0.9571496248245239,
           0.8260900974273682,
           0.6035613417625427,
           0.9599212408065796,
           0.9670103192329407,
           0.9386099576950073,
           0.9453626871109009,
           0.9535394906997681,
           0.9701297283172607,
           0.9664361476898193,
           0.8005945086479187,
           0.8647745847702026,
           0.9618474245071411,
           0.8591731786727905,
           0.924210786819458,
           0.9999998807907104,
           0.9620665907859802,
           0.934466540813446,
           0.6793075799942017
          ],
          [
           0.9087435603141785,
           0.7368613481521606,
           0.9474977254867554,
           0.9780367016792297,
           0.9475458860397339,
           0.94529128074646,
           0.9591422080993652,
           0.9838718175888062,
           0.9608106017112732,
           0.749326765537262,
           0.9270060062408447,
           0.6571521162986755,
           0.8251757621765137,
           0.9914177656173706,
           0.5682864785194397,
           0.9659616947174072,
           0.980232834815979,
           0.9623881578445435,
           0.9440946578979492,
           0.9574692249298096,
           0.9625837802886963,
           0.942626416683197,
           0.9835008382797241,
           0.8004892468452454,
           0.9476635456085205,
           0.9094409942626953,
           0.9133387804031372,
           0.9638731479644775,
           0.9656158089637756,
           0.9907933473587036,
           0.9292135238647461,
           0.9729710817337036,
           0.9689862132072449,
           0.825382649898529,
           0.9461734294891357,
           0.9778100252151489,
           0.9861665964126587,
           0.9839125871658325,
           0.9304267168045044,
           0.9191999435424805,
           0.966019868850708,
           0.9635623693466187,
           0.9686633348464966,
           0.9711704254150391,
           0.9056567549705505,
           0.9382341504096985,
           0.9874292612075806,
           0.9713433384895325,
           0.9680408239364624,
           0.9714979529380798,
           0.8666573762893677,
           0.6333116292953491,
           0.9650552868843079,
           0.9671725034713745,
           0.9488838911056519,
           0.972885012626648,
           0.9732829928398132,
           0.9743366241455078,
           0.9768111705780029,
           0.839688777923584,
           0.9012280702590942,
           0.9763240814208984,
           0.9048993587493896,
           0.938653826713562,
           0.9620665907859802,
           0.9999998807907104,
           0.9506738185882568,
           0.7332155704498291
          ],
          [
           0.9138601422309875,
           0.676582932472229,
           0.9330742955207825,
           0.9454629421234131,
           0.9511963725090027,
           0.938010573387146,
           0.9468759894371033,
           0.9549790024757385,
           0.9541295170783997,
           0.721727192401886,
           0.9257431030273438,
           0.6280146241188049,
           0.781571626663208,
           0.9544544219970703,
           0.5757105946540833,
           0.9543275237083435,
           0.9516820907592773,
           0.9276696443557739,
           0.9516119360923767,
           0.9349446892738342,
           0.9584068059921265,
           0.9224001169204712,
           0.9643200635910034,
           0.7592926025390625,
           0.9513645172119141,
           0.8693950176239014,
           0.8839303255081177,
           0.9539581537246704,
           0.9621893167495728,
           0.9509561657905579,
           0.9572222232818604,
           0.9513506889343262,
           0.963528573513031,
           0.8096790909767151,
           0.9523019790649414,
           0.9465324878692627,
           0.9448833465576172,
           0.9625769853591919,
           0.9207044243812561,
           0.9502490758895874,
           0.943790078163147,
           0.9650906324386597,
           0.9522050619125366,
           0.9439798593521118,
           0.8966835737228394,
           0.9511274099349976,
           0.9656156897544861,
           0.9419098496437073,
           0.9507764577865601,
           0.9528553485870361,
           0.8689349293708801,
           0.68198162317276,
           0.9530300498008728,
           0.9543783664703369,
           0.9481410980224609,
           0.9563109278678894,
           0.9494713544845581,
           0.9539042711257935,
           0.9557470083236694,
           0.8364344835281372,
           0.86952805519104,
           0.954925537109375,
           0.9104576110839844,
           0.9278640747070312,
           0.934466540813446,
           0.9506738185882568,
           0.9999998211860657,
           0.7022918462753296
          ],
          [
           0.7132619023323059,
           0.7257694602012634,
           0.683936357498169,
           0.677759051322937,
           0.7131567001342773,
           0.7311030030250549,
           0.7066824436187744,
           0.7196357250213623,
           0.7169639468193054,
           0.7822298407554626,
           0.6774110794067383,
           0.8368282318115234,
           0.8404567241668701,
           0.704258918762207,
           0.7682647705078125,
           0.6891214847564697,
           0.6943023204803467,
           0.8141480684280396,
           0.6961730122566223,
           0.6825621128082275,
           0.7188708186149597,
           0.7445998191833496,
           0.7101083993911743,
           0.8130565881729126,
           0.7429704070091248,
           0.8679528832435608,
           0.7397582530975342,
           0.7021396160125732,
           0.720677375793457,
           0.69576495885849,
           0.7345817685127258,
           0.6850403547286987,
           0.7052517533302307,
           0.8593257665634155,
           0.7089873552322388,
           0.7716791033744812,
           0.7626762390136719,
           0.7434125542640686,
           0.7145419120788574,
           0.6975772976875305,
           0.70441734790802,
           0.6788102388381958,
           0.7013393044471741,
           0.6867445707321167,
           0.7715930938720703,
           0.7074426412582397,
           0.7254176139831543,
           0.6602758169174194,
           0.6757479310035706,
           0.685843288898468,
           0.7394416332244873,
           0.6285715103149414,
           0.7111522555351257,
           0.684441089630127,
           0.7025917768478394,
           0.739828884601593,
           0.7066814303398132,
           0.6884613037109375,
           0.687993049621582,
           0.798363208770752,
           0.7615067958831787,
           0.6926630735397339,
           0.7492153644561768,
           0.700867235660553,
           0.6793075799942017,
           0.7332155704498291,
           0.7022918462753296,
           0.9999997615814209
          ]
         ]
        }
       ],
       "layout": {
        "coloraxis": {
         "colorbar": {
          "title": {
           "text": "Similarity Score"
          }
         },
         "colorscale": [
          [
           0,
           "rgb(247,252,240)"
          ],
          [
           0.125,
           "rgb(224,243,219)"
          ],
          [
           0.25,
           "rgb(204,235,197)"
          ],
          [
           0.375,
           "rgb(168,221,181)"
          ],
          [
           0.5,
           "rgb(123,204,196)"
          ],
          [
           0.625,
           "rgb(78,179,211)"
          ],
          [
           0.75,
           "rgb(43,140,190)"
          ],
          [
           0.875,
           "rgb(8,104,172)"
          ],
          [
           1,
           "rgb(8,64,129)"
          ]
         ]
        },
        "height": 800,
        "hoverlabel": {
         "bgcolor": "white",
         "font": {
          "family": "Rockwell",
          "size": 16
         }
        },
        "legend": {
         "title": {
          "text": "Trend"
         }
        },
        "margin": {
         "t": 60
        },
        "showlegend": true,
        "template": {
         "data": {
          "bar": [
           {
            "error_x": {
             "color": "#2a3f5f"
            },
            "error_y": {
             "color": "#2a3f5f"
            },
            "marker": {
             "line": {
              "color": "#E5ECF6",
              "width": 0.5
             },
             "pattern": {
              "fillmode": "overlay",
              "size": 10,
              "solidity": 0.2
             }
            },
            "type": "bar"
           }
          ],
          "barpolar": [
           {
            "marker": {
             "line": {
              "color": "#E5ECF6",
              "width": 0.5
             },
             "pattern": {
              "fillmode": "overlay",
              "size": 10,
              "solidity": 0.2
             }
            },
            "type": "barpolar"
           }
          ],
          "carpet": [
           {
            "aaxis": {
             "endlinecolor": "#2a3f5f",
             "gridcolor": "white",
             "linecolor": "white",
             "minorgridcolor": "white",
             "startlinecolor": "#2a3f5f"
            },
            "baxis": {
             "endlinecolor": "#2a3f5f",
             "gridcolor": "white",
             "linecolor": "white",
             "minorgridcolor": "white",
             "startlinecolor": "#2a3f5f"
            },
            "type": "carpet"
           }
          ],
          "choropleth": [
           {
            "colorbar": {
             "outlinewidth": 0,
             "ticks": ""
            },
            "type": "choropleth"
           }
          ],
          "contour": [
           {
            "colorbar": {
             "outlinewidth": 0,
             "ticks": ""
            },
            "colorscale": [
             [
              0,
              "#0d0887"
             ],
             [
              0.1111111111111111,
              "#46039f"
             ],
             [
              0.2222222222222222,
              "#7201a8"
             ],
             [
              0.3333333333333333,
              "#9c179e"
             ],
             [
              0.4444444444444444,
              "#bd3786"
             ],
             [
              0.5555555555555556,
              "#d8576b"
             ],
             [
              0.6666666666666666,
              "#ed7953"
             ],
             [
              0.7777777777777778,
              "#fb9f3a"
             ],
             [
              0.8888888888888888,
              "#fdca26"
             ],
             [
              1,
              "#f0f921"
             ]
            ],
            "type": "contour"
           }
          ],
          "contourcarpet": [
           {
            "colorbar": {
             "outlinewidth": 0,
             "ticks": ""
            },
            "type": "contourcarpet"
           }
          ],
          "heatmap": [
           {
            "colorbar": {
             "outlinewidth": 0,
             "ticks": ""
            },
            "colorscale": [
             [
              0,
              "#0d0887"
             ],
             [
              0.1111111111111111,
              "#46039f"
             ],
             [
              0.2222222222222222,
              "#7201a8"
             ],
             [
              0.3333333333333333,
              "#9c179e"
             ],
             [
              0.4444444444444444,
              "#bd3786"
             ],
             [
              0.5555555555555556,
              "#d8576b"
             ],
             [
              0.6666666666666666,
              "#ed7953"
             ],
             [
              0.7777777777777778,
              "#fb9f3a"
             ],
             [
              0.8888888888888888,
              "#fdca26"
             ],
             [
              1,
              "#f0f921"
             ]
            ],
            "type": "heatmap"
           }
          ],
          "heatmapgl": [
           {
            "colorbar": {
             "outlinewidth": 0,
             "ticks": ""
            },
            "colorscale": [
             [
              0,
              "#0d0887"
             ],
             [
              0.1111111111111111,
              "#46039f"
             ],
             [
              0.2222222222222222,
              "#7201a8"
             ],
             [
              0.3333333333333333,
              "#9c179e"
             ],
             [
              0.4444444444444444,
              "#bd3786"
             ],
             [
              0.5555555555555556,
              "#d8576b"
             ],
             [
              0.6666666666666666,
              "#ed7953"
             ],
             [
              0.7777777777777778,
              "#fb9f3a"
             ],
             [
              0.8888888888888888,
              "#fdca26"
             ],
             [
              1,
              "#f0f921"
             ]
            ],
            "type": "heatmapgl"
           }
          ],
          "histogram": [
           {
            "marker": {
             "pattern": {
              "fillmode": "overlay",
              "size": 10,
              "solidity": 0.2
             }
            },
            "type": "histogram"
           }
          ],
          "histogram2d": [
           {
            "colorbar": {
             "outlinewidth": 0,
             "ticks": ""
            },
            "colorscale": [
             [
              0,
              "#0d0887"
             ],
             [
              0.1111111111111111,
              "#46039f"
             ],
             [
              0.2222222222222222,
              "#7201a8"
             ],
             [
              0.3333333333333333,
              "#9c179e"
             ],
             [
              0.4444444444444444,
              "#bd3786"
             ],
             [
              0.5555555555555556,
              "#d8576b"
             ],
             [
              0.6666666666666666,
              "#ed7953"
             ],
             [
              0.7777777777777778,
              "#fb9f3a"
             ],
             [
              0.8888888888888888,
              "#fdca26"
             ],
             [
              1,
              "#f0f921"
             ]
            ],
            "type": "histogram2d"
           }
          ],
          "histogram2dcontour": [
           {
            "colorbar": {
             "outlinewidth": 0,
             "ticks": ""
            },
            "colorscale": [
             [
              0,
              "#0d0887"
             ],
             [
              0.1111111111111111,
              "#46039f"
             ],
             [
              0.2222222222222222,
              "#7201a8"
             ],
             [
              0.3333333333333333,
              "#9c179e"
             ],
             [
              0.4444444444444444,
              "#bd3786"
             ],
             [
              0.5555555555555556,
              "#d8576b"
             ],
             [
              0.6666666666666666,
              "#ed7953"
             ],
             [
              0.7777777777777778,
              "#fb9f3a"
             ],
             [
              0.8888888888888888,
              "#fdca26"
             ],
             [
              1,
              "#f0f921"
             ]
            ],
            "type": "histogram2dcontour"
           }
          ],
          "mesh3d": [
           {
            "colorbar": {
             "outlinewidth": 0,
             "ticks": ""
            },
            "type": "mesh3d"
           }
          ],
          "parcoords": [
           {
            "line": {
             "colorbar": {
              "outlinewidth": 0,
              "ticks": ""
             }
            },
            "type": "parcoords"
           }
          ],
          "pie": [
           {
            "automargin": true,
            "type": "pie"
           }
          ],
          "scatter": [
           {
            "fillpattern": {
             "fillmode": "overlay",
             "size": 10,
             "solidity": 0.2
            },
            "type": "scatter"
           }
          ],
          "scatter3d": [
           {
            "line": {
             "colorbar": {
              "outlinewidth": 0,
              "ticks": ""
             }
            },
            "marker": {
             "colorbar": {
              "outlinewidth": 0,
              "ticks": ""
             }
            },
            "type": "scatter3d"
           }
          ],
          "scattercarpet": [
           {
            "marker": {
             "colorbar": {
              "outlinewidth": 0,
              "ticks": ""
             }
            },
            "type": "scattercarpet"
           }
          ],
          "scattergeo": [
           {
            "marker": {
             "colorbar": {
              "outlinewidth": 0,
              "ticks": ""
             }
            },
            "type": "scattergeo"
           }
          ],
          "scattergl": [
           {
            "marker": {
             "colorbar": {
              "outlinewidth": 0,
              "ticks": ""
             }
            },
            "type": "scattergl"
           }
          ],
          "scattermapbox": [
           {
            "marker": {
             "colorbar": {
              "outlinewidth": 0,
              "ticks": ""
             }
            },
            "type": "scattermapbox"
           }
          ],
          "scatterpolar": [
           {
            "marker": {
             "colorbar": {
              "outlinewidth": 0,
              "ticks": ""
             }
            },
            "type": "scatterpolar"
           }
          ],
          "scatterpolargl": [
           {
            "marker": {
             "colorbar": {
              "outlinewidth": 0,
              "ticks": ""
             }
            },
            "type": "scatterpolargl"
           }
          ],
          "scatterternary": [
           {
            "marker": {
             "colorbar": {
              "outlinewidth": 0,
              "ticks": ""
             }
            },
            "type": "scatterternary"
           }
          ],
          "surface": [
           {
            "colorbar": {
             "outlinewidth": 0,
             "ticks": ""
            },
            "colorscale": [
             [
              0,
              "#0d0887"
             ],
             [
              0.1111111111111111,
              "#46039f"
             ],
             [
              0.2222222222222222,
              "#7201a8"
             ],
             [
              0.3333333333333333,
              "#9c179e"
             ],
             [
              0.4444444444444444,
              "#bd3786"
             ],
             [
              0.5555555555555556,
              "#d8576b"
             ],
             [
              0.6666666666666666,
              "#ed7953"
             ],
             [
              0.7777777777777778,
              "#fb9f3a"
             ],
             [
              0.8888888888888888,
              "#fdca26"
             ],
             [
              1,
              "#f0f921"
             ]
            ],
            "type": "surface"
           }
          ],
          "table": [
           {
            "cells": {
             "fill": {
              "color": "#EBF0F8"
             },
             "line": {
              "color": "white"
             }
            },
            "header": {
             "fill": {
              "color": "#C8D4E3"
             },
             "line": {
              "color": "white"
             }
            },
            "type": "table"
           }
          ]
         },
         "layout": {
          "annotationdefaults": {
           "arrowcolor": "#2a3f5f",
           "arrowhead": 0,
           "arrowwidth": 1
          },
          "autotypenumbers": "strict",
          "coloraxis": {
           "colorbar": {
            "outlinewidth": 0,
            "ticks": ""
           }
          },
          "colorscale": {
           "diverging": [
            [
             0,
             "#8e0152"
            ],
            [
             0.1,
             "#c51b7d"
            ],
            [
             0.2,
             "#de77ae"
            ],
            [
             0.3,
             "#f1b6da"
            ],
            [
             0.4,
             "#fde0ef"
            ],
            [
             0.5,
             "#f7f7f7"
            ],
            [
             0.6,
             "#e6f5d0"
            ],
            [
             0.7,
             "#b8e186"
            ],
            [
             0.8,
             "#7fbc41"
            ],
            [
             0.9,
             "#4d9221"
            ],
            [
             1,
             "#276419"
            ]
           ],
           "sequential": [
            [
             0,
             "#0d0887"
            ],
            [
             0.1111111111111111,
             "#46039f"
            ],
            [
             0.2222222222222222,
             "#7201a8"
            ],
            [
             0.3333333333333333,
             "#9c179e"
            ],
            [
             0.4444444444444444,
             "#bd3786"
            ],
            [
             0.5555555555555556,
             "#d8576b"
            ],
            [
             0.6666666666666666,
             "#ed7953"
            ],
            [
             0.7777777777777778,
             "#fb9f3a"
            ],
            [
             0.8888888888888888,
             "#fdca26"
            ],
            [
             1,
             "#f0f921"
            ]
           ],
           "sequentialminus": [
            [
             0,
             "#0d0887"
            ],
            [
             0.1111111111111111,
             "#46039f"
            ],
            [
             0.2222222222222222,
             "#7201a8"
            ],
            [
             0.3333333333333333,
             "#9c179e"
            ],
            [
             0.4444444444444444,
             "#bd3786"
            ],
            [
             0.5555555555555556,
             "#d8576b"
            ],
            [
             0.6666666666666666,
             "#ed7953"
            ],
            [
             0.7777777777777778,
             "#fb9f3a"
            ],
            [
             0.8888888888888888,
             "#fdca26"
            ],
            [
             1,
             "#f0f921"
            ]
           ]
          },
          "colorway": [
           "#636efa",
           "#EF553B",
           "#00cc96",
           "#ab63fa",
           "#FFA15A",
           "#19d3f3",
           "#FF6692",
           "#B6E880",
           "#FF97FF",
           "#FECB52"
          ],
          "font": {
           "color": "#2a3f5f"
          },
          "geo": {
           "bgcolor": "white",
           "lakecolor": "white",
           "landcolor": "#E5ECF6",
           "showlakes": true,
           "showland": true,
           "subunitcolor": "white"
          },
          "hoverlabel": {
           "align": "left"
          },
          "hovermode": "closest",
          "mapbox": {
           "style": "light"
          },
          "paper_bgcolor": "white",
          "plot_bgcolor": "#E5ECF6",
          "polar": {
           "angularaxis": {
            "gridcolor": "white",
            "linecolor": "white",
            "ticks": ""
           },
           "bgcolor": "#E5ECF6",
           "radialaxis": {
            "gridcolor": "white",
            "linecolor": "white",
            "ticks": ""
           }
          },
          "scene": {
           "xaxis": {
            "backgroundcolor": "#E5ECF6",
            "gridcolor": "white",
            "gridwidth": 2,
            "linecolor": "white",
            "showbackground": true,
            "ticks": "",
            "zerolinecolor": "white"
           },
           "yaxis": {
            "backgroundcolor": "#E5ECF6",
            "gridcolor": "white",
            "gridwidth": 2,
            "linecolor": "white",
            "showbackground": true,
            "ticks": "",
            "zerolinecolor": "white"
           },
           "zaxis": {
            "backgroundcolor": "#E5ECF6",
            "gridcolor": "white",
            "gridwidth": 2,
            "linecolor": "white",
            "showbackground": true,
            "ticks": "",
            "zerolinecolor": "white"
           }
          },
          "shapedefaults": {
           "line": {
            "color": "#2a3f5f"
           }
          },
          "ternary": {
           "aaxis": {
            "gridcolor": "white",
            "linecolor": "white",
            "ticks": ""
           },
           "baxis": {
            "gridcolor": "white",
            "linecolor": "white",
            "ticks": ""
           },
           "bgcolor": "#E5ECF6",
           "caxis": {
            "gridcolor": "white",
            "linecolor": "white",
            "ticks": ""
           }
          },
          "title": {
           "x": 0.05
          },
          "xaxis": {
           "automargin": true,
           "gridcolor": "white",
           "linecolor": "white",
           "ticks": "",
           "title": {
            "standoff": 15
           },
           "zerolinecolor": "white",
           "zerolinewidth": 2
          },
          "yaxis": {
           "automargin": true,
           "gridcolor": "white",
           "linecolor": "white",
           "ticks": "",
           "title": {
            "standoff": 15
           },
           "zerolinecolor": "white",
           "zerolinewidth": 2
          }
         }
        },
        "title": {
         "font": {
          "color": "Black",
          "size": 22
         },
         "text": "<b>Similarity Matrix</b>",
         "x": 0.55,
         "xanchor": "center",
         "y": 0.95,
         "yanchor": "top"
        },
        "width": 800,
        "xaxis": {
         "anchor": "y",
         "constrain": "domain",
         "domain": [
          0,
          1
         ],
         "scaleanchor": "y"
        },
        "yaxis": {
         "anchor": "x",
         "autorange": "reversed",
         "constrain": "domain",
         "domain": [
          0,
          1
         ]
        }
       }
      }
     },
     "metadata": {},
     "output_type": "display_data"
    }
   ],
   "source": [
    "# To visualize the correlation of topics\n",
    "heatmap_vis = topic_model.visualize_heatmap()\n",
    "heatmap_vis"
   ]
  },
  {
   "cell_type": "code",
   "execution_count": 11,
   "metadata": {},
   "outputs": [
    {
     "data": {
      "application/vnd.plotly.v1+json": {
       "config": {
        "plotlyServerURL": "https://plot.ly"
       },
       "data": [
        {
         "marker": {
          "color": "#D55E00"
         },
         "orientation": "h",
         "type": "bar",
         "x": [
          0.1329004607888636,
          0.13469408537520053,
          0.1584203662017279,
          0.16993505837552,
          0.21323421654463287
         ],
         "xaxis": "x",
         "y": [
          "탐구  ",
          "외국어  ",
          "지정  ",
          "예비  ",
          "20  "
         ],
         "yaxis": "y"
        },
        {
         "marker": {
          "color": "#0072B2"
         },
         "orientation": "h",
         "type": "bar",
         "x": [
          0.20289752037897493,
          0.21252313557038707,
          0.21513575986199024,
          0.22190391952709665,
          0.2628213291911501
         ],
         "xaxis": "x2",
         "y": [
          "진화  ",
          "인공지능  ",
          "백신  ",
          "로봇  ",
          "ai  "
         ],
         "yaxis": "y2"
        },
        {
         "marker": {
          "color": "#CC79A7"
         },
         "orientation": "h",
         "type": "bar",
         "x": [
          0.15534332712276946,
          0.16063362927729233,
          0.17256168335172037,
          0.20399012960469418,
          0.2466305256158769
         ],
         "xaxis": "x3",
         "y": [
          "공학  ",
          "인원  ",
          "학과  ",
          "피지  ",
          "30  "
         ],
         "yaxis": "y3"
        },
        {
         "marker": {
          "color": "#E69F00"
         },
         "orientation": "h",
         "type": "bar",
         "x": [
          0.19066747528762862,
          0.19850000009373783,
          0.22183761821014508,
          0.2449304163317514,
          0.2792937963637491
         ],
         "xaxis": "x4",
         "y": [
          "행사  ",
          "동성애자  ",
          "동성애  ",
          "누리  ",
          "퀴어  "
         ],
         "yaxis": "y4"
        },
        {
         "marker": {
          "color": "#56B4E9"
         },
         "orientation": "h",
         "type": "bar",
         "x": [
          0.1707503130734871,
          0.17134176887775557,
          0.17618562882872388,
          0.18263519373131223,
          0.1846365386484391
         ],
         "xaxis": "x5",
         "y": [
          "비율  ",
          "부친상  ",
          "평판  ",
          "순위  ",
          "반영  "
         ],
         "yaxis": "y5"
        },
        {
         "marker": {
          "color": "#009E73"
         },
         "orientation": "h",
         "type": "bar",
         "x": [
          0.2327672624583084,
          0.25174708618713054,
          0.2670572137090147,
          0.2754073292194358,
          0.30652767632207584
         ],
         "xaxis": "x6",
         "y": [
          "발생  ",
          "건물  ",
          "옥수수  ",
          "15  ",
          "지진  "
         ],
         "yaxis": "y6"
        },
        {
         "marker": {
          "color": "#F0E442"
         },
         "orientation": "h",
         "type": "bar",
         "x": [
          0.18008685192133356,
          0.1802570015974417,
          0.18145445740785243,
          0.18813284218432844,
          0.1929752498057466
         ],
         "xaxis": "x7",
         "y": [
          "사정관  ",
          "10  ",
          "통합  ",
          "건대  ",
          "지정  "
         ],
         "yaxis": "y7"
        },
        {
         "marker": {
          "color": "#D55E00"
         },
         "orientation": "h",
         "type": "bar",
         "x": [
          0.2035417476287469,
          0.20666141267779903,
          0.21550910774083448,
          0.2222603248977923,
          0.235571331183479
         ],
         "xaxis": "x8",
         "y": [
          "민원  ",
          "헌재  ",
          "단군  ",
          "헌법  ",
          "통일부  "
         ],
         "yaxis": "y8"
        },
        {
         "marker": {
          "color": "#0072B2"
         },
         "orientation": "h",
         "type": "bar",
         "x": [
          0.14689963979482615,
          0.1484292593038315,
          0.14929293100617003,
          0.15651738163029447,
          0.18774083613797635
         ],
         "xaxis": "x9",
         "y": [
          "한국어  ",
          "재판  ",
          "혐오  ",
          "대회  ",
          "발인  "
         ],
         "yaxis": "y9"
        },
        {
         "marker": {
          "color": "#CC79A7"
         },
         "orientation": "h",
         "type": "bar",
         "x": [
          0.3029053042291247,
          0.3069712896827415,
          0.3102114103394111,
          0.35328931582169426,
          0.373059678864155
         ],
         "xaxis": "x10",
         "y": [
          "탄도  ",
          "도발  ",
          "icbm  ",
          "발사  ",
          "미사일  "
         ],
         "yaxis": "y10"
        },
        {
         "marker": {
          "color": "#E69F00"
         },
         "orientation": "h",
         "type": "bar",
         "x": [
          0.15700166609974892,
          0.16008377045820035,
          0.17020501328434592,
          0.18545688059679014,
          0.30689113975717347
         ],
         "xaxis": "x11",
         "y": [
          "대안  ",
          "성경  ",
          "가족  ",
          "블로그  ",
          "25  "
         ],
         "yaxis": "y11"
        },
        {
         "marker": {
          "color": "#56B4E9"
         },
         "orientation": "h",
         "type": "bar",
         "x": [
          0.22910399306428725,
          0.2328410067334637,
          0.2366544285312587,
          0.2756589004117901,
          0.33737654620006075
         ],
         "xaxis": "x12",
         "y": [
          "시진핑  ",
          "회담  ",
          "외교  ",
          "주석  ",
          "중국  "
         ],
         "yaxis": "y12"
        },
        {
         "marker": {
          "color": "#009E73"
         },
         "orientation": "h",
         "type": "bar",
         "x": [
          0.2018478075527669,
          0.21427011067854496,
          0.21872109186647687,
          0.262974866416651,
          0.26599530557457873
         ],
         "xaxis": "x13",
         "y": [
          "안보  ",
          "오바마  ",
          "종료  ",
          "미아  ",
          "지소  "
         ],
         "yaxis": "y13"
        },
        {
         "marker": {
          "color": "#F0E442"
         },
         "orientation": "h",
         "type": "bar",
         "x": [
          0.20724923627419264,
          0.21274656319525853,
          0.24343071596613247,
          0.25677517251987164,
          0.26533463091156784
         ],
         "xaxis": "x14",
         "y": [
          "논술  ",
          "선교  ",
          "코스타  ",
          "벽돌  ",
          "김치  "
         ],
         "yaxis": "y14"
        },
        {
         "marker": {
          "color": "#D55E00"
         },
         "orientation": "h",
         "type": "bar",
         "x": [
          0.25220185295887504,
          0.25695496641976445,
          0.25931899655903784,
          0.260569144115331,
          0.3937602523002269
         ],
         "xaxis": "x15",
         "y": [
          "정상  ",
          "북미  ",
          "회담  ",
          "대통령  ",
          "트럼프  "
         ],
         "yaxis": "y15"
        },
        {
         "marker": {
          "color": "#0072B2"
         },
         "orientation": "h",
         "type": "bar",
         "x": [
          0.2129264264720119,
          0.2575008947651578,
          0.26422345938864994,
          0.2665124933374093,
          0.27154770091420694
         ],
         "xaxis": "x16",
         "y": [
          "발인  ",
          "게임  ",
          "29  ",
          "esg  ",
          "28  "
         ],
         "yaxis": "y16"
        },
        {
         "marker": {
          "color": "#CC79A7"
         },
         "orientation": "h",
         "type": "bar",
         "x": [
          0.24700828005828668,
          0.24706141928049583,
          0.24846531111249892,
          0.28642006616809007,
          0.3263368002171856
         ],
         "xaxis": "x17",
         "y": [
          "아파트  ",
          "발생  ",
          "피해  ",
          "대피  ",
          "지진  "
         ],
         "yaxis": "y17"
        },
        {
         "marker": {
          "color": "#E69F00"
         },
         "orientation": "h",
         "type": "bar",
         "x": [
          0.20562090608109884,
          0.2089839107588173,
          0.215587200068608,
          0.21795114465345092,
          0.25111025649892416
         ],
         "xaxis": "x18",
         "y": [
          "선언  ",
          "종전  ",
          "대북  ",
          "비핵화  ",
          "남북  "
         ],
         "yaxis": "y18"
        },
        {
         "marker": {
          "color": "#56B4E9"
         },
         "orientation": "h",
         "type": "bar",
         "x": [
          0.19538725145625985,
          0.20032728618279813,
          0.20199965312456794,
          0.20708234405201115,
          0.23634254123264775
         ],
         "xaxis": "x19",
         "y": [
          "교과  ",
          "신대  ",
          "교대  ",
          "중앙일보  ",
          "50  "
         ],
         "yaxis": "y19"
        },
        {
         "marker": {
          "color": "#009E73"
         },
         "orientation": "h",
         "type": "bar",
         "x": [
          0.19349413861871945,
          0.19501775442222175,
          0.21336290492319981,
          0.2339757937733119,
          0.3212635342993146
         ],
         "xaxis": "x20",
         "y": [
          "피지  ",
          "23  ",
          "특차  ",
          "추천자  ",
          "21  "
         ],
         "yaxis": "y20"
        }
       ],
       "layout": {
        "annotations": [
         {
          "font": {
           "size": 16
          },
          "showarrow": false,
          "text": "Topic 0",
          "x": 0.0875,
          "xanchor": "center",
          "xref": "paper",
          "y": 0.9999999999999999,
          "yanchor": "bottom",
          "yref": "paper"
         },
         {
          "font": {
           "size": 16
          },
          "showarrow": false,
          "text": "Topic 1",
          "x": 0.36250000000000004,
          "xanchor": "center",
          "xref": "paper",
          "y": 0.9999999999999999,
          "yanchor": "bottom",
          "yref": "paper"
         },
         {
          "font": {
           "size": 16
          },
          "showarrow": false,
          "text": "Topic 2",
          "x": 0.6375000000000001,
          "xanchor": "center",
          "xref": "paper",
          "y": 0.9999999999999999,
          "yanchor": "bottom",
          "yref": "paper"
         },
         {
          "font": {
           "size": 16
          },
          "showarrow": false,
          "text": "Topic 3",
          "x": 0.9125,
          "xanchor": "center",
          "xref": "paper",
          "y": 0.9999999999999999,
          "yanchor": "bottom",
          "yref": "paper"
         },
         {
          "font": {
           "size": 16
          },
          "showarrow": false,
          "text": "Topic 4",
          "x": 0.0875,
          "xanchor": "center",
          "xref": "paper",
          "y": 0.7839999999999999,
          "yanchor": "bottom",
          "yref": "paper"
         },
         {
          "font": {
           "size": 16
          },
          "showarrow": false,
          "text": "Topic 5",
          "x": 0.36250000000000004,
          "xanchor": "center",
          "xref": "paper",
          "y": 0.7839999999999999,
          "yanchor": "bottom",
          "yref": "paper"
         },
         {
          "font": {
           "size": 16
          },
          "showarrow": false,
          "text": "Topic 6",
          "x": 0.6375000000000001,
          "xanchor": "center",
          "xref": "paper",
          "y": 0.7839999999999999,
          "yanchor": "bottom",
          "yref": "paper"
         },
         {
          "font": {
           "size": 16
          },
          "showarrow": false,
          "text": "Topic 7",
          "x": 0.9125,
          "xanchor": "center",
          "xref": "paper",
          "y": 0.7839999999999999,
          "yanchor": "bottom",
          "yref": "paper"
         },
         {
          "font": {
           "size": 16
          },
          "showarrow": false,
          "text": "Topic 8",
          "x": 0.0875,
          "xanchor": "center",
          "xref": "paper",
          "y": 0.568,
          "yanchor": "bottom",
          "yref": "paper"
         },
         {
          "font": {
           "size": 16
          },
          "showarrow": false,
          "text": "Topic 9",
          "x": 0.36250000000000004,
          "xanchor": "center",
          "xref": "paper",
          "y": 0.568,
          "yanchor": "bottom",
          "yref": "paper"
         },
         {
          "font": {
           "size": 16
          },
          "showarrow": false,
          "text": "Topic 10",
          "x": 0.6375000000000001,
          "xanchor": "center",
          "xref": "paper",
          "y": 0.568,
          "yanchor": "bottom",
          "yref": "paper"
         },
         {
          "font": {
           "size": 16
          },
          "showarrow": false,
          "text": "Topic 11",
          "x": 0.9125,
          "xanchor": "center",
          "xref": "paper",
          "y": 0.568,
          "yanchor": "bottom",
          "yref": "paper"
         },
         {
          "font": {
           "size": 16
          },
          "showarrow": false,
          "text": "Topic 12",
          "x": 0.0875,
          "xanchor": "center",
          "xref": "paper",
          "y": 0.352,
          "yanchor": "bottom",
          "yref": "paper"
         },
         {
          "font": {
           "size": 16
          },
          "showarrow": false,
          "text": "Topic 13",
          "x": 0.36250000000000004,
          "xanchor": "center",
          "xref": "paper",
          "y": 0.352,
          "yanchor": "bottom",
          "yref": "paper"
         },
         {
          "font": {
           "size": 16
          },
          "showarrow": false,
          "text": "Topic 14",
          "x": 0.6375000000000001,
          "xanchor": "center",
          "xref": "paper",
          "y": 0.352,
          "yanchor": "bottom",
          "yref": "paper"
         },
         {
          "font": {
           "size": 16
          },
          "showarrow": false,
          "text": "Topic 15",
          "x": 0.9125,
          "xanchor": "center",
          "xref": "paper",
          "y": 0.352,
          "yanchor": "bottom",
          "yref": "paper"
         },
         {
          "font": {
           "size": 16
          },
          "showarrow": false,
          "text": "Topic 16",
          "x": 0.0875,
          "xanchor": "center",
          "xref": "paper",
          "y": 0.13599999999999998,
          "yanchor": "bottom",
          "yref": "paper"
         },
         {
          "font": {
           "size": 16
          },
          "showarrow": false,
          "text": "Topic 17",
          "x": 0.36250000000000004,
          "xanchor": "center",
          "xref": "paper",
          "y": 0.13599999999999998,
          "yanchor": "bottom",
          "yref": "paper"
         },
         {
          "font": {
           "size": 16
          },
          "showarrow": false,
          "text": "Topic 18",
          "x": 0.6375000000000001,
          "xanchor": "center",
          "xref": "paper",
          "y": 0.13599999999999998,
          "yanchor": "bottom",
          "yref": "paper"
         },
         {
          "font": {
           "size": 16
          },
          "showarrow": false,
          "text": "Topic 19",
          "x": 0.9125,
          "xanchor": "center",
          "xref": "paper",
          "y": 0.13599999999999998,
          "yanchor": "bottom",
          "yref": "paper"
         }
        ],
        "height": 1250,
        "hoverlabel": {
         "bgcolor": "white",
         "font": {
          "family": "Rockwell",
          "size": 16
         }
        },
        "showlegend": false,
        "template": {
         "data": {
          "bar": [
           {
            "error_x": {
             "color": "#2a3f5f"
            },
            "error_y": {
             "color": "#2a3f5f"
            },
            "marker": {
             "line": {
              "color": "white",
              "width": 0.5
             },
             "pattern": {
              "fillmode": "overlay",
              "size": 10,
              "solidity": 0.2
             }
            },
            "type": "bar"
           }
          ],
          "barpolar": [
           {
            "marker": {
             "line": {
              "color": "white",
              "width": 0.5
             },
             "pattern": {
              "fillmode": "overlay",
              "size": 10,
              "solidity": 0.2
             }
            },
            "type": "barpolar"
           }
          ],
          "carpet": [
           {
            "aaxis": {
             "endlinecolor": "#2a3f5f",
             "gridcolor": "#C8D4E3",
             "linecolor": "#C8D4E3",
             "minorgridcolor": "#C8D4E3",
             "startlinecolor": "#2a3f5f"
            },
            "baxis": {
             "endlinecolor": "#2a3f5f",
             "gridcolor": "#C8D4E3",
             "linecolor": "#C8D4E3",
             "minorgridcolor": "#C8D4E3",
             "startlinecolor": "#2a3f5f"
            },
            "type": "carpet"
           }
          ],
          "choropleth": [
           {
            "colorbar": {
             "outlinewidth": 0,
             "ticks": ""
            },
            "type": "choropleth"
           }
          ],
          "contour": [
           {
            "colorbar": {
             "outlinewidth": 0,
             "ticks": ""
            },
            "colorscale": [
             [
              0,
              "#0d0887"
             ],
             [
              0.1111111111111111,
              "#46039f"
             ],
             [
              0.2222222222222222,
              "#7201a8"
             ],
             [
              0.3333333333333333,
              "#9c179e"
             ],
             [
              0.4444444444444444,
              "#bd3786"
             ],
             [
              0.5555555555555556,
              "#d8576b"
             ],
             [
              0.6666666666666666,
              "#ed7953"
             ],
             [
              0.7777777777777778,
              "#fb9f3a"
             ],
             [
              0.8888888888888888,
              "#fdca26"
             ],
             [
              1,
              "#f0f921"
             ]
            ],
            "type": "contour"
           }
          ],
          "contourcarpet": [
           {
            "colorbar": {
             "outlinewidth": 0,
             "ticks": ""
            },
            "type": "contourcarpet"
           }
          ],
          "heatmap": [
           {
            "colorbar": {
             "outlinewidth": 0,
             "ticks": ""
            },
            "colorscale": [
             [
              0,
              "#0d0887"
             ],
             [
              0.1111111111111111,
              "#46039f"
             ],
             [
              0.2222222222222222,
              "#7201a8"
             ],
             [
              0.3333333333333333,
              "#9c179e"
             ],
             [
              0.4444444444444444,
              "#bd3786"
             ],
             [
              0.5555555555555556,
              "#d8576b"
             ],
             [
              0.6666666666666666,
              "#ed7953"
             ],
             [
              0.7777777777777778,
              "#fb9f3a"
             ],
             [
              0.8888888888888888,
              "#fdca26"
             ],
             [
              1,
              "#f0f921"
             ]
            ],
            "type": "heatmap"
           }
          ],
          "heatmapgl": [
           {
            "colorbar": {
             "outlinewidth": 0,
             "ticks": ""
            },
            "colorscale": [
             [
              0,
              "#0d0887"
             ],
             [
              0.1111111111111111,
              "#46039f"
             ],
             [
              0.2222222222222222,
              "#7201a8"
             ],
             [
              0.3333333333333333,
              "#9c179e"
             ],
             [
              0.4444444444444444,
              "#bd3786"
             ],
             [
              0.5555555555555556,
              "#d8576b"
             ],
             [
              0.6666666666666666,
              "#ed7953"
             ],
             [
              0.7777777777777778,
              "#fb9f3a"
             ],
             [
              0.8888888888888888,
              "#fdca26"
             ],
             [
              1,
              "#f0f921"
             ]
            ],
            "type": "heatmapgl"
           }
          ],
          "histogram": [
           {
            "marker": {
             "pattern": {
              "fillmode": "overlay",
              "size": 10,
              "solidity": 0.2
             }
            },
            "type": "histogram"
           }
          ],
          "histogram2d": [
           {
            "colorbar": {
             "outlinewidth": 0,
             "ticks": ""
            },
            "colorscale": [
             [
              0,
              "#0d0887"
             ],
             [
              0.1111111111111111,
              "#46039f"
             ],
             [
              0.2222222222222222,
              "#7201a8"
             ],
             [
              0.3333333333333333,
              "#9c179e"
             ],
             [
              0.4444444444444444,
              "#bd3786"
             ],
             [
              0.5555555555555556,
              "#d8576b"
             ],
             [
              0.6666666666666666,
              "#ed7953"
             ],
             [
              0.7777777777777778,
              "#fb9f3a"
             ],
             [
              0.8888888888888888,
              "#fdca26"
             ],
             [
              1,
              "#f0f921"
             ]
            ],
            "type": "histogram2d"
           }
          ],
          "histogram2dcontour": [
           {
            "colorbar": {
             "outlinewidth": 0,
             "ticks": ""
            },
            "colorscale": [
             [
              0,
              "#0d0887"
             ],
             [
              0.1111111111111111,
              "#46039f"
             ],
             [
              0.2222222222222222,
              "#7201a8"
             ],
             [
              0.3333333333333333,
              "#9c179e"
             ],
             [
              0.4444444444444444,
              "#bd3786"
             ],
             [
              0.5555555555555556,
              "#d8576b"
             ],
             [
              0.6666666666666666,
              "#ed7953"
             ],
             [
              0.7777777777777778,
              "#fb9f3a"
             ],
             [
              0.8888888888888888,
              "#fdca26"
             ],
             [
              1,
              "#f0f921"
             ]
            ],
            "type": "histogram2dcontour"
           }
          ],
          "mesh3d": [
           {
            "colorbar": {
             "outlinewidth": 0,
             "ticks": ""
            },
            "type": "mesh3d"
           }
          ],
          "parcoords": [
           {
            "line": {
             "colorbar": {
              "outlinewidth": 0,
              "ticks": ""
             }
            },
            "type": "parcoords"
           }
          ],
          "pie": [
           {
            "automargin": true,
            "type": "pie"
           }
          ],
          "scatter": [
           {
            "fillpattern": {
             "fillmode": "overlay",
             "size": 10,
             "solidity": 0.2
            },
            "type": "scatter"
           }
          ],
          "scatter3d": [
           {
            "line": {
             "colorbar": {
              "outlinewidth": 0,
              "ticks": ""
             }
            },
            "marker": {
             "colorbar": {
              "outlinewidth": 0,
              "ticks": ""
             }
            },
            "type": "scatter3d"
           }
          ],
          "scattercarpet": [
           {
            "marker": {
             "colorbar": {
              "outlinewidth": 0,
              "ticks": ""
             }
            },
            "type": "scattercarpet"
           }
          ],
          "scattergeo": [
           {
            "marker": {
             "colorbar": {
              "outlinewidth": 0,
              "ticks": ""
             }
            },
            "type": "scattergeo"
           }
          ],
          "scattergl": [
           {
            "marker": {
             "colorbar": {
              "outlinewidth": 0,
              "ticks": ""
             }
            },
            "type": "scattergl"
           }
          ],
          "scattermapbox": [
           {
            "marker": {
             "colorbar": {
              "outlinewidth": 0,
              "ticks": ""
             }
            },
            "type": "scattermapbox"
           }
          ],
          "scatterpolar": [
           {
            "marker": {
             "colorbar": {
              "outlinewidth": 0,
              "ticks": ""
             }
            },
            "type": "scatterpolar"
           }
          ],
          "scatterpolargl": [
           {
            "marker": {
             "colorbar": {
              "outlinewidth": 0,
              "ticks": ""
             }
            },
            "type": "scatterpolargl"
           }
          ],
          "scatterternary": [
           {
            "marker": {
             "colorbar": {
              "outlinewidth": 0,
              "ticks": ""
             }
            },
            "type": "scatterternary"
           }
          ],
          "surface": [
           {
            "colorbar": {
             "outlinewidth": 0,
             "ticks": ""
            },
            "colorscale": [
             [
              0,
              "#0d0887"
             ],
             [
              0.1111111111111111,
              "#46039f"
             ],
             [
              0.2222222222222222,
              "#7201a8"
             ],
             [
              0.3333333333333333,
              "#9c179e"
             ],
             [
              0.4444444444444444,
              "#bd3786"
             ],
             [
              0.5555555555555556,
              "#d8576b"
             ],
             [
              0.6666666666666666,
              "#ed7953"
             ],
             [
              0.7777777777777778,
              "#fb9f3a"
             ],
             [
              0.8888888888888888,
              "#fdca26"
             ],
             [
              1,
              "#f0f921"
             ]
            ],
            "type": "surface"
           }
          ],
          "table": [
           {
            "cells": {
             "fill": {
              "color": "#EBF0F8"
             },
             "line": {
              "color": "white"
             }
            },
            "header": {
             "fill": {
              "color": "#C8D4E3"
             },
             "line": {
              "color": "white"
             }
            },
            "type": "table"
           }
          ]
         },
         "layout": {
          "annotationdefaults": {
           "arrowcolor": "#2a3f5f",
           "arrowhead": 0,
           "arrowwidth": 1
          },
          "autotypenumbers": "strict",
          "coloraxis": {
           "colorbar": {
            "outlinewidth": 0,
            "ticks": ""
           }
          },
          "colorscale": {
           "diverging": [
            [
             0,
             "#8e0152"
            ],
            [
             0.1,
             "#c51b7d"
            ],
            [
             0.2,
             "#de77ae"
            ],
            [
             0.3,
             "#f1b6da"
            ],
            [
             0.4,
             "#fde0ef"
            ],
            [
             0.5,
             "#f7f7f7"
            ],
            [
             0.6,
             "#e6f5d0"
            ],
            [
             0.7,
             "#b8e186"
            ],
            [
             0.8,
             "#7fbc41"
            ],
            [
             0.9,
             "#4d9221"
            ],
            [
             1,
             "#276419"
            ]
           ],
           "sequential": [
            [
             0,
             "#0d0887"
            ],
            [
             0.1111111111111111,
             "#46039f"
            ],
            [
             0.2222222222222222,
             "#7201a8"
            ],
            [
             0.3333333333333333,
             "#9c179e"
            ],
            [
             0.4444444444444444,
             "#bd3786"
            ],
            [
             0.5555555555555556,
             "#d8576b"
            ],
            [
             0.6666666666666666,
             "#ed7953"
            ],
            [
             0.7777777777777778,
             "#fb9f3a"
            ],
            [
             0.8888888888888888,
             "#fdca26"
            ],
            [
             1,
             "#f0f921"
            ]
           ],
           "sequentialminus": [
            [
             0,
             "#0d0887"
            ],
            [
             0.1111111111111111,
             "#46039f"
            ],
            [
             0.2222222222222222,
             "#7201a8"
            ],
            [
             0.3333333333333333,
             "#9c179e"
            ],
            [
             0.4444444444444444,
             "#bd3786"
            ],
            [
             0.5555555555555556,
             "#d8576b"
            ],
            [
             0.6666666666666666,
             "#ed7953"
            ],
            [
             0.7777777777777778,
             "#fb9f3a"
            ],
            [
             0.8888888888888888,
             "#fdca26"
            ],
            [
             1,
             "#f0f921"
            ]
           ]
          },
          "colorway": [
           "#636efa",
           "#EF553B",
           "#00cc96",
           "#ab63fa",
           "#FFA15A",
           "#19d3f3",
           "#FF6692",
           "#B6E880",
           "#FF97FF",
           "#FECB52"
          ],
          "font": {
           "color": "#2a3f5f"
          },
          "geo": {
           "bgcolor": "white",
           "lakecolor": "white",
           "landcolor": "white",
           "showlakes": true,
           "showland": true,
           "subunitcolor": "#C8D4E3"
          },
          "hoverlabel": {
           "align": "left"
          },
          "hovermode": "closest",
          "mapbox": {
           "style": "light"
          },
          "paper_bgcolor": "white",
          "plot_bgcolor": "white",
          "polar": {
           "angularaxis": {
            "gridcolor": "#EBF0F8",
            "linecolor": "#EBF0F8",
            "ticks": ""
           },
           "bgcolor": "white",
           "radialaxis": {
            "gridcolor": "#EBF0F8",
            "linecolor": "#EBF0F8",
            "ticks": ""
           }
          },
          "scene": {
           "xaxis": {
            "backgroundcolor": "white",
            "gridcolor": "#DFE8F3",
            "gridwidth": 2,
            "linecolor": "#EBF0F8",
            "showbackground": true,
            "ticks": "",
            "zerolinecolor": "#EBF0F8"
           },
           "yaxis": {
            "backgroundcolor": "white",
            "gridcolor": "#DFE8F3",
            "gridwidth": 2,
            "linecolor": "#EBF0F8",
            "showbackground": true,
            "ticks": "",
            "zerolinecolor": "#EBF0F8"
           },
           "zaxis": {
            "backgroundcolor": "white",
            "gridcolor": "#DFE8F3",
            "gridwidth": 2,
            "linecolor": "#EBF0F8",
            "showbackground": true,
            "ticks": "",
            "zerolinecolor": "#EBF0F8"
           }
          },
          "shapedefaults": {
           "line": {
            "color": "#2a3f5f"
           }
          },
          "ternary": {
           "aaxis": {
            "gridcolor": "#DFE8F3",
            "linecolor": "#A2B1C6",
            "ticks": ""
           },
           "baxis": {
            "gridcolor": "#DFE8F3",
            "linecolor": "#A2B1C6",
            "ticks": ""
           },
           "bgcolor": "white",
           "caxis": {
            "gridcolor": "#DFE8F3",
            "linecolor": "#A2B1C6",
            "ticks": ""
           }
          },
          "title": {
           "x": 0.05
          },
          "xaxis": {
           "automargin": true,
           "gridcolor": "#EBF0F8",
           "linecolor": "#EBF0F8",
           "ticks": "",
           "title": {
            "standoff": 15
           },
           "zerolinecolor": "#EBF0F8",
           "zerolinewidth": 2
          },
          "yaxis": {
           "automargin": true,
           "gridcolor": "#EBF0F8",
           "linecolor": "#EBF0F8",
           "ticks": "",
           "title": {
            "standoff": 15
           },
           "zerolinecolor": "#EBF0F8",
           "zerolinewidth": 2
          }
         }
        },
        "title": {
         "font": {
          "color": "Black",
          "size": 22
         },
         "text": "Topic Word Scores",
         "x": 0.5,
         "xanchor": "center",
         "yanchor": "top"
        },
        "width": 1000,
        "xaxis": {
         "anchor": "y",
         "domain": [
          0,
          0.175
         ],
         "showgrid": true
        },
        "xaxis10": {
         "anchor": "y10",
         "domain": [
          0.275,
          0.45
         ],
         "showgrid": true
        },
        "xaxis11": {
         "anchor": "y11",
         "domain": [
          0.55,
          0.7250000000000001
         ],
         "showgrid": true
        },
        "xaxis12": {
         "anchor": "y12",
         "domain": [
          0.825,
          1
         ],
         "showgrid": true
        },
        "xaxis13": {
         "anchor": "y13",
         "domain": [
          0,
          0.175
         ],
         "showgrid": true
        },
        "xaxis14": {
         "anchor": "y14",
         "domain": [
          0.275,
          0.45
         ],
         "showgrid": true
        },
        "xaxis15": {
         "anchor": "y15",
         "domain": [
          0.55,
          0.7250000000000001
         ],
         "showgrid": true
        },
        "xaxis16": {
         "anchor": "y16",
         "domain": [
          0.825,
          1
         ],
         "showgrid": true
        },
        "xaxis17": {
         "anchor": "y17",
         "domain": [
          0,
          0.175
         ],
         "showgrid": true
        },
        "xaxis18": {
         "anchor": "y18",
         "domain": [
          0.275,
          0.45
         ],
         "showgrid": true
        },
        "xaxis19": {
         "anchor": "y19",
         "domain": [
          0.55,
          0.7250000000000001
         ],
         "showgrid": true
        },
        "xaxis2": {
         "anchor": "y2",
         "domain": [
          0.275,
          0.45
         ],
         "showgrid": true
        },
        "xaxis20": {
         "anchor": "y20",
         "domain": [
          0.825,
          1
         ],
         "showgrid": true
        },
        "xaxis3": {
         "anchor": "y3",
         "domain": [
          0.55,
          0.7250000000000001
         ],
         "showgrid": true
        },
        "xaxis4": {
         "anchor": "y4",
         "domain": [
          0.825,
          1
         ],
         "showgrid": true
        },
        "xaxis5": {
         "anchor": "y5",
         "domain": [
          0,
          0.175
         ],
         "showgrid": true
        },
        "xaxis6": {
         "anchor": "y6",
         "domain": [
          0.275,
          0.45
         ],
         "showgrid": true
        },
        "xaxis7": {
         "anchor": "y7",
         "domain": [
          0.55,
          0.7250000000000001
         ],
         "showgrid": true
        },
        "xaxis8": {
         "anchor": "y8",
         "domain": [
          0.825,
          1
         ],
         "showgrid": true
        },
        "xaxis9": {
         "anchor": "y9",
         "domain": [
          0,
          0.175
         ],
         "showgrid": true
        },
        "yaxis": {
         "anchor": "x",
         "domain": [
          0.8639999999999999,
          0.9999999999999999
         ],
         "showgrid": true
        },
        "yaxis10": {
         "anchor": "x10",
         "domain": [
          0.43199999999999994,
          0.568
         ],
         "showgrid": true
        },
        "yaxis11": {
         "anchor": "x11",
         "domain": [
          0.43199999999999994,
          0.568
         ],
         "showgrid": true
        },
        "yaxis12": {
         "anchor": "x12",
         "domain": [
          0.43199999999999994,
          0.568
         ],
         "showgrid": true
        },
        "yaxis13": {
         "anchor": "x13",
         "domain": [
          0.21599999999999997,
          0.352
         ],
         "showgrid": true
        },
        "yaxis14": {
         "anchor": "x14",
         "domain": [
          0.21599999999999997,
          0.352
         ],
         "showgrid": true
        },
        "yaxis15": {
         "anchor": "x15",
         "domain": [
          0.21599999999999997,
          0.352
         ],
         "showgrid": true
        },
        "yaxis16": {
         "anchor": "x16",
         "domain": [
          0.21599999999999997,
          0.352
         ],
         "showgrid": true
        },
        "yaxis17": {
         "anchor": "x17",
         "domain": [
          0,
          0.13599999999999998
         ],
         "showgrid": true
        },
        "yaxis18": {
         "anchor": "x18",
         "domain": [
          0,
          0.13599999999999998
         ],
         "showgrid": true
        },
        "yaxis19": {
         "anchor": "x19",
         "domain": [
          0,
          0.13599999999999998
         ],
         "showgrid": true
        },
        "yaxis2": {
         "anchor": "x2",
         "domain": [
          0.8639999999999999,
          0.9999999999999999
         ],
         "showgrid": true
        },
        "yaxis20": {
         "anchor": "x20",
         "domain": [
          0,
          0.13599999999999998
         ],
         "showgrid": true
        },
        "yaxis3": {
         "anchor": "x3",
         "domain": [
          0.8639999999999999,
          0.9999999999999999
         ],
         "showgrid": true
        },
        "yaxis4": {
         "anchor": "x4",
         "domain": [
          0.8639999999999999,
          0.9999999999999999
         ],
         "showgrid": true
        },
        "yaxis5": {
         "anchor": "x5",
         "domain": [
          0.6479999999999999,
          0.7839999999999999
         ],
         "showgrid": true
        },
        "yaxis6": {
         "anchor": "x6",
         "domain": [
          0.6479999999999999,
          0.7839999999999999
         ],
         "showgrid": true
        },
        "yaxis7": {
         "anchor": "x7",
         "domain": [
          0.6479999999999999,
          0.7839999999999999
         ],
         "showgrid": true
        },
        "yaxis8": {
         "anchor": "x8",
         "domain": [
          0.6479999999999999,
          0.7839999999999999
         ],
         "showgrid": true
        },
        "yaxis9": {
         "anchor": "x9",
         "domain": [
          0.43199999999999994,
          0.568
         ],
         "showgrid": true
        }
       }
      }
     },
     "metadata": {},
     "output_type": "display_data"
    }
   ],
   "source": [
    "# To visualize the ranking of terms per topic\n",
    "barchart_vis = topic_model.visualize_barchart(top_n_topics=20)\n",
    "barchart_vis"
   ]
  },
  {
   "cell_type": "code",
   "execution_count": 12,
   "metadata": {},
   "outputs": [
    {
     "data": {
      "application/vnd.plotly.v1+json": {
       "config": {
        "plotlyServerURL": "https://plot.ly"
       },
       "data": [
        {
         "hovertext": "<b>Topic -1</b>:수시_ac_www_정시_kr_히딩크_모집_전형_수능_총장_경쟁",
         "line": {
          "color": "black",
          "width": 1.5
         },
         "mode": "lines+lines",
         "name": "",
         "opacity": 0.1,
         "type": "scatter",
         "x": [
          1,
          2,
          3,
          4,
          5,
          6,
          7,
          8,
          9,
          10,
          11,
          12,
          13,
          14,
          15,
          16,
          17,
          18,
          19,
          20
         ],
         "y": [
          0.18670204555537584,
          0.1532329011899302,
          0.15143516017373282,
          0.1448810148617151,
          0.14466369828726455,
          0.13842987674674165,
          0.1368022265941817,
          0.12955461195962772,
          0.12886094558494046,
          0.12405850728508006,
          0.12330165466850702,
          0.12092008906650907,
          0.12041461886091606,
          0.11996557208871393,
          0.11905350898792244,
          0.11822970512840299,
          0.11793217686439166,
          0.11785856064586293,
          0.11730522814831236,
          0.11706921821855147
         ]
        },
        {
         "hovertext": "<b>Topic 0</b>:20_예비_지정_외국어_탐구_수리_대학생_선교사_과목_신청_번역",
         "line": {
          "color": "black",
          "width": 1.5
         },
         "mode": "lines+lines",
         "name": "",
         "opacity": 0.1,
         "type": "scatter",
         "x": [
          1,
          2,
          3,
          4,
          5,
          6,
          7,
          8,
          9,
          10,
          11,
          12,
          13,
          14,
          15,
          16,
          17,
          18,
          19,
          20
         ],
         "y": [
          0.21323421654463287,
          0.16993505837552,
          0.1584203662017279,
          0.13469408537520053,
          0.1329004607888636,
          0.13089337094004158,
          0.12811978011213576,
          0.1269507232595102,
          0.12527066547024251,
          0.12508166789668604,
          0.12440113365474847,
          0.12368437039540366,
          0.12105343629710992,
          0.11929357569358007,
          0.11887713706292617,
          0.11666719499019657,
          0.11590875085688637,
          0.11573775356386203,
          0.11522404131871027,
          0.1147730526802049
         ]
        },
        {
         "hovertext": "<b>Topic 1</b>:ai_로봇_백신_인공지능_진화_유전자_유네스코_인간_창조_창업_",
         "line": {
          "color": "black",
          "width": 1.5
         },
         "mode": "lines+lines",
         "name": "",
         "opacity": 0.1,
         "type": "scatter",
         "x": [
          1,
          2,
          3,
          4,
          5,
          6,
          7,
          8,
          9,
          10,
          11,
          12,
          13,
          14,
          15,
          16,
          17,
          18,
          19,
          20
         ],
         "y": [
          0.2628213291911501,
          0.22190391952709665,
          0.21513575986199024,
          0.21252313557038707,
          0.20289752037897493,
          0.1959802352564176,
          0.1869294765489742,
          0.1852173933968963,
          0.185168029337317,
          0.1839675890735398,
          0.18267130052289673,
          0.18157830708176245,
          0.17867785548769147,
          0.17597692030477888,
          0.17506833860248752,
          0.17472142276162858,
          0.17317326902558325,
          0.17313881296120237,
          0.17206700809260225,
          0.1704717079206835
         ]
        },
        {
         "hovertext": "<b>Topic 2</b>:30_피지_학과_인원_공학_제외_학부_기증_학년도_특수_마을_선",
         "line": {
          "color": "black",
          "width": 1.5
         },
         "mode": "lines+lines",
         "name": "",
         "opacity": 0.1,
         "type": "scatter",
         "x": [
          1,
          2,
          3,
          4,
          5,
          6,
          7,
          8,
          9,
          10,
          11,
          12,
          13,
          14,
          15,
          16,
          17,
          18,
          19,
          20
         ],
         "y": [
          0.2466305256158769,
          0.20399012960469418,
          0.17256168335172037,
          0.16063362927729233,
          0.15534332712276946,
          0.15258540363495898,
          0.15219299939376374,
          0.1490521722393514,
          0.14837105599704364,
          0.14729294355221687,
          0.14604986976041615,
          0.14372048557535955,
          0.1394966817262976,
          0.13914253743582017,
          0.1369772928292978,
          0.1350636089176742,
          0.13479500854418647,
          0.1343582433771521,
          0.13366884394693973,
          0.13357043532878216
         ]
        },
        {
         "hovertext": "<b>Topic 3</b>:퀴어_누리_동성애_동성애자_행사_본부_고등학교_시민_회장_연합회",
         "line": {
          "color": "black",
          "width": 1.5
         },
         "mode": "lines+lines",
         "name": "",
         "opacity": 0.1,
         "type": "scatter",
         "x": [
          1,
          2,
          3,
          4,
          5,
          6,
          7,
          8,
          9,
          10,
          11,
          12,
          13,
          14,
          15,
          16,
          17,
          18,
          19,
          20
         ],
         "y": [
          0.2792937963637491,
          0.2449304163317514,
          0.22183761821014508,
          0.19850000009373783,
          0.19066747528762862,
          0.17689335510572315,
          0.17120866043038926,
          0.1652994942810006,
          0.15997916589277125,
          0.15909224435655475,
          0.15899641762144917,
          0.15828337086369712,
          0.15816126038723674,
          0.15516905676934717,
          0.15425000859241347,
          0.1541711022759544,
          0.15231277364939125,
          0.151225725243623,
          0.15008082407361176,
          0.1491919065943379
         ]
        },
        {
         "hovertext": "<b>Topic 4</b>:반영_순위_평판_부친상_비율_이승만_레이저_장례식장_발인_모집_",
         "line": {
          "color": "black",
          "width": 1.5
         },
         "mode": "lines+lines",
         "name": "",
         "opacity": 0.1,
         "type": "scatter",
         "x": [
          1,
          2,
          3,
          4,
          5,
          6,
          7,
          8,
          9,
          10,
          11,
          12,
          13,
          14,
          15,
          16,
          17,
          18,
          19,
          20
         ],
         "y": [
          0.1846365386484391,
          0.18263519373131223,
          0.17618562882872388,
          0.17134176887775557,
          0.1707503130734871,
          0.1702301063816615,
          0.16346459187709786,
          0.16241574443172488,
          0.1591027689286235,
          0.15879296926929062,
          0.1576276921644166,
          0.15726793613113763,
          0.15624393953500357,
          0.155594402601578,
          0.15484732727230907,
          0.1524362672098474,
          0.15005662866958214,
          0.1495482942435756,
          0.14865403580823974,
          0.14504195707852777
         ]
        },
        {
         "hovertext": "<b>Topic 5</b>:지진_15_옥수수_건물_발생_북구_대피_여진_외벽_진동_오빠_이",
         "line": {
          "color": "black",
          "width": 1.5
         },
         "mode": "lines+lines",
         "name": "",
         "opacity": 0.1,
         "type": "scatter",
         "x": [
          1,
          2,
          3,
          4,
          5,
          6,
          7,
          8,
          9,
          10,
          11,
          12,
          13,
          14,
          15,
          16,
          17,
          18,
          19,
          20
         ],
         "y": [
          0.30652767632207584,
          0.2754073292194358,
          0.2670572137090147,
          0.25174708618713054,
          0.2327672624583084,
          0.23206927957541884,
          0.22861226055018682,
          0.22415248008113428,
          0.217509545311173,
          0.21186870736569302,
          0.21183553728534635,
          0.2074072647762545,
          0.19789203008673456,
          0.19430927276930496,
          0.1868430458317566,
          0.18637931819992898,
          0.1863322921908971,
          0.18240453901110273,
          0.18116827890236414,
          0.1795031745910973
         ]
        },
        {
         "hovertext": "<b>Topic 6</b>:지정_건대_통합_10_사정관_선정_도립_옥수수_비례_김여정_디자",
         "line": {
          "color": "black",
          "width": 1.5
         },
         "mode": "lines+lines",
         "name": "",
         "opacity": 0.1,
         "type": "scatter",
         "x": [
          1,
          2,
          3,
          4,
          5,
          6,
          7,
          8,
          9,
          10,
          11,
          12,
          13,
          14,
          15,
          16,
          17,
          18,
          19,
          20
         ],
         "y": [
          0.1929752498057466,
          0.18813284218432844,
          0.18145445740785243,
          0.1802570015974417,
          0.18008685192133356,
          0.17943127996463215,
          0.17767857272394844,
          0.17684232181573642,
          0.16699396616620318,
          0.1599867477424576,
          0.15723752510960062,
          0.15585952188267901,
          0.15441178126885322,
          0.15269768910161918,
          0.15219911024183339,
          0.15113867790186983,
          0.14621830455549667,
          0.14480403265515543,
          0.14382289927901856,
          0.14358047042470298
         ]
        },
        {
         "hovertext": "<b>Topic 7</b>:통일부_헌법_단군_헌재_민원_학칙_개성_재판_전단_공단_과장_동",
         "line": {
          "color": "black",
          "width": 1.5
         },
         "mode": "lines+lines",
         "name": "",
         "opacity": 0.1,
         "type": "scatter",
         "x": [
          1,
          2,
          3,
          4,
          5,
          6,
          7,
          8,
          9,
          10,
          11,
          12,
          13,
          14,
          15,
          16,
          17,
          18,
          19,
          20
         ],
         "y": [
          0.235571331183479,
          0.2222603248977923,
          0.21550910774083448,
          0.20666141267779903,
          0.2035417476287469,
          0.1987359349537323,
          0.19716718267464248,
          0.1964983424332138,
          0.19638365538205083,
          0.18853775849649146,
          0.18752204879698878,
          0.18718823362159775,
          0.18054470413491264,
          0.17953718094660073,
          0.17585539120339008,
          0.1710012677585999,
          0.17071421320250615,
          0.16981924524128456,
          0.16810589305652393,
          0.16649761068336907
         ]
        },
        {
         "hovertext": "<b>Topic 8</b>:발인_대회_혐오_재판_한국어_분권_모친상_후보_방송_교포_부문_",
         "line": {
          "color": "black",
          "width": 1.5
         },
         "mode": "lines+lines",
         "name": "",
         "opacity": 0.1,
         "type": "scatter",
         "x": [
          1,
          2,
          3,
          4,
          5,
          6,
          7,
          8,
          9,
          10,
          11,
          12,
          13,
          14,
          15,
          16,
          17,
          18,
          19,
          20
         ],
         "y": [
          0.18774083613797635,
          0.15651738163029447,
          0.14929293100617003,
          0.1484292593038315,
          0.14689963979482615,
          0.1433429103038791,
          0.14161002581603055,
          0.14070074225934745,
          0.13974701707546053,
          0.1395457316573714,
          0.13916109923212372,
          0.1388331708864878,
          0.13728858172411176,
          0.13581536472776978,
          0.13553426457844472,
          0.13534736036126013,
          0.13528839238866378,
          0.13484221630448814,
          0.13324131464823458,
          0.13261128241212308
         ]
        },
        {
         "hovertext": "<b>Topic 9</b>:미사일_발사_icbm_도발_탄도_slbm_중거리_타격_단거리_잠",
         "line": {
          "color": "black",
          "width": 1.5
         },
         "mode": "lines+lines",
         "name": "",
         "opacity": 0.1,
         "type": "scatter",
         "x": [
          1,
          2,
          3,
          4,
          5,
          6,
          7,
          8,
          9,
          10,
          11,
          12,
          13,
          14,
          15,
          16,
          17,
          18,
          19,
          20
         ],
         "y": [
          0.373059678864155,
          0.35328931582169426,
          0.3102114103394111,
          0.3069712896827415,
          0.3029053042291247,
          0.2788248150695352,
          0.25068564279025113,
          0.2378041657284204,
          0.23722075445209329,
          0.22758626478554217,
          0.2250448989262141,
          0.22450988631257743,
          0.22059900446196512,
          0.2195341877959663,
          0.2153267935342519,
          0.2107703783266466,
          0.2045419706267685,
          0.2044202496351228,
          0.20375775431136342,
          0.20334222152782216
         ]
        },
        {
         "hovertext": "<b>Topic 10</b>:25_블로그_가족_성경_대안_모친상_병원_입국_청년_유해_nl",
         "line": {
          "color": "black",
          "width": 1.5
         },
         "mode": "lines+lines",
         "name": "",
         "opacity": 0.1,
         "type": "scatter",
         "x": [
          1,
          2,
          3,
          4,
          5,
          6,
          7,
          8,
          9,
          10,
          11,
          12,
          13,
          14,
          15,
          16,
          17,
          18,
          19,
          20
         ],
         "y": [
          0.30689113975717347,
          0.18545688059679014,
          0.17020501328434592,
          0.16008377045820035,
          0.15700166609974892,
          0.15056295404949674,
          0.149014925401358,
          0.147688656083287,
          0.14673904644463512,
          0.1424188760930615,
          0.1396898242521801,
          0.13870396640868005,
          0.13800533183961677,
          0.13743186857270479,
          0.13725401277133117,
          0.1362888910350809,
          0.13448616710448927,
          0.13334208114910764,
          0.13309232935029613,
          0.1326920073619453
         ]
        },
        {
         "hovertext": "<b>Topic 11</b>:중국_주석_외교_회담_시진핑_정상_일본_갈등_동맹_방중_사드_",
         "line": {
          "color": "black",
          "width": 1.5
         },
         "mode": "lines+lines",
         "name": "",
         "opacity": 0.1,
         "type": "scatter",
         "x": [
          1,
          2,
          3,
          4,
          5,
          6,
          7,
          8,
          9,
          10,
          11,
          12,
          13,
          14,
          15,
          16,
          17,
          18,
          19,
          20
         ],
         "y": [
          0.33737654620006075,
          0.2756589004117901,
          0.2366544285312587,
          0.2328410067334637,
          0.22910399306428725,
          0.2267080288836777,
          0.21394275259769488,
          0.20802856833275238,
          0.20521814035992328,
          0.2043421533540511,
          0.20385807733050332,
          0.2031224151813184,
          0.19875733079613425,
          0.19713926510944652,
          0.18880698886382957,
          0.1865593297396309,
          0.1858028123573934,
          0.18540762764017552,
          0.18497861552441128,
          0.18362832844095361
         ]
        },
        {
         "hovertext": "<b>Topic 12</b>:지소_미아_종료_오바마_안보_전쟁_종전_양국_평화_방위비_레드",
         "line": {
          "color": "black",
          "width": 1.5
         },
         "mode": "lines+lines",
         "name": "",
         "opacity": 0.1,
         "type": "scatter",
         "x": [
          1,
          2,
          3,
          4,
          5,
          6,
          7,
          8,
          9,
          10,
          11,
          12,
          13,
          14,
          15,
          16,
          17,
          18,
          19,
          20
         ],
         "y": [
          0.26599530557457873,
          0.262974866416651,
          0.21872109186647687,
          0.21427011067854496,
          0.2018478075527669,
          0.19980847445873626,
          0.19759543536222887,
          0.19444462571344306,
          0.19106295518240554,
          0.18985111541897393,
          0.18282324444952394,
          0.18267959649599855,
          0.18121395694052456,
          0.18021583353758597,
          0.17778005456359705,
          0.1769302429217019,
          0.1755597684267091,
          0.17555900432533855,
          0.17513126105500357,
          0.17463515053134085
         ]
        },
        {
         "hovertext": "<b>Topic 13</b>:김치_벽돌_코스타_선교_논술_학력_유산균_강연_최저_이스트_학",
         "line": {
          "color": "black",
          "width": 1.5
         },
         "mode": "lines+lines",
         "name": "",
         "opacity": 0.1,
         "type": "scatter",
         "x": [
          1,
          2,
          3,
          4,
          5,
          6,
          7,
          8,
          9,
          10,
          11,
          12,
          13,
          14,
          15,
          16,
          17,
          18,
          19,
          20
         ],
         "y": [
          0.26533463091156784,
          0.25677517251987164,
          0.24343071596613247,
          0.21274656319525853,
          0.20724923627419264,
          0.19983547908203791,
          0.18466122923974365,
          0.18012584066756332,
          0.17951755509124007,
          0.17951755509124007,
          0.17115448522758875,
          0.17035440332335344,
          0.1692658023451286,
          0.16908722207553675,
          0.16905333445835408,
          0.1687917003742819,
          0.16853482177245485,
          0.16387455546091795,
          0.16265681786664885,
          0.16265535266278253
         ]
        },
        {
         "hovertext": "<b>Topic 14</b>:트럼프_대통령_회담_북미_정상_도널드_친서_감축_미군_바이든_",
         "line": {
          "color": "black",
          "width": 1.5
         },
         "mode": "lines+lines",
         "name": "",
         "opacity": 0.1,
         "type": "scatter",
         "x": [
          1,
          2,
          3,
          4,
          5,
          6,
          7,
          8,
          9,
          10,
          11,
          12,
          13,
          14,
          15,
          16,
          17,
          18,
          19,
          20
         ],
         "y": [
          0.3937602523002269,
          0.260569144115331,
          0.25931899655903784,
          0.25695496641976445,
          0.25220185295887504,
          0.24426032861985358,
          0.24004546251207423,
          0.23883288250058432,
          0.23882575216233468,
          0.23225012502230769,
          0.22118971564248677,
          0.21547211424473908,
          0.21478810459355083,
          0.2085783429927546,
          0.20765465851103215,
          0.20750902583771677,
          0.20623146330071856,
          0.203421687955431,
          0.20055921462019152,
          0.19687941322962557
         ]
        },
        {
         "hovertext": "<b>Topic 15</b>:28_esg_29_게임_발인_종료_진학_창업_실적_청년_글로벌",
         "line": {
          "color": "black",
          "width": 1.5
         },
         "mode": "lines+lines",
         "name": "",
         "opacity": 0.1,
         "type": "scatter",
         "x": [
          1,
          2,
          3,
          4,
          5,
          6,
          7,
          8,
          9,
          10,
          11,
          12,
          13,
          14,
          15,
          16,
          17,
          18,
          19,
          20
         ],
         "y": [
          0.27154770091420694,
          0.2665124933374093,
          0.26422345938864994,
          0.2575008947651578,
          0.2129264264720119,
          0.1869571143443216,
          0.1859480813253247,
          0.18263185096777218,
          0.18035424966109237,
          0.17641535584180357,
          0.1657587248613638,
          0.16304402190639988,
          0.16240782307549997,
          0.1620560446651553,
          0.16117651299098043,
          0.16005899833826906,
          0.1589697559917204,
          0.15824149082581393,
          0.15488595757343693,
          0.15396993307934653
         ]
        },
        {
         "hovertext": "<b>Topic 16</b>:지진_대피_피해_발생_아파트_여진_택시_건물_흥해읍_주민_북구",
         "line": {
          "color": "black",
          "width": 1.5
         },
         "mode": "lines+lines",
         "name": "",
         "opacity": 0.1,
         "type": "scatter",
         "x": [
          1,
          2,
          3,
          4,
          5,
          6,
          7,
          8,
          9,
          10,
          11,
          12,
          13,
          14,
          15,
          16,
          17,
          18,
          19,
          20
         ],
         "y": [
          0.3263368002171856,
          0.28642006616809007,
          0.24846531111249892,
          0.24706141928049583,
          0.24700828005828668,
          0.2436730746311866,
          0.2330079532606715,
          0.22816838109880583,
          0.21570382069360472,
          0.21373032955466448,
          0.21347575276337177,
          0.2090418203214742,
          0.19834350678073406,
          0.19668069007272523,
          0.196642482961241,
          0.19339600759302963,
          0.18992381333151398,
          0.18908965645187206,
          0.1836121993707336,
          0.18334385888016547
         ]
        },
        {
         "hovertext": "<b>Topic 17</b>:남북_비핵화_대북_종전_선언_대화_외교_회담_한반도_안보_방북",
         "line": {
          "color": "black",
          "width": 1.5
         },
         "mode": "lines+lines",
         "name": "",
         "opacity": 0.1,
         "type": "scatter",
         "x": [
          1,
          2,
          3,
          4,
          5,
          6,
          7,
          8,
          9,
          10,
          11,
          12,
          13,
          14,
          15,
          16,
          17,
          18,
          19,
          20
         ],
         "y": [
          0.25111025649892416,
          0.21795114465345092,
          0.215587200068608,
          0.2089839107588173,
          0.20562090608109884,
          0.20541614332473593,
          0.20072769270733304,
          0.1978668658923544,
          0.19574348123553895,
          0.195519114040779,
          0.19102268595574431,
          0.18919255247091815,
          0.18669624827028136,
          0.18443399575178,
          0.18276592745399584,
          0.17873263688965996,
          0.17856785728410277,
          0.17647809983850435,
          0.17595541884112426,
          0.17532644013755133
         ]
        },
        {
         "hovertext": "<b>Topic 18</b>:50_중앙일보_교대_신대_교과_가톨릭_배터리_단계_대원_목포_",
         "line": {
          "color": "black",
          "width": 1.5
         },
         "mode": "lines+lines",
         "name": "",
         "opacity": 0.1,
         "type": "scatter",
         "x": [
          1,
          2,
          3,
          4,
          5,
          6,
          7,
          8,
          9,
          10,
          11,
          12,
          13,
          14,
          15,
          16,
          17,
          18,
          19,
          20
         ],
         "y": [
          0.23634254123264775,
          0.20708234405201115,
          0.20199965312456794,
          0.20032728618279813,
          0.19538725145625985,
          0.18647875663630553,
          0.18468532042617214,
          0.17324181041515435,
          0.17098714362767006,
          0.16954103268158605,
          0.1694307002022135,
          0.16868218728902423,
          0.16621959490389646,
          0.16482788234811446,
          0.16129412032534574,
          0.16102501543078718,
          0.1605604450240627,
          0.1605579679521827,
          0.1580614455457743,
          0.15771535507362927
         ]
        },
        {
         "hovertext": "<b>Topic 19</b>:21_추천자_특차_23_피지_연극_세기_주제_우수_탐방_학교장",
         "line": {
          "color": "black",
          "width": 1.5
         },
         "mode": "lines+lines",
         "name": "",
         "opacity": 0.1,
         "type": "scatter",
         "x": [
          1,
          2,
          3,
          4,
          5,
          6,
          7,
          8,
          9,
          10,
          11,
          12,
          13,
          14,
          15,
          16,
          17,
          18,
          19,
          20
         ],
         "y": [
          0.3212635342993146,
          0.2339757937733119,
          0.21336290492319981,
          0.19501775442222175,
          0.19349413861871945,
          0.18787951928038327,
          0.1843015589399778,
          0.1834585354798321,
          0.1765347321557944,
          0.17379795122035752,
          0.17188294206714086,
          0.17057921878828028,
          0.16852979627220652,
          0.1679812998290278,
          0.16689647338490374,
          0.16338164722167,
          0.16268162065472494,
          0.16200830207673322,
          0.16155515027554956,
          0.15914743725445338
         ]
        },
        {
         "hovertext": "<b>Topic 20</b>:19_만점_18_아이_친구_관광_학교장_개신교_개별_특기_비평",
         "line": {
          "color": "black",
          "width": 1.5
         },
         "mode": "lines+lines",
         "name": "",
         "opacity": 0.1,
         "type": "scatter",
         "x": [
          1,
          2,
          3,
          4,
          5,
          6,
          7,
          8,
          9,
          10,
          11,
          12,
          13,
          14,
          15,
          16,
          17,
          18,
          19,
          20
         ],
         "y": [
          0.3141023257931442,
          0.30639094087427665,
          0.23224846379336914,
          0.23137089940281072,
          0.221574434292704,
          0.2118434852572117,
          0.20051120395932348,
          0.18667546430028767,
          0.18185338479999213,
          0.1813263763303011,
          0.17744654185632422,
          0.17711917835642677,
          0.17579881512937084,
          0.17538101589387525,
          0.17489612888772205,
          0.17482499179113703,
          0.17403980692316443,
          0.17158288815166894,
          0.1704816620454584,
          0.16788685388625801
         ]
        },
        {
         "hovertext": "<b>Topic 21</b>:가산점_점수_사업단_분위_경선_베트남_연료_청소_실리콘밸리_영",
         "line": {
          "color": "black",
          "width": 1.5
         },
         "mode": "lines+lines",
         "name": "",
         "opacity": 0.1,
         "type": "scatter",
         "x": [
          1,
          2,
          3,
          4,
          5,
          6,
          7,
          8,
          9,
          10,
          11,
          12,
          13,
          14,
          15,
          16,
          17,
          18,
          19,
          20
         ],
         "y": [
          0.2318928589832569,
          0.22868295952732387,
          0.2242575564240357,
          0.22145896952869618,
          0.21871030064230976,
          0.21372657625271665,
          0.21249923454199748,
          0.20744505307153127,
          0.20243700889689842,
          0.19889201911593862,
          0.19888823295063646,
          0.1949369926404337,
          0.18268581043616733,
          0.17864256309534843,
          0.1767411665118726,
          0.17566243419301109,
          0.17302091676127213,
          0.171224856502276,
          0.17049788110202768,
          0.17045891924743578
         ]
        },
        {
         "hovertext": "<b>Topic 22</b>:10_태권_화학_12_판결_병역_파트_동성_사법_소수자_웃음_",
         "line": {
          "color": "black",
          "width": 1.5
         },
         "mode": "lines+lines",
         "name": "",
         "opacity": 0.1,
         "type": "scatter",
         "x": [
          1,
          2,
          3,
          4,
          5,
          6,
          7,
          8,
          9,
          10,
          11,
          12,
          13,
          14,
          15,
          16,
          17,
          18,
          19,
          20
         ],
         "y": [
          0.2879666877489723,
          0.23271385413672127,
          0.22605088668977036,
          0.2203954231968413,
          0.20296634004765887,
          0.19775000537883056,
          0.19576064819014524,
          0.19457967888306368,
          0.1924804600099086,
          0.19010394490695293,
          0.18822449617919204,
          0.18593888039213993,
          0.1838851097028646,
          0.18299024975976957,
          0.18218223666412225,
          0.18159165668772534,
          0.18132722874609428,
          0.17827591506871882,
          0.17780792356477693,
          0.1766150804837964
         ]
        },
        {
         "hovertext": "<b>Topic 23</b>:미군_주한_지소_미아_종료_제재_외교_부시_대북_압박_오바마_",
         "line": {
          "color": "black",
          "width": 1.5
         },
         "mode": "lines+lines",
         "name": "",
         "opacity": 0.1,
         "type": "scatter",
         "x": [
          1,
          2,
          3,
          4,
          5,
          6,
          7,
          8,
          9,
          10,
          11,
          12,
          13,
          14,
          15,
          16,
          17,
          18,
          19,
          20
         ],
         "y": [
          0.23968826711901683,
          0.23961712329286958,
          0.22789277687613138,
          0.2253050008791127,
          0.21931053835720826,
          0.21734281423895602,
          0.21586638475054407,
          0.21550375090070426,
          0.2067440638799376,
          0.20566990839010132,
          0.2047551236310704,
          0.20308537185241796,
          0.1955442331545799,
          0.18970641782116943,
          0.1875890833554264,
          0.18641354821276915,
          0.18564236324032313,
          0.18181265167329763,
          0.18174111923897643,
          0.1817408443316233
         ]
        },
        {
         "hovertext": "<b>Topic 24</b>:교대_일괄_합산_적정_보직_공연_확정_인문_사립_편입_캠프_외",
         "line": {
          "color": "black",
          "width": 1.5
         },
         "mode": "lines+lines",
         "name": "",
         "opacity": 0.1,
         "type": "scatter",
         "x": [
          1,
          2,
          3,
          4,
          5,
          6,
          7,
          8,
          9,
          10,
          11,
          12,
          13,
          14,
          15,
          16,
          17,
          18,
          19,
          20
         ],
         "y": [
          0.23478833787205208,
          0.23113540540214106,
          0.22792396572473228,
          0.22534202078226137,
          0.22064363493392802,
          0.21103906799912683,
          0.19874633546081955,
          0.19263413626977968,
          0.19019289324005684,
          0.18800650327006985,
          0.18752585005145228,
          0.18591995548973747,
          0.18364948467244308,
          0.18271836351964715,
          0.17960003113403664,
          0.17699543082975652,
          0.17489151254685023,
          0.1745661063220927,
          0.17397415401558272,
          0.1714899956169173
         ]
        },
        {
         "hovertext": "<b>Topic 25</b>:회담_대화_정상_협정_안보_외교_협상_회의_평화_고위급_한반도",
         "line": {
          "color": "black",
          "width": 1.5
         },
         "mode": "lines+lines",
         "name": "",
         "opacity": 0.1,
         "type": "scatter",
         "x": [
          1,
          2,
          3,
          4,
          5,
          6,
          7,
          8,
          9,
          10,
          11,
          12,
          13,
          14,
          15,
          16,
          17,
          18,
          19,
          20
         ],
         "y": [
          0.2684610919354178,
          0.25570420117247633,
          0.24790965197040646,
          0.2273621041720794,
          0.20503180049014783,
          0.2049362726785589,
          0.20134871166080692,
          0.1993167025229118,
          0.19670488379615275,
          0.19319802725211044,
          0.19206187234779953,
          0.191822114559374,
          0.19120326327599466,
          0.19116613776556657,
          0.19035299245133766,
          0.19019336707092382,
          0.18967216721818297,
          0.18849140675461273,
          0.1882394341449472,
          0.1867405733230717
         ]
        },
        {
         "hovertext": "<b>Topic 26</b>:예수_지옥_하나님_동성애_교리_사랑_성경_진리_영원_구원_세상",
         "line": {
          "color": "black",
          "width": 1.5
         },
         "mode": "lines+lines",
         "name": "",
         "opacity": 0.1,
         "type": "scatter",
         "x": [
          1,
          2,
          3,
          4,
          5,
          6,
          7,
          8,
          9,
          10,
          11,
          12,
          13,
          14,
          15,
          16,
          17,
          18,
          19,
          20
         ],
         "y": [
          0.37864694865760873,
          0.3738020041653337,
          0.3498939559788182,
          0.3134691725512757,
          0.30257692745541065,
          0.3005949132459465,
          0.2912620823655676,
          0.27902469354412507,
          0.2711757672794595,
          0.2689133918972276,
          0.2588530642971325,
          0.25077154503143917,
          0.24792816228449385,
          0.24475600613735868,
          0.2425935475472581,
          0.23283003782830916,
          0.22988169865336022,
          0.2296651610248394,
          0.2244269391435868,
          0.22435675112236647
         ]
        },
        {
         "hovertext": "<b>Topic 27</b>:발인_12_부친상_병원_세브_충원_란스_모친상_기부_성탄_등록",
         "line": {
          "color": "black",
          "width": 1.5
         },
         "mode": "lines+lines",
         "name": "",
         "opacity": 0.1,
         "type": "scatter",
         "x": [
          1,
          2,
          3,
          4,
          5,
          6,
          7,
          8,
          9,
          10,
          11,
          12,
          13,
          14,
          15,
          16,
          17,
          18,
          19,
          20
         ],
         "y": [
          0.3242876356348524,
          0.314282087936215,
          0.3021209674809523,
          0.26631357934961025,
          0.2524670392067118,
          0.2524670392067118,
          0.25209744125306494,
          0.2510985587501338,
          0.24388309107930484,
          0.21944175294547255,
          0.21875638748430018,
          0.21222568039548215,
          0.20415175864732377,
          0.1976846140055048,
          0.19542558813974614,
          0.1942799260186506,
          0.1942781162259489,
          0.19085949281627587,
          0.18980296078237713,
          0.18977088601964412
         ]
        },
        {
         "hovertext": "<b>Topic 28</b>:유엔사_17_출장_작전_사령관_교사_인성_일보_전력_증원_사정",
         "line": {
          "color": "black",
          "width": 1.5
         },
         "mode": "lines+lines",
         "name": "",
         "opacity": 0.1,
         "type": "scatter",
         "x": [
          1,
          2,
          3,
          4,
          5,
          6,
          7,
          8,
          9,
          10,
          11,
          12,
          13,
          14,
          15,
          16,
          17,
          18,
          19,
          20
         ],
         "y": [
          0.2915204341420543,
          0.2703139879608246,
          0.26100036425290246,
          0.23648074609995254,
          0.22156388171810876,
          0.20637678767126658,
          0.20575166677487783,
          0.1982819586990238,
          0.19647975104142515,
          0.19383831340828345,
          0.19360416600838518,
          0.19339615168934665,
          0.19218715126042707,
          0.18685030127392577,
          0.18101185927311159,
          0.17649566128694705,
          0.17365149117291456,
          0.17123308668801318,
          0.17046163052184043,
          0.16957154637892094
         ]
        },
        {
         "hovertext": "<b>Topic 29</b>:00_특강_전지_송도_명회_박람회_진로_단지_유실_진학_디지털",
         "line": {
          "color": "black",
          "width": 1.5
         },
         "mode": "lines+lines",
         "name": "",
         "opacity": 0.1,
         "type": "scatter",
         "x": [
          1,
          2,
          3,
          4,
          5,
          6,
          7,
          8,
          9,
          10,
          11,
          12,
          13,
          14,
          15,
          16,
          17,
          18,
          19,
          20
         ],
         "y": [
          0.4779852625882307,
          0.2857921468360971,
          0.2705702615547795,
          0.26790115162606176,
          0.26484802465017837,
          0.2577294731361829,
          0.24902552974855235,
          0.24591459526303203,
          0.23338340775794014,
          0.23318051049168695,
          0.23136668495423726,
          0.2211494450784752,
          0.22061829930004798,
          0.21405435761412608,
          0.21008396698319187,
          0.2045119852444277,
          0.20172506786799502,
          0.2006570310916373,
          0.19738389657349842,
          0.19052892963587717
         ]
        },
        {
         "hovertext": "<b>Topic 30</b>:70_지수_보험_동맹_조약_미군_시행령_생명_분단_지속_기지_",
         "line": {
          "color": "black",
          "width": 1.5
         },
         "mode": "lines+lines",
         "name": "",
         "opacity": 0.1,
         "type": "scatter",
         "x": [
          1,
          2,
          3,
          4,
          5,
          6,
          7,
          8,
          9,
          10,
          11,
          12,
          13,
          14,
          15,
          16,
          17,
          18,
          19,
          20
         ],
         "y": [
          0.3032265989727089,
          0.27526234053755944,
          0.2717002550804947,
          0.26508941166335603,
          0.23680717302098556,
          0.2330504854139708,
          0.220744367603803,
          0.21195203175717287,
          0.20469603399656386,
          0.20275866847738433,
          0.19698235578621268,
          0.19486111885432914,
          0.18373597108623466,
          0.18199924542698653,
          0.1805906249360084,
          0.18051426664745598,
          0.17680740242474807,
          0.17481631770562137,
          0.17354809799414503,
          0.17341758740840474
         ]
        },
        {
         "hovertext": "<b>Topic 31</b>:재판관_법관_분과_헌법_만점_기도회_취업_등록금_재판소_지표_",
         "line": {
          "color": "black",
          "width": 1.5
         },
         "mode": "lines+lines",
         "name": "",
         "opacity": 0.1,
         "type": "scatter",
         "x": [
          1,
          2,
          3,
          4,
          5,
          6,
          7,
          8,
          9,
          10,
          11,
          12,
          13,
          14,
          15,
          16,
          17,
          18,
          19,
          20
         ],
         "y": [
          0.28822402870858316,
          0.21493778547406114,
          0.19791871678313572,
          0.1960172955952013,
          0.19508659324080357,
          0.1945417029508412,
          0.18974848924530324,
          0.18888002983601826,
          0.17957182544216846,
          0.17652353633058843,
          0.17545636395025316,
          0.1744188177570016,
          0.1722559770115671,
          0.16822648401661558,
          0.16817206487300823,
          0.16722647965599086,
          0.16696486397919363,
          0.16621494405955725,
          0.16614393137579003,
          0.1650396994068877
         ]
        },
        {
         "hovertext": "<b>Topic 32</b>:인터넷_11_투스_지수_부문_300_자동차_삼성전자_10_모금",
         "line": {
          "color": "black",
          "width": 1.5
         },
         "mode": "lines+lines",
         "name": "",
         "opacity": 0.1,
         "type": "scatter",
         "x": [
          1,
          2,
          3,
          4,
          5,
          6,
          7,
          8,
          9,
          10,
          11,
          12,
          13,
          14,
          15,
          16,
          17,
          18,
          19,
          20
         ],
         "y": [
          0.3622179186714034,
          0.3511536569532503,
          0.29768197114431105,
          0.285961556197751,
          0.25960945802458535,
          0.24196110180305508,
          0.24116770287155104,
          0.24005936963688237,
          0.2371664288343014,
          0.22407918886393255,
          0.21281294018756816,
          0.2118208651682533,
          0.20843817456383384,
          0.1926467620700823,
          0.1893293580263205,
          0.18432958387709703,
          0.18421829353762062,
          0.18219526164455221,
          0.1821115944115991,
          0.17934872447757474
         ]
        },
        {
         "hovertext": "<b>Topic 33</b>:트럼프_보좌관_북미_행정부_판문점_정상_회담_국무_바이든_대통",
         "line": {
          "color": "black",
          "width": 1.5
         },
         "mode": "lines+lines",
         "name": "",
         "opacity": 0.1,
         "type": "scatter",
         "x": [
          1,
          2,
          3,
          4,
          5,
          6,
          7,
          8,
          9,
          10,
          11,
          12,
          13,
          14,
          15,
          16,
          17,
          18,
          19,
          20
         ],
         "y": [
          0.32560544564103283,
          0.31595903803230924,
          0.30564099447618115,
          0.2855223035027796,
          0.26310034535588084,
          0.2580463130790457,
          0.24932719963738745,
          0.24439927945312548,
          0.234725510055816,
          0.23463513304388692,
          0.2330720352996107,
          0.2247608938840163,
          0.2238105083418193,
          0.22273165169252282,
          0.22028378710561142,
          0.21887691936112064,
          0.21304703289830546,
          0.21043443113570814,
          0.20537943215003215,
          0.20279009546675772
         ]
        },
        {
         "hovertext": "<b>Topic 34</b>:동포_100_식당_사정관_의혹_임금_검찰_여사_입학_의료_수사",
         "line": {
          "color": "black",
          "width": 1.5
         },
         "mode": "lines+lines",
         "name": "",
         "opacity": 0.1,
         "type": "scatter",
         "x": [
          1,
          2,
          3,
          4,
          5,
          6,
          7,
          8,
          9,
          10,
          11,
          12,
          13,
          14,
          15,
          16,
          17,
          18,
          19,
          20
         ],
         "y": [
          0.26293918524375515,
          0.25937432950098294,
          0.21800291258491727,
          0.2159873716940658,
          0.21565253120619401,
          0.20392359188026246,
          0.19440357047128085,
          0.1909313584256921,
          0.18636962842672647,
          0.18555426857115234,
          0.17856043999810456,
          0.17751204511283256,
          0.1740569990682325,
          0.17077974445330818,
          0.1659667141399829,
          0.16492204980860004,
          0.16462395171637106,
          0.16385723144140163,
          0.16157034624140326,
          0.16141187432922882
         ]
        },
        {
         "hovertext": "<b>Topic 35</b>:남북_대남_nll_관계_한반도_북한_대북_담화_군사_제재_방역",
         "line": {
          "color": "black",
          "width": 1.5
         },
         "mode": "lines+lines",
         "name": "",
         "opacity": 0.1,
         "type": "scatter",
         "x": [
          1,
          2,
          3,
          4,
          5,
          6,
          7,
          8,
          9,
          10,
          11,
          12,
          13,
          14,
          15,
          16,
          17,
          18,
          19,
          20
         ],
         "y": [
          0.26078180733085204,
          0.23555142529159176,
          0.22866187654931502,
          0.22813004347057436,
          0.21887416470624474,
          0.21138834413610166,
          0.21035055166998698,
          0.2074885298274632,
          0.20639424928029362,
          0.20314555806488868,
          0.19890572774892054,
          0.19423022859135675,
          0.18945945998722458,
          0.1888960046291853,
          0.188754953989513,
          0.1879842472330804,
          0.186537843130921,
          0.18494447331653743,
          0.1844359497949369,
          0.181679877305073
         ]
        },
        {
         "hovertext": "<b>Topic 36</b>:바이오_지능_인공_인공지능_레이저_포스_유산균_벨트_ai_노조",
         "line": {
          "color": "black",
          "width": 1.5
         },
         "mode": "lines+lines",
         "name": "",
         "opacity": 0.1,
         "type": "scatter",
         "x": [
          1,
          2,
          3,
          4,
          5,
          6,
          7,
          8,
          9,
          10,
          11,
          12,
          13,
          14,
          15,
          16,
          17,
          18,
          19,
          20
         ],
         "y": [
          0.3007061713656416,
          0.29946481252506313,
          0.2991042246244046,
          0.29590616813250314,
          0.28216587832371776,
          0.27470648388403623,
          0.267473574048354,
          0.24237007916144063,
          0.24199847693351473,
          0.23497928069830068,
          0.23431834363730467,
          0.23058179518304023,
          0.2178603927758459,
          0.2176960999010736,
          0.21768413096215003,
          0.2160001666860567,
          0.21526267526837234,
          0.2147280949003277,
          0.21288460176916738,
          0.2086766620151481
         ]
        },
        {
         "hovertext": "<b>Topic 37</b>:검찰_수사_사법_금법_권위_행정_법원_법무부_조례_대법원_차별",
         "line": {
          "color": "black",
          "width": 1.5
         },
         "mode": "lines+lines",
         "name": "",
         "opacity": 0.1,
         "type": "scatter",
         "x": [
          1,
          2,
          3,
          4,
          5,
          6,
          7,
          8,
          9,
          10,
          11,
          12,
          13,
          14,
          15,
          16,
          17,
          18,
          19,
          20
         ],
         "y": [
          0.3736151679497826,
          0.31319301724722576,
          0.29954465587348045,
          0.2727398954315395,
          0.25287815322031426,
          0.24244606888001527,
          0.23060264229808122,
          0.23052827207489415,
          0.2303093417721304,
          0.22974458503849204,
          0.22870208546418308,
          0.2194175734969361,
          0.21125930773784338,
          0.2060355110632266,
          0.20502694684479053,
          0.20224696624811694,
          0.20008398987482728,
          0.19787050454407912,
          0.19702691344133094,
          0.19426075580083324
         ]
        },
        {
         "hovertext": "<b>Topic 38</b>:영화_상영_코드_영화제_dna_영상_지지_소수자_소설_문장_제",
         "line": {
          "color": "black",
          "width": 1.5
         },
         "mode": "lines+lines",
         "name": "",
         "opacity": 0.1,
         "type": "scatter",
         "x": [
          1,
          2,
          3,
          4,
          5,
          6,
          7,
          8,
          9,
          10,
          11,
          12,
          13,
          14,
          15,
          16,
          17,
          18,
          19,
          20
         ],
         "y": [
          0.603784789315519,
          0.4141324025868023,
          0.38297613415165255,
          0.36256823736880833,
          0.34823436951934256,
          0.3236981897132607,
          0.27920131284223665,
          0.2691461503156719,
          0.26866398182764406,
          0.259089463864083,
          0.24886353579535486,
          0.24668336496486143,
          0.23256728214422753,
          0.22827148609736042,
          0.22625099422916561,
          0.21796613887839117,
          0.21596431814148317,
          0.21468175658704802,
          0.21165848407894858,
          0.21045273343372112
         ]
        },
        {
         "hovertext": "<b>Topic 39</b>:80_대안_실업_전형_세계관_출신_카페_선진_진학_입시_하대_",
         "line": {
          "color": "black",
          "width": 1.5
         },
         "mode": "lines+lines",
         "name": "",
         "opacity": 0.1,
         "type": "scatter",
         "x": [
          1,
          2,
          3,
          4,
          5,
          6,
          7,
          8,
          9,
          10,
          11,
          12,
          13,
          14,
          15,
          16,
          17,
          18,
          19,
          20
         ],
         "y": [
          0.27781151753101563,
          0.23748236875325032,
          0.21557042959699366,
          0.2023117638188158,
          0.19631990316392728,
          0.19444480102904893,
          0.19348775553890335,
          0.19308282425884296,
          0.1866141722337889,
          0.1760824445385103,
          0.1748837074033148,
          0.17482489949018798,
          0.17276909935186097,
          0.1725945976936256,
          0.16968699457126415,
          0.16931218142257556,
          0.16812886689216552,
          0.16752664837993095,
          0.1671036671384079,
          0.16653504774392142
         ]
        },
        {
         "hovertext": "<b>Topic 40</b>:원자력_법률가_동해안_13_원전_클러스터_용서_기도회_지부_저",
         "line": {
          "color": "black",
          "width": 1.5
         },
         "mode": "lines+lines",
         "name": "",
         "opacity": 0.1,
         "type": "scatter",
         "x": [
          1,
          2,
          3,
          4,
          5,
          6,
          7,
          8,
          9,
          10,
          11,
          12,
          13,
          14,
          15,
          16,
          17,
          18,
          19,
          20
         ],
         "y": [
          0.3629278857956839,
          0.3270899435057257,
          0.3139331463459734,
          0.3038763939975068,
          0.2879154362475661,
          0.24504412055723818,
          0.23871633108563212,
          0.23204061563767825,
          0.23026913817253053,
          0.21733177635072862,
          0.2159898522202605,
          0.21553814366513926,
          0.20845054965730175,
          0.20532571838052094,
          0.20410897205256837,
          0.20295343428043108,
          0.1994177805322003,
          0.19609365904699783,
          0.19351557665731797,
          0.19141325600921397
         ]
        },
        {
         "hovertext": "<b>Topic 41</b>:채플_발인_소수자_공론_병원_외대_불안_강연회_비율_강좌_작품",
         "line": {
          "color": "black",
          "width": 1.5
         },
         "mode": "lines+lines",
         "name": "",
         "opacity": 0.1,
         "type": "scatter",
         "x": [
          1,
          2,
          3,
          4,
          5,
          6,
          7,
          8,
          9,
          10,
          11,
          12,
          13,
          14,
          15,
          16,
          17,
          18,
          19,
          20
         ],
         "y": [
          0.2525600473102373,
          0.24480582297749667,
          0.20509688752020644,
          0.20389672598796107,
          0.2016907855413695,
          0.19746545812681585,
          0.1955492309354471,
          0.19516746400005866,
          0.19036415097008355,
          0.18973422312813343,
          0.18481642614296803,
          0.1826978751427979,
          0.18103210310227977,
          0.17832905887966496,
          0.17692449251535836,
          0.17574859902288356,
          0.17514514992033436,
          0.17331382805898848,
          0.17210362942831495,
          0.1717718879261482
         ]
        },
        {
         "hovertext": "<b>Topic 42</b>:사무_처장_초교_사무총장_국장_교사_대표_노조_변호사_상임_참",
         "line": {
          "color": "black",
          "width": 1.5
         },
         "mode": "lines+lines",
         "name": "",
         "opacity": 0.1,
         "type": "scatter",
         "x": [
          1,
          2,
          3,
          4,
          5,
          6,
          7,
          8,
          9,
          10,
          11,
          12,
          13,
          14,
          15,
          16,
          17,
          18,
          19,
          20
         ],
         "y": [
          0.47764510846370234,
          0.34458983286846523,
          0.32043153561252774,
          0.3184611384175635,
          0.30958310782939136,
          0.2957009521316861,
          0.27446735746112444,
          0.26398187891974906,
          0.2614320783301524,
          0.25165023226338107,
          0.24971180402716542,
          0.2482072415539937,
          0.23760469129384373,
          0.23668263926490038,
          0.23074990301487014,
          0.2275960248701152,
          0.21121237243312319,
          0.20729180048921345,
          0.2040866421707217,
          0.2039871768895665
         ]
        },
        {
         "hovertext": "<b>Topic 43</b>:26_입국_특보_대담_투스_벨트_울릉군_베트남_여행_ccc_울",
         "line": {
          "color": "black",
          "width": 1.5
         },
         "mode": "lines+lines",
         "name": "",
         "opacity": 0.1,
         "type": "scatter",
         "x": [
          1,
          2,
          3,
          4,
          5,
          6,
          7,
          8,
          9,
          10,
          11,
          12,
          13,
          14,
          15,
          16,
          17,
          18,
          19,
          20
         ],
         "y": [
          0.3424388825332861,
          0.2881450120083193,
          0.28040660504769027,
          0.25095309451518527,
          0.2420962914994619,
          0.23657420909267873,
          0.23324847057934578,
          0.2323890000667877,
          0.22255882633397153,
          0.2117988758451995,
          0.21060773255797438,
          0.2090057041520079,
          0.2044027540604719,
          0.19749432186740035,
          0.1949084678643332,
          0.19351358257268825,
          0.19313958812613655,
          0.19211304561795287,
          0.18831790493368583,
          0.18809814764618968
         ]
        },
        {
         "hovertext": "<b>Topic 44</b>:무급_휴직_전단_반환_방미_기지_공공_인상_근로자_대북_입국_",
         "line": {
          "color": "black",
          "width": 1.5
         },
         "mode": "lines+lines",
         "name": "",
         "opacity": 0.1,
         "type": "scatter",
         "x": [
          1,
          2,
          3,
          4,
          5,
          6,
          7,
          8,
          9,
          10,
          11,
          12,
          13,
          14,
          15,
          16,
          17,
          18,
          19,
          20
         ],
         "y": [
          0.26102221708145507,
          0.25474146146113547,
          0.24412331298172735,
          0.23858484917454253,
          0.23826477569365523,
          0.22499395688019672,
          0.22092895268196022,
          0.21475584580439566,
          0.21382931093796145,
          0.21163848121369877,
          0.2022507318138452,
          0.1972314117366762,
          0.19570141576004993,
          0.19563024096373138,
          0.19345119598499222,
          0.19089094287647454,
          0.18594888481784233,
          0.18308527629715118,
          0.18261235373341364,
          0.1821218429758603
         ]
        },
        {
         "hovertext": "<b>Topic 45</b>:구절_200_시국_상자_명회_조국_사범_실용_인문_400_캠페",
         "line": {
          "color": "black",
          "width": 1.5
         },
         "mode": "lines+lines",
         "name": "",
         "opacity": 0.1,
         "type": "scatter",
         "x": [
          1,
          2,
          3,
          4,
          5,
          6,
          7,
          8,
          9,
          10,
          11,
          12,
          13,
          14,
          15,
          16,
          17,
          18,
          19,
          20
         ],
         "y": [
          0.28871602649442524,
          0.2845058889993446,
          0.24327143013968122,
          0.22254659578810132,
          0.21933014347541446,
          0.2165157922083942,
          0.21112622761406477,
          0.21025063482508588,
          0.2096273331889424,
          0.20900637164105676,
          0.20155348255219804,
          0.20132652306983626,
          0.1997013178510307,
          0.1988460240385288,
          0.19671083481847468,
          0.19271369434500688,
          0.18603518050714837,
          0.18320812758855498,
          0.18305337888726053,
          0.1812232042523887
         ]
        },
        {
         "hovertext": "<b>Topic 46</b>:샘플_광고_변증_스타_포스코_데이터_학습_선교사_모델_일상_제",
         "line": {
          "color": "black",
          "width": 1.5
         },
         "mode": "lines+lines",
         "name": "",
         "opacity": 0.1,
         "type": "scatter",
         "x": [
          1,
          2,
          3,
          4,
          5,
          6,
          7,
          8,
          9,
          10,
          11,
          12,
          13,
          14,
          15,
          16,
          17,
          18,
          19,
          20
         ],
         "y": [
          0.4961608915038589,
          0.3998031313045259,
          0.32412785900400204,
          0.28202781289648104,
          0.2783869325180483,
          0.23729136247036264,
          0.21344303028998438,
          0.21341835172055645,
          0.2109573779348383,
          0.20831487939651724,
          0.20378099170635178,
          0.1987719585920044,
          0.1975778690219526,
          0.19706614597148545,
          0.19501933836890736,
          0.19105608634185314,
          0.1885207539363232,
          0.1870414048654183,
          0.18420129868653837,
          0.18293823857275818
         ]
        },
        {
         "hovertext": "<b>Topic 47</b>:신대_충남_교대_원대_가톨릭_목포_여대_외대_주대_남대_단국_",
         "line": {
          "color": "black",
          "width": 1.5
         },
         "mode": "lines+lines",
         "name": "",
         "opacity": 0.1,
         "type": "scatter",
         "x": [
          1,
          2,
          3,
          4,
          5,
          6,
          7,
          8,
          9,
          10,
          11,
          12,
          13,
          14,
          15,
          16,
          17,
          18,
          19,
          20
         ],
         "y": [
          0.36741562087221163,
          0.3629425225010405,
          0.32666906334069445,
          0.3258075208715032,
          0.32370837295058763,
          0.3159869273432753,
          0.3106817428811006,
          0.30551579741344764,
          0.2999747413055565,
          0.2950266152451373,
          0.28318007564984815,
          0.28122274940005304,
          0.28074162216082726,
          0.2741676548978742,
          0.27248537116456784,
          0.27102059317758775,
          0.2706453139207799,
          0.27026824625702134,
          0.26910174513444296,
          0.2688300335497592
         ]
        },
        {
         "hovertext": "<b>Topic 48</b>:24_폭파_기숙사_에너지_폐기_옥수수_행복_제어_스마트_상임_",
         "line": {
          "color": "black",
          "width": 1.5
         },
         "mode": "lines+lines",
         "name": "",
         "opacity": 0.1,
         "type": "scatter",
         "x": [
          1,
          2,
          3,
          4,
          5,
          6,
          7,
          8,
          9,
          10,
          11,
          12,
          13,
          14,
          15,
          16,
          17,
          18,
          19,
          20
         ],
         "y": [
          0.3223682366206811,
          0.3139211869966139,
          0.25613903987469744,
          0.2484025769538774,
          0.2446435825896457,
          0.2353330366036347,
          0.23125673109450348,
          0.22883523299457806,
          0.2242158044337788,
          0.22398994823781343,
          0.2208179640797934,
          0.21391696670725716,
          0.20992147621144727,
          0.20530141524533338,
          0.2052003950141734,
          0.19941315654684322,
          0.19316173166748465,
          0.19311068069104056,
          0.19249591653792497,
          0.1907698887460813
         ]
        },
        {
         "hovertext": "<b>Topic 49</b>:23_주주_교차_법조_베트남_에너지_인공_분과_코로나_경력_임",
         "line": {
          "color": "black",
          "width": 1.5
         },
         "mode": "lines+lines",
         "name": "",
         "opacity": 0.1,
         "type": "scatter",
         "x": [
          1,
          2,
          3,
          4,
          5,
          6,
          7,
          8,
          9,
          10,
          11,
          12,
          13,
          14,
          15,
          16,
          17,
          18,
          19,
          20
         ],
         "y": [
          0.2768223863321292,
          0.2664399126656827,
          0.25296231541595976,
          0.2525812833448867,
          0.2338154407725884,
          0.23179515928960845,
          0.22810868168750012,
          0.21875027264954086,
          0.21868615459956808,
          0.20922543856550038,
          0.208254740409337,
          0.20255460849603896,
          0.1973127071960173,
          0.19463814399777538,
          0.19440931618866028,
          0.19256485994983855,
          0.18872990217102162,
          0.1865292955271576,
          0.18626844576529292,
          0.18508454369641558
         ]
        },
        {
         "hovertext": "<b>Topic 50</b>:sw_커닝_서해_유공자_직원_지열_정밀_100_익명_자격증_프",
         "line": {
          "color": "black",
          "width": 1.5
         },
         "mode": "lines+lines",
         "name": "",
         "opacity": 0.1,
         "type": "scatter",
         "x": [
          1,
          2,
          3,
          4,
          5,
          6,
          7,
          8,
          9,
          10,
          11,
          12,
          13,
          14,
          15,
          16,
          17,
          18,
          19,
          20
         ],
         "y": [
          0.344367398773157,
          0.2815567944818852,
          0.23298642153285026,
          0.2178838486056419,
          0.21551400617100464,
          0.20648837592726568,
          0.20646746398038762,
          0.20114863958564386,
          0.19943977091066273,
          0.19890472850549706,
          0.1942635093569108,
          0.19293580403533606,
          0.19089190844069337,
          0.1891733510927083,
          0.1889958994480138,
          0.18787052323464257,
          0.18578341452026392,
          0.18472490019402862,
          0.18335594095947413,
          0.18074537420946482
         ]
        },
        {
         "hovertext": "<b>Topic 51</b>:지수_부문_자궁_명성_증권_지속_공기업_사회학_점수_상승_기도",
         "line": {
          "color": "black",
          "width": 1.5
         },
         "mode": "lines+lines",
         "name": "",
         "opacity": 0.1,
         "type": "scatter",
         "x": [
          1,
          2,
          3,
          4,
          5,
          6,
          7,
          8,
          9,
          10,
          11,
          12,
          13,
          14,
          15,
          16,
          17,
          18,
          19,
          20
         ],
         "y": [
          0.48074044540420996,
          0.40105973417160656,
          0.3838880815203376,
          0.32920452919769305,
          0.32199801253996135,
          0.3122624460113417,
          0.30644520379516793,
          0.3045911263480261,
          0.29327803433566546,
          0.29090346864702027,
          0.2832190452494347,
          0.2655905928511266,
          0.2531419787268744,
          0.2480082110615322,
          0.245075133862949,
          0.2444365094458136,
          0.24198695525746658,
          0.23905226970958293,
          0.23324120160189477,
          0.2307335487773305
         ]
        },
        {
         "hovertext": "<b>Topic 52</b>:자전거_종로_가격_도로_전지_광역_주택_노인_2020_기숙사_",
         "line": {
          "color": "black",
          "width": 1.5
         },
         "mode": "lines+lines",
         "name": "",
         "opacity": 0.1,
         "type": "scatter",
         "x": [
          1,
          2,
          3,
          4,
          5,
          6,
          7,
          8,
          9,
          10,
          11,
          12,
          13,
          14,
          15,
          16,
          17,
          18,
          19,
          20
         ],
         "y": [
          0.5615005130019469,
          0.3546376613697839,
          0.2833600604681891,
          0.27937309085805856,
          0.2658973424370045,
          0.2628112063797115,
          0.26259202613118815,
          0.25611041224991354,
          0.252598434910333,
          0.2378059995310941,
          0.22651098710832876,
          0.2263470892801319,
          0.2261548224859264,
          0.20924968030853994,
          0.20554547857074218,
          0.2017954072329329,
          0.20158322752070928,
          0.19855203459998882,
          0.19705467843308747,
          0.19608153233455075
         ]
        },
        {
         "hovertext": "<b>Topic 53</b>:사정관_27_진로_독립운동_파크_입학_컨설팅_사학_정치범_진학",
         "line": {
          "color": "black",
          "width": 1.5
         },
         "mode": "lines+lines",
         "name": "",
         "opacity": 0.1,
         "type": "scatter",
         "x": [
          1,
          2,
          3,
          4,
          5,
          6,
          7,
          8,
          9,
          10,
          11,
          12,
          13,
          14,
          15,
          16,
          17,
          18,
          19,
          20
         ],
         "y": [
          0.3310537654927157,
          0.3266313385043612,
          0.28660451020688493,
          0.2817293920003168,
          0.27699781358342335,
          0.2566262655323068,
          0.25526418497812425,
          0.24837770548877156,
          0.24232274196394435,
          0.23987288165167697,
          0.23110891106975923,
          0.22991718736971617,
          0.21764020970999975,
          0.20936351153315177,
          0.20734111793168822,
          0.20669348477189298,
          0.2020233330300658,
          0.19528347322571066,
          0.19505677249732475,
          0.1946572679909519
         ]
        },
        {
         "hovertext": "<b>Topic 54</b>:고양이_길고양이_이승만_동물_tv_학대_박정희_마리_전쟁_경찰",
         "line": {
          "color": "black",
          "width": 1.5
         },
         "mode": "lines+lines",
         "name": "",
         "opacity": 0.1,
         "type": "scatter",
         "x": [
          1,
          2,
          3,
          4,
          5,
          6,
          7,
          8,
          9,
          10,
          11,
          12,
          13,
          14,
          15,
          16,
          17,
          18,
          19,
          20
         ],
         "y": [
          0.42584617982509326,
          0.4063977207252534,
          0.39744695605145236,
          0.3635361404198545,
          0.36291772385727183,
          0.3502179471363116,
          0.3155676734115747,
          0.2919796589687852,
          0.2813115001970613,
          0.27517705512794566,
          0.26741959837887613,
          0.2604572459731534,
          0.25642158840692963,
          0.24669552076908619,
          0.24368555357236613,
          0.23925112082819663,
          0.23687594162903963,
          0.2340798136696343,
          0.22543883006703122,
          0.22272206746506373
         ]
        },
        {
         "hovertext": "<b>Topic 55</b>:커닝_레이저_국적_판결_추방_판사_스쿨_양심_자질_사법부_용어",
         "line": {
          "color": "black",
          "width": 1.5
         },
         "mode": "lines+lines",
         "name": "",
         "opacity": 0.1,
         "type": "scatter",
         "x": [
          1,
          2,
          3,
          4,
          5,
          6,
          7,
          8,
          9,
          10,
          11,
          12,
          13,
          14,
          15,
          16,
          17,
          18,
          19,
          20
         ],
         "y": [
          0.3970668275829477,
          0.38798144413192565,
          0.36951394693148154,
          0.33224323047816307,
          0.32763655017311555,
          0.28255300783167125,
          0.2781257428773354,
          0.2617726311865575,
          0.24996684517706902,
          0.24857560720961547,
          0.24664978946319363,
          0.2419716198095645,
          0.23216867819362882,
          0.22875860674498624,
          0.21962855832565056,
          0.2184744482996669,
          0.21771831617767537,
          0.21463179970512136,
          0.20836384792106108,
          0.20717866409138314
         ]
        },
        {
         "hovertext": "<b>Topic 56</b>:14_차세대_세대_경연_어린이_복음_스타_발굴_그룹_다음_비중",
         "line": {
          "color": "black",
          "width": 1.5
         },
         "mode": "lines+lines",
         "name": "",
         "opacity": 0.1,
         "type": "scatter",
         "x": [
          1,
          2,
          3,
          4,
          5,
          6,
          7,
          8,
          9,
          10,
          11,
          12,
          13,
          14,
          15,
          16,
          17,
          18,
          19,
          20
         ],
         "y": [
          0.42596941270206634,
          0.33775080061172685,
          0.32492760103942486,
          0.29372816260685336,
          0.2875086156093874,
          0.28326309107843173,
          0.28235632531174665,
          0.26412311092686525,
          0.25821616042009893,
          0.2577378511319895,
          0.2562309184887309,
          0.25618952206476914,
          0.24950406630491878,
          0.24409372201145899,
          0.23940200544798756,
          0.2287292149643895,
          0.22781744304644305,
          0.22686412321589053,
          0.22431247291037013,
          0.222935093365567
         ]
        },
        {
         "hovertext": "<b>Topic 57</b>:인성_적성_면접_독자_구술_계열_추천자_전공_특기_인문_기준_",
         "line": {
          "color": "black",
          "width": 1.5
         },
         "mode": "lines+lines",
         "name": "",
         "opacity": 0.1,
         "type": "scatter",
         "x": [
          1,
          2,
          3,
          4,
          5,
          6,
          7,
          8,
          9,
          10,
          11,
          12,
          13,
          14,
          15,
          16,
          17,
          18,
          19,
          20
         ],
         "y": [
          0.3697677232278362,
          0.322016897189837,
          0.3217714055515962,
          0.30410099659559187,
          0.27394342867249155,
          0.2716479179449929,
          0.2664978764011355,
          0.2614705391610574,
          0.2548409601030742,
          0.23832215936779283,
          0.23820424790989722,
          0.23026432149676515,
          0.22757771914909702,
          0.22600957076805622,
          0.22580593258268672,
          0.2256400951438259,
          0.22331977515522208,
          0.21962932305496674,
          0.21793568157906867,
          0.21755007342147736
         ]
        },
        {
         "hovertext": "<b>Topic 58</b>:법정_구속_혐의_후보_징역_조국_장관_법무부_주미_선고_전용_",
         "line": {
          "color": "black",
          "width": 1.5
         },
         "mode": "lines+lines",
         "name": "",
         "opacity": 0.1,
         "type": "scatter",
         "x": [
          1,
          2,
          3,
          4,
          5,
          6,
          7,
          8,
          9,
          10,
          11,
          12,
          13,
          14,
          15,
          16,
          17,
          18,
          19,
          20
         ],
         "y": [
          0.40862097589196517,
          0.39430496270931814,
          0.3687677276075856,
          0.3575235023917392,
          0.3540227091189151,
          0.32608316469211707,
          0.3034897891027232,
          0.30193785266685247,
          0.30150584427471333,
          0.2990245003213725,
          0.2816547586139675,
          0.27892141129815956,
          0.27653318189530085,
          0.27348887398068955,
          0.2683768412662522,
          0.26794746077562714,
          0.2534304478298486,
          0.2394598903848616,
          0.2379068269656368,
          0.23310585951651006
         ]
        },
        {
         "hovertext": "<b>Topic 59</b>:sma_무급_분담금_방위비_휴직_타결_근로자_미군_주한_분담_",
         "line": {
          "color": "black",
          "width": 1.5
         },
         "mode": "lines+lines",
         "name": "",
         "opacity": 0.1,
         "type": "scatter",
         "x": [
          1,
          2,
          3,
          4,
          5,
          6,
          7,
          8,
          9,
          10,
          11,
          12,
          13,
          14,
          15,
          16,
          17,
          18,
          19,
          20
         ],
         "y": [
          0.5941747423342304,
          0.5112524667688896,
          0.5030867510039467,
          0.5023954451162589,
          0.4989506334615013,
          0.45850475421492887,
          0.4445254984321022,
          0.4244913835139633,
          0.4153067931290725,
          0.3740003461536424,
          0.3676312024797186,
          0.3612418627633774,
          0.3380007236916717,
          0.33707866735273534,
          0.3243130513296011,
          0.3190654404327002,
          0.31789426946834526,
          0.3162828682693074,
          0.3141053915225522,
          0.30691272370318795
         ]
        },
        {
         "hovertext": "<b>Topic 60</b>:인상_구매_방위비_파병_정당_분담금_통과_법안_투표_13_행정",
         "line": {
          "color": "black",
          "width": 1.5
         },
         "mode": "lines+lines",
         "name": "",
         "opacity": 0.1,
         "type": "scatter",
         "x": [
          1,
          2,
          3,
          4,
          5,
          6,
          7,
          8,
          9,
          10,
          11,
          12,
          13,
          14,
          15,
          16,
          17,
          18,
          19,
          20
         ],
         "y": [
          0.38520234536525333,
          0.3838262541243733,
          0.34514346822757136,
          0.3356615956812983,
          0.32463332672813733,
          0.3160844232669035,
          0.2879615154852391,
          0.28769884130825935,
          0.2861779164919186,
          0.28565247044344144,
          0.27386413197784737,
          0.27318241935864096,
          0.27184847898412573,
          0.26927403395919514,
          0.26924379249666847,
          0.26073339733622825,
          0.2606717219201729,
          0.25893558393637167,
          0.25338100093349325,
          0.25229447355069956
         ]
        },
        {
         "hovertext": "<b>Topic 61</b>:총장_신학_학번_61_59_사모_순환_출신_설립자_하원_신대_",
         "line": {
          "color": "black",
          "width": 1.5
         },
         "mode": "lines+lines",
         "name": "",
         "opacity": 0.1,
         "type": "scatter",
         "x": [
          1,
          2,
          3,
          4,
          5,
          6,
          7,
          8,
          9,
          10,
          11,
          12,
          13,
          14,
          15,
          16,
          17,
          18,
          19,
          20
         ],
         "y": [
          0.4205623800353882,
          0.3974320119562712,
          0.3928079676075725,
          0.3538234242681086,
          0.35215600257721896,
          0.34588537513712203,
          0.3444083025130453,
          0.3351447058170438,
          0.3342909104955495,
          0.3300623563206727,
          0.3144199503591619,
          0.3104526608482577,
          0.31020172962516457,
          0.30585131112546865,
          0.3042677433603422,
          0.29400625160059113,
          0.2868644193351059,
          0.2824075349417602,
          0.28083627427275226,
          0.27610900173149006
         ]
        },
        {
         "hovertext": "<b>Topic 62</b>:검정고시_주식_전년_학년도_학업_우울증_연습_중단_용역_하우스",
         "line": {
          "color": "black",
          "width": 1.5
         },
         "mode": "lines+lines",
         "name": "",
         "opacity": 0.1,
         "type": "scatter",
         "x": [
          1,
          2,
          3,
          4,
          5,
          6,
          7,
          8,
          9,
          10,
          11,
          12,
          13,
          14,
          15,
          16,
          17,
          18,
          19,
          20
         ],
         "y": [
          0.466632997918929,
          0.41177463618657273,
          0.3895994210694424,
          0.37742028983395737,
          0.37604786030656423,
          0.3515608697456979,
          0.3207557863375491,
          0.31218302293677685,
          0.30747092817160204,
          0.3015181517223031,
          0.2964982069247504,
          0.29441579054929157,
          0.29157717091512086,
          0.2837919910075639,
          0.27177947610655356,
          0.2675791339970023,
          0.26713282024958745,
          0.255253642670248,
          0.25196697277718355,
          0.2486016375720227
         ]
        },
        {
         "hovertext": "<b>Topic 63</b>:지선_전신_사고_모교_화상_이지선_55_치료_운전자_수술_재활",
         "line": {
          "color": "black",
          "width": 1.5
         },
         "mode": "lines+lines",
         "name": "",
         "opacity": 0.1,
         "type": "scatter",
         "x": [
          1,
          2,
          3,
          4,
          5,
          6,
          7,
          8,
          9,
          10,
          11,
          12,
          13,
          14,
          15,
          16,
          17,
          18,
          19,
          20
         ],
         "y": [
          0.5732542626729924,
          0.5423350898870888,
          0.5421572384569365,
          0.5082014286447752,
          0.507960414156503,
          0.4872250760160593,
          0.4380109697859895,
          0.42132924879631956,
          0.42061328634570033,
          0.41952857616842554,
          0.40733261623962086,
          0.3845083743761558,
          0.3640213581597566,
          0.3529221296455661,
          0.3474038768040256,
          0.341325535335457,
          0.339457479140884,
          0.3369960707589835,
          0.3273155921344712,
          0.32574159760875293
         ]
        },
        {
         "hovertext": "<b>Topic 64</b>:사학_석사_학사_31_역임_도박_친서_박사_역사_학회_포스코_",
         "line": {
          "color": "black",
          "width": 1.5
         },
         "mode": "lines+lines",
         "name": "",
         "opacity": 0.1,
         "type": "scatter",
         "x": [
          1,
          2,
          3,
          4,
          5,
          6,
          7,
          8,
          9,
          10,
          11,
          12,
          13,
          14,
          15,
          16,
          17,
          18,
          19,
          20
         ],
         "y": [
          0.4185197833274987,
          0.4076690992379825,
          0.3855352455103741,
          0.37344152958169674,
          0.35818961984775305,
          0.30156111220577575,
          0.2724948914689084,
          0.2713030726640355,
          0.25021431576722786,
          0.24578417643215392,
          0.2416015584360124,
          0.22662064608473584,
          0.22618508624995812,
          0.2239382502439452,
          0.2227558487990495,
          0.22149620081119353,
          0.21917191969098274,
          0.21898065894667945,
          0.21363822721199532,
          0.2128508171812242
         ]
        },
        {
         "hovertext": "<b>Topic 65</b>:통치_중립_주립_주임_일자리_편입_글로벌_가스_도청_도시_동성",
         "line": {
          "color": "black",
          "width": 1.5
         },
         "mode": "lines+lines",
         "name": "",
         "opacity": 0.1,
         "type": "scatter",
         "x": [
          1,
          2,
          3,
          4,
          5,
          6,
          7,
          8,
          9,
          10,
          11,
          12,
          13,
          14,
          15,
          16,
          17,
          18,
          19,
          20
         ],
         "y": [
          0.36022117473235554,
          0.34439716277228366,
          0.3374287397933337,
          0.3248818147374555,
          0.31953009335096766,
          0.29311210751296696,
          0.26921416526519754,
          0.2644735395723447,
          0.26388348428593866,
          0.26144508850666337,
          0.26093554129682645,
          0.2569537951073979,
          0.25052174201054117,
          0.24507449579225393,
          0.2447161512618103,
          0.24286653566598074,
          0.24005052257703782,
          0.23995824525434445,
          0.2374840361286237,
          0.23555049371485573
         ]
        },
        {
         "hovertext": "<b>Topic 66</b>:대학교_내진_합격자_서명_75_시국_등록금_반값_지진_등록_사",
         "line": {
          "color": "black",
          "width": 1.5
         },
         "mode": "lines+lines",
         "name": "",
         "opacity": 0.1,
         "type": "scatter",
         "x": [
          1,
          2,
          3,
          4,
          5,
          6,
          7,
          8,
          9,
          10,
          11,
          12,
          13,
          14,
          15,
          16,
          17,
          18,
          19,
          20
         ],
         "y": [
          0.6386901489674411,
          0.3391448955462049,
          0.2945436062668243,
          0.28759609929334284,
          0.28423460356825997,
          0.2681417913070214,
          0.2651940498647006,
          0.25430878081478436,
          0.24950222411596662,
          0.23746442641569948,
          0.2365091208399586,
          0.22640337627568627,
          0.22217272791337833,
          0.21692830971248306,
          0.21240737907237864,
          0.21177268303297586,
          0.20867171042383226,
          0.20698915247048766,
          0.20366581638286754,
          0.20342972633292816
         ]
        },
        {
         "hovertext": "<b>Topic 67</b>:싱가포르_하노이_실무_협상_영변_선언_국무_회담_종전_판문점_",
         "line": {
          "color": "black",
          "width": 1.5
         },
         "mode": "lines+lines",
         "name": "",
         "opacity": 0.1,
         "type": "scatter",
         "x": [
          1,
          2,
          3,
          4,
          5,
          6,
          7,
          8,
          9,
          10,
          11,
          12,
          13,
          14,
          15,
          16,
          17,
          18,
          19,
          20
         ],
         "y": [
          0.3633924030297941,
          0.33968331407673635,
          0.3100578073726625,
          0.2999625962298122,
          0.29946523141074927,
          0.29848726641258305,
          0.2890093025720856,
          0.2744361463087333,
          0.2682045999517267,
          0.26712832438166606,
          0.26486934017885433,
          0.2648289254964243,
          0.2605774098928019,
          0.25659137654875375,
          0.252926984382147,
          0.24273563267892795,
          0.23298513045840136,
          0.2301004027908456,
          0.22949428438306452,
          0.22731643056481649
         ]
        }
       ],
       "layout": {
        "height": 500,
        "hoverlabel": {
         "bgcolor": "white",
         "font": {
          "family": "Rockwell",
          "size": 16
         }
        },
        "showlegend": false,
        "template": {
         "data": {
          "bar": [
           {
            "error_x": {
             "color": "#2a3f5f"
            },
            "error_y": {
             "color": "#2a3f5f"
            },
            "marker": {
             "line": {
              "color": "white",
              "width": 0.5
             },
             "pattern": {
              "fillmode": "overlay",
              "size": 10,
              "solidity": 0.2
             }
            },
            "type": "bar"
           }
          ],
          "barpolar": [
           {
            "marker": {
             "line": {
              "color": "white",
              "width": 0.5
             },
             "pattern": {
              "fillmode": "overlay",
              "size": 10,
              "solidity": 0.2
             }
            },
            "type": "barpolar"
           }
          ],
          "carpet": [
           {
            "aaxis": {
             "endlinecolor": "#2a3f5f",
             "gridcolor": "#C8D4E3",
             "linecolor": "#C8D4E3",
             "minorgridcolor": "#C8D4E3",
             "startlinecolor": "#2a3f5f"
            },
            "baxis": {
             "endlinecolor": "#2a3f5f",
             "gridcolor": "#C8D4E3",
             "linecolor": "#C8D4E3",
             "minorgridcolor": "#C8D4E3",
             "startlinecolor": "#2a3f5f"
            },
            "type": "carpet"
           }
          ],
          "choropleth": [
           {
            "colorbar": {
             "outlinewidth": 0,
             "ticks": ""
            },
            "type": "choropleth"
           }
          ],
          "contour": [
           {
            "colorbar": {
             "outlinewidth": 0,
             "ticks": ""
            },
            "colorscale": [
             [
              0,
              "#0d0887"
             ],
             [
              0.1111111111111111,
              "#46039f"
             ],
             [
              0.2222222222222222,
              "#7201a8"
             ],
             [
              0.3333333333333333,
              "#9c179e"
             ],
             [
              0.4444444444444444,
              "#bd3786"
             ],
             [
              0.5555555555555556,
              "#d8576b"
             ],
             [
              0.6666666666666666,
              "#ed7953"
             ],
             [
              0.7777777777777778,
              "#fb9f3a"
             ],
             [
              0.8888888888888888,
              "#fdca26"
             ],
             [
              1,
              "#f0f921"
             ]
            ],
            "type": "contour"
           }
          ],
          "contourcarpet": [
           {
            "colorbar": {
             "outlinewidth": 0,
             "ticks": ""
            },
            "type": "contourcarpet"
           }
          ],
          "heatmap": [
           {
            "colorbar": {
             "outlinewidth": 0,
             "ticks": ""
            },
            "colorscale": [
             [
              0,
              "#0d0887"
             ],
             [
              0.1111111111111111,
              "#46039f"
             ],
             [
              0.2222222222222222,
              "#7201a8"
             ],
             [
              0.3333333333333333,
              "#9c179e"
             ],
             [
              0.4444444444444444,
              "#bd3786"
             ],
             [
              0.5555555555555556,
              "#d8576b"
             ],
             [
              0.6666666666666666,
              "#ed7953"
             ],
             [
              0.7777777777777778,
              "#fb9f3a"
             ],
             [
              0.8888888888888888,
              "#fdca26"
             ],
             [
              1,
              "#f0f921"
             ]
            ],
            "type": "heatmap"
           }
          ],
          "heatmapgl": [
           {
            "colorbar": {
             "outlinewidth": 0,
             "ticks": ""
            },
            "colorscale": [
             [
              0,
              "#0d0887"
             ],
             [
              0.1111111111111111,
              "#46039f"
             ],
             [
              0.2222222222222222,
              "#7201a8"
             ],
             [
              0.3333333333333333,
              "#9c179e"
             ],
             [
              0.4444444444444444,
              "#bd3786"
             ],
             [
              0.5555555555555556,
              "#d8576b"
             ],
             [
              0.6666666666666666,
              "#ed7953"
             ],
             [
              0.7777777777777778,
              "#fb9f3a"
             ],
             [
              0.8888888888888888,
              "#fdca26"
             ],
             [
              1,
              "#f0f921"
             ]
            ],
            "type": "heatmapgl"
           }
          ],
          "histogram": [
           {
            "marker": {
             "pattern": {
              "fillmode": "overlay",
              "size": 10,
              "solidity": 0.2
             }
            },
            "type": "histogram"
           }
          ],
          "histogram2d": [
           {
            "colorbar": {
             "outlinewidth": 0,
             "ticks": ""
            },
            "colorscale": [
             [
              0,
              "#0d0887"
             ],
             [
              0.1111111111111111,
              "#46039f"
             ],
             [
              0.2222222222222222,
              "#7201a8"
             ],
             [
              0.3333333333333333,
              "#9c179e"
             ],
             [
              0.4444444444444444,
              "#bd3786"
             ],
             [
              0.5555555555555556,
              "#d8576b"
             ],
             [
              0.6666666666666666,
              "#ed7953"
             ],
             [
              0.7777777777777778,
              "#fb9f3a"
             ],
             [
              0.8888888888888888,
              "#fdca26"
             ],
             [
              1,
              "#f0f921"
             ]
            ],
            "type": "histogram2d"
           }
          ],
          "histogram2dcontour": [
           {
            "colorbar": {
             "outlinewidth": 0,
             "ticks": ""
            },
            "colorscale": [
             [
              0,
              "#0d0887"
             ],
             [
              0.1111111111111111,
              "#46039f"
             ],
             [
              0.2222222222222222,
              "#7201a8"
             ],
             [
              0.3333333333333333,
              "#9c179e"
             ],
             [
              0.4444444444444444,
              "#bd3786"
             ],
             [
              0.5555555555555556,
              "#d8576b"
             ],
             [
              0.6666666666666666,
              "#ed7953"
             ],
             [
              0.7777777777777778,
              "#fb9f3a"
             ],
             [
              0.8888888888888888,
              "#fdca26"
             ],
             [
              1,
              "#f0f921"
             ]
            ],
            "type": "histogram2dcontour"
           }
          ],
          "mesh3d": [
           {
            "colorbar": {
             "outlinewidth": 0,
             "ticks": ""
            },
            "type": "mesh3d"
           }
          ],
          "parcoords": [
           {
            "line": {
             "colorbar": {
              "outlinewidth": 0,
              "ticks": ""
             }
            },
            "type": "parcoords"
           }
          ],
          "pie": [
           {
            "automargin": true,
            "type": "pie"
           }
          ],
          "scatter": [
           {
            "fillpattern": {
             "fillmode": "overlay",
             "size": 10,
             "solidity": 0.2
            },
            "type": "scatter"
           }
          ],
          "scatter3d": [
           {
            "line": {
             "colorbar": {
              "outlinewidth": 0,
              "ticks": ""
             }
            },
            "marker": {
             "colorbar": {
              "outlinewidth": 0,
              "ticks": ""
             }
            },
            "type": "scatter3d"
           }
          ],
          "scattercarpet": [
           {
            "marker": {
             "colorbar": {
              "outlinewidth": 0,
              "ticks": ""
             }
            },
            "type": "scattercarpet"
           }
          ],
          "scattergeo": [
           {
            "marker": {
             "colorbar": {
              "outlinewidth": 0,
              "ticks": ""
             }
            },
            "type": "scattergeo"
           }
          ],
          "scattergl": [
           {
            "marker": {
             "colorbar": {
              "outlinewidth": 0,
              "ticks": ""
             }
            },
            "type": "scattergl"
           }
          ],
          "scattermapbox": [
           {
            "marker": {
             "colorbar": {
              "outlinewidth": 0,
              "ticks": ""
             }
            },
            "type": "scattermapbox"
           }
          ],
          "scatterpolar": [
           {
            "marker": {
             "colorbar": {
              "outlinewidth": 0,
              "ticks": ""
             }
            },
            "type": "scatterpolar"
           }
          ],
          "scatterpolargl": [
           {
            "marker": {
             "colorbar": {
              "outlinewidth": 0,
              "ticks": ""
             }
            },
            "type": "scatterpolargl"
           }
          ],
          "scatterternary": [
           {
            "marker": {
             "colorbar": {
              "outlinewidth": 0,
              "ticks": ""
             }
            },
            "type": "scatterternary"
           }
          ],
          "surface": [
           {
            "colorbar": {
             "outlinewidth": 0,
             "ticks": ""
            },
            "colorscale": [
             [
              0,
              "#0d0887"
             ],
             [
              0.1111111111111111,
              "#46039f"
             ],
             [
              0.2222222222222222,
              "#7201a8"
             ],
             [
              0.3333333333333333,
              "#9c179e"
             ],
             [
              0.4444444444444444,
              "#bd3786"
             ],
             [
              0.5555555555555556,
              "#d8576b"
             ],
             [
              0.6666666666666666,
              "#ed7953"
             ],
             [
              0.7777777777777778,
              "#fb9f3a"
             ],
             [
              0.8888888888888888,
              "#fdca26"
             ],
             [
              1,
              "#f0f921"
             ]
            ],
            "type": "surface"
           }
          ],
          "table": [
           {
            "cells": {
             "fill": {
              "color": "#EBF0F8"
             },
             "line": {
              "color": "white"
             }
            },
            "header": {
             "fill": {
              "color": "#C8D4E3"
             },
             "line": {
              "color": "white"
             }
            },
            "type": "table"
           }
          ]
         },
         "layout": {
          "annotationdefaults": {
           "arrowcolor": "#2a3f5f",
           "arrowhead": 0,
           "arrowwidth": 1
          },
          "autotypenumbers": "strict",
          "coloraxis": {
           "colorbar": {
            "outlinewidth": 0,
            "ticks": ""
           }
          },
          "colorscale": {
           "diverging": [
            [
             0,
             "#8e0152"
            ],
            [
             0.1,
             "#c51b7d"
            ],
            [
             0.2,
             "#de77ae"
            ],
            [
             0.3,
             "#f1b6da"
            ],
            [
             0.4,
             "#fde0ef"
            ],
            [
             0.5,
             "#f7f7f7"
            ],
            [
             0.6,
             "#e6f5d0"
            ],
            [
             0.7,
             "#b8e186"
            ],
            [
             0.8,
             "#7fbc41"
            ],
            [
             0.9,
             "#4d9221"
            ],
            [
             1,
             "#276419"
            ]
           ],
           "sequential": [
            [
             0,
             "#0d0887"
            ],
            [
             0.1111111111111111,
             "#46039f"
            ],
            [
             0.2222222222222222,
             "#7201a8"
            ],
            [
             0.3333333333333333,
             "#9c179e"
            ],
            [
             0.4444444444444444,
             "#bd3786"
            ],
            [
             0.5555555555555556,
             "#d8576b"
            ],
            [
             0.6666666666666666,
             "#ed7953"
            ],
            [
             0.7777777777777778,
             "#fb9f3a"
            ],
            [
             0.8888888888888888,
             "#fdca26"
            ],
            [
             1,
             "#f0f921"
            ]
           ],
           "sequentialminus": [
            [
             0,
             "#0d0887"
            ],
            [
             0.1111111111111111,
             "#46039f"
            ],
            [
             0.2222222222222222,
             "#7201a8"
            ],
            [
             0.3333333333333333,
             "#9c179e"
            ],
            [
             0.4444444444444444,
             "#bd3786"
            ],
            [
             0.5555555555555556,
             "#d8576b"
            ],
            [
             0.6666666666666666,
             "#ed7953"
            ],
            [
             0.7777777777777778,
             "#fb9f3a"
            ],
            [
             0.8888888888888888,
             "#fdca26"
            ],
            [
             1,
             "#f0f921"
            ]
           ]
          },
          "colorway": [
           "#636efa",
           "#EF553B",
           "#00cc96",
           "#ab63fa",
           "#FFA15A",
           "#19d3f3",
           "#FF6692",
           "#B6E880",
           "#FF97FF",
           "#FECB52"
          ],
          "font": {
           "color": "#2a3f5f"
          },
          "geo": {
           "bgcolor": "white",
           "lakecolor": "white",
           "landcolor": "white",
           "showlakes": true,
           "showland": true,
           "subunitcolor": "#C8D4E3"
          },
          "hoverlabel": {
           "align": "left"
          },
          "hovermode": "closest",
          "mapbox": {
           "style": "light"
          },
          "paper_bgcolor": "white",
          "plot_bgcolor": "white",
          "polar": {
           "angularaxis": {
            "gridcolor": "#EBF0F8",
            "linecolor": "#EBF0F8",
            "ticks": ""
           },
           "bgcolor": "white",
           "radialaxis": {
            "gridcolor": "#EBF0F8",
            "linecolor": "#EBF0F8",
            "ticks": ""
           }
          },
          "scene": {
           "xaxis": {
            "backgroundcolor": "white",
            "gridcolor": "#DFE8F3",
            "gridwidth": 2,
            "linecolor": "#EBF0F8",
            "showbackground": true,
            "ticks": "",
            "zerolinecolor": "#EBF0F8"
           },
           "yaxis": {
            "backgroundcolor": "white",
            "gridcolor": "#DFE8F3",
            "gridwidth": 2,
            "linecolor": "#EBF0F8",
            "showbackground": true,
            "ticks": "",
            "zerolinecolor": "#EBF0F8"
           },
           "zaxis": {
            "backgroundcolor": "white",
            "gridcolor": "#DFE8F3",
            "gridwidth": 2,
            "linecolor": "#EBF0F8",
            "showbackground": true,
            "ticks": "",
            "zerolinecolor": "#EBF0F8"
           }
          },
          "shapedefaults": {
           "line": {
            "color": "#2a3f5f"
           }
          },
          "ternary": {
           "aaxis": {
            "gridcolor": "#DFE8F3",
            "linecolor": "#A2B1C6",
            "ticks": ""
           },
           "baxis": {
            "gridcolor": "#DFE8F3",
            "linecolor": "#A2B1C6",
            "ticks": ""
           },
           "bgcolor": "white",
           "caxis": {
            "gridcolor": "#DFE8F3",
            "linecolor": "#A2B1C6",
            "ticks": ""
           }
          },
          "title": {
           "x": 0.05
          },
          "xaxis": {
           "automargin": true,
           "gridcolor": "#EBF0F8",
           "linecolor": "#EBF0F8",
           "ticks": "",
           "title": {
            "standoff": 15
           },
           "zerolinecolor": "#EBF0F8",
           "zerolinewidth": 2
          },
          "yaxis": {
           "automargin": true,
           "gridcolor": "#EBF0F8",
           "linecolor": "#EBF0F8",
           "ticks": "",
           "title": {
            "standoff": 15
           },
           "zerolinecolor": "#EBF0F8",
           "zerolinewidth": 2
          }
         }
        },
        "title": {
         "font": {
          "color": "Black",
          "size": 22
         },
         "text": "<b>Term score decline per Topic</b>",
         "x": 0.5,
         "xanchor": "center",
         "y": 0.9,
         "yanchor": "top"
        },
        "width": 800,
        "xaxis": {
         "dtick": 2,
         "range": [
          0,
          20
         ],
         "tick0": 1,
         "title": {
          "text": "Term Rank"
         }
        },
        "yaxis": {
         "title": {
          "text": "c-TF-IDF score"
         }
        }
       }
      }
     },
     "metadata": {},
     "output_type": "display_data"
    }
   ],
   "source": [
    "# To visualize the Term score per topic \n",
    "rank_vis = topic_model.visualize_term_rank()\n",
    "rank_vis"
   ]
  },
  {
   "cell_type": "code",
   "execution_count": 13,
   "metadata": {},
   "outputs": [
    {
     "name": "stderr",
     "output_type": "stream",
     "text": [
      "30it [00:05,  5.66it/s]\n"
     ]
    }
   ],
   "source": [
    "# get the ToT result\n",
    "topics_over_time = topic_model.topics_over_time(words, timestamp)"
   ]
  },
  {
   "cell_type": "code",
   "execution_count": 14,
   "metadata": {},
   "outputs": [
    {
     "data": {
      "text/html": [
       "<div>\n",
       "<style scoped>\n",
       "    .dataframe tbody tr th:only-of-type {\n",
       "        vertical-align: middle;\n",
       "    }\n",
       "\n",
       "    .dataframe tbody tr th {\n",
       "        vertical-align: top;\n",
       "    }\n",
       "\n",
       "    .dataframe thead th {\n",
       "        text-align: right;\n",
       "    }\n",
       "</style>\n",
       "<table border=\"1\" class=\"dataframe\">\n",
       "  <thead>\n",
       "    <tr style=\"text-align: right;\">\n",
       "      <th></th>\n",
       "      <th>Topic</th>\n",
       "      <th>Words</th>\n",
       "      <th>Frequency</th>\n",
       "      <th>Timestamp</th>\n",
       "    </tr>\n",
       "  </thead>\n",
       "  <tbody>\n",
       "    <tr>\n",
       "      <th>0</th>\n",
       "      <td>-1</td>\n",
       "      <td>경쟁, 본고사, 학과, 입시, 마감</td>\n",
       "      <td>53</td>\n",
       "      <td>1995</td>\n",
       "    </tr>\n",
       "    <tr>\n",
       "      <th>1</th>\n",
       "      <td>0</td>\n",
       "      <td>본고사, 특차, 미달, 과목, 정원</td>\n",
       "      <td>6</td>\n",
       "      <td>1995</td>\n",
       "    </tr>\n",
       "    <tr>\n",
       "      <th>2</th>\n",
       "      <td>1</td>\n",
       "      <td>창조, 윤리, 박사, 수준, 지식</td>\n",
       "      <td>3</td>\n",
       "      <td>1995</td>\n",
       "    </tr>\n",
       "    <tr>\n",
       "      <th>3</th>\n",
       "      <td>2</td>\n",
       "      <td>선린, 실력, 설립, 과학자, 대학가</td>\n",
       "      <td>4</td>\n",
       "      <td>1995</td>\n",
       "    </tr>\n",
       "    <tr>\n",
       "      <th>4</th>\n",
       "      <td>3</td>\n",
       "      <td>동성애자, 동성애, 본고사, 순결, 특차</td>\n",
       "      <td>4</td>\n",
       "      <td>1995</td>\n",
       "    </tr>\n",
       "    <tr>\n",
       "      <th>5</th>\n",
       "      <td>4</td>\n",
       "      <td>학점, 장벽, 은행, 교육, 기관</td>\n",
       "      <td>2</td>\n",
       "      <td>1995</td>\n",
       "    </tr>\n",
       "    <tr>\n",
       "      <th>6</th>\n",
       "      <td>5</td>\n",
       "      <td>내신, 배정, 응시, 거주, 전문대</td>\n",
       "      <td>1</td>\n",
       "      <td>1995</td>\n",
       "    </tr>\n",
       "    <tr>\n",
       "      <th>7</th>\n",
       "      <td>6</td>\n",
       "      <td>순결, 대학가, 개방, 가치관, 공론</td>\n",
       "      <td>1</td>\n",
       "      <td>1995</td>\n",
       "    </tr>\n",
       "    <tr>\n",
       "      <th>8</th>\n",
       "      <td>8</td>\n",
       "      <td>대사관, 환영, 참석자, 한국과학기술원, 주최</td>\n",
       "      <td>1</td>\n",
       "      <td>1995</td>\n",
       "    </tr>\n",
       "    <tr>\n",
       "      <th>9</th>\n",
       "      <td>10</td>\n",
       "      <td>제한, 25, 명문, 표방, 상위</td>\n",
       "      <td>6</td>\n",
       "      <td>1995</td>\n",
       "    </tr>\n",
       "    <tr>\n",
       "      <th>10</th>\n",
       "      <td>13</td>\n",
       "      <td>전원, 특차, 구분, 공학부, 전기</td>\n",
       "      <td>1</td>\n",
       "      <td>1995</td>\n",
       "    </tr>\n",
       "    <tr>\n",
       "      <th>11</th>\n",
       "      <td>15</td>\n",
       "      <td>청소년, 여름, 수련, 책임자, 예수전도단</td>\n",
       "      <td>1</td>\n",
       "      <td>1995</td>\n",
       "    </tr>\n",
       "    <tr>\n",
       "      <th>12</th>\n",
       "      <td>16</td>\n",
       "      <td>농어촌, 특차, 12, 여대, 57</td>\n",
       "      <td>2</td>\n",
       "      <td>1995</td>\n",
       "    </tr>\n",
       "    <tr>\n",
       "      <th>13</th>\n",
       "      <td>19</td>\n",
       "      <td>특강, 유학, 수련, 컴퓨터, 전교</td>\n",
       "      <td>2</td>\n",
       "      <td>1995</td>\n",
       "    </tr>\n",
       "    <tr>\n",
       "      <th>14</th>\n",
       "      <td>20</td>\n",
       "      <td>만점, 18, 19, 영문, 수석</td>\n",
       "      <td>2</td>\n",
       "      <td>1995</td>\n",
       "    </tr>\n",
       "    <tr>\n",
       "      <th>15</th>\n",
       "      <td>21</td>\n",
       "      <td>학습, 과목, 토플, 보급, 학점</td>\n",
       "      <td>3</td>\n",
       "      <td>1995</td>\n",
       "    </tr>\n",
       "    <tr>\n",
       "      <th>16</th>\n",
       "      <td>22</td>\n",
       "      <td>하위, 학과, 특차, 자격, 경쟁</td>\n",
       "      <td>3</td>\n",
       "      <td>1995</td>\n",
       "    </tr>\n",
       "    <tr>\n",
       "      <th>17</th>\n",
       "      <td>24</td>\n",
       "      <td>증원, 학과, 정원, 입시, 눈치</td>\n",
       "      <td>2</td>\n",
       "      <td>1995</td>\n",
       "    </tr>\n",
       "    <tr>\n",
       "      <th>18</th>\n",
       "      <td>27</td>\n",
       "      <td>응시, 합격자, 수석, 이념, 컴퓨터</td>\n",
       "      <td>2</td>\n",
       "      <td>1995</td>\n",
       "    </tr>\n",
       "    <tr>\n",
       "      <th>19</th>\n",
       "      <td>28</td>\n",
       "      <td>본고사, 실기, 지원자, 나머지, 전기</td>\n",
       "      <td>1</td>\n",
       "      <td>1995</td>\n",
       "    </tr>\n",
       "  </tbody>\n",
       "</table>\n",
       "</div>"
      ],
      "text/plain": [
       "    Topic                      Words  Frequency  Timestamp\n",
       "0      -1        경쟁, 본고사, 학과, 입시, 마감         53       1995\n",
       "1       0        본고사, 특차, 미달, 과목, 정원          6       1995\n",
       "2       1         창조, 윤리, 박사, 수준, 지식          3       1995\n",
       "3       2       선린, 실력, 설립, 과학자, 대학가          4       1995\n",
       "4       3     동성애자, 동성애, 본고사, 순결, 특차          4       1995\n",
       "5       4         학점, 장벽, 은행, 교육, 기관          2       1995\n",
       "6       5        내신, 배정, 응시, 거주, 전문대          1       1995\n",
       "7       6       순결, 대학가, 개방, 가치관, 공론          1       1995\n",
       "8       8  대사관, 환영, 참석자, 한국과학기술원, 주최          1       1995\n",
       "9      10         제한, 25, 명문, 표방, 상위          6       1995\n",
       "10     13        전원, 특차, 구분, 공학부, 전기          1       1995\n",
       "11     15    청소년, 여름, 수련, 책임자, 예수전도단          1       1995\n",
       "12     16        농어촌, 특차, 12, 여대, 57          2       1995\n",
       "13     19        특강, 유학, 수련, 컴퓨터, 전교          2       1995\n",
       "14     20         만점, 18, 19, 영문, 수석          2       1995\n",
       "15     21         학습, 과목, 토플, 보급, 학점          3       1995\n",
       "16     22         하위, 학과, 특차, 자격, 경쟁          3       1995\n",
       "17     24         증원, 학과, 정원, 입시, 눈치          2       1995\n",
       "18     27       응시, 합격자, 수석, 이념, 컴퓨터          2       1995\n",
       "19     28      본고사, 실기, 지원자, 나머지, 전기          1       1995"
      ]
     },
     "execution_count": 14,
     "metadata": {},
     "output_type": "execute_result"
    }
   ],
   "source": [
    "# show dataframe of ToT result\n",
    "topics_over_time.head(20)"
   ]
  },
  {
   "cell_type": "code",
   "execution_count": 15,
   "metadata": {},
   "outputs": [
    {
     "data": {
      "application/vnd.plotly.v1+json": {
       "config": {
        "plotlyServerURL": "https://plot.ly"
       },
       "data": [
        {
         "hoverinfo": "text",
         "hovertext": [
          "<b>Topic 0</b><br>Words: 본고사, 특차, 미달, 과목, 정원",
          "<b>Topic 0</b><br>Words: 장애, 입시, 특차, 봉사, 기대",
          "<b>Topic 0</b><br>Words: 농어촌, 설립, 자립, 운동, 간증",
          "<b>Topic 0</b><br>Words: 지구촌, 비전, 초청, 고대, 상담",
          "<b>Topic 0</b><br>Words: 결혼, 예비, 목회, 자녀, 가정",
          "<b>Topic 0</b><br>Words: 두란노, 부부, 면접, 논술, 결혼",
          "<b>Topic 0</b><br>Words: 유공자, 특기, 11, 출신자, 농어촌",
          "<b>Topic 0</b><br>Words: 60, 50, 아프간, 100, 정시",
          "<b>Topic 0</b><br>Words: 생산, 노동자, 안산, 해외, 공로",
          "<b>Topic 0</b><br>Words: 탐구, 수리, 외국어, 번역, 과목",
          "<b>Topic 0</b><br>Words: 교육대, 수리, 외국어, 언어, 계열",
          "<b>Topic 0</b><br>Words: 형사, 카드, 국토, 애초, 회사",
          "<b>Topic 0</b><br>Words: 히딩크, 필드, 아원, 드림, 감독",
          "<b>Topic 0</b><br>Words: 박람회, 시국, 외국어, 공교육, 20",
          "<b>Topic 0</b><br>Words: 헌재, 심판, 위헌, 판결, 헌법",
          "<b>Topic 0</b><br>Words: 투표, 유권자, 20, 대학생, 장모",
          "<b>Topic 0</b><br>Words: 반값, 현대사, 수용소, 등록금, 전시회",
          "<b>Topic 0</b><br>Words: 원자력, 멘토, 캠프, 종교, 편향",
          "<b>Topic 0</b><br>Words: 이승만, 기업가, 저자, 독립, 지방대",
          "<b>Topic 0</b><br>Words: 연대, 대학생, lg, 참여연대, 참여",
          "<b>Topic 0</b><br>Words: 경진, 찬양, 도박, 디지털, 뮤지컬",
          "<b>Topic 0</b><br>Words: 성탄, 공학, 여성, 콘서트, 강의실",
          "<b>Topic 0</b><br>Words: 후보, 분권, 자치, 성금, 번역",
          "<b>Topic 0</b><br>Words: 김동엽, 평양, 20, 생존, 별세",
          "<b>Topic 0</b><br>Words: 최선희, 주석, 지열, 발전소, 20",
          "<b>Topic 0</b><br>Words: 징계, 코로나, 방역, 금강산, 공공",
          "<b>Topic 0</b><br>Words: 행정부, 전작, 전환, 바이든, 응답",
          "<b>Topic 0</b><br>Words: 고양이, 몽골, 고양, 학대, 윤석열",
          "<b>Topic 0</b><br>Words: 예비, 지정, 우울증, 국립대, 아담",
          "<b>Topic 0</b><br>Words: 예비, 지정, 천국, 건대, 통합"
         ],
         "marker": {
          "color": "#E69F00"
         },
         "mode": "lines",
         "name": "0_20_예비_지정_외국어",
         "type": "scatter",
         "x": [
          1995,
          1996,
          1997,
          1998,
          1999,
          2000,
          2001,
          2002,
          2003,
          2004,
          2005,
          2006,
          2007,
          2008,
          2009,
          2010,
          2011,
          2012,
          2013,
          2014,
          2015,
          2016,
          2017,
          2018,
          2019,
          2020,
          2021,
          2022,
          2023,
          2024
         ],
         "y": [
          6,
          9,
          2,
          1,
          2,
          2,
          3,
          10,
          8,
          10,
          7,
          8,
          10,
          10,
          5,
          14,
          19,
          7,
          11,
          14,
          19,
          13,
          22,
          16,
          18,
          15,
          15,
          12,
          24,
          24
         ]
        },
        {
         "hoverinfo": "text",
         "hovertext": [
          "<b>Topic 1</b><br>Words: 창조, 윤리, 박사, 수준, 지식",
          "<b>Topic 1</b><br>Words: 진화, 창조론, 발견, 창조주, 생명체",
          "<b>Topic 1</b><br>Words: 생명, 물질, 유전자, 섭리, dna",
          "<b>Topic 1</b><br>Words: 세포, 죽음, 인간, 과학자, 입증",
          "<b>Topic 1</b><br>Words: 진화, 창조, 컴퓨터, 증명, 민간",
          "<b>Topic 1</b><br>Words: 측정, 검사, 시스템, 자동, 용기",
          "<b>Topic 1</b><br>Words: 소프트웨어, 장치, 데이터, 공급, 보급",
          "<b>Topic 1</b><br>Words: 코스타, 유학, 검사, 종교, 질문",
          "<b>Topic 1</b><br>Words: 코스타, 양자, 대담, 이론, 간증",
          "<b>Topic 1</b><br>Words: 죽음, 설계, 이론, 환자, 생명체",
          "<b>Topic 1</b><br>Words: 진료, 어머니, 전도사, 선린, 하버드대",
          "<b>Topic 1</b><br>Words: 개도국, 유네스코, 취업, 상국, 트윈",
          "<b>Topic 1</b><br>Words: 연료, 에너지, 대체, 가스, 자동차",
          "<b>Topic 1</b><br>Words: 창의, oecd, 캠프, 지식, 고등",
          "<b>Topic 1</b><br>Words: unai, 번역, 학위, 외국, 국적",
          "<b>Topic 1</b><br>Words: 기업가, 캠프, unai, 프로그램, 정신",
          "<b>Topic 1</b><br>Words: 유산균, 아이, 다리, 네트워크, 건강",
          "<b>Topic 1</b><br>Words: 경영, 법률, 변호사, 개원, 제품",
          "<b>Topic 1</b><br>Words: 장애, 캄보디아, 임팩트, 중소기업, 유엔",
          "<b>Topic 1</b><br>Words: 유산균, 로봇, 프로, 바이오, 김치",
          "<b>Topic 1</b><br>Words: 인공지능, 창업, 유네스코, 울산, 융합",
          "<b>Topic 1</b><br>Words: ai, 영업, 인공지능, 화상, 지능",
          "<b>Topic 1</b><br>Words: 백신, 지열, 영업, 특구, 바이오",
          "<b>Topic 1</b><br>Words: 질병, 평등, 반기문, 게임, 조례",
          "<b>Topic 1</b><br>Words: 배터리, ai, 파괴, 투자, 백신",
          "<b>Topic 1</b><br>Words: 로봇, 박사, 측정, 데이터, 공학",
          "<b>Topic 1</b><br>Words: 유전자, 질환, 치료제, 스타트업, 창업",
          "<b>Topic 1</b><br>Words: ai, 기적, 예언, 유전, 존재",
          "<b>Topic 1</b><br>Words: 자궁, ai, 부활, 진화, 이론"
         ],
         "marker": {
          "color": "#56B4E9"
         },
         "mode": "lines",
         "name": "1_ai_로봇_백신_인공지능",
         "type": "scatter",
         "x": [
          1995,
          1996,
          1997,
          1998,
          1999,
          2000,
          2001,
          2003,
          2004,
          2005,
          2006,
          2007,
          2008,
          2009,
          2010,
          2011,
          2012,
          2013,
          2014,
          2015,
          2016,
          2017,
          2018,
          2019,
          2020,
          2021,
          2022,
          2023,
          2024
         ],
         "y": [
          3,
          2,
          2,
          1,
          2,
          4,
          1,
          3,
          2,
          4,
          2,
          4,
          2,
          3,
          7,
          11,
          4,
          6,
          9,
          10,
          20,
          9,
          9,
          17,
          17,
          8,
          13,
          24,
          26
         ]
        },
        {
         "hoverinfo": "text",
         "hovertext": [
          "<b>Topic 2</b><br>Words: 선린, 실력, 설립, 과학자, 대학가",
          "<b>Topic 2</b><br>Words: 인터넷, 성공회, 홈페이지, 선교, 교지",
          "<b>Topic 2</b><br>Words: 기증, 선린, 결심, 병원, 남편",
          "<b>Topic 2</b><br>Words: 순결, 교포, 신문, 탈락, 매체",
          "<b>Topic 2</b><br>Words: 기증, 동덕, 향대, 여대, 서대",
          "<b>Topic 2</b><br>Words: 지구, ccc, 수련, 결혼, 29",
          "<b>Topic 2</b><br>Words: 스승, 기증, 눈물, 재산, 남편",
          "<b>Topic 2</b><br>Words: 출마, 의원, 기금, 기초, 자전거",
          "<b>Topic 2</b><br>Words: 삼성전자, 입사, 작업, 은행, 철저",
          "<b>Topic 2</b><br>Words: 세대, 아버지, 분노, 공포, 이공",
          "<b>Topic 2</b><br>Words: 판사, 법원, 부장, 중재, 위촉",
          "<b>Topic 2</b><br>Words: 피지, 칼리지, 호주, 신부, 감리교",
          "<b>Topic 2</b><br>Words: 인가, 심사, 중소기업, 제품, 신청",
          "<b>Topic 2</b><br>Words: 출제, 사범, 고사, 구술, 면접",
          "<b>Topic 2</b><br>Words: 출신자, 예산, 교과, 사정관, 성적",
          "<b>Topic 2</b><br>Words: 학과, 인원, 제외, 특수, 공학",
          "<b>Topic 2</b><br>Words: sk, 만족, 청원, 회개, 학술",
          "<b>Topic 2</b><br>Words: 개신교, 복음주의, 심포지엄, 세속, 생태",
          "<b>Topic 2</b><br>Words: 탐방, 모친상, 장례식장, lg, 방지",
          "<b>Topic 2</b><br>Words: 구원, 세월, 스승, 참사, 피해자",
          "<b>Topic 2</b><br>Words: 공동체, 마을, 협동, 행복, 도서관",
          "<b>Topic 2</b><br>Words: ngo, 등급, 유엔, 콘퍼런스, 개교",
          "<b>Topic 2</b><br>Words: 학번, 금액, 기도, 지원금, 우리",
          "<b>Topic 2</b><br>Words: 철수, 위주, 주한, 과목, 30",
          "<b>Topic 2</b><br>Words: 자살, 소프트웨어, 탈락, 학년도, sw",
          "<b>Topic 2</b><br>Words: 국정원, 전단, 인권, 법안, 수사",
          "<b>Topic 2</b><br>Words: 결혼, 출산, 위험, 사랑, 어려움",
          "<b>Topic 2</b><br>Words: 고양, 검찰, 인생, 고양이, 경찰",
          "<b>Topic 2</b><br>Words: 30, 증권, 전지, 별세, 인력",
          "<b>Topic 2</b><br>Words: 건대, 보건, 시인, 전문대, 별세"
         ],
         "marker": {
          "color": "#009E73"
         },
         "mode": "lines",
         "name": "2_30_피지_학과_인원",
         "type": "scatter",
         "x": [
          1995,
          1996,
          1997,
          1998,
          1999,
          2000,
          2001,
          2002,
          2003,
          2004,
          2005,
          2006,
          2007,
          2008,
          2009,
          2010,
          2011,
          2012,
          2013,
          2014,
          2015,
          2016,
          2017,
          2018,
          2019,
          2020,
          2021,
          2022,
          2023,
          2024
         ],
         "y": [
          4,
          5,
          1,
          5,
          5,
          3,
          5,
          2,
          4,
          2,
          4,
          11,
          4,
          4,
          10,
          7,
          7,
          3,
          9,
          4,
          7,
          10,
          6,
          9,
          15,
          6,
          2,
          11,
          18,
          7
         ]
        },
        {
         "hoverinfo": "text",
         "hovertext": [
          "<b>Topic 3</b><br>Words: 동성애자, 동성애, 본고사, 순결, 특차",
          "<b>Topic 3</b><br>Words: 온누리, 선교회, 성령, 순결, 약식",
          "<b>Topic 3</b><br>Words: 계승, 헌신, 박사, 창립, 기념",
          "<b>Topic 3</b><br>Words: 단군, 철거, 성명, 남한, 조작",
          "<b>Topic 3</b><br>Words: 사학, 경영학, 커리큘럼, 사립, 경영",
          "<b>Topic 3</b><br>Words: 구속, 법정, 서명, 부총장, 사이트",
          "<b>Topic 3</b><br>Words: 고문, 이름, 요약, 허용, 조작",
          "<b>Topic 3</b><br>Words: 설립자, 연구비, 기아대책, 학술지, 난민",
          "<b>Topic 3</b><br>Words: 지방, 법률가, 문장, 풍경, 개교",
          "<b>Topic 3</b><br>Words: 군대, 그림, 가족, 작품, 자발",
          "<b>Topic 3</b><br>Words: 신화, 시위, 노동자, 차별, 충돌",
          "<b>Topic 3</b><br>Words: 여론, 대선, 조사, 국교회, 사회봉사",
          "<b>Topic 3</b><br>Words: 개헌, 내년도, 동결, 사립대, 고위",
          "<b>Topic 3</b><br>Words: 헌재, 입법, 법원, 침해, 대리",
          "<b>Topic 3</b><br>Words: 복음주의, 후배, 목회, 목사, 선진",
          "<b>Topic 3</b><br>Words: 벨트, 중독, 기부금, 게임, 교협",
          "<b>Topic 3</b><br>Words: 총재, 검찰, 기소, 캠프, 법률가",
          "<b>Topic 3</b><br>Words: 법치주의, 지배, 권력, 기소, 장치",
          "<b>Topic 3</b><br>Words: 고등학교, 대구경북, 창업, 대학교, 본부",
          "<b>Topic 3</b><br>Words: 성탄, 콘서트, 크리스마스, 극동방송, 영덕",
          "<b>Topic 3</b><br>Words: 누리, 접수, 부회장, 상임, 혐오",
          "<b>Topic 3</b><br>Words: 반기문, 예수전도단, 동성혼, 예배, 이사장",
          "<b>Topic 3</b><br>Words: 퀴어, 페미니즘, 징계, 동성애, 아들",
          "<b>Topic 3</b><br>Words: 종교, 다자, 자유, 권리, 동성애",
          "<b>Topic 3</b><br>Words: 금강산, 소수자, 가속기, 관광, 공단",
          "<b>Topic 3</b><br>Words: 계산, 수산, 선생, 옥수수, 주식",
          "<b>Topic 3</b><br>Words: 동물, 학대, 단장, 부장, 고양",
          "<b>Topic 3</b><br>Words: 퀴어, 행사, 동성애자, 독립운동, 동성애",
          "<b>Topic 3</b><br>Words: 울릉, 바이오, 퀴어, 동성애, 울릉도"
         ],
         "marker": {
          "color": "#F0E442"
         },
         "mode": "lines",
         "name": "3_퀴어_누리_동성애_동성애자",
         "type": "scatter",
         "x": [
          1995,
          1996,
          1997,
          1999,
          2000,
          2001,
          2002,
          2003,
          2004,
          2005,
          2006,
          2007,
          2008,
          2009,
          2010,
          2011,
          2012,
          2013,
          2014,
          2015,
          2016,
          2017,
          2018,
          2019,
          2020,
          2021,
          2022,
          2023,
          2024
         ],
         "y": [
          4,
          5,
          2,
          1,
          2,
          5,
          3,
          4,
          5,
          4,
          1,
          3,
          7,
          5,
          2,
          3,
          8,
          4,
          4,
          1,
          10,
          10,
          13,
          8,
          9,
          6,
          9,
          8,
          8
         ]
        },
        {
         "hoverinfo": "text",
         "hovertext": [
          "<b>Topic 4</b><br>Words: 학점, 장벽, 은행, 교육, 기관",
          "<b>Topic 4</b><br>Words: 사정, 브랜드, 반영, 징계, 디자인",
          "<b>Topic 4</b><br>Words: 실기, 근무, 경력, 내년도, 취업자",
          "<b>Topic 4</b><br>Words: 예과, 특차, 특정, 표준, 행정학",
          "<b>Topic 4</b><br>Words: 유실, 송도, 신대, 교대, 시민",
          "<b>Topic 4</b><br>Words: 테크노, 입주, 증가, 수업, 가정",
          "<b>Topic 4</b><br>Words: 교차, 인원, 허용, 자연, 모집",
          "<b>Topic 4</b><br>Words: 태권, 통역, 선생, 점수, 허용",
          "<b>Topic 4</b><br>Words: 순위, 어머니, 평판, 기도회, 지표",
          "<b>Topic 4</b><br>Words: 반영, 석차, 학년, 새해, 교과목",
          "<b>Topic 4</b><br>Words: 평판, 순위, 비율, 종합, 지표",
          "<b>Topic 4</b><br>Words: 히딩크, 아원, 축구장, 축구, 준공식",
          "<b>Topic 4</b><br>Words: 치유, 개도국, 혼자, 헌법, 헌재",
          "<b>Topic 4</b><br>Words: 고래, 마을, 생태, 논술, 체험",
          "<b>Topic 4</b><br>Words: 교협, 사립대, 충원, 처장, 국내",
          "<b>Topic 4</b><br>Words: 레이저, 등록금, 교협, 인하, 삭제",
          "<b>Topic 4</b><br>Words: 롬니, 음악, 부친상, 석학, 병원",
          "<b>Topic 4</b><br>Words: 이승만, 장례식장, 모친상, 삼성, 부친상",
          "<b>Topic 4</b><br>Words: 발인, 게임, 부친상, 네덜란드, 장인상",
          "<b>Topic 4</b><br>Words: 인생, 프로, 바이오, 질환, 김치",
          "<b>Topic 4</b><br>Words: 여론, 누리, 기득, 야당, 박근혜",
          "<b>Topic 4</b><br>Words: 응답자, 피해, 진앙, 복구, 흥해읍",
          "<b>Topic 4</b><br>Words: 민회, 트랙, 예외, 과장, 승진",
          "<b>Topic 4</b><br>Words: 해제, 주택, 토지, 공공, 대사",
          "<b>Topic 4</b><br>Words: 파병, 호르무즈, 공공, 병행, 주석",
          "<b>Topic 4</b><br>Words: 택시, 검찰, 수사, 보고서, 운전자",
          "<b>Topic 4</b><br>Words: 전지, esg, 스타트업, 상생, 울산",
          "<b>Topic 4</b><br>Words: 별세, 장인상, 남편, 부친상, 소비"
         ],
         "marker": {
          "color": "#D55E00"
         },
         "mode": "lines",
         "name": "4_반영_순위_평판_부친상",
         "type": "scatter",
         "x": [
          1995,
          1996,
          1997,
          1998,
          2000,
          2001,
          2002,
          2003,
          2004,
          2005,
          2006,
          2007,
          2008,
          2009,
          2010,
          2011,
          2012,
          2013,
          2014,
          2015,
          2016,
          2017,
          2018,
          2019,
          2020,
          2022,
          2023,
          2024
         ],
         "y": [
          2,
          4,
          1,
          2,
          2,
          4,
          5,
          7,
          4,
          7,
          6,
          3,
          3,
          2,
          5,
          6,
          8,
          19,
          5,
          5,
          4,
          6,
          12,
          11,
          4,
          4,
          5,
          4
         ]
        },
        {
         "hoverinfo": "text",
         "hovertext": [
          "<b>Topic 5</b><br>Words: 내신, 배정, 응시, 거주, 전문대",
          "<b>Topic 5</b><br>Words: 극동방송, 방송, 심포지엄, 세기, 빌딩",
          "<b>Topic 5</b><br>Words: 청소년, 겨울, 콘서트, 캠프, 수련",
          "<b>Topic 5</b><br>Words: 디자인, 연맹, 사무총장, 회원, 기독교",
          "<b>Topic 5</b><br>Words: 토플, 졸업, 부친상, 요건, 13",
          "<b>Topic 5</b><br>Words: 오염, 학사, 사이버, 조사, 실태",
          "<b>Topic 5</b><br>Words: 교도소, 스승, 면담, 구속, 혐의",
          "<b>Topic 5</b><br>Words: 뮤지컬, 무대, 창간, 작품, 음악",
          "<b>Topic 5</b><br>Words: 세력, 한나라당, 보수, 진보, 의원",
          "<b>Topic 5</b><br>Words: 법무부, 음악, 무대, ccm, 예배",
          "<b>Topic 5</b><br>Words: 도덕, 부시, 사고, 조금, 사건",
          "<b>Topic 5</b><br>Words: 강사, 강당, 성시, 성령, 행복",
          "<b>Topic 5</b><br>Words: 탈락, 심사, 하버드대, 보장, 예외",
          "<b>Topic 5</b><br>Words: 몽골, 지사, 철강, 언론인, 미국인",
          "<b>Topic 5</b><br>Words: 사랑, 정신, 기도회, 카페, 어머니",
          "<b>Topic 5</b><br>Words: 여행, 여성, 자전거, 미국인, 청장",
          "<b>Topic 5</b><br>Words: tv, 토론, 엄마, 페미니즘, 남자",
          "<b>Topic 5</b><br>Words: 시정, 캠프, 계약, 영어, 마을",
          "<b>Topic 5</b><br>Words: 홀리, 심리학, 기도회, 통일, 클럽",
          "<b>Topic 5</b><br>Words: 시인, 자전거, 서비스, 학번, 15",
          "<b>Topic 5</b><br>Words: 지진, 건물, 북구, 대피, 발생",
          "<b>Topic 5</b><br>Words: 불만, 매체, 조항, 끼리, 인권",
          "<b>Topic 5</b><br>Words: 재건, 지진, 반환, 기지, 판정",
          "<b>Topic 5</b><br>Words: 개성, 공단, 대리, 상원, 대사",
          "<b>Topic 5</b><br>Words: 옥수수, 재난, 지진, 조사, 캠페인",
          "<b>Topic 5</b><br>Words: 화학, 이사회, 옥수수, 의장, 스마트",
          "<b>Topic 5</b><br>Words: 옥수수, 전지, 과거사, 개척, 하우스",
          "<b>Topic 5</b><br>Words: 언어, 옥수수, 고용, 장애, 청년"
         ],
         "marker": {
          "color": "#0072B2"
         },
         "mode": "lines",
         "name": "5_지진_15_옥수수_건물",
         "type": "scatter",
         "x": [
          1995,
          1996,
          1997,
          1998,
          1999,
          2000,
          2001,
          2003,
          2004,
          2005,
          2006,
          2007,
          2008,
          2009,
          2010,
          2011,
          2012,
          2013,
          2015,
          2016,
          2017,
          2018,
          2019,
          2020,
          2021,
          2022,
          2023,
          2024
         ],
         "y": [
          1,
          1,
          1,
          3,
          2,
          1,
          2,
          4,
          1,
          2,
          1,
          1,
          1,
          4,
          4,
          4,
          6,
          2,
          3,
          4,
          42,
          2,
          9,
          13,
          5,
          5,
          12,
          7
         ]
        },
        {
         "hoverinfo": "text",
         "hovertext": [
          "<b>Topic 6</b><br>Words: 순결, 대학가, 개방, 가치관, 공론",
          "<b>Topic 6</b><br>Words: 교단, 수련, 고신, 농어촌, 장학",
          "<b>Topic 6</b><br>Words: 추천, 학교장, 가을, 고교, 특별",
          "<b>Topic 6</b><br>Words: 내정, 비상, 부총리, 자문, ccc",
          "<b>Topic 6</b><br>Words: 노인, 어린이, 회원, 봉사, 구입",
          "<b>Topic 6</b><br>Words: 향대, 광신, 순천, 서대, 광주대",
          "<b>Topic 6</b><br>Words: 청소년, 기숙사, 스승, 학부모, 수련",
          "<b>Topic 6</b><br>Words: 학년, 신대, 양대, 긴급, 꽃동네",
          "<b>Topic 6</b><br>Words: 우즈베키스탄, 별세, 발인, 병원, 부친상",
          "<b>Topic 6</b><br>Words: 기독, 어머니, 수술, 아버지, 선교",
          "<b>Topic 6</b><br>Words: 연대, 선교, 창조, 외국인, 측정",
          "<b>Topic 6</b><br>Words: 총회, 법대, 법무, 임용, 피해자",
          "<b>Topic 6</b><br>Words: 어린이, 기부, 준공식, 총재, 올림픽",
          "<b>Topic 6</b><br>Words: 순결, 사정관, 결혼, 비즈니스, 전형",
          "<b>Topic 6</b><br>Words: 사정관, 관제, 입학, 후보, 사정",
          "<b>Topic 6</b><br>Words: 광장, 아산, 용서, 조례, 서울시",
          "<b>Topic 6</b><br>Words: 카페, 디자인, 건강, 장애, 응용",
          "<b>Topic 6</b><br>Words: 디자인, 가수, 정규, 클럽, 장성",
          "<b>Topic 6</b><br>Words: 동아시아, 00, 주년, 코리아, 리더",
          "<b>Topic 6</b><br>Words: 옥수수, 제일, 기념관, 몽골, 개척",
          "<b>Topic 6</b><br>Words: 방송, 언론, 한양대, 한림, 채용",
          "<b>Topic 6</b><br>Words: 비례, 소설, 개헌, 선거, 제도",
          "<b>Topic 6</b><br>Words: 권위, 사령관, 합참, 평택, 금지법",
          "<b>Topic 6</b><br>Words: 김여정, 담화, 칼럼, 작가, 유발",
          "<b>Topic 6</b><br>Words: 낙태, 질환, 미아, 정신, 생명",
          "<b>Topic 6</b><br>Words: 옥수수, 캠페인, 낙태, 장로, 재단",
          "<b>Topic 6</b><br>Words: 지정, 통합, 선정, 도립, 임금",
          "<b>Topic 6</b><br>Words: 건대, 도립, 지정, 선정, 통합"
         ],
         "marker": {
          "color": "#CC79A7"
         },
         "mode": "lines",
         "name": "6_지정_건대_통합_10",
         "type": "scatter",
         "x": [
          1995,
          1996,
          1997,
          1998,
          1999,
          2000,
          2001,
          2003,
          2004,
          2005,
          2006,
          2007,
          2008,
          2009,
          2010,
          2011,
          2012,
          2014,
          2015,
          2016,
          2017,
          2018,
          2019,
          2020,
          2021,
          2022,
          2023,
          2024
         ],
         "y": [
          1,
          2,
          3,
          4,
          2,
          7,
          4,
          2,
          7,
          3,
          5,
          8,
          4,
          3,
          8,
          6,
          8,
          1,
          10,
          5,
          5,
          2,
          5,
          6,
          4,
          6,
          13,
          8
         ]
        },
        {
         "hoverinfo": "text",
         "hovertext": [
          "<b>Topic 7</b><br>Words: 교도소, 추진, 설립, 명시, 기독교",
          "<b>Topic 7</b><br>Words: 축제, 고사, 폭력, 유익, 투쟁",
          "<b>Topic 7</b><br>Words: 단군, 철거, 구속, 종교, 설치",
          "<b>Topic 7</b><br>Words: 남자, 음식, 여자, 칼럼, 편집",
          "<b>Topic 7</b><br>Words: 헌재, 헌법학, 관행, 헌법, 어린이",
          "<b>Topic 7</b><br>Words: 병역, 거부, 국적, 대체, 양심",
          "<b>Topic 7</b><br>Words: 후보, 사학, 당선, 성시, 약속",
          "<b>Topic 7</b><br>Words: 장군, 반환, 박물관, 계약, 장기",
          "<b>Topic 7</b><br>Words: 고위, 고문, 사립대, 사무소, 폐지",
          "<b>Topic 7</b><br>Words: 헌재, 헌법, 재판, 재판관, 칼럼",
          "<b>Topic 7</b><br>Words: 재판관, 검사, 익명, 동북아, 의견",
          "<b>Topic 7</b><br>Words: 징계, 강의, 수업, 정치, 견해",
          "<b>Topic 7</b><br>Words: 진화, 교과서, 부부, 청원, 법대",
          "<b>Topic 7</b><br>Words: 재판, 헌재, 언어, 국민, 법률가",
          "<b>Topic 7</b><br>Words: 사관, 법조, 과장, 팀장, 민원",
          "<b>Topic 7</b><br>Words: 학칙, 철거, 조항, 개정, 집단",
          "<b>Topic 7</b><br>Words: 시국, 과장, 직무, 처장, 박근혜",
          "<b>Topic 7</b><br>Words: 통일부, 개성, 공단, 중단, 촛불",
          "<b>Topic 7</b><br>Words: 문단, 교육감, 법관, 통일부, 김영철",
          "<b>Topic 7</b><br>Words: 통일부, 개성, 공단, 북송, 강제",
          "<b>Topic 7</b><br>Words: 전단, 김여정, 살포, 담화, 대남",
          "<b>Topic 7</b><br>Words: 지사, 개성, 공단, 계승, 문재",
          "<b>Topic 7</b><br>Words: 배터리, 조례, 북송, 특구, 전지",
          "<b>Topic 7</b><br>Words: 전단, 인권, 살포, 의원, 출장",
          "<b>Topic 7</b><br>Words: 동성혼, 민원, 동성, 의혹, 법원"
         ],
         "marker": {
          "color": "#E69F00"
         },
         "mode": "lines",
         "name": "7_통일부_헌법_단군_헌재",
         "type": "scatter",
         "x": [
          1996,
          1997,
          2001,
          2003,
          2004,
          2005,
          2006,
          2007,
          2008,
          2009,
          2010,
          2011,
          2012,
          2013,
          2014,
          2015,
          2016,
          2017,
          2018,
          2019,
          2020,
          2021,
          2022,
          2023,
          2024
         ],
         "y": [
          1,
          1,
          1,
          2,
          3,
          1,
          1,
          1,
          2,
          4,
          6,
          5,
          4,
          8,
          6,
          6,
          9,
          8,
          16,
          11,
          18,
          1,
          5,
          9,
          7
         ]
        },
        {
         "hoverinfo": "text",
         "hovertext": [
          "<b>Topic 8</b><br>Words: 대사관, 환영, 참석자, 한국과학기술원, 주최",
          "<b>Topic 8</b><br>Words: 올림픽, 치료제, 실험, 일보, 에이즈",
          "<b>Topic 8</b><br>Words: 동포, 봉사, 안동, 주말, 청소",
          "<b>Topic 8</b><br>Words: 특별, 전형, 조기, 유형, 고사",
          "<b>Topic 8</b><br>Words: 홀리, 클럽, 재외, 창립, 교포",
          "<b>Topic 8</b><br>Words: 교육대, 일자, 경기, 충남, 장로회",
          "<b>Topic 8</b><br>Words: 발인, 교양, 외국인, 재외, 모친상",
          "<b>Topic 8</b><br>Words: 폭력, 교차, 학년도, 학력, 선생",
          "<b>Topic 8</b><br>Words: 재판, 발인, 부친상, 모친상, 아산",
          "<b>Topic 8</b><br>Words: 한국어, 한겨레, 교재, 신문, 균형",
          "<b>Topic 8</b><br>Words: 신입, 축하, 기숙사, 건립, 눈길",
          "<b>Topic 8</b><br>Words: 이공, 구미, 후보, 대선, 업체",
          "<b>Topic 8</b><br>Words: 수학, 방학, 국어, 중학교, 전교",
          "<b>Topic 8</b><br>Words: 발인, 모친상, 세브, 란스, 장모",
          "<b>Topic 8</b><br>Words: 부문, 청문회, 지방, 진로, 편의",
          "<b>Topic 8</b><br>Words: 추가, 합격, 특집, 합격자, 방송",
          "<b>Topic 8</b><br>Words: 국어, 과목, 수학, 히딩크, 필드",
          "<b>Topic 8</b><br>Words: nll, 학점, 국정원, 99, 국면",
          "<b>Topic 8</b><br>Words: 그날, 우승, 통일, 취업, 지방대",
          "<b>Topic 8</b><br>Words: 채용, 청년, 남북, 영향력, 세월",
          "<b>Topic 8</b><br>Words: 비즈니스, 콘퍼런스, 질서, 고도, 전략",
          "<b>Topic 8</b><br>Words: 분권, 대피, 중도, 자치, 여행",
          "<b>Topic 8</b><br>Words: 열병식, 접촉, 평창, 올림픽, 관측",
          "<b>Topic 8</b><br>Words: 발사체, 식품, 조국, 발사, 엔진",
          "<b>Topic 8</b><br>Words: 기부, 집회, 취약, 코로나, 경찰",
          "<b>Topic 8</b><br>Words: 통화, 코로나, 청문회, 대회, 19",
          "<b>Topic 8</b><br>Words: 혐오, 교포, 기사, 창업, 스마트",
          "<b>Topic 8</b><br>Words: 오빠, 도착, 선교, 드라마, 간부",
          "<b>Topic 8</b><br>Words: 이강덕, 특구, 소멸, 별세, 시범"
         ],
         "marker": {
          "color": "#56B4E9"
         },
         "mode": "lines",
         "name": "8_발인_대회_혐오_재판",
         "type": "scatter",
         "x": [
          1995,
          1996,
          1997,
          1998,
          2000,
          2001,
          2002,
          2003,
          2004,
          2005,
          2006,
          2007,
          2008,
          2009,
          2010,
          2011,
          2012,
          2013,
          2014,
          2015,
          2016,
          2017,
          2018,
          2019,
          2020,
          2021,
          2022,
          2023,
          2024
         ],
         "y": [
          1,
          3,
          1,
          1,
          2,
          3,
          4,
          5,
          7,
          4,
          2,
          9,
          2,
          2,
          8,
          6,
          2,
          5,
          5,
          10,
          5,
          13,
          1,
          8,
          4,
          3,
          4,
          6,
          4
         ]
        },
        {
         "hoverinfo": "text",
         "hovertext": [
          "<b>Topic 9</b><br>Words: 화성, 생명체, 물질, 지구, 과학자",
          "<b>Topic 9</b><br>Words: 친구, 크리스마스, 눈물, 여자, 겨울",
          "<b>Topic 9</b><br>Words: 자주, 오바마, 양자, 복귀, 비밀",
          "<b>Topic 9</b><br>Words: korea, 국정원, un, 사찰, 불법",
          "<b>Topic 9</b><br>Words: 전작, 장비, 전환, 미사일, 능력",
          "<b>Topic 9</b><br>Words: 아베, 방미, 총리, 탄도, slbm",
          "<b>Topic 9</b><br>Words: 핵실험, 사드, 무장, 제재, 핵무기",
          "<b>Topic 9</b><br>Words: 타격, 도발, 미사일, 화성, 발사",
          "<b>Topic 9</b><br>Words: 미사일, icbm, 폐기, 본토, 엔진",
          "<b>Topic 9</b><br>Words: 미사일, 발사, 중거리, slbm, 도발",
          "<b>Topic 9</b><br>Words: 미사일, icbm, 탄도, 도발, 발사",
          "<b>Topic 9</b><br>Words: slbm, 열병식, korea, 발사, 탄도",
          "<b>Topic 9</b><br>Words: 미사일, icbm, 당선인, 발사, 도발",
          "<b>Topic 9</b><br>Words: 이스라엘, 민간, 생명체, 우주, 비행",
          "<b>Topic 9</b><br>Words: 이스라엘, 공격, 이란, 중동, 기도"
         ],
         "marker": {
          "color": "#009E73"
         },
         "mode": "lines",
         "name": "9_미사일_발사_icbm_도발",
         "type": "scatter",
         "x": [
          1996,
          2002,
          2010,
          2013,
          2014,
          2015,
          2016,
          2017,
          2018,
          2019,
          2020,
          2021,
          2022,
          2023,
          2024
         ],
         "y": [
          1,
          1,
          1,
          2,
          1,
          5,
          7,
          12,
          13,
          49,
          20,
          5,
          4,
          2,
          2
         ]
        },
        {
         "hoverinfo": "text",
         "hovertext": [
          "<b>Topic 10</b><br>Words: 제한, 25, 명문, 표방, 상위",
          "<b>Topic 10</b><br>Words: 청년, 교제, 마당, 모임, 24",
          "<b>Topic 10</b><br>Words: 사모, 목사, 소리, 도청, 대원",
          "<b>Topic 10</b><br>Words: 졸업, 전산, 토플, 이수, 학번",
          "<b>Topic 10</b><br>Words: 운동, 기적, 식사, 실망, 25",
          "<b>Topic 10</b><br>Words: 빈대, 학문, 기독, 기독교, 세계관",
          "<b>Topic 10</b><br>Words: 연구비, 지표, 학술지, 평판, 재산",
          "<b>Topic 10</b><br>Words: 성탄, 예배, 25, 세미나, 26",
          "<b>Topic 10</b><br>Words: 직장, 청년, 선배, 아동, 검사",
          "<b>Topic 10</b><br>Words: 교대, 수리, 수능, 논술, 계열",
          "<b>Topic 10</b><br>Words: 대안, 고교, 학부모, 진로, 공부",
          "<b>Topic 10</b><br>Words: 탈락, 2005, 심사, 출판, 창조론",
          "<b>Topic 10</b><br>Words: 25, 박람회, 병원, 부친상, 채용",
          "<b>Topic 10</b><br>Words: 성령, 온누리, 창조, 소명, 축제",
          "<b>Topic 10</b><br>Words: 문장, 연습, 강좌, 단어, 인문학",
          "<b>Topic 10</b><br>Words: 블로그, 기소, 소송, 판결, 삭제",
          "<b>Topic 10</b><br>Words: 양극, 검사, 검찰, 마리, 의혹",
          "<b>Topic 10</b><br>Words: 장인상, 25, 응원, 별세, 모친상",
          "<b>Topic 10</b><br>Words: 제어, 제일, 학술지, 25, 진동",
          "<b>Topic 10</b><br>Words: 지옥, 백신, 말씀, 천국, 설교",
          "<b>Topic 10</b><br>Words: 매티스, 이스라엘, 25, 아시아, 이웃",
          "<b>Topic 10</b><br>Words: 합의, 25, 파기, 문단, 고위급",
          "<b>Topic 10</b><br>Words: 독도, 25, 전술, 나토, 핵무기",
          "<b>Topic 10</b><br>Words: 입국, nll, 유해, 노선, 신종",
          "<b>Topic 10</b><br>Words: 가족, mk, 작가, 교지, 학사",
          "<b>Topic 10</b><br>Words: 성경, 묵상, 공동체, 25, 건학",
          "<b>Topic 10</b><br>Words: 브랜드, 전지, 선도, 수상, 프로",
          "<b>Topic 10</b><br>Words: 울릉도, 법관, 경력, 전공, 25"
         ],
         "marker": {
          "color": "#F0E442"
         },
         "mode": "lines",
         "name": "10_25_블로그_가족_성경",
         "type": "scatter",
         "x": [
          1995,
          1996,
          1998,
          2000,
          2001,
          2002,
          2003,
          2004,
          2005,
          2006,
          2007,
          2008,
          2009,
          2010,
          2011,
          2012,
          2013,
          2014,
          2015,
          2016,
          2017,
          2018,
          2019,
          2020,
          2021,
          2022,
          2023,
          2024
         ],
         "y": [
          6,
          1,
          1,
          1,
          3,
          2,
          2,
          7,
          3,
          4,
          1,
          3,
          4,
          1,
          3,
          5,
          2,
          4,
          5,
          6,
          7,
          8,
          15,
          8,
          3,
          6,
          2,
          8
         ]
        },
        {
         "hoverinfo": "text",
         "hovertext": [
          "<b>Topic 11</b><br>Words: 월드컵, 의식, 질서, 성숙, 향상",
          "<b>Topic 11</b><br>Words: 냉전, 오바마, 패권, 질서, 동북아",
          "<b>Topic 11</b><br>Words: 중국, 오바마, 봉쇄, 부상, 롬니",
          "<b>Topic 11</b><br>Words: 구역, 중국, 이익, 대결, 공조",
          "<b>Topic 11</b><br>Words: 전작, 사드, 전환, 중국, 석방",
          "<b>Topic 11</b><br>Words: 중국, 구도, 영토, 열병식, 분쟁",
          "<b>Topic 11</b><br>Words: 중국, 위안부, 외교, 사드, 박근혜",
          "<b>Topic 11</b><br>Words: 사드, 중국, 베이징, 방중, 압박",
          "<b>Topic 11</b><br>Words: 폼페이, 회담, 중국, 정상, 비핵화",
          "<b>Topic 11</b><br>Words: 주석, 푸틴, 중국, 회담, 러시아",
          "<b>Topic 11</b><br>Words: 중국, 주석, 전작, 갈등, 방한",
          "<b>Topic 11</b><br>Words: 통화, 중국, 동맹, 태평양, 외교",
          "<b>Topic 11</b><br>Words: 나토, 우크라, 이나, 냉전, 규칙",
          "<b>Topic 11</b><br>Words: 중국, 윤석열, 외교, 주석, 총리"
         ],
         "marker": {
          "color": "#D55E00"
         },
         "mode": "lines",
         "name": "11_중국_주석_외교_회담",
         "type": "scatter",
         "x": [
          2002,
          2011,
          2012,
          2013,
          2014,
          2015,
          2016,
          2017,
          2018,
          2019,
          2020,
          2021,
          2022,
          2023
         ],
         "y": [
          1,
          4,
          3,
          11,
          4,
          17,
          7,
          8,
          14,
          18,
          21,
          3,
          2,
          6
         ]
        },
        {
         "hoverinfo": "text",
         "hovertext": [
          "<b>Topic 12</b><br>Words: 이슬람, 서구, 아프간, 저항, 무력",
          "<b>Topic 12</b><br>Words: 소송, 대사관, 동생, 방문, 부서",
          "<b>Topic 12</b><br>Words: 구호, 모금, 긴급, 피해, 달러",
          "<b>Topic 12</b><br>Words: 부시, 테러, 고통, 약자, 재천",
          "<b>Topic 12</b><br>Words: 이라크, 부시, 전쟁, 역설, 달러",
          "<b>Topic 12</b><br>Words: 전쟁, 평화, 추구, 역사, 분쟁",
          "<b>Topic 12</b><br>Words: 유네스코, 당선인, 외교, 소프트, 코리아",
          "<b>Topic 12</b><br>Words: 패권, 금융, 확장, 부시, 위기",
          "<b>Topic 12</b><br>Words: 오바마, 붕괴, 개혁, 민주당, 균형",
          "<b>Topic 12</b><br>Words: 오바마, 공화, 중동, 이스라엘, 재선",
          "<b>Topic 12</b><br>Words: 롬니, 오바마, 실패, 위성, 공화",
          "<b>Topic 12</b><br>Words: 양국, 방미, 이견, 협정, 냉전",
          "<b>Topic 12</b><br>Words: 국방, 중간, 방어, 편입, 지침",
          "<b>Topic 12</b><br>Words: 법원, 연방, 가입, 대법원장, 사건",
          "<b>Topic 12</b><br>Words: 자산, 배치, 억제, 당국자, 확장",
          "<b>Topic 12</b><br>Words: 레드라인, 이스라엘, 예루살렘, 전쟁, 핵실험",
          "<b>Topic 12</b><br>Words: 비핵화, 평창, 평화, 올림픽, 남북",
          "<b>Topic 12</b><br>Words: 지소, 미아, 종료, 방위비, 반환",
          "<b>Topic 12</b><br>Words: 종전, 선언, 남북, 워킹, 방역",
          "<b>Topic 12</b><br>Words: 연세, 개국, 총리, 영국, 회의",
          "<b>Topic 12</b><br>Words: 우크라, 이나, 러시아, 전쟁, 나토",
          "<b>Topic 12</b><br>Words: 인공, 지능, 규제, 인공지능, 거대",
          "<b>Topic 12</b><br>Words: 법안, 국제법, 학번, 법제, 교계"
         ],
         "marker": {
          "color": "#0072B2"
         },
         "mode": "lines",
         "name": "12_지소_미아_종료_오바마",
         "type": "scatter",
         "x": [
          2001,
          2002,
          2004,
          2005,
          2006,
          2007,
          2008,
          2009,
          2010,
          2011,
          2012,
          2013,
          2014,
          2015,
          2016,
          2017,
          2018,
          2019,
          2020,
          2021,
          2022,
          2023,
          2024
         ],
         "y": [
          1,
          1,
          1,
          1,
          1,
          1,
          1,
          2,
          4,
          8,
          1,
          2,
          3,
          7,
          1,
          4,
          12,
          35,
          19,
          2,
          3,
          2,
          2
         ]
        },
        {
         "hoverinfo": "text",
         "hovertext": [
          "<b>Topic 13</b><br>Words: 전원, 특차, 구분, 공학부, 전기",
          "<b>Topic 13</b><br>Words: 치료제, 실험, 에이즈, 임상, 가정",
          "<b>Topic 13</b><br>Words: 대중, 문화, 기증, 장기, 출간",
          "<b>Topic 13</b><br>Words: 에이즈, 세포, 생존, 농촌, 바이러스",
          "<b>Topic 13</b><br>Words: 신부, 엘리트, 사학, 선교, 대회",
          "<b>Topic 13</b><br>Words: 아담, 이슬람, 자원, 신학교, 선교사",
          "<b>Topic 13</b><br>Words: 홀리, 클럽, 추모, 선교, 식품",
          "<b>Topic 13</b><br>Words: 조화, 군산, 유치, 균형, 감정",
          "<b>Topic 13</b><br>Words: 드라마, 공동체, 선수, 한국인, 치유",
          "<b>Topic 13</b><br>Words: 학력, 선교, 현직, 이슬람, 학위",
          "<b>Topic 13</b><br>Words: 논술, 학력, 최저, 수능, 우선",
          "<b>Topic 13</b><br>Words: 심리학, 공인, 서류, 면접, 내신",
          "<b>Topic 13</b><br>Words: 코스타, 유학, 조국, 헌신, 지성",
          "<b>Topic 13</b><br>Words: 학술, 신학, 파송, 본질, 학회",
          "<b>Topic 13</b><br>Words: 대안, 학교, 기독교, 학력, 특징",
          "<b>Topic 13</b><br>Words: 드라마, 저자, 질서, 과학자, 각자",
          "<b>Topic 13</b><br>Words: 신입, 원로, 지도자, 영성, 최고",
          "<b>Topic 13</b><br>Words: 김치, 유산균, 98, co, 식품",
          "<b>Topic 13</b><br>Words: 전지, 말씀, 제품, 묵상, 세월",
          "<b>Topic 13</b><br>Words: 벽돌, 루터, 이스트, 인제, 건물",
          "<b>Topic 13</b><br>Words: 페미니즘, 강연, 징계, 나무, 주최",
          "<b>Topic 13</b><br>Words: 출산, 결혼, 엄마, 처리, 통일",
          "<b>Topic 13</b><br>Words: 장로회, 대한, 총회, 협약, 선교",
          "<b>Topic 13</b><br>Words: 이스트, 바이오, 선교사, 선교, 한인",
          "<b>Topic 13</b><br>Words: 영혼, ai, 택시, 콘퍼런스, 변증",
          "<b>Topic 13</b><br>Words: 변증, 민회, 기독교, 신학교, 초대",
          "<b>Topic 13</b><br>Words: 항공, 육성, 첨단, 동력, 산업"
         ],
         "marker": {
          "color": "#CC79A7"
         },
         "mode": "lines",
         "name": "13_김치_벽돌_코스타_선교",
         "type": "scatter",
         "x": [
          1995,
          1996,
          1998,
          1999,
          2000,
          2003,
          2004,
          2005,
          2006,
          2007,
          2008,
          2009,
          2010,
          2011,
          2012,
          2013,
          2014,
          2015,
          2016,
          2017,
          2018,
          2019,
          2020,
          2021,
          2022,
          2023,
          2024
         ],
         "y": [
          1,
          5,
          3,
          1,
          4,
          7,
          4,
          4,
          3,
          2,
          5,
          5,
          4,
          3,
          1,
          1,
          3,
          5,
          3,
          9,
          4,
          5,
          1,
          6,
          3,
          10,
          1
         ]
        },
        {
         "hoverinfo": "text",
         "hovertext": [
          "<b>Topic 14</b><br>Words: 공화, 클린턴, 공약, 물론, 선거",
          "<b>Topic 14</b><br>Words: 클린턴, 무역, 트럼프, 당선, 배치",
          "<b>Topic 14</b><br>Words: 트럼프, 외교관, 낙태, 백악관, 집권",
          "<b>Topic 14</b><br>Words: 트럼프, 회담, 북미, 정상, cvid",
          "<b>Topic 14</b><br>Words: 트럼프, 친서, 시리아, 정상, 회담",
          "<b>Topic 14</b><br>Words: 트럼프, 감축, 바이든, 미군, 대선",
          "<b>Topic 14</b><br>Words: 행정부, 바이든, 트럼프, 이란, 양극"
         ],
         "marker": {
          "color": "#E69F00"
         },
         "mode": "lines",
         "name": "14_트럼프_대통령_회담_북미",
         "type": "scatter",
         "x": [
          2010,
          2016,
          2017,
          2018,
          2019,
          2020,
          2021
         ],
         "y": [
          2,
          3,
          9,
          24,
          26,
          24,
          7
         ]
        },
        {
         "hoverinfo": "text",
         "hovertext": [
          "<b>Topic 15</b><br>Words: 청소년, 여름, 수련, 책임자, 예수전도단",
          "<b>Topic 15</b><br>Words: 사정, 성적, 정원, 선발, 수능",
          "<b>Topic 15</b><br>Words: 부사장, 처리, kbs, 이사, 임명",
          "<b>Topic 15</b><br>Words: 명령, 가정, 장신, 세미나, 문제",
          "<b>Topic 15</b><br>Words: 코스타, 한인, 유학, 대회, 사역",
          "<b>Topic 15</b><br>Words: 박람회, 부총장, 모금, 미술, 28",
          "<b>Topic 15</b><br>Words: 이라크, 구호, 29, 기아대책, 28",
          "<b>Topic 15</b><br>Words: 우즈베키스탄, 봉사, 한글, 여학생, 학장",
          "<b>Topic 15</b><br>Words: 영화, 수리, 탐구, 영역, 자연",
          "<b>Topic 15</b><br>Words: 언론, 신문, 선포, 창조주, 회복",
          "<b>Topic 15</b><br>Words: 동결, 사립대, 등록금, 아카데미, 부담",
          "<b>Topic 15</b><br>Words: 발인, 29, 장모, 성모병원, 28",
          "<b>Topic 15</b><br>Words: 창업, 제품, 청년, 예비, 입주",
          "<b>Topic 15</b><br>Words: 적성, 진학, 진로, 작성, 원서",
          "<b>Topic 15</b><br>Words: 시험, 제도, 원주, 술대, 유수",
          "<b>Topic 15</b><br>Words: 장례식장, 별세, 창작, 미술, 신임",
          "<b>Topic 15</b><br>Words: 중독, 양육, 제일, 세미나, 미디어",
          "<b>Topic 15</b><br>Words: 영일, 영덕, 축제, 영어, 캠프",
          "<b>Topic 15</b><br>Words: 실적, 진학, 합격, 용인, 대입",
          "<b>Topic 15</b><br>Words: 편향, 통일부, 식당, 공단, 개성",
          "<b>Topic 15</b><br>Words: 태국, 기쁨, 기도, 고용, 부모",
          "<b>Topic 15</b><br>Words: 종료, 지소, 미아, 수출, gsomia",
          "<b>Topic 15</b><br>Words: 지침, 개정, 온라인, 연료, 방역",
          "<b>Topic 15</b><br>Words: esg, 반기문, un, unai, 가스",
          "<b>Topic 15</b><br>Words: esg, 스타트업, 창업, 허브, 양극",
          "<b>Topic 15</b><br>Words: 게임, 네덜란드, 예과, 시행령, 개정안",
          "<b>Topic 15</b><br>Words: 지정, 청년, 혁신, 예비, 포항시"
         ],
         "marker": {
          "color": "#56B4E9"
         },
         "mode": "lines",
         "name": "15_28_esg_29_게임",
         "type": "scatter",
         "x": [
          1995,
          1996,
          1998,
          1999,
          2000,
          2001,
          2003,
          2004,
          2005,
          2006,
          2008,
          2009,
          2010,
          2011,
          2012,
          2013,
          2014,
          2015,
          2016,
          2017,
          2018,
          2019,
          2020,
          2021,
          2022,
          2023,
          2024
         ],
         "y": [
          1,
          1,
          2,
          1,
          2,
          3,
          4,
          1,
          5,
          2,
          2,
          8,
          2,
          2,
          2,
          3,
          4,
          4,
          9,
          3,
          4,
          5,
          3,
          2,
          3,
          8,
          9
         ]
        },
        {
         "hoverinfo": "text",
         "hovertext": [
          "<b>Topic 16</b><br>Words: 농어촌, 특차, 12, 여대, 57",
          "<b>Topic 16</b><br>Words: 진화, 대학가, 창조, 일자, 학칙",
          "<b>Topic 16</b><br>Words: 우수, 선정, 특성, 재정, 33",
          "<b>Topic 16</b><br>Words: 영상, 사진, 유학, 신입, 경산",
          "<b>Topic 16</b><br>Words: 상영, 재단, 소송, 무료, 처리",
          "<b>Topic 16</b><br>Words: 기증, 석방, 남편, 부부, 징역",
          "<b>Topic 16</b><br>Words: 유권자, 투표, 선거, 고양, 지방",
          "<b>Topic 16</b><br>Words: 지표, 순위, 여건, 재정, 종합",
          "<b>Topic 16</b><br>Words: 감지, 아내, 차별, 법대, 장치",
          "<b>Topic 16</b><br>Words: 해수욕장, 유실, 송도, 세대, 북구",
          "<b>Topic 16</b><br>Words: 마을, 캄보디아, 운동, 봉사, 경운",
          "<b>Topic 16</b><br>Words: 히딩크, 플러스, 한겨레, 포럼, 감독",
          "<b>Topic 16</b><br>Words: 공무원, 민족, ccc, 히딩크, 목사",
          "<b>Topic 16</b><br>Words: 목회, 법률가, 목사, 후배, 수강",
          "<b>Topic 16</b><br>Words: 징계, 수업, 침해, 시간, 논란",
          "<b>Topic 16</b><br>Words: 얘기, 웃음, 남자, 친구, 사퇴",
          "<b>Topic 16</b><br>Words: 여학생, 남자, 학생회, 여자, 라이트",
          "<b>Topic 16</b><br>Words: 엄마, 대리, 참사, 정신, 홀리",
          "<b>Topic 16</b><br>Words: 예배, 차세대, 교회, 기쁨, 목사",
          "<b>Topic 16</b><br>Words: 혐오, 정치, 전선, 투표, 지혜",
          "<b>Topic 16</b><br>Words: 지진, 대피, 여진, 발생, 피해",
          "<b>Topic 16</b><br>Words: 대피, 징계, 지진, 소수자, 내진",
          "<b>Topic 16</b><br>Words: 발사체, 탄도, 지열, 전술, 미사일",
          "<b>Topic 16</b><br>Words: 도박, 김여정, 미사일, 살포, 전단",
          "<b>Topic 16</b><br>Words: 누나, 부총장, 조과, 국창, 아버지",
          "<b>Topic 16</b><br>Words: 택시, 기사, 아파트, 도서관, 지진",
          "<b>Topic 16</b><br>Words: 전지, 특화, 과학자, 단지, 도청",
          "<b>Topic 16</b><br>Words: 검정고시, 내신, 합격, 진학, 증가"
         ],
         "marker": {
          "color": "#009E73"
         },
         "mode": "lines",
         "name": "16_지진_대피_피해_발생",
         "type": "scatter",
         "x": [
          1995,
          1996,
          1997,
          1998,
          1999,
          2001,
          2002,
          2003,
          2004,
          2005,
          2007,
          2008,
          2009,
          2010,
          2011,
          2012,
          2013,
          2014,
          2015,
          2016,
          2017,
          2018,
          2019,
          2020,
          2021,
          2022,
          2023,
          2024
         ],
         "y": [
          2,
          2,
          1,
          1,
          2,
          6,
          1,
          1,
          1,
          2,
          2,
          3,
          3,
          3,
          2,
          2,
          3,
          6,
          4,
          1,
          19,
          6,
          4,
          5,
          3,
          3,
          4,
          1
         ]
        },
        {
         "hoverinfo": "text",
         "hovertext": [
          "<b>Topic 17</b><br>Words: 고향, 단일, 경선, 후보, 김대중",
          "<b>Topic 17</b><br>Words: 인권, 재천, 탈북자, 유엔, 획기",
          "<b>Topic 17</b><br>Words: 사격, 명박, 붕괴, 관련, 훈련",
          "<b>Topic 17</b><br>Words: 독립, 이승만, 선언, 봉쇄, 강대국",
          "<b>Topic 17</b><br>Words: 안정, 활성, 연설, 금융, 경제",
          "<b>Topic 17</b><br>Words: 위안부, 관계, 복원, 일본, 양국",
          "<b>Topic 17</b><br>Words: 무장, 연설, 선거, 총선, 국면",
          "<b>Topic 17</b><br>Words: 방미, 사드, 조기, 우즈베키스탄, 배치",
          "<b>Topic 17</b><br>Words: 비핵화, 특사, 남북, 방북, 합의",
          "<b>Topic 17</b><br>Words: 지소, 미아, 남북, 민회, 안보",
          "<b>Topic 17</b><br>Words: 남북, 종전, 대북, 선언, 개성",
          "<b>Topic 17</b><br>Words: 저자, 문장, 민주주의, 철학, 편향",
          "<b>Topic 17</b><br>Words: 성명, 윤석열, 외교, 무리, 우크라",
          "<b>Topic 17</b><br>Words: 강제, 피해자, 일본, 동원, 총리"
         ],
         "marker": {
          "color": "#F0E442"
         },
         "mode": "lines",
         "name": "17_남북_비핵화_대북_종전",
         "type": "scatter",
         "x": [
          2002,
          2004,
          2011,
          2013,
          2014,
          2015,
          2016,
          2017,
          2018,
          2019,
          2020,
          2021,
          2022,
          2023
         ],
         "y": [
          1,
          1,
          1,
          5,
          2,
          1,
          3,
          4,
          23,
          18,
          24,
          1,
          2,
          2
         ]
        },
        {
         "hoverinfo": "text",
         "hovertext": [
          "<b>Topic 18</b><br>Words: 개혁, 96, 학과, 학년, 전산",
          "<b>Topic 18</b><br>Words: 자율, 정원, 가톨릭, 사립대, 홍익",
          "<b>Topic 18</b><br>Words: 특차, 마감, 표준, 접수, 기금",
          "<b>Topic 18</b><br>Words: 치료제, 기적, 치료, 효과, 실험",
          "<b>Topic 18</b><br>Words: 예대, 교대, 유형, 신대, 가톨릭",
          "<b>Topic 18</b><br>Words: 신입, 장학금, 기숙사, 전액, 지급",
          "<b>Topic 18</b><br>Words: 단계, 인문, 68, 신대, 외국어",
          "<b>Topic 18</b><br>Words: 수대, 신대, 목포, 안산, 우송",
          "<b>Topic 18</b><br>Words: 분위, 수리, 표준, 홈페이지, 점수",
          "<b>Topic 18</b><br>Words: 물품, 코리아, 광고, 기증, 여고",
          "<b>Topic 18</b><br>Words: 기증, 추천자, 12, 11, 일괄",
          "<b>Topic 18</b><br>Words: 얼굴, 한국인, 빌딩, 창조, 전시",
          "<b>Topic 18</b><br>Words: 교대, 춘천, 토익, 조치원, 가톨릭",
          "<b>Topic 18</b><br>Words: 대원, 법조, 출신, 동문, 교무",
          "<b>Topic 18</b><br>Words: 극동방송, 체결, 인력, 상호, 스마트폰",
          "<b>Topic 18</b><br>Words: 사정관, 교협, 컨설팅, 학원, 확충",
          "<b>Topic 18</b><br>Words: 분권, 학비, 지방, 자치, 개정",
          "<b>Topic 18</b><br>Words: 편찬, 멘토링, 유영익, 국사, 청장",
          "<b>Topic 18</b><br>Words: 기부, 자립, 임팩트, 비즈니스, 수익",
          "<b>Topic 18</b><br>Words: 중앙일보, 창간, 선교사, 포스코, 50",
          "<b>Topic 18</b><br>Words: 기도, 모임, slbm, 폐기, 홀리",
          "<b>Topic 18</b><br>Words: 규모, 내진, 지진, 여진, 원전",
          "<b>Topic 18</b><br>Words: 싱가포르, 호텔, 영변, 교목, 사찰",
          "<b>Topic 18</b><br>Words: 배터리, 전작, 주둔, 분단, 특구",
          "<b>Topic 18</b><br>Words: 교과, 내신, 평양, 전형, 기대",
          "<b>Topic 18</b><br>Words: 배터리, 인구, 영일, 000, 포항",
          "<b>Topic 18</b><br>Words: 옥수수, 석좌, 수상, 공헌, 설립자",
          "<b>Topic 18</b><br>Words: 폭력, 국토, 동성애, 특화, 단지",
          "<b>Topic 18</b><br>Words: 주주, 화학, 상무, 파트, 이사회"
         ],
         "marker": {
          "color": "#D55E00"
         },
         "mode": "lines",
         "name": "18_50_중앙일보_교대_신대",
         "type": "scatter",
         "x": [
          1996,
          1997,
          1998,
          1999,
          2000,
          2001,
          2002,
          2003,
          2004,
          2005,
          2006,
          2007,
          2008,
          2009,
          2010,
          2011,
          2012,
          2013,
          2014,
          2015,
          2016,
          2017,
          2018,
          2019,
          2020,
          2021,
          2022,
          2023,
          2024
         ],
         "y": [
          1,
          1,
          2,
          3,
          2,
          3,
          5,
          5,
          3,
          3,
          2,
          4,
          4,
          2,
          1,
          3,
          2,
          5,
          1,
          6,
          3,
          1,
          4,
          6,
          2,
          2,
          1,
          3,
          1
         ]
        },
        {
         "hoverinfo": "text",
         "hovertext": [
          "<b>Topic 19</b><br>Words: 특강, 유학, 수련, 컴퓨터, 전교",
          "<b>Topic 19</b><br>Words: 특차, 세기, 21, 치료제, 반영",
          "<b>Topic 19</b><br>Words: 선교회, 특수, 대상자, 22, 초청",
          "<b>Topic 19</b><br>Words: 21, 세기, 취업, 수도, 내용",
          "<b>Topic 19</b><br>Words: 특차, 상위, 석차, 공대, 22",
          "<b>Topic 19</b><br>Words: 추천자, 학교장, 특기, 취업자, 실업",
          "<b>Topic 19</b><br>Words: 부부, 신촌, 수련, 태권, 필리핀",
          "<b>Topic 19</b><br>Words: 홀리, 클럽, 성시, 포항시, 결성",
          "<b>Topic 19</b><br>Words: 피지, 송도, 학문, 유실, 지급",
          "<b>Topic 19</b><br>Words: 출판, 공방, 서울시, 생물, 판정",
          "<b>Topic 19</b><br>Words: 평판, 학술지, 연구비, 수입, 인용",
          "<b>Topic 19</b><br>Words: 명회, 모의, 법정, 영어, 온라인",
          "<b>Topic 19</b><br>Words: 21, 23, 장인상, 부친상, 모친상",
          "<b>Topic 19</b><br>Words: 참가자, 순위, 순서, 전화, 나이",
          "<b>Topic 19</b><br>Words: 낙태, 법무, 법제, 학술, 법인",
          "<b>Topic 19</b><br>Words: 법률가, 노하우, 아시아, 중동, 여행",
          "<b>Topic 19</b><br>Words: 상담, 평생, 평신, 수강, 협회",
          "<b>Topic 19</b><br>Words: 연극, 연출, 근로자, 원내, 부당",
          "<b>Topic 19</b><br>Words: 전도, 차세대, 은혜, 등급, 수도",
          "<b>Topic 19</b><br>Words: 식품, 금속, 중구, 장학금, 미디어",
          "<b>Topic 19</b><br>Words: 자문, 위원, 김대중, 노무현, 대학교",
          "<b>Topic 19</b><br>Words: 필리핀, 단기, 아동, 하늘, 선교",
          "<b>Topic 19</b><br>Words: 아이디어, 영변, 비핵화, 발굴, 송도",
          "<b>Topic 19</b><br>Words: 혁명, 트랙, 컨퍼런스, 테크, 통일",
          "<b>Topic 19</b><br>Words: 독도, 탐방, 별세, 원어민, 남편",
          "<b>Topic 19</b><br>Words: 청소년, 송도, 의학, 도시, 21",
          "<b>Topic 19</b><br>Words: 판결, 동성혼, 동성, 윤리, 규탄",
          "<b>Topic 19</b><br>Words: 송환, 범죄, 처벌, 개국, 글로벌"
         ],
         "marker": {
          "color": "#0072B2"
         },
         "mode": "lines",
         "name": "19_21_추천자_특차_23",
         "type": "scatter",
         "x": [
          1995,
          1996,
          1997,
          1998,
          2000,
          2001,
          2002,
          2003,
          2004,
          2005,
          2006,
          2007,
          2008,
          2009,
          2010,
          2011,
          2013,
          2014,
          2015,
          2016,
          2017,
          2018,
          2019,
          2020,
          2021,
          2022,
          2023,
          2024
         ],
         "y": [
          2,
          9,
          2,
          4,
          1,
          4,
          1,
          2,
          4,
          4,
          1,
          1,
          5,
          1,
          1,
          5,
          1,
          4,
          5,
          3,
          1,
          1,
          2,
          2,
          4,
          2,
          2,
          3
         ]
        },
        {
         "hoverinfo": "text",
         "hovertext": [
          "<b>Topic 20</b><br>Words: 만점, 18, 19, 영문, 수석",
          "<b>Topic 20</b><br>Words: 만점, 불교, 19, 수련, 장애",
          "<b>Topic 20</b><br>Words: 신입, 전문대, 확정, 광고, 요강",
          "<b>Topic 20</b><br>Words: 학교장, 특기, 취업자, 토플, 실업",
          "<b>Topic 20</b><br>Words: 15, 19, 18, 추천자, 28",
          "<b>Topic 20</b><br>Words: 양심, 병역, 이라크, 심화, 19",
          "<b>Topic 20</b><br>Words: 일보, 창간, 국민, 기아대책, 논문",
          "<b>Topic 20</b><br>Words: 아프간, 일자, 생산, 봉사, 진실",
          "<b>Topic 20</b><br>Words: 투표, 선거, 재외, 공직, 동포",
          "<b>Topic 20</b><br>Words: 개신교, 석학, 복음주의, 해방, 보수",
          "<b>Topic 20</b><br>Words: 정규, 마을, 검정고시, 자유, 대안",
          "<b>Topic 20</b><br>Words: 영토, 문제, 분쟁, 봉쇄, 행태",
          "<b>Topic 20</b><br>Words: 아프리카, 경영, 질병, 탄생, 시상식",
          "<b>Topic 20</b><br>Words: 배출, 고시, 옥수수, 범죄, 보급",
          "<b>Topic 20</b><br>Words: 홀리, 클럽, 언론인, 극동방송, 바울",
          "<b>Topic 20</b><br>Words: 일자리, 고용, 서비스, 대구대, 콘서트",
          "<b>Topic 20</b><br>Words: 점검, 사랑, 지휘, 총리, 복구",
          "<b>Topic 20</b><br>Words: 시위, 학부모, 낙태, 권위, 집단",
          "<b>Topic 20</b><br>Words: 훈련, 연합, 미사일, 해제, 종료",
          "<b>Topic 20</b><br>Words: 관광, 친구, 개별, 아이, 입국",
          "<b>Topic 20</b><br>Words: 임팩트, 멘토, 수련, 집회, 만남",
          "<b>Topic 20</b><br>Words: 과학자, 의사, 의학, 포스, 인류",
          "<b>Topic 20</b><br>Words: 혐오, 피해자, 소수자, 형사, 동성혼",
          "<b>Topic 20</b><br>Words: 비평, 성경, 수술, 권위, 출마"
         ],
         "marker": {
          "color": "#CC79A7"
         },
         "mode": "lines",
         "name": "20_19_만점_18_아이",
         "type": "scatter",
         "x": [
          1995,
          1996,
          1999,
          2000,
          2001,
          2003,
          2006,
          2007,
          2008,
          2009,
          2010,
          2012,
          2013,
          2014,
          2015,
          2016,
          2017,
          2018,
          2019,
          2020,
          2021,
          2022,
          2023,
          2024
         ],
         "y": [
          2,
          4,
          1,
          2,
          4,
          5,
          2,
          3,
          1,
          2,
          4,
          2,
          3,
          2,
          2,
          1,
          4,
          1,
          2,
          6,
          1,
          1,
          4,
          5
         ]
        },
        {
         "hoverinfo": "text",
         "hovertext": [
          "<b>Topic 21</b><br>Words: 학습, 과목, 토플, 보급, 학점",
          "<b>Topic 21</b><br>Words: 특차, 에이즈, 치료제, 다양, 태국",
          "<b>Topic 21</b><br>Words: 강사, 간증, 장로, 인기, 평신",
          "<b>Topic 21</b><br>Words: 언론, 특허, 신문, 개혁, 벤처",
          "<b>Topic 21</b><br>Words: 상담, 농업, 진입, 규제, 치유",
          "<b>Topic 21</b><br>Words: 아들, 집사, 아버지, 일보, 종교",
          "<b>Topic 21</b><br>Words: 선교, 선교사, 허가, 기적, 형제",
          "<b>Topic 21</b><br>Words: 가산점, 수리, 근로자, 분위, 점수",
          "<b>Topic 21</b><br>Words: 고사, 모집, 최저, 학력, 단위",
          "<b>Topic 21</b><br>Words: 기부, 크리스천, 목소리, 점수, 통역",
          "<b>Topic 21</b><br>Words: 아프리카, 철학, 국교회, 공화국, 목회",
          "<b>Topic 21</b><br>Words: 경선, 분위, 공화, 가산점, 점수",
          "<b>Topic 21</b><br>Words: 폐쇄, 캠프, 불법, 운영, 취업",
          "<b>Topic 21</b><br>Words: 포스코, 벤처, 아이디어, 2011, 육성",
          "<b>Topic 21</b><br>Words: 실리콘밸리, 인턴, 회사, 경진, 금속",
          "<b>Topic 21</b><br>Words: 대법원장, 조지, 법원, 임명, 원내",
          "<b>Topic 21</b><br>Words: 사업단, 특성, 융합, 워크숍, 과정",
          "<b>Topic 21</b><br>Words: 베트남, 투자, 스타트업, 시장, 진출",
          "<b>Topic 21</b><br>Words: 청소, 연료, 노조, 노동자, 계약",
          "<b>Topic 21</b><br>Words: 캐나다, 원전, 원자력, 복구, 건설",
          "<b>Topic 21</b><br>Words: 선교사, 사무실, 편지, 민족, 한인",
          "<b>Topic 21</b><br>Words: 여성, 남녀, 구절, 아담, 남성",
          "<b>Topic 21</b><br>Words: 총괄, 캐나다, 판매, 행복, 브랜드"
         ],
         "marker": {
          "color": "#E69F00"
         },
         "mode": "lines",
         "name": "21_가산점_점수_사업단_분위",
         "type": "scatter",
         "x": [
          1995,
          1996,
          2000,
          2001,
          2002,
          2004,
          2005,
          2006,
          2008,
          2010,
          2011,
          2012,
          2013,
          2015,
          2016,
          2017,
          2018,
          2019,
          2020,
          2021,
          2022,
          2023,
          2024
         ],
         "y": [
          3,
          2,
          1,
          2,
          4,
          3,
          1,
          3,
          1,
          5,
          1,
          6,
          6,
          2,
          2,
          3,
          3,
          1,
          3,
          4,
          3,
          1,
          3
         ]
        },
        {
         "hoverinfo": "text",
         "hovertext": [
          "<b>Topic 22</b><br>Words: 하위, 학과, 특차, 자격, 경쟁",
          "<b>Topic 22</b><br>Words: 방송, 극동방송, 심포지엄, 빌딩, 세기",
          "<b>Topic 22</b><br>Words: 교과목, 수강, 학점, 눈길, 아주",
          "<b>Topic 22</b><br>Words: 사법, 소원, 제한, 시험, 임용",
          "<b>Topic 22</b><br>Words: 편입, 합산, 혜택, 전문대, 응시",
          "<b>Topic 22</b><br>Words: 사법, 교차, 교과목, 제도, 허용",
          "<b>Topic 22</b><br>Words: 학술지, 편집, 논문, 행태, 등급",
          "<b>Topic 22</b><br>Words: 병역, 거부, 양심, 위헌, 재판소",
          "<b>Topic 22</b><br>Words: 10, 12, 26, 21, 11",
          "<b>Topic 22</b><br>Words: 법조, 법관, 합법, 변호사, 연간",
          "<b>Topic 22</b><br>Words: 화학, 동결, 과학부, 등록금, 사립대",
          "<b>Topic 22</b><br>Words: 진입, 규제, 소송, 변호사, 대리",
          "<b>Topic 22</b><br>Words: 교과서, 국사, 논술, 출제, 고사",
          "<b>Topic 22</b><br>Words: 분권, 웃음, 회사, 조정, 인수",
          "<b>Topic 22</b><br>Words: 식품, 현대사, 임명, 지자체, 청장",
          "<b>Topic 22</b><br>Words: 사교육, 봉사, 토익, 영어, 아프리카",
          "<b>Topic 22</b><br>Words: 포착, 사원, 영업, 미술, 경향",
          "<b>Topic 22</b><br>Words: 원전, 내진, 포스, 지진, 성금",
          "<b>Topic 22</b><br>Words: 설교, 금지법, 통과, 강연회, 국교회",
          "<b>Topic 22</b><br>Words: 소수자, 검찰, 배상, 수사, 징계",
          "<b>Topic 22</b><br>Words: 설교, 차별, 동성애, 청소, 처벌",
          "<b>Topic 22</b><br>Words: 승진, 공항, 하나, 과장, 카드",
          "<b>Topic 22</b><br>Words: 태권, 웃음, 사고, 오빠, 교단",
          "<b>Topic 22</b><br>Words: 파트, 주주, 판결, 동성, 상무"
         ],
         "marker": {
          "color": "#56B4E9"
         },
         "mode": "lines",
         "name": "22_10_태권_화학_12",
         "type": "scatter",
         "x": [
          1995,
          1996,
          1997,
          1999,
          2001,
          2002,
          2003,
          2004,
          2005,
          2007,
          2008,
          2009,
          2011,
          2012,
          2013,
          2014,
          2016,
          2017,
          2018,
          2019,
          2020,
          2022,
          2023,
          2024
         ],
         "y": [
          3,
          1,
          1,
          3,
          1,
          2,
          1,
          1,
          3,
          1,
          7,
          2,
          3,
          2,
          3,
          3,
          1,
          2,
          1,
          9,
          2,
          2,
          2,
          7
         ]
        },
        {
         "hoverinfo": "text",
         "hovertext": [
          "<b>Topic 23</b><br>Words: 부시, 테러, 민족, 행태, 아픔",
          "<b>Topic 23</b><br>Words: 총선, 일보, 이라크, 취재, 보도",
          "<b>Topic 23</b><br>Words: 동북아, 소련, 영향력, 냉전, 안정",
          "<b>Topic 23</b><br>Words: 아프간, ngo, 전후, 복구, 민족",
          "<b>Topic 23</b><br>Words: 노선, 미관, 방한, 구입, 오바마",
          "<b>Topic 23</b><br>Words: 급변, 오바마, 부시, 대북, 재개",
          "<b>Topic 23</b><br>Words: 진영, 위성, 진보, 북송, 시리아",
          "<b>Topic 23</b><br>Words: 정권, 붕괴, 위협, 교체, 체제",
          "<b>Topic 23</b><br>Words: 중국, 박근혜, 과거사, 동북아, 외교",
          "<b>Topic 23</b><br>Words: 테러, 공포, 행위, 폭력, 규정",
          "<b>Topic 23</b><br>Words: korea, 위기, 정체, 탄핵, 상실",
          "<b>Topic 23</b><br>Words: 배치, 사드, 외교, 방미, 조기",
          "<b>Topic 23</b><br>Words: 매티스, 종전, 발언, 올림픽, 제재",
          "<b>Topic 23</b><br>Words: 지소, 미아, 종료, 주한, 미군",
          "<b>Topic 23</b><br>Words: 미군, 주한, 폼페이, 휴직, 종전",
          "<b>Topic 23</b><br>Words: 우크라, 이나, 외교, 외교부, 국익",
          "<b>Topic 23</b><br>Words: 윤석열, 수교, 사과, 대만, 발언"
         ],
         "marker": {
          "color": "#009E73"
         },
         "mode": "lines",
         "name": "23_미군_주한_지소_미아",
         "type": "scatter",
         "x": [
          2002,
          2004,
          2005,
          2007,
          2009,
          2011,
          2012,
          2013,
          2014,
          2015,
          2016,
          2017,
          2018,
          2019,
          2020,
          2022,
          2023
         ],
         "y": [
          1,
          1,
          1,
          1,
          2,
          6,
          4,
          2,
          3,
          1,
          3,
          3,
          5,
          17,
          8,
          2,
          2
         ]
        },
        {
         "hoverinfo": "text",
         "hovertext": [
          "<b>Topic 24</b><br>Words: 증원, 학과, 정원, 입시, 눈치",
          "<b>Topic 24</b><br>Words: 취업자, 가장, 소년, 산업체, 선발",
          "<b>Topic 24</b><br>Words: 편입, 학점, 학기, 수강, 수도",
          "<b>Topic 24</b><br>Words: 증원, 테크, 66, 취업, 미디어",
          "<b>Topic 24</b><br>Words: 모금, 000, 편입, 기금, 자동",
          "<b>Topic 24</b><br>Words: 외국인, 노동자, 결혼, 불법, 절차",
          "<b>Topic 24</b><br>Words: 선출, 형제, 투표, 총장, 홍익",
          "<b>Topic 24</b><br>Words: 교대, 월급, 캠프, 가톨릭, 탐구",
          "<b>Topic 24</b><br>Words: 구호, 광고, 인도네시아, 자동차, 콘서트",
          "<b>Topic 24</b><br>Words: 재외, 전형, 서류, 구술, 미만",
          "<b>Topic 24</b><br>Words: 사원, 회사, 공연, 교대, 무기",
          "<b>Topic 24</b><br>Words: 공연, 페스티벌, 특성, 작품, 뮤지컬",
          "<b>Topic 24</b><br>Words: 분할, 학년도, 모집, 2009, 대입",
          "<b>Topic 24</b><br>Words: 일괄, 합산, 인문, 사립, 자연",
          "<b>Topic 24</b><br>Words: 보직, 공립, 인상, 사립대, 교원",
          "<b>Topic 24</b><br>Words: 선거, 대한민국, 국회의원, 민주, 소신",
          "<b>Topic 24</b><br>Words: 확정, 금융, 캠프, 미만, 교대",
          "<b>Topic 24</b><br>Words: 세월, 국방, 장치, 찬양, 고객",
          "<b>Topic 24</b><br>Words: 적정, 창업, 동아리, 경연, 아이디어",
          "<b>Topic 24</b><br>Words: 외국인, 어학, 유학, 개헌, 충족",
          "<b>Topic 24</b><br>Words: 강사, 서류, 남측, 디자인, 판문점",
          "<b>Topic 24</b><br>Words: 세계관, 저자, 뿌리, 교재, 기원",
          "<b>Topic 24</b><br>Words: 비평, 수련, 청소년, 맞춤, 선도",
          "<b>Topic 24</b><br>Words: 진리, 상실, 증진, 크리스천, 십자가"
         ],
         "marker": {
          "color": "#F0E442"
         },
         "mode": "lines",
         "name": "24_교대_일괄_합산_적정",
         "type": "scatter",
         "x": [
          1995,
          1996,
          1997,
          1998,
          1999,
          2002,
          2003,
          2004,
          2005,
          2006,
          2007,
          2008,
          2009,
          2010,
          2011,
          2012,
          2013,
          2015,
          2016,
          2017,
          2019,
          2020,
          2022,
          2024
         ],
         "y": [
          2,
          2,
          2,
          2,
          2,
          1,
          3,
          4,
          4,
          1,
          3,
          2,
          1,
          2,
          1,
          1,
          6,
          4,
          3,
          6,
          3,
          1,
          3,
          2
         ]
        },
        {
         "hoverinfo": "text",
         "hovertext": [
          "<b>Topic 25</b><br>Words: 장군, 해군, 합참, 의장, 박물관",
          "<b>Topic 25</b><br>Words: 국면, 도발, 중국, nll, 타협",
          "<b>Topic 25</b><br>Words: 대화, 공개, 회담, 공방, 김정일",
          "<b>Topic 25</b><br>Words: 위안부, 성명, 외교, 회담, 지침",
          "<b>Topic 25</b><br>Words: 사드, 배치, 위안부, 대북, 정상",
          "<b>Topic 25</b><br>Words: 문재, 코리아, 조지, 안보, 대사",
          "<b>Topic 25</b><br>Words: 회담, 정상, 사찰, 협정, 고위급",
          "<b>Topic 25</b><br>Words: 일본, 지소, 미아, 영국, gsomia",
          "<b>Topic 25</b><br>Words: 대화, 도발, 바이든, 열병식, 당선인",
          "<b>Topic 25</b><br>Words: 통화, 후보, 군사력, 국무부, 식량",
          "<b>Topic 25</b><br>Words: 우크라, 이나, 나토, 러시아, 무기"
         ],
         "marker": {
          "color": "#D55E00"
         },
         "mode": "lines",
         "name": "25_회담_대화_정상_협정",
         "type": "scatter",
         "x": [
          2007,
          2010,
          2013,
          2015,
          2016,
          2017,
          2018,
          2019,
          2020,
          2021,
          2022
         ],
         "y": [
          1,
          2,
          5,
          5,
          4,
          2,
          15,
          12,
          8,
          6,
          1
         ]
        },
        {
         "hoverinfo": "text",
         "hovertext": [
          "<b>Topic 26</b><br>Words: 크리스마스, 그리스도인, 탄생, 예수, 가족",
          "<b>Topic 26</b><br>Words: 아내, 기득, 비행기, 찬성, 직장",
          "<b>Topic 26</b><br>Words: 결혼, 흐름, 업체, 컨설팅, 예비",
          "<b>Topic 26</b><br>Words: 크리스천, 리더, 소녀, 화상, 수술",
          "<b>Topic 26</b><br>Words: 용서, 전도사, 예수, 의료, 선린",
          "<b>Topic 26</b><br>Words: 자녀, 사랑, 은혜, 하나님, 동기",
          "<b>Topic 26</b><br>Words: 저자, 하나님, 인생, 신학교, 상처",
          "<b>Topic 26</b><br>Words: 호주, 교단, 한인, 한국인, 차세대",
          "<b>Topic 26</b><br>Words: 예수, 하늘, 주일, 소망, 하나님",
          "<b>Topic 26</b><br>Words: 하늘, 회개, 찬양, 하나님, 소망",
          "<b>Topic 26</b><br>Words: 진리, 약자, 기도회, 마리, 기도",
          "<b>Topic 26</b><br>Words: 동성애, 동성애자, 개신교, 성경, 행위",
          "<b>Topic 26</b><br>Words: 나무, 창간, 담임, 개신교, 목회",
          "<b>Topic 26</b><br>Words: 비즈니스, 특강, 사전, 동료, 장순흥",
          "<b>Topic 26</b><br>Words: 열매, 나무, 예수, 성경, 공동체",
          "<b>Topic 26</b><br>Words: 사랑, 세상, 전쟁, 이익, 진리",
          "<b>Topic 26</b><br>Words: 사랑, 예수, 하나님, 게임, 홀리",
          "<b>Topic 26</b><br>Words: 지옥, 교리, 예수, 고통, 하나님",
          "<b>Topic 26</b><br>Words: 지옥, 영원, 보편, 교리, 구원"
         ],
         "marker": {
          "color": "#0072B2"
         },
         "mode": "lines",
         "name": "26_예수_지옥_하나님_동성애",
         "type": "scatter",
         "x": [
          1999,
          2002,
          2003,
          2005,
          2006,
          2009,
          2011,
          2012,
          2014,
          2015,
          2016,
          2017,
          2018,
          2019,
          2020,
          2021,
          2022,
          2023,
          2024
         ],
         "y": [
          1,
          1,
          3,
          2,
          1,
          3,
          1,
          1,
          8,
          3,
          2,
          5,
          1,
          1,
          3,
          5,
          7,
          8,
          5
         ]
        },
        {
         "hoverinfo": "text",
         "hovertext": [
          "<b>Topic 27</b><br>Words: 응시, 합격자, 수석, 이념, 컴퓨터",
          "<b>Topic 27</b><br>Words: 수련, 크리스천, 내달, 박사, 책임자",
          "<b>Topic 27</b><br>Words: 신입, 동덕, 충원, 기록부, 대신",
          "<b>Topic 27</b><br>Words: 평신, 세미, 세미나, 사역, 확립",
          "<b>Topic 27</b><br>Words: 수상자, 공로, 노인, 67, 46",
          "<b>Topic 27</b><br>Words: 복구, 봉사자, 물품, 구호, 가구",
          "<b>Topic 27</b><br>Words: 발인, 재미, 부친상, 12, 부상",
          "<b>Topic 27</b><br>Words: 페스티벌, 축제, 바다, 부산, 상영",
          "<b>Topic 27</b><br>Words: 부친상, 발인, 병원, 모친상, 부장",
          "<b>Topic 27</b><br>Words: 세브, 란스, 연세, 자율, 병원",
          "<b>Topic 27</b><br>Words: 히딩크, 감독, 간담회, 신화, 축구",
          "<b>Topic 27</b><br>Words: 부친상, 발인, 12, 병원, 삼성",
          "<b>Topic 27</b><br>Words: 충원, 등록금, 현대사, 반값, 발인",
          "<b>Topic 27</b><br>Words: 추모, 객원, 음악, 아프리카, 뉴욕",
          "<b>Topic 27</b><br>Words: 발인, 별세, 12, 병원, 분당",
          "<b>Topic 27</b><br>Words: 기부, 성탄, 사회봉사, 프로그램, 포항",
          "<b>Topic 27</b><br>Words: 약학, 학번, 기도회, 학부모, 삼성전자",
          "<b>Topic 27</b><br>Words: 교단, 간사, 전도, 선교, 예배",
          "<b>Topic 27</b><br>Words: 건물, 공사, 철도, 가구, 지진",
          "<b>Topic 27</b><br>Words: 특보, 시상식, 촉진, 이사회, 해군",
          "<b>Topic 27</b><br>Words: 온라인, 대남, 노선, 공유, 군사력",
          "<b>Topic 27</b><br>Words: 과학자, 도청, 북송, 수용소, 마을"
         ],
         "marker": {
          "color": "#CC79A7"
         },
         "mode": "lines",
         "name": "27_발인_12_부친상_병원",
         "type": "scatter",
         "x": [
          1995,
          1996,
          1999,
          2001,
          2002,
          2003,
          2004,
          2005,
          2006,
          2007,
          2008,
          2009,
          2011,
          2012,
          2013,
          2015,
          2016,
          2017,
          2018,
          2019,
          2021,
          2023
         ],
         "y": [
          2,
          1,
          1,
          1,
          1,
          1,
          1,
          1,
          4,
          4,
          2,
          4,
          8,
          4,
          4,
          3,
          3,
          3,
          2,
          4,
          2,
          2
         ]
        },
        {
         "hoverinfo": "text",
         "hovertext": [
          "<b>Topic 28</b><br>Words: 본고사, 실기, 지원자, 나머지, 전기",
          "<b>Topic 28</b><br>Words: 침묵, 17, 세기, 석학, 의원",
          "<b>Topic 28</b><br>Words: 도서, 구매, 수행, 저자, 구절",
          "<b>Topic 28</b><br>Words: 교도소, 민간, 장로, 사장, 이사장",
          "<b>Topic 28</b><br>Words: 침례, 수련, 창립, 기념, 멘토링",
          "<b>Topic 28</b><br>Words: 일보, 창간, 칼럼, 국민, 기아대책",
          "<b>Topic 28</b><br>Words: 반환, 영구, 장군, 캠페인, 최선",
          "<b>Topic 28</b><br>Words: 17, 평양, 도서관, 시내, 클럽",
          "<b>Topic 28</b><br>Words: 처장, 기획, 지표, 문단, 합산",
          "<b>Topic 28</b><br>Words: 사정관, 교사, 소개서, 입학, 자기",
          "<b>Topic 28</b><br>Words: 개척, 성령, 예배, 파송, 집회",
          "<b>Topic 28</b><br>Words: 인성, 교내, 사교육, 수상, 대회",
          "<b>Topic 28</b><br>Words: 인증, 건물, 내진, 주택, 피해",
          "<b>Topic 28</b><br>Words: 세속, 위주, 개편, 공론, 비율",
          "<b>Topic 28</b><br>Words: 유엔사, 사령관, 전력, 증원, 재건",
          "<b>Topic 28</b><br>Words: 작전, 가속기, 참모, 창작, 공군",
          "<b>Topic 28</b><br>Words: 바이오, 지자체, 허브, 수도, 송도",
          "<b>Topic 28</b><br>Words: 주립, 명회, 운동장, 글로벌, 양육",
          "<b>Topic 28</b><br>Words: 출장, 법무부, 조례, 참사, 판결",
          "<b>Topic 28</b><br>Words: 시티, 정주, 복합, 개원, 공간"
         ],
         "marker": {
          "color": "#E69F00"
         },
         "mode": "lines",
         "name": "28_유엔사_17_출장_작전",
         "type": "scatter",
         "x": [
          1995,
          1996,
          2001,
          2003,
          2004,
          2005,
          2007,
          2008,
          2010,
          2011,
          2012,
          2015,
          2017,
          2018,
          2019,
          2020,
          2021,
          2022,
          2023,
          2024
         ],
         "y": [
          1,
          2,
          1,
          1,
          1,
          2,
          1,
          4,
          2,
          3,
          1,
          3,
          2,
          3,
          7,
          6,
          2,
          1,
          10,
          3
         ]
        },
        {
         "hoverinfo": "text",
         "hovertext": [
          "<b>Topic 29</b><br>Words: 지방, 기업체, 육성, 정립, 확충",
          "<b>Topic 29</b><br>Words: 송도, 유실, 해수욕장, 보상, 포스코",
          "<b>Topic 29</b><br>Words: 아들, 권사, 태국, 교지, 아픔",
          "<b>Topic 29</b><br>Words: 교장, 상담, 배려, 자료, 봉사",
          "<b>Topic 29</b><br>Words: 고용, 평등, 중소기업, 남녀, 상공",
          "<b>Topic 29</b><br>Words: 사립대, 본고사, 고교, 폐지, 포스",
          "<b>Topic 29</b><br>Words: 디자인, 세계관, 도시, 이사장, 발굴",
          "<b>Topic 29</b><br>Words: 고통, 참사, 공부, 유학, 국제법",
          "<b>Topic 29</b><br>Words: 울릉군, 유학, 진학, 울릉도, 울릉",
          "<b>Topic 29</b><br>Words: 중독, 법안, 경산, 언어, 한겨레",
          "<b>Topic 29</b><br>Words: 나무, 테크노, 의료, 명회, 사업단",
          "<b>Topic 29</b><br>Words: 경시, 인도네시아, 통화, 조과, 국창",
          "<b>Topic 29</b><br>Words: 00, 특강, 박람회, 명회, 대입",
          "<b>Topic 29</b><br>Words: 동성애, 동성, 성경, 결혼, 선언문",
          "<b>Topic 29</b><br>Words: 진로, 명회, 페미니즘, 진학, 징계",
          "<b>Topic 29</b><br>Words: 한인, 선교사, 용역, 동성애, 교장",
          "<b>Topic 29</b><br>Words: 성시, 금지법, 차별, 포괄, 협의회",
          "<b>Topic 29</b><br>Words: 의약품, 플랫, 일대, 자원, 구축",
          "<b>Topic 29</b><br>Words: 전지, 발달, 단지, 특화, 장애",
          "<b>Topic 29</b><br>Words: 디지털, 전지, 거점, 진흥, sw",
          "<b>Topic 29</b><br>Words: 복합, 울릉도, 단지, 미션, 사학"
         ],
         "marker": {
          "color": "#56B4E9"
         },
         "mode": "lines",
         "name": "29_00_특강_전지_송도",
         "type": "scatter",
         "x": [
          1995,
          2003,
          2005,
          2006,
          2007,
          2008,
          2009,
          2010,
          2012,
          2013,
          2014,
          2015,
          2016,
          2017,
          2018,
          2019,
          2020,
          2021,
          2022,
          2023,
          2024
         ],
         "y": [
          1,
          3,
          1,
          1,
          1,
          1,
          2,
          1,
          2,
          3,
          6,
          7,
          3,
          1,
          3,
          4,
          1,
          1,
          3,
          5,
          6
         ]
        }
       ],
       "layout": {
        "height": 450,
        "hoverlabel": {
         "bgcolor": "white",
         "font": {
          "family": "Rockwell",
          "size": 16
         }
        },
        "legend": {
         "title": {
          "text": "<b>Global Topic Representation"
         }
        },
        "template": {
         "data": {
          "bar": [
           {
            "error_x": {
             "color": "rgb(36,36,36)"
            },
            "error_y": {
             "color": "rgb(36,36,36)"
            },
            "marker": {
             "line": {
              "color": "white",
              "width": 0.5
             },
             "pattern": {
              "fillmode": "overlay",
              "size": 10,
              "solidity": 0.2
             }
            },
            "type": "bar"
           }
          ],
          "barpolar": [
           {
            "marker": {
             "line": {
              "color": "white",
              "width": 0.5
             },
             "pattern": {
              "fillmode": "overlay",
              "size": 10,
              "solidity": 0.2
             }
            },
            "type": "barpolar"
           }
          ],
          "carpet": [
           {
            "aaxis": {
             "endlinecolor": "rgb(36,36,36)",
             "gridcolor": "white",
             "linecolor": "white",
             "minorgridcolor": "white",
             "startlinecolor": "rgb(36,36,36)"
            },
            "baxis": {
             "endlinecolor": "rgb(36,36,36)",
             "gridcolor": "white",
             "linecolor": "white",
             "minorgridcolor": "white",
             "startlinecolor": "rgb(36,36,36)"
            },
            "type": "carpet"
           }
          ],
          "choropleth": [
           {
            "colorbar": {
             "outlinewidth": 1,
             "tickcolor": "rgb(36,36,36)",
             "ticks": "outside"
            },
            "type": "choropleth"
           }
          ],
          "contour": [
           {
            "colorbar": {
             "outlinewidth": 1,
             "tickcolor": "rgb(36,36,36)",
             "ticks": "outside"
            },
            "colorscale": [
             [
              0,
              "#440154"
             ],
             [
              0.1111111111111111,
              "#482878"
             ],
             [
              0.2222222222222222,
              "#3e4989"
             ],
             [
              0.3333333333333333,
              "#31688e"
             ],
             [
              0.4444444444444444,
              "#26828e"
             ],
             [
              0.5555555555555556,
              "#1f9e89"
             ],
             [
              0.6666666666666666,
              "#35b779"
             ],
             [
              0.7777777777777778,
              "#6ece58"
             ],
             [
              0.8888888888888888,
              "#b5de2b"
             ],
             [
              1,
              "#fde725"
             ]
            ],
            "type": "contour"
           }
          ],
          "contourcarpet": [
           {
            "colorbar": {
             "outlinewidth": 1,
             "tickcolor": "rgb(36,36,36)",
             "ticks": "outside"
            },
            "type": "contourcarpet"
           }
          ],
          "heatmap": [
           {
            "colorbar": {
             "outlinewidth": 1,
             "tickcolor": "rgb(36,36,36)",
             "ticks": "outside"
            },
            "colorscale": [
             [
              0,
              "#440154"
             ],
             [
              0.1111111111111111,
              "#482878"
             ],
             [
              0.2222222222222222,
              "#3e4989"
             ],
             [
              0.3333333333333333,
              "#31688e"
             ],
             [
              0.4444444444444444,
              "#26828e"
             ],
             [
              0.5555555555555556,
              "#1f9e89"
             ],
             [
              0.6666666666666666,
              "#35b779"
             ],
             [
              0.7777777777777778,
              "#6ece58"
             ],
             [
              0.8888888888888888,
              "#b5de2b"
             ],
             [
              1,
              "#fde725"
             ]
            ],
            "type": "heatmap"
           }
          ],
          "heatmapgl": [
           {
            "colorbar": {
             "outlinewidth": 1,
             "tickcolor": "rgb(36,36,36)",
             "ticks": "outside"
            },
            "colorscale": [
             [
              0,
              "#440154"
             ],
             [
              0.1111111111111111,
              "#482878"
             ],
             [
              0.2222222222222222,
              "#3e4989"
             ],
             [
              0.3333333333333333,
              "#31688e"
             ],
             [
              0.4444444444444444,
              "#26828e"
             ],
             [
              0.5555555555555556,
              "#1f9e89"
             ],
             [
              0.6666666666666666,
              "#35b779"
             ],
             [
              0.7777777777777778,
              "#6ece58"
             ],
             [
              0.8888888888888888,
              "#b5de2b"
             ],
             [
              1,
              "#fde725"
             ]
            ],
            "type": "heatmapgl"
           }
          ],
          "histogram": [
           {
            "marker": {
             "line": {
              "color": "white",
              "width": 0.6
             }
            },
            "type": "histogram"
           }
          ],
          "histogram2d": [
           {
            "colorbar": {
             "outlinewidth": 1,
             "tickcolor": "rgb(36,36,36)",
             "ticks": "outside"
            },
            "colorscale": [
             [
              0,
              "#440154"
             ],
             [
              0.1111111111111111,
              "#482878"
             ],
             [
              0.2222222222222222,
              "#3e4989"
             ],
             [
              0.3333333333333333,
              "#31688e"
             ],
             [
              0.4444444444444444,
              "#26828e"
             ],
             [
              0.5555555555555556,
              "#1f9e89"
             ],
             [
              0.6666666666666666,
              "#35b779"
             ],
             [
              0.7777777777777778,
              "#6ece58"
             ],
             [
              0.8888888888888888,
              "#b5de2b"
             ],
             [
              1,
              "#fde725"
             ]
            ],
            "type": "histogram2d"
           }
          ],
          "histogram2dcontour": [
           {
            "colorbar": {
             "outlinewidth": 1,
             "tickcolor": "rgb(36,36,36)",
             "ticks": "outside"
            },
            "colorscale": [
             [
              0,
              "#440154"
             ],
             [
              0.1111111111111111,
              "#482878"
             ],
             [
              0.2222222222222222,
              "#3e4989"
             ],
             [
              0.3333333333333333,
              "#31688e"
             ],
             [
              0.4444444444444444,
              "#26828e"
             ],
             [
              0.5555555555555556,
              "#1f9e89"
             ],
             [
              0.6666666666666666,
              "#35b779"
             ],
             [
              0.7777777777777778,
              "#6ece58"
             ],
             [
              0.8888888888888888,
              "#b5de2b"
             ],
             [
              1,
              "#fde725"
             ]
            ],
            "type": "histogram2dcontour"
           }
          ],
          "mesh3d": [
           {
            "colorbar": {
             "outlinewidth": 1,
             "tickcolor": "rgb(36,36,36)",
             "ticks": "outside"
            },
            "type": "mesh3d"
           }
          ],
          "parcoords": [
           {
            "line": {
             "colorbar": {
              "outlinewidth": 1,
              "tickcolor": "rgb(36,36,36)",
              "ticks": "outside"
             }
            },
            "type": "parcoords"
           }
          ],
          "pie": [
           {
            "automargin": true,
            "type": "pie"
           }
          ],
          "scatter": [
           {
            "fillpattern": {
             "fillmode": "overlay",
             "size": 10,
             "solidity": 0.2
            },
            "type": "scatter"
           }
          ],
          "scatter3d": [
           {
            "line": {
             "colorbar": {
              "outlinewidth": 1,
              "tickcolor": "rgb(36,36,36)",
              "ticks": "outside"
             }
            },
            "marker": {
             "colorbar": {
              "outlinewidth": 1,
              "tickcolor": "rgb(36,36,36)",
              "ticks": "outside"
             }
            },
            "type": "scatter3d"
           }
          ],
          "scattercarpet": [
           {
            "marker": {
             "colorbar": {
              "outlinewidth": 1,
              "tickcolor": "rgb(36,36,36)",
              "ticks": "outside"
             }
            },
            "type": "scattercarpet"
           }
          ],
          "scattergeo": [
           {
            "marker": {
             "colorbar": {
              "outlinewidth": 1,
              "tickcolor": "rgb(36,36,36)",
              "ticks": "outside"
             }
            },
            "type": "scattergeo"
           }
          ],
          "scattergl": [
           {
            "marker": {
             "colorbar": {
              "outlinewidth": 1,
              "tickcolor": "rgb(36,36,36)",
              "ticks": "outside"
             }
            },
            "type": "scattergl"
           }
          ],
          "scattermapbox": [
           {
            "marker": {
             "colorbar": {
              "outlinewidth": 1,
              "tickcolor": "rgb(36,36,36)",
              "ticks": "outside"
             }
            },
            "type": "scattermapbox"
           }
          ],
          "scatterpolar": [
           {
            "marker": {
             "colorbar": {
              "outlinewidth": 1,
              "tickcolor": "rgb(36,36,36)",
              "ticks": "outside"
             }
            },
            "type": "scatterpolar"
           }
          ],
          "scatterpolargl": [
           {
            "marker": {
             "colorbar": {
              "outlinewidth": 1,
              "tickcolor": "rgb(36,36,36)",
              "ticks": "outside"
             }
            },
            "type": "scatterpolargl"
           }
          ],
          "scatterternary": [
           {
            "marker": {
             "colorbar": {
              "outlinewidth": 1,
              "tickcolor": "rgb(36,36,36)",
              "ticks": "outside"
             }
            },
            "type": "scatterternary"
           }
          ],
          "surface": [
           {
            "colorbar": {
             "outlinewidth": 1,
             "tickcolor": "rgb(36,36,36)",
             "ticks": "outside"
            },
            "colorscale": [
             [
              0,
              "#440154"
             ],
             [
              0.1111111111111111,
              "#482878"
             ],
             [
              0.2222222222222222,
              "#3e4989"
             ],
             [
              0.3333333333333333,
              "#31688e"
             ],
             [
              0.4444444444444444,
              "#26828e"
             ],
             [
              0.5555555555555556,
              "#1f9e89"
             ],
             [
              0.6666666666666666,
              "#35b779"
             ],
             [
              0.7777777777777778,
              "#6ece58"
             ],
             [
              0.8888888888888888,
              "#b5de2b"
             ],
             [
              1,
              "#fde725"
             ]
            ],
            "type": "surface"
           }
          ],
          "table": [
           {
            "cells": {
             "fill": {
              "color": "rgb(237,237,237)"
             },
             "line": {
              "color": "white"
             }
            },
            "header": {
             "fill": {
              "color": "rgb(217,217,217)"
             },
             "line": {
              "color": "white"
             }
            },
            "type": "table"
           }
          ]
         },
         "layout": {
          "annotationdefaults": {
           "arrowhead": 0,
           "arrowwidth": 1
          },
          "autotypenumbers": "strict",
          "coloraxis": {
           "colorbar": {
            "outlinewidth": 1,
            "tickcolor": "rgb(36,36,36)",
            "ticks": "outside"
           }
          },
          "colorscale": {
           "diverging": [
            [
             0,
             "rgb(103,0,31)"
            ],
            [
             0.1,
             "rgb(178,24,43)"
            ],
            [
             0.2,
             "rgb(214,96,77)"
            ],
            [
             0.3,
             "rgb(244,165,130)"
            ],
            [
             0.4,
             "rgb(253,219,199)"
            ],
            [
             0.5,
             "rgb(247,247,247)"
            ],
            [
             0.6,
             "rgb(209,229,240)"
            ],
            [
             0.7,
             "rgb(146,197,222)"
            ],
            [
             0.8,
             "rgb(67,147,195)"
            ],
            [
             0.9,
             "rgb(33,102,172)"
            ],
            [
             1,
             "rgb(5,48,97)"
            ]
           ],
           "sequential": [
            [
             0,
             "#440154"
            ],
            [
             0.1111111111111111,
             "#482878"
            ],
            [
             0.2222222222222222,
             "#3e4989"
            ],
            [
             0.3333333333333333,
             "#31688e"
            ],
            [
             0.4444444444444444,
             "#26828e"
            ],
            [
             0.5555555555555556,
             "#1f9e89"
            ],
            [
             0.6666666666666666,
             "#35b779"
            ],
            [
             0.7777777777777778,
             "#6ece58"
            ],
            [
             0.8888888888888888,
             "#b5de2b"
            ],
            [
             1,
             "#fde725"
            ]
           ],
           "sequentialminus": [
            [
             0,
             "#440154"
            ],
            [
             0.1111111111111111,
             "#482878"
            ],
            [
             0.2222222222222222,
             "#3e4989"
            ],
            [
             0.3333333333333333,
             "#31688e"
            ],
            [
             0.4444444444444444,
             "#26828e"
            ],
            [
             0.5555555555555556,
             "#1f9e89"
            ],
            [
             0.6666666666666666,
             "#35b779"
            ],
            [
             0.7777777777777778,
             "#6ece58"
            ],
            [
             0.8888888888888888,
             "#b5de2b"
            ],
            [
             1,
             "#fde725"
            ]
           ]
          },
          "colorway": [
           "#1F77B4",
           "#FF7F0E",
           "#2CA02C",
           "#D62728",
           "#9467BD",
           "#8C564B",
           "#E377C2",
           "#7F7F7F",
           "#BCBD22",
           "#17BECF"
          ],
          "font": {
           "color": "rgb(36,36,36)"
          },
          "geo": {
           "bgcolor": "white",
           "lakecolor": "white",
           "landcolor": "white",
           "showlakes": true,
           "showland": true,
           "subunitcolor": "white"
          },
          "hoverlabel": {
           "align": "left"
          },
          "hovermode": "closest",
          "mapbox": {
           "style": "light"
          },
          "paper_bgcolor": "white",
          "plot_bgcolor": "white",
          "polar": {
           "angularaxis": {
            "gridcolor": "rgb(232,232,232)",
            "linecolor": "rgb(36,36,36)",
            "showgrid": false,
            "showline": true,
            "ticks": "outside"
           },
           "bgcolor": "white",
           "radialaxis": {
            "gridcolor": "rgb(232,232,232)",
            "linecolor": "rgb(36,36,36)",
            "showgrid": false,
            "showline": true,
            "ticks": "outside"
           }
          },
          "scene": {
           "xaxis": {
            "backgroundcolor": "white",
            "gridcolor": "rgb(232,232,232)",
            "gridwidth": 2,
            "linecolor": "rgb(36,36,36)",
            "showbackground": true,
            "showgrid": false,
            "showline": true,
            "ticks": "outside",
            "zeroline": false,
            "zerolinecolor": "rgb(36,36,36)"
           },
           "yaxis": {
            "backgroundcolor": "white",
            "gridcolor": "rgb(232,232,232)",
            "gridwidth": 2,
            "linecolor": "rgb(36,36,36)",
            "showbackground": true,
            "showgrid": false,
            "showline": true,
            "ticks": "outside",
            "zeroline": false,
            "zerolinecolor": "rgb(36,36,36)"
           },
           "zaxis": {
            "backgroundcolor": "white",
            "gridcolor": "rgb(232,232,232)",
            "gridwidth": 2,
            "linecolor": "rgb(36,36,36)",
            "showbackground": true,
            "showgrid": false,
            "showline": true,
            "ticks": "outside",
            "zeroline": false,
            "zerolinecolor": "rgb(36,36,36)"
           }
          },
          "shapedefaults": {
           "fillcolor": "black",
           "line": {
            "width": 0
           },
           "opacity": 0.3
          },
          "ternary": {
           "aaxis": {
            "gridcolor": "rgb(232,232,232)",
            "linecolor": "rgb(36,36,36)",
            "showgrid": false,
            "showline": true,
            "ticks": "outside"
           },
           "baxis": {
            "gridcolor": "rgb(232,232,232)",
            "linecolor": "rgb(36,36,36)",
            "showgrid": false,
            "showline": true,
            "ticks": "outside"
           },
           "bgcolor": "white",
           "caxis": {
            "gridcolor": "rgb(232,232,232)",
            "linecolor": "rgb(36,36,36)",
            "showgrid": false,
            "showline": true,
            "ticks": "outside"
           }
          },
          "title": {
           "x": 0.05
          },
          "xaxis": {
           "automargin": true,
           "gridcolor": "rgb(232,232,232)",
           "linecolor": "rgb(36,36,36)",
           "showgrid": false,
           "showline": true,
           "ticks": "outside",
           "title": {
            "standoff": 15
           },
           "zeroline": false,
           "zerolinecolor": "rgb(36,36,36)"
          },
          "yaxis": {
           "automargin": true,
           "gridcolor": "rgb(232,232,232)",
           "linecolor": "rgb(36,36,36)",
           "showgrid": false,
           "showline": true,
           "ticks": "outside",
           "title": {
            "standoff": 15
           },
           "zeroline": false,
           "zerolinecolor": "rgb(36,36,36)"
          }
         }
        },
        "title": {
         "font": {
          "color": "Black",
          "size": 22
         },
         "text": "<b>Topics over Time</b>",
         "x": 0.4,
         "xanchor": "center",
         "y": 0.95,
         "yanchor": "top"
        },
        "width": 1250,
        "xaxis": {
         "showgrid": true
        },
        "yaxis": {
         "showgrid": true,
         "title": {
          "text": "Frequency"
         }
        }
       }
      }
     },
     "metadata": {},
     "output_type": "display_data"
    }
   ],
   "source": [
    "#show line plot of ToT result\n",
    "tot_vis = topic_model.visualize_topics_over_time(topics_over_time, top_n_topics=30)\n",
    "tot_vis"
   ]
  },
  {
   "cell_type": "code",
   "execution_count": 16,
   "metadata": {},
   "outputs": [],
   "source": [
    "# save the result\n",
    "BERTopic_vis.write_html(\"view/bertopic_vis.html\")\n",
    "hierachy_vis.write_html(\"view/hierachy_vis.html\")\n",
    "heatmap_vis.write_html(\"view/heatmap_vis.html\")\n",
    "barchart_vis.write_html(\"view/barchart_vis.html\")\n",
    "rank_vis.write_html(\"view/rank_vis.html\")\n",
    "tot_vis.write_html(\"view/tot_vis.html\")"
   ]
  },
  {
   "cell_type": "markdown",
   "metadata": {},
   "source": [
    "# Result interpretation\n",
    "\n",
    "- In BERTopic model, the optimal number of topics is found as a result of HDBSCAN. Therefore, the methodology (Perplexity, Coherence) used in the existing topic modeling is not used separately.\n",
    "\n",
    "- Unlike the DTM model, BERTopic includes time variables in the topic. This makes it possible to analyze continuous time fluctuations. for this reason, BERTopic is characterized by relatively accurate capture of topics even in rapidly changing data (ex, news, newspaper editorials, SNS, etc.)."
   ]
  }
 ],
 "metadata": {
  "kernelspec": {
   "display_name": "Python 3 (ipykernel)",
   "language": "python",
   "name": "python3"
  },
  "language_info": {
   "codemirror_mode": {
    "name": "ipython",
    "version": 3
   },
   "file_extension": ".py",
   "mimetype": "text/x-python",
   "name": "python",
   "nbconvert_exporter": "python",
   "pygments_lexer": "ipython3",
   "version": "3.12.1"
  }
 },
 "nbformat": 4,
 "nbformat_minor": 4
}
