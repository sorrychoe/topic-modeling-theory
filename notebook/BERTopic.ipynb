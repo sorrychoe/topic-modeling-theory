{
 "cells": [
  {
   "cell_type": "markdown",
   "metadata": {},
   "source": [
    "# Topics over Time (ToT)"
   ]
  },
  {
   "cell_type": "markdown",
   "metadata": {},
   "source": [
    "#### Author information\n",
    "\n",
    "- **Name:** Jaeseong Choe\n",
    "\n",
    "- **email address:** 21900759@handong.ac.kr\n",
    "\n",
    "- **GitHub:** https://github.com/sorrychoe\n",
    "\n",
    "- **Linkedin:** https://www.linkedin.com/in/jaeseong-choe-048639250/\n",
    "\n",
    "- **Personal Webpage:** https://jaeseongchoe.vercel.app/"
   ]
  },
  {
   "attachments": {},
   "cell_type": "markdown",
   "metadata": {},
   "source": [
    "## Part 1. Brief background of methodology"
   ]
  },
  {
   "cell_type": "markdown",
   "metadata": {},
   "source": [
    "### Overview\n",
    "\n",
    "- **BERTopic is a topic modeling technique that leverages transformer-based embeddings and a class-based TF-IDF (c-TF-IDF) approach** to generate dense clusters of documents, resulting in interpretable topics with meaningful descriptions."
   ]
  },
  {
   "cell_type": "markdown",
   "metadata": {},
   "source": [
    "### Situation Before ToT\n",
    "\n",
    "- Traditional topic modeling methods like Latent Dirichlet Allocation (LDA) often struggled with capturing the semantic nuances of documents, especially when dealing with short texts or documents with overlapping topics."
   ]
  },
  {
   "cell_type": "markdown",
   "metadata": {},
   "source": [
    "### Why ToT Was Introduced\n",
    "\n",
    "- BERTopic was introduced from the paper \"TBERTopic: Neural topic modeling with a class-based TF-IDF procedure\" of Maarten Grootendorst. (2022).\n",
    "\n",
    "- BERTopic was introduced to address the limitations of traditional models by incorporating transformer-based embeddings, which capture contextual information, and by utilizing c-TF-IDF for more coherent topic representations"
   ]
  },
  {
   "cell_type": "markdown",
   "metadata": {},
   "source": [
    "### Use Cases\n",
    "\n",
    "- BERTopic is applicable in various domains, including analyzing customer reviews, extracting themes from research articles, monitoring social media trends, and exploring historical document collections."
   ]
  },
  {
   "attachments": {},
   "cell_type": "markdown",
   "metadata": {},
   "source": [
    "## Part 2. Key concept of methodology"
   ]
  },
  {
   "cell_type": "markdown",
   "metadata": {},
   "source": [
    "### Key Concept\n",
    "\n",
    "- BERTopic combines transformer-based embeddings with clustering algorithms and a class-based TF-IDF approach to identify and represent topics within a corpus. \n",
    "  "
   ]
  },
  {
   "cell_type": "markdown",
   "metadata": {},
   "source": [
    "### Generative Process\n",
    "\n",
    "The methodology involves four main steps:\n",
    "\n",
    "**1. Document Embedding**\n",
    "\n",
    "- Each document is converted into a vector representation using a pre-trained transformer model, such as BERT. \n",
    "\n",
    "**2. Dimensionality Reduction**\n",
    "\n",
    "- The high-dimensional embeddings are reduced to a lower-dimensional space using techniques like UMAP to preserve semantic relationships. \n",
    "\n",
    "**3. Clustering**\n",
    "\n",
    "- The reduced embeddings are clustered using algorithms like HDBSCAN to group semantically similar documents. \n",
    "\n",
    "**4. Topic Representation**\n",
    "\n",
    "- For each cluster, a c-TF-IDF approach is applied to extract representative words, forming the topic description."
   ]
  },
  {
   "cell_type": "markdown",
   "metadata": {},
   "source": [
    "![ToT_Graphic](./img/ToT_Graphic.png)"
   ]
  },
  {
   "cell_type": "markdown",
   "metadata": {},
   "source": [
    "### Mathematical Representation\n",
    "\n",
    "While BERTopic does not rely on a generative probabilistic model like LDA, its core components can be mathematically described as follows:\n",
    "\n",
    "1. **Document Embedding**\n",
    "\n",
    "- Each document $d$ is transformed into an embedding vector $e_d$ using a transformer model:\n",
    "\n",
    "$$ e_d = TransformarModel(d) $$\n",
    "\n",
    "\n",
    "2. **Dimensionality Reduction**\n",
    "\n",
    "- The embedding vector $e_d$ is projected into a lower-dimensional space $u_d$ using UMAP:\n",
    "\n",
    "$$u_d = UMAP(e_d)$$\n",
    "\n",
    "3. Clustering\n",
    "\n",
    "- The reduced embedding vector $u_d$ are clustered into $K$ clusters using HDBSCAN:\n",
    "\n",
    "$$ Cluster = HDBSCAN({u_d})$$\n",
    "\n",
    "4. Class-based TF-IDF (c-TF-IDF)\n",
    "\n",
    "- For each cluster $k$ concatenate all documents to form a single class document $D_k$. Calculate the term frequency $TF(t, D_k)$ and document frequency $DF(t)$ across all clusters. The c-TF-IDF score for term $t$ in cluster $k$ is:\n",
    "\n",
    "$$c-TF-IDF(t,k) = TF(t, D_k) \\times log(\\frac{N}{DF(t)})$$"
   ]
  },
  {
   "cell_type": "markdown",
   "metadata": {
    "vscode": {
     "languageId": "plaintext"
    }
   },
   "source": [
    "### Strength\n",
    "\n",
    "- BERTopic effectively captures semantic relationships in documents through transformer embeddings and provides coherent topic representations using c-TF-IDF. Its modular design allows for flexibility in choosing embedding models, dimensionality reduction techniques, and clustering algorithms, making it adaptable to various datasets and applications."
   ]
  },
  {
   "attachments": {},
   "cell_type": "markdown",
   "metadata": {},
   "source": [
    "## Part 3. Example"
   ]
  },
  {
   "cell_type": "markdown",
   "metadata": {},
   "source": [
    "### Precautions\n",
    "\n",
    "- If you re-execute the code, there may be a slight difference in the result.\n",
    "\n",
    "- Of course, the difference in the number or content of the topic will not be significant due to the learning rate, but the number of the topic changes."
   ]
  },
  {
   "cell_type": "code",
   "execution_count": 1,
   "metadata": {},
   "outputs": [],
   "source": [
    "# import librarys\n",
    "import pandas as pd # for load excel data\n",
    "import pyBigKinds as pbk # for preprocessing news data\n",
    "from sklearn.feature_extraction.text import CountVectorizer # for vectorize text data \n",
    "from konlpy.tag import Mecab # for tokenize the Korean Words\n",
    "from bertopic.vectorizers import ClassTfidfTransformer # for get c-TF-IDF value\n",
    "from bertopic import BERTopic # for load the BERTopic model\n",
    "from hdbscan import HDBSCAN # for tunning the BERTopic model\n",
    "from umap import UMAP # for tunning the BERTopic model\n",
    "\n",
    "# for ignore the warning message\n",
    "import warnings\n",
    "warnings.filterwarnings(\"ignore\")"
   ]
  },
  {
   "cell_type": "code",
   "execution_count": 2,
   "metadata": {},
   "outputs": [],
   "source": [
    "def list_to_str(words: list):\n",
    "    \"\"\"Function that list data change to string for text preprocessing\"\"\"\n",
    "    for i in range(len(words)):\n",
    "        text = \"\"\n",
    "        for word in words[i]:\n",
    "            if text == \"\":\n",
    "                text = word\n",
    "            else: \n",
    "                text = text + \" \" + word\n",
    "        words[i] = text\n",
    "    return words"
   ]
  },
  {
   "cell_type": "code",
   "execution_count": 3,
   "metadata": {},
   "outputs": [],
   "source": [
    "class CustomTokenizer:\n",
    "    \"\"\" Define the Korean Tokenizer\"\"\"\n",
    "    def __init__(self, tagger):\n",
    "        self.tagger = tagger\n",
    "    def __call__(self, sent):\n",
    "        sent = sent[:1000000]\n",
    "        word_tokens = self.tagger.morphs(sent)\n",
    "        result = [word for word in word_tokens if len(word) > 1]\n",
    "        return result"
   ]
  },
  {
   "cell_type": "code",
   "execution_count": 11,
   "metadata": {},
   "outputs": [],
   "source": [
    "# data load\n",
    "# The data is related to Handong University, \n",
    "# which was reported in major Korean daily newspapers from January 1995 to September 2024.\n",
    "df = pd.read_excel(\"data/NewsResult_19950101-20240930.xlsx\", engine=\"openpyxl\")\n",
    "\n",
    "# add the time stamp for ToT\n",
    "df[\"시점\"] = (round(df[\"일자\"]/10000,0)).astype(int)\n",
    "df = df.sort_values(\"시점\")\n",
    "df.reset_index(drop=True, inplace=True)\n",
    "\n",
    "# text Preprocessing \n",
    "words = pbk.keyword_parser(pbk.keyword_list(df))\n",
    "words = list_to_str(words)\n",
    "timestamp = df[\"시점\"].tolist()\n",
    "\n",
    "# Define tokenizer & Vectorizer\n",
    "custom_tokenizer = CustomTokenizer(Mecab())\n",
    "vectorizer = CountVectorizer(tokenizer=custom_tokenizer, max_features=3000)"
   ]
  },
  {
   "cell_type": "code",
   "execution_count": 13,
   "metadata": {},
   "outputs": [],
   "source": [
    "# set the HDBSCAN Model for tunning BERTopic model\n",
    "ctfidf_model = ClassTfidfTransformer(reduce_frequent_words=True)\n",
    "umap_model = UMAP(n_components=5, n_neighbors=15, min_dist=0.1, metric=\"cosine\", random_state=42)\n",
    "hdbscan_model = HDBSCAN(min_samples=10, gen_min_span_tree=True, prediction_data=False, min_cluster_size=20)\n",
    "\n",
    "# Define Topic Model for ToT\n",
    "topic_model = BERTopic(\n",
    "    embedding_model=\"sentence-transformers/xlm-r-100langs-bert-base-nli-stsb-mean-tokens\", \n",
    "    vectorizer_model=vectorizer,\n",
    "    hdbscan_model=hdbscan_model,\n",
    "    ctfidf_model=ctfidf_model,\n",
    "    top_n_words=20,\n",
    "    min_topic_size=20,\n",
    "    verbose=True\n",
    ")"
   ]
  },
  {
   "cell_type": "code",
   "execution_count": 14,
   "metadata": {},
   "outputs": [
    {
     "name": "stderr",
     "output_type": "stream",
     "text": [
      "2024-11-19 16:37:55,665 - BERTopic - Embedding - Transforming documents to embeddings.\n"
     ]
    },
    {
     "data": {
      "application/vnd.jupyter.widget-view+json": {
       "model_id": "86a30de485bc4a3c9f0134e94694377b",
       "version_major": 2,
       "version_minor": 0
      },
      "text/plain": [
       "Batches:   0%|          | 0/252 [00:00<?, ?it/s]"
      ]
     },
     "metadata": {},
     "output_type": "display_data"
    },
    {
     "name": "stderr",
     "output_type": "stream",
     "text": [
      "2024-11-19 16:40:45,066 - BERTopic - Embedding - Completed ✓\n",
      "2024-11-19 16:40:45,069 - BERTopic - Dimensionality - Fitting the dimensionality reduction algorithm\n",
      "2024-11-19 16:40:51,280 - BERTopic - Dimensionality - Completed ✓\n",
      "2024-11-19 16:40:51,284 - BERTopic - Cluster - Start clustering the reduced embeddings\n",
      "2024-11-19 16:40:51,435 - BERTopic - Cluster - Completed ✓\n",
      "2024-11-19 16:40:51,446 - BERTopic - Representation - Extracting topics from clusters using representation models.\n",
      "2024-11-19 16:40:55,584 - BERTopic - Representation - Completed ✓\n"
     ]
    }
   ],
   "source": [
    "# fit the data\n",
    "topics, probs = topic_model.fit_transform(words)"
   ]
  },
  {
   "cell_type": "code",
   "execution_count": 15,
   "metadata": {},
   "outputs": [
    {
     "data": {
      "text/html": [
       "<div>\n",
       "<style scoped>\n",
       "    .dataframe tbody tr th:only-of-type {\n",
       "        vertical-align: middle;\n",
       "    }\n",
       "\n",
       "    .dataframe tbody tr th {\n",
       "        vertical-align: top;\n",
       "    }\n",
       "\n",
       "    .dataframe thead th {\n",
       "        text-align: right;\n",
       "    }\n",
       "</style>\n",
       "<table border=\"1\" class=\"dataframe\">\n",
       "  <thead>\n",
       "    <tr style=\"text-align: right;\">\n",
       "      <th></th>\n",
       "      <th>Topic</th>\n",
       "      <th>Count</th>\n",
       "      <th>Name</th>\n",
       "      <th>Representation</th>\n",
       "      <th>Representative_Docs</th>\n",
       "    </tr>\n",
       "  </thead>\n",
       "  <tbody>\n",
       "    <tr>\n",
       "      <th>0</th>\n",
       "      <td>-1</td>\n",
       "      <td>2878</td>\n",
       "      <td>-1_수시_ac_www_정시</td>\n",
       "      <td>[수시, ac, www, 정시, kr, 모집, 전형, 수능, 총장, 선발, 논술, ...</td>\n",
       "      <td>[학년도 입정 특징 분할모집 112개 한국대학교육협의회 25일 정시모집 학년도 대입...</td>\n",
       "    </tr>\n",
       "    <tr>\n",
       "      <th>1</th>\n",
       "      <td>0</td>\n",
       "      <td>624</td>\n",
       "      <td>0_바이오_ai_하나님_창조</td>\n",
       "      <td>[바이오, ai, 하나님, 창조, 성경, 인공지능, 예수, 인간, 세계, 진화, 과...</td>\n",
       "      <td>[세계 AI 가짜 주간경향 딥페이크 Deep Fake 생각 정도 미국 대통령 안심 ...</td>\n",
       "    </tr>\n",
       "    <tr>\n",
       "      <th>2</th>\n",
       "      <td>1</td>\n",
       "      <td>391</td>\n",
       "      <td>1_지정_선정_통합_10</td>\n",
       "      <td>[지정, 선정, 통합, 10, 건대, 혁신, 100, 계획, 도립, 1000, 예비...</td>\n",
       "      <td>[자격증 봉사 활동 주부 전형 대학 사건 연평도 도발 입학 서해 대입 특례 추진 서...</td>\n",
       "    </tr>\n",
       "    <tr>\n",
       "      <th>3</th>\n",
       "      <td>2</td>\n",
       "      <td>328</td>\n",
       "      <td>2_20_예비_지정_외국어</td>\n",
       "      <td>[20, 예비, 지정, 외국어, 탐구, 수리, 선교사, 대학생, 번역, 신청, 세대...</td>\n",
       "      <td>[G2시대 동북아질서 재편 천안함 연평도 정면충돌 남북 한반도 평화 안정 건설적 대...</td>\n",
       "    </tr>\n",
       "    <tr>\n",
       "      <th>4</th>\n",
       "      <td>3</td>\n",
       "      <td>249</td>\n",
       "      <td>3_트럼프_회담_정상_북미</td>\n",
       "      <td>[트럼프, 회담, 정상, 북미, 대통령, 협상, 국무, 도널드, 행정부, 바이든, ...</td>\n",
       "      <td>[입장 대미 수세 승부수 시진핑 방북 향배 주목 북한 국빈 방문 시진핑 중국 국가 ...</td>\n",
       "    </tr>\n",
       "    <tr>\n",
       "      <th>...</th>\n",
       "      <td>...</td>\n",
       "      <td>...</td>\n",
       "      <td>...</td>\n",
       "      <td>...</td>\n",
       "      <td>...</td>\n",
       "    </tr>\n",
       "    <tr>\n",
       "      <th>56</th>\n",
       "      <td>55</td>\n",
       "      <td>24</td>\n",
       "      <td>55_sma_무급_분담금_휴직</td>\n",
       "      <td>[sma, 무급, 분담금, 휴직, 방위비, 타결, 근로자, 미군, 주한, 분담, 협...</td>\n",
       "      <td>[주한 미군 한국인 근로자 초유 무급 휴직 현실 조율 방위비 분담금 협상 막바지 대...</td>\n",
       "    </tr>\n",
       "    <tr>\n",
       "      <th>57</th>\n",
       "      <td>56</td>\n",
       "      <td>22</td>\n",
       "      <td>56_동문_정당_파병_투표</td>\n",
       "      <td>[동문, 정당, 파병, 투표, 통과, 법안, 보험, 미디어, 선거, 승리, 영광, ...</td>\n",
       "      <td>[총선 총선 자문 위원 제언 투표용지 탄환 후보 13 경향신문 총선 자문 위원 선거...</td>\n",
       "    </tr>\n",
       "    <tr>\n",
       "      <th>58</th>\n",
       "      <td>57</td>\n",
       "      <td>21</td>\n",
       "      <td>57_cbmc_ccm_채플_콘서트</td>\n",
       "      <td>[cbmc, ccm, 채플, 콘서트, 찬양, 음악, 사역, 가수, 장로, 회원, 실...</td>\n",
       "      <td>[찬양 사역자 8월 15일 대전 컨퍼런스 CCM 크리스천 대중음악 찬양 대중속 강좌...</td>\n",
       "    </tr>\n",
       "    <tr>\n",
       "      <th>59</th>\n",
       "      <td>58</td>\n",
       "      <td>21</td>\n",
       "      <td>58_김영길_공로_선출_몽골</td>\n",
       "      <td>[김영길, 공로, 선출, 몽골, 회장, 총회, 법학, 입법, 이사, 정기, 석방, ...</td>\n",
       "      <td>[이성환 교수 입법 학회 회장 사단 법인 한국 입법 학회 회장 이성환 국민대 법학과...</td>\n",
       "    </tr>\n",
       "    <tr>\n",
       "      <th>60</th>\n",
       "      <td>59</td>\n",
       "      <td>20</td>\n",
       "      <td>59_마을_개헌_이슬람_종교</td>\n",
       "      <td>[마을, 개헌, 이슬람, 종교, 임팩트, 운동, 콘퍼런스, 금융, 감사, 지구촌, ...</td>\n",
       "      <td>[교회 그리스도 사회 책임 지구촌사회복지재단 교회사회복지 세미 창립 주년 기념 교회...</td>\n",
       "    </tr>\n",
       "  </tbody>\n",
       "</table>\n",
       "<p>61 rows × 5 columns</p>\n",
       "</div>"
      ],
      "text/plain": [
       "    Topic  ...                                Representative_Docs\n",
       "0      -1  ...  [학년도 입정 특징 분할모집 112개 한국대학교육협의회 25일 정시모집 학년도 대입...\n",
       "1       0  ...  [세계 AI 가짜 주간경향 딥페이크 Deep Fake 생각 정도 미국 대통령 안심 ...\n",
       "2       1  ...  [자격증 봉사 활동 주부 전형 대학 사건 연평도 도발 입학 서해 대입 특례 추진 서...\n",
       "3       2  ...  [G2시대 동북아질서 재편 천안함 연평도 정면충돌 남북 한반도 평화 안정 건설적 대...\n",
       "4       3  ...  [입장 대미 수세 승부수 시진핑 방북 향배 주목 북한 국빈 방문 시진핑 중국 국가 ...\n",
       "..    ...  ...                                                ...\n",
       "56     55  ...  [주한 미군 한국인 근로자 초유 무급 휴직 현실 조율 방위비 분담금 협상 막바지 대...\n",
       "57     56  ...  [총선 총선 자문 위원 제언 투표용지 탄환 후보 13 경향신문 총선 자문 위원 선거...\n",
       "58     57  ...  [찬양 사역자 8월 15일 대전 컨퍼런스 CCM 크리스천 대중음악 찬양 대중속 강좌...\n",
       "59     58  ...  [이성환 교수 입법 학회 회장 사단 법인 한국 입법 학회 회장 이성환 국민대 법학과...\n",
       "60     59  ...  [교회 그리스도 사회 책임 지구촌사회복지재단 교회사회복지 세미 창립 주년 기념 교회...\n",
       "\n",
       "[61 rows x 5 columns]"
      ]
     },
     "execution_count": 15,
     "metadata": {},
     "output_type": "execute_result"
    }
   ],
   "source": [
    "# show topic dataframe\n",
    "topic_model.get_topic_info()"
   ]
  },
  {
   "cell_type": "code",
   "execution_count": 16,
   "metadata": {},
   "outputs": [
    {
     "data": {
      "application/vnd.plotly.v1+json": {
       "config": {
        "plotlyServerURL": "https://plot.ly"
       },
       "data": [
        {
         "customdata": [
          [
           0,
           "바이오 | ai | 하나님 | 창조 | 성경",
           624
          ],
          [
           1,
           "지정 | 선정 | 통합 | 10 | 건대",
           391
          ],
          [
           2,
           "20 | 예비 | 지정 | 외국어 | 탐구",
           328
          ],
          [
           3,
           "트럼프 | 회담 | 정상 | 북미 | 대통령",
           249
          ],
          [
           4,
           "30 | 피지 | 학과 | 인원 | 경찰",
           234
          ],
          [
           5,
           "남북 | 대북 | 한반도 | 대화 | 비핵화",
           164
          ],
          [
           6,
           "반영 | 순위 | 평판 | 비율 | 부친상",
           150
          ],
          [
           7,
           "지진 | 15 | 옥수수 | 오빠 | 발생",
           135
          ],
          [
           8,
           "퀴어 | 누리 | 동성애 | 동성애자 | 행사",
           130
          ],
          [
           9,
           "중국 | 주석 | 회담 | 외교 | 정상",
           128
          ],
          [
           10,
           "50 | 배터리 | 사고 | 지선 | 전신",
           121
          ],
          [
           11,
           "미사일 | 발사 | icbm | 도발 | 탄도",
           119
          ],
          [
           12,
           "대학교 | 히딩크 | 감독 | 발인 | 등록금",
           117
          ],
          [
           13,
           "25 | 가족 | 대안 | 병원 | 모친상",
           117
          ],
          [
           14,
           "지진 | 대피 | 아파트 | 건물 | 피해",
           109
          ],
          [
           15,
           "김치 | 벽돌 | 코스타 | 선교 | 강연",
           101
          ],
          [
           16,
           "10 | 변증 | 등록금 | 학술지 | 12",
           97
          ],
          [
           17,
           "게임 | 28 | esg | 29 | 진학",
           90
          ],
          [
           18,
           "21 | 특차 | 추천자 | 판결 | 23",
           80
          ],
          [
           19,
           "교대 | 공연 | 비평 | 합산 | 적정",
           75
          ],
          [
           20,
           "지소 | 미아 | 종료 | gsomia | 일본",
           69
          ],
          [
           21,
           "19 | 만점 | 친구 | 18 | 관광",
           62
          ],
          [
           22,
           "통일부 | 개성 | 공단 | 남북 | 과장",
           59
          ],
          [
           23,
           "발인 | 12 | 부친상 | 병원 | 세브",
           58
          ],
          [
           24,
           "유엔사 | 17 | 출장 | 작전 | 사령관",
           58
          ],
          [
           25,
           "회담 | 정상 | 대화 | 북미 | 회의",
           58
          ],
          [
           26,
           "발인 | 모친상 | 부친상 | 병원 | 부문",
           58
          ],
          [
           27,
           "70 | 지수 | 보험 | 동맹 | 조약",
           58
          ],
          [
           28,
           "재판관 | 법관 | 신년 | 헌법 | 기도회",
           57
          ],
          [
           29,
           "오바마 | 연방 | 레드라인 | 우크라 | 법원",
           51
          ],
          [
           30,
           "인터넷 | 11 | 300 | 10 | 모금",
           49
          ],
          [
           31,
           "영화 | 상영 | 영화제 | 코드 | dna",
           48
          ],
          [
           32,
           "00 | 특강 | 송도 | 박람회 | 전지",
           48
          ],
          [
           33,
           "원자력 | 법률가 | 13 | 동해안 | 원전",
           46
          ],
          [
           34,
           "사무 | 처장 | 국장 | 사무총장 | 교사",
           44
          ],
          [
           35,
           "신대 | 충남 | 교대 | 원대 | 가톨릭",
           44
          ],
          [
           36,
           "지수 | 부문 | 자궁 | 명성 | 증권",
           44
          ],
          [
           37,
           "80 | 대안 | 실업 | 전형 | 카페",
           43
          ],
          [
           38,
           "200 | 구절 | 지진 | 상자 | 조국",
           39
          ],
          [
           39,
           "외교 | 우크라 | 오바마 | 이나 | 부시",
           38
          ],
          [
           40,
           "후보 | 가정 | 인성 | 국사 | 교내",
           36
          ],
          [
           41,
           "검정고시 | 주식 | 전년 | 유엔사 | 학년도",
           36
          ],
          [
           42,
           "26 | 입국 | 특보 | 대담 | 벨트",
           36
          ],
          [
           43,
           "주주 | 금호 | 23 | 일자 | 교차",
           35
          ],
          [
           44,
           "의장 | 미군 | 주한 | 합참 | 종료",
           34
          ],
          [
           45,
           "24 | 기숙사 | 폭파 | 에너지 | 행복",
           34
          ],
          [
           46,
           "고양이 | 교과서 | tv | 동물 | 교학사",
           32
          ],
          [
           47,
           "레이저 | 커닝 | 국적 | 검찰 | 판결",
           32
          ],
          [
           48,
           "사정관 | 27 | 진로 | 독립운동 | 사학",
           31
          ],
          [
           49,
           "법관 | 재판 | 헌법 | 교육감 | 동성혼",
           31
          ],
          [
           50,
           "죽음 | 주립 | 일자리 | 캠프 | 울릉",
           31
          ],
          [
           51,
           "혐오 | 후보 | 청문회 | 발사체 | 한국어",
           29
          ],
          [
           52,
           "검찰 | 수사 | 사법 | 권위 | 행정",
           27
          ],
          [
           53,
           "14 | 차세대 | 세대 | 어린이 | 경연",
           26
          ],
          [
           54,
           "자전거 | 도로 | 가격 | 주택 | 전지",
           25
          ],
          [
           55,
           "sma | 무급 | 분담금 | 휴직 | 방위비",
           24
          ],
          [
           56,
           "동문 | 정당 | 파병 | 투표 | 통과",
           22
          ],
          [
           57,
           "cbmc | ccm | 채플 | 콘서트 | 찬양",
           21
          ],
          [
           58,
           "김영길 | 공로 | 선출 | 몽골 | 회장",
           21
          ],
          [
           59,
           "마을 | 개헌 | 이슬람 | 종교 | 임팩트",
           20
          ]
         ],
         "hovertemplate": "<b>Topic %{customdata[0]}</b><br>%{customdata[1]}<br>Size: %{customdata[2]}",
         "legendgroup": "",
         "marker": {
          "color": "#B0BEC5",
          "line": {
           "color": "DarkSlateGrey",
           "width": 2
          },
          "size": [
           624,
           391,
           328,
           249,
           234,
           164,
           150,
           135,
           130,
           128,
           121,
           119,
           117,
           117,
           109,
           101,
           97,
           90,
           80,
           75,
           69,
           62,
           59,
           58,
           58,
           58,
           58,
           58,
           57,
           51,
           49,
           48,
           48,
           46,
           44,
           44,
           44,
           43,
           39,
           38,
           36,
           36,
           36,
           35,
           34,
           34,
           32,
           32,
           31,
           31,
           31,
           29,
           27,
           26,
           25,
           24,
           22,
           21,
           21,
           20
          ],
          "sizemode": "area",
          "sizeref": 0.39,
          "symbol": "circle"
         },
         "mode": "markers",
         "name": "",
         "orientation": "v",
         "showlegend": false,
         "type": "scatter",
         "x": [
          11.305463790893555,
          1.5015619993209839,
          1.4126626253128052,
          8.213254928588867,
          1.5486412048339844,
          6.725676536560059,
          -3.0602188110351562,
          5.640878677368164,
          4.201261043548584,
          8.277131080627441,
          -3.0602266788482666,
          7.756556987762451,
          4.315464973449707,
          -1.5081013441085815,
          2.660126209259033,
          3.3545122146606445,
          4.850407123565674,
          -1.4205446243286133,
          -13.27137279510498,
          5.6738362312316895,
          11.121535301208496,
          5.853148460388184,
          1.7291877269744873,
          -9.699851036071777,
          6.091208457946777,
          7.2530412673950195,
          4.281369686126709,
          4.341268062591553,
          2.088602066040039,
          11.450861930847168,
          1.6987082958221436,
          1.4305676221847534,
          3.7344279289245605,
          -9.808871269226074,
          5.88873815536499,
          4.14927339553833,
          11.272066116333008,
          1.3905293941497803,
          1.5683122873306274,
          7.685354709625244,
          4.473415851593018,
          6.178762435913086,
          -1.3890810012817383,
          -13.36387825012207,
          7.746694087982178,
          -13.524271965026855,
          1.4307446479797363,
          5.227425575256348,
          -1.2458466291427612,
          1.7078962326049805,
          3.2788021564483643,
          4.314314842224121,
          6.198868274688721,
          -9.859071731567383,
          6.019775867462158,
          11.385828971862793,
          5.850929260253906,
          4.868350028991699,
          3.4589858055114746,
          5.29795503616333
         ],
         "xaxis": "x",
         "y": [
          9.398526191711426,
          0.7354803085327148,
          1.4448158740997314,
          1.7972290515899658,
          1.1628330945968628,
          2.907785415649414,
          22.807849884033203,
          9.45458698272705,
          3.2724335193634033,
          1.7468698024749756,
          22.80786895751953,
          2.0795578956604004,
          5.152345657348633,
          16.279260635375977,
          1.7455644607543945,
          2.0414044857025146,
          4.1482439041137695,
          16.191417694091797,
          14.899664878845215,
          4.345548152923584,
          9.582377433776855,
          9.665875434875488,
          -12.266349792480469,
          6.070452690124512,
          9.905452728271484,
          2.4959468841552734,
          5.542169570922852,
          5.072438716888428,
          1.399753451347351,
          9.250245094299316,
          1.097382664680481,
          14.420391082763672,
          2.8019537925720215,
          6.17931604385376,
          9.703989028930664,
          3.405344009399414,
          9.431296348571777,
          0.6094979643821716,
          1.3793543577194214,
          2.1572797298431396,
          3.7107224464416504,
          9.991137504577637,
          16.160045623779297,
          14.992136001586914,
          2.092735767364502,
          15.152544021606445,
          14.42029857635498,
          4.272033214569092,
          16.0166072845459,
          -12.294342994689941,
          2.1247305870056152,
          5.623417854309082,
          3.2842037677764893,
          6.229543685913086,
          9.830599784851074,
          9.317193984985352,
          4.396015644073486,
          4.199307441711426,
          1.8978015184402466,
          4.416879653930664
         ],
         "yaxis": "y"
        }
       ],
       "layout": {
        "annotations": [
         {
          "showarrow": false,
          "text": "D1",
          "x": -15.552912759780884,
          "y": 6.045277428627015,
          "yshift": 10
         },
         {
          "showarrow": false,
          "text": "D2",
          "x": -1.1922107696533208,
          "xshift": 10,
          "y": 26.229049301147462
         }
        ],
        "height": 650,
        "hoverlabel": {
         "bgcolor": "white",
         "font": {
          "family": "Rockwell",
          "size": 16
         }
        },
        "legend": {
         "itemsizing": "constant",
         "tracegroupgap": 0
        },
        "margin": {
         "t": 60
        },
        "shapes": [
         {
          "line": {
           "color": "#CFD8DC",
           "width": 2
          },
          "type": "line",
          "x0": -1.1922107696533208,
          "x1": -1.1922107696533208,
          "y0": -14.138494443893432,
          "y1": 26.229049301147462
         },
         {
          "line": {
           "color": "#9E9E9E",
           "width": 2
          },
          "type": "line",
          "x0": -15.552912759780884,
          "x1": 13.168491220474243,
          "y0": 6.045277428627015,
          "y1": 6.045277428627015
         }
        ],
        "sliders": [
         {
          "active": 0,
          "pad": {
           "t": 50
          },
          "steps": [
           {
            "args": [
             {
              "marker.color": [
               [
                "red",
                "#B0BEC5",
                "#B0BEC5",
                "#B0BEC5",
                "#B0BEC5",
                "#B0BEC5",
                "#B0BEC5",
                "#B0BEC5",
                "#B0BEC5",
                "#B0BEC5",
                "#B0BEC5",
                "#B0BEC5",
                "#B0BEC5",
                "#B0BEC5",
                "#B0BEC5",
                "#B0BEC5",
                "#B0BEC5",
                "#B0BEC5",
                "#B0BEC5",
                "#B0BEC5",
                "#B0BEC5",
                "#B0BEC5",
                "#B0BEC5",
                "#B0BEC5",
                "#B0BEC5",
                "#B0BEC5",
                "#B0BEC5",
                "#B0BEC5",
                "#B0BEC5",
                "#B0BEC5",
                "#B0BEC5",
                "#B0BEC5",
                "#B0BEC5",
                "#B0BEC5",
                "#B0BEC5",
                "#B0BEC5",
                "#B0BEC5",
                "#B0BEC5",
                "#B0BEC5",
                "#B0BEC5",
                "#B0BEC5",
                "#B0BEC5",
                "#B0BEC5",
                "#B0BEC5",
                "#B0BEC5",
                "#B0BEC5",
                "#B0BEC5",
                "#B0BEC5",
                "#B0BEC5",
                "#B0BEC5",
                "#B0BEC5",
                "#B0BEC5",
                "#B0BEC5",
                "#B0BEC5",
                "#B0BEC5",
                "#B0BEC5",
                "#B0BEC5",
                "#B0BEC5",
                "#B0BEC5",
                "#B0BEC5"
               ]
              ]
             }
            ],
            "label": "Topic 0",
            "method": "update"
           },
           {
            "args": [
             {
              "marker.color": [
               [
                "#B0BEC5",
                "red",
                "#B0BEC5",
                "#B0BEC5",
                "#B0BEC5",
                "#B0BEC5",
                "#B0BEC5",
                "#B0BEC5",
                "#B0BEC5",
                "#B0BEC5",
                "#B0BEC5",
                "#B0BEC5",
                "#B0BEC5",
                "#B0BEC5",
                "#B0BEC5",
                "#B0BEC5",
                "#B0BEC5",
                "#B0BEC5",
                "#B0BEC5",
                "#B0BEC5",
                "#B0BEC5",
                "#B0BEC5",
                "#B0BEC5",
                "#B0BEC5",
                "#B0BEC5",
                "#B0BEC5",
                "#B0BEC5",
                "#B0BEC5",
                "#B0BEC5",
                "#B0BEC5",
                "#B0BEC5",
                "#B0BEC5",
                "#B0BEC5",
                "#B0BEC5",
                "#B0BEC5",
                "#B0BEC5",
                "#B0BEC5",
                "#B0BEC5",
                "#B0BEC5",
                "#B0BEC5",
                "#B0BEC5",
                "#B0BEC5",
                "#B0BEC5",
                "#B0BEC5",
                "#B0BEC5",
                "#B0BEC5",
                "#B0BEC5",
                "#B0BEC5",
                "#B0BEC5",
                "#B0BEC5",
                "#B0BEC5",
                "#B0BEC5",
                "#B0BEC5",
                "#B0BEC5",
                "#B0BEC5",
                "#B0BEC5",
                "#B0BEC5",
                "#B0BEC5",
                "#B0BEC5",
                "#B0BEC5"
               ]
              ]
             }
            ],
            "label": "Topic 1",
            "method": "update"
           },
           {
            "args": [
             {
              "marker.color": [
               [
                "#B0BEC5",
                "#B0BEC5",
                "red",
                "#B0BEC5",
                "#B0BEC5",
                "#B0BEC5",
                "#B0BEC5",
                "#B0BEC5",
                "#B0BEC5",
                "#B0BEC5",
                "#B0BEC5",
                "#B0BEC5",
                "#B0BEC5",
                "#B0BEC5",
                "#B0BEC5",
                "#B0BEC5",
                "#B0BEC5",
                "#B0BEC5",
                "#B0BEC5",
                "#B0BEC5",
                "#B0BEC5",
                "#B0BEC5",
                "#B0BEC5",
                "#B0BEC5",
                "#B0BEC5",
                "#B0BEC5",
                "#B0BEC5",
                "#B0BEC5",
                "#B0BEC5",
                "#B0BEC5",
                "#B0BEC5",
                "#B0BEC5",
                "#B0BEC5",
                "#B0BEC5",
                "#B0BEC5",
                "#B0BEC5",
                "#B0BEC5",
                "#B0BEC5",
                "#B0BEC5",
                "#B0BEC5",
                "#B0BEC5",
                "#B0BEC5",
                "#B0BEC5",
                "#B0BEC5",
                "#B0BEC5",
                "#B0BEC5",
                "#B0BEC5",
                "#B0BEC5",
                "#B0BEC5",
                "#B0BEC5",
                "#B0BEC5",
                "#B0BEC5",
                "#B0BEC5",
                "#B0BEC5",
                "#B0BEC5",
                "#B0BEC5",
                "#B0BEC5",
                "#B0BEC5",
                "#B0BEC5",
                "#B0BEC5"
               ]
              ]
             }
            ],
            "label": "Topic 2",
            "method": "update"
           },
           {
            "args": [
             {
              "marker.color": [
               [
                "#B0BEC5",
                "#B0BEC5",
                "#B0BEC5",
                "red",
                "#B0BEC5",
                "#B0BEC5",
                "#B0BEC5",
                "#B0BEC5",
                "#B0BEC5",
                "#B0BEC5",
                "#B0BEC5",
                "#B0BEC5",
                "#B0BEC5",
                "#B0BEC5",
                "#B0BEC5",
                "#B0BEC5",
                "#B0BEC5",
                "#B0BEC5",
                "#B0BEC5",
                "#B0BEC5",
                "#B0BEC5",
                "#B0BEC5",
                "#B0BEC5",
                "#B0BEC5",
                "#B0BEC5",
                "#B0BEC5",
                "#B0BEC5",
                "#B0BEC5",
                "#B0BEC5",
                "#B0BEC5",
                "#B0BEC5",
                "#B0BEC5",
                "#B0BEC5",
                "#B0BEC5",
                "#B0BEC5",
                "#B0BEC5",
                "#B0BEC5",
                "#B0BEC5",
                "#B0BEC5",
                "#B0BEC5",
                "#B0BEC5",
                "#B0BEC5",
                "#B0BEC5",
                "#B0BEC5",
                "#B0BEC5",
                "#B0BEC5",
                "#B0BEC5",
                "#B0BEC5",
                "#B0BEC5",
                "#B0BEC5",
                "#B0BEC5",
                "#B0BEC5",
                "#B0BEC5",
                "#B0BEC5",
                "#B0BEC5",
                "#B0BEC5",
                "#B0BEC5",
                "#B0BEC5",
                "#B0BEC5",
                "#B0BEC5"
               ]
              ]
             }
            ],
            "label": "Topic 3",
            "method": "update"
           },
           {
            "args": [
             {
              "marker.color": [
               [
                "#B0BEC5",
                "#B0BEC5",
                "#B0BEC5",
                "#B0BEC5",
                "red",
                "#B0BEC5",
                "#B0BEC5",
                "#B0BEC5",
                "#B0BEC5",
                "#B0BEC5",
                "#B0BEC5",
                "#B0BEC5",
                "#B0BEC5",
                "#B0BEC5",
                "#B0BEC5",
                "#B0BEC5",
                "#B0BEC5",
                "#B0BEC5",
                "#B0BEC5",
                "#B0BEC5",
                "#B0BEC5",
                "#B0BEC5",
                "#B0BEC5",
                "#B0BEC5",
                "#B0BEC5",
                "#B0BEC5",
                "#B0BEC5",
                "#B0BEC5",
                "#B0BEC5",
                "#B0BEC5",
                "#B0BEC5",
                "#B0BEC5",
                "#B0BEC5",
                "#B0BEC5",
                "#B0BEC5",
                "#B0BEC5",
                "#B0BEC5",
                "#B0BEC5",
                "#B0BEC5",
                "#B0BEC5",
                "#B0BEC5",
                "#B0BEC5",
                "#B0BEC5",
                "#B0BEC5",
                "#B0BEC5",
                "#B0BEC5",
                "#B0BEC5",
                "#B0BEC5",
                "#B0BEC5",
                "#B0BEC5",
                "#B0BEC5",
                "#B0BEC5",
                "#B0BEC5",
                "#B0BEC5",
                "#B0BEC5",
                "#B0BEC5",
                "#B0BEC5",
                "#B0BEC5",
                "#B0BEC5",
                "#B0BEC5"
               ]
              ]
             }
            ],
            "label": "Topic 4",
            "method": "update"
           },
           {
            "args": [
             {
              "marker.color": [
               [
                "#B0BEC5",
                "#B0BEC5",
                "#B0BEC5",
                "#B0BEC5",
                "#B0BEC5",
                "red",
                "#B0BEC5",
                "#B0BEC5",
                "#B0BEC5",
                "#B0BEC5",
                "#B0BEC5",
                "#B0BEC5",
                "#B0BEC5",
                "#B0BEC5",
                "#B0BEC5",
                "#B0BEC5",
                "#B0BEC5",
                "#B0BEC5",
                "#B0BEC5",
                "#B0BEC5",
                "#B0BEC5",
                "#B0BEC5",
                "#B0BEC5",
                "#B0BEC5",
                "#B0BEC5",
                "#B0BEC5",
                "#B0BEC5",
                "#B0BEC5",
                "#B0BEC5",
                "#B0BEC5",
                "#B0BEC5",
                "#B0BEC5",
                "#B0BEC5",
                "#B0BEC5",
                "#B0BEC5",
                "#B0BEC5",
                "#B0BEC5",
                "#B0BEC5",
                "#B0BEC5",
                "#B0BEC5",
                "#B0BEC5",
                "#B0BEC5",
                "#B0BEC5",
                "#B0BEC5",
                "#B0BEC5",
                "#B0BEC5",
                "#B0BEC5",
                "#B0BEC5",
                "#B0BEC5",
                "#B0BEC5",
                "#B0BEC5",
                "#B0BEC5",
                "#B0BEC5",
                "#B0BEC5",
                "#B0BEC5",
                "#B0BEC5",
                "#B0BEC5",
                "#B0BEC5",
                "#B0BEC5",
                "#B0BEC5"
               ]
              ]
             }
            ],
            "label": "Topic 5",
            "method": "update"
           },
           {
            "args": [
             {
              "marker.color": [
               [
                "#B0BEC5",
                "#B0BEC5",
                "#B0BEC5",
                "#B0BEC5",
                "#B0BEC5",
                "#B0BEC5",
                "red",
                "#B0BEC5",
                "#B0BEC5",
                "#B0BEC5",
                "#B0BEC5",
                "#B0BEC5",
                "#B0BEC5",
                "#B0BEC5",
                "#B0BEC5",
                "#B0BEC5",
                "#B0BEC5",
                "#B0BEC5",
                "#B0BEC5",
                "#B0BEC5",
                "#B0BEC5",
                "#B0BEC5",
                "#B0BEC5",
                "#B0BEC5",
                "#B0BEC5",
                "#B0BEC5",
                "#B0BEC5",
                "#B0BEC5",
                "#B0BEC5",
                "#B0BEC5",
                "#B0BEC5",
                "#B0BEC5",
                "#B0BEC5",
                "#B0BEC5",
                "#B0BEC5",
                "#B0BEC5",
                "#B0BEC5",
                "#B0BEC5",
                "#B0BEC5",
                "#B0BEC5",
                "#B0BEC5",
                "#B0BEC5",
                "#B0BEC5",
                "#B0BEC5",
                "#B0BEC5",
                "#B0BEC5",
                "#B0BEC5",
                "#B0BEC5",
                "#B0BEC5",
                "#B0BEC5",
                "#B0BEC5",
                "#B0BEC5",
                "#B0BEC5",
                "#B0BEC5",
                "#B0BEC5",
                "#B0BEC5",
                "#B0BEC5",
                "#B0BEC5",
                "#B0BEC5",
                "#B0BEC5"
               ]
              ]
             }
            ],
            "label": "Topic 6",
            "method": "update"
           },
           {
            "args": [
             {
              "marker.color": [
               [
                "#B0BEC5",
                "#B0BEC5",
                "#B0BEC5",
                "#B0BEC5",
                "#B0BEC5",
                "#B0BEC5",
                "#B0BEC5",
                "red",
                "#B0BEC5",
                "#B0BEC5",
                "#B0BEC5",
                "#B0BEC5",
                "#B0BEC5",
                "#B0BEC5",
                "#B0BEC5",
                "#B0BEC5",
                "#B0BEC5",
                "#B0BEC5",
                "#B0BEC5",
                "#B0BEC5",
                "#B0BEC5",
                "#B0BEC5",
                "#B0BEC5",
                "#B0BEC5",
                "#B0BEC5",
                "#B0BEC5",
                "#B0BEC5",
                "#B0BEC5",
                "#B0BEC5",
                "#B0BEC5",
                "#B0BEC5",
                "#B0BEC5",
                "#B0BEC5",
                "#B0BEC5",
                "#B0BEC5",
                "#B0BEC5",
                "#B0BEC5",
                "#B0BEC5",
                "#B0BEC5",
                "#B0BEC5",
                "#B0BEC5",
                "#B0BEC5",
                "#B0BEC5",
                "#B0BEC5",
                "#B0BEC5",
                "#B0BEC5",
                "#B0BEC5",
                "#B0BEC5",
                "#B0BEC5",
                "#B0BEC5",
                "#B0BEC5",
                "#B0BEC5",
                "#B0BEC5",
                "#B0BEC5",
                "#B0BEC5",
                "#B0BEC5",
                "#B0BEC5",
                "#B0BEC5",
                "#B0BEC5",
                "#B0BEC5"
               ]
              ]
             }
            ],
            "label": "Topic 7",
            "method": "update"
           },
           {
            "args": [
             {
              "marker.color": [
               [
                "#B0BEC5",
                "#B0BEC5",
                "#B0BEC5",
                "#B0BEC5",
                "#B0BEC5",
                "#B0BEC5",
                "#B0BEC5",
                "#B0BEC5",
                "red",
                "#B0BEC5",
                "#B0BEC5",
                "#B0BEC5",
                "#B0BEC5",
                "#B0BEC5",
                "#B0BEC5",
                "#B0BEC5",
                "#B0BEC5",
                "#B0BEC5",
                "#B0BEC5",
                "#B0BEC5",
                "#B0BEC5",
                "#B0BEC5",
                "#B0BEC5",
                "#B0BEC5",
                "#B0BEC5",
                "#B0BEC5",
                "#B0BEC5",
                "#B0BEC5",
                "#B0BEC5",
                "#B0BEC5",
                "#B0BEC5",
                "#B0BEC5",
                "#B0BEC5",
                "#B0BEC5",
                "#B0BEC5",
                "#B0BEC5",
                "#B0BEC5",
                "#B0BEC5",
                "#B0BEC5",
                "#B0BEC5",
                "#B0BEC5",
                "#B0BEC5",
                "#B0BEC5",
                "#B0BEC5",
                "#B0BEC5",
                "#B0BEC5",
                "#B0BEC5",
                "#B0BEC5",
                "#B0BEC5",
                "#B0BEC5",
                "#B0BEC5",
                "#B0BEC5",
                "#B0BEC5",
                "#B0BEC5",
                "#B0BEC5",
                "#B0BEC5",
                "#B0BEC5",
                "#B0BEC5",
                "#B0BEC5",
                "#B0BEC5"
               ]
              ]
             }
            ],
            "label": "Topic 8",
            "method": "update"
           },
           {
            "args": [
             {
              "marker.color": [
               [
                "#B0BEC5",
                "#B0BEC5",
                "#B0BEC5",
                "#B0BEC5",
                "#B0BEC5",
                "#B0BEC5",
                "#B0BEC5",
                "#B0BEC5",
                "#B0BEC5",
                "red",
                "#B0BEC5",
                "#B0BEC5",
                "#B0BEC5",
                "#B0BEC5",
                "#B0BEC5",
                "#B0BEC5",
                "#B0BEC5",
                "#B0BEC5",
                "#B0BEC5",
                "#B0BEC5",
                "#B0BEC5",
                "#B0BEC5",
                "#B0BEC5",
                "#B0BEC5",
                "#B0BEC5",
                "#B0BEC5",
                "#B0BEC5",
                "#B0BEC5",
                "#B0BEC5",
                "#B0BEC5",
                "#B0BEC5",
                "#B0BEC5",
                "#B0BEC5",
                "#B0BEC5",
                "#B0BEC5",
                "#B0BEC5",
                "#B0BEC5",
                "#B0BEC5",
                "#B0BEC5",
                "#B0BEC5",
                "#B0BEC5",
                "#B0BEC5",
                "#B0BEC5",
                "#B0BEC5",
                "#B0BEC5",
                "#B0BEC5",
                "#B0BEC5",
                "#B0BEC5",
                "#B0BEC5",
                "#B0BEC5",
                "#B0BEC5",
                "#B0BEC5",
                "#B0BEC5",
                "#B0BEC5",
                "#B0BEC5",
                "#B0BEC5",
                "#B0BEC5",
                "#B0BEC5",
                "#B0BEC5",
                "#B0BEC5"
               ]
              ]
             }
            ],
            "label": "Topic 9",
            "method": "update"
           },
           {
            "args": [
             {
              "marker.color": [
               [
                "#B0BEC5",
                "#B0BEC5",
                "#B0BEC5",
                "#B0BEC5",
                "#B0BEC5",
                "#B0BEC5",
                "#B0BEC5",
                "#B0BEC5",
                "#B0BEC5",
                "#B0BEC5",
                "red",
                "#B0BEC5",
                "#B0BEC5",
                "#B0BEC5",
                "#B0BEC5",
                "#B0BEC5",
                "#B0BEC5",
                "#B0BEC5",
                "#B0BEC5",
                "#B0BEC5",
                "#B0BEC5",
                "#B0BEC5",
                "#B0BEC5",
                "#B0BEC5",
                "#B0BEC5",
                "#B0BEC5",
                "#B0BEC5",
                "#B0BEC5",
                "#B0BEC5",
                "#B0BEC5",
                "#B0BEC5",
                "#B0BEC5",
                "#B0BEC5",
                "#B0BEC5",
                "#B0BEC5",
                "#B0BEC5",
                "#B0BEC5",
                "#B0BEC5",
                "#B0BEC5",
                "#B0BEC5",
                "#B0BEC5",
                "#B0BEC5",
                "#B0BEC5",
                "#B0BEC5",
                "#B0BEC5",
                "#B0BEC5",
                "#B0BEC5",
                "#B0BEC5",
                "#B0BEC5",
                "#B0BEC5",
                "#B0BEC5",
                "#B0BEC5",
                "#B0BEC5",
                "#B0BEC5",
                "#B0BEC5",
                "#B0BEC5",
                "#B0BEC5",
                "#B0BEC5",
                "#B0BEC5",
                "#B0BEC5"
               ]
              ]
             }
            ],
            "label": "Topic 10",
            "method": "update"
           },
           {
            "args": [
             {
              "marker.color": [
               [
                "#B0BEC5",
                "#B0BEC5",
                "#B0BEC5",
                "#B0BEC5",
                "#B0BEC5",
                "#B0BEC5",
                "#B0BEC5",
                "#B0BEC5",
                "#B0BEC5",
                "#B0BEC5",
                "#B0BEC5",
                "red",
                "#B0BEC5",
                "#B0BEC5",
                "#B0BEC5",
                "#B0BEC5",
                "#B0BEC5",
                "#B0BEC5",
                "#B0BEC5",
                "#B0BEC5",
                "#B0BEC5",
                "#B0BEC5",
                "#B0BEC5",
                "#B0BEC5",
                "#B0BEC5",
                "#B0BEC5",
                "#B0BEC5",
                "#B0BEC5",
                "#B0BEC5",
                "#B0BEC5",
                "#B0BEC5",
                "#B0BEC5",
                "#B0BEC5",
                "#B0BEC5",
                "#B0BEC5",
                "#B0BEC5",
                "#B0BEC5",
                "#B0BEC5",
                "#B0BEC5",
                "#B0BEC5",
                "#B0BEC5",
                "#B0BEC5",
                "#B0BEC5",
                "#B0BEC5",
                "#B0BEC5",
                "#B0BEC5",
                "#B0BEC5",
                "#B0BEC5",
                "#B0BEC5",
                "#B0BEC5",
                "#B0BEC5",
                "#B0BEC5",
                "#B0BEC5",
                "#B0BEC5",
                "#B0BEC5",
                "#B0BEC5",
                "#B0BEC5",
                "#B0BEC5",
                "#B0BEC5",
                "#B0BEC5"
               ]
              ]
             }
            ],
            "label": "Topic 11",
            "method": "update"
           },
           {
            "args": [
             {
              "marker.color": [
               [
                "#B0BEC5",
                "#B0BEC5",
                "#B0BEC5",
                "#B0BEC5",
                "#B0BEC5",
                "#B0BEC5",
                "#B0BEC5",
                "#B0BEC5",
                "#B0BEC5",
                "#B0BEC5",
                "#B0BEC5",
                "#B0BEC5",
                "red",
                "#B0BEC5",
                "#B0BEC5",
                "#B0BEC5",
                "#B0BEC5",
                "#B0BEC5",
                "#B0BEC5",
                "#B0BEC5",
                "#B0BEC5",
                "#B0BEC5",
                "#B0BEC5",
                "#B0BEC5",
                "#B0BEC5",
                "#B0BEC5",
                "#B0BEC5",
                "#B0BEC5",
                "#B0BEC5",
                "#B0BEC5",
                "#B0BEC5",
                "#B0BEC5",
                "#B0BEC5",
                "#B0BEC5",
                "#B0BEC5",
                "#B0BEC5",
                "#B0BEC5",
                "#B0BEC5",
                "#B0BEC5",
                "#B0BEC5",
                "#B0BEC5",
                "#B0BEC5",
                "#B0BEC5",
                "#B0BEC5",
                "#B0BEC5",
                "#B0BEC5",
                "#B0BEC5",
                "#B0BEC5",
                "#B0BEC5",
                "#B0BEC5",
                "#B0BEC5",
                "#B0BEC5",
                "#B0BEC5",
                "#B0BEC5",
                "#B0BEC5",
                "#B0BEC5",
                "#B0BEC5",
                "#B0BEC5",
                "#B0BEC5",
                "#B0BEC5"
               ]
              ]
             }
            ],
            "label": "Topic 12",
            "method": "update"
           },
           {
            "args": [
             {
              "marker.color": [
               [
                "#B0BEC5",
                "#B0BEC5",
                "#B0BEC5",
                "#B0BEC5",
                "#B0BEC5",
                "#B0BEC5",
                "#B0BEC5",
                "#B0BEC5",
                "#B0BEC5",
                "#B0BEC5",
                "#B0BEC5",
                "#B0BEC5",
                "#B0BEC5",
                "red",
                "#B0BEC5",
                "#B0BEC5",
                "#B0BEC5",
                "#B0BEC5",
                "#B0BEC5",
                "#B0BEC5",
                "#B0BEC5",
                "#B0BEC5",
                "#B0BEC5",
                "#B0BEC5",
                "#B0BEC5",
                "#B0BEC5",
                "#B0BEC5",
                "#B0BEC5",
                "#B0BEC5",
                "#B0BEC5",
                "#B0BEC5",
                "#B0BEC5",
                "#B0BEC5",
                "#B0BEC5",
                "#B0BEC5",
                "#B0BEC5",
                "#B0BEC5",
                "#B0BEC5",
                "#B0BEC5",
                "#B0BEC5",
                "#B0BEC5",
                "#B0BEC5",
                "#B0BEC5",
                "#B0BEC5",
                "#B0BEC5",
                "#B0BEC5",
                "#B0BEC5",
                "#B0BEC5",
                "#B0BEC5",
                "#B0BEC5",
                "#B0BEC5",
                "#B0BEC5",
                "#B0BEC5",
                "#B0BEC5",
                "#B0BEC5",
                "#B0BEC5",
                "#B0BEC5",
                "#B0BEC5",
                "#B0BEC5",
                "#B0BEC5"
               ]
              ]
             }
            ],
            "label": "Topic 13",
            "method": "update"
           },
           {
            "args": [
             {
              "marker.color": [
               [
                "#B0BEC5",
                "#B0BEC5",
                "#B0BEC5",
                "#B0BEC5",
                "#B0BEC5",
                "#B0BEC5",
                "#B0BEC5",
                "#B0BEC5",
                "#B0BEC5",
                "#B0BEC5",
                "#B0BEC5",
                "#B0BEC5",
                "#B0BEC5",
                "#B0BEC5",
                "red",
                "#B0BEC5",
                "#B0BEC5",
                "#B0BEC5",
                "#B0BEC5",
                "#B0BEC5",
                "#B0BEC5",
                "#B0BEC5",
                "#B0BEC5",
                "#B0BEC5",
                "#B0BEC5",
                "#B0BEC5",
                "#B0BEC5",
                "#B0BEC5",
                "#B0BEC5",
                "#B0BEC5",
                "#B0BEC5",
                "#B0BEC5",
                "#B0BEC5",
                "#B0BEC5",
                "#B0BEC5",
                "#B0BEC5",
                "#B0BEC5",
                "#B0BEC5",
                "#B0BEC5",
                "#B0BEC5",
                "#B0BEC5",
                "#B0BEC5",
                "#B0BEC5",
                "#B0BEC5",
                "#B0BEC5",
                "#B0BEC5",
                "#B0BEC5",
                "#B0BEC5",
                "#B0BEC5",
                "#B0BEC5",
                "#B0BEC5",
                "#B0BEC5",
                "#B0BEC5",
                "#B0BEC5",
                "#B0BEC5",
                "#B0BEC5",
                "#B0BEC5",
                "#B0BEC5",
                "#B0BEC5",
                "#B0BEC5"
               ]
              ]
             }
            ],
            "label": "Topic 14",
            "method": "update"
           },
           {
            "args": [
             {
              "marker.color": [
               [
                "#B0BEC5",
                "#B0BEC5",
                "#B0BEC5",
                "#B0BEC5",
                "#B0BEC5",
                "#B0BEC5",
                "#B0BEC5",
                "#B0BEC5",
                "#B0BEC5",
                "#B0BEC5",
                "#B0BEC5",
                "#B0BEC5",
                "#B0BEC5",
                "#B0BEC5",
                "#B0BEC5",
                "red",
                "#B0BEC5",
                "#B0BEC5",
                "#B0BEC5",
                "#B0BEC5",
                "#B0BEC5",
                "#B0BEC5",
                "#B0BEC5",
                "#B0BEC5",
                "#B0BEC5",
                "#B0BEC5",
                "#B0BEC5",
                "#B0BEC5",
                "#B0BEC5",
                "#B0BEC5",
                "#B0BEC5",
                "#B0BEC5",
                "#B0BEC5",
                "#B0BEC5",
                "#B0BEC5",
                "#B0BEC5",
                "#B0BEC5",
                "#B0BEC5",
                "#B0BEC5",
                "#B0BEC5",
                "#B0BEC5",
                "#B0BEC5",
                "#B0BEC5",
                "#B0BEC5",
                "#B0BEC5",
                "#B0BEC5",
                "#B0BEC5",
                "#B0BEC5",
                "#B0BEC5",
                "#B0BEC5",
                "#B0BEC5",
                "#B0BEC5",
                "#B0BEC5",
                "#B0BEC5",
                "#B0BEC5",
                "#B0BEC5",
                "#B0BEC5",
                "#B0BEC5",
                "#B0BEC5",
                "#B0BEC5"
               ]
              ]
             }
            ],
            "label": "Topic 15",
            "method": "update"
           },
           {
            "args": [
             {
              "marker.color": [
               [
                "#B0BEC5",
                "#B0BEC5",
                "#B0BEC5",
                "#B0BEC5",
                "#B0BEC5",
                "#B0BEC5",
                "#B0BEC5",
                "#B0BEC5",
                "#B0BEC5",
                "#B0BEC5",
                "#B0BEC5",
                "#B0BEC5",
                "#B0BEC5",
                "#B0BEC5",
                "#B0BEC5",
                "#B0BEC5",
                "red",
                "#B0BEC5",
                "#B0BEC5",
                "#B0BEC5",
                "#B0BEC5",
                "#B0BEC5",
                "#B0BEC5",
                "#B0BEC5",
                "#B0BEC5",
                "#B0BEC5",
                "#B0BEC5",
                "#B0BEC5",
                "#B0BEC5",
                "#B0BEC5",
                "#B0BEC5",
                "#B0BEC5",
                "#B0BEC5",
                "#B0BEC5",
                "#B0BEC5",
                "#B0BEC5",
                "#B0BEC5",
                "#B0BEC5",
                "#B0BEC5",
                "#B0BEC5",
                "#B0BEC5",
                "#B0BEC5",
                "#B0BEC5",
                "#B0BEC5",
                "#B0BEC5",
                "#B0BEC5",
                "#B0BEC5",
                "#B0BEC5",
                "#B0BEC5",
                "#B0BEC5",
                "#B0BEC5",
                "#B0BEC5",
                "#B0BEC5",
                "#B0BEC5",
                "#B0BEC5",
                "#B0BEC5",
                "#B0BEC5",
                "#B0BEC5",
                "#B0BEC5",
                "#B0BEC5"
               ]
              ]
             }
            ],
            "label": "Topic 16",
            "method": "update"
           },
           {
            "args": [
             {
              "marker.color": [
               [
                "#B0BEC5",
                "#B0BEC5",
                "#B0BEC5",
                "#B0BEC5",
                "#B0BEC5",
                "#B0BEC5",
                "#B0BEC5",
                "#B0BEC5",
                "#B0BEC5",
                "#B0BEC5",
                "#B0BEC5",
                "#B0BEC5",
                "#B0BEC5",
                "#B0BEC5",
                "#B0BEC5",
                "#B0BEC5",
                "#B0BEC5",
                "red",
                "#B0BEC5",
                "#B0BEC5",
                "#B0BEC5",
                "#B0BEC5",
                "#B0BEC5",
                "#B0BEC5",
                "#B0BEC5",
                "#B0BEC5",
                "#B0BEC5",
                "#B0BEC5",
                "#B0BEC5",
                "#B0BEC5",
                "#B0BEC5",
                "#B0BEC5",
                "#B0BEC5",
                "#B0BEC5",
                "#B0BEC5",
                "#B0BEC5",
                "#B0BEC5",
                "#B0BEC5",
                "#B0BEC5",
                "#B0BEC5",
                "#B0BEC5",
                "#B0BEC5",
                "#B0BEC5",
                "#B0BEC5",
                "#B0BEC5",
                "#B0BEC5",
                "#B0BEC5",
                "#B0BEC5",
                "#B0BEC5",
                "#B0BEC5",
                "#B0BEC5",
                "#B0BEC5",
                "#B0BEC5",
                "#B0BEC5",
                "#B0BEC5",
                "#B0BEC5",
                "#B0BEC5",
                "#B0BEC5",
                "#B0BEC5",
                "#B0BEC5"
               ]
              ]
             }
            ],
            "label": "Topic 17",
            "method": "update"
           },
           {
            "args": [
             {
              "marker.color": [
               [
                "#B0BEC5",
                "#B0BEC5",
                "#B0BEC5",
                "#B0BEC5",
                "#B0BEC5",
                "#B0BEC5",
                "#B0BEC5",
                "#B0BEC5",
                "#B0BEC5",
                "#B0BEC5",
                "#B0BEC5",
                "#B0BEC5",
                "#B0BEC5",
                "#B0BEC5",
                "#B0BEC5",
                "#B0BEC5",
                "#B0BEC5",
                "#B0BEC5",
                "red",
                "#B0BEC5",
                "#B0BEC5",
                "#B0BEC5",
                "#B0BEC5",
                "#B0BEC5",
                "#B0BEC5",
                "#B0BEC5",
                "#B0BEC5",
                "#B0BEC5",
                "#B0BEC5",
                "#B0BEC5",
                "#B0BEC5",
                "#B0BEC5",
                "#B0BEC5",
                "#B0BEC5",
                "#B0BEC5",
                "#B0BEC5",
                "#B0BEC5",
                "#B0BEC5",
                "#B0BEC5",
                "#B0BEC5",
                "#B0BEC5",
                "#B0BEC5",
                "#B0BEC5",
                "#B0BEC5",
                "#B0BEC5",
                "#B0BEC5",
                "#B0BEC5",
                "#B0BEC5",
                "#B0BEC5",
                "#B0BEC5",
                "#B0BEC5",
                "#B0BEC5",
                "#B0BEC5",
                "#B0BEC5",
                "#B0BEC5",
                "#B0BEC5",
                "#B0BEC5",
                "#B0BEC5",
                "#B0BEC5",
                "#B0BEC5"
               ]
              ]
             }
            ],
            "label": "Topic 18",
            "method": "update"
           },
           {
            "args": [
             {
              "marker.color": [
               [
                "#B0BEC5",
                "#B0BEC5",
                "#B0BEC5",
                "#B0BEC5",
                "#B0BEC5",
                "#B0BEC5",
                "#B0BEC5",
                "#B0BEC5",
                "#B0BEC5",
                "#B0BEC5",
                "#B0BEC5",
                "#B0BEC5",
                "#B0BEC5",
                "#B0BEC5",
                "#B0BEC5",
                "#B0BEC5",
                "#B0BEC5",
                "#B0BEC5",
                "#B0BEC5",
                "red",
                "#B0BEC5",
                "#B0BEC5",
                "#B0BEC5",
                "#B0BEC5",
                "#B0BEC5",
                "#B0BEC5",
                "#B0BEC5",
                "#B0BEC5",
                "#B0BEC5",
                "#B0BEC5",
                "#B0BEC5",
                "#B0BEC5",
                "#B0BEC5",
                "#B0BEC5",
                "#B0BEC5",
                "#B0BEC5",
                "#B0BEC5",
                "#B0BEC5",
                "#B0BEC5",
                "#B0BEC5",
                "#B0BEC5",
                "#B0BEC5",
                "#B0BEC5",
                "#B0BEC5",
                "#B0BEC5",
                "#B0BEC5",
                "#B0BEC5",
                "#B0BEC5",
                "#B0BEC5",
                "#B0BEC5",
                "#B0BEC5",
                "#B0BEC5",
                "#B0BEC5",
                "#B0BEC5",
                "#B0BEC5",
                "#B0BEC5",
                "#B0BEC5",
                "#B0BEC5",
                "#B0BEC5",
                "#B0BEC5"
               ]
              ]
             }
            ],
            "label": "Topic 19",
            "method": "update"
           },
           {
            "args": [
             {
              "marker.color": [
               [
                "#B0BEC5",
                "#B0BEC5",
                "#B0BEC5",
                "#B0BEC5",
                "#B0BEC5",
                "#B0BEC5",
                "#B0BEC5",
                "#B0BEC5",
                "#B0BEC5",
                "#B0BEC5",
                "#B0BEC5",
                "#B0BEC5",
                "#B0BEC5",
                "#B0BEC5",
                "#B0BEC5",
                "#B0BEC5",
                "#B0BEC5",
                "#B0BEC5",
                "#B0BEC5",
                "#B0BEC5",
                "red",
                "#B0BEC5",
                "#B0BEC5",
                "#B0BEC5",
                "#B0BEC5",
                "#B0BEC5",
                "#B0BEC5",
                "#B0BEC5",
                "#B0BEC5",
                "#B0BEC5",
                "#B0BEC5",
                "#B0BEC5",
                "#B0BEC5",
                "#B0BEC5",
                "#B0BEC5",
                "#B0BEC5",
                "#B0BEC5",
                "#B0BEC5",
                "#B0BEC5",
                "#B0BEC5",
                "#B0BEC5",
                "#B0BEC5",
                "#B0BEC5",
                "#B0BEC5",
                "#B0BEC5",
                "#B0BEC5",
                "#B0BEC5",
                "#B0BEC5",
                "#B0BEC5",
                "#B0BEC5",
                "#B0BEC5",
                "#B0BEC5",
                "#B0BEC5",
                "#B0BEC5",
                "#B0BEC5",
                "#B0BEC5",
                "#B0BEC5",
                "#B0BEC5",
                "#B0BEC5",
                "#B0BEC5"
               ]
              ]
             }
            ],
            "label": "Topic 20",
            "method": "update"
           },
           {
            "args": [
             {
              "marker.color": [
               [
                "#B0BEC5",
                "#B0BEC5",
                "#B0BEC5",
                "#B0BEC5",
                "#B0BEC5",
                "#B0BEC5",
                "#B0BEC5",
                "#B0BEC5",
                "#B0BEC5",
                "#B0BEC5",
                "#B0BEC5",
                "#B0BEC5",
                "#B0BEC5",
                "#B0BEC5",
                "#B0BEC5",
                "#B0BEC5",
                "#B0BEC5",
                "#B0BEC5",
                "#B0BEC5",
                "#B0BEC5",
                "#B0BEC5",
                "red",
                "#B0BEC5",
                "#B0BEC5",
                "#B0BEC5",
                "#B0BEC5",
                "#B0BEC5",
                "#B0BEC5",
                "#B0BEC5",
                "#B0BEC5",
                "#B0BEC5",
                "#B0BEC5",
                "#B0BEC5",
                "#B0BEC5",
                "#B0BEC5",
                "#B0BEC5",
                "#B0BEC5",
                "#B0BEC5",
                "#B0BEC5",
                "#B0BEC5",
                "#B0BEC5",
                "#B0BEC5",
                "#B0BEC5",
                "#B0BEC5",
                "#B0BEC5",
                "#B0BEC5",
                "#B0BEC5",
                "#B0BEC5",
                "#B0BEC5",
                "#B0BEC5",
                "#B0BEC5",
                "#B0BEC5",
                "#B0BEC5",
                "#B0BEC5",
                "#B0BEC5",
                "#B0BEC5",
                "#B0BEC5",
                "#B0BEC5",
                "#B0BEC5",
                "#B0BEC5"
               ]
              ]
             }
            ],
            "label": "Topic 21",
            "method": "update"
           },
           {
            "args": [
             {
              "marker.color": [
               [
                "#B0BEC5",
                "#B0BEC5",
                "#B0BEC5",
                "#B0BEC5",
                "#B0BEC5",
                "#B0BEC5",
                "#B0BEC5",
                "#B0BEC5",
                "#B0BEC5",
                "#B0BEC5",
                "#B0BEC5",
                "#B0BEC5",
                "#B0BEC5",
                "#B0BEC5",
                "#B0BEC5",
                "#B0BEC5",
                "#B0BEC5",
                "#B0BEC5",
                "#B0BEC5",
                "#B0BEC5",
                "#B0BEC5",
                "#B0BEC5",
                "red",
                "#B0BEC5",
                "#B0BEC5",
                "#B0BEC5",
                "#B0BEC5",
                "#B0BEC5",
                "#B0BEC5",
                "#B0BEC5",
                "#B0BEC5",
                "#B0BEC5",
                "#B0BEC5",
                "#B0BEC5",
                "#B0BEC5",
                "#B0BEC5",
                "#B0BEC5",
                "#B0BEC5",
                "#B0BEC5",
                "#B0BEC5",
                "#B0BEC5",
                "#B0BEC5",
                "#B0BEC5",
                "#B0BEC5",
                "#B0BEC5",
                "#B0BEC5",
                "#B0BEC5",
                "#B0BEC5",
                "#B0BEC5",
                "#B0BEC5",
                "#B0BEC5",
                "#B0BEC5",
                "#B0BEC5",
                "#B0BEC5",
                "#B0BEC5",
                "#B0BEC5",
                "#B0BEC5",
                "#B0BEC5",
                "#B0BEC5",
                "#B0BEC5"
               ]
              ]
             }
            ],
            "label": "Topic 22",
            "method": "update"
           },
           {
            "args": [
             {
              "marker.color": [
               [
                "#B0BEC5",
                "#B0BEC5",
                "#B0BEC5",
                "#B0BEC5",
                "#B0BEC5",
                "#B0BEC5",
                "#B0BEC5",
                "#B0BEC5",
                "#B0BEC5",
                "#B0BEC5",
                "#B0BEC5",
                "#B0BEC5",
                "#B0BEC5",
                "#B0BEC5",
                "#B0BEC5",
                "#B0BEC5",
                "#B0BEC5",
                "#B0BEC5",
                "#B0BEC5",
                "#B0BEC5",
                "#B0BEC5",
                "#B0BEC5",
                "#B0BEC5",
                "red",
                "#B0BEC5",
                "#B0BEC5",
                "#B0BEC5",
                "#B0BEC5",
                "#B0BEC5",
                "#B0BEC5",
                "#B0BEC5",
                "#B0BEC5",
                "#B0BEC5",
                "#B0BEC5",
                "#B0BEC5",
                "#B0BEC5",
                "#B0BEC5",
                "#B0BEC5",
                "#B0BEC5",
                "#B0BEC5",
                "#B0BEC5",
                "#B0BEC5",
                "#B0BEC5",
                "#B0BEC5",
                "#B0BEC5",
                "#B0BEC5",
                "#B0BEC5",
                "#B0BEC5",
                "#B0BEC5",
                "#B0BEC5",
                "#B0BEC5",
                "#B0BEC5",
                "#B0BEC5",
                "#B0BEC5",
                "#B0BEC5",
                "#B0BEC5",
                "#B0BEC5",
                "#B0BEC5",
                "#B0BEC5",
                "#B0BEC5"
               ]
              ]
             }
            ],
            "label": "Topic 23",
            "method": "update"
           },
           {
            "args": [
             {
              "marker.color": [
               [
                "#B0BEC5",
                "#B0BEC5",
                "#B0BEC5",
                "#B0BEC5",
                "#B0BEC5",
                "#B0BEC5",
                "#B0BEC5",
                "#B0BEC5",
                "#B0BEC5",
                "#B0BEC5",
                "#B0BEC5",
                "#B0BEC5",
                "#B0BEC5",
                "#B0BEC5",
                "#B0BEC5",
                "#B0BEC5",
                "#B0BEC5",
                "#B0BEC5",
                "#B0BEC5",
                "#B0BEC5",
                "#B0BEC5",
                "#B0BEC5",
                "#B0BEC5",
                "#B0BEC5",
                "red",
                "#B0BEC5",
                "#B0BEC5",
                "#B0BEC5",
                "#B0BEC5",
                "#B0BEC5",
                "#B0BEC5",
                "#B0BEC5",
                "#B0BEC5",
                "#B0BEC5",
                "#B0BEC5",
                "#B0BEC5",
                "#B0BEC5",
                "#B0BEC5",
                "#B0BEC5",
                "#B0BEC5",
                "#B0BEC5",
                "#B0BEC5",
                "#B0BEC5",
                "#B0BEC5",
                "#B0BEC5",
                "#B0BEC5",
                "#B0BEC5",
                "#B0BEC5",
                "#B0BEC5",
                "#B0BEC5",
                "#B0BEC5",
                "#B0BEC5",
                "#B0BEC5",
                "#B0BEC5",
                "#B0BEC5",
                "#B0BEC5",
                "#B0BEC5",
                "#B0BEC5",
                "#B0BEC5",
                "#B0BEC5"
               ]
              ]
             }
            ],
            "label": "Topic 24",
            "method": "update"
           },
           {
            "args": [
             {
              "marker.color": [
               [
                "#B0BEC5",
                "#B0BEC5",
                "#B0BEC5",
                "#B0BEC5",
                "#B0BEC5",
                "#B0BEC5",
                "#B0BEC5",
                "#B0BEC5",
                "#B0BEC5",
                "#B0BEC5",
                "#B0BEC5",
                "#B0BEC5",
                "#B0BEC5",
                "#B0BEC5",
                "#B0BEC5",
                "#B0BEC5",
                "#B0BEC5",
                "#B0BEC5",
                "#B0BEC5",
                "#B0BEC5",
                "#B0BEC5",
                "#B0BEC5",
                "#B0BEC5",
                "#B0BEC5",
                "#B0BEC5",
                "red",
                "#B0BEC5",
                "#B0BEC5",
                "#B0BEC5",
                "#B0BEC5",
                "#B0BEC5",
                "#B0BEC5",
                "#B0BEC5",
                "#B0BEC5",
                "#B0BEC5",
                "#B0BEC5",
                "#B0BEC5",
                "#B0BEC5",
                "#B0BEC5",
                "#B0BEC5",
                "#B0BEC5",
                "#B0BEC5",
                "#B0BEC5",
                "#B0BEC5",
                "#B0BEC5",
                "#B0BEC5",
                "#B0BEC5",
                "#B0BEC5",
                "#B0BEC5",
                "#B0BEC5",
                "#B0BEC5",
                "#B0BEC5",
                "#B0BEC5",
                "#B0BEC5",
                "#B0BEC5",
                "#B0BEC5",
                "#B0BEC5",
                "#B0BEC5",
                "#B0BEC5",
                "#B0BEC5"
               ]
              ]
             }
            ],
            "label": "Topic 25",
            "method": "update"
           },
           {
            "args": [
             {
              "marker.color": [
               [
                "#B0BEC5",
                "#B0BEC5",
                "#B0BEC5",
                "#B0BEC5",
                "#B0BEC5",
                "#B0BEC5",
                "#B0BEC5",
                "#B0BEC5",
                "#B0BEC5",
                "#B0BEC5",
                "#B0BEC5",
                "#B0BEC5",
                "#B0BEC5",
                "#B0BEC5",
                "#B0BEC5",
                "#B0BEC5",
                "#B0BEC5",
                "#B0BEC5",
                "#B0BEC5",
                "#B0BEC5",
                "#B0BEC5",
                "#B0BEC5",
                "#B0BEC5",
                "#B0BEC5",
                "#B0BEC5",
                "#B0BEC5",
                "red",
                "#B0BEC5",
                "#B0BEC5",
                "#B0BEC5",
                "#B0BEC5",
                "#B0BEC5",
                "#B0BEC5",
                "#B0BEC5",
                "#B0BEC5",
                "#B0BEC5",
                "#B0BEC5",
                "#B0BEC5",
                "#B0BEC5",
                "#B0BEC5",
                "#B0BEC5",
                "#B0BEC5",
                "#B0BEC5",
                "#B0BEC5",
                "#B0BEC5",
                "#B0BEC5",
                "#B0BEC5",
                "#B0BEC5",
                "#B0BEC5",
                "#B0BEC5",
                "#B0BEC5",
                "#B0BEC5",
                "#B0BEC5",
                "#B0BEC5",
                "#B0BEC5",
                "#B0BEC5",
                "#B0BEC5",
                "#B0BEC5",
                "#B0BEC5",
                "#B0BEC5"
               ]
              ]
             }
            ],
            "label": "Topic 26",
            "method": "update"
           },
           {
            "args": [
             {
              "marker.color": [
               [
                "#B0BEC5",
                "#B0BEC5",
                "#B0BEC5",
                "#B0BEC5",
                "#B0BEC5",
                "#B0BEC5",
                "#B0BEC5",
                "#B0BEC5",
                "#B0BEC5",
                "#B0BEC5",
                "#B0BEC5",
                "#B0BEC5",
                "#B0BEC5",
                "#B0BEC5",
                "#B0BEC5",
                "#B0BEC5",
                "#B0BEC5",
                "#B0BEC5",
                "#B0BEC5",
                "#B0BEC5",
                "#B0BEC5",
                "#B0BEC5",
                "#B0BEC5",
                "#B0BEC5",
                "#B0BEC5",
                "#B0BEC5",
                "#B0BEC5",
                "red",
                "#B0BEC5",
                "#B0BEC5",
                "#B0BEC5",
                "#B0BEC5",
                "#B0BEC5",
                "#B0BEC5",
                "#B0BEC5",
                "#B0BEC5",
                "#B0BEC5",
                "#B0BEC5",
                "#B0BEC5",
                "#B0BEC5",
                "#B0BEC5",
                "#B0BEC5",
                "#B0BEC5",
                "#B0BEC5",
                "#B0BEC5",
                "#B0BEC5",
                "#B0BEC5",
                "#B0BEC5",
                "#B0BEC5",
                "#B0BEC5",
                "#B0BEC5",
                "#B0BEC5",
                "#B0BEC5",
                "#B0BEC5",
                "#B0BEC5",
                "#B0BEC5",
                "#B0BEC5",
                "#B0BEC5",
                "#B0BEC5",
                "#B0BEC5"
               ]
              ]
             }
            ],
            "label": "Topic 27",
            "method": "update"
           },
           {
            "args": [
             {
              "marker.color": [
               [
                "#B0BEC5",
                "#B0BEC5",
                "#B0BEC5",
                "#B0BEC5",
                "#B0BEC5",
                "#B0BEC5",
                "#B0BEC5",
                "#B0BEC5",
                "#B0BEC5",
                "#B0BEC5",
                "#B0BEC5",
                "#B0BEC5",
                "#B0BEC5",
                "#B0BEC5",
                "#B0BEC5",
                "#B0BEC5",
                "#B0BEC5",
                "#B0BEC5",
                "#B0BEC5",
                "#B0BEC5",
                "#B0BEC5",
                "#B0BEC5",
                "#B0BEC5",
                "#B0BEC5",
                "#B0BEC5",
                "#B0BEC5",
                "#B0BEC5",
                "#B0BEC5",
                "red",
                "#B0BEC5",
                "#B0BEC5",
                "#B0BEC5",
                "#B0BEC5",
                "#B0BEC5",
                "#B0BEC5",
                "#B0BEC5",
                "#B0BEC5",
                "#B0BEC5",
                "#B0BEC5",
                "#B0BEC5",
                "#B0BEC5",
                "#B0BEC5",
                "#B0BEC5",
                "#B0BEC5",
                "#B0BEC5",
                "#B0BEC5",
                "#B0BEC5",
                "#B0BEC5",
                "#B0BEC5",
                "#B0BEC5",
                "#B0BEC5",
                "#B0BEC5",
                "#B0BEC5",
                "#B0BEC5",
                "#B0BEC5",
                "#B0BEC5",
                "#B0BEC5",
                "#B0BEC5",
                "#B0BEC5",
                "#B0BEC5"
               ]
              ]
             }
            ],
            "label": "Topic 28",
            "method": "update"
           },
           {
            "args": [
             {
              "marker.color": [
               [
                "#B0BEC5",
                "#B0BEC5",
                "#B0BEC5",
                "#B0BEC5",
                "#B0BEC5",
                "#B0BEC5",
                "#B0BEC5",
                "#B0BEC5",
                "#B0BEC5",
                "#B0BEC5",
                "#B0BEC5",
                "#B0BEC5",
                "#B0BEC5",
                "#B0BEC5",
                "#B0BEC5",
                "#B0BEC5",
                "#B0BEC5",
                "#B0BEC5",
                "#B0BEC5",
                "#B0BEC5",
                "#B0BEC5",
                "#B0BEC5",
                "#B0BEC5",
                "#B0BEC5",
                "#B0BEC5",
                "#B0BEC5",
                "#B0BEC5",
                "#B0BEC5",
                "#B0BEC5",
                "red",
                "#B0BEC5",
                "#B0BEC5",
                "#B0BEC5",
                "#B0BEC5",
                "#B0BEC5",
                "#B0BEC5",
                "#B0BEC5",
                "#B0BEC5",
                "#B0BEC5",
                "#B0BEC5",
                "#B0BEC5",
                "#B0BEC5",
                "#B0BEC5",
                "#B0BEC5",
                "#B0BEC5",
                "#B0BEC5",
                "#B0BEC5",
                "#B0BEC5",
                "#B0BEC5",
                "#B0BEC5",
                "#B0BEC5",
                "#B0BEC5",
                "#B0BEC5",
                "#B0BEC5",
                "#B0BEC5",
                "#B0BEC5",
                "#B0BEC5",
                "#B0BEC5",
                "#B0BEC5",
                "#B0BEC5"
               ]
              ]
             }
            ],
            "label": "Topic 29",
            "method": "update"
           },
           {
            "args": [
             {
              "marker.color": [
               [
                "#B0BEC5",
                "#B0BEC5",
                "#B0BEC5",
                "#B0BEC5",
                "#B0BEC5",
                "#B0BEC5",
                "#B0BEC5",
                "#B0BEC5",
                "#B0BEC5",
                "#B0BEC5",
                "#B0BEC5",
                "#B0BEC5",
                "#B0BEC5",
                "#B0BEC5",
                "#B0BEC5",
                "#B0BEC5",
                "#B0BEC5",
                "#B0BEC5",
                "#B0BEC5",
                "#B0BEC5",
                "#B0BEC5",
                "#B0BEC5",
                "#B0BEC5",
                "#B0BEC5",
                "#B0BEC5",
                "#B0BEC5",
                "#B0BEC5",
                "#B0BEC5",
                "#B0BEC5",
                "#B0BEC5",
                "red",
                "#B0BEC5",
                "#B0BEC5",
                "#B0BEC5",
                "#B0BEC5",
                "#B0BEC5",
                "#B0BEC5",
                "#B0BEC5",
                "#B0BEC5",
                "#B0BEC5",
                "#B0BEC5",
                "#B0BEC5",
                "#B0BEC5",
                "#B0BEC5",
                "#B0BEC5",
                "#B0BEC5",
                "#B0BEC5",
                "#B0BEC5",
                "#B0BEC5",
                "#B0BEC5",
                "#B0BEC5",
                "#B0BEC5",
                "#B0BEC5",
                "#B0BEC5",
                "#B0BEC5",
                "#B0BEC5",
                "#B0BEC5",
                "#B0BEC5",
                "#B0BEC5",
                "#B0BEC5"
               ]
              ]
             }
            ],
            "label": "Topic 30",
            "method": "update"
           },
           {
            "args": [
             {
              "marker.color": [
               [
                "#B0BEC5",
                "#B0BEC5",
                "#B0BEC5",
                "#B0BEC5",
                "#B0BEC5",
                "#B0BEC5",
                "#B0BEC5",
                "#B0BEC5",
                "#B0BEC5",
                "#B0BEC5",
                "#B0BEC5",
                "#B0BEC5",
                "#B0BEC5",
                "#B0BEC5",
                "#B0BEC5",
                "#B0BEC5",
                "#B0BEC5",
                "#B0BEC5",
                "#B0BEC5",
                "#B0BEC5",
                "#B0BEC5",
                "#B0BEC5",
                "#B0BEC5",
                "#B0BEC5",
                "#B0BEC5",
                "#B0BEC5",
                "#B0BEC5",
                "#B0BEC5",
                "#B0BEC5",
                "#B0BEC5",
                "#B0BEC5",
                "red",
                "#B0BEC5",
                "#B0BEC5",
                "#B0BEC5",
                "#B0BEC5",
                "#B0BEC5",
                "#B0BEC5",
                "#B0BEC5",
                "#B0BEC5",
                "#B0BEC5",
                "#B0BEC5",
                "#B0BEC5",
                "#B0BEC5",
                "#B0BEC5",
                "#B0BEC5",
                "#B0BEC5",
                "#B0BEC5",
                "#B0BEC5",
                "#B0BEC5",
                "#B0BEC5",
                "#B0BEC5",
                "#B0BEC5",
                "#B0BEC5",
                "#B0BEC5",
                "#B0BEC5",
                "#B0BEC5",
                "#B0BEC5",
                "#B0BEC5",
                "#B0BEC5"
               ]
              ]
             }
            ],
            "label": "Topic 31",
            "method": "update"
           },
           {
            "args": [
             {
              "marker.color": [
               [
                "#B0BEC5",
                "#B0BEC5",
                "#B0BEC5",
                "#B0BEC5",
                "#B0BEC5",
                "#B0BEC5",
                "#B0BEC5",
                "#B0BEC5",
                "#B0BEC5",
                "#B0BEC5",
                "#B0BEC5",
                "#B0BEC5",
                "#B0BEC5",
                "#B0BEC5",
                "#B0BEC5",
                "#B0BEC5",
                "#B0BEC5",
                "#B0BEC5",
                "#B0BEC5",
                "#B0BEC5",
                "#B0BEC5",
                "#B0BEC5",
                "#B0BEC5",
                "#B0BEC5",
                "#B0BEC5",
                "#B0BEC5",
                "#B0BEC5",
                "#B0BEC5",
                "#B0BEC5",
                "#B0BEC5",
                "#B0BEC5",
                "#B0BEC5",
                "red",
                "#B0BEC5",
                "#B0BEC5",
                "#B0BEC5",
                "#B0BEC5",
                "#B0BEC5",
                "#B0BEC5",
                "#B0BEC5",
                "#B0BEC5",
                "#B0BEC5",
                "#B0BEC5",
                "#B0BEC5",
                "#B0BEC5",
                "#B0BEC5",
                "#B0BEC5",
                "#B0BEC5",
                "#B0BEC5",
                "#B0BEC5",
                "#B0BEC5",
                "#B0BEC5",
                "#B0BEC5",
                "#B0BEC5",
                "#B0BEC5",
                "#B0BEC5",
                "#B0BEC5",
                "#B0BEC5",
                "#B0BEC5",
                "#B0BEC5"
               ]
              ]
             }
            ],
            "label": "Topic 32",
            "method": "update"
           },
           {
            "args": [
             {
              "marker.color": [
               [
                "#B0BEC5",
                "#B0BEC5",
                "#B0BEC5",
                "#B0BEC5",
                "#B0BEC5",
                "#B0BEC5",
                "#B0BEC5",
                "#B0BEC5",
                "#B0BEC5",
                "#B0BEC5",
                "#B0BEC5",
                "#B0BEC5",
                "#B0BEC5",
                "#B0BEC5",
                "#B0BEC5",
                "#B0BEC5",
                "#B0BEC5",
                "#B0BEC5",
                "#B0BEC5",
                "#B0BEC5",
                "#B0BEC5",
                "#B0BEC5",
                "#B0BEC5",
                "#B0BEC5",
                "#B0BEC5",
                "#B0BEC5",
                "#B0BEC5",
                "#B0BEC5",
                "#B0BEC5",
                "#B0BEC5",
                "#B0BEC5",
                "#B0BEC5",
                "#B0BEC5",
                "red",
                "#B0BEC5",
                "#B0BEC5",
                "#B0BEC5",
                "#B0BEC5",
                "#B0BEC5",
                "#B0BEC5",
                "#B0BEC5",
                "#B0BEC5",
                "#B0BEC5",
                "#B0BEC5",
                "#B0BEC5",
                "#B0BEC5",
                "#B0BEC5",
                "#B0BEC5",
                "#B0BEC5",
                "#B0BEC5",
                "#B0BEC5",
                "#B0BEC5",
                "#B0BEC5",
                "#B0BEC5",
                "#B0BEC5",
                "#B0BEC5",
                "#B0BEC5",
                "#B0BEC5",
                "#B0BEC5",
                "#B0BEC5"
               ]
              ]
             }
            ],
            "label": "Topic 33",
            "method": "update"
           },
           {
            "args": [
             {
              "marker.color": [
               [
                "#B0BEC5",
                "#B0BEC5",
                "#B0BEC5",
                "#B0BEC5",
                "#B0BEC5",
                "#B0BEC5",
                "#B0BEC5",
                "#B0BEC5",
                "#B0BEC5",
                "#B0BEC5",
                "#B0BEC5",
                "#B0BEC5",
                "#B0BEC5",
                "#B0BEC5",
                "#B0BEC5",
                "#B0BEC5",
                "#B0BEC5",
                "#B0BEC5",
                "#B0BEC5",
                "#B0BEC5",
                "#B0BEC5",
                "#B0BEC5",
                "#B0BEC5",
                "#B0BEC5",
                "#B0BEC5",
                "#B0BEC5",
                "#B0BEC5",
                "#B0BEC5",
                "#B0BEC5",
                "#B0BEC5",
                "#B0BEC5",
                "#B0BEC5",
                "#B0BEC5",
                "#B0BEC5",
                "red",
                "#B0BEC5",
                "#B0BEC5",
                "#B0BEC5",
                "#B0BEC5",
                "#B0BEC5",
                "#B0BEC5",
                "#B0BEC5",
                "#B0BEC5",
                "#B0BEC5",
                "#B0BEC5",
                "#B0BEC5",
                "#B0BEC5",
                "#B0BEC5",
                "#B0BEC5",
                "#B0BEC5",
                "#B0BEC5",
                "#B0BEC5",
                "#B0BEC5",
                "#B0BEC5",
                "#B0BEC5",
                "#B0BEC5",
                "#B0BEC5",
                "#B0BEC5",
                "#B0BEC5",
                "#B0BEC5"
               ]
              ]
             }
            ],
            "label": "Topic 34",
            "method": "update"
           },
           {
            "args": [
             {
              "marker.color": [
               [
                "#B0BEC5",
                "#B0BEC5",
                "#B0BEC5",
                "#B0BEC5",
                "#B0BEC5",
                "#B0BEC5",
                "#B0BEC5",
                "#B0BEC5",
                "#B0BEC5",
                "#B0BEC5",
                "#B0BEC5",
                "#B0BEC5",
                "#B0BEC5",
                "#B0BEC5",
                "#B0BEC5",
                "#B0BEC5",
                "#B0BEC5",
                "#B0BEC5",
                "#B0BEC5",
                "#B0BEC5",
                "#B0BEC5",
                "#B0BEC5",
                "#B0BEC5",
                "#B0BEC5",
                "#B0BEC5",
                "#B0BEC5",
                "#B0BEC5",
                "#B0BEC5",
                "#B0BEC5",
                "#B0BEC5",
                "#B0BEC5",
                "#B0BEC5",
                "#B0BEC5",
                "#B0BEC5",
                "#B0BEC5",
                "red",
                "#B0BEC5",
                "#B0BEC5",
                "#B0BEC5",
                "#B0BEC5",
                "#B0BEC5",
                "#B0BEC5",
                "#B0BEC5",
                "#B0BEC5",
                "#B0BEC5",
                "#B0BEC5",
                "#B0BEC5",
                "#B0BEC5",
                "#B0BEC5",
                "#B0BEC5",
                "#B0BEC5",
                "#B0BEC5",
                "#B0BEC5",
                "#B0BEC5",
                "#B0BEC5",
                "#B0BEC5",
                "#B0BEC5",
                "#B0BEC5",
                "#B0BEC5",
                "#B0BEC5"
               ]
              ]
             }
            ],
            "label": "Topic 35",
            "method": "update"
           },
           {
            "args": [
             {
              "marker.color": [
               [
                "#B0BEC5",
                "#B0BEC5",
                "#B0BEC5",
                "#B0BEC5",
                "#B0BEC5",
                "#B0BEC5",
                "#B0BEC5",
                "#B0BEC5",
                "#B0BEC5",
                "#B0BEC5",
                "#B0BEC5",
                "#B0BEC5",
                "#B0BEC5",
                "#B0BEC5",
                "#B0BEC5",
                "#B0BEC5",
                "#B0BEC5",
                "#B0BEC5",
                "#B0BEC5",
                "#B0BEC5",
                "#B0BEC5",
                "#B0BEC5",
                "#B0BEC5",
                "#B0BEC5",
                "#B0BEC5",
                "#B0BEC5",
                "#B0BEC5",
                "#B0BEC5",
                "#B0BEC5",
                "#B0BEC5",
                "#B0BEC5",
                "#B0BEC5",
                "#B0BEC5",
                "#B0BEC5",
                "#B0BEC5",
                "#B0BEC5",
                "red",
                "#B0BEC5",
                "#B0BEC5",
                "#B0BEC5",
                "#B0BEC5",
                "#B0BEC5",
                "#B0BEC5",
                "#B0BEC5",
                "#B0BEC5",
                "#B0BEC5",
                "#B0BEC5",
                "#B0BEC5",
                "#B0BEC5",
                "#B0BEC5",
                "#B0BEC5",
                "#B0BEC5",
                "#B0BEC5",
                "#B0BEC5",
                "#B0BEC5",
                "#B0BEC5",
                "#B0BEC5",
                "#B0BEC5",
                "#B0BEC5",
                "#B0BEC5"
               ]
              ]
             }
            ],
            "label": "Topic 36",
            "method": "update"
           },
           {
            "args": [
             {
              "marker.color": [
               [
                "#B0BEC5",
                "#B0BEC5",
                "#B0BEC5",
                "#B0BEC5",
                "#B0BEC5",
                "#B0BEC5",
                "#B0BEC5",
                "#B0BEC5",
                "#B0BEC5",
                "#B0BEC5",
                "#B0BEC5",
                "#B0BEC5",
                "#B0BEC5",
                "#B0BEC5",
                "#B0BEC5",
                "#B0BEC5",
                "#B0BEC5",
                "#B0BEC5",
                "#B0BEC5",
                "#B0BEC5",
                "#B0BEC5",
                "#B0BEC5",
                "#B0BEC5",
                "#B0BEC5",
                "#B0BEC5",
                "#B0BEC5",
                "#B0BEC5",
                "#B0BEC5",
                "#B0BEC5",
                "#B0BEC5",
                "#B0BEC5",
                "#B0BEC5",
                "#B0BEC5",
                "#B0BEC5",
                "#B0BEC5",
                "#B0BEC5",
                "#B0BEC5",
                "red",
                "#B0BEC5",
                "#B0BEC5",
                "#B0BEC5",
                "#B0BEC5",
                "#B0BEC5",
                "#B0BEC5",
                "#B0BEC5",
                "#B0BEC5",
                "#B0BEC5",
                "#B0BEC5",
                "#B0BEC5",
                "#B0BEC5",
                "#B0BEC5",
                "#B0BEC5",
                "#B0BEC5",
                "#B0BEC5",
                "#B0BEC5",
                "#B0BEC5",
                "#B0BEC5",
                "#B0BEC5",
                "#B0BEC5",
                "#B0BEC5"
               ]
              ]
             }
            ],
            "label": "Topic 37",
            "method": "update"
           },
           {
            "args": [
             {
              "marker.color": [
               [
                "#B0BEC5",
                "#B0BEC5",
                "#B0BEC5",
                "#B0BEC5",
                "#B0BEC5",
                "#B0BEC5",
                "#B0BEC5",
                "#B0BEC5",
                "#B0BEC5",
                "#B0BEC5",
                "#B0BEC5",
                "#B0BEC5",
                "#B0BEC5",
                "#B0BEC5",
                "#B0BEC5",
                "#B0BEC5",
                "#B0BEC5",
                "#B0BEC5",
                "#B0BEC5",
                "#B0BEC5",
                "#B0BEC5",
                "#B0BEC5",
                "#B0BEC5",
                "#B0BEC5",
                "#B0BEC5",
                "#B0BEC5",
                "#B0BEC5",
                "#B0BEC5",
                "#B0BEC5",
                "#B0BEC5",
                "#B0BEC5",
                "#B0BEC5",
                "#B0BEC5",
                "#B0BEC5",
                "#B0BEC5",
                "#B0BEC5",
                "#B0BEC5",
                "#B0BEC5",
                "red",
                "#B0BEC5",
                "#B0BEC5",
                "#B0BEC5",
                "#B0BEC5",
                "#B0BEC5",
                "#B0BEC5",
                "#B0BEC5",
                "#B0BEC5",
                "#B0BEC5",
                "#B0BEC5",
                "#B0BEC5",
                "#B0BEC5",
                "#B0BEC5",
                "#B0BEC5",
                "#B0BEC5",
                "#B0BEC5",
                "#B0BEC5",
                "#B0BEC5",
                "#B0BEC5",
                "#B0BEC5",
                "#B0BEC5"
               ]
              ]
             }
            ],
            "label": "Topic 38",
            "method": "update"
           },
           {
            "args": [
             {
              "marker.color": [
               [
                "#B0BEC5",
                "#B0BEC5",
                "#B0BEC5",
                "#B0BEC5",
                "#B0BEC5",
                "#B0BEC5",
                "#B0BEC5",
                "#B0BEC5",
                "#B0BEC5",
                "#B0BEC5",
                "#B0BEC5",
                "#B0BEC5",
                "#B0BEC5",
                "#B0BEC5",
                "#B0BEC5",
                "#B0BEC5",
                "#B0BEC5",
                "#B0BEC5",
                "#B0BEC5",
                "#B0BEC5",
                "#B0BEC5",
                "#B0BEC5",
                "#B0BEC5",
                "#B0BEC5",
                "#B0BEC5",
                "#B0BEC5",
                "#B0BEC5",
                "#B0BEC5",
                "#B0BEC5",
                "#B0BEC5",
                "#B0BEC5",
                "#B0BEC5",
                "#B0BEC5",
                "#B0BEC5",
                "#B0BEC5",
                "#B0BEC5",
                "#B0BEC5",
                "#B0BEC5",
                "#B0BEC5",
                "red",
                "#B0BEC5",
                "#B0BEC5",
                "#B0BEC5",
                "#B0BEC5",
                "#B0BEC5",
                "#B0BEC5",
                "#B0BEC5",
                "#B0BEC5",
                "#B0BEC5",
                "#B0BEC5",
                "#B0BEC5",
                "#B0BEC5",
                "#B0BEC5",
                "#B0BEC5",
                "#B0BEC5",
                "#B0BEC5",
                "#B0BEC5",
                "#B0BEC5",
                "#B0BEC5",
                "#B0BEC5"
               ]
              ]
             }
            ],
            "label": "Topic 39",
            "method": "update"
           },
           {
            "args": [
             {
              "marker.color": [
               [
                "#B0BEC5",
                "#B0BEC5",
                "#B0BEC5",
                "#B0BEC5",
                "#B0BEC5",
                "#B0BEC5",
                "#B0BEC5",
                "#B0BEC5",
                "#B0BEC5",
                "#B0BEC5",
                "#B0BEC5",
                "#B0BEC5",
                "#B0BEC5",
                "#B0BEC5",
                "#B0BEC5",
                "#B0BEC5",
                "#B0BEC5",
                "#B0BEC5",
                "#B0BEC5",
                "#B0BEC5",
                "#B0BEC5",
                "#B0BEC5",
                "#B0BEC5",
                "#B0BEC5",
                "#B0BEC5",
                "#B0BEC5",
                "#B0BEC5",
                "#B0BEC5",
                "#B0BEC5",
                "#B0BEC5",
                "#B0BEC5",
                "#B0BEC5",
                "#B0BEC5",
                "#B0BEC5",
                "#B0BEC5",
                "#B0BEC5",
                "#B0BEC5",
                "#B0BEC5",
                "#B0BEC5",
                "#B0BEC5",
                "red",
                "#B0BEC5",
                "#B0BEC5",
                "#B0BEC5",
                "#B0BEC5",
                "#B0BEC5",
                "#B0BEC5",
                "#B0BEC5",
                "#B0BEC5",
                "#B0BEC5",
                "#B0BEC5",
                "#B0BEC5",
                "#B0BEC5",
                "#B0BEC5",
                "#B0BEC5",
                "#B0BEC5",
                "#B0BEC5",
                "#B0BEC5",
                "#B0BEC5",
                "#B0BEC5"
               ]
              ]
             }
            ],
            "label": "Topic 40",
            "method": "update"
           },
           {
            "args": [
             {
              "marker.color": [
               [
                "#B0BEC5",
                "#B0BEC5",
                "#B0BEC5",
                "#B0BEC5",
                "#B0BEC5",
                "#B0BEC5",
                "#B0BEC5",
                "#B0BEC5",
                "#B0BEC5",
                "#B0BEC5",
                "#B0BEC5",
                "#B0BEC5",
                "#B0BEC5",
                "#B0BEC5",
                "#B0BEC5",
                "#B0BEC5",
                "#B0BEC5",
                "#B0BEC5",
                "#B0BEC5",
                "#B0BEC5",
                "#B0BEC5",
                "#B0BEC5",
                "#B0BEC5",
                "#B0BEC5",
                "#B0BEC5",
                "#B0BEC5",
                "#B0BEC5",
                "#B0BEC5",
                "#B0BEC5",
                "#B0BEC5",
                "#B0BEC5",
                "#B0BEC5",
                "#B0BEC5",
                "#B0BEC5",
                "#B0BEC5",
                "#B0BEC5",
                "#B0BEC5",
                "#B0BEC5",
                "#B0BEC5",
                "#B0BEC5",
                "#B0BEC5",
                "red",
                "#B0BEC5",
                "#B0BEC5",
                "#B0BEC5",
                "#B0BEC5",
                "#B0BEC5",
                "#B0BEC5",
                "#B0BEC5",
                "#B0BEC5",
                "#B0BEC5",
                "#B0BEC5",
                "#B0BEC5",
                "#B0BEC5",
                "#B0BEC5",
                "#B0BEC5",
                "#B0BEC5",
                "#B0BEC5",
                "#B0BEC5",
                "#B0BEC5"
               ]
              ]
             }
            ],
            "label": "Topic 41",
            "method": "update"
           },
           {
            "args": [
             {
              "marker.color": [
               [
                "#B0BEC5",
                "#B0BEC5",
                "#B0BEC5",
                "#B0BEC5",
                "#B0BEC5",
                "#B0BEC5",
                "#B0BEC5",
                "#B0BEC5",
                "#B0BEC5",
                "#B0BEC5",
                "#B0BEC5",
                "#B0BEC5",
                "#B0BEC5",
                "#B0BEC5",
                "#B0BEC5",
                "#B0BEC5",
                "#B0BEC5",
                "#B0BEC5",
                "#B0BEC5",
                "#B0BEC5",
                "#B0BEC5",
                "#B0BEC5",
                "#B0BEC5",
                "#B0BEC5",
                "#B0BEC5",
                "#B0BEC5",
                "#B0BEC5",
                "#B0BEC5",
                "#B0BEC5",
                "#B0BEC5",
                "#B0BEC5",
                "#B0BEC5",
                "#B0BEC5",
                "#B0BEC5",
                "#B0BEC5",
                "#B0BEC5",
                "#B0BEC5",
                "#B0BEC5",
                "#B0BEC5",
                "#B0BEC5",
                "#B0BEC5",
                "#B0BEC5",
                "red",
                "#B0BEC5",
                "#B0BEC5",
                "#B0BEC5",
                "#B0BEC5",
                "#B0BEC5",
                "#B0BEC5",
                "#B0BEC5",
                "#B0BEC5",
                "#B0BEC5",
                "#B0BEC5",
                "#B0BEC5",
                "#B0BEC5",
                "#B0BEC5",
                "#B0BEC5",
                "#B0BEC5",
                "#B0BEC5",
                "#B0BEC5"
               ]
              ]
             }
            ],
            "label": "Topic 42",
            "method": "update"
           },
           {
            "args": [
             {
              "marker.color": [
               [
                "#B0BEC5",
                "#B0BEC5",
                "#B0BEC5",
                "#B0BEC5",
                "#B0BEC5",
                "#B0BEC5",
                "#B0BEC5",
                "#B0BEC5",
                "#B0BEC5",
                "#B0BEC5",
                "#B0BEC5",
                "#B0BEC5",
                "#B0BEC5",
                "#B0BEC5",
                "#B0BEC5",
                "#B0BEC5",
                "#B0BEC5",
                "#B0BEC5",
                "#B0BEC5",
                "#B0BEC5",
                "#B0BEC5",
                "#B0BEC5",
                "#B0BEC5",
                "#B0BEC5",
                "#B0BEC5",
                "#B0BEC5",
                "#B0BEC5",
                "#B0BEC5",
                "#B0BEC5",
                "#B0BEC5",
                "#B0BEC5",
                "#B0BEC5",
                "#B0BEC5",
                "#B0BEC5",
                "#B0BEC5",
                "#B0BEC5",
                "#B0BEC5",
                "#B0BEC5",
                "#B0BEC5",
                "#B0BEC5",
                "#B0BEC5",
                "#B0BEC5",
                "#B0BEC5",
                "red",
                "#B0BEC5",
                "#B0BEC5",
                "#B0BEC5",
                "#B0BEC5",
                "#B0BEC5",
                "#B0BEC5",
                "#B0BEC5",
                "#B0BEC5",
                "#B0BEC5",
                "#B0BEC5",
                "#B0BEC5",
                "#B0BEC5",
                "#B0BEC5",
                "#B0BEC5",
                "#B0BEC5",
                "#B0BEC5"
               ]
              ]
             }
            ],
            "label": "Topic 43",
            "method": "update"
           },
           {
            "args": [
             {
              "marker.color": [
               [
                "#B0BEC5",
                "#B0BEC5",
                "#B0BEC5",
                "#B0BEC5",
                "#B0BEC5",
                "#B0BEC5",
                "#B0BEC5",
                "#B0BEC5",
                "#B0BEC5",
                "#B0BEC5",
                "#B0BEC5",
                "#B0BEC5",
                "#B0BEC5",
                "#B0BEC5",
                "#B0BEC5",
                "#B0BEC5",
                "#B0BEC5",
                "#B0BEC5",
                "#B0BEC5",
                "#B0BEC5",
                "#B0BEC5",
                "#B0BEC5",
                "#B0BEC5",
                "#B0BEC5",
                "#B0BEC5",
                "#B0BEC5",
                "#B0BEC5",
                "#B0BEC5",
                "#B0BEC5",
                "#B0BEC5",
                "#B0BEC5",
                "#B0BEC5",
                "#B0BEC5",
                "#B0BEC5",
                "#B0BEC5",
                "#B0BEC5",
                "#B0BEC5",
                "#B0BEC5",
                "#B0BEC5",
                "#B0BEC5",
                "#B0BEC5",
                "#B0BEC5",
                "#B0BEC5",
                "#B0BEC5",
                "red",
                "#B0BEC5",
                "#B0BEC5",
                "#B0BEC5",
                "#B0BEC5",
                "#B0BEC5",
                "#B0BEC5",
                "#B0BEC5",
                "#B0BEC5",
                "#B0BEC5",
                "#B0BEC5",
                "#B0BEC5",
                "#B0BEC5",
                "#B0BEC5",
                "#B0BEC5",
                "#B0BEC5"
               ]
              ]
             }
            ],
            "label": "Topic 44",
            "method": "update"
           },
           {
            "args": [
             {
              "marker.color": [
               [
                "#B0BEC5",
                "#B0BEC5",
                "#B0BEC5",
                "#B0BEC5",
                "#B0BEC5",
                "#B0BEC5",
                "#B0BEC5",
                "#B0BEC5",
                "#B0BEC5",
                "#B0BEC5",
                "#B0BEC5",
                "#B0BEC5",
                "#B0BEC5",
                "#B0BEC5",
                "#B0BEC5",
                "#B0BEC5",
                "#B0BEC5",
                "#B0BEC5",
                "#B0BEC5",
                "#B0BEC5",
                "#B0BEC5",
                "#B0BEC5",
                "#B0BEC5",
                "#B0BEC5",
                "#B0BEC5",
                "#B0BEC5",
                "#B0BEC5",
                "#B0BEC5",
                "#B0BEC5",
                "#B0BEC5",
                "#B0BEC5",
                "#B0BEC5",
                "#B0BEC5",
                "#B0BEC5",
                "#B0BEC5",
                "#B0BEC5",
                "#B0BEC5",
                "#B0BEC5",
                "#B0BEC5",
                "#B0BEC5",
                "#B0BEC5",
                "#B0BEC5",
                "#B0BEC5",
                "#B0BEC5",
                "#B0BEC5",
                "red",
                "#B0BEC5",
                "#B0BEC5",
                "#B0BEC5",
                "#B0BEC5",
                "#B0BEC5",
                "#B0BEC5",
                "#B0BEC5",
                "#B0BEC5",
                "#B0BEC5",
                "#B0BEC5",
                "#B0BEC5",
                "#B0BEC5",
                "#B0BEC5",
                "#B0BEC5"
               ]
              ]
             }
            ],
            "label": "Topic 45",
            "method": "update"
           },
           {
            "args": [
             {
              "marker.color": [
               [
                "#B0BEC5",
                "#B0BEC5",
                "#B0BEC5",
                "#B0BEC5",
                "#B0BEC5",
                "#B0BEC5",
                "#B0BEC5",
                "#B0BEC5",
                "#B0BEC5",
                "#B0BEC5",
                "#B0BEC5",
                "#B0BEC5",
                "#B0BEC5",
                "#B0BEC5",
                "#B0BEC5",
                "#B0BEC5",
                "#B0BEC5",
                "#B0BEC5",
                "#B0BEC5",
                "#B0BEC5",
                "#B0BEC5",
                "#B0BEC5",
                "#B0BEC5",
                "#B0BEC5",
                "#B0BEC5",
                "#B0BEC5",
                "#B0BEC5",
                "#B0BEC5",
                "#B0BEC5",
                "#B0BEC5",
                "#B0BEC5",
                "#B0BEC5",
                "#B0BEC5",
                "#B0BEC5",
                "#B0BEC5",
                "#B0BEC5",
                "#B0BEC5",
                "#B0BEC5",
                "#B0BEC5",
                "#B0BEC5",
                "#B0BEC5",
                "#B0BEC5",
                "#B0BEC5",
                "#B0BEC5",
                "#B0BEC5",
                "#B0BEC5",
                "red",
                "#B0BEC5",
                "#B0BEC5",
                "#B0BEC5",
                "#B0BEC5",
                "#B0BEC5",
                "#B0BEC5",
                "#B0BEC5",
                "#B0BEC5",
                "#B0BEC5",
                "#B0BEC5",
                "#B0BEC5",
                "#B0BEC5",
                "#B0BEC5"
               ]
              ]
             }
            ],
            "label": "Topic 46",
            "method": "update"
           },
           {
            "args": [
             {
              "marker.color": [
               [
                "#B0BEC5",
                "#B0BEC5",
                "#B0BEC5",
                "#B0BEC5",
                "#B0BEC5",
                "#B0BEC5",
                "#B0BEC5",
                "#B0BEC5",
                "#B0BEC5",
                "#B0BEC5",
                "#B0BEC5",
                "#B0BEC5",
                "#B0BEC5",
                "#B0BEC5",
                "#B0BEC5",
                "#B0BEC5",
                "#B0BEC5",
                "#B0BEC5",
                "#B0BEC5",
                "#B0BEC5",
                "#B0BEC5",
                "#B0BEC5",
                "#B0BEC5",
                "#B0BEC5",
                "#B0BEC5",
                "#B0BEC5",
                "#B0BEC5",
                "#B0BEC5",
                "#B0BEC5",
                "#B0BEC5",
                "#B0BEC5",
                "#B0BEC5",
                "#B0BEC5",
                "#B0BEC5",
                "#B0BEC5",
                "#B0BEC5",
                "#B0BEC5",
                "#B0BEC5",
                "#B0BEC5",
                "#B0BEC5",
                "#B0BEC5",
                "#B0BEC5",
                "#B0BEC5",
                "#B0BEC5",
                "#B0BEC5",
                "#B0BEC5",
                "#B0BEC5",
                "red",
                "#B0BEC5",
                "#B0BEC5",
                "#B0BEC5",
                "#B0BEC5",
                "#B0BEC5",
                "#B0BEC5",
                "#B0BEC5",
                "#B0BEC5",
                "#B0BEC5",
                "#B0BEC5",
                "#B0BEC5",
                "#B0BEC5"
               ]
              ]
             }
            ],
            "label": "Topic 47",
            "method": "update"
           },
           {
            "args": [
             {
              "marker.color": [
               [
                "#B0BEC5",
                "#B0BEC5",
                "#B0BEC5",
                "#B0BEC5",
                "#B0BEC5",
                "#B0BEC5",
                "#B0BEC5",
                "#B0BEC5",
                "#B0BEC5",
                "#B0BEC5",
                "#B0BEC5",
                "#B0BEC5",
                "#B0BEC5",
                "#B0BEC5",
                "#B0BEC5",
                "#B0BEC5",
                "#B0BEC5",
                "#B0BEC5",
                "#B0BEC5",
                "#B0BEC5",
                "#B0BEC5",
                "#B0BEC5",
                "#B0BEC5",
                "#B0BEC5",
                "#B0BEC5",
                "#B0BEC5",
                "#B0BEC5",
                "#B0BEC5",
                "#B0BEC5",
                "#B0BEC5",
                "#B0BEC5",
                "#B0BEC5",
                "#B0BEC5",
                "#B0BEC5",
                "#B0BEC5",
                "#B0BEC5",
                "#B0BEC5",
                "#B0BEC5",
                "#B0BEC5",
                "#B0BEC5",
                "#B0BEC5",
                "#B0BEC5",
                "#B0BEC5",
                "#B0BEC5",
                "#B0BEC5",
                "#B0BEC5",
                "#B0BEC5",
                "#B0BEC5",
                "red",
                "#B0BEC5",
                "#B0BEC5",
                "#B0BEC5",
                "#B0BEC5",
                "#B0BEC5",
                "#B0BEC5",
                "#B0BEC5",
                "#B0BEC5",
                "#B0BEC5",
                "#B0BEC5",
                "#B0BEC5"
               ]
              ]
             }
            ],
            "label": "Topic 48",
            "method": "update"
           },
           {
            "args": [
             {
              "marker.color": [
               [
                "#B0BEC5",
                "#B0BEC5",
                "#B0BEC5",
                "#B0BEC5",
                "#B0BEC5",
                "#B0BEC5",
                "#B0BEC5",
                "#B0BEC5",
                "#B0BEC5",
                "#B0BEC5",
                "#B0BEC5",
                "#B0BEC5",
                "#B0BEC5",
                "#B0BEC5",
                "#B0BEC5",
                "#B0BEC5",
                "#B0BEC5",
                "#B0BEC5",
                "#B0BEC5",
                "#B0BEC5",
                "#B0BEC5",
                "#B0BEC5",
                "#B0BEC5",
                "#B0BEC5",
                "#B0BEC5",
                "#B0BEC5",
                "#B0BEC5",
                "#B0BEC5",
                "#B0BEC5",
                "#B0BEC5",
                "#B0BEC5",
                "#B0BEC5",
                "#B0BEC5",
                "#B0BEC5",
                "#B0BEC5",
                "#B0BEC5",
                "#B0BEC5",
                "#B0BEC5",
                "#B0BEC5",
                "#B0BEC5",
                "#B0BEC5",
                "#B0BEC5",
                "#B0BEC5",
                "#B0BEC5",
                "#B0BEC5",
                "#B0BEC5",
                "#B0BEC5",
                "#B0BEC5",
                "#B0BEC5",
                "red",
                "#B0BEC5",
                "#B0BEC5",
                "#B0BEC5",
                "#B0BEC5",
                "#B0BEC5",
                "#B0BEC5",
                "#B0BEC5",
                "#B0BEC5",
                "#B0BEC5",
                "#B0BEC5"
               ]
              ]
             }
            ],
            "label": "Topic 49",
            "method": "update"
           },
           {
            "args": [
             {
              "marker.color": [
               [
                "#B0BEC5",
                "#B0BEC5",
                "#B0BEC5",
                "#B0BEC5",
                "#B0BEC5",
                "#B0BEC5",
                "#B0BEC5",
                "#B0BEC5",
                "#B0BEC5",
                "#B0BEC5",
                "#B0BEC5",
                "#B0BEC5",
                "#B0BEC5",
                "#B0BEC5",
                "#B0BEC5",
                "#B0BEC5",
                "#B0BEC5",
                "#B0BEC5",
                "#B0BEC5",
                "#B0BEC5",
                "#B0BEC5",
                "#B0BEC5",
                "#B0BEC5",
                "#B0BEC5",
                "#B0BEC5",
                "#B0BEC5",
                "#B0BEC5",
                "#B0BEC5",
                "#B0BEC5",
                "#B0BEC5",
                "#B0BEC5",
                "#B0BEC5",
                "#B0BEC5",
                "#B0BEC5",
                "#B0BEC5",
                "#B0BEC5",
                "#B0BEC5",
                "#B0BEC5",
                "#B0BEC5",
                "#B0BEC5",
                "#B0BEC5",
                "#B0BEC5",
                "#B0BEC5",
                "#B0BEC5",
                "#B0BEC5",
                "#B0BEC5",
                "#B0BEC5",
                "#B0BEC5",
                "#B0BEC5",
                "#B0BEC5",
                "red",
                "#B0BEC5",
                "#B0BEC5",
                "#B0BEC5",
                "#B0BEC5",
                "#B0BEC5",
                "#B0BEC5",
                "#B0BEC5",
                "#B0BEC5",
                "#B0BEC5"
               ]
              ]
             }
            ],
            "label": "Topic 50",
            "method": "update"
           },
           {
            "args": [
             {
              "marker.color": [
               [
                "#B0BEC5",
                "#B0BEC5",
                "#B0BEC5",
                "#B0BEC5",
                "#B0BEC5",
                "#B0BEC5",
                "#B0BEC5",
                "#B0BEC5",
                "#B0BEC5",
                "#B0BEC5",
                "#B0BEC5",
                "#B0BEC5",
                "#B0BEC5",
                "#B0BEC5",
                "#B0BEC5",
                "#B0BEC5",
                "#B0BEC5",
                "#B0BEC5",
                "#B0BEC5",
                "#B0BEC5",
                "#B0BEC5",
                "#B0BEC5",
                "#B0BEC5",
                "#B0BEC5",
                "#B0BEC5",
                "#B0BEC5",
                "#B0BEC5",
                "#B0BEC5",
                "#B0BEC5",
                "#B0BEC5",
                "#B0BEC5",
                "#B0BEC5",
                "#B0BEC5",
                "#B0BEC5",
                "#B0BEC5",
                "#B0BEC5",
                "#B0BEC5",
                "#B0BEC5",
                "#B0BEC5",
                "#B0BEC5",
                "#B0BEC5",
                "#B0BEC5",
                "#B0BEC5",
                "#B0BEC5",
                "#B0BEC5",
                "#B0BEC5",
                "#B0BEC5",
                "#B0BEC5",
                "#B0BEC5",
                "#B0BEC5",
                "#B0BEC5",
                "red",
                "#B0BEC5",
                "#B0BEC5",
                "#B0BEC5",
                "#B0BEC5",
                "#B0BEC5",
                "#B0BEC5",
                "#B0BEC5",
                "#B0BEC5"
               ]
              ]
             }
            ],
            "label": "Topic 51",
            "method": "update"
           },
           {
            "args": [
             {
              "marker.color": [
               [
                "#B0BEC5",
                "#B0BEC5",
                "#B0BEC5",
                "#B0BEC5",
                "#B0BEC5",
                "#B0BEC5",
                "#B0BEC5",
                "#B0BEC5",
                "#B0BEC5",
                "#B0BEC5",
                "#B0BEC5",
                "#B0BEC5",
                "#B0BEC5",
                "#B0BEC5",
                "#B0BEC5",
                "#B0BEC5",
                "#B0BEC5",
                "#B0BEC5",
                "#B0BEC5",
                "#B0BEC5",
                "#B0BEC5",
                "#B0BEC5",
                "#B0BEC5",
                "#B0BEC5",
                "#B0BEC5",
                "#B0BEC5",
                "#B0BEC5",
                "#B0BEC5",
                "#B0BEC5",
                "#B0BEC5",
                "#B0BEC5",
                "#B0BEC5",
                "#B0BEC5",
                "#B0BEC5",
                "#B0BEC5",
                "#B0BEC5",
                "#B0BEC5",
                "#B0BEC5",
                "#B0BEC5",
                "#B0BEC5",
                "#B0BEC5",
                "#B0BEC5",
                "#B0BEC5",
                "#B0BEC5",
                "#B0BEC5",
                "#B0BEC5",
                "#B0BEC5",
                "#B0BEC5",
                "#B0BEC5",
                "#B0BEC5",
                "#B0BEC5",
                "#B0BEC5",
                "red",
                "#B0BEC5",
                "#B0BEC5",
                "#B0BEC5",
                "#B0BEC5",
                "#B0BEC5",
                "#B0BEC5",
                "#B0BEC5"
               ]
              ]
             }
            ],
            "label": "Topic 52",
            "method": "update"
           },
           {
            "args": [
             {
              "marker.color": [
               [
                "#B0BEC5",
                "#B0BEC5",
                "#B0BEC5",
                "#B0BEC5",
                "#B0BEC5",
                "#B0BEC5",
                "#B0BEC5",
                "#B0BEC5",
                "#B0BEC5",
                "#B0BEC5",
                "#B0BEC5",
                "#B0BEC5",
                "#B0BEC5",
                "#B0BEC5",
                "#B0BEC5",
                "#B0BEC5",
                "#B0BEC5",
                "#B0BEC5",
                "#B0BEC5",
                "#B0BEC5",
                "#B0BEC5",
                "#B0BEC5",
                "#B0BEC5",
                "#B0BEC5",
                "#B0BEC5",
                "#B0BEC5",
                "#B0BEC5",
                "#B0BEC5",
                "#B0BEC5",
                "#B0BEC5",
                "#B0BEC5",
                "#B0BEC5",
                "#B0BEC5",
                "#B0BEC5",
                "#B0BEC5",
                "#B0BEC5",
                "#B0BEC5",
                "#B0BEC5",
                "#B0BEC5",
                "#B0BEC5",
                "#B0BEC5",
                "#B0BEC5",
                "#B0BEC5",
                "#B0BEC5",
                "#B0BEC5",
                "#B0BEC5",
                "#B0BEC5",
                "#B0BEC5",
                "#B0BEC5",
                "#B0BEC5",
                "#B0BEC5",
                "#B0BEC5",
                "#B0BEC5",
                "red",
                "#B0BEC5",
                "#B0BEC5",
                "#B0BEC5",
                "#B0BEC5",
                "#B0BEC5",
                "#B0BEC5"
               ]
              ]
             }
            ],
            "label": "Topic 53",
            "method": "update"
           },
           {
            "args": [
             {
              "marker.color": [
               [
                "#B0BEC5",
                "#B0BEC5",
                "#B0BEC5",
                "#B0BEC5",
                "#B0BEC5",
                "#B0BEC5",
                "#B0BEC5",
                "#B0BEC5",
                "#B0BEC5",
                "#B0BEC5",
                "#B0BEC5",
                "#B0BEC5",
                "#B0BEC5",
                "#B0BEC5",
                "#B0BEC5",
                "#B0BEC5",
                "#B0BEC5",
                "#B0BEC5",
                "#B0BEC5",
                "#B0BEC5",
                "#B0BEC5",
                "#B0BEC5",
                "#B0BEC5",
                "#B0BEC5",
                "#B0BEC5",
                "#B0BEC5",
                "#B0BEC5",
                "#B0BEC5",
                "#B0BEC5",
                "#B0BEC5",
                "#B0BEC5",
                "#B0BEC5",
                "#B0BEC5",
                "#B0BEC5",
                "#B0BEC5",
                "#B0BEC5",
                "#B0BEC5",
                "#B0BEC5",
                "#B0BEC5",
                "#B0BEC5",
                "#B0BEC5",
                "#B0BEC5",
                "#B0BEC5",
                "#B0BEC5",
                "#B0BEC5",
                "#B0BEC5",
                "#B0BEC5",
                "#B0BEC5",
                "#B0BEC5",
                "#B0BEC5",
                "#B0BEC5",
                "#B0BEC5",
                "#B0BEC5",
                "#B0BEC5",
                "red",
                "#B0BEC5",
                "#B0BEC5",
                "#B0BEC5",
                "#B0BEC5",
                "#B0BEC5"
               ]
              ]
             }
            ],
            "label": "Topic 54",
            "method": "update"
           },
           {
            "args": [
             {
              "marker.color": [
               [
                "#B0BEC5",
                "#B0BEC5",
                "#B0BEC5",
                "#B0BEC5",
                "#B0BEC5",
                "#B0BEC5",
                "#B0BEC5",
                "#B0BEC5",
                "#B0BEC5",
                "#B0BEC5",
                "#B0BEC5",
                "#B0BEC5",
                "#B0BEC5",
                "#B0BEC5",
                "#B0BEC5",
                "#B0BEC5",
                "#B0BEC5",
                "#B0BEC5",
                "#B0BEC5",
                "#B0BEC5",
                "#B0BEC5",
                "#B0BEC5",
                "#B0BEC5",
                "#B0BEC5",
                "#B0BEC5",
                "#B0BEC5",
                "#B0BEC5",
                "#B0BEC5",
                "#B0BEC5",
                "#B0BEC5",
                "#B0BEC5",
                "#B0BEC5",
                "#B0BEC5",
                "#B0BEC5",
                "#B0BEC5",
                "#B0BEC5",
                "#B0BEC5",
                "#B0BEC5",
                "#B0BEC5",
                "#B0BEC5",
                "#B0BEC5",
                "#B0BEC5",
                "#B0BEC5",
                "#B0BEC5",
                "#B0BEC5",
                "#B0BEC5",
                "#B0BEC5",
                "#B0BEC5",
                "#B0BEC5",
                "#B0BEC5",
                "#B0BEC5",
                "#B0BEC5",
                "#B0BEC5",
                "#B0BEC5",
                "#B0BEC5",
                "red",
                "#B0BEC5",
                "#B0BEC5",
                "#B0BEC5",
                "#B0BEC5"
               ]
              ]
             }
            ],
            "label": "Topic 55",
            "method": "update"
           },
           {
            "args": [
             {
              "marker.color": [
               [
                "#B0BEC5",
                "#B0BEC5",
                "#B0BEC5",
                "#B0BEC5",
                "#B0BEC5",
                "#B0BEC5",
                "#B0BEC5",
                "#B0BEC5",
                "#B0BEC5",
                "#B0BEC5",
                "#B0BEC5",
                "#B0BEC5",
                "#B0BEC5",
                "#B0BEC5",
                "#B0BEC5",
                "#B0BEC5",
                "#B0BEC5",
                "#B0BEC5",
                "#B0BEC5",
                "#B0BEC5",
                "#B0BEC5",
                "#B0BEC5",
                "#B0BEC5",
                "#B0BEC5",
                "#B0BEC5",
                "#B0BEC5",
                "#B0BEC5",
                "#B0BEC5",
                "#B0BEC5",
                "#B0BEC5",
                "#B0BEC5",
                "#B0BEC5",
                "#B0BEC5",
                "#B0BEC5",
                "#B0BEC5",
                "#B0BEC5",
                "#B0BEC5",
                "#B0BEC5",
                "#B0BEC5",
                "#B0BEC5",
                "#B0BEC5",
                "#B0BEC5",
                "#B0BEC5",
                "#B0BEC5",
                "#B0BEC5",
                "#B0BEC5",
                "#B0BEC5",
                "#B0BEC5",
                "#B0BEC5",
                "#B0BEC5",
                "#B0BEC5",
                "#B0BEC5",
                "#B0BEC5",
                "#B0BEC5",
                "#B0BEC5",
                "#B0BEC5",
                "red",
                "#B0BEC5",
                "#B0BEC5",
                "#B0BEC5"
               ]
              ]
             }
            ],
            "label": "Topic 56",
            "method": "update"
           },
           {
            "args": [
             {
              "marker.color": [
               [
                "#B0BEC5",
                "#B0BEC5",
                "#B0BEC5",
                "#B0BEC5",
                "#B0BEC5",
                "#B0BEC5",
                "#B0BEC5",
                "#B0BEC5",
                "#B0BEC5",
                "#B0BEC5",
                "#B0BEC5",
                "#B0BEC5",
                "#B0BEC5",
                "#B0BEC5",
                "#B0BEC5",
                "#B0BEC5",
                "#B0BEC5",
                "#B0BEC5",
                "#B0BEC5",
                "#B0BEC5",
                "#B0BEC5",
                "#B0BEC5",
                "#B0BEC5",
                "#B0BEC5",
                "#B0BEC5",
                "#B0BEC5",
                "#B0BEC5",
                "#B0BEC5",
                "#B0BEC5",
                "#B0BEC5",
                "#B0BEC5",
                "#B0BEC5",
                "#B0BEC5",
                "#B0BEC5",
                "#B0BEC5",
                "#B0BEC5",
                "#B0BEC5",
                "#B0BEC5",
                "#B0BEC5",
                "#B0BEC5",
                "#B0BEC5",
                "#B0BEC5",
                "#B0BEC5",
                "#B0BEC5",
                "#B0BEC5",
                "#B0BEC5",
                "#B0BEC5",
                "#B0BEC5",
                "#B0BEC5",
                "#B0BEC5",
                "#B0BEC5",
                "#B0BEC5",
                "#B0BEC5",
                "#B0BEC5",
                "#B0BEC5",
                "#B0BEC5",
                "#B0BEC5",
                "red",
                "#B0BEC5",
                "#B0BEC5"
               ]
              ]
             }
            ],
            "label": "Topic 57",
            "method": "update"
           },
           {
            "args": [
             {
              "marker.color": [
               [
                "#B0BEC5",
                "#B0BEC5",
                "#B0BEC5",
                "#B0BEC5",
                "#B0BEC5",
                "#B0BEC5",
                "#B0BEC5",
                "#B0BEC5",
                "#B0BEC5",
                "#B0BEC5",
                "#B0BEC5",
                "#B0BEC5",
                "#B0BEC5",
                "#B0BEC5",
                "#B0BEC5",
                "#B0BEC5",
                "#B0BEC5",
                "#B0BEC5",
                "#B0BEC5",
                "#B0BEC5",
                "#B0BEC5",
                "#B0BEC5",
                "#B0BEC5",
                "#B0BEC5",
                "#B0BEC5",
                "#B0BEC5",
                "#B0BEC5",
                "#B0BEC5",
                "#B0BEC5",
                "#B0BEC5",
                "#B0BEC5",
                "#B0BEC5",
                "#B0BEC5",
                "#B0BEC5",
                "#B0BEC5",
                "#B0BEC5",
                "#B0BEC5",
                "#B0BEC5",
                "#B0BEC5",
                "#B0BEC5",
                "#B0BEC5",
                "#B0BEC5",
                "#B0BEC5",
                "#B0BEC5",
                "#B0BEC5",
                "#B0BEC5",
                "#B0BEC5",
                "#B0BEC5",
                "#B0BEC5",
                "#B0BEC5",
                "#B0BEC5",
                "#B0BEC5",
                "#B0BEC5",
                "#B0BEC5",
                "#B0BEC5",
                "#B0BEC5",
                "#B0BEC5",
                "#B0BEC5",
                "red",
                "#B0BEC5"
               ]
              ]
             }
            ],
            "label": "Topic 58",
            "method": "update"
           },
           {
            "args": [
             {
              "marker.color": [
               [
                "#B0BEC5",
                "#B0BEC5",
                "#B0BEC5",
                "#B0BEC5",
                "#B0BEC5",
                "#B0BEC5",
                "#B0BEC5",
                "#B0BEC5",
                "#B0BEC5",
                "#B0BEC5",
                "#B0BEC5",
                "#B0BEC5",
                "#B0BEC5",
                "#B0BEC5",
                "#B0BEC5",
                "#B0BEC5",
                "#B0BEC5",
                "#B0BEC5",
                "#B0BEC5",
                "#B0BEC5",
                "#B0BEC5",
                "#B0BEC5",
                "#B0BEC5",
                "#B0BEC5",
                "#B0BEC5",
                "#B0BEC5",
                "#B0BEC5",
                "#B0BEC5",
                "#B0BEC5",
                "#B0BEC5",
                "#B0BEC5",
                "#B0BEC5",
                "#B0BEC5",
                "#B0BEC5",
                "#B0BEC5",
                "#B0BEC5",
                "#B0BEC5",
                "#B0BEC5",
                "#B0BEC5",
                "#B0BEC5",
                "#B0BEC5",
                "#B0BEC5",
                "#B0BEC5",
                "#B0BEC5",
                "#B0BEC5",
                "#B0BEC5",
                "#B0BEC5",
                "#B0BEC5",
                "#B0BEC5",
                "#B0BEC5",
                "#B0BEC5",
                "#B0BEC5",
                "#B0BEC5",
                "#B0BEC5",
                "#B0BEC5",
                "#B0BEC5",
                "#B0BEC5",
                "#B0BEC5",
                "#B0BEC5",
                "red"
               ]
              ]
             }
            ],
            "label": "Topic 59",
            "method": "update"
           }
          ]
         }
        ],
        "template": {
         "data": {
          "bar": [
           {
            "error_x": {
             "color": "rgb(36,36,36)"
            },
            "error_y": {
             "color": "rgb(36,36,36)"
            },
            "marker": {
             "line": {
              "color": "white",
              "width": 0.5
             },
             "pattern": {
              "fillmode": "overlay",
              "size": 10,
              "solidity": 0.2
             }
            },
            "type": "bar"
           }
          ],
          "barpolar": [
           {
            "marker": {
             "line": {
              "color": "white",
              "width": 0.5
             },
             "pattern": {
              "fillmode": "overlay",
              "size": 10,
              "solidity": 0.2
             }
            },
            "type": "barpolar"
           }
          ],
          "carpet": [
           {
            "aaxis": {
             "endlinecolor": "rgb(36,36,36)",
             "gridcolor": "white",
             "linecolor": "white",
             "minorgridcolor": "white",
             "startlinecolor": "rgb(36,36,36)"
            },
            "baxis": {
             "endlinecolor": "rgb(36,36,36)",
             "gridcolor": "white",
             "linecolor": "white",
             "minorgridcolor": "white",
             "startlinecolor": "rgb(36,36,36)"
            },
            "type": "carpet"
           }
          ],
          "choropleth": [
           {
            "colorbar": {
             "outlinewidth": 1,
             "tickcolor": "rgb(36,36,36)",
             "ticks": "outside"
            },
            "type": "choropleth"
           }
          ],
          "contour": [
           {
            "colorbar": {
             "outlinewidth": 1,
             "tickcolor": "rgb(36,36,36)",
             "ticks": "outside"
            },
            "colorscale": [
             [
              0,
              "#440154"
             ],
             [
              0.1111111111111111,
              "#482878"
             ],
             [
              0.2222222222222222,
              "#3e4989"
             ],
             [
              0.3333333333333333,
              "#31688e"
             ],
             [
              0.4444444444444444,
              "#26828e"
             ],
             [
              0.5555555555555556,
              "#1f9e89"
             ],
             [
              0.6666666666666666,
              "#35b779"
             ],
             [
              0.7777777777777778,
              "#6ece58"
             ],
             [
              0.8888888888888888,
              "#b5de2b"
             ],
             [
              1,
              "#fde725"
             ]
            ],
            "type": "contour"
           }
          ],
          "contourcarpet": [
           {
            "colorbar": {
             "outlinewidth": 1,
             "tickcolor": "rgb(36,36,36)",
             "ticks": "outside"
            },
            "type": "contourcarpet"
           }
          ],
          "heatmap": [
           {
            "colorbar": {
             "outlinewidth": 1,
             "tickcolor": "rgb(36,36,36)",
             "ticks": "outside"
            },
            "colorscale": [
             [
              0,
              "#440154"
             ],
             [
              0.1111111111111111,
              "#482878"
             ],
             [
              0.2222222222222222,
              "#3e4989"
             ],
             [
              0.3333333333333333,
              "#31688e"
             ],
             [
              0.4444444444444444,
              "#26828e"
             ],
             [
              0.5555555555555556,
              "#1f9e89"
             ],
             [
              0.6666666666666666,
              "#35b779"
             ],
             [
              0.7777777777777778,
              "#6ece58"
             ],
             [
              0.8888888888888888,
              "#b5de2b"
             ],
             [
              1,
              "#fde725"
             ]
            ],
            "type": "heatmap"
           }
          ],
          "heatmapgl": [
           {
            "colorbar": {
             "outlinewidth": 1,
             "tickcolor": "rgb(36,36,36)",
             "ticks": "outside"
            },
            "colorscale": [
             [
              0,
              "#440154"
             ],
             [
              0.1111111111111111,
              "#482878"
             ],
             [
              0.2222222222222222,
              "#3e4989"
             ],
             [
              0.3333333333333333,
              "#31688e"
             ],
             [
              0.4444444444444444,
              "#26828e"
             ],
             [
              0.5555555555555556,
              "#1f9e89"
             ],
             [
              0.6666666666666666,
              "#35b779"
             ],
             [
              0.7777777777777778,
              "#6ece58"
             ],
             [
              0.8888888888888888,
              "#b5de2b"
             ],
             [
              1,
              "#fde725"
             ]
            ],
            "type": "heatmapgl"
           }
          ],
          "histogram": [
           {
            "marker": {
             "line": {
              "color": "white",
              "width": 0.6
             }
            },
            "type": "histogram"
           }
          ],
          "histogram2d": [
           {
            "colorbar": {
             "outlinewidth": 1,
             "tickcolor": "rgb(36,36,36)",
             "ticks": "outside"
            },
            "colorscale": [
             [
              0,
              "#440154"
             ],
             [
              0.1111111111111111,
              "#482878"
             ],
             [
              0.2222222222222222,
              "#3e4989"
             ],
             [
              0.3333333333333333,
              "#31688e"
             ],
             [
              0.4444444444444444,
              "#26828e"
             ],
             [
              0.5555555555555556,
              "#1f9e89"
             ],
             [
              0.6666666666666666,
              "#35b779"
             ],
             [
              0.7777777777777778,
              "#6ece58"
             ],
             [
              0.8888888888888888,
              "#b5de2b"
             ],
             [
              1,
              "#fde725"
             ]
            ],
            "type": "histogram2d"
           }
          ],
          "histogram2dcontour": [
           {
            "colorbar": {
             "outlinewidth": 1,
             "tickcolor": "rgb(36,36,36)",
             "ticks": "outside"
            },
            "colorscale": [
             [
              0,
              "#440154"
             ],
             [
              0.1111111111111111,
              "#482878"
             ],
             [
              0.2222222222222222,
              "#3e4989"
             ],
             [
              0.3333333333333333,
              "#31688e"
             ],
             [
              0.4444444444444444,
              "#26828e"
             ],
             [
              0.5555555555555556,
              "#1f9e89"
             ],
             [
              0.6666666666666666,
              "#35b779"
             ],
             [
              0.7777777777777778,
              "#6ece58"
             ],
             [
              0.8888888888888888,
              "#b5de2b"
             ],
             [
              1,
              "#fde725"
             ]
            ],
            "type": "histogram2dcontour"
           }
          ],
          "mesh3d": [
           {
            "colorbar": {
             "outlinewidth": 1,
             "tickcolor": "rgb(36,36,36)",
             "ticks": "outside"
            },
            "type": "mesh3d"
           }
          ],
          "parcoords": [
           {
            "line": {
             "colorbar": {
              "outlinewidth": 1,
              "tickcolor": "rgb(36,36,36)",
              "ticks": "outside"
             }
            },
            "type": "parcoords"
           }
          ],
          "pie": [
           {
            "automargin": true,
            "type": "pie"
           }
          ],
          "scatter": [
           {
            "fillpattern": {
             "fillmode": "overlay",
             "size": 10,
             "solidity": 0.2
            },
            "type": "scatter"
           }
          ],
          "scatter3d": [
           {
            "line": {
             "colorbar": {
              "outlinewidth": 1,
              "tickcolor": "rgb(36,36,36)",
              "ticks": "outside"
             }
            },
            "marker": {
             "colorbar": {
              "outlinewidth": 1,
              "tickcolor": "rgb(36,36,36)",
              "ticks": "outside"
             }
            },
            "type": "scatter3d"
           }
          ],
          "scattercarpet": [
           {
            "marker": {
             "colorbar": {
              "outlinewidth": 1,
              "tickcolor": "rgb(36,36,36)",
              "ticks": "outside"
             }
            },
            "type": "scattercarpet"
           }
          ],
          "scattergeo": [
           {
            "marker": {
             "colorbar": {
              "outlinewidth": 1,
              "tickcolor": "rgb(36,36,36)",
              "ticks": "outside"
             }
            },
            "type": "scattergeo"
           }
          ],
          "scattergl": [
           {
            "marker": {
             "colorbar": {
              "outlinewidth": 1,
              "tickcolor": "rgb(36,36,36)",
              "ticks": "outside"
             }
            },
            "type": "scattergl"
           }
          ],
          "scattermapbox": [
           {
            "marker": {
             "colorbar": {
              "outlinewidth": 1,
              "tickcolor": "rgb(36,36,36)",
              "ticks": "outside"
             }
            },
            "type": "scattermapbox"
           }
          ],
          "scatterpolar": [
           {
            "marker": {
             "colorbar": {
              "outlinewidth": 1,
              "tickcolor": "rgb(36,36,36)",
              "ticks": "outside"
             }
            },
            "type": "scatterpolar"
           }
          ],
          "scatterpolargl": [
           {
            "marker": {
             "colorbar": {
              "outlinewidth": 1,
              "tickcolor": "rgb(36,36,36)",
              "ticks": "outside"
             }
            },
            "type": "scatterpolargl"
           }
          ],
          "scatterternary": [
           {
            "marker": {
             "colorbar": {
              "outlinewidth": 1,
              "tickcolor": "rgb(36,36,36)",
              "ticks": "outside"
             }
            },
            "type": "scatterternary"
           }
          ],
          "surface": [
           {
            "colorbar": {
             "outlinewidth": 1,
             "tickcolor": "rgb(36,36,36)",
             "ticks": "outside"
            },
            "colorscale": [
             [
              0,
              "#440154"
             ],
             [
              0.1111111111111111,
              "#482878"
             ],
             [
              0.2222222222222222,
              "#3e4989"
             ],
             [
              0.3333333333333333,
              "#31688e"
             ],
             [
              0.4444444444444444,
              "#26828e"
             ],
             [
              0.5555555555555556,
              "#1f9e89"
             ],
             [
              0.6666666666666666,
              "#35b779"
             ],
             [
              0.7777777777777778,
              "#6ece58"
             ],
             [
              0.8888888888888888,
              "#b5de2b"
             ],
             [
              1,
              "#fde725"
             ]
            ],
            "type": "surface"
           }
          ],
          "table": [
           {
            "cells": {
             "fill": {
              "color": "rgb(237,237,237)"
             },
             "line": {
              "color": "white"
             }
            },
            "header": {
             "fill": {
              "color": "rgb(217,217,217)"
             },
             "line": {
              "color": "white"
             }
            },
            "type": "table"
           }
          ]
         },
         "layout": {
          "annotationdefaults": {
           "arrowhead": 0,
           "arrowwidth": 1
          },
          "autotypenumbers": "strict",
          "coloraxis": {
           "colorbar": {
            "outlinewidth": 1,
            "tickcolor": "rgb(36,36,36)",
            "ticks": "outside"
           }
          },
          "colorscale": {
           "diverging": [
            [
             0,
             "rgb(103,0,31)"
            ],
            [
             0.1,
             "rgb(178,24,43)"
            ],
            [
             0.2,
             "rgb(214,96,77)"
            ],
            [
             0.3,
             "rgb(244,165,130)"
            ],
            [
             0.4,
             "rgb(253,219,199)"
            ],
            [
             0.5,
             "rgb(247,247,247)"
            ],
            [
             0.6,
             "rgb(209,229,240)"
            ],
            [
             0.7,
             "rgb(146,197,222)"
            ],
            [
             0.8,
             "rgb(67,147,195)"
            ],
            [
             0.9,
             "rgb(33,102,172)"
            ],
            [
             1,
             "rgb(5,48,97)"
            ]
           ],
           "sequential": [
            [
             0,
             "#440154"
            ],
            [
             0.1111111111111111,
             "#482878"
            ],
            [
             0.2222222222222222,
             "#3e4989"
            ],
            [
             0.3333333333333333,
             "#31688e"
            ],
            [
             0.4444444444444444,
             "#26828e"
            ],
            [
             0.5555555555555556,
             "#1f9e89"
            ],
            [
             0.6666666666666666,
             "#35b779"
            ],
            [
             0.7777777777777778,
             "#6ece58"
            ],
            [
             0.8888888888888888,
             "#b5de2b"
            ],
            [
             1,
             "#fde725"
            ]
           ],
           "sequentialminus": [
            [
             0,
             "#440154"
            ],
            [
             0.1111111111111111,
             "#482878"
            ],
            [
             0.2222222222222222,
             "#3e4989"
            ],
            [
             0.3333333333333333,
             "#31688e"
            ],
            [
             0.4444444444444444,
             "#26828e"
            ],
            [
             0.5555555555555556,
             "#1f9e89"
            ],
            [
             0.6666666666666666,
             "#35b779"
            ],
            [
             0.7777777777777778,
             "#6ece58"
            ],
            [
             0.8888888888888888,
             "#b5de2b"
            ],
            [
             1,
             "#fde725"
            ]
           ]
          },
          "colorway": [
           "#1F77B4",
           "#FF7F0E",
           "#2CA02C",
           "#D62728",
           "#9467BD",
           "#8C564B",
           "#E377C2",
           "#7F7F7F",
           "#BCBD22",
           "#17BECF"
          ],
          "font": {
           "color": "rgb(36,36,36)"
          },
          "geo": {
           "bgcolor": "white",
           "lakecolor": "white",
           "landcolor": "white",
           "showlakes": true,
           "showland": true,
           "subunitcolor": "white"
          },
          "hoverlabel": {
           "align": "left"
          },
          "hovermode": "closest",
          "mapbox": {
           "style": "light"
          },
          "paper_bgcolor": "white",
          "plot_bgcolor": "white",
          "polar": {
           "angularaxis": {
            "gridcolor": "rgb(232,232,232)",
            "linecolor": "rgb(36,36,36)",
            "showgrid": false,
            "showline": true,
            "ticks": "outside"
           },
           "bgcolor": "white",
           "radialaxis": {
            "gridcolor": "rgb(232,232,232)",
            "linecolor": "rgb(36,36,36)",
            "showgrid": false,
            "showline": true,
            "ticks": "outside"
           }
          },
          "scene": {
           "xaxis": {
            "backgroundcolor": "white",
            "gridcolor": "rgb(232,232,232)",
            "gridwidth": 2,
            "linecolor": "rgb(36,36,36)",
            "showbackground": true,
            "showgrid": false,
            "showline": true,
            "ticks": "outside",
            "zeroline": false,
            "zerolinecolor": "rgb(36,36,36)"
           },
           "yaxis": {
            "backgroundcolor": "white",
            "gridcolor": "rgb(232,232,232)",
            "gridwidth": 2,
            "linecolor": "rgb(36,36,36)",
            "showbackground": true,
            "showgrid": false,
            "showline": true,
            "ticks": "outside",
            "zeroline": false,
            "zerolinecolor": "rgb(36,36,36)"
           },
           "zaxis": {
            "backgroundcolor": "white",
            "gridcolor": "rgb(232,232,232)",
            "gridwidth": 2,
            "linecolor": "rgb(36,36,36)",
            "showbackground": true,
            "showgrid": false,
            "showline": true,
            "ticks": "outside",
            "zeroline": false,
            "zerolinecolor": "rgb(36,36,36)"
           }
          },
          "shapedefaults": {
           "fillcolor": "black",
           "line": {
            "width": 0
           },
           "opacity": 0.3
          },
          "ternary": {
           "aaxis": {
            "gridcolor": "rgb(232,232,232)",
            "linecolor": "rgb(36,36,36)",
            "showgrid": false,
            "showline": true,
            "ticks": "outside"
           },
           "baxis": {
            "gridcolor": "rgb(232,232,232)",
            "linecolor": "rgb(36,36,36)",
            "showgrid": false,
            "showline": true,
            "ticks": "outside"
           },
           "bgcolor": "white",
           "caxis": {
            "gridcolor": "rgb(232,232,232)",
            "linecolor": "rgb(36,36,36)",
            "showgrid": false,
            "showline": true,
            "ticks": "outside"
           }
          },
          "title": {
           "x": 0.05
          },
          "xaxis": {
           "automargin": true,
           "gridcolor": "rgb(232,232,232)",
           "linecolor": "rgb(36,36,36)",
           "showgrid": false,
           "showline": true,
           "ticks": "outside",
           "title": {
            "standoff": 15
           },
           "zeroline": false,
           "zerolinecolor": "rgb(36,36,36)"
          },
          "yaxis": {
           "automargin": true,
           "gridcolor": "rgb(232,232,232)",
           "linecolor": "rgb(36,36,36)",
           "showgrid": false,
           "showline": true,
           "ticks": "outside",
           "title": {
            "standoff": 15
           },
           "zeroline": false,
           "zerolinecolor": "rgb(36,36,36)"
          }
         }
        },
        "title": {
         "font": {
          "color": "Black",
          "size": 22
         },
         "text": "<b>Intertopic Distance Map</b>",
         "x": 0.5,
         "xanchor": "center",
         "y": 0.95,
         "yanchor": "top"
        },
        "width": 650,
        "xaxis": {
         "anchor": "y",
         "domain": [
          0,
          1
         ],
         "range": [
          -15.552912759780884,
          13.168491220474243
         ],
         "title": {
          "text": ""
         },
         "visible": false
        },
        "yaxis": {
         "anchor": "x",
         "domain": [
          0,
          1
         ],
         "range": [
          -14.138494443893432,
          26.229049301147462
         ],
         "title": {
          "text": ""
         },
         "visible": false
        }
       }
      }
     },
     "metadata": {},
     "output_type": "display_data"
    }
   ],
   "source": [
    "# show 2d visualized topic like LDAvis\n",
    "topic_model.visualize_topics()"
   ]
  },
  {
   "cell_type": "code",
   "execution_count": 17,
   "metadata": {},
   "outputs": [
    {
     "data": {
      "application/vnd.plotly.v1+json": {
       "config": {
        "plotlyServerURL": "https://plot.ly"
       },
       "data": [
        {
         "hoverinfo": "text",
         "marker": {
          "color": "rgb(61,153,112)"
         },
         "mode": "lines",
         "type": "scatter",
         "x": [
          0,
          0.24848509817816322,
          0.24848509817816322,
          0
         ],
         "xaxis": "x",
         "y": [
          -15,
          -15,
          -25,
          -25
         ],
         "yaxis": "y"
        },
        {
         "hoverinfo": "text",
         "marker": {
          "color": "rgb(61,153,112)"
         },
         "mode": "lines",
         "type": "scatter",
         "x": [
          0,
          0.09518599118333504,
          0.09518599118333504,
          0
         ],
         "xaxis": "x",
         "y": [
          -65,
          -65,
          -75,
          -75
         ],
         "yaxis": "y"
        },
        {
         "hoverinfo": "text",
         "marker": {
          "color": "rgb(61,153,112)"
         },
         "mode": "lines",
         "type": "scatter",
         "x": [
          0,
          0.11951216160643967,
          0.11951216160643967,
          0.09518599118333504
         ],
         "xaxis": "x",
         "y": [
          -55,
          -55,
          -70,
          -70
         ],
         "yaxis": "y"
        },
        {
         "hoverinfo": "text",
         "marker": {
          "color": "rgb(61,153,112)"
         },
         "mode": "lines",
         "type": "scatter",
         "x": [
          0.11951216160643967,
          0.1495718654426565,
          0.1495718654426565,
          0
         ],
         "xaxis": "x",
         "y": [
          -62.5,
          -62.5,
          -85,
          -85
         ],
         "yaxis": "y"
        },
        {
         "hoverinfo": "text",
         "marker": {
          "color": "rgb(61,153,112)"
         },
         "mode": "lines",
         "type": "scatter",
         "x": [
          0,
          0.1850709619775289,
          0.1850709619775289,
          0.1495718654426565
         ],
         "xaxis": "x",
         "y": [
          -45,
          -45,
          -73.75,
          -73.75
         ],
         "yaxis": "y"
        },
        {
         "hoverinfo": "text",
         "marker": {
          "color": "rgb(61,153,112)"
         },
         "mode": "lines",
         "type": "scatter",
         "x": [
          0.1850709619775289,
          0.19777782520856063,
          0.19777782520856063,
          0
         ],
         "xaxis": "x",
         "y": [
          -59.375,
          -59.375,
          -95,
          -95
         ],
         "yaxis": "y"
        },
        {
         "hoverinfo": "text",
         "marker": {
          "color": "rgb(61,153,112)"
         },
         "mode": "lines",
         "type": "scatter",
         "x": [
          0,
          0.21974213054345781,
          0.21974213054345781,
          0.19777782520856063
         ],
         "xaxis": "x",
         "y": [
          -35,
          -35,
          -77.1875,
          -77.1875
         ],
         "yaxis": "y"
        },
        {
         "hoverinfo": "text",
         "marker": {
          "color": "rgb(61,153,112)"
         },
         "mode": "lines",
         "type": "scatter",
         "x": [
          0.24848509817816322,
          0.30673457385848457,
          0.30673457385848457,
          0.21974213054345781
         ],
         "xaxis": "x",
         "y": [
          -20,
          -20,
          -56.09375,
          -56.09375
         ],
         "yaxis": "y"
        },
        {
         "hoverinfo": "text",
         "marker": {
          "color": "rgb(61,153,112)"
         },
         "mode": "lines",
         "type": "scatter",
         "x": [
          0,
          0.34490517428680145,
          0.34490517428680145,
          0
         ],
         "xaxis": "x",
         "y": [
          -105,
          -105,
          -115,
          -115
         ],
         "yaxis": "y"
        },
        {
         "hoverinfo": "text",
         "marker": {
          "color": "rgb(61,153,112)"
         },
         "mode": "lines",
         "type": "scatter",
         "x": [
          0.30673457385848457,
          0.44257766068223364,
          0.44257766068223364,
          0.34490517428680145
         ],
         "xaxis": "x",
         "y": [
          -38.046875,
          -38.046875,
          -110,
          -110
         ],
         "yaxis": "y"
        },
        {
         "hoverinfo": "text",
         "marker": {
          "color": "rgb(61,153,112)"
         },
         "mode": "lines",
         "type": "scatter",
         "x": [
          0,
          0.5765774995019702,
          0.5765774995019702,
          0.44257766068223364
         ],
         "xaxis": "x",
         "y": [
          -5,
          -5,
          -74.0234375,
          -74.0234375
         ],
         "yaxis": "y"
        },
        {
         "hoverinfo": "text",
         "marker": {
          "color": "rgb(255,65,54)"
         },
         "mode": "lines",
         "type": "scatter",
         "x": [
          0,
          0.3915086391733602,
          0.3915086391733602,
          0
         ],
         "xaxis": "x",
         "y": [
          -145,
          -145,
          -155,
          -155
         ],
         "yaxis": "y"
        },
        {
         "hoverinfo": "text",
         "marker": {
          "color": "rgb(255,65,54)"
         },
         "mode": "lines",
         "type": "scatter",
         "x": [
          0.3915086391733602,
          0.4460163598174905,
          0.4460163598174905,
          0
         ],
         "xaxis": "x",
         "y": [
          -150,
          -150,
          -165,
          -165
         ],
         "yaxis": "y"
        },
        {
         "hoverinfo": "text",
         "marker": {
          "color": "rgb(255,65,54)"
         },
         "mode": "lines",
         "type": "scatter",
         "x": [
          0,
          0.5608393855403203,
          0.5608393855403203,
          0.4460163598174905
         ],
         "xaxis": "x",
         "y": [
          -135,
          -135,
          -157.5,
          -157.5
         ],
         "yaxis": "y"
        },
        {
         "hoverinfo": "text",
         "marker": {
          "color": "rgb(255,65,54)"
         },
         "mode": "lines",
         "type": "scatter",
         "x": [
          0,
          0.4462134056513887,
          0.4462134056513887,
          0
         ],
         "xaxis": "x",
         "y": [
          -175,
          -175,
          -185,
          -185
         ],
         "yaxis": "y"
        },
        {
         "hoverinfo": "text",
         "marker": {
          "color": "rgb(255,65,54)"
         },
         "mode": "lines",
         "type": "scatter",
         "x": [
          0,
          0.3754761776694592,
          0.3754761776694592,
          0
         ],
         "xaxis": "x",
         "y": [
          -195,
          -195,
          -205,
          -205
         ],
         "yaxis": "y"
        },
        {
         "hoverinfo": "text",
         "marker": {
          "color": "rgb(255,65,54)"
         },
         "mode": "lines",
         "type": "scatter",
         "x": [
          0.3754761776694592,
          0.4031882768686427,
          0.4031882768686427,
          0
         ],
         "xaxis": "x",
         "y": [
          -200,
          -200,
          -215,
          -215
         ],
         "yaxis": "y"
        },
        {
         "hoverinfo": "text",
         "marker": {
          "color": "rgb(255,65,54)"
         },
         "mode": "lines",
         "type": "scatter",
         "x": [
          0.4462134056513887,
          0.4679695024707637,
          0.4679695024707637,
          0.4031882768686427
         ],
         "xaxis": "x",
         "y": [
          -180,
          -180,
          -207.5,
          -207.5
         ],
         "yaxis": "y"
        },
        {
         "hoverinfo": "text",
         "marker": {
          "color": "rgb(255,65,54)"
         },
         "mode": "lines",
         "type": "scatter",
         "x": [
          0,
          0.20150881250590236,
          0.20150881250590236,
          0
         ],
         "xaxis": "x",
         "y": [
          -235,
          -235,
          -245,
          -245
         ],
         "yaxis": "y"
        },
        {
         "hoverinfo": "text",
         "marker": {
          "color": "rgb(255,65,54)"
         },
         "mode": "lines",
         "type": "scatter",
         "x": [
          0.20150881250590236,
          0.28039794533698575,
          0.28039794533698575,
          0
         ],
         "xaxis": "x",
         "y": [
          -240,
          -240,
          -255,
          -255
         ],
         "yaxis": "y"
        },
        {
         "hoverinfo": "text",
         "marker": {
          "color": "rgb(255,65,54)"
         },
         "mode": "lines",
         "type": "scatter",
         "x": [
          0,
          0.34188915749072907,
          0.34188915749072907,
          0.28039794533698575
         ],
         "xaxis": "x",
         "y": [
          -225,
          -225,
          -247.5,
          -247.5
         ],
         "yaxis": "y"
        },
        {
         "hoverinfo": "text",
         "marker": {
          "color": "rgb(255,65,54)"
         },
         "mode": "lines",
         "type": "scatter",
         "x": [
          0,
          0.07344643616735091,
          0.07344643616735091,
          0
         ],
         "xaxis": "x",
         "y": [
          -325,
          -325,
          -335,
          -335
         ],
         "yaxis": "y"
        },
        {
         "hoverinfo": "text",
         "marker": {
          "color": "rgb(255,65,54)"
         },
         "mode": "lines",
         "type": "scatter",
         "x": [
          0,
          0.11457143623240149,
          0.11457143623240149,
          0.07344643616735091
         ],
         "xaxis": "x",
         "y": [
          -315,
          -315,
          -330,
          -330
         ],
         "yaxis": "y"
        },
        {
         "hoverinfo": "text",
         "marker": {
          "color": "rgb(255,65,54)"
         },
         "mode": "lines",
         "type": "scatter",
         "x": [
          0.11457143623240149,
          0.12325063593092814,
          0.12325063593092814,
          0
         ],
         "xaxis": "x",
         "y": [
          -322.5,
          -322.5,
          -345,
          -345
         ],
         "yaxis": "y"
        },
        {
         "hoverinfo": "text",
         "marker": {
          "color": "rgb(255,65,54)"
         },
         "mode": "lines",
         "type": "scatter",
         "x": [
          0,
          0.17997428806948662,
          0.17997428806948662,
          0.12325063593092814
         ],
         "xaxis": "x",
         "y": [
          -305,
          -305,
          -333.75,
          -333.75
         ],
         "yaxis": "y"
        },
        {
         "hoverinfo": "text",
         "marker": {
          "color": "rgb(255,65,54)"
         },
         "mode": "lines",
         "type": "scatter",
         "x": [
          0,
          0.16688438437555142,
          0.16688438437555142,
          0
         ],
         "xaxis": "x",
         "y": [
          -355,
          -355,
          -365,
          -365
         ],
         "yaxis": "y"
        },
        {
         "hoverinfo": "text",
         "marker": {
          "color": "rgb(255,65,54)"
         },
         "mode": "lines",
         "type": "scatter",
         "x": [
          0.17997428806948662,
          0.20552835235474676,
          0.20552835235474676,
          0.16688438437555142
         ],
         "xaxis": "x",
         "y": [
          -319.375,
          -319.375,
          -360,
          -360
         ],
         "yaxis": "y"
        },
        {
         "hoverinfo": "text",
         "marker": {
          "color": "rgb(255,65,54)"
         },
         "mode": "lines",
         "type": "scatter",
         "x": [
          0,
          0.23421756097648316,
          0.23421756097648316,
          0.20552835235474676
         ],
         "xaxis": "x",
         "y": [
          -295,
          -295,
          -339.6875,
          -339.6875
         ],
         "yaxis": "y"
        },
        {
         "hoverinfo": "text",
         "marker": {
          "color": "rgb(255,65,54)"
         },
         "mode": "lines",
         "type": "scatter",
         "x": [
          0,
          0.2233494049856991,
          0.2233494049856991,
          0
         ],
         "xaxis": "x",
         "y": [
          -375,
          -375,
          -385,
          -385
         ],
         "yaxis": "y"
        },
        {
         "hoverinfo": "text",
         "marker": {
          "color": "rgb(255,65,54)"
         },
         "mode": "lines",
         "type": "scatter",
         "x": [
          0.23421756097648316,
          0.26322244386596494,
          0.26322244386596494,
          0.2233494049856991
         ],
         "xaxis": "x",
         "y": [
          -317.34375,
          -317.34375,
          -380,
          -380
         ],
         "yaxis": "y"
        },
        {
         "hoverinfo": "text",
         "marker": {
          "color": "rgb(255,65,54)"
         },
         "mode": "lines",
         "type": "scatter",
         "x": [
          0,
          0.29485093276526325,
          0.29485093276526325,
          0.26322244386596494
         ],
         "xaxis": "x",
         "y": [
          -285,
          -285,
          -348.671875,
          -348.671875
         ],
         "yaxis": "y"
        },
        {
         "hoverinfo": "text",
         "marker": {
          "color": "rgb(255,65,54)"
         },
         "mode": "lines",
         "type": "scatter",
         "x": [
          0.29485093276526325,
          0.31881453008841176,
          0.31881453008841176,
          0
         ],
         "xaxis": "x",
         "y": [
          -316.8359375,
          -316.8359375,
          -395,
          -395
         ],
         "yaxis": "y"
        },
        {
         "hoverinfo": "text",
         "marker": {
          "color": "rgb(255,65,54)"
         },
         "mode": "lines",
         "type": "scatter",
         "x": [
          0,
          0.3392992128635675,
          0.3392992128635675,
          0.31881453008841176
         ],
         "xaxis": "x",
         "y": [
          -275,
          -275,
          -355.91796875,
          -355.91796875
         ],
         "yaxis": "y"
        },
        {
         "hoverinfo": "text",
         "marker": {
          "color": "rgb(255,65,54)"
         },
         "mode": "lines",
         "type": "scatter",
         "x": [
          0,
          0.21668095957740807,
          0.21668095957740807,
          0
         ],
         "xaxis": "x",
         "y": [
          -415,
          -415,
          -425,
          -425
         ],
         "yaxis": "y"
        },
        {
         "hoverinfo": "text",
         "marker": {
          "color": "rgb(255,65,54)"
         },
         "mode": "lines",
         "type": "scatter",
         "x": [
          0.21668095957740807,
          0.281626912645436,
          0.281626912645436,
          0
         ],
         "xaxis": "x",
         "y": [
          -420,
          -420,
          -435,
          -435
         ],
         "yaxis": "y"
        },
        {
         "hoverinfo": "text",
         "marker": {
          "color": "rgb(255,65,54)"
         },
         "mode": "lines",
         "type": "scatter",
         "x": [
          0,
          0.323326531892332,
          0.323326531892332,
          0.281626912645436
         ],
         "xaxis": "x",
         "y": [
          -405,
          -405,
          -427.5,
          -427.5
         ],
         "yaxis": "y"
        },
        {
         "hoverinfo": "text",
         "marker": {
          "color": "rgb(255,65,54)"
         },
         "mode": "lines",
         "type": "scatter",
         "x": [
          0.323326531892332,
          0.3455755363862025,
          0.3455755363862025,
          0
         ],
         "xaxis": "x",
         "y": [
          -416.25,
          -416.25,
          -445,
          -445
         ],
         "yaxis": "y"
        },
        {
         "hoverinfo": "text",
         "marker": {
          "color": "rgb(255,65,54)"
         },
         "mode": "lines",
         "type": "scatter",
         "x": [
          0.3392992128635675,
          0.3646884523692006,
          0.3646884523692006,
          0.3455755363862025
         ],
         "xaxis": "x",
         "y": [
          -315.458984375,
          -315.458984375,
          -430.625,
          -430.625
         ],
         "yaxis": "y"
        },
        {
         "hoverinfo": "text",
         "marker": {
          "color": "rgb(255,65,54)"
         },
         "mode": "lines",
         "type": "scatter",
         "x": [
          0.3646884523692006,
          0.41212880833180665,
          0.41212880833180665,
          0
         ],
         "xaxis": "x",
         "y": [
          -373.0419921875,
          -373.0419921875,
          -455,
          -455
         ],
         "yaxis": "y"
        },
        {
         "hoverinfo": "text",
         "marker": {
          "color": "rgb(255,65,54)"
         },
         "mode": "lines",
         "type": "scatter",
         "x": [
          0,
          0.4137985753586941,
          0.4137985753586941,
          0.41212880833180665
         ],
         "xaxis": "x",
         "y": [
          -265,
          -265,
          -414.02099609375,
          -414.02099609375
         ],
         "yaxis": "y"
        },
        {
         "hoverinfo": "text",
         "marker": {
          "color": "rgb(255,65,54)"
         },
         "mode": "lines",
         "type": "scatter",
         "x": [
          0.4137985753586941,
          0.41867423004090437,
          0.41867423004090437,
          0
         ],
         "xaxis": "x",
         "y": [
          -339.510498046875,
          -339.510498046875,
          -465,
          -465
         ],
         "yaxis": "y"
        },
        {
         "hoverinfo": "text",
         "marker": {
          "color": "rgb(255,65,54)"
         },
         "mode": "lines",
         "type": "scatter",
         "x": [
          0.34188915749072907,
          0.4378528694080248,
          0.4378528694080248,
          0.41867423004090437
         ],
         "xaxis": "x",
         "y": [
          -236.25,
          -236.25,
          -402.2552490234375,
          -402.2552490234375
         ],
         "yaxis": "y"
        },
        {
         "hoverinfo": "text",
         "marker": {
          "color": "rgb(255,65,54)"
         },
         "mode": "lines",
         "type": "scatter",
         "x": [
          0.4679695024707637,
          0.5303791623677584,
          0.5303791623677584,
          0.4378528694080248
         ],
         "xaxis": "x",
         "y": [
          -193.75,
          -193.75,
          -319.25262451171875,
          -319.25262451171875
         ],
         "yaxis": "y"
        },
        {
         "hoverinfo": "text",
         "marker": {
          "color": "rgb(255,65,54)"
         },
         "mode": "lines",
         "type": "scatter",
         "x": [
          0,
          0.35656425993383256,
          0.35656425993383256,
          0
         ],
         "xaxis": "x",
         "y": [
          -475,
          -475,
          -485,
          -485
         ],
         "yaxis": "y"
        },
        {
         "hoverinfo": "text",
         "marker": {
          "color": "rgb(255,65,54)"
         },
         "mode": "lines",
         "type": "scatter",
         "x": [
          0.35656425993383256,
          0.4723817198550749,
          0.4723817198550749,
          0
         ],
         "xaxis": "x",
         "y": [
          -480,
          -480,
          -495,
          -495
         ],
         "yaxis": "y"
        },
        {
         "hoverinfo": "text",
         "marker": {
          "color": "rgb(255,65,54)"
         },
         "mode": "lines",
         "type": "scatter",
         "x": [
          0.5303791623677584,
          0.5546216121031354,
          0.5546216121031354,
          0.4723817198550749
         ],
         "xaxis": "x",
         "y": [
          -256.5013122558594,
          -256.5013122558594,
          -487.5,
          -487.5
         ],
         "yaxis": "y"
        },
        {
         "hoverinfo": "text",
         "marker": {
          "color": "rgb(255,65,54)"
         },
         "mode": "lines",
         "type": "scatter",
         "x": [
          0.5608393855403203,
          0.576414463718294,
          0.576414463718294,
          0.5546216121031354
         ],
         "xaxis": "x",
         "y": [
          -146.25,
          -146.25,
          -372.0006561279297,
          -372.0006561279297
         ],
         "yaxis": "y"
        },
        {
         "hoverinfo": "text",
         "marker": {
          "color": "rgb(255,65,54)"
         },
         "mode": "lines",
         "type": "scatter",
         "x": [
          0,
          0.648527911283086,
          0.648527911283086,
          0
         ],
         "xaxis": "x",
         "y": [
          -505,
          -505,
          -515,
          -515
         ],
         "yaxis": "y"
        },
        {
         "hoverinfo": "text",
         "marker": {
          "color": "rgb(255,65,54)"
         },
         "mode": "lines",
         "type": "scatter",
         "x": [
          0.576414463718294,
          0.6928669789122037,
          0.6928669789122037,
          0.648527911283086
         ],
         "xaxis": "x",
         "y": [
          -259.12532806396484,
          -259.12532806396484,
          -510,
          -510
         ],
         "yaxis": "y"
        },
        {
         "hoverinfo": "text",
         "marker": {
          "color": "rgb(255,65,54)"
         },
         "mode": "lines",
         "type": "scatter",
         "x": [
          0,
          0.7111430956505254,
          0.7111430956505254,
          0.6928669789122037
         ],
         "xaxis": "x",
         "y": [
          -125,
          -125,
          -384.5626640319824,
          -384.5626640319824
         ],
         "yaxis": "y"
        },
        {
         "hoverinfo": "text",
         "marker": {
          "color": "rgb(255,65,54)"
         },
         "mode": "lines",
         "type": "scatter",
         "x": [
          0,
          0.42562232175963066,
          0.42562232175963066,
          0
         ],
         "xaxis": "x",
         "y": [
          -535,
          -535,
          -545,
          -545
         ],
         "yaxis": "y"
        },
        {
         "hoverinfo": "text",
         "marker": {
          "color": "rgb(255,65,54)"
         },
         "mode": "lines",
         "type": "scatter",
         "x": [
          0.42562232175963066,
          0.4719619165974999,
          0.4719619165974999,
          0
         ],
         "xaxis": "x",
         "y": [
          -540,
          -540,
          -555,
          -555
         ],
         "yaxis": "y"
        },
        {
         "hoverinfo": "text",
         "marker": {
          "color": "rgb(255,65,54)"
         },
         "mode": "lines",
         "type": "scatter",
         "x": [
          0,
          0.5486017479778668,
          0.5486017479778668,
          0.4719619165974999
         ],
         "xaxis": "x",
         "y": [
          -525,
          -525,
          -547.5,
          -547.5
         ],
         "yaxis": "y"
        },
        {
         "hoverinfo": "text",
         "marker": {
          "color": "rgb(255,65,54)"
         },
         "mode": "lines",
         "type": "scatter",
         "x": [
          0,
          0.31790152529564786,
          0.31790152529564786,
          0
         ],
         "xaxis": "x",
         "y": [
          -565,
          -565,
          -575,
          -575
         ],
         "yaxis": "y"
        },
        {
         "hoverinfo": "text",
         "marker": {
          "color": "rgb(255,65,54)"
         },
         "mode": "lines",
         "type": "scatter",
         "x": [
          0.31790152529564786,
          0.45537565587089024,
          0.45537565587089024,
          0
         ],
         "xaxis": "x",
         "y": [
          -570,
          -570,
          -585,
          -585
         ],
         "yaxis": "y"
        },
        {
         "hoverinfo": "text",
         "marker": {
          "color": "rgb(255,65,54)"
         },
         "mode": "lines",
         "type": "scatter",
         "x": [
          0.5486017479778668,
          0.6066286484293362,
          0.6066286484293362,
          0.45537565587089024
         ],
         "xaxis": "x",
         "y": [
          -536.25,
          -536.25,
          -577.5,
          -577.5
         ],
         "yaxis": "y"
        },
        {
         "hoverinfo": "text",
         "marker": {
          "color": "rgb(255,65,54)"
         },
         "mode": "lines",
         "type": "scatter",
         "x": [
          0.7111430956505254,
          0.8126790586162831,
          0.8126790586162831,
          0.6066286484293362
         ],
         "xaxis": "x",
         "y": [
          -254.7813320159912,
          -254.7813320159912,
          -556.875,
          -556.875
         ],
         "yaxis": "y"
        },
        {
         "hoverinfo": "text",
         "marker": {
          "color": "rgb(255,65,54)"
         },
         "mode": "lines",
         "type": "scatter",
         "x": [
          0.8126790586162831,
          0.9778324156034556,
          0.9778324156034556,
          0
         ],
         "xaxis": "x",
         "y": [
          -405.8281660079956,
          -405.8281660079956,
          -595,
          -595
         ],
         "yaxis": "y"
        },
        {
         "hoverinfo": "text",
         "marker": {
          "color": "rgb(0,116,217)"
         },
         "mode": "lines",
         "type": "scatter",
         "x": [
          0.5765774995019702,
          1.8019504722788355,
          1.8019504722788355,
          0.9778324156034556
         ],
         "xaxis": "x",
         "y": [
          -39.51171875,
          -39.51171875,
          -500.4140830039978,
          -500.4140830039978
         ],
         "yaxis": "y"
        }
       ],
       "layout": {
        "autosize": false,
        "height": 1100,
        "hoverlabel": {
         "bgcolor": "white",
         "font": {
          "family": "Rockwell",
          "size": 16
         }
        },
        "hovermode": "closest",
        "plot_bgcolor": "#ECEFF1",
        "showlegend": false,
        "template": {
         "data": {
          "bar": [
           {
            "error_x": {
             "color": "#2a3f5f"
            },
            "error_y": {
             "color": "#2a3f5f"
            },
            "marker": {
             "line": {
              "color": "white",
              "width": 0.5
             },
             "pattern": {
              "fillmode": "overlay",
              "size": 10,
              "solidity": 0.2
             }
            },
            "type": "bar"
           }
          ],
          "barpolar": [
           {
            "marker": {
             "line": {
              "color": "white",
              "width": 0.5
             },
             "pattern": {
              "fillmode": "overlay",
              "size": 10,
              "solidity": 0.2
             }
            },
            "type": "barpolar"
           }
          ],
          "carpet": [
           {
            "aaxis": {
             "endlinecolor": "#2a3f5f",
             "gridcolor": "#C8D4E3",
             "linecolor": "#C8D4E3",
             "minorgridcolor": "#C8D4E3",
             "startlinecolor": "#2a3f5f"
            },
            "baxis": {
             "endlinecolor": "#2a3f5f",
             "gridcolor": "#C8D4E3",
             "linecolor": "#C8D4E3",
             "minorgridcolor": "#C8D4E3",
             "startlinecolor": "#2a3f5f"
            },
            "type": "carpet"
           }
          ],
          "choropleth": [
           {
            "colorbar": {
             "outlinewidth": 0,
             "ticks": ""
            },
            "type": "choropleth"
           }
          ],
          "contour": [
           {
            "colorbar": {
             "outlinewidth": 0,
             "ticks": ""
            },
            "colorscale": [
             [
              0,
              "#0d0887"
             ],
             [
              0.1111111111111111,
              "#46039f"
             ],
             [
              0.2222222222222222,
              "#7201a8"
             ],
             [
              0.3333333333333333,
              "#9c179e"
             ],
             [
              0.4444444444444444,
              "#bd3786"
             ],
             [
              0.5555555555555556,
              "#d8576b"
             ],
             [
              0.6666666666666666,
              "#ed7953"
             ],
             [
              0.7777777777777778,
              "#fb9f3a"
             ],
             [
              0.8888888888888888,
              "#fdca26"
             ],
             [
              1,
              "#f0f921"
             ]
            ],
            "type": "contour"
           }
          ],
          "contourcarpet": [
           {
            "colorbar": {
             "outlinewidth": 0,
             "ticks": ""
            },
            "type": "contourcarpet"
           }
          ],
          "heatmap": [
           {
            "colorbar": {
             "outlinewidth": 0,
             "ticks": ""
            },
            "colorscale": [
             [
              0,
              "#0d0887"
             ],
             [
              0.1111111111111111,
              "#46039f"
             ],
             [
              0.2222222222222222,
              "#7201a8"
             ],
             [
              0.3333333333333333,
              "#9c179e"
             ],
             [
              0.4444444444444444,
              "#bd3786"
             ],
             [
              0.5555555555555556,
              "#d8576b"
             ],
             [
              0.6666666666666666,
              "#ed7953"
             ],
             [
              0.7777777777777778,
              "#fb9f3a"
             ],
             [
              0.8888888888888888,
              "#fdca26"
             ],
             [
              1,
              "#f0f921"
             ]
            ],
            "type": "heatmap"
           }
          ],
          "heatmapgl": [
           {
            "colorbar": {
             "outlinewidth": 0,
             "ticks": ""
            },
            "colorscale": [
             [
              0,
              "#0d0887"
             ],
             [
              0.1111111111111111,
              "#46039f"
             ],
             [
              0.2222222222222222,
              "#7201a8"
             ],
             [
              0.3333333333333333,
              "#9c179e"
             ],
             [
              0.4444444444444444,
              "#bd3786"
             ],
             [
              0.5555555555555556,
              "#d8576b"
             ],
             [
              0.6666666666666666,
              "#ed7953"
             ],
             [
              0.7777777777777778,
              "#fb9f3a"
             ],
             [
              0.8888888888888888,
              "#fdca26"
             ],
             [
              1,
              "#f0f921"
             ]
            ],
            "type": "heatmapgl"
           }
          ],
          "histogram": [
           {
            "marker": {
             "pattern": {
              "fillmode": "overlay",
              "size": 10,
              "solidity": 0.2
             }
            },
            "type": "histogram"
           }
          ],
          "histogram2d": [
           {
            "colorbar": {
             "outlinewidth": 0,
             "ticks": ""
            },
            "colorscale": [
             [
              0,
              "#0d0887"
             ],
             [
              0.1111111111111111,
              "#46039f"
             ],
             [
              0.2222222222222222,
              "#7201a8"
             ],
             [
              0.3333333333333333,
              "#9c179e"
             ],
             [
              0.4444444444444444,
              "#bd3786"
             ],
             [
              0.5555555555555556,
              "#d8576b"
             ],
             [
              0.6666666666666666,
              "#ed7953"
             ],
             [
              0.7777777777777778,
              "#fb9f3a"
             ],
             [
              0.8888888888888888,
              "#fdca26"
             ],
             [
              1,
              "#f0f921"
             ]
            ],
            "type": "histogram2d"
           }
          ],
          "histogram2dcontour": [
           {
            "colorbar": {
             "outlinewidth": 0,
             "ticks": ""
            },
            "colorscale": [
             [
              0,
              "#0d0887"
             ],
             [
              0.1111111111111111,
              "#46039f"
             ],
             [
              0.2222222222222222,
              "#7201a8"
             ],
             [
              0.3333333333333333,
              "#9c179e"
             ],
             [
              0.4444444444444444,
              "#bd3786"
             ],
             [
              0.5555555555555556,
              "#d8576b"
             ],
             [
              0.6666666666666666,
              "#ed7953"
             ],
             [
              0.7777777777777778,
              "#fb9f3a"
             ],
             [
              0.8888888888888888,
              "#fdca26"
             ],
             [
              1,
              "#f0f921"
             ]
            ],
            "type": "histogram2dcontour"
           }
          ],
          "mesh3d": [
           {
            "colorbar": {
             "outlinewidth": 0,
             "ticks": ""
            },
            "type": "mesh3d"
           }
          ],
          "parcoords": [
           {
            "line": {
             "colorbar": {
              "outlinewidth": 0,
              "ticks": ""
             }
            },
            "type": "parcoords"
           }
          ],
          "pie": [
           {
            "automargin": true,
            "type": "pie"
           }
          ],
          "scatter": [
           {
            "fillpattern": {
             "fillmode": "overlay",
             "size": 10,
             "solidity": 0.2
            },
            "type": "scatter"
           }
          ],
          "scatter3d": [
           {
            "line": {
             "colorbar": {
              "outlinewidth": 0,
              "ticks": ""
             }
            },
            "marker": {
             "colorbar": {
              "outlinewidth": 0,
              "ticks": ""
             }
            },
            "type": "scatter3d"
           }
          ],
          "scattercarpet": [
           {
            "marker": {
             "colorbar": {
              "outlinewidth": 0,
              "ticks": ""
             }
            },
            "type": "scattercarpet"
           }
          ],
          "scattergeo": [
           {
            "marker": {
             "colorbar": {
              "outlinewidth": 0,
              "ticks": ""
             }
            },
            "type": "scattergeo"
           }
          ],
          "scattergl": [
           {
            "marker": {
             "colorbar": {
              "outlinewidth": 0,
              "ticks": ""
             }
            },
            "type": "scattergl"
           }
          ],
          "scattermapbox": [
           {
            "marker": {
             "colorbar": {
              "outlinewidth": 0,
              "ticks": ""
             }
            },
            "type": "scattermapbox"
           }
          ],
          "scatterpolar": [
           {
            "marker": {
             "colorbar": {
              "outlinewidth": 0,
              "ticks": ""
             }
            },
            "type": "scatterpolar"
           }
          ],
          "scatterpolargl": [
           {
            "marker": {
             "colorbar": {
              "outlinewidth": 0,
              "ticks": ""
             }
            },
            "type": "scatterpolargl"
           }
          ],
          "scatterternary": [
           {
            "marker": {
             "colorbar": {
              "outlinewidth": 0,
              "ticks": ""
             }
            },
            "type": "scatterternary"
           }
          ],
          "surface": [
           {
            "colorbar": {
             "outlinewidth": 0,
             "ticks": ""
            },
            "colorscale": [
             [
              0,
              "#0d0887"
             ],
             [
              0.1111111111111111,
              "#46039f"
             ],
             [
              0.2222222222222222,
              "#7201a8"
             ],
             [
              0.3333333333333333,
              "#9c179e"
             ],
             [
              0.4444444444444444,
              "#bd3786"
             ],
             [
              0.5555555555555556,
              "#d8576b"
             ],
             [
              0.6666666666666666,
              "#ed7953"
             ],
             [
              0.7777777777777778,
              "#fb9f3a"
             ],
             [
              0.8888888888888888,
              "#fdca26"
             ],
             [
              1,
              "#f0f921"
             ]
            ],
            "type": "surface"
           }
          ],
          "table": [
           {
            "cells": {
             "fill": {
              "color": "#EBF0F8"
             },
             "line": {
              "color": "white"
             }
            },
            "header": {
             "fill": {
              "color": "#C8D4E3"
             },
             "line": {
              "color": "white"
             }
            },
            "type": "table"
           }
          ]
         },
         "layout": {
          "annotationdefaults": {
           "arrowcolor": "#2a3f5f",
           "arrowhead": 0,
           "arrowwidth": 1
          },
          "autotypenumbers": "strict",
          "coloraxis": {
           "colorbar": {
            "outlinewidth": 0,
            "ticks": ""
           }
          },
          "colorscale": {
           "diverging": [
            [
             0,
             "#8e0152"
            ],
            [
             0.1,
             "#c51b7d"
            ],
            [
             0.2,
             "#de77ae"
            ],
            [
             0.3,
             "#f1b6da"
            ],
            [
             0.4,
             "#fde0ef"
            ],
            [
             0.5,
             "#f7f7f7"
            ],
            [
             0.6,
             "#e6f5d0"
            ],
            [
             0.7,
             "#b8e186"
            ],
            [
             0.8,
             "#7fbc41"
            ],
            [
             0.9,
             "#4d9221"
            ],
            [
             1,
             "#276419"
            ]
           ],
           "sequential": [
            [
             0,
             "#0d0887"
            ],
            [
             0.1111111111111111,
             "#46039f"
            ],
            [
             0.2222222222222222,
             "#7201a8"
            ],
            [
             0.3333333333333333,
             "#9c179e"
            ],
            [
             0.4444444444444444,
             "#bd3786"
            ],
            [
             0.5555555555555556,
             "#d8576b"
            ],
            [
             0.6666666666666666,
             "#ed7953"
            ],
            [
             0.7777777777777778,
             "#fb9f3a"
            ],
            [
             0.8888888888888888,
             "#fdca26"
            ],
            [
             1,
             "#f0f921"
            ]
           ],
           "sequentialminus": [
            [
             0,
             "#0d0887"
            ],
            [
             0.1111111111111111,
             "#46039f"
            ],
            [
             0.2222222222222222,
             "#7201a8"
            ],
            [
             0.3333333333333333,
             "#9c179e"
            ],
            [
             0.4444444444444444,
             "#bd3786"
            ],
            [
             0.5555555555555556,
             "#d8576b"
            ],
            [
             0.6666666666666666,
             "#ed7953"
            ],
            [
             0.7777777777777778,
             "#fb9f3a"
            ],
            [
             0.8888888888888888,
             "#fdca26"
            ],
            [
             1,
             "#f0f921"
            ]
           ]
          },
          "colorway": [
           "#636efa",
           "#EF553B",
           "#00cc96",
           "#ab63fa",
           "#FFA15A",
           "#19d3f3",
           "#FF6692",
           "#B6E880",
           "#FF97FF",
           "#FECB52"
          ],
          "font": {
           "color": "#2a3f5f"
          },
          "geo": {
           "bgcolor": "white",
           "lakecolor": "white",
           "landcolor": "white",
           "showlakes": true,
           "showland": true,
           "subunitcolor": "#C8D4E3"
          },
          "hoverlabel": {
           "align": "left"
          },
          "hovermode": "closest",
          "mapbox": {
           "style": "light"
          },
          "paper_bgcolor": "white",
          "plot_bgcolor": "white",
          "polar": {
           "angularaxis": {
            "gridcolor": "#EBF0F8",
            "linecolor": "#EBF0F8",
            "ticks": ""
           },
           "bgcolor": "white",
           "radialaxis": {
            "gridcolor": "#EBF0F8",
            "linecolor": "#EBF0F8",
            "ticks": ""
           }
          },
          "scene": {
           "xaxis": {
            "backgroundcolor": "white",
            "gridcolor": "#DFE8F3",
            "gridwidth": 2,
            "linecolor": "#EBF0F8",
            "showbackground": true,
            "ticks": "",
            "zerolinecolor": "#EBF0F8"
           },
           "yaxis": {
            "backgroundcolor": "white",
            "gridcolor": "#DFE8F3",
            "gridwidth": 2,
            "linecolor": "#EBF0F8",
            "showbackground": true,
            "ticks": "",
            "zerolinecolor": "#EBF0F8"
           },
           "zaxis": {
            "backgroundcolor": "white",
            "gridcolor": "#DFE8F3",
            "gridwidth": 2,
            "linecolor": "#EBF0F8",
            "showbackground": true,
            "ticks": "",
            "zerolinecolor": "#EBF0F8"
           }
          },
          "shapedefaults": {
           "line": {
            "color": "#2a3f5f"
           }
          },
          "ternary": {
           "aaxis": {
            "gridcolor": "#DFE8F3",
            "linecolor": "#A2B1C6",
            "ticks": ""
           },
           "baxis": {
            "gridcolor": "#DFE8F3",
            "linecolor": "#A2B1C6",
            "ticks": ""
           },
           "bgcolor": "white",
           "caxis": {
            "gridcolor": "#DFE8F3",
            "linecolor": "#A2B1C6",
            "ticks": ""
           }
          },
          "title": {
           "x": 0.05
          },
          "xaxis": {
           "automargin": true,
           "gridcolor": "#EBF0F8",
           "linecolor": "#EBF0F8",
           "ticks": "",
           "title": {
            "standoff": 15
           },
           "zerolinecolor": "#EBF0F8",
           "zerolinewidth": 2
          },
          "yaxis": {
           "automargin": true,
           "gridcolor": "#EBF0F8",
           "linecolor": "#EBF0F8",
           "ticks": "",
           "title": {
            "standoff": 15
           },
           "zerolinecolor": "#EBF0F8",
           "zerolinewidth": 2
          }
         }
        },
        "title": {
         "font": {
          "color": "Black",
          "size": 22
         },
         "text": "<b>Hierarchical Clustering</b>",
         "x": 0.5,
         "xanchor": "center",
         "yanchor": "top"
        },
        "width": 1000,
        "xaxis": {
         "mirror": "allticks",
         "rangemode": "tozero",
         "showgrid": false,
         "showline": true,
         "showticklabels": true,
         "ticks": "outside",
         "type": "linear",
         "zeroline": false
        },
        "yaxis": {
         "mirror": "allticks",
         "range": [
          -600,
          0
         ],
         "rangemode": "tozero",
         "showgrid": false,
         "showline": true,
         "showticklabels": true,
         "tickmode": "array",
         "ticks": "outside",
         "ticktext": [
          "55_sma_무급_분담금",
          "29_오바마_연방_레드라인",
          "39_외교_우크라_오바마",
          "44_의장_미군_주한",
          "20_지소_미아_종료",
          "9_중국_주석_회담",
          "3_트럼프_회담_정상",
          "5_남북_대북_한반도",
          "25_회담_정상_대화",
          "11_미사일_발사_icbm",
          "22_통일부_개성_공단",
          "51_혐오_후보_청문회",
          "35_신대_충남_교대",
          "53_14_차세대_세대",
          "50_죽음_주립_일자리",
          "32_00_특강_송도",
          "54_자전거_도로_가격",
          "48_사정관_27_진로",
          "42_26_입국_특보",
          "33_원자력_법률가_13",
          "23_발인_12_부친상",
          "34_사무_처장_국장",
          "30_인터넷_11_300",
          "19_교대_공연_비평",
          "10_50_배터리_사고",
          "37_80_대안_실업",
          "43_주주_금호_23",
          "26_발인_모친상_부친상",
          "18_21_특차_추천자",
          "17_게임_28_esg",
          "13_25_가족_대안",
          "4_30_피지_학과",
          "1_지정_선정_통합",
          "2_20_예비_지정",
          "0_바이오_ai_하나님",
          "6_반영_순위_평판",
          "12_대학교_히딩크_감독",
          "16_10_변증_등록금",
          "8_퀴어_누리_동성애",
          "28_재판관_법관_신년",
          "24_유엔사_17_출장",
          "14_지진_대피_아파트",
          "7_지진_15_옥수수",
          "15_김치_벽돌_코스타",
          "21_19_만점_친구",
          "38_200_구절_지진",
          "40_후보_가정_인성",
          "36_지수_부문_자궁",
          "27_70_지수_보험",
          "41_검정고시_주식_전년",
          "57_cbmc_ccm_채플",
          "56_동문_정당_파병",
          "59_마을_개헌_이슬람",
          "46_고양이_교과서_tv",
          "31_영화_상영_영화제",
          "45_24_기숙사_폭파",
          "49_법관_재판_헌법",
          "52_검찰_수사_사법",
          "47_레이저_커닝_국적",
          "58_김영길_공로_선출"
         ],
         "tickvals": [
          -5,
          -15,
          -25,
          -35,
          -45,
          -55,
          -65,
          -75,
          -85,
          -95,
          -105,
          -115,
          -125,
          -135,
          -145,
          -155,
          -165,
          -175,
          -185,
          -195,
          -205,
          -215,
          -225,
          -235,
          -245,
          -255,
          -265,
          -275,
          -285,
          -295,
          -305,
          -315,
          -325,
          -335,
          -345,
          -355,
          -365,
          -375,
          -385,
          -395,
          -405,
          -415,
          -425,
          -435,
          -445,
          -455,
          -465,
          -475,
          -485,
          -495,
          -505,
          -515,
          -525,
          -535,
          -545,
          -555,
          -565,
          -575,
          -585,
          -595
         ],
         "type": "linear",
         "zeroline": false
        }
       }
      }
     },
     "metadata": {},
     "output_type": "display_data"
    }
   ],
   "source": [
    "# To visualize the hierarchy of topics\n",
    "topic_model.visualize_hierarchy()"
   ]
  },
  {
   "cell_type": "code",
   "execution_count": 18,
   "metadata": {},
   "outputs": [
    {
     "data": {
      "application/vnd.plotly.v1+json": {
       "config": {
        "plotlyServerURL": "https://plot.ly"
       },
       "data": [
        {
         "coloraxis": "coloraxis",
         "hovertemplate": "x: %{x}<br>y: %{y}<br>Similarity Score: %{z}<extra></extra>",
         "name": "0",
         "type": "heatmap",
         "x": [
          "0_바이오_ai_하나님",
          "1_지정_선정_통합",
          "2_20_예비_지정",
          "3_트럼프_회담_정상",
          "4_30_피지_학과",
          "5_남북_대북_한반도",
          "6_반영_순위_평판",
          "7_지진_15_옥수수",
          "8_퀴어_누리_동성애",
          "9_중국_주석_회담",
          "10_50_배터리_사고",
          "11_미사일_발사_icbm",
          "12_대학교_히딩크_감독",
          "13_25_가족_대안",
          "14_지진_대피_아파트",
          "15_김치_벽돌_코스타",
          "16_10_변증_등록금",
          "17_게임_28_esg",
          "18_21_특차_추천자",
          "19_교대_공연_비평",
          "20_지소_미아_종료",
          "21_19_만점_친구",
          "22_통일부_개성_공단",
          "23_발인_12_부친상",
          "24_유엔사_17_출장",
          "25_회담_정상_대화",
          "26_발인_모친상_부친상",
          "27_70_지수_보험",
          "28_재판관_법관_신년",
          "29_오바마_연방_레드라인",
          "30_인터넷_11_300",
          "31_영화_상영_영화제",
          "32_00_특강_송도",
          "33_원자력_법률가_13",
          "34_사무_처장_국장",
          "35_신대_충남_교대",
          "36_지수_부문_자궁",
          "37_80_대안_실업",
          "38_200_구절_지진",
          "39_외교_우크라_오바마",
          "40_후보_가정_인성",
          "41_검정고시_주식_전년",
          "42_26_입국_특보",
          "43_주주_금호_23",
          "44_의장_미군_주한",
          "45_24_기숙사_폭파",
          "46_고양이_교과서_tv",
          "47_레이저_커닝_국적",
          "48_사정관_27_진로",
          "49_법관_재판_헌법",
          "50_죽음_주립_일자리",
          "51_혐오_후보_청문회",
          "52_검찰_수사_사법",
          "53_14_차세대_세대",
          "54_자전거_도로_가격",
          "55_sma_무급_분담금",
          "56_동문_정당_파병",
          "57_cbmc_ccm_채플",
          "58_김영길_공로_선출",
          "59_마을_개헌_이슬람"
         ],
         "xaxis": "x",
         "y": [
          "0_바이오_ai_하나님",
          "1_지정_선정_통합",
          "2_20_예비_지정",
          "3_트럼프_회담_정상",
          "4_30_피지_학과",
          "5_남북_대북_한반도",
          "6_반영_순위_평판",
          "7_지진_15_옥수수",
          "8_퀴어_누리_동성애",
          "9_중국_주석_회담",
          "10_50_배터리_사고",
          "11_미사일_발사_icbm",
          "12_대학교_히딩크_감독",
          "13_25_가족_대안",
          "14_지진_대피_아파트",
          "15_김치_벽돌_코스타",
          "16_10_변증_등록금",
          "17_게임_28_esg",
          "18_21_특차_추천자",
          "19_교대_공연_비평",
          "20_지소_미아_종료",
          "21_19_만점_친구",
          "22_통일부_개성_공단",
          "23_발인_12_부친상",
          "24_유엔사_17_출장",
          "25_회담_정상_대화",
          "26_발인_모친상_부친상",
          "27_70_지수_보험",
          "28_재판관_법관_신년",
          "29_오바마_연방_레드라인",
          "30_인터넷_11_300",
          "31_영화_상영_영화제",
          "32_00_특강_송도",
          "33_원자력_법률가_13",
          "34_사무_처장_국장",
          "35_신대_충남_교대",
          "36_지수_부문_자궁",
          "37_80_대안_실업",
          "38_200_구절_지진",
          "39_외교_우크라_오바마",
          "40_후보_가정_인성",
          "41_검정고시_주식_전년",
          "42_26_입국_특보",
          "43_주주_금호_23",
          "44_의장_미군_주한",
          "45_24_기숙사_폭파",
          "46_고양이_교과서_tv",
          "47_레이저_커닝_국적",
          "48_사정관_27_진로",
          "49_법관_재판_헌법",
          "50_죽음_주립_일자리",
          "51_혐오_후보_청문회",
          "52_검찰_수사_사법",
          "53_14_차세대_세대",
          "54_자전거_도로_가격",
          "55_sma_무급_분담금",
          "56_동문_정당_파병",
          "57_cbmc_ccm_채플",
          "58_김영길_공로_선출",
          "59_마을_개헌_이슬람"
         ],
         "yaxis": "y",
         "z": [
          [
           1.0000001192092896,
           0.879239022731781,
           0.8362177610397339,
           0.750252366065979,
           0.8520434498786926,
           0.8786590099334717,
           0.854873538017273,
           0.851894736289978,
           0.8165719509124756,
           0.7011120915412903,
           0.8508816957473755,
           0.8026869893074036,
           0.8688744902610779,
           0.8495854139328003,
           0.8537688255310059,
           0.8800809383392334,
           0.8813593983650208,
           0.863502562046051,
           0.8394291996955872,
           0.9337508678436279,
           0.9517090320587158,
           0.8716865181922913,
           0.8389683961868286,
           0.8377018570899963,
           0.8615767359733582,
           0.8838614821434021,
           0.8270523548126221,
           0.8888177871704102,
           0.8403990268707275,
           0.8597239255905151,
           0.8733370304107666,
           0.8901302814483643,
           0.8510342836380005,
           0.8330993056297302,
           0.8486875295639038,
           0.8185198307037354,
           0.8441328406333923,
           0.8393505811691284,
           0.8573482036590576,
           0.7168788909912109,
           0.8359715938568115,
           0.9201902747154236,
           0.8457149863243103,
           0.8522629737854004,
           0.8473047614097595,
           0.8565064668655396,
           0.864333987236023,
           0.9193687438964844,
           0.8496177792549133,
           0.8370147943496704,
           0.9108591079711914,
           0.8623481392860413,
           0.8753493428230286,
           0.849025309085846,
           0.8545973300933838,
           0.9191794395446777,
           0.9295293092727661,
           0.8701708316802979,
           0.8503773212432861,
           0.9231190085411072
          ],
          [
           0.879239022731781,
           1,
           0.9379264712333679,
           0.7253447771072388,
           0.9449670910835266,
           0.9505823850631714,
           0.9312297105789185,
           0.9436632990837097,
           0.9472914934158325,
           0.6618823409080505,
           0.9431729316711426,
           0.743111252784729,
           0.9598796963691711,
           0.9245780110359192,
           0.9557908177375793,
           0.9570751190185547,
           0.9685938358306885,
           0.9368250370025635,
           0.9365587830543518,
           0.9497310519218445,
           0.8641519546508789,
           0.935884952545166,
           0.9565387964248657,
           0.9622622728347778,
           0.9436629414558411,
           0.8953413367271423,
           0.9450099468231201,
           0.9409142136573792,
           0.9479931592941284,
           0.6772820949554443,
           0.968956708908081,
           0.923682689666748,
           0.9553335309028625,
           0.9543437957763672,
           0.9520927667617798,
           0.947311520576477,
           0.6805965304374695,
           0.9512051939964294,
           0.9551657438278198,
           0.7303545475006104,
           0.9588667154312134,
           0.8831355571746826,
           0.9509308338165283,
           0.9464680552482605,
           0.7831873893737793,
           0.9434620141983032,
           0.9373087882995605,
           0.9602130651473999,
           0.947683572769165,
           0.9545953273773193,
           0.9578256607055664,
           0.8842790722846985,
           0.9631441831588745,
           0.9488462209701538,
           0.9563704133033752,
           0.864638090133667,
           0.9050387144088745,
           0.9333418607711792,
           0.9480068683624268,
           0.9115630984306335
          ],
          [
           0.8362177610397339,
           0.9379264712333679,
           1.0000001192092896,
           0.7131354808807373,
           0.9265384078025818,
           0.9011226296424866,
           0.9333648085594177,
           0.9168873429298401,
           0.9074503183364868,
           0.6285640001296997,
           0.950053870677948,
           0.7139444947242737,
           0.9214156866073608,
           0.9252669811248779,
           0.9169626235961914,
           0.9163299798965454,
           0.9301152229309082,
           0.8973870277404785,
           0.9427807927131653,
           0.9291337728500366,
           0.8204076290130615,
           0.9418310523033142,
           0.9134054183959961,
           0.9254981279373169,
           0.9231800436973572,
           0.8478639125823975,
           0.913268506526947,
           0.8806895017623901,
           0.921757161617279,
           0.6378805041313171,
           0.93837970495224,
           0.9123262166976929,
           0.9093567132949829,
           0.9264112114906311,
           0.922646164894104,
           0.9103144407272339,
           0.6883113384246826,
           0.9226522445678711,
           0.9596853852272034,
           0.7107125520706177,
           0.9212197065353394,
           0.8639404773712158,
           0.91573566198349,
           0.9305168986320496,
           0.7495654821395874,
           0.913790762424469,
           0.9147766828536987,
           0.9242702722549438,
           0.9124231338500977,
           0.9098839163780212,
           0.9069464802742004,
           0.8474851846694946,
           0.9203968644142151,
           0.9099320769309998,
           0.9573079347610474,
           0.8515815734863281,
           0.8679438829421997,
           0.9041750431060791,
           0.9118900299072266,
           0.8718461990356445
          ],
          [
           0.750252366065979,
           0.7253447771072388,
           0.7131354808807373,
           1,
           0.6681427359580994,
           0.8007874488830566,
           0.7012704610824585,
           0.7344087958335876,
           0.6816222667694092,
           0.8621371984481812,
           0.7011662721633911,
           0.8354249000549316,
           0.7175706028938293,
           0.6759428977966309,
           0.6962189674377441,
           0.7010198831558228,
           0.7133660316467285,
           0.6887595653533936,
           0.674460232257843,
           0.732416570186615,
           0.8300982713699341,
           0.7486051917076111,
           0.7300655841827393,
           0.6995746493339539,
           0.7481352090835571,
           0.8725023865699768,
           0.6837266087532043,
           0.7369375824928284,
           0.6845362186431885,
           0.8108256459236145,
           0.6982717514038086,
           0.7087280750274658,
           0.6946057081222534,
           0.6963943243026733,
           0.7262832522392273,
           0.6657978296279907,
           0.6343991160392761,
           0.6997947096824646,
           0.7157136797904968,
           0.81780606508255,
           0.7016995549201965,
           0.794888973236084,
           0.6870209574699402,
           0.6806762218475342,
           0.906680166721344,
           0.6868779063224792,
           0.719723105430603,
           0.7274570465087891,
           0.6858924031257629,
           0.7063443064689636,
           0.7281548380851746,
           0.7512126564979553,
           0.735019326210022,
           0.7021915912628174,
           0.7340617179870605,
           0.7484371662139893,
           0.7370467185974121,
           0.6921281814575195,
           0.6906716823577881,
           0.757693350315094
          ],
          [
           0.8520434498786926,
           0.9449670910835266,
           0.9265384078025818,
           0.6681427359580994,
           0.9999999403953552,
           0.919072687625885,
           0.9313729405403137,
           0.9104686379432678,
           0.9525120258331299,
           0.5991828441619873,
           0.9601739048957825,
           0.7079432606697083,
           0.957358717918396,
           0.9248012900352478,
           0.9607737064361572,
           0.9624049067497253,
           0.9594593048095703,
           0.9711621999740601,
           0.9509634971618652,
           0.9369949102401733,
           0.8278177976608276,
           0.9441295266151428,
           0.9454572796821594,
           0.952690601348877,
           0.9352863430976868,
           0.8518276214599609,
           0.9471856951713562,
           0.9067493677139282,
           0.9608774781227112,
           0.6182017922401428,
           0.9786763787269592,
           0.9213675260543823,
           0.9572553634643555,
           0.9453455209732056,
           0.9325888752937317,
           0.9516348838806152,
           0.6878188848495483,
           0.9303705096244812,
           0.9506424069404602,
           0.6937306523323059,
           0.9566580057144165,
           0.8462839126586914,
           0.9511330723762512,
           0.9528018236160278,
           0.7361749410629272,
           0.9417814612388611,
           0.9373524188995361,
           0.9429794549942017,
           0.9603984355926514,
           0.9480457305908203,
           0.9534890055656433,
           0.8581603765487671,
           0.9448689222335815,
           0.9366139769554138,
           0.956159234046936,
           0.8178921341896057,
           0.8726129531860352,
           0.9241153001785278,
           0.9495269656181335,
           0.9047154188156128
          ],
          [
           0.8786590099334717,
           0.9505823850631714,
           0.9011226296424866,
           0.8007874488830566,
           0.919072687625885,
           1.0000001192092896,
           0.9356855154037476,
           0.9454245567321777,
           0.9540295600891113,
           0.7480021715164185,
           0.9287365078926086,
           0.7978359460830688,
           0.9519214630126953,
           0.9122297763824463,
           0.9555791616439819,
           0.9559051990509033,
           0.9676274061203003,
           0.9346941113471985,
           0.9313642382621765,
           0.9262717366218567,
           0.9122655391693115,
           0.9412338137626648,
           0.9829046130180359,
           0.9460387825965881,
           0.9479972124099731,
           0.9710698127746582,
           0.9356914758682251,
           0.9147822856903076,
           0.9433940649032593,
           0.7131208181381226,
           0.944511353969574,
           0.9194353818893433,
           0.9618880748748779,
           0.9513084888458252,
           0.949023962020874,
           0.9439666271209717,
           0.635765552520752,
           0.9082419872283936,
           0.9269701838493347,
           0.8245140314102173,
           0.9652042388916016,
           0.8800927996635437,
           0.9468533992767334,
           0.9452801942825317,
           0.8660258054733276,
           0.9425851702690125,
           0.9427493810653687,
           0.9655838012695312,
           0.9384982585906982,
           0.9740291833877563,
           0.9717237949371338,
           0.9093822836875916,
           0.9856593608856201,
           0.9516793489456177,
           0.9476246237754822,
           0.8606327176094055,
           0.9116777777671814,
           0.9239746928215027,
           0.9398008584976196,
           0.945564329624176
          ],
          [
           0.854873538017273,
           0.9312297105789185,
           0.9333648085594177,
           0.7012704610824585,
           0.9313729405403137,
           0.9356855154037476,
           1.0000001192092896,
           0.9380829334259033,
           0.9505671262741089,
           0.6352967619895935,
           0.9764323830604553,
           0.7113000154495239,
           0.9638838768005371,
           0.9349828958511353,
           0.9678195118904114,
           0.9599385857582092,
           0.9656134247779846,
           0.9404868483543396,
           0.9564879536628723,
           0.9393003582954407,
           0.8346641063690186,
           0.9529432654380798,
           0.9520290493965149,
           0.9446414709091187,
           0.9591955542564392,
           0.8756573796272278,
           0.9503657817840576,
           0.8915036916732788,
           0.9576824307441711,
           0.6250036954879761,
           0.9529940485954285,
           0.9346425533294678,
           0.9518758654594421,
           0.9543697834014893,
           0.9476913213729858,
           0.9488704800605774,
           0.6633496284484863,
           0.9051218032836914,
           0.9361504316329956,
           0.7297341823577881,
           0.9604671001434326,
           0.8793306946754456,
           0.9460965394973755,
           0.9556246995925903,
           0.7591506242752075,
           0.9372004270553589,
           0.9525805711746216,
           0.9583658576011658,
           0.9508875608444214,
           0.954239010810852,
           0.9476032257080078,
           0.8729901313781738,
           0.9594492316246033,
           0.9486278295516968,
           0.9585341215133667,
           0.8393457531929016,
           0.8928289413452148,
           0.9513490796089172,
           0.9508751630783081,
           0.9070916771888733
          ],
          [
           0.851894736289978,
           0.9436632990837097,
           0.9168873429298401,
           0.7344087958335876,
           0.9104686379432678,
           0.9454245567321777,
           0.9380829334259033,
           1,
           0.941255509853363,
           0.6598033905029297,
           0.9307305812835693,
           0.7357844710350037,
           0.9464594721794128,
           0.9203016757965088,
           0.9453819990158081,
           0.9439361691474915,
           0.9566423296928406,
           0.920049786567688,
           0.9248433113098145,
           0.9202802181243896,
           0.8455784320831299,
           0.9475878477096558,
           0.9524942636489868,
           0.9419609308242798,
           0.9568654298782349,
           0.8869684934616089,
           0.9262926578521729,
           0.8865762948989868,
           0.9333088994026184,
           0.6465281248092651,
           0.9355921745300293,
           0.9182685017585754,
           0.9440954923629761,
           0.9525933861732483,
           0.9646522998809814,
           0.9404196739196777,
           0.6275641918182373,
           0.8958829641342163,
           0.923882782459259,
           0.7471132874488831,
           0.9508437514305115,
           0.9026349186897278,
           0.932436466217041,
           0.9451649785041809,
           0.7776880264282227,
           0.9394464492797852,
           0.9360771775245667,
           0.947094738483429,
           0.9320944547653198,
           0.9506449699401855,
           0.9433682560920715,
           0.8615272045135498,
           0.9587015509605408,
           0.9642751216888428,
           0.9380852580070496,
           0.8350554704666138,
           0.9204901456832886,
           0.9206342697143555,
           0.9397615194320679,
           0.9004647731781006
          ],
          [
           0.8165719509124756,
           0.9472914934158325,
           0.9074503183364868,
           0.6816222667694092,
           0.9525120258331299,
           0.9540295600891113,
           0.9505671262741089,
           0.941255509853363,
           0.9999997615814209,
           0.617891788482666,
           0.9546288251876831,
           0.687126100063324,
           0.9723825454711914,
           0.9297822713851929,
           0.9860600829124451,
           0.9882194399833679,
           0.9832546710968018,
           0.9674269556999207,
           0.9682499766349792,
           0.9085854291915894,
           0.7993642687797546,
           0.9516019821166992,
           0.9899729490280151,
           0.9724836945533752,
           0.9665131568908691,
           0.8748329877853394,
           0.9751307964324951,
           0.8958292007446289,
           0.9832532405853271,
           0.5706996321678162,
           0.9646240472793579,
           0.9169092178344727,
           0.9963972568511963,
           0.9758263826370239,
           0.9770844578742981,
           0.9959406852722168,
           0.5579267740249634,
           0.91358882188797,
           0.9363130331039429,
           0.7246884107589722,
           0.9955517649650574,
           0.8432741761207581,
           0.981109619140625,
           0.9772816300392151,
           0.7315837144851685,
           0.9714445471763611,
           0.9521937966346741,
           0.949464738368988,
           0.9789915680885315,
           0.994465172290802,
           0.9744811058044434,
           0.8643179535865784,
           0.976132869720459,
           0.9759120345115662,
           0.9675307273864746,
           0.7768194675445557,
           0.8727173805236816,
           0.9405341744422913,
           0.9835038781166077,
           0.9025386571884155
          ],
          [
           0.7011120915412903,
           0.6618823409080505,
           0.6285640001296997,
           0.8621371984481812,
           0.5991828441619873,
           0.7480021715164185,
           0.6352967619895935,
           0.6598033905029297,
           0.617891788482666,
           1,
           0.6169228553771973,
           0.7504942417144775,
           0.6387503147125244,
           0.6183880567550659,
           0.6334341168403625,
           0.636287271976471,
           0.6510046720504761,
           0.6127983927726746,
           0.6019892692565918,
           0.6679147481918335,
           0.7694093585014343,
           0.6506844162940979,
           0.6659892797470093,
           0.6336550712585449,
           0.6426113843917847,
           0.8498360514640808,
           0.6309881806373596,
           0.6533703804016113,
           0.6112979054450989,
           0.7397615909576416,
           0.6307792663574219,
           0.6434630155563354,
           0.627702534198761,
           0.6232508420944214,
           0.642274022102356,
           0.6000121235847473,
           0.5374990105628967,
           0.6462281942367554,
           0.6392316818237305,
           0.7708424925804138,
           0.6387962102890015,
           0.6694733500480652,
           0.6254109740257263,
           0.6173456907272339,
           0.8493547439575195,
           0.6237671971321106,
           0.64656001329422,
           0.6654878854751587,
           0.6139301061630249,
           0.641659140586853,
           0.663908064365387,
           0.7274488210678101,
           0.6744046807289124,
           0.6364569664001465,
           0.6440014839172363,
           0.7081419229507446,
           0.6640764474868774,
           0.6593552827835083,
           0.627651572227478,
           0.7287675142288208
          ],
          [
           0.8508816957473755,
           0.9431729316711426,
           0.950053870677948,
           0.7011662721633911,
           0.9601739048957825,
           0.9287365078926086,
           0.9764323830604553,
           0.9307305812835693,
           0.9546288251876831,
           0.6169228553771973,
           0.9999998211860657,
           0.7072257995605469,
           0.9684022068977356,
           0.9408766627311707,
           0.9682751893997192,
           0.9638652801513672,
           0.9658949375152588,
           0.9526530504226685,
           0.9610680341720581,
           0.9429748058319092,
           0.8270496129989624,
           0.9595851898193359,
           0.9521710872650146,
           0.9541062116622925,
           0.9563965201377869,
           0.8621140122413635,
           0.9509027004241943,
           0.9092212915420532,
           0.9627326130867004,
           0.6193180084228516,
           0.9703900814056396,
           0.925997257232666,
           0.956878662109375,
           0.9547281265258789,
           0.9507736563682556,
           0.9517921805381775,
           0.6958463788032532,
           0.9246882200241089,
           0.9631901383399963,
           0.7026547193527222,
           0.9618855118751526,
           0.875752866268158,
           0.952842116355896,
           0.9594353437423706,
           0.7483461499214172,
           0.9483715891838074,
           0.943575382232666,
           0.9520006775856018,
           0.955392062664032,
           0.9533912539482117,
           0.9508436918258667,
           0.8611239194869995,
           0.954378604888916,
           0.9489567279815674,
           0.9711335897445679,
           0.8295842409133911,
           0.8850433826446533,
           0.9379221796989441,
           0.9596487879753113,
           0.896095335483551
          ],
          [
           0.8026869893074036,
           0.743111252784729,
           0.7139444947242737,
           0.8354249000549316,
           0.7079432606697083,
           0.7978359460830688,
           0.7113000154495239,
           0.7357844710350037,
           0.687126100063324,
           0.7504942417144775,
           0.7072257995605469,
           1,
           0.7320665717124939,
           0.7110161781311035,
           0.7109025120735168,
           0.721288800239563,
           0.7335262894630432,
           0.7204074859619141,
           0.7081469893455505,
           0.7687811851501465,
           0.8424369692802429,
           0.7500222325325012,
           0.7345098257064819,
           0.7062594890594482,
           0.745087742805481,
           0.8386139869689941,
           0.7026095390319824,
           0.7543644905090332,
           0.6969369649887085,
           0.7542790770530701,
           0.7261549830436707,
           0.7471649050712585,
           0.708469033241272,
           0.7085404396057129,
           0.7187812924385071,
           0.6708534955978394,
           0.652188777923584,
           0.7170417308807373,
           0.7204908132553101,
           0.7810909152030945,
           0.7103147506713867,
           0.8035837411880493,
           0.7050145268440247,
           0.7078460454940796,
           0.862022876739502,
           0.7072566747665405,
           0.7512452602386475,
           0.7707606554031372,
           0.7078714966773987,
           0.7112051844596863,
           0.7534033060073853,
           0.7929699420928955,
           0.7499257326126099,
           0.7156681418418884,
           0.7323373556137085,
           0.8164963126182556,
           0.7782324552536011,
           0.7038676738739014,
           0.6930451989173889,
           0.7952194213867188
          ],
          [
           0.8688744902610779,
           0.9598796963691711,
           0.9214156866073608,
           0.7175706028938293,
           0.957358717918396,
           0.9519214630126953,
           0.9638838768005371,
           0.9464594721794128,
           0.9723825454711914,
           0.6387503147125244,
           0.9684022068977356,
           0.7320665717124939,
           0.9999998807907104,
           0.9351022243499756,
           0.9753396511077881,
           0.9808630347251892,
           0.9854366779327393,
           0.978271484375,
           0.9642729759216309,
           0.9561538100242615,
           0.8488577008247375,
           0.9760559797286987,
           0.9724904894828796,
           0.9718503952026367,
           0.9791951775550842,
           0.8884356021881104,
           0.9791436791419983,
           0.946726381778717,
           0.974236249923706,
           0.6459943652153015,
           0.9765452146530151,
           0.9435335397720337,
           0.9768244624137878,
           0.9671611785888672,
           0.9737995862960815,
           0.9715657234191895,
           0.6712899804115295,
           0.9469622373580933,
           0.9545276165008545,
           0.7404572367668152,
           0.980696976184845,
           0.9040523171424866,
           0.9696113467216492,
           0.9743431806564331,
           0.7794923782348633,
           0.9692835807800293,
           0.9692052602767944,
           0.9704516530036926,
           0.9790841341018677,
           0.9743841886520386,
           0.9714155197143555,
           0.9049806594848633,
           0.9754704236984253,
           0.9730294942855835,
           0.9722082018852234,
           0.8418654799461365,
           0.9065314531326294,
           0.9415616989135742,
           0.9762536287307739,
           0.9138917922973633
          ],
          [
           0.8495854139328003,
           0.9245780110359192,
           0.9252669811248779,
           0.6759428977966309,
           0.9248012900352478,
           0.9122297763824463,
           0.9349828958511353,
           0.9203016757965088,
           0.9297822713851929,
           0.6183880567550659,
           0.9408766627311707,
           0.7110161781311035,
           0.9351022243499756,
           1.000000238418579,
           0.9290345907211304,
           0.9390749335289001,
           0.9414826035499573,
           0.9407167434692383,
           0.9499672651290894,
           0.922093391418457,
           0.810761570930481,
           0.9326825141906738,
           0.930570662021637,
           0.9147870540618896,
           0.9411287903785706,
           0.8567423820495605,
           0.9119123220443726,
           0.8907686471939087,
           0.9345978498458862,
           0.6190274953842163,
           0.9462724924087524,
           0.907968282699585,
           0.9314643144607544,
           0.9224876761436462,
           0.9339832067489624,
           0.9325703382492065,
           0.6483812928199768,
           0.8719744682312012,
           0.9453906416893005,
           0.6826132535934448,
           0.9367579817771912,
           0.878680408000946,
           0.9649353623390198,
           0.9559037685394287,
           0.741219162940979,
           0.9640946984291077,
           0.9278203845024109,
           0.926728367805481,
           0.9580980539321899,
           0.9282394647598267,
           0.9259905219078064,
           0.8186531662940979,
           0.9267383813858032,
           0.9146454930305481,
           0.9478751420974731,
           0.8271163702011108,
           0.8649372458457947,
           0.9244933724403381,
           0.9388437867164612,
           0.8891541957855225
          ],
          [
           0.8537688255310059,
           0.9557908177375793,
           0.9169626235961914,
           0.6962189674377441,
           0.9607737064361572,
           0.9555791616439819,
           0.9678195118904114,
           0.9453819990158081,
           0.9860600829124451,
           0.6334341168403625,
           0.9682751893997192,
           0.7109025120735168,
           0.9753396511077881,
           0.9290345907211304,
           1,
           0.9891321063041687,
           0.9872046113014221,
           0.9656197428703308,
           0.9647936820983887,
           0.9391868114471436,
           0.832322895526886,
           0.9504070281982422,
           0.980625569820404,
           0.9683473110198975,
           0.967562198638916,
           0.8833364248275757,
           0.9702863693237305,
           0.9132875800132751,
           0.9849175810813904,
           0.60533607006073,
           0.9758150577545166,
           0.9318335056304932,
           0.9887253642082214,
           0.9703561067581177,
           0.9778095483779907,
           0.9817969799041748,
           0.623633086681366,
           0.9262015223503113,
           0.9442630410194397,
           0.7286428213119507,
           0.9882514476776123,
           0.8681952953338623,
           0.973204493522644,
           0.9745184183120728,
           0.7477830648422241,
           0.9665411710739136,
           0.9601290225982666,
           0.9669502973556519,
           0.9743080735206604,
           0.9870973229408264,
           0.9794413447380066,
           0.8783320784568787,
           0.9806193113327026,
           0.9756237268447876,
           0.9632984399795532,
           0.8139122128486633,
           0.8973056077957153,
           0.9610142111778259,
           0.9790734648704529,
           0.9195319414138794
          ],
          [
           0.8800809383392334,
           0.9570751190185547,
           0.9163299798965454,
           0.7010198831558228,
           0.9624049067497253,
           0.9559051990509033,
           0.9599385857582092,
           0.9439361691474915,
           0.9882194399833679,
           0.636287271976471,
           0.9638652801513672,
           0.721288800239563,
           0.9808630347251892,
           0.9390749335289001,
           0.9891321063041687,
           1,
           0.9921695590019226,
           0.9786957502365112,
           0.9724100828170776,
           0.9449899196624756,
           0.8497939109802246,
           0.9655411839485168,
           0.9795324802398682,
           0.9711838960647583,
           0.9733132123947144,
           0.8888731002807617,
           0.9739947319030762,
           0.919288158416748,
           0.9820595383644104,
           0.6365025043487549,
           0.9759361743927002,
           0.9408986568450928,
           0.9947980642318726,
           0.9716969132423401,
           0.9775195717811584,
           0.9864590167999268,
           0.6362952589988708,
           0.9225614070892334,
           0.9475605487823486,
           0.7320728898048401,
           0.9884599447250366,
           0.8866642713546753,
           0.9799790382385254,
           0.982595682144165,
           0.7656381130218506,
           0.9778356552124023,
           0.9611026048660278,
           0.972673773765564,
           0.9826029539108276,
           0.9857821464538574,
           0.9900630712509155,
           0.886172354221344,
           0.9785598516464233,
           0.9791887402534485,
           0.9708212018013,
           0.8263682126998901,
           0.9131614565849304,
           0.955987274646759,
           0.9888893365859985,
           0.9320602416992188
          ],
          [
           0.8813593983650208,
           0.9685938358306885,
           0.9301152229309082,
           0.7133660316467285,
           0.9594593048095703,
           0.9676274061203003,
           0.9656134247779846,
           0.9566423296928406,
           0.9832546710968018,
           0.6510046720504761,
           0.9658949375152588,
           0.7335262894630432,
           0.9854366779327393,
           0.9414826035499573,
           0.9872046113014221,
           0.9921695590019226,
           0.9999996423721313,
           0.9720820188522339,
           0.9693935513496399,
           0.9603909254074097,
           0.8628549575805664,
           0.9691704511642456,
           0.9844567775726318,
           0.978569746017456,
           0.9737794399261475,
           0.9040585160255432,
           0.9746016263961792,
           0.9228513240814209,
           0.9792535305023193,
           0.64296555519104,
           0.9800052046775818,
           0.9522322416305542,
           0.9886777997016907,
           0.9745758771896362,
           0.9804514050483704,
           0.983773410320282,
           0.6377167701721191,
           0.9346423149108887,
           0.9571827054023743,
           0.750394344329834,
           0.992904543876648,
           0.8912935256958008,
           0.9774965643882751,
           0.9815300107002258,
           0.7810022234916687,
           0.9789115190505981,
           0.9710469841957092,
           0.9879367351531982,
           0.9781963229179382,
           0.9886069297790527,
           0.9842235445976257,
           0.8975788354873657,
           0.9913139343261719,
           0.9795142412185669,
           0.9748973846435547,
           0.8485998511314392,
           0.9198386669158936,
           0.9626868963241577,
           0.9831700325012207,
           0.9411898255348206
          ],
          [
           0.863502562046051,
           0.9368250370025635,
           0.8973870277404785,
           0.6887595653533936,
           0.9711621999740601,
           0.9346941113471985,
           0.9404868483543396,
           0.920049786567688,
           0.9674269556999207,
           0.6127983927726746,
           0.9526530504226685,
           0.7204074859619141,
           0.978271484375,
           0.9407167434692383,
           0.9656197428703308,
           0.9786957502365112,
           0.9720820188522339,
           0.9999998807907104,
           0.9665318727493286,
           0.9364418983459473,
           0.8329217433929443,
           0.9682724475860596,
           0.9612473249435425,
           0.9544186592102051,
           0.9712038040161133,
           0.8688633441925049,
           0.9611461758613586,
           0.9209944605827332,
           0.9680640697479248,
           0.6236411929130554,
           0.9702479243278503,
           0.9342234134674072,
           0.9725173115730286,
           0.9538606405258179,
           0.9555410146713257,
           0.9657338857650757,
           0.6459508538246155,
           0.9049468040466309,
           0.9409365057945251,
           0.71329665184021,
           0.9699687957763672,
           0.8914600610733032,
           0.9723517298698425,
           0.9762145280838013,
           0.7587984800338745,
           0.9700142741203308,
           0.9572398662567139,
           0.952457070350647,
           0.9862951040267944,
           0.9634062051773071,
           0.9669857025146484,
           0.8711799383163452,
           0.9571616649627686,
           0.9608474969863892,
           0.9623672962188721,
           0.8038918972015381,
           0.8958050012588501,
           0.9266898036003113,
           0.9708065986633301,
           0.9145805835723877
          ],
          [
           0.8394291996955872,
           0.9365587830543518,
           0.9427807927131653,
           0.674460232257843,
           0.9509634971618652,
           0.9313642382621765,
           0.9564879536628723,
           0.9248433113098145,
           0.9682499766349792,
           0.6019892692565918,
           0.9610680341720581,
           0.7081469893455505,
           0.9642729759216309,
           0.9499672651290894,
           0.9647936820983887,
           0.9724100828170776,
           0.9693935513496399,
           0.9665318727493286,
           0.9999998211860657,
           0.9375900030136108,
           0.8093627095222473,
           0.9628559947013855,
           0.9617090225219727,
           0.959113359451294,
           0.9677481651306152,
           0.8607802391052246,
           0.9626939296722412,
           0.8946191668510437,
           0.9783674478530884,
           0.5919584035873413,
           0.9685850143432617,
           0.9268221855163574,
           0.9695007801055908,
           0.9782178401947021,
           0.9593219757080078,
           0.9663501977920532,
           0.6182124614715576,
           0.9103671908378601,
           0.9487313628196716,
           0.7175379395484924,
           0.9714855551719666,
           0.8766767382621765,
           0.9758385419845581,
           0.98506760597229,
           0.7359246015548706,
           0.9664170742034912,
           0.9512009024620056,
           0.9487128853797913,
           0.9793046712875366,
           0.9622611403465271,
           0.9572743773460388,
           0.8678461909294128,
           0.9566963315010071,
           0.9702253937721252,
           0.9716331958770752,
           0.8166817426681519,
           0.9111714363098145,
           0.9312111735343933,
           0.9651619791984558,
           0.9019041061401367
          ],
          [
           0.9337508678436279,
           0.9497310519218445,
           0.9291337728500366,
           0.732416570186615,
           0.9369949102401733,
           0.9262717366218567,
           0.9393003582954407,
           0.9202802181243896,
           0.9085854291915894,
           0.6679147481918335,
           0.9429748058319092,
           0.7687811851501465,
           0.9561538100242615,
           0.922093391418457,
           0.9391868114471436,
           0.9449899196624756,
           0.9603909254074097,
           0.9364418983459473,
           0.9375900030136108,
           0.9999997615814209,
           0.9024599194526672,
           0.9461222887039185,
           0.9199959635734558,
           0.9387842416763306,
           0.9411483407020569,
           0.8893418908119202,
           0.9240241646766663,
           0.9260014295578003,
           0.9451181888580322,
           0.7262852191925049,
           0.9692600965499878,
           0.9474216103553772,
           0.9257736802101135,
           0.9339010715484619,
           0.938433051109314,
           0.9135420322418213,
           0.7793994545936584,
           0.9307331442832947,
           0.9483501315116882,
           0.7342956066131592,
           0.9315788745880127,
           0.9301063418388367,
           0.9356445074081421,
           0.9356938600540161,
           0.8068713545799255,
           0.936093807220459,
           0.9445303678512573,
           0.9756636023521423,
           0.9402374625205994,
           0.9215601682662964,
           0.9474902749061584,
           0.8907221555709839,
           0.9483630657196045,
           0.9338106513023376,
           0.9433031678199768,
           0.9128817915916443,
           0.9475817680358887,
           0.9448495507240295,
           0.931376576423645,
           0.9311181306838989
          ],
          [
           0.9517090320587158,
           0.8641519546508789,
           0.8204076290130615,
           0.8300982713699341,
           0.8278177976608276,
           0.9122655391693115,
           0.8346641063690186,
           0.8455784320831299,
           0.7993642687797546,
           0.7694093585014343,
           0.8270496129989624,
           0.8424369692802429,
           0.8488577008247375,
           0.810761570930481,
           0.832322895526886,
           0.8497939109802246,
           0.8628549575805664,
           0.8329217433929443,
           0.8093627095222473,
           0.9024599194526672,
           1.000000238418579,
           0.8586159944534302,
           0.845115065574646,
           0.8248429298400879,
           0.8442849516868591,
           0.9432665109634399,
           0.8056232929229736,
           0.8721622824668884,
           0.8154119849205017,
           0.9007909297943115,
           0.8481712937355042,
           0.8665193319320679,
           0.8320624232292175,
           0.823077380657196,
           0.8280465602874756,
           0.7949951887130737,
           0.809231162071228,
           0.8256721496582031,
           0.8344499468803406,
           0.8174758553504944,
           0.8232818841934204,
           0.8953453898429871,
           0.8188387751579285,
           0.8199710845947266,
           0.9341318011283875,
           0.8239943981170654,
           0.8487769365310669,
           0.9071481823921204,
           0.8163663744926453,
           0.8352317810058594,
           0.8934329152107239,
           0.8766701221466064,
           0.8801347017288208,
           0.8291803598403931,
           0.8357330560684204,
           0.9184757471084595,
           0.9102870225906372,
           0.8384436368942261,
           0.8162844777107239,
           0.9176764488220215
          ],
          [
           0.8716865181922913,
           0.935884952545166,
           0.9418310523033142,
           0.7486051917076111,
           0.9441295266151428,
           0.9412338137626648,
           0.9529432654380798,
           0.9475878477096558,
           0.9516019821166992,
           0.6506844162940979,
           0.9595851898193359,
           0.7500222325325012,
           0.9760559797286987,
           0.9326825141906738,
           0.9504070281982422,
           0.9655411839485168,
           0.9691704511642456,
           0.9682724475860596,
           0.9628559947013855,
           0.9461222887039185,
           0.8586159944534302,
           0.9999998807907104,
           0.9548681974411011,
           0.959017813205719,
           0.9772412776947021,
           0.88563072681427,
           0.9533900022506714,
           0.9044923782348633,
           0.9528598785400391,
           0.6651926040649414,
           0.9573022723197937,
           0.9435673952102661,
           0.9567713141441345,
           0.9553771615028381,
           0.9622231721878052,
           0.953157901763916,
           0.6665604114532471,
           0.9072072505950928,
           0.9532860517501831,
           0.7613049745559692,
           0.9607827663421631,
           0.9191786646842957,
           0.9504077434539795,
           0.9712373614311218,
           0.8048186898231506,
           0.9632524847984314,
           0.9564860463142395,
           0.9602116346359253,
           0.9586308002471924,
           0.9531692862510681,
           0.9562640190124512,
           0.8826733827590942,
           0.957847535610199,
           0.9605934619903564,
           0.9761819839477539,
           0.8416251540184021,
           0.9118610620498657,
           0.9232949614524841,
           0.9599700570106506,
           0.9063853621482849
          ],
          [
           0.8389683961868286,
           0.9565387964248657,
           0.9134054183959961,
           0.7300655841827393,
           0.9454572796821594,
           0.9829046130180359,
           0.9520290493965149,
           0.9524942636489868,
           0.9899729490280151,
           0.6659892797470093,
           0.9521710872650146,
           0.7345098257064819,
           0.9724904894828796,
           0.930570662021637,
           0.980625569820404,
           0.9795324802398682,
           0.9844567775726318,
           0.9612473249435425,
           0.9617090225219727,
           0.9199959635734558,
           0.845115065574646,
           0.9548681974411011,
           1,
           0.9713200926780701,
           0.9667726159095764,
           0.9198622703552246,
           0.9671908020973206,
           0.9099506735801697,
           0.9744802713394165,
           0.6204057335853577,
           0.963606059551239,
           0.9226182103157043,
           0.9898505806922913,
           0.9761865139007568,
           0.973057746887207,
           0.9826408624649048,
           0.5841896533966064,
           0.9185526967048645,
           0.9406297206878662,
           0.7645561695098877,
           0.9932549595832825,
           0.8599244356155396,
           0.9752240180969238,
           0.9735924005508423,
           0.7854273319244385,
           0.9682466387748718,
           0.9562833309173584,
           0.962748646736145,
           0.9698277711868286,
           0.9966905117034912,
           0.9786086082458496,
           0.8885189890861511,
           0.990764856338501,
           0.9746851921081543,
           0.9679439067840576,
           0.8127793073654175,
           0.8922648429870605,
           0.9374744296073914,
           0.9710222482681274,
           0.9225310683250427
          ],
          [
           0.8377018570899963,
           0.9622622728347778,
           0.9254981279373169,
           0.6995746493339539,
           0.952690601348877,
           0.9460387825965881,
           0.9446414709091187,
           0.9419609308242798,
           0.9724836945533752,
           0.6336550712585449,
           0.9541062116622925,
           0.7062594890594482,
           0.9718503952026367,
           0.9147870540618896,
           0.9683473110198975,
           0.9711838960647583,
           0.978569746017456,
           0.9544186592102051,
           0.959113359451294,
           0.9387842416763306,
           0.8248429298400879,
           0.959017813205719,
           0.9713200926780701,
           1.0000004768371582,
           0.9561670422554016,
           0.8771741390228271,
           0.9679374694824219,
           0.8886165618896484,
           0.9717975854873657,
           0.6035311222076416,
           0.9695035815238953,
           0.923439621925354,
           0.9741244912147522,
           0.9847006797790527,
           0.9667100310325623,
           0.972648024559021,
           0.6164944171905518,
           0.937204122543335,
           0.9429531693458557,
           0.7305173277854919,
           0.9799644351005554,
           0.8603479266166687,
           0.9621376991271973,
           0.9621973633766174,
           0.753692626953125,
           0.9653049111366272,
           0.9494066834449768,
           0.9581742882728577,
           0.9595968723297119,
           0.9733449220657349,
           0.9618330001831055,
           0.8785816431045532,
           0.9700397253036499,
           0.9743344783782959,
           0.9681079387664795,
           0.8185425996780396,
           0.9065943360328674,
           0.9464974403381348,
           0.9663856625556946,
           0.9055395126342773
          ],
          [
           0.8615767359733582,
           0.9436629414558411,
           0.9231800436973572,
           0.7481352090835571,
           0.9352863430976868,
           0.9479972124099731,
           0.9591955542564392,
           0.9568654298782349,
           0.9665131568908691,
           0.6426113843917847,
           0.9563965201377869,
           0.745087742805481,
           0.9791951775550842,
           0.9411287903785706,
           0.967562198638916,
           0.9733132123947144,
           0.9737794399261475,
           0.9712038040161133,
           0.9677481651306152,
           0.9411483407020569,
           0.8442849516868591,
           0.9772412776947021,
           0.9667726159095764,
           0.9561670422554016,
           0.9999998807907104,
           0.8864263296127319,
           0.9564225673675537,
           0.9249962568283081,
           0.9720454216003418,
           0.6456072330474854,
           0.9611281156539917,
           0.9353328943252563,
           0.969460666179657,
           0.9685564041137695,
           0.9856716990470886,
           0.9641544222831726,
           0.6428735256195068,
           0.9053170084953308,
           0.9402670860290527,
           0.7521646618843079,
           0.9716590046882629,
           0.9403700232505798,
           0.9708933234214783,
           0.9699441194534302,
           0.7861459851264954,
           0.9625060558319092,
           0.9613507986068726,
           0.9567219018936157,
           0.9814090132713318,
           0.9678154587745667,
           0.9639958143234253,
           0.8730343580245972,
           0.9660910964012146,
           0.970640242099762,
           0.9688360691070557,
           0.8300219178199768,
           0.9165650606155396,
           0.9341426491737366,
           0.9700461626052856,
           0.9059932231903076
          ],
          [
           0.8838614821434021,
           0.8953413367271423,
           0.8478639125823975,
           0.8725023865699768,
           0.8518276214599609,
           0.9710698127746582,
           0.8756573796272278,
           0.8869684934616089,
           0.8748329877853394,
           0.8498360514640808,
           0.8621140122413635,
           0.8386139869689941,
           0.8884356021881104,
           0.8567423820495605,
           0.8833364248275757,
           0.8888731002807617,
           0.9040585160255432,
           0.8688633441925049,
           0.8607802391052246,
           0.8893418908119202,
           0.9432665109634399,
           0.88563072681427,
           0.9198622703552246,
           0.8771741390228271,
           0.8864263296127319,
           1,
           0.8651179671287537,
           0.8794785141944885,
           0.8694539666175842,
           0.8028339147567749,
           0.8795506358146667,
           0.8739228844642639,
           0.888664960861206,
           0.8805854320526123,
           0.880218505859375,
           0.8630185127258301,
           0.6678301692008972,
           0.857430100440979,
           0.8679569959640503,
           0.85562664270401,
           0.8933882713317871,
           0.8637263178825378,
           0.880343496799469,
           0.8727818131446838,
           0.9352179169654846,
           0.8749342560768127,
           0.8860151767730713,
           0.9159664511680603,
           0.8697481155395508,
           0.903160572052002,
           0.9180521965026855,
           0.8940868973731995,
           0.9284855723381042,
           0.8803661465644836,
           0.8866724967956543,
           0.8702292442321777,
           0.8842191696166992,
           0.8707880973815918,
           0.8715512156486511,
           0.935571551322937
          ],
          [
           0.8270523548126221,
           0.9450099468231201,
           0.913268506526947,
           0.6837266087532043,
           0.9471856951713562,
           0.9356914758682251,
           0.9503657817840576,
           0.9262926578521729,
           0.9751307964324951,
           0.6309881806373596,
           0.9509027004241943,
           0.7026095390319824,
           0.9791436791419983,
           0.9119123220443726,
           0.9702863693237305,
           0.9739947319030762,
           0.9746016263961792,
           0.9611461758613586,
           0.9626939296722412,
           0.9240241646766663,
           0.8056232929229736,
           0.9533900022506714,
           0.9671908020973206,
           0.9679374694824219,
           0.9564225673675537,
           0.8651179671287537,
           0.9999998807907104,
           0.9085500240325928,
           0.9647037386894226,
           0.595558226108551,
           0.9556336402893066,
           0.9217387437820435,
           0.9744340181350708,
           0.9614459276199341,
           0.9635531306266785,
           0.9728788137435913,
           0.6060017347335815,
           0.9483741521835327,
           0.9319880604743958,
           0.730630099773407,
           0.9784206748008728,
           0.8551711440086365,
           0.9622101783752441,
           0.9651983976364136,
           0.7414331436157227,
           0.9552278518676758,
           0.9503686428070068,
           0.9490021467208862,
           0.9688733816146851,
           0.9692516326904297,
           0.9571561813354492,
           0.9320452809333801,
           0.9614232778549194,
           0.9710454940795898,
           0.9620643854141235,
           0.8059796094894409,
           0.87873774766922,
           0.9308273792266846,
           0.9685792326927185,
           0.9013715982437134
          ],
          [
           0.8888177871704102,
           0.9409142136573792,
           0.8806895017623901,
           0.7369375824928284,
           0.9067493677139282,
           0.9147822856903076,
           0.8915036916732788,
           0.8865762948989868,
           0.8958292007446289,
           0.6533703804016113,
           0.9092212915420532,
           0.7543644905090332,
           0.946726381778717,
           0.8907686471939087,
           0.9132875800132751,
           0.919288158416748,
           0.9228513240814209,
           0.9209944605827332,
           0.8946191668510437,
           0.9260014295578003,
           0.8721622824668884,
           0.9044923782348633,
           0.9099506735801697,
           0.8886165618896484,
           0.9249962568283081,
           0.8794785141944885,
           0.9085500240325928,
           1.0000001192092896,
           0.9045597314834595,
           0.7271319627761841,
           0.9276134967803955,
           0.889397144317627,
           0.9111354947090149,
           0.889140784740448,
           0.9107387065887451,
           0.8920204639434814,
           0.7556083798408508,
           0.9332351684570312,
           0.912192702293396,
           0.710075855255127,
           0.9060870409011841,
           0.9049662351608276,
           0.9093841910362244,
           0.9081747531890869,
           0.7968588471412659,
           0.8999017477035522,
           0.9094378352165222,
           0.9205859303474426,
           0.9242575168609619,
           0.9067263603210449,
           0.9290643930435181,
           0.8850202560424805,
           0.9203822612762451,
           0.9004061222076416,
           0.9065701961517334,
           0.8613434433937073,
           0.8732093572616577,
           0.8738372325897217,
           0.9081637263298035,
           0.8825943470001221
          ],
          [
           0.8403990268707275,
           0.9479931592941284,
           0.921757161617279,
           0.6845362186431885,
           0.9608774781227112,
           0.9433940649032593,
           0.9576824307441711,
           0.9333088994026184,
           0.9832532405853271,
           0.6112979054450989,
           0.9627326130867004,
           0.6969369649887085,
           0.974236249923706,
           0.9345978498458862,
           0.9849175810813904,
           0.9820595383644104,
           0.9792535305023193,
           0.9680640697479248,
           0.9783674478530884,
           0.9451181888580322,
           0.8154119849205017,
           0.9528598785400391,
           0.9744802713394165,
           0.9717975854873657,
           0.9720454216003418,
           0.8694539666175842,
           0.9647037386894226,
           0.9045597314834595,
           0.9999998807907104,
           0.5931522846221924,
           0.9840229749679565,
           0.9256910085678101,
           0.9841470718383789,
           0.9814324975013733,
           0.9788861274719238,
           0.9806410670280457,
           0.6285570859909058,
           0.92169189453125,
           0.9459636211395264,
           0.7165448665618896,
           0.9842405915260315,
           0.8747925162315369,
           0.9834970831871033,
           0.9718924164772034,
           0.7344433665275574,
           0.9660100936889648,
           0.9565984606742859,
           0.9551399350166321,
           0.9841245412826538,
           0.9800360798835754,
           0.97139972448349,
           0.8586989641189575,
           0.9703897833824158,
           0.9726276397705078,
           0.9684767127037048,
           0.8103735446929932,
           0.9014838933944702,
           0.9472615718841553,
           0.9765353202819824,
           0.903110682964325
          ],
          [
           0.8597239255905151,
           0.6772820949554443,
           0.6378805041313171,
           0.8108256459236145,
           0.6182017922401428,
           0.7131208181381226,
           0.6250036954879761,
           0.6465281248092651,
           0.5706996321678162,
           0.7397615909576416,
           0.6193180084228516,
           0.7542790770530701,
           0.6459943652153015,
           0.6190274953842163,
           0.60533607006073,
           0.6365025043487549,
           0.64296555519104,
           0.6236411929130554,
           0.5919584035873413,
           0.7262852191925049,
           0.9007909297943115,
           0.6651926040649414,
           0.6204057335853577,
           0.6035311222076416,
           0.6456072330474854,
           0.8028339147567749,
           0.595558226108551,
           0.7271319627761841,
           0.5931522846221924,
           1,
           0.6349366903305054,
           0.6724944710731506,
           0.6121355295181274,
           0.6013396978378296,
           0.6194822788238525,
           0.5696583986282349,
           0.8315377831459045,
           0.6474372148513794,
           0.6361022591590881,
           0.722524881362915,
           0.593534529209137,
           0.7815797328948975,
           0.6086201667785645,
           0.5974266529083252,
           0.8915777802467346,
           0.608970046043396,
           0.6325856447219849,
           0.6979919075965881,
           0.605919599533081,
           0.6052424907684326,
           0.6962432861328125,
           0.7268332242965698,
           0.655744194984436,
           0.6095774173736572,
           0.6327966451644897,
           0.8067240118980408,
           0.7524123787879944,
           0.6296156048774719,
           0.6064871549606323,
           0.730117678642273
          ],
          [
           0.8733370304107666,
           0.968956708908081,
           0.93837970495224,
           0.6982717514038086,
           0.9786763787269592,
           0.944511353969574,
           0.9529940485954285,
           0.9355921745300293,
           0.9646240472793579,
           0.6307792663574219,
           0.9703900814056396,
           0.7261549830436707,
           0.9765452146530151,
           0.9462724924087524,
           0.9758150577545166,
           0.9759361743927002,
           0.9800052046775818,
           0.9702479243278503,
           0.9685850143432617,
           0.9692600965499878,
           0.8481712937355042,
           0.9573022723197937,
           0.963606059551239,
           0.9695035815238953,
           0.9611281156539917,
           0.8795506358146667,
           0.9556336402893066,
           0.9276134967803955,
           0.9840229749679565,
           0.6349366903305054,
           1.0000001192092896,
           0.9399908185005188,
           0.9708580374717712,
           0.9684464335441589,
           0.9628633260726929,
           0.9629337787628174,
           0.6939606666564941,
           0.9415205717086792,
           0.9741454124450684,
           0.7157527208328247,
           0.9738748073577881,
           0.8861756324768066,
           0.972001850605011,
           0.9704612493515015,
           0.7565844058990479,
           0.9655524492263794,
           0.9583677649497986,
           0.967699408531189,
           0.975128173828125,
           0.9659020900726318,
           0.9691427946090698,
           0.8689569234848022,
           0.9694885015487671,
           0.962486982345581,
           0.9711787700653076,
           0.857163667678833,
           0.911635160446167,
           0.9474519491195679,
           0.9669906497001648,
           0.9162808656692505
          ],
          [
           0.8901302814483643,
           0.923682689666748,
           0.9123262166976929,
           0.7087280750274658,
           0.9213675260543823,
           0.9194353818893433,
           0.9346425533294678,
           0.9182685017585754,
           0.9169092178344727,
           0.6434630155563354,
           0.925997257232666,
           0.7471649050712585,
           0.9435335397720337,
           0.907968282699585,
           0.9318335056304932,
           0.9408986568450928,
           0.9522322416305542,
           0.9342234134674072,
           0.9268221855163574,
           0.9474216103553772,
           0.8665193319320679,
           0.9435673952102661,
           0.9226182103157043,
           0.923439621925354,
           0.9353328943252563,
           0.8739228844642639,
           0.9217387437820435,
           0.889397144317627,
           0.9256910085678101,
           0.6724944710731506,
           0.9399908185005188,
           1.000000238418579,
           0.9271287322044373,
           0.9190690517425537,
           0.9293402433395386,
           0.9199005365371704,
           0.6810768842697144,
           0.8897773027420044,
           0.9250314235687256,
           0.7338223457336426,
           0.9343692064285278,
           0.8933321237564087,
           0.9245715141296387,
           0.9381569623947144,
           0.7777116894721985,
           0.9289049506187439,
           0.9720286726951599,
           0.9562462568283081,
           0.9307713508605957,
           0.92398601770401,
           0.9366564750671387,
           0.8687306642532349,
           0.9404767751693726,
           0.9252187013626099,
           0.9392607808113098,
           0.8547819256782532,
           0.9029238820075989,
           0.9355123043060303,
           0.9306384921073914,
           0.92030930519104
          ],
          [
           0.8510342836380005,
           0.9553335309028625,
           0.9093567132949829,
           0.6946057081222534,
           0.9572553634643555,
           0.9618880748748779,
           0.9518758654594421,
           0.9440954923629761,
           0.9963972568511963,
           0.627702534198761,
           0.956878662109375,
           0.708469033241272,
           0.9768244624137878,
           0.9314643144607544,
           0.9887253642082214,
           0.9947980642318726,
           0.9886777997016907,
           0.9725173115730286,
           0.9695007801055908,
           0.9257736802101135,
           0.8320624232292175,
           0.9567713141441345,
           0.9898505806922913,
           0.9741244912147522,
           0.969460666179657,
           0.888664960861206,
           0.9744340181350708,
           0.9111354947090149,
           0.9841470718383789,
           0.6121355295181274,
           0.9708580374717712,
           0.9271287322044373,
           0.9999997019767761,
           0.9769467115402222,
           0.9779341220855713,
           0.9926885366439819,
           0.5985598564147949,
           0.9200332760810852,
           0.9398895502090454,
           0.7342779636383057,
           0.993727445602417,
           0.8639880418777466,
           0.981053352355957,
           0.9797286987304688,
           0.7536392211914062,
           0.9755243062973022,
           0.9567679762840271,
           0.9632633924484253,
           0.9798932075500488,
           0.9948008060455322,
           0.9881876111030579,
           0.8799665570259094,
           0.9820765852928162,
           0.9802032709121704,
           0.9686284065246582,
           0.8042429089546204,
           0.8973349332809448,
           0.9462845325469971,
           0.9838851094245911,
           0.9176831245422363
          ],
          [
           0.8330993056297302,
           0.9543437957763672,
           0.9264112114906311,
           0.6963943243026733,
           0.9453455209732056,
           0.9513084888458252,
           0.9543697834014893,
           0.9525933861732483,
           0.9758263826370239,
           0.6232508420944214,
           0.9547281265258789,
           0.7085404396057129,
           0.9671611785888672,
           0.9224876761436462,
           0.9703561067581177,
           0.9716969132423401,
           0.9745758771896362,
           0.9538606405258179,
           0.9782178401947021,
           0.9339010715484619,
           0.823077380657196,
           0.9553771615028381,
           0.9761865139007568,
           0.9847006797790527,
           0.9685564041137695,
           0.8805854320526123,
           0.9614459276199341,
           0.889140784740448,
           0.9814324975013733,
           0.6013396978378296,
           0.9684464335441589,
           0.9190690517425537,
           0.9769467115402222,
           1,
           0.9701637029647827,
           0.9725000858306885,
           0.607820987701416,
           0.9202619791030884,
           0.9361541271209717,
           0.7386898398399353,
           0.9794895648956299,
           0.8743789792060852,
           0.970298707485199,
           0.9685987234115601,
           0.7511168718338013,
           0.9568175673484802,
           0.9472653269767761,
           0.9541751146316528,
           0.9694921970367432,
           0.977074921131134,
           0.9660435914993286,
           0.8686760067939758,
           0.9727057218551636,
           0.9839454293251038,
           0.9652599692344666,
           0.8171036243438721,
           0.927198588848114,
           0.9378183484077454,
           0.9640015959739685,
           0.8999167084693909
          ],
          [
           0.8486875295639038,
           0.9520927667617798,
           0.922646164894104,
           0.7262832522392273,
           0.9325888752937317,
           0.949023962020874,
           0.9476913213729858,
           0.9646522998809814,
           0.9770844578742981,
           0.642274022102356,
           0.9507736563682556,
           0.7187812924385071,
           0.9737995862960815,
           0.9339832067489624,
           0.9778095483779907,
           0.9775195717811584,
           0.9804514050483704,
           0.9555410146713257,
           0.9593219757080078,
           0.938433051109314,
           0.8280465602874756,
           0.9622231721878052,
           0.973057746887207,
           0.9667100310325623,
           0.9856716990470886,
           0.880218505859375,
           0.9635531306266785,
           0.9107387065887451,
           0.9788861274719238,
           0.6194822788238525,
           0.9628633260726929,
           0.9293402433395386,
           0.9779341220855713,
           0.9701637029647827,
           1,
           0.9764236807823181,
           0.6114155650138855,
           0.9166570901870728,
           0.940483570098877,
           0.7399943470954895,
           0.9804174900054932,
           0.9122290015220642,
           0.977436900138855,
           0.9661808609962463,
           0.7616134285926819,
           0.9702881574630737,
           0.9567824006080627,
           0.9578314423561096,
           0.9753140807151794,
           0.9778732657432556,
           0.9668677449226379,
           0.8735251426696777,
           0.9718164205551147,
           0.9765440225601196,
           0.9659079909324646,
           0.8188159465789795,
           0.9066897034645081,
           0.9459869861602783,
           0.977778971195221,
           0.9040736556053162
          ],
          [
           0.8185198307037354,
           0.947311520576477,
           0.9103144407272339,
           0.6657978296279907,
           0.9516348838806152,
           0.9439666271209717,
           0.9488704800605774,
           0.9404196739196777,
           0.9959406852722168,
           0.6000121235847473,
           0.9517921805381775,
           0.6708534955978394,
           0.9715657234191895,
           0.9325703382492065,
           0.9817969799041748,
           0.9864590167999268,
           0.983773410320282,
           0.9657338857650757,
           0.9663501977920532,
           0.9135420322418213,
           0.7949951887130737,
           0.953157901763916,
           0.9826408624649048,
           0.972648024559021,
           0.9641544222831726,
           0.8630185127258301,
           0.9728788137435913,
           0.8920204639434814,
           0.9806410670280457,
           0.5696583986282349,
           0.9629337787628174,
           0.9199005365371704,
           0.9926885366439819,
           0.9725000858306885,
           0.9764236807823181,
           0.9999997615814209,
           0.559997022151947,
           0.9121873378753662,
           0.9358150959014893,
           0.7144589424133301,
           0.9931433200836182,
           0.8434396386146545,
           0.9803805351257324,
           0.9759596586227417,
           0.7249823808670044,
           0.9732481837272644,
           0.9506067037582397,
           0.9506175518035889,
           0.9789270162582397,
           0.9894580245018005,
           0.9699634313583374,
           0.8535528779029846,
           0.9706645011901855,
           0.9708245992660522,
           0.9660751223564148,
           0.7741196155548096,
           0.8699616193771362,
           0.9428582191467285,
           0.9846487045288086,
           0.8973972797393799
          ],
          [
           0.8441328406333923,
           0.6805965304374695,
           0.6883113384246826,
           0.6343991160392761,
           0.6878188848495483,
           0.635765552520752,
           0.6633496284484863,
           0.6275641918182373,
           0.5579267740249634,
           0.5374990105628967,
           0.6958463788032532,
           0.652188777923584,
           0.6712899804115295,
           0.6483812928199768,
           0.623633086681366,
           0.6362952589988708,
           0.6377167701721191,
           0.6459508538246155,
           0.6182124614715576,
           0.7793994545936584,
           0.809231162071228,
           0.6665604114532471,
           0.5841896533966064,
           0.6164944171905518,
           0.6428735256195068,
           0.6678301692008972,
           0.6060017347335815,
           0.7556083798408508,
           0.6285570859909058,
           0.8315377831459045,
           0.6939606666564941,
           0.6810768842697144,
           0.5985598564147949,
           0.607820987701416,
           0.6114155650138855,
           0.559997022151947,
           0.9999998807907104,
           0.7152339816093445,
           0.6896539926528931,
           0.532914400100708,
           0.5827248096466064,
           0.7757216095924377,
           0.6095481514930725,
           0.6045467257499695,
           0.7089118361473083,
           0.6078881025314331,
           0.6384283304214478,
           0.6925270557403564,
           0.623052716255188,
           0.578700840473175,
           0.6781840920448303,
           0.6855064630508423,
           0.6306734681129456,
           0.6053887009620667,
           0.6483171582221985,
           0.809886634349823,
           0.7381340265274048,
           0.6430165767669678,
           0.6100289821624756,
           0.6809262037277222
          ],
          [
           0.8393505811691284,
           0.9512051939964294,
           0.9226522445678711,
           0.6997947096824646,
           0.9303705096244812,
           0.9082419872283936,
           0.9051218032836914,
           0.8958829641342163,
           0.91358882188797,
           0.6462281942367554,
           0.9246882200241089,
           0.7170417308807373,
           0.9469622373580933,
           0.8719744682312012,
           0.9262015223503113,
           0.9225614070892334,
           0.9346423149108887,
           0.9049468040466309,
           0.9103671908378601,
           0.9307331442832947,
           0.8256721496582031,
           0.9072072505950928,
           0.9185526967048645,
           0.937204122543335,
           0.9053170084953308,
           0.857430100440979,
           0.9483741521835327,
           0.9332351684570312,
           0.92169189453125,
           0.6474372148513794,
           0.9415205717086792,
           0.8897773027420044,
           0.9200332760810852,
           0.9202619791030884,
           0.9166570901870728,
           0.9121873378753662,
           0.7152339816093445,
           1,
           0.9322562217712402,
           0.7130396366119385,
           0.9265282154083252,
           0.8405399322509766,
           0.9089704155921936,
           0.9075380563735962,
           0.7521721720695496,
           0.9011677503585815,
           0.9114887118339539,
           0.9262181520462036,
           0.9134801626205444,
           0.9175276160240173,
           0.9200682044029236,
           0.9170687794685364,
           0.9272742867469788,
           0.9207890033721924,
           0.9296164512634277,
           0.8465213179588318,
           0.8642438650131226,
           0.8947996497154236,
           0.9126541614532471,
           0.8820827007293701
          ],
          [
           0.8573482036590576,
           0.9551657438278198,
           0.9596853852272034,
           0.7157136797904968,
           0.9506424069404602,
           0.9269701838493347,
           0.9361504316329956,
           0.923882782459259,
           0.9363130331039429,
           0.6392316818237305,
           0.9631901383399963,
           0.7204908132553101,
           0.9545276165008545,
           0.9453906416893005,
           0.9442630410194397,
           0.9475605487823486,
           0.9571827054023743,
           0.9409365057945251,
           0.9487313628196716,
           0.9483501315116882,
           0.8344499468803406,
           0.9532860517501831,
           0.9406297206878662,
           0.9429531693458557,
           0.9402670860290527,
           0.8679569959640503,
           0.9319880604743958,
           0.912192702293396,
           0.9459636211395264,
           0.6361022591590881,
           0.9741454124450684,
           0.9250314235687256,
           0.9398895502090454,
           0.9361541271209717,
           0.940483570098877,
           0.9358150959014893,
           0.6896539926528931,
           0.9322562217712402,
           0.9999996423721313,
           0.7067670822143555,
           0.9486568570137024,
           0.8728310465812683,
           0.9442088603973389,
           0.9560666084289551,
           0.757642388343811,
           0.9512139558792114,
           0.9335802793502808,
           0.947837769985199,
           0.9424843788146973,
           0.938765287399292,
           0.9373624920845032,
           0.8542108535766602,
           0.9460656642913818,
           0.9353479146957397,
           0.9709965586662292,
           0.8545929193496704,
           0.8807082176208496,
           0.9199134111404419,
           0.9451264142990112,
           0.8986015319824219
          ],
          [
           0.7168788909912109,
           0.7303545475006104,
           0.7107125520706177,
           0.81780606508255,
           0.6937306523323059,
           0.8245140314102173,
           0.7297341823577881,
           0.7471132874488831,
           0.7246884107589722,
           0.7708424925804138,
           0.7026547193527222,
           0.7810909152030945,
           0.7404572367668152,
           0.6826132535934448,
           0.7286428213119507,
           0.7320728898048401,
           0.750394344329834,
           0.71329665184021,
           0.7175379395484924,
           0.7342956066131592,
           0.8174758553504944,
           0.7613049745559692,
           0.7645561695098877,
           0.7305173277854919,
           0.7521646618843079,
           0.85562664270401,
           0.730630099773407,
           0.710075855255127,
           0.7165448665618896,
           0.722524881362915,
           0.7157527208328247,
           0.7338223457336426,
           0.7342779636383057,
           0.7386898398399353,
           0.7399943470954895,
           0.7144589424133301,
           0.532914400100708,
           0.7130396366119385,
           0.7067670822143555,
           0.9999999403953552,
           0.742469072341919,
           0.7400870323181152,
           0.7176854014396667,
           0.7132551074028015,
           0.8876523375511169,
           0.7118569612503052,
           0.7461462020874023,
           0.7686816453933716,
           0.7121763229370117,
           0.751700222492218,
           0.758692741394043,
           0.7840833067893982,
           0.7739992141723633,
           0.7374507188796997,
           0.7316343188285828,
           0.7261753678321838,
           0.7446135878562927,
           0.7062645554542542,
           0.7110254168510437,
           0.7659826278686523
          ],
          [
           0.8359715938568115,
           0.9588667154312134,
           0.9212197065353394,
           0.7016995549201965,
           0.9566580057144165,
           0.9652042388916016,
           0.9604671001434326,
           0.9508437514305115,
           0.9955517649650574,
           0.6387962102890015,
           0.9618855118751526,
           0.7103147506713867,
           0.980696976184845,
           0.9367579817771912,
           0.9882514476776123,
           0.9884599447250366,
           0.992904543876648,
           0.9699687957763672,
           0.9714855551719666,
           0.9315788745880127,
           0.8232818841934204,
           0.9607827663421631,
           0.9932549595832825,
           0.9799644351005554,
           0.9716590046882629,
           0.8933882713317871,
           0.9784206748008728,
           0.9060870409011841,
           0.9842405915260315,
           0.593534529209137,
           0.9738748073577881,
           0.9343692064285278,
           0.993727445602417,
           0.9794895648956299,
           0.9804174900054932,
           0.9931433200836182,
           0.5827248096466064,
           0.9265282154083252,
           0.9486568570137024,
           0.742469072341919,
           1.0000001192092896,
           0.8603926301002502,
           0.9814130067825317,
           0.9811054468154907,
           0.754908561706543,
           0.9763755798339844,
           0.9653065204620361,
           0.9670670032501221,
           0.9806229472160339,
           0.9955474734306335,
           0.976476788520813,
           0.8808302879333496,
           0.9870277643203735,
           0.9793103933334351,
           0.9741775393486023,
           0.8063695430755615,
           0.890017569065094,
           0.951014518737793,
           0.9840154051780701,
           0.9209704399108887
          ],
          [
           0.9201902747154236,
           0.8831355571746826,
           0.8639404773712158,
           0.794888973236084,
           0.8462839126586914,
           0.8800927996635437,
           0.8793306946754456,
           0.9026349186897278,
           0.8432741761207581,
           0.6694733500480652,
           0.875752866268158,
           0.8035837411880493,
           0.9040523171424866,
           0.878680408000946,
           0.8681952953338623,
           0.8866642713546753,
           0.8912935256958008,
           0.8914600610733032,
           0.8766767382621765,
           0.9301063418388367,
           0.8953453898429871,
           0.9191786646842957,
           0.8599244356155396,
           0.8603479266166687,
           0.9403700232505798,
           0.8637263178825378,
           0.8551711440086365,
           0.9049662351608276,
           0.8747925162315369,
           0.7815797328948975,
           0.8861756324768066,
           0.8933321237564087,
           0.8639880418777466,
           0.8743789792060852,
           0.9122290015220642,
           0.8434396386146545,
           0.7757216095924377,
           0.8405399322509766,
           0.8728310465812683,
           0.7400870323181152,
           0.8603926301002502,
           1.0000003576278687,
           0.88057941198349,
           0.8756380677223206,
           0.835862934589386,
           0.8778300285339355,
           0.8899285793304443,
           0.9081783890724182,
           0.8961457014083862,
           0.8565555810928345,
           0.8981418609619141,
           0.8490546345710754,
           0.8835820555686951,
           0.8859212398529053,
           0.8865803480148315,
           0.8811293840408325,
           0.932077944278717,
           0.8613728284835815,
           0.8777790665626526,
           0.8771955966949463
          ],
          [
           0.8457149863243103,
           0.9509308338165283,
           0.91573566198349,
           0.6870209574699402,
           0.9511330723762512,
           0.9468533992767334,
           0.9460965394973755,
           0.932436466217041,
           0.981109619140625,
           0.6254109740257263,
           0.952842116355896,
           0.7050145268440247,
           0.9696113467216492,
           0.9649353623390198,
           0.973204493522644,
           0.9799790382385254,
           0.9774965643882751,
           0.9723517298698425,
           0.9758385419845581,
           0.9356445074081421,
           0.8188387751579285,
           0.9504077434539795,
           0.9752240180969238,
           0.9621376991271973,
           0.9708933234214783,
           0.880343496799469,
           0.9622101783752441,
           0.9093841910362244,
           0.9834970831871033,
           0.6086201667785645,
           0.972001850605011,
           0.9245715141296387,
           0.981053352355957,
           0.970298707485199,
           0.977436900138855,
           0.9803805351257324,
           0.6095481514930725,
           0.9089704155921936,
           0.9442088603973389,
           0.7176854014396667,
           0.9814130067825317,
           0.88057941198349,
           0.9999998807907104,
           0.9739828705787659,
           0.7503345608711243,
           0.9786714315414429,
           0.9528768062591553,
           0.9520678520202637,
           0.9908984899520874,
           0.9775645732879639,
           0.9680105447769165,
           0.8596852421760559,
           0.9658076167106628,
           0.962388277053833,
           0.9698889851570129,
           0.8070197105407715,
           0.8910059332847595,
           0.9488989114761353,
           0.9780941605567932,
           0.9101777076721191
          ],
          [
           0.8522629737854004,
           0.9464680552482605,
           0.9305168986320496,
           0.6806762218475342,
           0.9528018236160278,
           0.9452801942825317,
           0.9556246995925903,
           0.9451649785041809,
           0.9772816300392151,
           0.6173456907272339,
           0.9594353437423706,
           0.7078460454940796,
           0.9743431806564331,
           0.9559037685394287,
           0.9745184183120728,
           0.982595682144165,
           0.9815300107002258,
           0.9762145280838013,
           0.98506760597229,
           0.9356938600540161,
           0.8199710845947266,
           0.9712373614311218,
           0.9735924005508423,
           0.9621973633766174,
           0.9699441194534302,
           0.8727818131446838,
           0.9651983976364136,
           0.9081747531890869,
           0.9718924164772034,
           0.5974266529083252,
           0.9704612493515015,
           0.9381569623947144,
           0.9797286987304688,
           0.9685987234115601,
           0.9661808609962463,
           0.9759596586227417,
           0.6045467257499695,
           0.9075380563735962,
           0.9560666084289551,
           0.7132551074028015,
           0.9811054468154907,
           0.8756380677223206,
           0.9739828705787659,
           1,
           0.7428132891654968,
           0.9864240884780884,
           0.9612499475479126,
           0.9602869749069214,
           0.9783033132553101,
           0.9745945334434509,
           0.968520998954773,
           0.8690289258956909,
           0.9697922468185425,
           0.9786635637283325,
           0.9716593623161316,
           0.8138802647590637,
           0.9080178737640381,
           0.942801833152771,
           0.9774513244628906,
           0.9124029874801636
          ],
          [
           0.8473047614097595,
           0.7831873893737793,
           0.7495654821395874,
           0.906680166721344,
           0.7361749410629272,
           0.8660258054733276,
           0.7591506242752075,
           0.7776880264282227,
           0.7315837144851685,
           0.8493547439575195,
           0.7483461499214172,
           0.862022876739502,
           0.7794923782348633,
           0.741219162940979,
           0.7477830648422241,
           0.7656381130218506,
           0.7810022234916687,
           0.7587984800338745,
           0.7359246015548706,
           0.8068713545799255,
           0.9341318011283875,
           0.8048186898231506,
           0.7854273319244385,
           0.753692626953125,
           0.7861459851264954,
           0.9352179169654846,
           0.7414331436157227,
           0.7968588471412659,
           0.7344433665275574,
           0.8915777802467346,
           0.7565844058990479,
           0.7777116894721985,
           0.7536392211914062,
           0.7511168718338013,
           0.7616134285926819,
           0.7249823808670044,
           0.7089118361473083,
           0.7521721720695496,
           0.757642388343811,
           0.8876523375511169,
           0.754908561706543,
           0.835862934589386,
           0.7503345608711243,
           0.7428132891654968,
           1,
           0.750741183757782,
           0.7687854170799255,
           0.814929723739624,
           0.7450836300849915,
           0.7644624710083008,
           0.8041363954544067,
           0.8242976665496826,
           0.8012145757675171,
           0.7543752789497375,
           0.7743178606033325,
           0.8371560573577881,
           0.8127182722091675,
           0.7492213249206543,
           0.7456018328666687,
           0.8358319997787476
          ],
          [
           0.8565064668655396,
           0.9434620141983032,
           0.913790762424469,
           0.6868779063224792,
           0.9417814612388611,
           0.9425851702690125,
           0.9372004270553589,
           0.9394464492797852,
           0.9714445471763611,
           0.6237671971321106,
           0.9483715891838074,
           0.7072566747665405,
           0.9692835807800293,
           0.9640946984291077,
           0.9665411710739136,
           0.9778356552124023,
           0.9789115190505981,
           0.9700142741203308,
           0.9664170742034912,
           0.936093807220459,
           0.8239943981170654,
           0.9632524847984314,
           0.9682466387748718,
           0.9653049111366272,
           0.9625060558319092,
           0.8749342560768127,
           0.9552278518676758,
           0.8999017477035522,
           0.9660100936889648,
           0.608970046043396,
           0.9655524492263794,
           0.9289049506187439,
           0.9755243062973022,
           0.9568175673484802,
           0.9702881574630737,
           0.9732481837272644,
           0.6078881025314331,
           0.9011677503585815,
           0.9512139558792114,
           0.7118569612503052,
           0.9763755798339844,
           0.8778300285339355,
           0.9786714315414429,
           0.9864240884780884,
           0.750741183757782,
           1,
           0.9550256729125977,
           0.9580076932907104,
           0.973687469959259,
           0.9711229801177979,
           0.9653782844543457,
           0.8588923811912537,
           0.9646037817001343,
           0.9675201773643494,
           0.9655286073684692,
           0.8118970394134521,
           0.8995533585548401,
           0.9464933276176453,
           0.9764987826347351,
           0.9113332033157349
          ],
          [
           0.864333987236023,
           0.9373087882995605,
           0.9147766828536987,
           0.719723105430603,
           0.9373524188995361,
           0.9427493810653687,
           0.9525805711746216,
           0.9360771775245667,
           0.9521937966346741,
           0.64656001329422,
           0.943575382232666,
           0.7512452602386475,
           0.9692052602767944,
           0.9278203845024109,
           0.9601290225982666,
           0.9611026048660278,
           0.9710469841957092,
           0.9572398662567139,
           0.9512009024620056,
           0.9445303678512573,
           0.8487769365310669,
           0.9564860463142395,
           0.9562833309173584,
           0.9494066834449768,
           0.9613507986068726,
           0.8860151767730713,
           0.9503686428070068,
           0.9094378352165222,
           0.9565984606742859,
           0.6325856447219849,
           0.9583677649497986,
           0.9720286726951599,
           0.9567679762840271,
           0.9472653269767761,
           0.9567824006080627,
           0.9506067037582397,
           0.6384283304214478,
           0.9114887118339539,
           0.9335802793502808,
           0.7461462020874023,
           0.9653065204620361,
           0.8899285793304443,
           0.9528768062591553,
           0.9612499475479126,
           0.7687854170799255,
           0.9550256729125977,
           1,
           0.9626880884170532,
           0.9590457081794739,
           0.9574734568595886,
           0.9530420303344727,
           0.8825556039810181,
           0.9641791582107544,
           0.952890932559967,
           0.9577738046646118,
           0.8404636383056641,
           0.900665819644928,
           0.946876049041748,
           0.9505269527435303,
           0.9263003468513489
          ],
          [
           0.9193687438964844,
           0.9602130651473999,
           0.9242702722549438,
           0.7274570465087891,
           0.9429794549942017,
           0.9655838012695312,
           0.9583658576011658,
           0.947094738483429,
           0.949464738368988,
           0.6654878854751587,
           0.9520006775856018,
           0.7707606554031372,
           0.9704516530036926,
           0.926728367805481,
           0.9669502973556519,
           0.972673773765564,
           0.9879367351531982,
           0.952457070350647,
           0.9487128853797913,
           0.9756636023521423,
           0.9071481823921204,
           0.9602116346359253,
           0.962748646736145,
           0.9581742882728577,
           0.9567219018936157,
           0.9159664511680603,
           0.9490021467208862,
           0.9205859303474426,
           0.9551399350166321,
           0.6979919075965881,
           0.967699408531189,
           0.9562462568283081,
           0.9632633924484253,
           0.9541751146316528,
           0.9578314423561096,
           0.9506175518035889,
           0.6925270557403564,
           0.9262181520462036,
           0.947837769985199,
           0.7686816453933716,
           0.9670670032501221,
           0.9081783890724182,
           0.9520678520202637,
           0.9602869749069214,
           0.814929723739624,
           0.9580076932907104,
           0.9626880884170532,
           1.000000238418579,
           0.9521992206573486,
           0.9658066630363464,
           0.9765949249267578,
           0.910618782043457,
           0.985464334487915,
           0.9601889848709106,
           0.9583473205566406,
           0.8929210901260376,
           0.9414255619049072,
           0.9557590484619141,
           0.9524407982826233,
           0.9543999433517456
          ],
          [
           0.8496177792549133,
           0.947683572769165,
           0.9124231338500977,
           0.6858924031257629,
           0.9603984355926514,
           0.9384982585906982,
           0.9508875608444214,
           0.9320944547653198,
           0.9789915680885315,
           0.6139301061630249,
           0.955392062664032,
           0.7078714966773987,
           0.9790841341018677,
           0.9580980539321899,
           0.9743080735206604,
           0.9826029539108276,
           0.9781963229179382,
           0.9862951040267944,
           0.9793046712875366,
           0.9402374625205994,
           0.8163663744926453,
           0.9586308002471924,
           0.9698277711868286,
           0.9595968723297119,
           0.9814090132713318,
           0.8697481155395508,
           0.9688733816146851,
           0.9242575168609619,
           0.9841245412826538,
           0.605919599533081,
           0.975128173828125,
           0.9307713508605957,
           0.9798932075500488,
           0.9694921970367432,
           0.9753140807151794,
           0.9789270162582397,
           0.623052716255188,
           0.9134801626205444,
           0.9424843788146973,
           0.7121763229370117,
           0.9806229472160339,
           0.8961457014083862,
           0.9908984899520874,
           0.9783033132553101,
           0.7450836300849915,
           0.973687469959259,
           0.9590457081794739,
           0.9521992206573486,
           1,
           0.9730331301689148,
           0.966769814491272,
           0.8665273189544678,
           0.9627724289894104,
           0.9660875797271729,
           0.9676079154014587,
           0.8078380227088928,
           0.8957210779190063,
           0.9405067563056946,
           0.9795784950256348,
           0.9089773893356323
          ],
          [
           0.8370147943496704,
           0.9545953273773193,
           0.9098839163780212,
           0.7063443064689636,
           0.9480457305908203,
           0.9740291833877563,
           0.954239010810852,
           0.9506449699401855,
           0.994465172290802,
           0.641659140586853,
           0.9533912539482117,
           0.7112051844596863,
           0.9743841886520386,
           0.9282394647598267,
           0.9870973229408264,
           0.9857821464538574,
           0.9886069297790527,
           0.9634062051773071,
           0.9622611403465271,
           0.9215601682662964,
           0.8352317810058594,
           0.9531692862510681,
           0.9966905117034912,
           0.9733449220657349,
           0.9678154587745667,
           0.903160572052002,
           0.9692516326904297,
           0.9067263603210449,
           0.9800360798835754,
           0.6052424907684326,
           0.9659020900726318,
           0.92398601770401,
           0.9948008060455322,
           0.977074921131134,
           0.9778732657432556,
           0.9894580245018005,
           0.578700840473175,
           0.9175276160240173,
           0.938765287399292,
           0.751700222492218,
           0.9955474734306335,
           0.8565555810928345,
           0.9775645732879639,
           0.9745945334434509,
           0.7644624710083008,
           0.9711229801177979,
           0.9574734568595886,
           0.9658066630363464,
           0.9730331301689148,
           0.9999999403953552,
           0.9815462827682495,
           0.8798201084136963,
           0.990955650806427,
           0.9770255088806152,
           0.9663491249084473,
           0.8034006953239441,
           0.8904838562011719,
           0.9448338150978088,
           0.9765722751617432,
           0.9188089966773987
          ],
          [
           0.9108591079711914,
           0.9578256607055664,
           0.9069464802742004,
           0.7281548380851746,
           0.9534890055656433,
           0.9717237949371338,
           0.9476032257080078,
           0.9433682560920715,
           0.9744811058044434,
           0.663908064365387,
           0.9508436918258667,
           0.7534033060073853,
           0.9714155197143555,
           0.9259905219078064,
           0.9794413447380066,
           0.9900630712509155,
           0.9842235445976257,
           0.9669857025146484,
           0.9572743773460388,
           0.9474902749061584,
           0.8934329152107239,
           0.9562640190124512,
           0.9786086082458496,
           0.9618330001831055,
           0.9639958143234253,
           0.9180521965026855,
           0.9571561813354492,
           0.9290643930435181,
           0.97139972448349,
           0.6962432861328125,
           0.9691427946090698,
           0.9366564750671387,
           0.9881876111030579,
           0.9660435914993286,
           0.9668677449226379,
           0.9699634313583374,
           0.6781840920448303,
           0.9200682044029236,
           0.9373624920845032,
           0.758692741394043,
           0.976476788520813,
           0.8981418609619141,
           0.9680105447769165,
           0.968520998954773,
           0.8041363954544067,
           0.9653782844543457,
           0.9530420303344727,
           0.9765949249267578,
           0.966769814491272,
           0.9815462827682495,
           1.000000238418579,
           0.8998652100563049,
           0.9829707145690918,
           0.9717206954956055,
           0.9599984288215637,
           0.8540544509887695,
           0.9322725534439087,
           0.9439700841903687,
           0.9706500768661499,
           0.94232177734375
          ],
          [
           0.8623481392860413,
           0.8842790722846985,
           0.8474851846694946,
           0.7512126564979553,
           0.8581603765487671,
           0.9093822836875916,
           0.8729901313781738,
           0.8615272045135498,
           0.8643179535865784,
           0.7274488210678101,
           0.8611239194869995,
           0.7929699420928955,
           0.9049806594848633,
           0.8186531662940979,
           0.8783320784568787,
           0.886172354221344,
           0.8975788354873657,
           0.8711799383163452,
           0.8678461909294128,
           0.8907221555709839,
           0.8766701221466064,
           0.8826733827590942,
           0.8885189890861511,
           0.8785816431045532,
           0.8730343580245972,
           0.8940868973731995,
           0.9320452809333801,
           0.8850202560424805,
           0.8586989641189575,
           0.7268332242965698,
           0.8689569234848022,
           0.8687306642532349,
           0.8799665570259094,
           0.8686760067939758,
           0.8735251426696777,
           0.8535528779029846,
           0.6855064630508423,
           0.9170687794685364,
           0.8542108535766602,
           0.7840833067893982,
           0.8808302879333496,
           0.8490546345710754,
           0.8596852421760559,
           0.8690289258956909,
           0.8242976665496826,
           0.8588923811912537,
           0.8825556039810181,
           0.910618782043457,
           0.8665273189544678,
           0.8798201084136963,
           0.8998652100563049,
           1.000000238418579,
           0.9050495624542236,
           0.8944823741912842,
           0.876808226108551,
           0.8660742044448853,
           0.8753082752227783,
           0.850584864616394,
           0.8593851327896118,
           0.9007037878036499
          ],
          [
           0.8753493428230286,
           0.9631441831588745,
           0.9203968644142151,
           0.735019326210022,
           0.9448689222335815,
           0.9856593608856201,
           0.9594492316246033,
           0.9587015509605408,
           0.976132869720459,
           0.6744046807289124,
           0.954378604888916,
           0.7499257326126099,
           0.9754704236984253,
           0.9267383813858032,
           0.9806193113327026,
           0.9785598516464233,
           0.9913139343261719,
           0.9571616649627686,
           0.9566963315010071,
           0.9483630657196045,
           0.8801347017288208,
           0.957847535610199,
           0.990764856338501,
           0.9700397253036499,
           0.9660910964012146,
           0.9284855723381042,
           0.9614232778549194,
           0.9203822612762451,
           0.9703897833824158,
           0.655744194984436,
           0.9694885015487671,
           0.9404767751693726,
           0.9820765852928162,
           0.9727057218551636,
           0.9718164205551147,
           0.9706645011901855,
           0.6306734681129456,
           0.9272742867469788,
           0.9460656642913818,
           0.7739992141723633,
           0.9870277643203735,
           0.8835820555686951,
           0.9658076167106628,
           0.9697922468185425,
           0.8012145757675171,
           0.9646037817001343,
           0.9641791582107544,
           0.985464334487915,
           0.9627724289894104,
           0.990955650806427,
           0.9829707145690918,
           0.9050495624542236,
           0.9999999403953552,
           0.9746757745742798,
           0.9649698138237,
           0.8551905751228333,
           0.9202114343643188,
           0.9492958784103394,
           0.9637843370437622,
           0.9413610696792603
          ],
          [
           0.849025309085846,
           0.9488462209701538,
           0.9099320769309998,
           0.7021915912628174,
           0.9366139769554138,
           0.9516793489456177,
           0.9486278295516968,
           0.9642751216888428,
           0.9759120345115662,
           0.6364569664001465,
           0.9489567279815674,
           0.7156681418418884,
           0.9730294942855835,
           0.9146454930305481,
           0.9756237268447876,
           0.9791887402534485,
           0.9795142412185669,
           0.9608474969863892,
           0.9702253937721252,
           0.9338106513023376,
           0.8291803598403931,
           0.9605934619903564,
           0.9746851921081543,
           0.9743344783782959,
           0.970640242099762,
           0.8803661465644836,
           0.9710454940795898,
           0.9004061222076416,
           0.9726276397705078,
           0.6095774173736572,
           0.962486982345581,
           0.9252187013626099,
           0.9802032709121704,
           0.9839454293251038,
           0.9765440225601196,
           0.9708245992660522,
           0.6053887009620667,
           0.9207890033721924,
           0.9353479146957397,
           0.7374507188796997,
           0.9793103933334351,
           0.8859212398529053,
           0.962388277053833,
           0.9786635637283325,
           0.7543752789497375,
           0.9675201773643494,
           0.952890932559967,
           0.9601889848709106,
           0.9660875797271729,
           0.9770255088806152,
           0.9717206954956055,
           0.8944823741912842,
           0.9746757745742798,
           1,
           0.9577339887619019,
           0.8186275959014893,
           0.9381291270256042,
           0.936569333076477,
           0.9710016250610352,
           0.9102470874786377
          ],
          [
           0.8545973300933838,
           0.9563704133033752,
           0.9573079347610474,
           0.7340617179870605,
           0.956159234046936,
           0.9476246237754822,
           0.9585341215133667,
           0.9380852580070496,
           0.9675307273864746,
           0.6440014839172363,
           0.9711335897445679,
           0.7323373556137085,
           0.9722082018852234,
           0.9478751420974731,
           0.9632984399795532,
           0.9708212018013,
           0.9748973846435547,
           0.9623672962188721,
           0.9716331958770752,
           0.9433031678199768,
           0.8357330560684204,
           0.9761819839477539,
           0.9679439067840576,
           0.9681079387664795,
           0.9688360691070557,
           0.8866724967956543,
           0.9620643854141235,
           0.9065701961517334,
           0.9684767127037048,
           0.6327966451644897,
           0.9711787700653076,
           0.9392607808113098,
           0.9686284065246582,
           0.9652599692344666,
           0.9659079909324646,
           0.9660751223564148,
           0.6483171582221985,
           0.9296164512634277,
           0.9709965586662292,
           0.7316343188285828,
           0.9741775393486023,
           0.8865803480148315,
           0.9698889851570129,
           0.9716593623161316,
           0.7743178606033325,
           0.9655286073684692,
           0.9577738046646118,
           0.9583473205566406,
           0.9676079154014587,
           0.9663491249084473,
           0.9599984288215637,
           0.876808226108551,
           0.9649698138237,
           0.9577339887619019,
           0.9999998807907104,
           0.8366696238517761,
           0.8909830451011658,
           0.9380688667297363,
           0.9675968885421753,
           0.9118568897247314
          ],
          [
           0.9191794395446777,
           0.864638090133667,
           0.8515815734863281,
           0.7484371662139893,
           0.8178921341896057,
           0.8606327176094055,
           0.8393457531929016,
           0.8350554704666138,
           0.7768194675445557,
           0.7081419229507446,
           0.8295842409133911,
           0.8164963126182556,
           0.8418654799461365,
           0.8271163702011108,
           0.8139122128486633,
           0.8263682126998901,
           0.8485998511314392,
           0.8038918972015381,
           0.8166817426681519,
           0.9128817915916443,
           0.9184757471084595,
           0.8416251540184021,
           0.8127793073654175,
           0.8185425996780396,
           0.8300219178199768,
           0.8702292442321777,
           0.8059796094894409,
           0.8613434433937073,
           0.8103735446929932,
           0.8067240118980408,
           0.857163667678833,
           0.8547819256782532,
           0.8042429089546204,
           0.8171036243438721,
           0.8188159465789795,
           0.7741196155548096,
           0.809886634349823,
           0.8465213179588318,
           0.8545929193496704,
           0.7261753678321838,
           0.8063695430755615,
           0.8811293840408325,
           0.8070197105407715,
           0.8138802647590637,
           0.8371560573577881,
           0.8118970394134521,
           0.8404636383056641,
           0.8929210901260376,
           0.8078380227088928,
           0.8034006953239441,
           0.8540544509887695,
           0.8660742044448853,
           0.8551905751228333,
           0.8186275959014893,
           0.8366696238517761,
           1.0000001192092896,
           0.8881508708000183,
           0.8418663740158081,
           0.7995402216911316,
           0.8613824844360352
          ],
          [
           0.9295293092727661,
           0.9050387144088745,
           0.8679438829421997,
           0.7370467185974121,
           0.8726129531860352,
           0.9116777777671814,
           0.8928289413452148,
           0.9204901456832886,
           0.8727173805236816,
           0.6640764474868774,
           0.8850433826446533,
           0.7782324552536011,
           0.9065314531326294,
           0.8649372458457947,
           0.8973056077957153,
           0.9131614565849304,
           0.9198386669158936,
           0.8958050012588501,
           0.9111714363098145,
           0.9475817680358887,
           0.9102870225906372,
           0.9118610620498657,
           0.8922648429870605,
           0.9065943360328674,
           0.9165650606155396,
           0.8842191696166992,
           0.87873774766922,
           0.8732093572616577,
           0.9014838933944702,
           0.7524123787879944,
           0.911635160446167,
           0.9029238820075989,
           0.8973349332809448,
           0.927198588848114,
           0.9066897034645081,
           0.8699616193771362,
           0.7381340265274048,
           0.8642438650131226,
           0.8807082176208496,
           0.7446135878562927,
           0.890017569065094,
           0.932077944278717,
           0.8910059332847595,
           0.9080178737640381,
           0.8127182722091675,
           0.8995533585548401,
           0.900665819644928,
           0.9414255619049072,
           0.8957210779190063,
           0.8904838562011719,
           0.9322725534439087,
           0.8753082752227783,
           0.9202114343643188,
           0.9381291270256042,
           0.8909830451011658,
           0.8881508708000183,
           1.0000003576278687,
           0.895337700843811,
           0.89033442735672,
           0.9167101979255676
          ],
          [
           0.8701708316802979,
           0.9333418607711792,
           0.9041750431060791,
           0.6921281814575195,
           0.9241153001785278,
           0.9239746928215027,
           0.9513490796089172,
           0.9206342697143555,
           0.9405341744422913,
           0.6593552827835083,
           0.9379221796989441,
           0.7038676738739014,
           0.9415616989135742,
           0.9244933724403381,
           0.9610142111778259,
           0.955987274646759,
           0.9626868963241577,
           0.9266898036003113,
           0.9312111735343933,
           0.9448495507240295,
           0.8384436368942261,
           0.9232949614524841,
           0.9374744296073914,
           0.9464974403381348,
           0.9341426491737366,
           0.8707880973815918,
           0.9308273792266846,
           0.8738372325897217,
           0.9472615718841553,
           0.6296156048774719,
           0.9474519491195679,
           0.9355123043060303,
           0.9462845325469971,
           0.9378183484077454,
           0.9459869861602783,
           0.9428582191467285,
           0.6430165767669678,
           0.8947996497154236,
           0.9199134111404419,
           0.7062645554542542,
           0.951014518737793,
           0.8613728284835815,
           0.9488989114761353,
           0.942801833152771,
           0.7492213249206543,
           0.9464933276176453,
           0.946876049041748,
           0.9557590484619141,
           0.9405067563056946,
           0.9448338150978088,
           0.9439700841903687,
           0.850584864616394,
           0.9492958784103394,
           0.936569333076477,
           0.9380688667297363,
           0.8418663740158081,
           0.895337700843811,
           1.000000238418579,
           0.9464883804321289,
           0.9158097505569458
          ],
          [
           0.8503773212432861,
           0.9480068683624268,
           0.9118900299072266,
           0.6906716823577881,
           0.9495269656181335,
           0.9398008584976196,
           0.9508751630783081,
           0.9397615194320679,
           0.9835038781166077,
           0.627651572227478,
           0.9596487879753113,
           0.6930451989173889,
           0.9762536287307739,
           0.9388437867164612,
           0.9790734648704529,
           0.9888893365859985,
           0.9831700325012207,
           0.9708065986633301,
           0.9651619791984558,
           0.931376576423645,
           0.8162844777107239,
           0.9599700570106506,
           0.9710222482681274,
           0.9663856625556946,
           0.9700461626052856,
           0.8715512156486511,
           0.9685792326927185,
           0.9081637263298035,
           0.9765353202819824,
           0.6064871549606323,
           0.9669906497001648,
           0.9306384921073914,
           0.9838851094245911,
           0.9640015959739685,
           0.977778971195221,
           0.9846487045288086,
           0.6100289821624756,
           0.9126541614532471,
           0.9451264142990112,
           0.7110254168510437,
           0.9840154051780701,
           0.8777790665626526,
           0.9780941605567932,
           0.9774513244628906,
           0.7456018328666687,
           0.9764987826347351,
           0.9505269527435303,
           0.9524407982826233,
           0.9795784950256348,
           0.9765722751617432,
           0.9706500768661499,
           0.8593851327896118,
           0.9637843370437622,
           0.9710016250610352,
           0.9675968885421753,
           0.7995402216911316,
           0.89033442735672,
           0.9464883804321289,
           1,
           0.9081793427467346
          ],
          [
           0.9231190085411072,
           0.9115630984306335,
           0.8718461990356445,
           0.757693350315094,
           0.9047154188156128,
           0.945564329624176,
           0.9070916771888733,
           0.9004647731781006,
           0.9025386571884155,
           0.7287675142288208,
           0.896095335483551,
           0.7952194213867188,
           0.9138917922973633,
           0.8891541957855225,
           0.9195319414138794,
           0.9320602416992188,
           0.9411898255348206,
           0.9145805835723877,
           0.9019041061401367,
           0.9311181306838989,
           0.9176764488220215,
           0.9063853621482849,
           0.9225310683250427,
           0.9055395126342773,
           0.9059932231903076,
           0.935571551322937,
           0.9013715982437134,
           0.8825943470001221,
           0.903110682964325,
           0.730117678642273,
           0.9162808656692505,
           0.92030930519104,
           0.9176831245422363,
           0.8999167084693909,
           0.9040736556053162,
           0.8973972797393799,
           0.6809262037277222,
           0.8820827007293701,
           0.8986015319824219,
           0.7659826278686523,
           0.9209704399108887,
           0.8771955966949463,
           0.9101777076721191,
           0.9124029874801636,
           0.8358319997787476,
           0.9113332033157349,
           0.9263003468513489,
           0.9543999433517456,
           0.9089773893356323,
           0.9188089966773987,
           0.94232177734375,
           0.9007037878036499,
           0.9413610696792603,
           0.9102470874786377,
           0.9118568897247314,
           0.8613824844360352,
           0.9167101979255676,
           0.9158097505569458,
           0.9081793427467346,
           1.000000238418579
          ]
         ]
        }
       ],
       "layout": {
        "coloraxis": {
         "colorbar": {
          "title": {
           "text": "Similarity Score"
          }
         },
         "colorscale": [
          [
           0,
           "rgb(247,252,240)"
          ],
          [
           0.125,
           "rgb(224,243,219)"
          ],
          [
           0.25,
           "rgb(204,235,197)"
          ],
          [
           0.375,
           "rgb(168,221,181)"
          ],
          [
           0.5,
           "rgb(123,204,196)"
          ],
          [
           0.625,
           "rgb(78,179,211)"
          ],
          [
           0.75,
           "rgb(43,140,190)"
          ],
          [
           0.875,
           "rgb(8,104,172)"
          ],
          [
           1,
           "rgb(8,64,129)"
          ]
         ]
        },
        "height": 800,
        "hoverlabel": {
         "bgcolor": "white",
         "font": {
          "family": "Rockwell",
          "size": 16
         }
        },
        "legend": {
         "title": {
          "text": "Trend"
         }
        },
        "margin": {
         "t": 60
        },
        "showlegend": true,
        "template": {
         "data": {
          "bar": [
           {
            "error_x": {
             "color": "#2a3f5f"
            },
            "error_y": {
             "color": "#2a3f5f"
            },
            "marker": {
             "line": {
              "color": "#E5ECF6",
              "width": 0.5
             },
             "pattern": {
              "fillmode": "overlay",
              "size": 10,
              "solidity": 0.2
             }
            },
            "type": "bar"
           }
          ],
          "barpolar": [
           {
            "marker": {
             "line": {
              "color": "#E5ECF6",
              "width": 0.5
             },
             "pattern": {
              "fillmode": "overlay",
              "size": 10,
              "solidity": 0.2
             }
            },
            "type": "barpolar"
           }
          ],
          "carpet": [
           {
            "aaxis": {
             "endlinecolor": "#2a3f5f",
             "gridcolor": "white",
             "linecolor": "white",
             "minorgridcolor": "white",
             "startlinecolor": "#2a3f5f"
            },
            "baxis": {
             "endlinecolor": "#2a3f5f",
             "gridcolor": "white",
             "linecolor": "white",
             "minorgridcolor": "white",
             "startlinecolor": "#2a3f5f"
            },
            "type": "carpet"
           }
          ],
          "choropleth": [
           {
            "colorbar": {
             "outlinewidth": 0,
             "ticks": ""
            },
            "type": "choropleth"
           }
          ],
          "contour": [
           {
            "colorbar": {
             "outlinewidth": 0,
             "ticks": ""
            },
            "colorscale": [
             [
              0,
              "#0d0887"
             ],
             [
              0.1111111111111111,
              "#46039f"
             ],
             [
              0.2222222222222222,
              "#7201a8"
             ],
             [
              0.3333333333333333,
              "#9c179e"
             ],
             [
              0.4444444444444444,
              "#bd3786"
             ],
             [
              0.5555555555555556,
              "#d8576b"
             ],
             [
              0.6666666666666666,
              "#ed7953"
             ],
             [
              0.7777777777777778,
              "#fb9f3a"
             ],
             [
              0.8888888888888888,
              "#fdca26"
             ],
             [
              1,
              "#f0f921"
             ]
            ],
            "type": "contour"
           }
          ],
          "contourcarpet": [
           {
            "colorbar": {
             "outlinewidth": 0,
             "ticks": ""
            },
            "type": "contourcarpet"
           }
          ],
          "heatmap": [
           {
            "colorbar": {
             "outlinewidth": 0,
             "ticks": ""
            },
            "colorscale": [
             [
              0,
              "#0d0887"
             ],
             [
              0.1111111111111111,
              "#46039f"
             ],
             [
              0.2222222222222222,
              "#7201a8"
             ],
             [
              0.3333333333333333,
              "#9c179e"
             ],
             [
              0.4444444444444444,
              "#bd3786"
             ],
             [
              0.5555555555555556,
              "#d8576b"
             ],
             [
              0.6666666666666666,
              "#ed7953"
             ],
             [
              0.7777777777777778,
              "#fb9f3a"
             ],
             [
              0.8888888888888888,
              "#fdca26"
             ],
             [
              1,
              "#f0f921"
             ]
            ],
            "type": "heatmap"
           }
          ],
          "heatmapgl": [
           {
            "colorbar": {
             "outlinewidth": 0,
             "ticks": ""
            },
            "colorscale": [
             [
              0,
              "#0d0887"
             ],
             [
              0.1111111111111111,
              "#46039f"
             ],
             [
              0.2222222222222222,
              "#7201a8"
             ],
             [
              0.3333333333333333,
              "#9c179e"
             ],
             [
              0.4444444444444444,
              "#bd3786"
             ],
             [
              0.5555555555555556,
              "#d8576b"
             ],
             [
              0.6666666666666666,
              "#ed7953"
             ],
             [
              0.7777777777777778,
              "#fb9f3a"
             ],
             [
              0.8888888888888888,
              "#fdca26"
             ],
             [
              1,
              "#f0f921"
             ]
            ],
            "type": "heatmapgl"
           }
          ],
          "histogram": [
           {
            "marker": {
             "pattern": {
              "fillmode": "overlay",
              "size": 10,
              "solidity": 0.2
             }
            },
            "type": "histogram"
           }
          ],
          "histogram2d": [
           {
            "colorbar": {
             "outlinewidth": 0,
             "ticks": ""
            },
            "colorscale": [
             [
              0,
              "#0d0887"
             ],
             [
              0.1111111111111111,
              "#46039f"
             ],
             [
              0.2222222222222222,
              "#7201a8"
             ],
             [
              0.3333333333333333,
              "#9c179e"
             ],
             [
              0.4444444444444444,
              "#bd3786"
             ],
             [
              0.5555555555555556,
              "#d8576b"
             ],
             [
              0.6666666666666666,
              "#ed7953"
             ],
             [
              0.7777777777777778,
              "#fb9f3a"
             ],
             [
              0.8888888888888888,
              "#fdca26"
             ],
             [
              1,
              "#f0f921"
             ]
            ],
            "type": "histogram2d"
           }
          ],
          "histogram2dcontour": [
           {
            "colorbar": {
             "outlinewidth": 0,
             "ticks": ""
            },
            "colorscale": [
             [
              0,
              "#0d0887"
             ],
             [
              0.1111111111111111,
              "#46039f"
             ],
             [
              0.2222222222222222,
              "#7201a8"
             ],
             [
              0.3333333333333333,
              "#9c179e"
             ],
             [
              0.4444444444444444,
              "#bd3786"
             ],
             [
              0.5555555555555556,
              "#d8576b"
             ],
             [
              0.6666666666666666,
              "#ed7953"
             ],
             [
              0.7777777777777778,
              "#fb9f3a"
             ],
             [
              0.8888888888888888,
              "#fdca26"
             ],
             [
              1,
              "#f0f921"
             ]
            ],
            "type": "histogram2dcontour"
           }
          ],
          "mesh3d": [
           {
            "colorbar": {
             "outlinewidth": 0,
             "ticks": ""
            },
            "type": "mesh3d"
           }
          ],
          "parcoords": [
           {
            "line": {
             "colorbar": {
              "outlinewidth": 0,
              "ticks": ""
             }
            },
            "type": "parcoords"
           }
          ],
          "pie": [
           {
            "automargin": true,
            "type": "pie"
           }
          ],
          "scatter": [
           {
            "fillpattern": {
             "fillmode": "overlay",
             "size": 10,
             "solidity": 0.2
            },
            "type": "scatter"
           }
          ],
          "scatter3d": [
           {
            "line": {
             "colorbar": {
              "outlinewidth": 0,
              "ticks": ""
             }
            },
            "marker": {
             "colorbar": {
              "outlinewidth": 0,
              "ticks": ""
             }
            },
            "type": "scatter3d"
           }
          ],
          "scattercarpet": [
           {
            "marker": {
             "colorbar": {
              "outlinewidth": 0,
              "ticks": ""
             }
            },
            "type": "scattercarpet"
           }
          ],
          "scattergeo": [
           {
            "marker": {
             "colorbar": {
              "outlinewidth": 0,
              "ticks": ""
             }
            },
            "type": "scattergeo"
           }
          ],
          "scattergl": [
           {
            "marker": {
             "colorbar": {
              "outlinewidth": 0,
              "ticks": ""
             }
            },
            "type": "scattergl"
           }
          ],
          "scattermapbox": [
           {
            "marker": {
             "colorbar": {
              "outlinewidth": 0,
              "ticks": ""
             }
            },
            "type": "scattermapbox"
           }
          ],
          "scatterpolar": [
           {
            "marker": {
             "colorbar": {
              "outlinewidth": 0,
              "ticks": ""
             }
            },
            "type": "scatterpolar"
           }
          ],
          "scatterpolargl": [
           {
            "marker": {
             "colorbar": {
              "outlinewidth": 0,
              "ticks": ""
             }
            },
            "type": "scatterpolargl"
           }
          ],
          "scatterternary": [
           {
            "marker": {
             "colorbar": {
              "outlinewidth": 0,
              "ticks": ""
             }
            },
            "type": "scatterternary"
           }
          ],
          "surface": [
           {
            "colorbar": {
             "outlinewidth": 0,
             "ticks": ""
            },
            "colorscale": [
             [
              0,
              "#0d0887"
             ],
             [
              0.1111111111111111,
              "#46039f"
             ],
             [
              0.2222222222222222,
              "#7201a8"
             ],
             [
              0.3333333333333333,
              "#9c179e"
             ],
             [
              0.4444444444444444,
              "#bd3786"
             ],
             [
              0.5555555555555556,
              "#d8576b"
             ],
             [
              0.6666666666666666,
              "#ed7953"
             ],
             [
              0.7777777777777778,
              "#fb9f3a"
             ],
             [
              0.8888888888888888,
              "#fdca26"
             ],
             [
              1,
              "#f0f921"
             ]
            ],
            "type": "surface"
           }
          ],
          "table": [
           {
            "cells": {
             "fill": {
              "color": "#EBF0F8"
             },
             "line": {
              "color": "white"
             }
            },
            "header": {
             "fill": {
              "color": "#C8D4E3"
             },
             "line": {
              "color": "white"
             }
            },
            "type": "table"
           }
          ]
         },
         "layout": {
          "annotationdefaults": {
           "arrowcolor": "#2a3f5f",
           "arrowhead": 0,
           "arrowwidth": 1
          },
          "autotypenumbers": "strict",
          "coloraxis": {
           "colorbar": {
            "outlinewidth": 0,
            "ticks": ""
           }
          },
          "colorscale": {
           "diverging": [
            [
             0,
             "#8e0152"
            ],
            [
             0.1,
             "#c51b7d"
            ],
            [
             0.2,
             "#de77ae"
            ],
            [
             0.3,
             "#f1b6da"
            ],
            [
             0.4,
             "#fde0ef"
            ],
            [
             0.5,
             "#f7f7f7"
            ],
            [
             0.6,
             "#e6f5d0"
            ],
            [
             0.7,
             "#b8e186"
            ],
            [
             0.8,
             "#7fbc41"
            ],
            [
             0.9,
             "#4d9221"
            ],
            [
             1,
             "#276419"
            ]
           ],
           "sequential": [
            [
             0,
             "#0d0887"
            ],
            [
             0.1111111111111111,
             "#46039f"
            ],
            [
             0.2222222222222222,
             "#7201a8"
            ],
            [
             0.3333333333333333,
             "#9c179e"
            ],
            [
             0.4444444444444444,
             "#bd3786"
            ],
            [
             0.5555555555555556,
             "#d8576b"
            ],
            [
             0.6666666666666666,
             "#ed7953"
            ],
            [
             0.7777777777777778,
             "#fb9f3a"
            ],
            [
             0.8888888888888888,
             "#fdca26"
            ],
            [
             1,
             "#f0f921"
            ]
           ],
           "sequentialminus": [
            [
             0,
             "#0d0887"
            ],
            [
             0.1111111111111111,
             "#46039f"
            ],
            [
             0.2222222222222222,
             "#7201a8"
            ],
            [
             0.3333333333333333,
             "#9c179e"
            ],
            [
             0.4444444444444444,
             "#bd3786"
            ],
            [
             0.5555555555555556,
             "#d8576b"
            ],
            [
             0.6666666666666666,
             "#ed7953"
            ],
            [
             0.7777777777777778,
             "#fb9f3a"
            ],
            [
             0.8888888888888888,
             "#fdca26"
            ],
            [
             1,
             "#f0f921"
            ]
           ]
          },
          "colorway": [
           "#636efa",
           "#EF553B",
           "#00cc96",
           "#ab63fa",
           "#FFA15A",
           "#19d3f3",
           "#FF6692",
           "#B6E880",
           "#FF97FF",
           "#FECB52"
          ],
          "font": {
           "color": "#2a3f5f"
          },
          "geo": {
           "bgcolor": "white",
           "lakecolor": "white",
           "landcolor": "#E5ECF6",
           "showlakes": true,
           "showland": true,
           "subunitcolor": "white"
          },
          "hoverlabel": {
           "align": "left"
          },
          "hovermode": "closest",
          "mapbox": {
           "style": "light"
          },
          "paper_bgcolor": "white",
          "plot_bgcolor": "#E5ECF6",
          "polar": {
           "angularaxis": {
            "gridcolor": "white",
            "linecolor": "white",
            "ticks": ""
           },
           "bgcolor": "#E5ECF6",
           "radialaxis": {
            "gridcolor": "white",
            "linecolor": "white",
            "ticks": ""
           }
          },
          "scene": {
           "xaxis": {
            "backgroundcolor": "#E5ECF6",
            "gridcolor": "white",
            "gridwidth": 2,
            "linecolor": "white",
            "showbackground": true,
            "ticks": "",
            "zerolinecolor": "white"
           },
           "yaxis": {
            "backgroundcolor": "#E5ECF6",
            "gridcolor": "white",
            "gridwidth": 2,
            "linecolor": "white",
            "showbackground": true,
            "ticks": "",
            "zerolinecolor": "white"
           },
           "zaxis": {
            "backgroundcolor": "#E5ECF6",
            "gridcolor": "white",
            "gridwidth": 2,
            "linecolor": "white",
            "showbackground": true,
            "ticks": "",
            "zerolinecolor": "white"
           }
          },
          "shapedefaults": {
           "line": {
            "color": "#2a3f5f"
           }
          },
          "ternary": {
           "aaxis": {
            "gridcolor": "white",
            "linecolor": "white",
            "ticks": ""
           },
           "baxis": {
            "gridcolor": "white",
            "linecolor": "white",
            "ticks": ""
           },
           "bgcolor": "#E5ECF6",
           "caxis": {
            "gridcolor": "white",
            "linecolor": "white",
            "ticks": ""
           }
          },
          "title": {
           "x": 0.05
          },
          "xaxis": {
           "automargin": true,
           "gridcolor": "white",
           "linecolor": "white",
           "ticks": "",
           "title": {
            "standoff": 15
           },
           "zerolinecolor": "white",
           "zerolinewidth": 2
          },
          "yaxis": {
           "automargin": true,
           "gridcolor": "white",
           "linecolor": "white",
           "ticks": "",
           "title": {
            "standoff": 15
           },
           "zerolinecolor": "white",
           "zerolinewidth": 2
          }
         }
        },
        "title": {
         "font": {
          "color": "Black",
          "size": 22
         },
         "text": "<b>Similarity Matrix</b>",
         "x": 0.55,
         "xanchor": "center",
         "y": 0.95,
         "yanchor": "top"
        },
        "width": 800,
        "xaxis": {
         "anchor": "y",
         "constrain": "domain",
         "domain": [
          0,
          1
         ],
         "scaleanchor": "y"
        },
        "yaxis": {
         "anchor": "x",
         "autorange": "reversed",
         "constrain": "domain",
         "domain": [
          0,
          1
         ]
        }
       }
      }
     },
     "metadata": {},
     "output_type": "display_data"
    }
   ],
   "source": [
    "# To visualize the correlation of topics\n",
    "topic_model.visualize_heatmap()"
   ]
  },
  {
   "cell_type": "code",
   "execution_count": 19,
   "metadata": {},
   "outputs": [
    {
     "data": {
      "application/vnd.plotly.v1+json": {
       "config": {
        "plotlyServerURL": "https://plot.ly"
       },
       "data": [
        {
         "marker": {
          "color": "#D55E00"
         },
         "orientation": "h",
         "type": "bar",
         "x": [
          0.16837133940304436,
          0.17228495722814766,
          0.17370353207244182,
          0.17560103772132515,
          0.18279276655965288
         ],
         "xaxis": "x",
         "y": [
          "성경  ",
          "창조  ",
          "하나님  ",
          "ai  ",
          "바이오  "
         ],
         "yaxis": "y"
        },
        {
         "marker": {
          "color": "#0072B2"
         },
         "orientation": "h",
         "type": "bar",
         "x": [
          0.16307331402442754,
          0.16451025887585313,
          0.16582306350798573,
          0.17208965827652997,
          0.191830050134742
         ],
         "xaxis": "x2",
         "y": [
          "건대  ",
          "10  ",
          "통합  ",
          "선정  ",
          "지정  "
         ],
         "yaxis": "y2"
        },
        {
         "marker": {
          "color": "#CC79A7"
         },
         "orientation": "h",
         "type": "bar",
         "x": [
          0.14165017446887274,
          0.14530281226058142,
          0.15943752573318237,
          0.1746448956346089,
          0.2266844109250175
         ],
         "xaxis": "x3",
         "y": [
          "탐구  ",
          "외국어  ",
          "지정  ",
          "예비  ",
          "20  "
         ],
         "yaxis": "y3"
        },
        {
         "marker": {
          "color": "#E69F00"
         },
         "orientation": "h",
         "type": "bar",
         "x": [
          0.2465579172669626,
          0.24669742225645466,
          0.25008931392595873,
          0.25326614997011887,
          0.3446023167708725
         ],
         "xaxis": "x4",
         "y": [
          "대통령  ",
          "북미  ",
          "정상  ",
          "회담  ",
          "트럼프  "
         ],
         "yaxis": "y4"
        },
        {
         "marker": {
          "color": "#56B4E9"
         },
         "orientation": "h",
         "type": "bar",
         "x": [
          0.1563022880201996,
          0.15770221942443,
          0.16835328546568762,
          0.18565949383764993,
          0.2428285217719001
         ],
         "xaxis": "x5",
         "y": [
          "경찰  ",
          "인원  ",
          "학과  ",
          "피지  ",
          "30  "
         ],
         "yaxis": "y5"
        },
        {
         "marker": {
          "color": "#009E73"
         },
         "orientation": "h",
         "type": "bar",
         "x": [
          0.20015200304222225,
          0.20328103791017996,
          0.20359256983699242,
          0.2148187064997429,
          0.2617461764855777
         ],
         "xaxis": "x6",
         "y": [
          "비핵화  ",
          "대화  ",
          "한반도  ",
          "대북  ",
          "남북  "
         ],
         "yaxis": "y6"
        },
        {
         "marker": {
          "color": "#F0E442"
         },
         "orientation": "h",
         "type": "bar",
         "x": [
          0.18045095125434585,
          0.18093891247865015,
          0.18244291941157345,
          0.18998111866399592,
          0.19746789339934884
         ],
         "xaxis": "x7",
         "y": [
          "부친상  ",
          "비율  ",
          "평판  ",
          "순위  ",
          "반영  "
         ],
         "yaxis": "y7"
        },
        {
         "marker": {
          "color": "#D55E00"
         },
         "orientation": "h",
         "type": "bar",
         "x": [
          0.22512634569861678,
          0.22710369489773233,
          0.27356271203517296,
          0.2878033264397422,
          0.3087146119839072
         ],
         "xaxis": "x8",
         "y": [
          "발생  ",
          "오빠  ",
          "옥수수  ",
          "15  ",
          "지진  "
         ],
         "yaxis": "y8"
        },
        {
         "marker": {
          "color": "#0072B2"
         },
         "orientation": "h",
         "type": "bar",
         "x": [
          0.20689809820867774,
          0.22073975921382064,
          0.24525049162391144,
          0.26884369792700935,
          0.3046572447262965
         ],
         "xaxis": "x9",
         "y": [
          "행사  ",
          "동성애자  ",
          "동성애  ",
          "누리  ",
          "퀴어  "
         ],
         "yaxis": "y9"
        },
        {
         "marker": {
          "color": "#CC79A7"
         },
         "orientation": "h",
         "type": "bar",
         "x": [
          0.23491895048532924,
          0.24399059696514022,
          0.24662098099741356,
          0.2727015563422705,
          0.35004476299237336
         ],
         "xaxis": "x10",
         "y": [
          "정상  ",
          "외교  ",
          "회담  ",
          "주석  ",
          "중국  "
         ],
         "yaxis": "y10"
        },
        {
         "marker": {
          "color": "#E69F00"
         },
         "orientation": "h",
         "type": "bar",
         "x": [
          0.19345448679066576,
          0.19461453033219728,
          0.19570634278178545,
          0.19839849249743358,
          0.23333849528537418
         ],
         "xaxis": "x11",
         "y": [
          "전신  ",
          "지선  ",
          "사고  ",
          "배터리  ",
          "50  "
         ],
         "yaxis": "y11"
        },
        {
         "marker": {
          "color": "#56B4E9"
         },
         "orientation": "h",
         "type": "bar",
         "x": [
          0.31036906422204064,
          0.31275206070121087,
          0.31691583275077007,
          0.3720321622376019,
          0.38430022948892906
         ],
         "xaxis": "x12",
         "y": [
          "탄도  ",
          "도발  ",
          "icbm  ",
          "발사  ",
          "미사일  "
         ],
         "yaxis": "y12"
        },
        {
         "marker": {
          "color": "#009E73"
         },
         "orientation": "h",
         "type": "bar",
         "x": [
          0.1917969422086558,
          0.20554399139949553,
          0.22764566711041792,
          0.24948246877981023,
          0.3105077989262211
         ],
         "xaxis": "x13",
         "y": [
          "등록금  ",
          "발인  ",
          "감독  ",
          "히딩크  ",
          "대학교  "
         ],
         "yaxis": "y13"
        },
        {
         "marker": {
          "color": "#F0E442"
         },
         "orientation": "h",
         "type": "bar",
         "x": [
          0.16101999350139237,
          0.1621946080317742,
          0.16424076727459236,
          0.18218111067882922,
          0.32374367148029704
         ],
         "xaxis": "x14",
         "y": [
          "모친상  ",
          "병원  ",
          "대안  ",
          "가족  ",
          "25  "
         ],
         "yaxis": "y14"
        },
        {
         "marker": {
          "color": "#D55E00"
         },
         "orientation": "h",
         "type": "bar",
         "x": [
          0.2593807449737979,
          0.26202201202329584,
          0.263439628869039,
          0.2884102408399942,
          0.3397929647955859
         ],
         "xaxis": "x15",
         "y": [
          "피해  ",
          "건물  ",
          "아파트  ",
          "대피  ",
          "지진  "
         ],
         "yaxis": "y15"
        },
        {
         "marker": {
          "color": "#0072B2"
         },
         "orientation": "h",
         "type": "bar",
         "x": [
          0.22774353079947104,
          0.24397923426399976,
          0.2699925047682597,
          0.28445149746060633,
          0.29234597097640536
         ],
         "xaxis": "x16",
         "y": [
          "강연  ",
          "선교  ",
          "코스타  ",
          "벽돌  ",
          "김치  "
         ],
         "yaxis": "y16"
        },
        {
         "marker": {
          "color": "#CC79A7"
         },
         "orientation": "h",
         "type": "bar",
         "x": [
          0.20208234582687185,
          0.20303237883517405,
          0.20332799946520766,
          0.2055288300817928,
          0.25322043787358867
         ],
         "xaxis": "x17",
         "y": [
          "12  ",
          "학술지  ",
          "등록금  ",
          "변증  ",
          "10  "
         ],
         "yaxis": "y17"
        },
        {
         "marker": {
          "color": "#E69F00"
         },
         "orientation": "h",
         "type": "bar",
         "x": [
          0.19756210088812398,
          0.2441750013797494,
          0.2632541570403756,
          0.26353300923596684,
          0.27110827736439697
         ],
         "xaxis": "x18",
         "y": [
          "진학  ",
          "29  ",
          "esg  ",
          "28  ",
          "게임  "
         ],
         "yaxis": "y18"
        },
        {
         "marker": {
          "color": "#56B4E9"
         },
         "orientation": "h",
         "type": "bar",
         "x": [
          0.18963400402153394,
          0.19301956294723802,
          0.22913686698569108,
          0.2610711009246397,
          0.3211181283708661
         ],
         "xaxis": "x19",
         "y": [
          "23  ",
          "판결  ",
          "추천자  ",
          "특차  ",
          "21  "
         ],
         "yaxis": "y19"
        },
        {
         "marker": {
          "color": "#009E73"
         },
         "orientation": "h",
         "type": "bar",
         "x": [
          0.21357408212405496,
          0.214733218014991,
          0.21508011253219506,
          0.21663516906670408,
          0.2278058247177737
         ],
         "xaxis": "x20",
         "y": [
          "적정  ",
          "합산  ",
          "비평  ",
          "공연  ",
          "교대  "
         ],
         "yaxis": "y20"
        }
       ],
       "layout": {
        "annotations": [
         {
          "font": {
           "size": 16
          },
          "showarrow": false,
          "text": "Topic 0",
          "x": 0.0875,
          "xanchor": "center",
          "xref": "paper",
          "y": 0.9999999999999999,
          "yanchor": "bottom",
          "yref": "paper"
         },
         {
          "font": {
           "size": 16
          },
          "showarrow": false,
          "text": "Topic 1",
          "x": 0.36250000000000004,
          "xanchor": "center",
          "xref": "paper",
          "y": 0.9999999999999999,
          "yanchor": "bottom",
          "yref": "paper"
         },
         {
          "font": {
           "size": 16
          },
          "showarrow": false,
          "text": "Topic 2",
          "x": 0.6375000000000001,
          "xanchor": "center",
          "xref": "paper",
          "y": 0.9999999999999999,
          "yanchor": "bottom",
          "yref": "paper"
         },
         {
          "font": {
           "size": 16
          },
          "showarrow": false,
          "text": "Topic 3",
          "x": 0.9125,
          "xanchor": "center",
          "xref": "paper",
          "y": 0.9999999999999999,
          "yanchor": "bottom",
          "yref": "paper"
         },
         {
          "font": {
           "size": 16
          },
          "showarrow": false,
          "text": "Topic 4",
          "x": 0.0875,
          "xanchor": "center",
          "xref": "paper",
          "y": 0.7839999999999999,
          "yanchor": "bottom",
          "yref": "paper"
         },
         {
          "font": {
           "size": 16
          },
          "showarrow": false,
          "text": "Topic 5",
          "x": 0.36250000000000004,
          "xanchor": "center",
          "xref": "paper",
          "y": 0.7839999999999999,
          "yanchor": "bottom",
          "yref": "paper"
         },
         {
          "font": {
           "size": 16
          },
          "showarrow": false,
          "text": "Topic 6",
          "x": 0.6375000000000001,
          "xanchor": "center",
          "xref": "paper",
          "y": 0.7839999999999999,
          "yanchor": "bottom",
          "yref": "paper"
         },
         {
          "font": {
           "size": 16
          },
          "showarrow": false,
          "text": "Topic 7",
          "x": 0.9125,
          "xanchor": "center",
          "xref": "paper",
          "y": 0.7839999999999999,
          "yanchor": "bottom",
          "yref": "paper"
         },
         {
          "font": {
           "size": 16
          },
          "showarrow": false,
          "text": "Topic 8",
          "x": 0.0875,
          "xanchor": "center",
          "xref": "paper",
          "y": 0.568,
          "yanchor": "bottom",
          "yref": "paper"
         },
         {
          "font": {
           "size": 16
          },
          "showarrow": false,
          "text": "Topic 9",
          "x": 0.36250000000000004,
          "xanchor": "center",
          "xref": "paper",
          "y": 0.568,
          "yanchor": "bottom",
          "yref": "paper"
         },
         {
          "font": {
           "size": 16
          },
          "showarrow": false,
          "text": "Topic 10",
          "x": 0.6375000000000001,
          "xanchor": "center",
          "xref": "paper",
          "y": 0.568,
          "yanchor": "bottom",
          "yref": "paper"
         },
         {
          "font": {
           "size": 16
          },
          "showarrow": false,
          "text": "Topic 11",
          "x": 0.9125,
          "xanchor": "center",
          "xref": "paper",
          "y": 0.568,
          "yanchor": "bottom",
          "yref": "paper"
         },
         {
          "font": {
           "size": 16
          },
          "showarrow": false,
          "text": "Topic 12",
          "x": 0.0875,
          "xanchor": "center",
          "xref": "paper",
          "y": 0.352,
          "yanchor": "bottom",
          "yref": "paper"
         },
         {
          "font": {
           "size": 16
          },
          "showarrow": false,
          "text": "Topic 13",
          "x": 0.36250000000000004,
          "xanchor": "center",
          "xref": "paper",
          "y": 0.352,
          "yanchor": "bottom",
          "yref": "paper"
         },
         {
          "font": {
           "size": 16
          },
          "showarrow": false,
          "text": "Topic 14",
          "x": 0.6375000000000001,
          "xanchor": "center",
          "xref": "paper",
          "y": 0.352,
          "yanchor": "bottom",
          "yref": "paper"
         },
         {
          "font": {
           "size": 16
          },
          "showarrow": false,
          "text": "Topic 15",
          "x": 0.9125,
          "xanchor": "center",
          "xref": "paper",
          "y": 0.352,
          "yanchor": "bottom",
          "yref": "paper"
         },
         {
          "font": {
           "size": 16
          },
          "showarrow": false,
          "text": "Topic 16",
          "x": 0.0875,
          "xanchor": "center",
          "xref": "paper",
          "y": 0.13599999999999998,
          "yanchor": "bottom",
          "yref": "paper"
         },
         {
          "font": {
           "size": 16
          },
          "showarrow": false,
          "text": "Topic 17",
          "x": 0.36250000000000004,
          "xanchor": "center",
          "xref": "paper",
          "y": 0.13599999999999998,
          "yanchor": "bottom",
          "yref": "paper"
         },
         {
          "font": {
           "size": 16
          },
          "showarrow": false,
          "text": "Topic 18",
          "x": 0.6375000000000001,
          "xanchor": "center",
          "xref": "paper",
          "y": 0.13599999999999998,
          "yanchor": "bottom",
          "yref": "paper"
         },
         {
          "font": {
           "size": 16
          },
          "showarrow": false,
          "text": "Topic 19",
          "x": 0.9125,
          "xanchor": "center",
          "xref": "paper",
          "y": 0.13599999999999998,
          "yanchor": "bottom",
          "yref": "paper"
         }
        ],
        "height": 1250,
        "hoverlabel": {
         "bgcolor": "white",
         "font": {
          "family": "Rockwell",
          "size": 16
         }
        },
        "showlegend": false,
        "template": {
         "data": {
          "bar": [
           {
            "error_x": {
             "color": "#2a3f5f"
            },
            "error_y": {
             "color": "#2a3f5f"
            },
            "marker": {
             "line": {
              "color": "white",
              "width": 0.5
             },
             "pattern": {
              "fillmode": "overlay",
              "size": 10,
              "solidity": 0.2
             }
            },
            "type": "bar"
           }
          ],
          "barpolar": [
           {
            "marker": {
             "line": {
              "color": "white",
              "width": 0.5
             },
             "pattern": {
              "fillmode": "overlay",
              "size": 10,
              "solidity": 0.2
             }
            },
            "type": "barpolar"
           }
          ],
          "carpet": [
           {
            "aaxis": {
             "endlinecolor": "#2a3f5f",
             "gridcolor": "#C8D4E3",
             "linecolor": "#C8D4E3",
             "minorgridcolor": "#C8D4E3",
             "startlinecolor": "#2a3f5f"
            },
            "baxis": {
             "endlinecolor": "#2a3f5f",
             "gridcolor": "#C8D4E3",
             "linecolor": "#C8D4E3",
             "minorgridcolor": "#C8D4E3",
             "startlinecolor": "#2a3f5f"
            },
            "type": "carpet"
           }
          ],
          "choropleth": [
           {
            "colorbar": {
             "outlinewidth": 0,
             "ticks": ""
            },
            "type": "choropleth"
           }
          ],
          "contour": [
           {
            "colorbar": {
             "outlinewidth": 0,
             "ticks": ""
            },
            "colorscale": [
             [
              0,
              "#0d0887"
             ],
             [
              0.1111111111111111,
              "#46039f"
             ],
             [
              0.2222222222222222,
              "#7201a8"
             ],
             [
              0.3333333333333333,
              "#9c179e"
             ],
             [
              0.4444444444444444,
              "#bd3786"
             ],
             [
              0.5555555555555556,
              "#d8576b"
             ],
             [
              0.6666666666666666,
              "#ed7953"
             ],
             [
              0.7777777777777778,
              "#fb9f3a"
             ],
             [
              0.8888888888888888,
              "#fdca26"
             ],
             [
              1,
              "#f0f921"
             ]
            ],
            "type": "contour"
           }
          ],
          "contourcarpet": [
           {
            "colorbar": {
             "outlinewidth": 0,
             "ticks": ""
            },
            "type": "contourcarpet"
           }
          ],
          "heatmap": [
           {
            "colorbar": {
             "outlinewidth": 0,
             "ticks": ""
            },
            "colorscale": [
             [
              0,
              "#0d0887"
             ],
             [
              0.1111111111111111,
              "#46039f"
             ],
             [
              0.2222222222222222,
              "#7201a8"
             ],
             [
              0.3333333333333333,
              "#9c179e"
             ],
             [
              0.4444444444444444,
              "#bd3786"
             ],
             [
              0.5555555555555556,
              "#d8576b"
             ],
             [
              0.6666666666666666,
              "#ed7953"
             ],
             [
              0.7777777777777778,
              "#fb9f3a"
             ],
             [
              0.8888888888888888,
              "#fdca26"
             ],
             [
              1,
              "#f0f921"
             ]
            ],
            "type": "heatmap"
           }
          ],
          "heatmapgl": [
           {
            "colorbar": {
             "outlinewidth": 0,
             "ticks": ""
            },
            "colorscale": [
             [
              0,
              "#0d0887"
             ],
             [
              0.1111111111111111,
              "#46039f"
             ],
             [
              0.2222222222222222,
              "#7201a8"
             ],
             [
              0.3333333333333333,
              "#9c179e"
             ],
             [
              0.4444444444444444,
              "#bd3786"
             ],
             [
              0.5555555555555556,
              "#d8576b"
             ],
             [
              0.6666666666666666,
              "#ed7953"
             ],
             [
              0.7777777777777778,
              "#fb9f3a"
             ],
             [
              0.8888888888888888,
              "#fdca26"
             ],
             [
              1,
              "#f0f921"
             ]
            ],
            "type": "heatmapgl"
           }
          ],
          "histogram": [
           {
            "marker": {
             "pattern": {
              "fillmode": "overlay",
              "size": 10,
              "solidity": 0.2
             }
            },
            "type": "histogram"
           }
          ],
          "histogram2d": [
           {
            "colorbar": {
             "outlinewidth": 0,
             "ticks": ""
            },
            "colorscale": [
             [
              0,
              "#0d0887"
             ],
             [
              0.1111111111111111,
              "#46039f"
             ],
             [
              0.2222222222222222,
              "#7201a8"
             ],
             [
              0.3333333333333333,
              "#9c179e"
             ],
             [
              0.4444444444444444,
              "#bd3786"
             ],
             [
              0.5555555555555556,
              "#d8576b"
             ],
             [
              0.6666666666666666,
              "#ed7953"
             ],
             [
              0.7777777777777778,
              "#fb9f3a"
             ],
             [
              0.8888888888888888,
              "#fdca26"
             ],
             [
              1,
              "#f0f921"
             ]
            ],
            "type": "histogram2d"
           }
          ],
          "histogram2dcontour": [
           {
            "colorbar": {
             "outlinewidth": 0,
             "ticks": ""
            },
            "colorscale": [
             [
              0,
              "#0d0887"
             ],
             [
              0.1111111111111111,
              "#46039f"
             ],
             [
              0.2222222222222222,
              "#7201a8"
             ],
             [
              0.3333333333333333,
              "#9c179e"
             ],
             [
              0.4444444444444444,
              "#bd3786"
             ],
             [
              0.5555555555555556,
              "#d8576b"
             ],
             [
              0.6666666666666666,
              "#ed7953"
             ],
             [
              0.7777777777777778,
              "#fb9f3a"
             ],
             [
              0.8888888888888888,
              "#fdca26"
             ],
             [
              1,
              "#f0f921"
             ]
            ],
            "type": "histogram2dcontour"
           }
          ],
          "mesh3d": [
           {
            "colorbar": {
             "outlinewidth": 0,
             "ticks": ""
            },
            "type": "mesh3d"
           }
          ],
          "parcoords": [
           {
            "line": {
             "colorbar": {
              "outlinewidth": 0,
              "ticks": ""
             }
            },
            "type": "parcoords"
           }
          ],
          "pie": [
           {
            "automargin": true,
            "type": "pie"
           }
          ],
          "scatter": [
           {
            "fillpattern": {
             "fillmode": "overlay",
             "size": 10,
             "solidity": 0.2
            },
            "type": "scatter"
           }
          ],
          "scatter3d": [
           {
            "line": {
             "colorbar": {
              "outlinewidth": 0,
              "ticks": ""
             }
            },
            "marker": {
             "colorbar": {
              "outlinewidth": 0,
              "ticks": ""
             }
            },
            "type": "scatter3d"
           }
          ],
          "scattercarpet": [
           {
            "marker": {
             "colorbar": {
              "outlinewidth": 0,
              "ticks": ""
             }
            },
            "type": "scattercarpet"
           }
          ],
          "scattergeo": [
           {
            "marker": {
             "colorbar": {
              "outlinewidth": 0,
              "ticks": ""
             }
            },
            "type": "scattergeo"
           }
          ],
          "scattergl": [
           {
            "marker": {
             "colorbar": {
              "outlinewidth": 0,
              "ticks": ""
             }
            },
            "type": "scattergl"
           }
          ],
          "scattermapbox": [
           {
            "marker": {
             "colorbar": {
              "outlinewidth": 0,
              "ticks": ""
             }
            },
            "type": "scattermapbox"
           }
          ],
          "scatterpolar": [
           {
            "marker": {
             "colorbar": {
              "outlinewidth": 0,
              "ticks": ""
             }
            },
            "type": "scatterpolar"
           }
          ],
          "scatterpolargl": [
           {
            "marker": {
             "colorbar": {
              "outlinewidth": 0,
              "ticks": ""
             }
            },
            "type": "scatterpolargl"
           }
          ],
          "scatterternary": [
           {
            "marker": {
             "colorbar": {
              "outlinewidth": 0,
              "ticks": ""
             }
            },
            "type": "scatterternary"
           }
          ],
          "surface": [
           {
            "colorbar": {
             "outlinewidth": 0,
             "ticks": ""
            },
            "colorscale": [
             [
              0,
              "#0d0887"
             ],
             [
              0.1111111111111111,
              "#46039f"
             ],
             [
              0.2222222222222222,
              "#7201a8"
             ],
             [
              0.3333333333333333,
              "#9c179e"
             ],
             [
              0.4444444444444444,
              "#bd3786"
             ],
             [
              0.5555555555555556,
              "#d8576b"
             ],
             [
              0.6666666666666666,
              "#ed7953"
             ],
             [
              0.7777777777777778,
              "#fb9f3a"
             ],
             [
              0.8888888888888888,
              "#fdca26"
             ],
             [
              1,
              "#f0f921"
             ]
            ],
            "type": "surface"
           }
          ],
          "table": [
           {
            "cells": {
             "fill": {
              "color": "#EBF0F8"
             },
             "line": {
              "color": "white"
             }
            },
            "header": {
             "fill": {
              "color": "#C8D4E3"
             },
             "line": {
              "color": "white"
             }
            },
            "type": "table"
           }
          ]
         },
         "layout": {
          "annotationdefaults": {
           "arrowcolor": "#2a3f5f",
           "arrowhead": 0,
           "arrowwidth": 1
          },
          "autotypenumbers": "strict",
          "coloraxis": {
           "colorbar": {
            "outlinewidth": 0,
            "ticks": ""
           }
          },
          "colorscale": {
           "diverging": [
            [
             0,
             "#8e0152"
            ],
            [
             0.1,
             "#c51b7d"
            ],
            [
             0.2,
             "#de77ae"
            ],
            [
             0.3,
             "#f1b6da"
            ],
            [
             0.4,
             "#fde0ef"
            ],
            [
             0.5,
             "#f7f7f7"
            ],
            [
             0.6,
             "#e6f5d0"
            ],
            [
             0.7,
             "#b8e186"
            ],
            [
             0.8,
             "#7fbc41"
            ],
            [
             0.9,
             "#4d9221"
            ],
            [
             1,
             "#276419"
            ]
           ],
           "sequential": [
            [
             0,
             "#0d0887"
            ],
            [
             0.1111111111111111,
             "#46039f"
            ],
            [
             0.2222222222222222,
             "#7201a8"
            ],
            [
             0.3333333333333333,
             "#9c179e"
            ],
            [
             0.4444444444444444,
             "#bd3786"
            ],
            [
             0.5555555555555556,
             "#d8576b"
            ],
            [
             0.6666666666666666,
             "#ed7953"
            ],
            [
             0.7777777777777778,
             "#fb9f3a"
            ],
            [
             0.8888888888888888,
             "#fdca26"
            ],
            [
             1,
             "#f0f921"
            ]
           ],
           "sequentialminus": [
            [
             0,
             "#0d0887"
            ],
            [
             0.1111111111111111,
             "#46039f"
            ],
            [
             0.2222222222222222,
             "#7201a8"
            ],
            [
             0.3333333333333333,
             "#9c179e"
            ],
            [
             0.4444444444444444,
             "#bd3786"
            ],
            [
             0.5555555555555556,
             "#d8576b"
            ],
            [
             0.6666666666666666,
             "#ed7953"
            ],
            [
             0.7777777777777778,
             "#fb9f3a"
            ],
            [
             0.8888888888888888,
             "#fdca26"
            ],
            [
             1,
             "#f0f921"
            ]
           ]
          },
          "colorway": [
           "#636efa",
           "#EF553B",
           "#00cc96",
           "#ab63fa",
           "#FFA15A",
           "#19d3f3",
           "#FF6692",
           "#B6E880",
           "#FF97FF",
           "#FECB52"
          ],
          "font": {
           "color": "#2a3f5f"
          },
          "geo": {
           "bgcolor": "white",
           "lakecolor": "white",
           "landcolor": "white",
           "showlakes": true,
           "showland": true,
           "subunitcolor": "#C8D4E3"
          },
          "hoverlabel": {
           "align": "left"
          },
          "hovermode": "closest",
          "mapbox": {
           "style": "light"
          },
          "paper_bgcolor": "white",
          "plot_bgcolor": "white",
          "polar": {
           "angularaxis": {
            "gridcolor": "#EBF0F8",
            "linecolor": "#EBF0F8",
            "ticks": ""
           },
           "bgcolor": "white",
           "radialaxis": {
            "gridcolor": "#EBF0F8",
            "linecolor": "#EBF0F8",
            "ticks": ""
           }
          },
          "scene": {
           "xaxis": {
            "backgroundcolor": "white",
            "gridcolor": "#DFE8F3",
            "gridwidth": 2,
            "linecolor": "#EBF0F8",
            "showbackground": true,
            "ticks": "",
            "zerolinecolor": "#EBF0F8"
           },
           "yaxis": {
            "backgroundcolor": "white",
            "gridcolor": "#DFE8F3",
            "gridwidth": 2,
            "linecolor": "#EBF0F8",
            "showbackground": true,
            "ticks": "",
            "zerolinecolor": "#EBF0F8"
           },
           "zaxis": {
            "backgroundcolor": "white",
            "gridcolor": "#DFE8F3",
            "gridwidth": 2,
            "linecolor": "#EBF0F8",
            "showbackground": true,
            "ticks": "",
            "zerolinecolor": "#EBF0F8"
           }
          },
          "shapedefaults": {
           "line": {
            "color": "#2a3f5f"
           }
          },
          "ternary": {
           "aaxis": {
            "gridcolor": "#DFE8F3",
            "linecolor": "#A2B1C6",
            "ticks": ""
           },
           "baxis": {
            "gridcolor": "#DFE8F3",
            "linecolor": "#A2B1C6",
            "ticks": ""
           },
           "bgcolor": "white",
           "caxis": {
            "gridcolor": "#DFE8F3",
            "linecolor": "#A2B1C6",
            "ticks": ""
           }
          },
          "title": {
           "x": 0.05
          },
          "xaxis": {
           "automargin": true,
           "gridcolor": "#EBF0F8",
           "linecolor": "#EBF0F8",
           "ticks": "",
           "title": {
            "standoff": 15
           },
           "zerolinecolor": "#EBF0F8",
           "zerolinewidth": 2
          },
          "yaxis": {
           "automargin": true,
           "gridcolor": "#EBF0F8",
           "linecolor": "#EBF0F8",
           "ticks": "",
           "title": {
            "standoff": 15
           },
           "zerolinecolor": "#EBF0F8",
           "zerolinewidth": 2
          }
         }
        },
        "title": {
         "font": {
          "color": "Black",
          "size": 22
         },
         "text": "Topic Word Scores",
         "x": 0.5,
         "xanchor": "center",
         "yanchor": "top"
        },
        "width": 1000,
        "xaxis": {
         "anchor": "y",
         "domain": [
          0,
          0.175
         ],
         "showgrid": true
        },
        "xaxis10": {
         "anchor": "y10",
         "domain": [
          0.275,
          0.45
         ],
         "showgrid": true
        },
        "xaxis11": {
         "anchor": "y11",
         "domain": [
          0.55,
          0.7250000000000001
         ],
         "showgrid": true
        },
        "xaxis12": {
         "anchor": "y12",
         "domain": [
          0.825,
          1
         ],
         "showgrid": true
        },
        "xaxis13": {
         "anchor": "y13",
         "domain": [
          0,
          0.175
         ],
         "showgrid": true
        },
        "xaxis14": {
         "anchor": "y14",
         "domain": [
          0.275,
          0.45
         ],
         "showgrid": true
        },
        "xaxis15": {
         "anchor": "y15",
         "domain": [
          0.55,
          0.7250000000000001
         ],
         "showgrid": true
        },
        "xaxis16": {
         "anchor": "y16",
         "domain": [
          0.825,
          1
         ],
         "showgrid": true
        },
        "xaxis17": {
         "anchor": "y17",
         "domain": [
          0,
          0.175
         ],
         "showgrid": true
        },
        "xaxis18": {
         "anchor": "y18",
         "domain": [
          0.275,
          0.45
         ],
         "showgrid": true
        },
        "xaxis19": {
         "anchor": "y19",
         "domain": [
          0.55,
          0.7250000000000001
         ],
         "showgrid": true
        },
        "xaxis2": {
         "anchor": "y2",
         "domain": [
          0.275,
          0.45
         ],
         "showgrid": true
        },
        "xaxis20": {
         "anchor": "y20",
         "domain": [
          0.825,
          1
         ],
         "showgrid": true
        },
        "xaxis3": {
         "anchor": "y3",
         "domain": [
          0.55,
          0.7250000000000001
         ],
         "showgrid": true
        },
        "xaxis4": {
         "anchor": "y4",
         "domain": [
          0.825,
          1
         ],
         "showgrid": true
        },
        "xaxis5": {
         "anchor": "y5",
         "domain": [
          0,
          0.175
         ],
         "showgrid": true
        },
        "xaxis6": {
         "anchor": "y6",
         "domain": [
          0.275,
          0.45
         ],
         "showgrid": true
        },
        "xaxis7": {
         "anchor": "y7",
         "domain": [
          0.55,
          0.7250000000000001
         ],
         "showgrid": true
        },
        "xaxis8": {
         "anchor": "y8",
         "domain": [
          0.825,
          1
         ],
         "showgrid": true
        },
        "xaxis9": {
         "anchor": "y9",
         "domain": [
          0,
          0.175
         ],
         "showgrid": true
        },
        "yaxis": {
         "anchor": "x",
         "domain": [
          0.8639999999999999,
          0.9999999999999999
         ],
         "showgrid": true
        },
        "yaxis10": {
         "anchor": "x10",
         "domain": [
          0.43199999999999994,
          0.568
         ],
         "showgrid": true
        },
        "yaxis11": {
         "anchor": "x11",
         "domain": [
          0.43199999999999994,
          0.568
         ],
         "showgrid": true
        },
        "yaxis12": {
         "anchor": "x12",
         "domain": [
          0.43199999999999994,
          0.568
         ],
         "showgrid": true
        },
        "yaxis13": {
         "anchor": "x13",
         "domain": [
          0.21599999999999997,
          0.352
         ],
         "showgrid": true
        },
        "yaxis14": {
         "anchor": "x14",
         "domain": [
          0.21599999999999997,
          0.352
         ],
         "showgrid": true
        },
        "yaxis15": {
         "anchor": "x15",
         "domain": [
          0.21599999999999997,
          0.352
         ],
         "showgrid": true
        },
        "yaxis16": {
         "anchor": "x16",
         "domain": [
          0.21599999999999997,
          0.352
         ],
         "showgrid": true
        },
        "yaxis17": {
         "anchor": "x17",
         "domain": [
          0,
          0.13599999999999998
         ],
         "showgrid": true
        },
        "yaxis18": {
         "anchor": "x18",
         "domain": [
          0,
          0.13599999999999998
         ],
         "showgrid": true
        },
        "yaxis19": {
         "anchor": "x19",
         "domain": [
          0,
          0.13599999999999998
         ],
         "showgrid": true
        },
        "yaxis2": {
         "anchor": "x2",
         "domain": [
          0.8639999999999999,
          0.9999999999999999
         ],
         "showgrid": true
        },
        "yaxis20": {
         "anchor": "x20",
         "domain": [
          0,
          0.13599999999999998
         ],
         "showgrid": true
        },
        "yaxis3": {
         "anchor": "x3",
         "domain": [
          0.8639999999999999,
          0.9999999999999999
         ],
         "showgrid": true
        },
        "yaxis4": {
         "anchor": "x4",
         "domain": [
          0.8639999999999999,
          0.9999999999999999
         ],
         "showgrid": true
        },
        "yaxis5": {
         "anchor": "x5",
         "domain": [
          0.6479999999999999,
          0.7839999999999999
         ],
         "showgrid": true
        },
        "yaxis6": {
         "anchor": "x6",
         "domain": [
          0.6479999999999999,
          0.7839999999999999
         ],
         "showgrid": true
        },
        "yaxis7": {
         "anchor": "x7",
         "domain": [
          0.6479999999999999,
          0.7839999999999999
         ],
         "showgrid": true
        },
        "yaxis8": {
         "anchor": "x8",
         "domain": [
          0.6479999999999999,
          0.7839999999999999
         ],
         "showgrid": true
        },
        "yaxis9": {
         "anchor": "x9",
         "domain": [
          0.43199999999999994,
          0.568
         ],
         "showgrid": true
        }
       }
      }
     },
     "metadata": {},
     "output_type": "display_data"
    }
   ],
   "source": [
    "# To visualize the ranking of terms per topic\n",
    "topic_model.visualize_barchart(top_n_topics=20)"
   ]
  },
  {
   "cell_type": "code",
   "execution_count": 20,
   "metadata": {},
   "outputs": [
    {
     "data": {
      "application/vnd.plotly.v1+json": {
       "config": {
        "plotlyServerURL": "https://plot.ly"
       },
       "data": [
        {
         "hovertext": "<b>Topic -1</b>:수시_ac_www_정시_kr_모집_전형_수능_총장_선발_논술_",
         "line": {
          "color": "black",
          "width": 1.5
         },
         "mode": "lines+lines",
         "name": "",
         "opacity": 0.1,
         "type": "scatter",
         "x": [
          1,
          2,
          3,
          4,
          5,
          6,
          7,
          8,
          9,
          10,
          11,
          12,
          13,
          14,
          15,
          16,
          17,
          18,
          19,
          20
         ],
         "y": [
          0.2025085981301201,
          0.16200057693230138,
          0.16056340277538667,
          0.1544086009992787,
          0.15388827757586956,
          0.14436670135148355,
          0.14386169987861097,
          0.14135479818514912,
          0.13933221601032655,
          0.13395326658078824,
          0.12747101834637767,
          0.12713915398235792,
          0.12689057384946803,
          0.12651277910907874,
          0.12442133833928391,
          0.12370726573805496,
          0.12356506122811912,
          0.12319790636305294,
          0.12278467180715617,
          0.12270854632003833
         ]
        },
        {
         "hovertext": "<b>Topic 0</b>:바이오_ai_하나님_창조_성경_인공지능_예수_인간_세계_진화_과",
         "line": {
          "color": "black",
          "width": 1.5
         },
         "mode": "lines+lines",
         "name": "",
         "opacity": 0.1,
         "type": "scatter",
         "x": [
          1,
          2,
          3,
          4,
          5,
          6,
          7,
          8,
          9,
          10,
          11,
          12,
          13,
          14,
          15,
          16,
          17,
          18,
          19,
          20
         ],
         "y": [
          0.18279276655965288,
          0.17560103772132515,
          0.17370353207244182,
          0.17228495722814766,
          0.16837133940304436,
          0.16421413043797162,
          0.1641862934882136,
          0.16011666298060034,
          0.15564870143574774,
          0.1543641683703846,
          0.154124498909938,
          0.15212690246931926,
          0.1511014172828867,
          0.14935703100630784,
          0.14863696266789247,
          0.14719339075146476,
          0.14705568210108785,
          0.14652547049255235,
          0.1456160968696215,
          0.14497846454513547
         ]
        },
        {
         "hovertext": "<b>Topic 1</b>:지정_선정_통합_10_건대_혁신_100_계획_도립_1000_예비",
         "line": {
          "color": "black",
          "width": 1.5
         },
         "mode": "lines+lines",
         "name": "",
         "opacity": 0.1,
         "type": "scatter",
         "x": [
          1,
          2,
          3,
          4,
          5,
          6,
          7,
          8,
          9,
          10,
          11,
          12,
          13,
          14,
          15,
          16,
          17,
          18,
          19,
          20
         ],
         "y": [
          0.191830050134742,
          0.17208965827652997,
          0.16582306350798573,
          0.16451025887585313,
          0.16307331402442754,
          0.16092283851782793,
          0.15606787128146843,
          0.14960442684796663,
          0.14891221493232362,
          0.1473241238245655,
          0.1436990722972641,
          0.14250919365270923,
          0.1417309664815983,
          0.1414921437205297,
          0.13762721864533053,
          0.13512571451249858,
          0.13475482229648572,
          0.12941064040342487,
          0.1285485083302612,
          0.1267581715133839
         ]
        },
        {
         "hovertext": "<b>Topic 2</b>:20_예비_지정_외국어_탐구_수리_선교사_대학생_번역_신청_세대",
         "line": {
          "color": "black",
          "width": 1.5
         },
         "mode": "lines+lines",
         "name": "",
         "opacity": 0.1,
         "type": "scatter",
         "x": [
          1,
          2,
          3,
          4,
          5,
          6,
          7,
          8,
          9,
          10,
          11,
          12,
          13,
          14,
          15,
          16,
          17,
          18,
          19,
          20
         ],
         "y": [
          0.2266844109250175,
          0.1746448956346089,
          0.15943752573318237,
          0.14530281226058142,
          0.14165017446887274,
          0.13966134366468727,
          0.13424562422490313,
          0.13414339292760083,
          0.1313921152214661,
          0.13058660975383127,
          0.13024336168498676,
          0.1294023364430891,
          0.12777060182098202,
          0.12727590342701775,
          0.12493506506638571,
          0.12391066293752577,
          0.12341056754476201,
          0.12296561306606921,
          0.12260300749618092,
          0.12255821055326768
         ]
        },
        {
         "hovertext": "<b>Topic 3</b>:트럼프_회담_정상_북미_대통령_협상_국무_도널드_행정부_바이든_",
         "line": {
          "color": "black",
          "width": 1.5
         },
         "mode": "lines+lines",
         "name": "",
         "opacity": 0.1,
         "type": "scatter",
         "x": [
          1,
          2,
          3,
          4,
          5,
          6,
          7,
          8,
          9,
          10,
          11,
          12,
          13,
          14,
          15,
          16,
          17,
          18,
          19,
          20
         ],
         "y": [
          0.3446023167708725,
          0.25326614997011887,
          0.25008931392595873,
          0.24669742225645466,
          0.2465579172669626,
          0.2418255565417249,
          0.23540335331108556,
          0.23249660016949153,
          0.21845998814631276,
          0.21682836279665443,
          0.2164559294503575,
          0.2108071670037817,
          0.20421938866455203,
          0.2009510165526424,
          0.20062216148722184,
          0.19995402846468843,
          0.19812409005793422,
          0.19544053079226337,
          0.1928320256395501,
          0.19227766938139795
         ]
        },
        {
         "hovertext": "<b>Topic 4</b>:30_피지_학과_인원_경찰_석사_공학_제외_검찰_사학_선발_31",
         "line": {
          "color": "black",
          "width": 1.5
         },
         "mode": "lines+lines",
         "name": "",
         "opacity": 0.1,
         "type": "scatter",
         "x": [
          1,
          2,
          3,
          4,
          5,
          6,
          7,
          8,
          9,
          10,
          11,
          12,
          13,
          14,
          15,
          16,
          17,
          18,
          19,
          20
         ],
         "y": [
          0.2428285217719001,
          0.18565949383764993,
          0.16835328546568762,
          0.15770221942443,
          0.1563022880201996,
          0.15293031877217036,
          0.1509095039477459,
          0.14838272016257528,
          0.14548073899782318,
          0.14485024254104684,
          0.1447461813423112,
          0.14445887576497699,
          0.14406177124107825,
          0.14312911404480372,
          0.1419360202056866,
          0.14055894403671565,
          0.13933700436819688,
          0.1376624643715033,
          0.13687042281009248,
          0.13665517891926854
         ]
        },
        {
         "hovertext": "<b>Topic 5</b>:남북_대북_한반도_대화_비핵화_외교_북한_제재_회담_안보_방북_",
         "line": {
          "color": "black",
          "width": 1.5
         },
         "mode": "lines+lines",
         "name": "",
         "opacity": 0.1,
         "type": "scatter",
         "x": [
          1,
          2,
          3,
          4,
          5,
          6,
          7,
          8,
          9,
          10,
          11,
          12,
          13,
          14,
          15,
          16,
          17,
          18,
          19,
          20
         ],
         "y": [
          0.2617461764855777,
          0.2148187064997429,
          0.20359256983699242,
          0.20328103791017996,
          0.20015200304222225,
          0.19881344889093308,
          0.19871741958225375,
          0.19725858366614035,
          0.1946555865611968,
          0.19269332213764087,
          0.19230447338742276,
          0.19076417001332055,
          0.19030768292216077,
          0.18813928075643602,
          0.1867043548927726,
          0.18388924701379408,
          0.18290802006317558,
          0.18279298215171794,
          0.17949359165786535,
          0.17759079406352785
         ]
        },
        {
         "hovertext": "<b>Topic 6</b>:반영_순위_평판_비율_부친상_레이저_모집_이승만_장례식장_발인_",
         "line": {
          "color": "black",
          "width": 1.5
         },
         "mode": "lines+lines",
         "name": "",
         "opacity": 0.1,
         "type": "scatter",
         "x": [
          1,
          2,
          3,
          4,
          5,
          6,
          7,
          8,
          9,
          10,
          11,
          12,
          13,
          14,
          15,
          16,
          17,
          18,
          19,
          20
         ],
         "y": [
          0.19746789339934884,
          0.18998111866399592,
          0.18244291941157345,
          0.18093891247865015,
          0.18045095125434585,
          0.17518083132199733,
          0.1731069933068321,
          0.17090299609461673,
          0.16840868350891056,
          0.16740068378518497,
          0.16684918174048857,
          0.1653896973371963,
          0.16297249238690745,
          0.16214903270801684,
          0.161982168994692,
          0.1609423104234572,
          0.15659503490494758,
          0.15506552259667714,
          0.15389356898358728,
          0.1508364845129606
         ]
        },
        {
         "hovertext": "<b>Topic 7</b>:지진_15_옥수수_오빠_발생_건물_이지선_북구_대피_여진_외벽_",
         "line": {
          "color": "black",
          "width": 1.5
         },
         "mode": "lines+lines",
         "name": "",
         "opacity": 0.1,
         "type": "scatter",
         "x": [
          1,
          2,
          3,
          4,
          5,
          6,
          7,
          8,
          9,
          10,
          11,
          12,
          13,
          14,
          15,
          16,
          17,
          18,
          19,
          20
         ],
         "y": [
          0.3087146119839072,
          0.2878033264397422,
          0.27356271203517296,
          0.22710369489773233,
          0.22512634569861678,
          0.22379837207397274,
          0.21773730875820532,
          0.20784505086237742,
          0.20718003636296145,
          0.20383474663587,
          0.20120752679169152,
          0.19978921975335384,
          0.19835431376975257,
          0.1926951625762729,
          0.19097422421970026,
          0.1850641419282803,
          0.18330210548926532,
          0.17892866185295636,
          0.17654286512117237,
          0.1752410038646749
         ]
        },
        {
         "hovertext": "<b>Topic 8</b>:퀴어_누리_동성애_동성애자_행사_고등학교_본부_접수_가구_권력_",
         "line": {
          "color": "black",
          "width": 1.5
         },
         "mode": "lines+lines",
         "name": "",
         "opacity": 0.1,
         "type": "scatter",
         "x": [
          1,
          2,
          3,
          4,
          5,
          6,
          7,
          8,
          9,
          10,
          11,
          12,
          13,
          14,
          15,
          16,
          17,
          18,
          19,
          20
         ],
         "y": [
          0.3046572447262965,
          0.26884369792700935,
          0.24525049162391144,
          0.22073975921382064,
          0.20689809820867774,
          0.1919151885988149,
          0.18355621930369673,
          0.18098011737465092,
          0.1775688921243556,
          0.17493495324131683,
          0.17476928687329024,
          0.174755473955018,
          0.17224840346294237,
          0.1719296994139835,
          0.17042477994216793,
          0.16930139092911528,
          0.16771644692069415,
          0.16659264314485994,
          0.16426985317782553,
          0.1608438102831962
         ]
        },
        {
         "hovertext": "<b>Topic 9</b>:중국_주석_회담_외교_정상_시진핑_러시아_일본_사드_방중_갈등_",
         "line": {
          "color": "black",
          "width": 1.5
         },
         "mode": "lines+lines",
         "name": "",
         "opacity": 0.1,
         "type": "scatter",
         "x": [
          1,
          2,
          3,
          4,
          5,
          6,
          7,
          8,
          9,
          10,
          11,
          12,
          13,
          14,
          15,
          16,
          17,
          18,
          19,
          20
         ],
         "y": [
          0.35004476299237336,
          0.2727015563422705,
          0.24662098099741356,
          0.24399059696514022,
          0.23491895048532924,
          0.22901713911408395,
          0.22514425805723723,
          0.22140420339290623,
          0.21911141304408702,
          0.20693234329366472,
          0.20664723324669565,
          0.20420307401319715,
          0.20419657621349194,
          0.20302333492891536,
          0.19983517797128192,
          0.1991154073992936,
          0.197890790034872,
          0.1957697299958771,
          0.1916148127384373,
          0.1888845518095754
         ]
        },
        {
         "hovertext": "<b>Topic 10</b>:50_배터리_사고_지선_전신_교대_중앙일보_신대_교과_화상_가",
         "line": {
          "color": "black",
          "width": 1.5
         },
         "mode": "lines+lines",
         "name": "",
         "opacity": 0.1,
         "type": "scatter",
         "x": [
          1,
          2,
          3,
          4,
          5,
          6,
          7,
          8,
          9,
          10,
          11,
          12,
          13,
          14,
          15,
          16,
          17,
          18,
          19,
          20
         ],
         "y": [
          0.23333849528537418,
          0.19839849249743358,
          0.19570634278178545,
          0.19461453033219728,
          0.19345448679066576,
          0.19053530967139487,
          0.19030045640665996,
          0.18785904502449358,
          0.1814757479282833,
          0.17800315208267614,
          0.17639565066984073,
          0.17501447041080284,
          0.17414855234257354,
          0.17336051792544632,
          0.17097576724898467,
          0.16342560228389263,
          0.16229827537059113,
          0.1619825224701022,
          0.1606222218478256,
          0.16006915455771792
         ]
        },
        {
         "hovertext": "<b>Topic 11</b>:미사일_발사_icbm_도발_탄도_slbm_중거리_단거리_타격_",
         "line": {
          "color": "black",
          "width": 1.5
         },
         "mode": "lines+lines",
         "name": "",
         "opacity": 0.1,
         "type": "scatter",
         "x": [
          1,
          2,
          3,
          4,
          5,
          6,
          7,
          8,
          9,
          10,
          11,
          12,
          13,
          14,
          15,
          16,
          17,
          18,
          19,
          20
         ],
         "y": [
          0.38430022948892906,
          0.3720321622376019,
          0.31691583275077007,
          0.31275206070121087,
          0.31036906422204064,
          0.2940179168168145,
          0.25905122716332,
          0.245365034546345,
          0.2441978480185935,
          0.23684809945005522,
          0.23438019625314013,
          0.22772986816997753,
          0.22576268467834407,
          0.2248799599718273,
          0.2243164224081013,
          0.22281971671053744,
          0.20993147184698824,
          0.20928074412798361,
          0.20909436701520448,
          0.208793216688644
         ]
        },
        {
         "hovertext": "<b>Topic 12</b>:대학교_히딩크_감독_발인_등록금_필드_고래_드림_병원_채플_축",
         "line": {
          "color": "black",
          "width": 1.5
         },
         "mode": "lines+lines",
         "name": "",
         "opacity": 0.1,
         "type": "scatter",
         "x": [
          1,
          2,
          3,
          4,
          5,
          6,
          7,
          8,
          9,
          10,
          11,
          12,
          13,
          14,
          15,
          16,
          17,
          18,
          19,
          20
         ],
         "y": [
          0.3105077989262211,
          0.24948246877981023,
          0.22764566711041792,
          0.20554399139949553,
          0.1917969422086558,
          0.18519703660583878,
          0.17693142489959113,
          0.1732541742078026,
          0.17241512530261857,
          0.16547415486760983,
          0.1638087281534794,
          0.16208661230606586,
          0.16021783870771583,
          0.15705058993119633,
          0.1569069481743201,
          0.15403008513796015,
          0.1536753540577868,
          0.15182525862857685,
          0.15092413443313485,
          0.14844821462140442
         ]
        },
        {
         "hovertext": "<b>Topic 13</b>:25_가족_대안_병원_모친상_입국_성탄_독도_nll_제한_별세",
         "line": {
          "color": "black",
          "width": 1.5
         },
         "mode": "lines+lines",
         "name": "",
         "opacity": 0.1,
         "type": "scatter",
         "x": [
          1,
          2,
          3,
          4,
          5,
          6,
          7,
          8,
          9,
          10,
          11,
          12,
          13,
          14,
          15,
          16,
          17,
          18,
          19,
          20
         ],
         "y": [
          0.32374367148029704,
          0.18218111067882922,
          0.16424076727459236,
          0.1621946080317742,
          0.16101999350139237,
          0.15354743755817005,
          0.1474174415698236,
          0.14679988568301772,
          0.14540270213659104,
          0.14521421737402523,
          0.14438188850610054,
          0.14349479373489862,
          0.1424381866758746,
          0.14231890220499405,
          0.14110140455124046,
          0.14045627356461812,
          0.14033397425900285,
          0.13863831788733097,
          0.13825315300057658,
          0.13633185970042447
         ]
        },
        {
         "hovertext": "<b>Topic 14</b>:지진_대피_아파트_건물_피해_발생_여진_북구_흥해읍_택시_주민",
         "line": {
          "color": "black",
          "width": 1.5
         },
         "mode": "lines+lines",
         "name": "",
         "opacity": 0.1,
         "type": "scatter",
         "x": [
          1,
          2,
          3,
          4,
          5,
          6,
          7,
          8,
          9,
          10,
          11,
          12,
          13,
          14,
          15,
          16,
          17,
          18,
          19,
          20
         ],
         "y": [
          0.3397929647955859,
          0.2884102408399942,
          0.263439628869039,
          0.26202201202329584,
          0.2593807449737979,
          0.2564117156670809,
          0.24200367004357773,
          0.24171535770840427,
          0.22156034958726625,
          0.22066123833097734,
          0.2114412353686675,
          0.2067498918376443,
          0.20309094564097735,
          0.19289846229810262,
          0.18892849432871364,
          0.18842072418782946,
          0.18664464701149075,
          0.18602509440635684,
          0.1801518294770344,
          0.17817214160876663
         ]
        },
        {
         "hovertext": "<b>Topic 15</b>:김치_벽돌_코스타_선교_강연_페미니즘_기독교_유산균_이스트_학",
         "line": {
          "color": "black",
          "width": 1.5
         },
         "mode": "lines+lines",
         "name": "",
         "opacity": 0.1,
         "type": "scatter",
         "x": [
          1,
          2,
          3,
          4,
          5,
          6,
          7,
          8,
          9,
          10,
          11,
          12,
          13,
          14,
          15,
          16,
          17,
          18,
          19,
          20
         ],
         "y": [
          0.29234597097640536,
          0.28445149746060633,
          0.2699925047682597,
          0.24397923426399976,
          0.22774353079947104,
          0.22006529932463162,
          0.20981018508126287,
          0.2042115158899627,
          0.1949266644924233,
          0.19462812024965812,
          0.1881406590291093,
          0.18013075439931628,
          0.17980438913171515,
          0.17969511669998922,
          0.17965825304413788,
          0.1764377506375569,
          0.17604890163586387,
          0.17509068921365278,
          0.1725281069415938,
          0.17158560624283128
         ]
        },
        {
         "hovertext": "<b>Topic 16</b>:10_변증_등록금_학술지_12_화학_사학_미션_금호_동결_판결",
         "line": {
          "color": "black",
          "width": 1.5
         },
         "mode": "lines+lines",
         "name": "",
         "opacity": 0.1,
         "type": "scatter",
         "x": [
          1,
          2,
          3,
          4,
          5,
          6,
          7,
          8,
          9,
          10,
          11,
          12,
          13,
          14,
          15,
          16,
          17,
          18,
          19,
          20
         ],
         "y": [
          0.25322043787358867,
          0.2055288300817928,
          0.20332799946520766,
          0.20303237883517405,
          0.20208234582687185,
          0.19576636976253095,
          0.19566721483050994,
          0.1904311435834378,
          0.18837439703667694,
          0.18291583539701592,
          0.18284745899724597,
          0.18144396644598784,
          0.180493375436788,
          0.17199718533567487,
          0.16855105220879943,
          0.16850788668696995,
          0.1681859798189528,
          0.16657199893309296,
          0.16261147651178168,
          0.1611741890522089
         ]
        },
        {
         "hovertext": "<b>Topic 17</b>:게임_28_esg_29_진학_실적_청년_창업_종료_예과_글로벌",
         "line": {
          "color": "black",
          "width": 1.5
         },
         "mode": "lines+lines",
         "name": "",
         "opacity": 0.1,
         "type": "scatter",
         "x": [
          1,
          2,
          3,
          4,
          5,
          6,
          7,
          8,
          9,
          10,
          11,
          12,
          13,
          14,
          15,
          16,
          17,
          18,
          19,
          20
         ],
         "y": [
          0.27110827736439697,
          0.26353300923596684,
          0.2632541570403756,
          0.2441750013797494,
          0.19756210088812398,
          0.18778559359893116,
          0.18766498776101742,
          0.1851872739772071,
          0.1841626149591994,
          0.17191697934202016,
          0.1706044943889832,
          0.1664924576915825,
          0.16632741091263128,
          0.16511621066200563,
          0.1614624669049616,
          0.15900130462712653,
          0.15759990916589114,
          0.15659506056530537,
          0.15636577537512383,
          0.15622840669815968
         ]
        },
        {
         "hovertext": "<b>Topic 18</b>:21_특차_추천자_판결_23_소송_배상_반영_피지_연극_주제_",
         "line": {
          "color": "black",
          "width": 1.5
         },
         "mode": "lines+lines",
         "name": "",
         "opacity": 0.1,
         "type": "scatter",
         "x": [
          1,
          2,
          3,
          4,
          5,
          6,
          7,
          8,
          9,
          10,
          11,
          12,
          13,
          14,
          15,
          16,
          17,
          18,
          19,
          20
         ],
         "y": [
          0.3211181283708661,
          0.2610711009246397,
          0.22913686698569108,
          0.19301956294723802,
          0.18963400402153394,
          0.18788499869491812,
          0.18672429972868337,
          0.18466991860281565,
          0.1841083841237289,
          0.18200453231763936,
          0.17973256676587077,
          0.17944707716880023,
          0.17928704519111294,
          0.17749912453690594,
          0.17702072563923535,
          0.17356863607696102,
          0.16813735104027638,
          0.16694117494399205,
          0.16661148555576724,
          0.16593996521260013
         ]
        },
        {
         "hovertext": "<b>Topic 19</b>:교대_공연_비평_합산_적정_일괄_제자_인문_분권_교원_사립_캠",
         "line": {
          "color": "black",
          "width": 1.5
         },
         "mode": "lines+lines",
         "name": "",
         "opacity": 0.1,
         "type": "scatter",
         "x": [
          1,
          2,
          3,
          4,
          5,
          6,
          7,
          8,
          9,
          10,
          11,
          12,
          13,
          14,
          15,
          16,
          17,
          18,
          19,
          20
         ],
         "y": [
          0.2278058247177737,
          0.21663516906670408,
          0.21508011253219506,
          0.214733218014991,
          0.21357408212405496,
          0.21259685838737,
          0.20824614379907375,
          0.1928543794145289,
          0.1859644218373645,
          0.18413262932514007,
          0.1840512947039934,
          0.18354071729714425,
          0.18285694800516916,
          0.18173688322002235,
          0.18062219871782353,
          0.17740366537317168,
          0.1758884902253421,
          0.17502943911570462,
          0.17416816288709516,
          0.17311731597918223
         ]
        },
        {
         "hovertext": "<b>Topic 20</b>:지소_미아_종료_gsomia_일본_반환_양국_연장_수출_안보_",
         "line": {
          "color": "black",
          "width": 1.5
         },
         "mode": "lines+lines",
         "name": "",
         "opacity": 0.1,
         "type": "scatter",
         "x": [
          1,
          2,
          3,
          4,
          5,
          6,
          7,
          8,
          9,
          10,
          11,
          12,
          13,
          14,
          15,
          16,
          17,
          18,
          19,
          20
         ],
         "y": [
          0.35861413588558555,
          0.3552218921656959,
          0.29832184359836406,
          0.2810488387243844,
          0.26067201788038724,
          0.2347065448774907,
          0.22627715675523583,
          0.22573313183971935,
          0.224662749002593,
          0.22004049983996005,
          0.2176782667129817,
          0.21477218131545417,
          0.2145508101698628,
          0.21162383623751485,
          0.21097374907439337,
          0.2108891942078429,
          0.20361192603345313,
          0.20197129806201178,
          0.19973031603788455,
          0.1968748841934156
         ]
        },
        {
         "hovertext": "<b>Topic 21</b>:19_만점_친구_18_관광_아이_학교장_개신교_개별_특기_인권",
         "line": {
          "color": "black",
          "width": 1.5
         },
         "mode": "lines+lines",
         "name": "",
         "opacity": 0.1,
         "type": "scatter",
         "x": [
          1,
          2,
          3,
          4,
          5,
          6,
          7,
          8,
          9,
          10,
          11,
          12,
          13,
          14,
          15,
          16,
          17,
          18,
          19,
          20
         ],
         "y": [
          0.32165161577763546,
          0.31627213549223415,
          0.22099220650049023,
          0.2186770860799748,
          0.21797788504244314,
          0.21537169522818275,
          0.20858274920971487,
          0.19122239789099338,
          0.19115633031554782,
          0.1904995560742847,
          0.1855714753396694,
          0.1792178302037765,
          0.17882885805370094,
          0.17720138488578746,
          0.17382687395875684,
          0.17065269420468313,
          0.17040454619393622,
          0.1694123818529288,
          0.16577523677829217,
          0.16377909568091045
         ]
        },
        {
         "hovertext": "<b>Topic 22</b>:통일부_개성_공단_남북_과장_대남_전단_배터리_김여정_부장_문",
         "line": {
          "color": "black",
          "width": 1.5
         },
         "mode": "lines+lines",
         "name": "",
         "opacity": 0.1,
         "type": "scatter",
         "x": [
          1,
          2,
          3,
          4,
          5,
          6,
          7,
          8,
          9,
          10,
          11,
          12,
          13,
          14,
          15,
          16,
          17,
          18,
          19,
          20
         ],
         "y": [
          0.30873028051178836,
          0.28765172455106247,
          0.27115009350405894,
          0.2547931404949757,
          0.2542287718380616,
          0.24914616280140756,
          0.2231394824119159,
          0.21915747853910986,
          0.21778186341748113,
          0.21660065204813142,
          0.21304552741611216,
          0.21060935841965933,
          0.20985684695744458,
          0.20735748180998365,
          0.2049728982840753,
          0.20439009298246824,
          0.19845094317477238,
          0.19684227056763554,
          0.19494992810589037,
          0.19099854750146755
         ]
        },
        {
         "hovertext": "<b>Topic 23</b>:발인_12_부친상_병원_세브_란스_모친상_충원_기부_등록금_성",
         "line": {
          "color": "black",
          "width": 1.5
         },
         "mode": "lines+lines",
         "name": "",
         "opacity": 0.1,
         "type": "scatter",
         "x": [
          1,
          2,
          3,
          4,
          5,
          6,
          7,
          8,
          9,
          10,
          11,
          12,
          13,
          14,
          15,
          16,
          17,
          18,
          19,
          20
         ],
         "y": [
          0.3441474895830336,
          0.33379857090686155,
          0.3209308913583647,
          0.28810144232957924,
          0.26615787711567845,
          0.2657773617606331,
          0.265738745958642,
          0.2639154799664399,
          0.2564851925648728,
          0.2344630301081707,
          0.2329322735839483,
          0.21832004667920382,
          0.2065686467618143,
          0.20649000072775353,
          0.20611856598772446,
          0.20524800644392666,
          0.20487203034863166,
          0.20371623786463672,
          0.20292752114476698,
          0.19975015002948673
         ]
        },
        {
         "hovertext": "<b>Topic 24</b>:유엔사_17_출장_작전_사령관_교사_인성_일보_증원_사정관_교",
         "line": {
          "color": "black",
          "width": 1.5
         },
         "mode": "lines+lines",
         "name": "",
         "opacity": 0.1,
         "type": "scatter",
         "x": [
          1,
          2,
          3,
          4,
          5,
          6,
          7,
          8,
          9,
          10,
          11,
          12,
          13,
          14,
          15,
          16,
          17,
          18,
          19,
          20
         ],
         "y": [
          0.2836464797248332,
          0.282235568643469,
          0.26499173623052025,
          0.2356853465524857,
          0.2222705442030074,
          0.2132995684201901,
          0.20463689444432664,
          0.202079433224372,
          0.19800168375453858,
          0.1970702335065743,
          0.19641675562272043,
          0.19479376042897664,
          0.18941185779127617,
          0.18710140425489452,
          0.17869832049917267,
          0.17688465768247455,
          0.17544447959486342,
          0.17529763928803124,
          0.17286163186975617,
          0.17279904703779478
         ]
        },
        {
         "hovertext": "<b>Topic 25</b>:회담_정상_대화_북미_회의_외교_협상_안보_북한_국무_협정_대",
         "line": {
          "color": "black",
          "width": 1.5
         },
         "mode": "lines+lines",
         "name": "",
         "opacity": 0.1,
         "type": "scatter",
         "x": [
          1,
          2,
          3,
          4,
          5,
          6,
          7,
          8,
          9,
          10,
          11,
          12,
          13,
          14,
          15,
          16,
          17,
          18,
          19,
          20
         ],
         "y": [
          0.2987213394858966,
          0.27977701021467094,
          0.26578354525930414,
          0.226928296517964,
          0.21738186891178235,
          0.2172883373455729,
          0.2165609874653482,
          0.20669327612638305,
          0.20615235741721755,
          0.20382284259693745,
          0.20102179885107774,
          0.2006653101703974,
          0.19767153190477038,
          0.1966193516389798,
          0.19491009177291052,
          0.19314139698903435,
          0.1915427528139644,
          0.19088195348770468,
          0.1903933170539803,
          0.18993778824347565
         ]
        },
        {
         "hovertext": "<b>Topic 26</b>:발인_모친상_부친상_병원_부문_재판_추가_분권_합격_선교_아산",
         "line": {
          "color": "black",
          "width": 1.5
         },
         "mode": "lines+lines",
         "name": "",
         "opacity": 0.1,
         "type": "scatter",
         "x": [
          1,
          2,
          3,
          4,
          5,
          6,
          7,
          8,
          9,
          10,
          11,
          12,
          13,
          14,
          15,
          16,
          17,
          18,
          19,
          20
         ],
         "y": [
          0.31475292349388445,
          0.238372363329621,
          0.23457144193912932,
          0.22574653653959495,
          0.22427322118070867,
          0.2228877950544371,
          0.2206855294678074,
          0.21460420689212192,
          0.2145489549406036,
          0.21305791809417013,
          0.20741807415219785,
          0.2020489514513253,
          0.20013575776669662,
          0.1994582470239636,
          0.19914793595799926,
          0.19590243704995924,
          0.19412806943448901,
          0.19124037774332697,
          0.1884488591036584,
          0.18710428928614423
         ]
        },
        {
         "hovertext": "<b>Topic 27</b>:70_지수_보험_동맹_조약_미군_생명_지속_분단_기지_특별법_",
         "line": {
          "color": "black",
          "width": 1.5
         },
         "mode": "lines+lines",
         "name": "",
         "opacity": 0.1,
         "type": "scatter",
         "x": [
          1,
          2,
          3,
          4,
          5,
          6,
          7,
          8,
          9,
          10,
          11,
          12,
          13,
          14,
          15,
          16,
          17,
          18,
          19,
          20
         ],
         "y": [
          0.31114425223596615,
          0.28295325218776385,
          0.2795593973905172,
          0.2612912738503725,
          0.23645607199321417,
          0.23287614722904607,
          0.21495391299076103,
          0.2047402384486647,
          0.20437287659714126,
          0.20193752246734295,
          0.20112164407194685,
          0.19153139580625003,
          0.1886981161361038,
          0.18850677741375013,
          0.1851413674078841,
          0.18221178058150553,
          0.1803414663390818,
          0.17860565288196298,
          0.1777300425056929,
          0.1754758122691558
         ]
        },
        {
         "hovertext": "<b>Topic 28</b>:재판관_법관_신년_헌법_기도회_분과_가구_만점_등록금_취업_불",
         "line": {
          "color": "black",
          "width": 1.5
         },
         "mode": "lines+lines",
         "name": "",
         "opacity": 0.1,
         "type": "scatter",
         "x": [
          1,
          2,
          3,
          4,
          5,
          6,
          7,
          8,
          9,
          10,
          11,
          12,
          13,
          14,
          15,
          16,
          17,
          18,
          19,
          20
         ],
         "y": [
          0.28640436189026036,
          0.21576737412276825,
          0.2144729993187801,
          0.2001632812217979,
          0.19918234743384025,
          0.19817519487486168,
          0.19720038155348968,
          0.19673632744243236,
          0.19554604614372623,
          0.19028826835761026,
          0.18043065877386683,
          0.17997917140623235,
          0.17833653201359992,
          0.17791258585615394,
          0.17610483596986432,
          0.17525435558130778,
          0.17511576182685792,
          0.17505465860694408,
          0.17190586931492954,
          0.17152958688254058
         ]
        },
        {
         "hovertext": "<b>Topic 29</b>:오바마_연방_레드라인_우크라_법원_이나_전쟁_대법관_러시아_공",
         "line": {
          "color": "black",
          "width": 1.5
         },
         "mode": "lines+lines",
         "name": "",
         "opacity": 0.1,
         "type": "scatter",
         "x": [
          1,
          2,
          3,
          4,
          5,
          6,
          7,
          8,
          9,
          10,
          11,
          12,
          13,
          14,
          15,
          16,
          17,
          18,
          19,
          20
         ],
         "y": [
          0.29714249275697724,
          0.28174813991222475,
          0.2726108206409664,
          0.2722008571014808,
          0.2721062331267723,
          0.2612220357690647,
          0.2589770926429955,
          0.2316506613448797,
          0.2221641475110941,
          0.22123348788363434,
          0.22024452979488357,
          0.2166352935124516,
          0.21419698653171265,
          0.21207992906854684,
          0.20107706727420904,
          0.20028413212106436,
          0.19787165106184287,
          0.1969180451257099,
          0.19599992098070382,
          0.19348746125706662
         ]
        },
        {
         "hovertext": "<b>Topic 30</b>:인터넷_11_300_10_모금_부문_청소년_지수_자동차_22_",
         "line": {
          "color": "black",
          "width": 1.5
         },
         "mode": "lines+lines",
         "name": "",
         "opacity": 0.1,
         "type": "scatter",
         "x": [
          1,
          2,
          3,
          4,
          5,
          6,
          7,
          8,
          9,
          10,
          11,
          12,
          13,
          14,
          15,
          16,
          17,
          18,
          19,
          20
         ],
         "y": [
          0.40922772117898465,
          0.3968317612160039,
          0.26772395722044356,
          0.2527855299530504,
          0.2471371181696081,
          0.24482233472705922,
          0.23880527555360523,
          0.23879750022247956,
          0.22808643732552342,
          0.219183210093372,
          0.20048959062056937,
          0.199648584350188,
          0.19815321505980973,
          0.19761861769524897,
          0.19400151989196218,
          0.19170368580254096,
          0.19135102690211972,
          0.191018394170956,
          0.18851959677994654,
          0.1832071234584015
         ]
        },
        {
         "hovertext": "<b>Topic 31</b>:영화_상영_영화제_코드_dna_영상_이승만_제작_권고_지지_소",
         "line": {
          "color": "black",
          "width": 1.5
         },
         "mode": "lines+lines",
         "name": "",
         "opacity": 0.1,
         "type": "scatter",
         "x": [
          1,
          2,
          3,
          4,
          5,
          6,
          7,
          8,
          9,
          10,
          11,
          12,
          13,
          14,
          15,
          16,
          17,
          18,
          19,
          20
         ],
         "y": [
          0.564523664811833,
          0.38489702359707934,
          0.3318550866658003,
          0.3302975506569871,
          0.30633767728433936,
          0.2986554302149208,
          0.28680983386021874,
          0.2583052936528613,
          0.25187764400940627,
          0.2506989833670669,
          0.24296869270436386,
          0.23754907346310006,
          0.2367653943848096,
          0.23345184543775627,
          0.2226487670630369,
          0.21733534183290484,
          0.21637684231617477,
          0.2131008176757953,
          0.2124636756103361,
          0.21184829968798372
         ]
        },
        {
         "hovertext": "<b>Topic 32</b>:00_특강_송도_박람회_전지_진로_명회_해수욕장_유실_디지털_",
         "line": {
          "color": "black",
          "width": 1.5
         },
         "mode": "lines+lines",
         "name": "",
         "opacity": 0.1,
         "type": "scatter",
         "x": [
          1,
          2,
          3,
          4,
          5,
          6,
          7,
          8,
          9,
          10,
          11,
          12,
          13,
          14,
          15,
          16,
          17,
          18,
          19,
          20
         ],
         "y": [
          0.5471490270145503,
          0.31205566967222625,
          0.3037400691675634,
          0.2948601037652707,
          0.28906655149864346,
          0.27072082508159856,
          0.26984495326733265,
          0.269653902768797,
          0.2664269215555527,
          0.26233056421866074,
          0.25544002485372963,
          0.246545836065993,
          0.2349304435599105,
          0.2343263967097828,
          0.22844700763520207,
          0.22510344641676092,
          0.21510272438662312,
          0.2124406905625336,
          0.20349206279399448,
          0.20211896952332034
         ]
        },
        {
         "hovertext": "<b>Topic 33</b>:원자력_법률가_13_동해안_원전_클러스터_용서_기도회_지부_경",
         "line": {
          "color": "black",
          "width": 1.5
         },
         "mode": "lines+lines",
         "name": "",
         "opacity": 0.1,
         "type": "scatter",
         "x": [
          1,
          2,
          3,
          4,
          5,
          6,
          7,
          8,
          9,
          10,
          11,
          12,
          13,
          14,
          15,
          16,
          17,
          18,
          19,
          20
         ],
         "y": [
          0.3795386052797112,
          0.3358882243738815,
          0.31728894181810224,
          0.30232785943122603,
          0.28948190549353214,
          0.2408651332465679,
          0.23888333271783657,
          0.23594951286631557,
          0.23416682059669938,
          0.2258152682930935,
          0.2235327112966029,
          0.2167016577654427,
          0.21015072223839223,
          0.20828807742328698,
          0.2056319180027723,
          0.20514223802430984,
          0.20376391760177662,
          0.2015149965373106,
          0.19423012397965952,
          0.1936159430866798
         ]
        },
        {
         "hovertext": "<b>Topic 34</b>:사무_처장_국장_사무총장_교사_대표_변호사_노조_상임_참여연대",
         "line": {
          "color": "black",
          "width": 1.5
         },
         "mode": "lines+lines",
         "name": "",
         "opacity": 0.1,
         "type": "scatter",
         "x": [
          1,
          2,
          3,
          4,
          5,
          6,
          7,
          8,
          9,
          10,
          11,
          12,
          13,
          14,
          15,
          16,
          17,
          18,
          19,
          20
         ],
         "y": [
          0.498172261314677,
          0.3475258409878407,
          0.3233068492025452,
          0.3223985371320092,
          0.310634509179687,
          0.2920000821928379,
          0.27356691078737827,
          0.2665446354509705,
          0.2610179563827294,
          0.25764823038627466,
          0.2555465389430822,
          0.2515250788701589,
          0.250735332438315,
          0.24716564702257324,
          0.24088396304979345,
          0.2167483270147063,
          0.2114426389563961,
          0.21136772546931842,
          0.21102167627962157,
          0.21058739088535194
         ]
        },
        {
         "hovertext": "<b>Topic 35</b>:신대_충남_교대_원대_가톨릭_여대_목포_외대_주대_남대_서울_",
         "line": {
          "color": "black",
          "width": 1.5
         },
         "mode": "lines+lines",
         "name": "",
         "opacity": 0.1,
         "type": "scatter",
         "x": [
          1,
          2,
          3,
          4,
          5,
          6,
          7,
          8,
          9,
          10,
          11,
          12,
          13,
          14,
          15,
          16,
          17,
          18,
          19,
          20
         ],
         "y": [
          0.3517768874622634,
          0.34639890416054897,
          0.323894227108316,
          0.31438734627103965,
          0.312069687865298,
          0.3076703883093862,
          0.2976619803802904,
          0.29253909690697893,
          0.28819596704489514,
          0.27985800987602344,
          0.27170549123519416,
          0.27059755127746926,
          0.267013160120599,
          0.26576802533896565,
          0.26152942349426983,
          0.26151330982999915,
          0.26120065796666836,
          0.2598824691813158,
          0.25962496907159754,
          0.25879040484784543
         ]
        },
        {
         "hovertext": "<b>Topic 36</b>:지수_부문_자궁_명성_증권_상승_지속_공기업_사회학_점수_기도",
         "line": {
          "color": "black",
          "width": 1.5
         },
         "mode": "lines+lines",
         "name": "",
         "opacity": 0.1,
         "type": "scatter",
         "x": [
          1,
          2,
          3,
          4,
          5,
          6,
          7,
          8,
          9,
          10,
          11,
          12,
          13,
          14,
          15,
          16,
          17,
          18,
          19,
          20
         ],
         "y": [
          0.4548236986834318,
          0.3776732837414512,
          0.35941769444049915,
          0.308261877325172,
          0.308083788951579,
          0.3017165857476492,
          0.28976003299020653,
          0.285557267586433,
          0.28357538136687077,
          0.2792900724247457,
          0.26432595928500263,
          0.25731568828311757,
          0.252222323265467,
          0.237865467526129,
          0.23394139626539595,
          0.23251315445607323,
          0.2305036636936144,
          0.22959547246154094,
          0.22882014992219973,
          0.2286512379612895
         ]
        },
        {
         "hovertext": "<b>Topic 37</b>:80_대안_실업_전형_카페_출신_선진_진학_세계관_입시_하대_",
         "line": {
          "color": "black",
          "width": 1.5
         },
         "mode": "lines+lines",
         "name": "",
         "opacity": 0.1,
         "type": "scatter",
         "x": [
          1,
          2,
          3,
          4,
          5,
          6,
          7,
          8,
          9,
          10,
          11,
          12,
          13,
          14,
          15,
          16,
          17,
          18,
          19,
          20
         ],
         "y": [
          0.29126861146542965,
          0.24661920805659543,
          0.22419397717093015,
          0.22289122116318308,
          0.20199768968028053,
          0.20121884736153178,
          0.20051115474305886,
          0.19682148799066335,
          0.1959671161649534,
          0.18944887981221462,
          0.18517451481091418,
          0.1817232660281465,
          0.18078094703445588,
          0.18021421901033483,
          0.18017020311249105,
          0.17957804184280876,
          0.17881497495392734,
          0.17851402316098042,
          0.17759070877485397,
          0.1773271739670505
         ]
        },
        {
         "hovertext": "<b>Topic 38</b>:200_구절_지진_상자_조국_명회_인문_사범_수능_400_실용",
         "line": {
          "color": "black",
          "width": 1.5
         },
         "mode": "lines+lines",
         "name": "",
         "opacity": 0.1,
         "type": "scatter",
         "x": [
          1,
          2,
          3,
          4,
          5,
          6,
          7,
          8,
          9,
          10,
          11,
          12,
          13,
          14,
          15,
          16,
          17,
          18,
          19,
          20
         ],
         "y": [
          0.29404052479914866,
          0.29389061602326055,
          0.24105480406594182,
          0.2249691759334061,
          0.22300144993057824,
          0.2206147323928729,
          0.22019499664742156,
          0.2170346925678329,
          0.21425099539458486,
          0.21371573135405922,
          0.21092615079681903,
          0.2044796367384726,
          0.2032215911270196,
          0.20172951019247007,
          0.20105763428882484,
          0.19875223606702197,
          0.19597099626410816,
          0.19557423246936229,
          0.19205766989830358,
          0.1913264036585689
         ]
        },
        {
         "hovertext": "<b>Topic 39</b>:외교_우크라_오바마_이나_부시_중국_미군_주한_나토_배치_위기",
         "line": {
          "color": "black",
          "width": 1.5
         },
         "mode": "lines+lines",
         "name": "",
         "opacity": 0.1,
         "type": "scatter",
         "x": [
          1,
          2,
          3,
          4,
          5,
          6,
          7,
          8,
          9,
          10,
          11,
          12,
          13,
          14,
          15,
          16,
          17,
          18,
          19,
          20
         ],
         "y": [
          0.2417557862728186,
          0.23202825318354856,
          0.23181482899700412,
          0.22952270901213043,
          0.229119867965325,
          0.22694294001686413,
          0.22331083776459498,
          0.22287060927869798,
          0.22015613060082187,
          0.21728118528117585,
          0.21162463698807335,
          0.21140680004585136,
          0.20965571768434607,
          0.20391863875500046,
          0.2039009498977796,
          0.1991803818461232,
          0.19907581179377767,
          0.19770281270057244,
          0.1970908220960384,
          0.19618791580358372
         ]
        },
        {
         "hovertext": "<b>Topic 40</b>:후보_가정_인성_국사_교내_조국_전지_장관_지명_법무부_사역_",
         "line": {
          "color": "black",
          "width": 1.5
         },
         "mode": "lines+lines",
         "name": "",
         "opacity": 0.1,
         "type": "scatter",
         "x": [
          1,
          2,
          3,
          4,
          5,
          6,
          7,
          8,
          9,
          10,
          11,
          12,
          13,
          14,
          15,
          16,
          17,
          18,
          19,
          20
         ],
         "y": [
          0.30177374427958925,
          0.30142569217209064,
          0.26814299849230544,
          0.2612043237758942,
          0.25171464314291175,
          0.2464928787457893,
          0.23941666955031093,
          0.23276009983387588,
          0.22747302511788317,
          0.22083142176494583,
          0.2160231218286822,
          0.2053795637935777,
          0.20383319205338618,
          0.19989613860073654,
          0.19453215968019227,
          0.19301658905897484,
          0.1879415658880337,
          0.18403144478947014,
          0.1833856645063991,
          0.18275217246503989
         ]
        },
        {
         "hovertext": "<b>Topic 41</b>:검정고시_주식_전년_유엔사_학년도_하우스_학업_중단_용역_연습",
         "line": {
          "color": "black",
          "width": 1.5
         },
         "mode": "lines+lines",
         "name": "",
         "opacity": 0.1,
         "type": "scatter",
         "x": [
          1,
          2,
          3,
          4,
          5,
          6,
          7,
          8,
          9,
          10,
          11,
          12,
          13,
          14,
          15,
          16,
          17,
          18,
          19,
          20
         ],
         "y": [
          0.3941352110176335,
          0.3351447117056596,
          0.331044036339998,
          0.3297816924939455,
          0.32762928707871114,
          0.32531781909455393,
          0.3229291326160349,
          0.2613019821144454,
          0.2606887539282928,
          0.2589175200612307,
          0.2526757766641955,
          0.24887549118874105,
          0.24320587457700746,
          0.24302641009449463,
          0.24108760573970114,
          0.23803266020065728,
          0.23702141922816736,
          0.2354021165921051,
          0.2352457936472267,
          0.23137100211623968
         ]
        },
        {
         "hovertext": "<b>Topic 42</b>:26_입국_특보_대담_벨트_울릉군_베트남_여행_ccc_수련_조",
         "line": {
          "color": "black",
          "width": 1.5
         },
         "mode": "lines+lines",
         "name": "",
         "opacity": 0.1,
         "type": "scatter",
         "x": [
          1,
          2,
          3,
          4,
          5,
          6,
          7,
          8,
          9,
          10,
          11,
          12,
          13,
          14,
          15,
          16,
          17,
          18,
          19,
          20
         ],
         "y": [
          0.35814565205452437,
          0.3062766353681181,
          0.29980469230419116,
          0.2658225625047508,
          0.2540740295249904,
          0.25208701622202945,
          0.24602369478665018,
          0.23919319126273267,
          0.22584926737356967,
          0.21826272205568342,
          0.2087328003076515,
          0.20815859465798905,
          0.20709212570185584,
          0.20364517353448622,
          0.20195283281909857,
          0.20045796657154077,
          0.1946633134609868,
          0.19451952542503628,
          0.19403247229305598,
          0.19395428674576343
         ]
        },
        {
         "hovertext": "<b>Topic 43</b>:주주_금호_23_일자_교차_기사_파트_법조_인공_베트남_에너지",
         "line": {
          "color": "black",
          "width": 1.5
         },
         "mode": "lines+lines",
         "name": "",
         "opacity": 0.1,
         "type": "scatter",
         "x": [
          1,
          2,
          3,
          4,
          5,
          6,
          7,
          8,
          9,
          10,
          11,
          12,
          13,
          14,
          15,
          16,
          17,
          18,
          19,
          20
         ],
         "y": [
          0.32521034245173835,
          0.30117699743941717,
          0.2890433319308924,
          0.25059459658878713,
          0.24825071893805403,
          0.23430254530910544,
          0.232549454874054,
          0.22699026384685328,
          0.22640614394279995,
          0.22552181424871584,
          0.21855910987208016,
          0.2136121271167364,
          0.2134391129355948,
          0.2133326888881382,
          0.21052083212324357,
          0.2058744148971481,
          0.205683360012399,
          0.2056362373662456,
          0.20396901079802307,
          0.2021409111138514
         ]
        },
        {
         "hovertext": "<b>Topic 44</b>:의장_미군_주한_합참_종료_협상_군사_지소_미아_방위비_협정_",
         "line": {
          "color": "black",
          "width": 1.5
         },
         "mode": "lines+lines",
         "name": "",
         "opacity": 0.1,
         "type": "scatter",
         "x": [
          1,
          2,
          3,
          4,
          5,
          6,
          7,
          8,
          9,
          10,
          11,
          12,
          13,
          14,
          15,
          16,
          17,
          18,
          19,
          20
         ],
         "y": [
          0.3089979796710489,
          0.2924049906279043,
          0.2860861771168967,
          0.2765039988603586,
          0.26624282695493695,
          0.2658373172572547,
          0.2654316045170619,
          0.2568603745669033,
          0.2544306516270606,
          0.24360877651629276,
          0.230605093605529,
          0.22450041602056392,
          0.22104252899755086,
          0.21824460963598033,
          0.21672116034344122,
          0.21490479749738142,
          0.21038415490568033,
          0.2060303145097187,
          0.20535691567642406,
          0.20472694102960767
         ]
        },
        {
         "hovertext": "<b>Topic 45</b>:24_기숙사_폭파_에너지_행복_제어_폐기_옥수수_상임_기도회_",
         "line": {
          "color": "black",
          "width": 1.5
         },
         "mode": "lines+lines",
         "name": "",
         "opacity": 0.1,
         "type": "scatter",
         "x": [
          1,
          2,
          3,
          4,
          5,
          6,
          7,
          8,
          9,
          10,
          11,
          12,
          13,
          14,
          15,
          16,
          17,
          18,
          19,
          20
         ],
         "y": [
          0.3326743462140645,
          0.27164418364078413,
          0.25659920472291137,
          0.24948321610985508,
          0.24724031839072225,
          0.23671043512030934,
          0.23581412524661485,
          0.23564399636502842,
          0.2343716768202804,
          0.23058774065507037,
          0.22713555604628924,
          0.22338731553488728,
          0.2191762965325476,
          0.21906163542733387,
          0.21507277608987294,
          0.20897776651433692,
          0.20613667170261926,
          0.2026696416176252,
          0.20182034839388902,
          0.20066639254585758
         ]
        },
        {
         "hovertext": "<b>Topic 46</b>:고양이_교과서_tv_동물_교학사_학대_덕성_마리_필자_경찰_수",
         "line": {
          "color": "black",
          "width": 1.5
         },
         "mode": "lines+lines",
         "name": "",
         "opacity": 0.1,
         "type": "scatter",
         "x": [
          1,
          2,
          3,
          4,
          5,
          6,
          7,
          8,
          9,
          10,
          11,
          12,
          13,
          14,
          15,
          16,
          17,
          18,
          19,
          20
         ],
         "y": [
          0.4346262524482855,
          0.41274617608334135,
          0.3800729196081553,
          0.37574320731706257,
          0.37149175241690746,
          0.36102764607825005,
          0.3318295949201399,
          0.29833397547428475,
          0.2922849562613377,
          0.27713768588966725,
          0.25617821388855666,
          0.25267476225424745,
          0.24591598871234102,
          0.24036577307358697,
          0.2390285200430341,
          0.23078575960010397,
          0.2253281865242283,
          0.22236501638608527,
          0.22179542147378475,
          0.21862092459577384
         ]
        },
        {
         "hovertext": "<b>Topic 47</b>:레이저_커닝_국적_검찰_판결_추방_판사_스쿨_사법부_사법_양심",
         "line": {
          "color": "black",
          "width": 1.5
         },
         "mode": "lines+lines",
         "name": "",
         "opacity": 0.1,
         "type": "scatter",
         "x": [
          1,
          2,
          3,
          4,
          5,
          6,
          7,
          8,
          9,
          10,
          11,
          12,
          13,
          14,
          15,
          16,
          17,
          18,
          19,
          20
         ],
         "y": [
          0.3732230285361952,
          0.35539368043800773,
          0.33735366054236426,
          0.30838693393764405,
          0.3056687212793493,
          0.30387670310128423,
          0.2773861475493208,
          0.2591034422707551,
          0.2559559453184429,
          0.2509567499090926,
          0.24110636088588147,
          0.23788393817853204,
          0.23444168938130758,
          0.23089878490803215,
          0.22652909898166224,
          0.22252037643177794,
          0.2185201682939822,
          0.21362998148880244,
          0.21088541082653614,
          0.20760878146739306
         ]
        },
        {
         "hovertext": "<b>Topic 48</b>:사정관_27_진로_독립운동_사학_파크_입학_컨설팅_진학_정치범",
         "line": {
          "color": "black",
          "width": 1.5
         },
         "mode": "lines+lines",
         "name": "",
         "opacity": 0.1,
         "type": "scatter",
         "x": [
          1,
          2,
          3,
          4,
          5,
          6,
          7,
          8,
          9,
          10,
          11,
          12,
          13,
          14,
          15,
          16,
          17,
          18,
          19,
          20
         ],
         "y": [
          0.3262285020371547,
          0.32544684176562877,
          0.27804694225840265,
          0.2747791275605337,
          0.27139502152435796,
          0.2705346885181969,
          0.2601744782941461,
          0.2476565672384134,
          0.24243752966655205,
          0.23745449276228364,
          0.22607848065128988,
          0.22484405863287255,
          0.22383109240647908,
          0.22008043370381838,
          0.21939338610752518,
          0.21705707258952273,
          0.21177711408398447,
          0.20614226651247397,
          0.19995967997120523,
          0.1973976172399737
         ]
        },
        {
         "hovertext": "<b>Topic 49</b>:법관_재판_헌법_교육감_동성혼_장군_검사_사법_단일_재판관_증",
         "line": {
          "color": "black",
          "width": 1.5
         },
         "mode": "lines+lines",
         "name": "",
         "opacity": 0.1,
         "type": "scatter",
         "x": [
          1,
          2,
          3,
          4,
          5,
          6,
          7,
          8,
          9,
          10,
          11,
          12,
          13,
          14,
          15,
          16,
          17,
          18,
          19,
          20
         ],
         "y": [
          0.36925318606832747,
          0.36898975052339916,
          0.3151132346797569,
          0.3106941636458929,
          0.30253451956438143,
          0.30240749258202265,
          0.2962346499963739,
          0.2925001112322372,
          0.28038947155669747,
          0.27928187060277065,
          0.27682841178089257,
          0.26940487158722826,
          0.2657376468459209,
          0.2616189377755162,
          0.25490131133199334,
          0.2526714149214026,
          0.2502231378763905,
          0.23952245856051604,
          0.23784908388045525,
          0.2357820923387223
         ]
        },
        {
         "hovertext": "<b>Topic 50</b>:죽음_주립_일자리_캠프_울릉_혁신_편입_울릉군_글로벌_기억_환",
         "line": {
          "color": "black",
          "width": 1.5
         },
         "mode": "lines+lines",
         "name": "",
         "opacity": 0.1,
         "type": "scatter",
         "x": [
          1,
          2,
          3,
          4,
          5,
          6,
          7,
          8,
          9,
          10,
          11,
          12,
          13,
          14,
          15,
          16,
          17,
          18,
          19,
          20
         ],
         "y": [
          0.3512571360403143,
          0.28078044019001636,
          0.26565065428833423,
          0.2562369444190342,
          0.2559099912813942,
          0.24639537693329322,
          0.2441890391016635,
          0.24397237075260114,
          0.24274023686235394,
          0.23734814147613018,
          0.23491660661214178,
          0.22836240140164818,
          0.22545914459770483,
          0.219425897036016,
          0.21740399818990794,
          0.2137752419545294,
          0.21256492003407393,
          0.21248927896106679,
          0.20594294319671397,
          0.20444930020121505
         ]
        },
        {
         "hovertext": "<b>Topic 51</b>:혐오_후보_청문회_발사체_한국어_교포_대선_코로나_열병식_발사",
         "line": {
          "color": "black",
          "width": 1.5
         },
         "mode": "lines+lines",
         "name": "",
         "opacity": 0.1,
         "type": "scatter",
         "x": [
          1,
          2,
          3,
          4,
          5,
          6,
          7,
          8,
          9,
          10,
          11,
          12,
          13,
          14,
          15,
          16,
          17,
          18,
          19,
          20
         ],
         "y": [
          0.31077736703910874,
          0.2748044425553273,
          0.265799310483892,
          0.2533612343999467,
          0.248621893631287,
          0.23261769968574664,
          0.22947939688852875,
          0.22398538519027295,
          0.22327608270822333,
          0.21993653049232845,
          0.2143154537552067,
          0.20285874648299573,
          0.19725806740916854,
          0.19692870866587392,
          0.19279040351174878,
          0.19094198167467244,
          0.18956604074733524,
          0.18955713735071503,
          0.18551013252902276,
          0.18457300190773318
         ]
        },
        {
         "hovertext": "<b>Topic 52</b>:검찰_수사_사법_권위_행정_조례_차별_금법_대법원_법무부_법원",
         "line": {
          "color": "black",
          "width": 1.5
         },
         "mode": "lines+lines",
         "name": "",
         "opacity": 0.1,
         "type": "scatter",
         "x": [
          1,
          2,
          3,
          4,
          5,
          6,
          7,
          8,
          9,
          10,
          11,
          12,
          13,
          14,
          15,
          16,
          17,
          18,
          19,
          20
         ],
         "y": [
          0.4207692438938929,
          0.3460711696069104,
          0.3330264934633873,
          0.3182895463960992,
          0.3096954168422383,
          0.3012588862476577,
          0.2874590610718725,
          0.28246137733918947,
          0.2725201567351952,
          0.2573413304359177,
          0.2534936880777984,
          0.2519560954416061,
          0.24781458103825058,
          0.24146228982804066,
          0.23844482284008459,
          0.23538436756146217,
          0.23496130291547257,
          0.23231059289565467,
          0.23075906458688775,
          0.22922803652629553
         ]
        },
        {
         "hovertext": "<b>Topic 53</b>:14_차세대_세대_어린이_경연_복음_스타_청소년_발굴_비중_그",
         "line": {
          "color": "black",
          "width": 1.5
         },
         "mode": "lines+lines",
         "name": "",
         "opacity": 0.1,
         "type": "scatter",
         "x": [
          1,
          2,
          3,
          4,
          5,
          6,
          7,
          8,
          9,
          10,
          11,
          12,
          13,
          14,
          15,
          16,
          17,
          18,
          19,
          20
         ],
         "y": [
          0.44511165314964174,
          0.34084851255069776,
          0.33694907541370595,
          0.3008927023581057,
          0.2996761064435854,
          0.2948398739910275,
          0.2881598661073286,
          0.26845395554844215,
          0.267349082962564,
          0.2670451789529355,
          0.2639002713753199,
          0.26375340066464814,
          0.2573969629490538,
          0.25685081613950395,
          0.24430035142206408,
          0.2376008668204172,
          0.23688604884154726,
          0.23520186032188187,
          0.23068053557360726,
          0.23020536420521173
         ]
        },
        {
         "hovertext": "<b>Topic 54</b>:자전거_도로_가격_주택_전지_광역_2020_기숙사_퓨처_전공_",
         "line": {
          "color": "black",
          "width": 1.5
         },
         "mode": "lines+lines",
         "name": "",
         "opacity": 0.1,
         "type": "scatter",
         "x": [
          1,
          2,
          3,
          4,
          5,
          6,
          7,
          8,
          9,
          10,
          11,
          12,
          13,
          14,
          15,
          16,
          17,
          18,
          19,
          20
         ],
         "y": [
          0.620463542832861,
          0.3062612018175052,
          0.30329545105935646,
          0.2923131434756792,
          0.2830889389487515,
          0.28078027897829927,
          0.2713395434995594,
          0.2650850041982354,
          0.25593478083361915,
          0.2506139073456332,
          0.25030559644347655,
          0.24817539061534305,
          0.2321934041043965,
          0.22347075314879772,
          0.2190910199528506,
          0.21557033455264765,
          0.21249661983598156,
          0.21090327946281673,
          0.20877755651345067,
          0.20461623531795697
         ]
        },
        {
         "hovertext": "<b>Topic 55</b>:sma_무급_분담금_휴직_방위비_타결_근로자_미군_주한_분담_",
         "line": {
          "color": "black",
          "width": 1.5
         },
         "mode": "lines+lines",
         "name": "",
         "opacity": 0.1,
         "type": "scatter",
         "x": [
          1,
          2,
          3,
          4,
          5,
          6,
          7,
          8,
          9,
          10,
          11,
          12,
          13,
          14,
          15,
          16,
          17,
          18,
          19,
          20
         ],
         "y": [
          0.6196979294306694,
          0.530916274426801,
          0.5263584137296476,
          0.5229654998974324,
          0.5211662826194762,
          0.4807333276917143,
          0.46678737979594026,
          0.43624647379613646,
          0.42602222570382414,
          0.3947130754022406,
          0.37854503217607804,
          0.37624197051858005,
          0.3502244915175348,
          0.3441684170030871,
          0.34061072886395755,
          0.3312192165910861,
          0.3267126436918616,
          0.3256791582880427,
          0.322280744309762,
          0.3199969613330807
         ]
        },
        {
         "hovertext": "<b>Topic 56</b>:동문_정당_파병_투표_통과_법안_보험_미디어_선거_승리_영광_",
         "line": {
          "color": "black",
          "width": 1.5
         },
         "mode": "lines+lines",
         "name": "",
         "opacity": 0.1,
         "type": "scatter",
         "x": [
          1,
          2,
          3,
          4,
          5,
          6,
          7,
          8,
          9,
          10,
          11,
          12,
          13,
          14,
          15,
          16,
          17,
          18,
          19,
          20
         ],
         "y": [
          0.38392555515178195,
          0.37066591984049196,
          0.35078147093735457,
          0.3331544309746679,
          0.32648833121021903,
          0.3219228383407747,
          0.31403873964334067,
          0.30027956086982466,
          0.2988412412408706,
          0.2950956153477518,
          0.28690161680698506,
          0.2865302198409648,
          0.269604884043593,
          0.2588758144896754,
          0.2540572578861005,
          0.2501425635265943,
          0.25012993618485024,
          0.24849672290441704,
          0.2439338605618553,
          0.24010668469029553
         ]
        },
        {
         "hovertext": "<b>Topic 57</b>:cbmc_ccm_채플_콘서트_찬양_음악_사역_가수_장로_회원_",
         "line": {
          "color": "black",
          "width": 1.5
         },
         "mode": "lines+lines",
         "name": "",
         "opacity": 0.1,
         "type": "scatter",
         "x": [
          1,
          2,
          3,
          4,
          5,
          6,
          7,
          8,
          9,
          10,
          11,
          12,
          13,
          14,
          15,
          16,
          17,
          18,
          19,
          20
         ],
         "y": [
          0.6399628023343283,
          0.5910934069435663,
          0.5476122910008758,
          0.42738524905300607,
          0.4247225529667473,
          0.3931793746011942,
          0.3698715755480339,
          0.3565152453378103,
          0.33461865230124777,
          0.3333259475805086,
          0.33045412954323083,
          0.3018903910802963,
          0.2893288269429083,
          0.28580542022412636,
          0.28525112231287136,
          0.2742658602500792,
          0.26908301687052877,
          0.26044947200408164,
          0.25831631945801314,
          0.2534534067589196
         ]
        },
        {
         "hovertext": "<b>Topic 58</b>:김영길_공로_선출_몽골_회장_총회_법학_입법_이사_정기_석방_",
         "line": {
          "color": "black",
          "width": 1.5
         },
         "mode": "lines+lines",
         "name": "",
         "opacity": 0.1,
         "type": "scatter",
         "x": [
          1,
          2,
          3,
          4,
          5,
          6,
          7,
          8,
          9,
          10,
          11,
          12,
          13,
          14,
          15,
          16,
          17,
          18,
          19,
          20
         ],
         "y": [
          0.5121849277004771,
          0.4915091539834625,
          0.46746970330578946,
          0.46028657246950694,
          0.44885514947407695,
          0.43570839901481706,
          0.4270452723910393,
          0.4269963134563487,
          0.4154036333212206,
          0.4121067842414037,
          0.40622300084616414,
          0.4041784555938339,
          0.39778058566442526,
          0.3719337320637129,
          0.3714049796828474,
          0.3505085431784307,
          0.3482762217526467,
          0.34762225995304286,
          0.3475494557969693,
          0.3475494557969693
         ]
        },
        {
         "hovertext": "<b>Topic 59</b>:마을_개헌_이슬람_종교_임팩트_운동_콘퍼런스_금융_감사_지구촌",
         "line": {
          "color": "black",
          "width": 1.5
         },
         "mode": "lines+lines",
         "name": "",
         "opacity": 0.1,
         "type": "scatter",
         "x": [
          1,
          2,
          3,
          4,
          5,
          6,
          7,
          8,
          9,
          10,
          11,
          12,
          13,
          14,
          15,
          16,
          17,
          18,
          19,
          20
         ],
         "y": [
          0.4097712943623711,
          0.3736241342218428,
          0.3537095179731437,
          0.3370708208201434,
          0.3120620096120339,
          0.3095672597527642,
          0.2823245447997137,
          0.28182472976537193,
          0.27931187590873696,
          0.2699940577429727,
          0.2636244457570067,
          0.2610920220741994,
          0.25691564054190014,
          0.2568945995350024,
          0.2446981318986336,
          0.2369014555117492,
          0.23494387854920365,
          0.2321845222824472,
          0.23127331051507533,
          0.2308869225265694
         ]
        }
       ],
       "layout": {
        "height": 500,
        "hoverlabel": {
         "bgcolor": "white",
         "font": {
          "family": "Rockwell",
          "size": 16
         }
        },
        "showlegend": false,
        "template": {
         "data": {
          "bar": [
           {
            "error_x": {
             "color": "#2a3f5f"
            },
            "error_y": {
             "color": "#2a3f5f"
            },
            "marker": {
             "line": {
              "color": "white",
              "width": 0.5
             },
             "pattern": {
              "fillmode": "overlay",
              "size": 10,
              "solidity": 0.2
             }
            },
            "type": "bar"
           }
          ],
          "barpolar": [
           {
            "marker": {
             "line": {
              "color": "white",
              "width": 0.5
             },
             "pattern": {
              "fillmode": "overlay",
              "size": 10,
              "solidity": 0.2
             }
            },
            "type": "barpolar"
           }
          ],
          "carpet": [
           {
            "aaxis": {
             "endlinecolor": "#2a3f5f",
             "gridcolor": "#C8D4E3",
             "linecolor": "#C8D4E3",
             "minorgridcolor": "#C8D4E3",
             "startlinecolor": "#2a3f5f"
            },
            "baxis": {
             "endlinecolor": "#2a3f5f",
             "gridcolor": "#C8D4E3",
             "linecolor": "#C8D4E3",
             "minorgridcolor": "#C8D4E3",
             "startlinecolor": "#2a3f5f"
            },
            "type": "carpet"
           }
          ],
          "choropleth": [
           {
            "colorbar": {
             "outlinewidth": 0,
             "ticks": ""
            },
            "type": "choropleth"
           }
          ],
          "contour": [
           {
            "colorbar": {
             "outlinewidth": 0,
             "ticks": ""
            },
            "colorscale": [
             [
              0,
              "#0d0887"
             ],
             [
              0.1111111111111111,
              "#46039f"
             ],
             [
              0.2222222222222222,
              "#7201a8"
             ],
             [
              0.3333333333333333,
              "#9c179e"
             ],
             [
              0.4444444444444444,
              "#bd3786"
             ],
             [
              0.5555555555555556,
              "#d8576b"
             ],
             [
              0.6666666666666666,
              "#ed7953"
             ],
             [
              0.7777777777777778,
              "#fb9f3a"
             ],
             [
              0.8888888888888888,
              "#fdca26"
             ],
             [
              1,
              "#f0f921"
             ]
            ],
            "type": "contour"
           }
          ],
          "contourcarpet": [
           {
            "colorbar": {
             "outlinewidth": 0,
             "ticks": ""
            },
            "type": "contourcarpet"
           }
          ],
          "heatmap": [
           {
            "colorbar": {
             "outlinewidth": 0,
             "ticks": ""
            },
            "colorscale": [
             [
              0,
              "#0d0887"
             ],
             [
              0.1111111111111111,
              "#46039f"
             ],
             [
              0.2222222222222222,
              "#7201a8"
             ],
             [
              0.3333333333333333,
              "#9c179e"
             ],
             [
              0.4444444444444444,
              "#bd3786"
             ],
             [
              0.5555555555555556,
              "#d8576b"
             ],
             [
              0.6666666666666666,
              "#ed7953"
             ],
             [
              0.7777777777777778,
              "#fb9f3a"
             ],
             [
              0.8888888888888888,
              "#fdca26"
             ],
             [
              1,
              "#f0f921"
             ]
            ],
            "type": "heatmap"
           }
          ],
          "heatmapgl": [
           {
            "colorbar": {
             "outlinewidth": 0,
             "ticks": ""
            },
            "colorscale": [
             [
              0,
              "#0d0887"
             ],
             [
              0.1111111111111111,
              "#46039f"
             ],
             [
              0.2222222222222222,
              "#7201a8"
             ],
             [
              0.3333333333333333,
              "#9c179e"
             ],
             [
              0.4444444444444444,
              "#bd3786"
             ],
             [
              0.5555555555555556,
              "#d8576b"
             ],
             [
              0.6666666666666666,
              "#ed7953"
             ],
             [
              0.7777777777777778,
              "#fb9f3a"
             ],
             [
              0.8888888888888888,
              "#fdca26"
             ],
             [
              1,
              "#f0f921"
             ]
            ],
            "type": "heatmapgl"
           }
          ],
          "histogram": [
           {
            "marker": {
             "pattern": {
              "fillmode": "overlay",
              "size": 10,
              "solidity": 0.2
             }
            },
            "type": "histogram"
           }
          ],
          "histogram2d": [
           {
            "colorbar": {
             "outlinewidth": 0,
             "ticks": ""
            },
            "colorscale": [
             [
              0,
              "#0d0887"
             ],
             [
              0.1111111111111111,
              "#46039f"
             ],
             [
              0.2222222222222222,
              "#7201a8"
             ],
             [
              0.3333333333333333,
              "#9c179e"
             ],
             [
              0.4444444444444444,
              "#bd3786"
             ],
             [
              0.5555555555555556,
              "#d8576b"
             ],
             [
              0.6666666666666666,
              "#ed7953"
             ],
             [
              0.7777777777777778,
              "#fb9f3a"
             ],
             [
              0.8888888888888888,
              "#fdca26"
             ],
             [
              1,
              "#f0f921"
             ]
            ],
            "type": "histogram2d"
           }
          ],
          "histogram2dcontour": [
           {
            "colorbar": {
             "outlinewidth": 0,
             "ticks": ""
            },
            "colorscale": [
             [
              0,
              "#0d0887"
             ],
             [
              0.1111111111111111,
              "#46039f"
             ],
             [
              0.2222222222222222,
              "#7201a8"
             ],
             [
              0.3333333333333333,
              "#9c179e"
             ],
             [
              0.4444444444444444,
              "#bd3786"
             ],
             [
              0.5555555555555556,
              "#d8576b"
             ],
             [
              0.6666666666666666,
              "#ed7953"
             ],
             [
              0.7777777777777778,
              "#fb9f3a"
             ],
             [
              0.8888888888888888,
              "#fdca26"
             ],
             [
              1,
              "#f0f921"
             ]
            ],
            "type": "histogram2dcontour"
           }
          ],
          "mesh3d": [
           {
            "colorbar": {
             "outlinewidth": 0,
             "ticks": ""
            },
            "type": "mesh3d"
           }
          ],
          "parcoords": [
           {
            "line": {
             "colorbar": {
              "outlinewidth": 0,
              "ticks": ""
             }
            },
            "type": "parcoords"
           }
          ],
          "pie": [
           {
            "automargin": true,
            "type": "pie"
           }
          ],
          "scatter": [
           {
            "fillpattern": {
             "fillmode": "overlay",
             "size": 10,
             "solidity": 0.2
            },
            "type": "scatter"
           }
          ],
          "scatter3d": [
           {
            "line": {
             "colorbar": {
              "outlinewidth": 0,
              "ticks": ""
             }
            },
            "marker": {
             "colorbar": {
              "outlinewidth": 0,
              "ticks": ""
             }
            },
            "type": "scatter3d"
           }
          ],
          "scattercarpet": [
           {
            "marker": {
             "colorbar": {
              "outlinewidth": 0,
              "ticks": ""
             }
            },
            "type": "scattercarpet"
           }
          ],
          "scattergeo": [
           {
            "marker": {
             "colorbar": {
              "outlinewidth": 0,
              "ticks": ""
             }
            },
            "type": "scattergeo"
           }
          ],
          "scattergl": [
           {
            "marker": {
             "colorbar": {
              "outlinewidth": 0,
              "ticks": ""
             }
            },
            "type": "scattergl"
           }
          ],
          "scattermapbox": [
           {
            "marker": {
             "colorbar": {
              "outlinewidth": 0,
              "ticks": ""
             }
            },
            "type": "scattermapbox"
           }
          ],
          "scatterpolar": [
           {
            "marker": {
             "colorbar": {
              "outlinewidth": 0,
              "ticks": ""
             }
            },
            "type": "scatterpolar"
           }
          ],
          "scatterpolargl": [
           {
            "marker": {
             "colorbar": {
              "outlinewidth": 0,
              "ticks": ""
             }
            },
            "type": "scatterpolargl"
           }
          ],
          "scatterternary": [
           {
            "marker": {
             "colorbar": {
              "outlinewidth": 0,
              "ticks": ""
             }
            },
            "type": "scatterternary"
           }
          ],
          "surface": [
           {
            "colorbar": {
             "outlinewidth": 0,
             "ticks": ""
            },
            "colorscale": [
             [
              0,
              "#0d0887"
             ],
             [
              0.1111111111111111,
              "#46039f"
             ],
             [
              0.2222222222222222,
              "#7201a8"
             ],
             [
              0.3333333333333333,
              "#9c179e"
             ],
             [
              0.4444444444444444,
              "#bd3786"
             ],
             [
              0.5555555555555556,
              "#d8576b"
             ],
             [
              0.6666666666666666,
              "#ed7953"
             ],
             [
              0.7777777777777778,
              "#fb9f3a"
             ],
             [
              0.8888888888888888,
              "#fdca26"
             ],
             [
              1,
              "#f0f921"
             ]
            ],
            "type": "surface"
           }
          ],
          "table": [
           {
            "cells": {
             "fill": {
              "color": "#EBF0F8"
             },
             "line": {
              "color": "white"
             }
            },
            "header": {
             "fill": {
              "color": "#C8D4E3"
             },
             "line": {
              "color": "white"
             }
            },
            "type": "table"
           }
          ]
         },
         "layout": {
          "annotationdefaults": {
           "arrowcolor": "#2a3f5f",
           "arrowhead": 0,
           "arrowwidth": 1
          },
          "autotypenumbers": "strict",
          "coloraxis": {
           "colorbar": {
            "outlinewidth": 0,
            "ticks": ""
           }
          },
          "colorscale": {
           "diverging": [
            [
             0,
             "#8e0152"
            ],
            [
             0.1,
             "#c51b7d"
            ],
            [
             0.2,
             "#de77ae"
            ],
            [
             0.3,
             "#f1b6da"
            ],
            [
             0.4,
             "#fde0ef"
            ],
            [
             0.5,
             "#f7f7f7"
            ],
            [
             0.6,
             "#e6f5d0"
            ],
            [
             0.7,
             "#b8e186"
            ],
            [
             0.8,
             "#7fbc41"
            ],
            [
             0.9,
             "#4d9221"
            ],
            [
             1,
             "#276419"
            ]
           ],
           "sequential": [
            [
             0,
             "#0d0887"
            ],
            [
             0.1111111111111111,
             "#46039f"
            ],
            [
             0.2222222222222222,
             "#7201a8"
            ],
            [
             0.3333333333333333,
             "#9c179e"
            ],
            [
             0.4444444444444444,
             "#bd3786"
            ],
            [
             0.5555555555555556,
             "#d8576b"
            ],
            [
             0.6666666666666666,
             "#ed7953"
            ],
            [
             0.7777777777777778,
             "#fb9f3a"
            ],
            [
             0.8888888888888888,
             "#fdca26"
            ],
            [
             1,
             "#f0f921"
            ]
           ],
           "sequentialminus": [
            [
             0,
             "#0d0887"
            ],
            [
             0.1111111111111111,
             "#46039f"
            ],
            [
             0.2222222222222222,
             "#7201a8"
            ],
            [
             0.3333333333333333,
             "#9c179e"
            ],
            [
             0.4444444444444444,
             "#bd3786"
            ],
            [
             0.5555555555555556,
             "#d8576b"
            ],
            [
             0.6666666666666666,
             "#ed7953"
            ],
            [
             0.7777777777777778,
             "#fb9f3a"
            ],
            [
             0.8888888888888888,
             "#fdca26"
            ],
            [
             1,
             "#f0f921"
            ]
           ]
          },
          "colorway": [
           "#636efa",
           "#EF553B",
           "#00cc96",
           "#ab63fa",
           "#FFA15A",
           "#19d3f3",
           "#FF6692",
           "#B6E880",
           "#FF97FF",
           "#FECB52"
          ],
          "font": {
           "color": "#2a3f5f"
          },
          "geo": {
           "bgcolor": "white",
           "lakecolor": "white",
           "landcolor": "white",
           "showlakes": true,
           "showland": true,
           "subunitcolor": "#C8D4E3"
          },
          "hoverlabel": {
           "align": "left"
          },
          "hovermode": "closest",
          "mapbox": {
           "style": "light"
          },
          "paper_bgcolor": "white",
          "plot_bgcolor": "white",
          "polar": {
           "angularaxis": {
            "gridcolor": "#EBF0F8",
            "linecolor": "#EBF0F8",
            "ticks": ""
           },
           "bgcolor": "white",
           "radialaxis": {
            "gridcolor": "#EBF0F8",
            "linecolor": "#EBF0F8",
            "ticks": ""
           }
          },
          "scene": {
           "xaxis": {
            "backgroundcolor": "white",
            "gridcolor": "#DFE8F3",
            "gridwidth": 2,
            "linecolor": "#EBF0F8",
            "showbackground": true,
            "ticks": "",
            "zerolinecolor": "#EBF0F8"
           },
           "yaxis": {
            "backgroundcolor": "white",
            "gridcolor": "#DFE8F3",
            "gridwidth": 2,
            "linecolor": "#EBF0F8",
            "showbackground": true,
            "ticks": "",
            "zerolinecolor": "#EBF0F8"
           },
           "zaxis": {
            "backgroundcolor": "white",
            "gridcolor": "#DFE8F3",
            "gridwidth": 2,
            "linecolor": "#EBF0F8",
            "showbackground": true,
            "ticks": "",
            "zerolinecolor": "#EBF0F8"
           }
          },
          "shapedefaults": {
           "line": {
            "color": "#2a3f5f"
           }
          },
          "ternary": {
           "aaxis": {
            "gridcolor": "#DFE8F3",
            "linecolor": "#A2B1C6",
            "ticks": ""
           },
           "baxis": {
            "gridcolor": "#DFE8F3",
            "linecolor": "#A2B1C6",
            "ticks": ""
           },
           "bgcolor": "white",
           "caxis": {
            "gridcolor": "#DFE8F3",
            "linecolor": "#A2B1C6",
            "ticks": ""
           }
          },
          "title": {
           "x": 0.05
          },
          "xaxis": {
           "automargin": true,
           "gridcolor": "#EBF0F8",
           "linecolor": "#EBF0F8",
           "ticks": "",
           "title": {
            "standoff": 15
           },
           "zerolinecolor": "#EBF0F8",
           "zerolinewidth": 2
          },
          "yaxis": {
           "automargin": true,
           "gridcolor": "#EBF0F8",
           "linecolor": "#EBF0F8",
           "ticks": "",
           "title": {
            "standoff": 15
           },
           "zerolinecolor": "#EBF0F8",
           "zerolinewidth": 2
          }
         }
        },
        "title": {
         "font": {
          "color": "Black",
          "size": 22
         },
         "text": "<b>Term score decline per Topic</b>",
         "x": 0.5,
         "xanchor": "center",
         "y": 0.9,
         "yanchor": "top"
        },
        "width": 800,
        "xaxis": {
         "dtick": 2,
         "range": [
          0,
          20
         ],
         "tick0": 1,
         "title": {
          "text": "Term Rank"
         }
        },
        "yaxis": {
         "title": {
          "text": "c-TF-IDF score"
         }
        }
       }
      }
     },
     "metadata": {},
     "output_type": "display_data"
    }
   ],
   "source": [
    "# To visualize the Term score per topic \n",
    "topic_model.visualize_term_rank()"
   ]
  },
  {
   "cell_type": "code",
   "execution_count": 23,
   "metadata": {},
   "outputs": [
    {
     "name": "stderr",
     "output_type": "stream",
     "text": [
      "30it [00:04,  6.03it/s]\n"
     ]
    }
   ],
   "source": [
    "# get the ToT result\n",
    "topics_over_time = topic_model.topics_over_time(words, timestamp)"
   ]
  },
  {
   "cell_type": "code",
   "execution_count": 24,
   "metadata": {},
   "outputs": [
    {
     "data": {
      "text/html": [
       "<div>\n",
       "<style scoped>\n",
       "    .dataframe tbody tr th:only-of-type {\n",
       "        vertical-align: middle;\n",
       "    }\n",
       "\n",
       "    .dataframe tbody tr th {\n",
       "        vertical-align: top;\n",
       "    }\n",
       "\n",
       "    .dataframe thead th {\n",
       "        text-align: right;\n",
       "    }\n",
       "</style>\n",
       "<table border=\"1\" class=\"dataframe\">\n",
       "  <thead>\n",
       "    <tr style=\"text-align: right;\">\n",
       "      <th></th>\n",
       "      <th>Topic</th>\n",
       "      <th>Words</th>\n",
       "      <th>Frequency</th>\n",
       "      <th>Timestamp</th>\n",
       "    </tr>\n",
       "  </thead>\n",
       "  <tbody>\n",
       "    <tr>\n",
       "      <th>0</th>\n",
       "      <td>-1</td>\n",
       "      <td>경쟁, 본고사, 학과, 입시, 미달</td>\n",
       "      <td>45</td>\n",
       "      <td>1995</td>\n",
       "    </tr>\n",
       "    <tr>\n",
       "      <th>1</th>\n",
       "      <td>0</td>\n",
       "      <td>창조, 목회, 자립, 과학, 학습</td>\n",
       "      <td>11</td>\n",
       "      <td>1995</td>\n",
       "    </tr>\n",
       "    <tr>\n",
       "      <th>2</th>\n",
       "      <td>1</td>\n",
       "      <td>순결, 대학가, 학부, 학과, 개방</td>\n",
       "      <td>2</td>\n",
       "      <td>1995</td>\n",
       "    </tr>\n",
       "    <tr>\n",
       "      <th>3</th>\n",
       "      <td>2</td>\n",
       "      <td>본고사, 특차, 미달, 정원, 과목</td>\n",
       "      <td>6</td>\n",
       "      <td>1995</td>\n",
       "    </tr>\n",
       "    <tr>\n",
       "      <th>4</th>\n",
       "      <td>4</td>\n",
       "      <td>선린, 실력, 과학자, 설립, 하나님</td>\n",
       "      <td>4</td>\n",
       "      <td>1995</td>\n",
       "    </tr>\n",
       "    <tr>\n",
       "      <th>5</th>\n",
       "      <td>6</td>\n",
       "      <td>학점, 장벽, 은행, 교육, 개혁</td>\n",
       "      <td>2</td>\n",
       "      <td>1995</td>\n",
       "    </tr>\n",
       "    <tr>\n",
       "      <th>6</th>\n",
       "      <td>7</td>\n",
       "      <td>내신, 배정, 응시, 거주, 고사</td>\n",
       "      <td>1</td>\n",
       "      <td>1995</td>\n",
       "    </tr>\n",
       "    <tr>\n",
       "      <th>7</th>\n",
       "      <td>8</td>\n",
       "      <td>동성애자, 동성애, 본고사, 순결, 특차</td>\n",
       "      <td>4</td>\n",
       "      <td>1995</td>\n",
       "    </tr>\n",
       "    <tr>\n",
       "      <th>8</th>\n",
       "      <td>10</td>\n",
       "      <td>모금, 사랑, 재활, 남편, 요즘</td>\n",
       "      <td>1</td>\n",
       "      <td>1995</td>\n",
       "    </tr>\n",
       "    <tr>\n",
       "      <th>9</th>\n",
       "      <td>12</td>\n",
       "      <td>합격자, 등록, 예비, 엔진, 합격</td>\n",
       "      <td>3</td>\n",
       "      <td>1995</td>\n",
       "    </tr>\n",
       "    <tr>\n",
       "      <th>10</th>\n",
       "      <td>13</td>\n",
       "      <td>제한, 25, 명문, 표방, 상위</td>\n",
       "      <td>6</td>\n",
       "      <td>1995</td>\n",
       "    </tr>\n",
       "    <tr>\n",
       "      <th>11</th>\n",
       "      <td>14</td>\n",
       "      <td>농어촌, 특차, 여대, 12, 공대</td>\n",
       "      <td>2</td>\n",
       "      <td>1995</td>\n",
       "    </tr>\n",
       "    <tr>\n",
       "      <th>12</th>\n",
       "      <td>15</td>\n",
       "      <td>특차, 전원, 구분, 공학부, 전기</td>\n",
       "      <td>1</td>\n",
       "      <td>1995</td>\n",
       "    </tr>\n",
       "    <tr>\n",
       "      <th>13</th>\n",
       "      <td>16</td>\n",
       "      <td>입시, 학과, 소프트, 경쟁, 제도</td>\n",
       "      <td>4</td>\n",
       "      <td>1995</td>\n",
       "    </tr>\n",
       "    <tr>\n",
       "      <th>14</th>\n",
       "      <td>17</td>\n",
       "      <td>청소년, 여름, 수련, 책임자, 방학</td>\n",
       "      <td>1</td>\n",
       "      <td>1995</td>\n",
       "    </tr>\n",
       "    <tr>\n",
       "      <th>15</th>\n",
       "      <td>18</td>\n",
       "      <td>유학, 특강, 수련, 컴퓨터, 전교</td>\n",
       "      <td>2</td>\n",
       "      <td>1995</td>\n",
       "    </tr>\n",
       "    <tr>\n",
       "      <th>16</th>\n",
       "      <td>19</td>\n",
       "      <td>정원, 증원, 마감, 경쟁, 67</td>\n",
       "      <td>2</td>\n",
       "      <td>1995</td>\n",
       "    </tr>\n",
       "    <tr>\n",
       "      <th>17</th>\n",
       "      <td>21</td>\n",
       "      <td>만점, 18, 19, 영문, 전자</td>\n",
       "      <td>2</td>\n",
       "      <td>1995</td>\n",
       "    </tr>\n",
       "    <tr>\n",
       "      <th>18</th>\n",
       "      <td>23</td>\n",
       "      <td>응시, 수석, 합격자, 이념, 대학가</td>\n",
       "      <td>1</td>\n",
       "      <td>1995</td>\n",
       "    </tr>\n",
       "    <tr>\n",
       "      <th>19</th>\n",
       "      <td>24</td>\n",
       "      <td>본고사, 지원자, 나머지, 전기, 신설</td>\n",
       "      <td>1</td>\n",
       "      <td>1995</td>\n",
       "    </tr>\n",
       "  </tbody>\n",
       "</table>\n",
       "</div>"
      ],
      "text/plain": [
       "    Topic                   Words  Frequency  Timestamp\n",
       "0      -1     경쟁, 본고사, 학과, 입시, 미달         45       1995\n",
       "1       0      창조, 목회, 자립, 과학, 학습         11       1995\n",
       "2       1     순결, 대학가, 학부, 학과, 개방          2       1995\n",
       "3       2     본고사, 특차, 미달, 정원, 과목          6       1995\n",
       "4       4    선린, 실력, 과학자, 설립, 하나님          4       1995\n",
       "5       6      학점, 장벽, 은행, 교육, 개혁          2       1995\n",
       "6       7      내신, 배정, 응시, 거주, 고사          1       1995\n",
       "7       8  동성애자, 동성애, 본고사, 순결, 특차          4       1995\n",
       "8      10      모금, 사랑, 재활, 남편, 요즘          1       1995\n",
       "9      12     합격자, 등록, 예비, 엔진, 합격          3       1995\n",
       "10     13      제한, 25, 명문, 표방, 상위          6       1995\n",
       "11     14     농어촌, 특차, 여대, 12, 공대          2       1995\n",
       "12     15     특차, 전원, 구분, 공학부, 전기          1       1995\n",
       "13     16     입시, 학과, 소프트, 경쟁, 제도          4       1995\n",
       "14     17    청소년, 여름, 수련, 책임자, 방학          1       1995\n",
       "15     18     유학, 특강, 수련, 컴퓨터, 전교          2       1995\n",
       "16     19      정원, 증원, 마감, 경쟁, 67          2       1995\n",
       "17     21      만점, 18, 19, 영문, 전자          2       1995\n",
       "18     23    응시, 수석, 합격자, 이념, 대학가          1       1995\n",
       "19     24   본고사, 지원자, 나머지, 전기, 신설          1       1995"
      ]
     },
     "execution_count": 24,
     "metadata": {},
     "output_type": "execute_result"
    }
   ],
   "source": [
    "# show dataframe of ToT result\n",
    "topics_over_time.head(20)"
   ]
  },
  {
   "cell_type": "code",
   "execution_count": 25,
   "metadata": {},
   "outputs": [
    {
     "data": {
      "application/vnd.plotly.v1+json": {
       "config": {
        "plotlyServerURL": "https://plot.ly"
       },
       "data": [
        {
         "hoverinfo": "text",
         "hovertext": [
          "<b>Topic 0</b><br>Words: 창조, 목회, 자립, 과학, 학습",
          "<b>Topic 0</b><br>Words: 진화, 에이즈, 하우스, 창조론, 치료제",
          "<b>Topic 0</b><br>Words: 생명, 창조, 물질, 생명체, 인간",
          "<b>Topic 0</b><br>Words: 세포, 교사, 정원, 죽음, 66",
          "<b>Topic 0</b><br>Words: 진화, 창조, 창조론, 과학, 학회",
          "<b>Topic 0</b><br>Words: 시스템, 측정, 검사, 강사, 간증",
          "<b>Topic 0</b><br>Words: 언론, 특허, 창조, 개혁, 신문",
          "<b>Topic 0</b><br>Words: 상담, 농업, 치유, 아내, 기득",
          "<b>Topic 0</b><br>Words: 결혼, 사이버, 종교, 코스타, 홈페이지",
          "<b>Topic 0</b><br>Words: 아들, 과학자, 우주, 아버지, 집사",
          "<b>Topic 0</b><br>Words: 죽음, 설계, 구호, 이론, 복지",
          "<b>Topic 0</b><br>Words: 세계관, 수리, 소녀, 졸업, 가산점",
          "<b>Topic 0</b><br>Words: mk, 창조, 진화, 개도국, 유네스코",
          "<b>Topic 0</b><br>Words: 조치원, 여대, 홍익, 나사렛, 서울",
          "<b>Topic 0</b><br>Words: 미디어, 자녀, oecd, 창의, 캠프",
          "<b>Topic 0</b><br>Words: 아버지, 아내, 포스, 기부, 창조",
          "<b>Topic 0</b><br>Words: 기업가, 캠프, 마을, 벨트, 프로그램",
          "<b>Topic 0</b><br>Words: 경선, 카페, 분위, 공화, 유산균",
          "<b>Topic 0</b><br>Words: 캠프, 법률, 폐쇄, 불법, 경영",
          "<b>Topic 0</b><br>Words: 장애, 옥수수, 기부, 임팩트, 아카",
          "<b>Topic 0</b><br>Words: 유산균, 로봇, 프로, 바이오, 산학",
          "<b>Topic 0</b><br>Words: 인공지능, 유엔, ngo, 컨퍼런스, 창업",
          "<b>Topic 0</b><br>Words: 동성애, ai, 인공지능, 절감, 반기문",
          "<b>Topic 0</b><br>Words: 백신, 세계관, 영업, 사업단, 바이오",
          "<b>Topic 0</b><br>Words: 반기문, 방사포, 평등, 게임, 질병",
          "<b>Topic 0</b><br>Words: 지능, 인공, 유산균, 청소, 인공지능",
          "<b>Topic 0</b><br>Words: 바이오, 로봇, 미얀마, 허브, 한인",
          "<b>Topic 0</b><br>Words: 유전자, 스타트업, 성경, 창업, 치료제",
          "<b>Topic 0</b><br>Words: ai, 도덕, 존재, 예수, 하나님",
          "<b>Topic 0</b><br>Words: 바이오, 성경, ai, 혁신, 예수"
         ],
         "marker": {
          "color": "#E69F00"
         },
         "mode": "lines",
         "name": "0_바이오_ai_하나님_창조",
         "type": "scatter",
         "x": [
          1995,
          1996,
          1997,
          1998,
          1999,
          2000,
          2001,
          2002,
          2003,
          2004,
          2005,
          2006,
          2007,
          2008,
          2009,
          2010,
          2011,
          2012,
          2013,
          2014,
          2015,
          2016,
          2017,
          2018,
          2019,
          2020,
          2021,
          2022,
          2023,
          2024
         ],
         "y": [
          11,
          9,
          5,
          3,
          6,
          7,
          9,
          4,
          12,
          11,
          11,
          14,
          8,
          10,
          13,
          24,
          25,
          16,
          16,
          33,
          24,
          44,
          33,
          27,
          41,
          38,
          30,
          37,
          52,
          51
         ]
        },
        {
         "hoverinfo": "text",
         "hovertext": [
          "<b>Topic 1</b><br>Words: 순결, 대학가, 학부, 학과, 개방",
          "<b>Topic 1</b><br>Words: 교단, 수련, 고신, 농어촌, 장학",
          "<b>Topic 1</b><br>Words: 추천, 학교장, 연합회, 입학, 장로",
          "<b>Topic 1</b><br>Words: 치유, 내정, 비상, 자문, ccc",
          "<b>Topic 1</b><br>Words: 노인, 어린이, 봉사, 회원, 교포",
          "<b>Topic 1</b><br>Words: 유실, 해수욕장, 보상, 청문회, 송도",
          "<b>Topic 1</b><br>Words: 청소년, 구술, 면접, 수험, 고사",
          "<b>Topic 1</b><br>Words: 여건, 병역, 재정, 술대, 양심",
          "<b>Topic 1</b><br>Words: 커닝, 신입, 학년, 취업, 신대",
          "<b>Topic 1</b><br>Words: 의료, 병원, 별세, 발인, 우즈베키스탄",
          "<b>Topic 1</b><br>Words: 영화, 진료, 민족, 권사, 어린이",
          "<b>Topic 1</b><br>Words: 선교, 연대, 선교사, 교지, 파송",
          "<b>Topic 1</b><br>Words: 동포, 임금, 식당, 근대, 히딩크",
          "<b>Topic 1</b><br>Words: 감독, 공모전, 전형, 영화, 히딩크",
          "<b>Topic 1</b><br>Words: 사정관, 진화, 창조, 진입, 성경",
          "<b>Topic 1</b><br>Words: 사정관, 관제, 입학, 후보, 사정",
          "<b>Topic 1</b><br>Words: 광장, 서해, 유공자, 전형, 자격증",
          "<b>Topic 1</b><br>Words: 카페, 디자인, 보험, 건강, 상품",
          "<b>Topic 1</b><br>Words: lg, 이승만, 대학가, 공론, 전쟁",
          "<b>Topic 1</b><br>Words: 삼성, 얼굴, 아동, 디자인, 인권",
          "<b>Topic 1</b><br>Words: 특구, 동아시아, 방미, 적정, 에너지",
          "<b>Topic 1</b><br>Words: 옥수수, 한국어, 동성, 선정, 제일",
          "<b>Topic 1</b><br>Words: 방송, 언론, 흥해읍, 한양대, 한림",
          "<b>Topic 1</b><br>Words: 비례, 소설, 선거, 지열, 정밀",
          "<b>Topic 1</b><br>Words: 기지, 권위, 사령관, 반환, 미군",
          "<b>Topic 1</b><br>Words: 입국, sw, 김여정, 청소, 방역",
          "<b>Topic 1</b><br>Words: 공공, 노조, 낙태, 수도, 기관",
          "<b>Topic 1</b><br>Words: 옥수수, sw, 장로, 캠페인, 국정",
          "<b>Topic 1</b><br>Words: 지정, 통합, 선정, 국립대, 1000",
          "<b>Topic 1</b><br>Words: 건대, 지정, 도립, 선정, 통합"
         ],
         "marker": {
          "color": "#56B4E9"
         },
         "mode": "lines",
         "name": "1_지정_선정_통합_10",
         "type": "scatter",
         "x": [
          1995,
          1996,
          1997,
          1998,
          1999,
          2000,
          2001,
          2002,
          2003,
          2004,
          2005,
          2006,
          2007,
          2008,
          2009,
          2010,
          2011,
          2012,
          2013,
          2014,
          2015,
          2016,
          2017,
          2018,
          2019,
          2020,
          2021,
          2022,
          2023,
          2024
         ],
         "y": [
          2,
          2,
          5,
          6,
          3,
          13,
          7,
          3,
          12,
          17,
          8,
          8,
          15,
          12,
          13,
          16,
          14,
          10,
          4,
          10,
          26,
          17,
          13,
          14,
          21,
          30,
          9,
          11,
          41,
          29
         ]
        },
        {
         "hoverinfo": "text",
         "hovertext": [
          "<b>Topic 2</b><br>Words: 본고사, 특차, 미달, 정원, 과목",
          "<b>Topic 2</b><br>Words: 입시, 장애, 특차, 모집, 봉사",
          "<b>Topic 2</b><br>Words: 농어촌, 설립, 운동, 자립, 간증",
          "<b>Topic 2</b><br>Words: 지구촌, 비전, 한정, 초청, 고대",
          "<b>Topic 2</b><br>Words: 결혼, 목회, 자녀, 예비, 가정",
          "<b>Topic 2</b><br>Words: 두란노, 부부, 면접, 논술, 결혼",
          "<b>Topic 2</b><br>Words: 유공자, 특기, 11, 출신자, 농어촌",
          "<b>Topic 2</b><br>Words: 60, 50, 아프간, 100, 정시",
          "<b>Topic 2</b><br>Words: 생산, 노동자, 안산, 해외, 공로",
          "<b>Topic 2</b><br>Words: 탐구, 수리, 외국어, 번역, 과목",
          "<b>Topic 2</b><br>Words: 교육대, 수리, 외국어, 계열, 언어",
          "<b>Topic 2</b><br>Words: 형사, 카드, 국토, 애초, 회사",
          "<b>Topic 2</b><br>Words: 히딩크, 필드, 드림, 감독, 충주",
          "<b>Topic 2</b><br>Words: 박람회, 외국어, 서울, 20, 전남",
          "<b>Topic 2</b><br>Words: 헌재, 위헌, 심판, 판결, 헌법",
          "<b>Topic 2</b><br>Words: 투표, 유권자, 20, 대학생, 장모",
          "<b>Topic 2</b><br>Words: 반값, 현대사, 수용소, 등록금, 전시회",
          "<b>Topic 2</b><br>Words: 원자력, 멘토, 캠프, 종교, 편향",
          "<b>Topic 2</b><br>Words: 이승만, 저자, 기업가, 독립, 독립운동",
          "<b>Topic 2</b><br>Words: 연대, 대학생, lg, 참여연대, 참여",
          "<b>Topic 2</b><br>Words: 경진, 도박, 찬양, 디지털, 뮤지컬",
          "<b>Topic 2</b><br>Words: 성탄, 공학, 여성, 콘서트, 강의실",
          "<b>Topic 2</b><br>Words: 후보, 분권, 자치, 성금, 번역",
          "<b>Topic 2</b><br>Words: 김동엽, 20, 평양, 생존, 별세",
          "<b>Topic 2</b><br>Words: 최선희, 지열, 발전소, 레이저, 여성",
          "<b>Topic 2</b><br>Words: 징계, 금강산, 코로나, 방역, 육군",
          "<b>Topic 2</b><br>Words: 행정부, 전환, 전작, 바이든, 20",
          "<b>Topic 2</b><br>Words: 고양이, 몽골, 고양, 학대, 윤석열",
          "<b>Topic 2</b><br>Words: 예비, 지정, 아담, 국립대, 신청",
          "<b>Topic 2</b><br>Words: 예비, 지정, 천국, 건대, 통합"
         ],
         "marker": {
          "color": "#009E73"
         },
         "mode": "lines",
         "name": "2_20_예비_지정_외국어",
         "type": "scatter",
         "x": [
          1995,
          1996,
          1997,
          1998,
          1999,
          2000,
          2001,
          2002,
          2003,
          2004,
          2005,
          2006,
          2007,
          2008,
          2009,
          2010,
          2011,
          2012,
          2013,
          2014,
          2015,
          2016,
          2017,
          2018,
          2019,
          2020,
          2021,
          2022,
          2023,
          2024
         ],
         "y": [
          6,
          9,
          2,
          1,
          2,
          2,
          3,
          10,
          8,
          10,
          6,
          8,
          10,
          10,
          5,
          14,
          17,
          7,
          11,
          14,
          19,
          13,
          22,
          16,
          16,
          14,
          14,
          12,
          24,
          23
         ]
        },
        {
         "hoverinfo": "text",
         "hovertext": [
          "<b>Topic 3</b><br>Words: 공화, 클린턴, 공약, 물론, 선거",
          "<b>Topic 3</b><br>Words: 이란, 노선, 타결, 핵무기, 버락",
          "<b>Topic 3</b><br>Words: 클린턴, 트럼프, 당선, 무역, 안보",
          "<b>Topic 3</b><br>Words: 트럼프, 사드, 외교관, 대통령, 백악관",
          "<b>Topic 3</b><br>Words: 트럼프, 북미, 회담, 정상, 대통령",
          "<b>Topic 3</b><br>Words: 트럼프, 협상, 회담, 정상, 친서",
          "<b>Topic 3</b><br>Words: 트럼프, 바이든, 보좌관, 행정부, 대통령",
          "<b>Topic 3</b><br>Words: 바이든, 행정부, 트럼프, 미얀마, 미군",
          "<b>Topic 3</b><br>Words: 외국인, 학생회, 행사, 독특, 인도네시아",
          "<b>Topic 3</b><br>Words: 발언, 외교부, 이란, 참사, 위협"
         ],
         "marker": {
          "color": "#F0E442"
         },
         "mode": "lines",
         "name": "3_트럼프_회담_정상_북미",
         "type": "scatter",
         "x": [
          2010,
          2015,
          2016,
          2017,
          2018,
          2019,
          2020,
          2021,
          2022,
          2023
         ],
         "y": [
          2,
          1,
          6,
          19,
          67,
          75,
          58,
          19,
          1,
          1
         ]
        },
        {
         "hoverinfo": "text",
         "hovertext": [
          "<b>Topic 4</b><br>Words: 선린, 실력, 과학자, 설립, 하나님",
          "<b>Topic 4</b><br>Words: 인터넷, 성공회, 선교, 홈페이지, 교지",
          "<b>Topic 4</b><br>Words: 기증, 재외, 취업자, 원서, 선린",
          "<b>Topic 4</b><br>Words: 신문, 교포, 탈락, 순결, 매체",
          "<b>Topic 4</b><br>Words: 기증, 동덕, 향대, 여대, 서대",
          "<b>Topic 4</b><br>Words: 지구, ccc, 수련, 결혼, 29",
          "<b>Topic 4</b><br>Words: 스승, 기증, 눈물, 재산, 남편",
          "<b>Topic 4</b><br>Words: 출마, 의원, 기금, 자전거, 기초",
          "<b>Topic 4</b><br>Words: 삼성전자, 작업, 추천, 학교장, 은행",
          "<b>Topic 4</b><br>Words: 세대, 학장, 아버지, 특수, 공포",
          "<b>Topic 4</b><br>Words: 판사, 법원, 부장, 중재, 지방",
          "<b>Topic 4</b><br>Words: 피지, 칼리지, 신부, 호주, 감리교",
          "<b>Topic 4</b><br>Words: 인가, 스쿨, 심사, 실적, 항목",
          "<b>Topic 4</b><br>Words: 출제, 사범, 고사, 구술, 면접",
          "<b>Topic 4</b><br>Words: 출신자, 예산, 교과, 사정관, 성적",
          "<b>Topic 4</b><br>Words: 학과, 인원, 제외, 특수, 공학",
          "<b>Topic 4</b><br>Words: sk, 수용소, 만족, 정치범, 학술",
          "<b>Topic 4</b><br>Words: 당선인, 경찰, 검찰, 민주, 유권자",
          "<b>Topic 4</b><br>Words: 모친상, 장례식장, 탐방, 방지, 30",
          "<b>Topic 4</b><br>Words: 세월, 구원, 스승, 참사, 피해자",
          "<b>Topic 4</b><br>Words: 공동체, 마을, 스웨덴, 행복, 사랑",
          "<b>Topic 4</b><br>Words: 사학, 석사, 학사, 역임, 등급",
          "<b>Topic 4</b><br>Words: 창조, 학회, 기도, 학번, 인사",
          "<b>Topic 4</b><br>Words: 위주, 철수, 과목, 30, 주한",
          "<b>Topic 4</b><br>Words: 소프트웨어, 학년도, 탈락, 30, 특기",
          "<b>Topic 4</b><br>Words: 국정원, 도박, 전단, 인권, 업체",
          "<b>Topic 4</b><br>Words: 결혼, 출산, 위험, 사랑, 어려움",
          "<b>Topic 4</b><br>Words: 고양, 검찰, 인생, 고양이, 경찰",
          "<b>Topic 4</b><br>Words: 30, 증권, 퓨처, 전지, 별세",
          "<b>Topic 4</b><br>Words: 건대, 전문대, 지정, 개교, 보건"
         ],
         "marker": {
          "color": "#D55E00"
         },
         "mode": "lines",
         "name": "4_30_피지_학과_인원",
         "type": "scatter",
         "x": [
          1995,
          1996,
          1997,
          1998,
          1999,
          2000,
          2001,
          2002,
          2003,
          2004,
          2005,
          2006,
          2007,
          2008,
          2009,
          2010,
          2011,
          2012,
          2013,
          2014,
          2015,
          2016,
          2017,
          2018,
          2019,
          2020,
          2021,
          2022,
          2023,
          2024
         ],
         "y": [
          4,
          5,
          3,
          5,
          5,
          4,
          6,
          2,
          6,
          3,
          6,
          15,
          5,
          9,
          10,
          7,
          9,
          7,
          10,
          4,
          9,
          11,
          8,
          9,
          17,
          9,
          2,
          12,
          22,
          10
         ]
        },
        {
         "hoverinfo": "text",
         "hovertext": [
          "<b>Topic 5</b><br>Words: 고향, 단일, 경선, 후보, 김대중",
          "<b>Topic 5</b><br>Words: 인권, 재천, 탈북자, 41, 소극",
          "<b>Topic 5</b><br>Words: 반환, 박물관, 영구, 장군, 국방부",
          "<b>Topic 5</b><br>Words: 간담회, 누리, 자율, 총장, 불만",
          "<b>Topic 5</b><br>Words: 사격, 명박, 붕괴, 관련, 주변",
          "<b>Topic 5</b><br>Words: 인권, 북송, 탈북자, 집회, 관심",
          "<b>Topic 5</b><br>Words: 동맹, 박근혜, 프로세스, 신뢰, 한반도",
          "<b>Topic 5</b><br>Words: 안정, 활성, 연설, 금융, 프로세스",
          "<b>Topic 5</b><br>Words: 위안부, 관계, 복원, 일본, 양국",
          "<b>Topic 5</b><br>Words: 안보리, 조찬, 무장, 제재, 기도회",
          "<b>Topic 5</b><br>Words: 방미, 사드, 차장, 조기, 남북",
          "<b>Topic 5</b><br>Words: 남북, 비핵화, 방북, 특사, 회담",
          "<b>Topic 5</b><br>Words: 지소, 미아, 남북, 방북, 안보",
          "<b>Topic 5</b><br>Words: 남북, 대북, 대남, 담화, 제재",
          "<b>Topic 5</b><br>Words: 종전, 가스, 외교, 차장, 대사",
          "<b>Topic 5</b><br>Words: 윤석열, 외교, 우크라, 이나, 성명",
          "<b>Topic 5</b><br>Words: 강제, 출장, 피해자, 일본, 동원"
         ],
         "marker": {
          "color": "#0072B2"
         },
         "mode": "lines",
         "name": "5_남북_대북_한반도_대화",
         "type": "scatter",
         "x": [
          2002,
          2004,
          2007,
          2008,
          2011,
          2012,
          2013,
          2014,
          2015,
          2016,
          2017,
          2018,
          2019,
          2020,
          2021,
          2022,
          2023
         ],
         "y": [
          1,
          1,
          1,
          1,
          1,
          1,
          9,
          3,
          1,
          6,
          5,
          38,
          34,
          48,
          6,
          5,
          3
         ]
        },
        {
         "hoverinfo": "text",
         "hovertext": [
          "<b>Topic 6</b><br>Words: 학점, 장벽, 은행, 교육, 개혁",
          "<b>Topic 6</b><br>Words: 사정, 브랜드, 반영, 성적, 수능",
          "<b>Topic 6</b><br>Words: 근무, 경력, 내년도, 취업자, 산업체",
          "<b>Topic 6</b><br>Words: 예과, 특차, 특정, 표준, 단위",
          "<b>Topic 6</b><br>Words: 유실, 송도, 신대, 교대, 시민",
          "<b>Topic 6</b><br>Words: 테크노, 증가, 입주, 수업, 가정",
          "<b>Topic 6</b><br>Words: 교차, 인원, 허용, 자연, 모집",
          "<b>Topic 6</b><br>Words: 선생, 점수, 모집, 허용, 석차",
          "<b>Topic 6</b><br>Words: 순위, 어머니, 평판, 기도회, 종합",
          "<b>Topic 6</b><br>Words: 반영, 학년, 석차, 새해, 교과목",
          "<b>Topic 6</b><br>Words: 평판, 순위, 비율, 종합, 지표",
          "<b>Topic 6</b><br>Words: 히딩크, 축구, 축구장, 준공식, 필드",
          "<b>Topic 6</b><br>Words: 치유, 개도국, 혼자, 헌법, 헌재",
          "<b>Topic 6</b><br>Words: 고래, 마을, 생태, 논술, 체험",
          "<b>Topic 6</b><br>Words: 재판관, 헌재, 교협, 위헌, 헌법",
          "<b>Topic 6</b><br>Words: 레이저, 등록금, 인하, 교협, 삭제",
          "<b>Topic 6</b><br>Words: 롬니, 음악, 부친상, 병원, 별세",
          "<b>Topic 6</b><br>Words: 이승만, 장례식장, 모친상, 삼성, 부친상",
          "<b>Topic 6</b><br>Words: 발인, 부친상, 게임, 네덜란드, 장인상",
          "<b>Topic 6</b><br>Words: 인생, 프로, 질환, 바이오, 김치",
          "<b>Topic 6</b><br>Words: 여론, 기득, 누리, 검찰, 야당",
          "<b>Topic 6</b><br>Words: 응답자, 피해, 흥해읍, 지진, 건물",
          "<b>Topic 6</b><br>Words: 트랙, 과장, 예외, 징계, 실장",
          "<b>Topic 6</b><br>Words: 베트남, 투자, 주택, 해제, 토지",
          "<b>Topic 6</b><br>Words: 파병, 공공, 호르무즈, 병행, 주석",
          "<b>Topic 6</b><br>Words: 택시, 검찰, 수사, 보고서, 운전자",
          "<b>Topic 6</b><br>Words: 전지, esg, 스타트업, 울산, 지정",
          "<b>Topic 6</b><br>Words: 별세, 장인상, 남편, 부친상, 소비"
         ],
         "marker": {
          "color": "#CC79A7"
         },
         "mode": "lines",
         "name": "6_반영_순위_평판_비율",
         "type": "scatter",
         "x": [
          1995,
          1996,
          1997,
          1998,
          2000,
          2001,
          2002,
          2003,
          2004,
          2005,
          2006,
          2007,
          2008,
          2009,
          2010,
          2011,
          2012,
          2013,
          2014,
          2015,
          2016,
          2017,
          2018,
          2019,
          2020,
          2022,
          2023,
          2024
         ],
         "y": [
          2,
          4,
          1,
          2,
          2,
          4,
          5,
          6,
          4,
          7,
          6,
          3,
          3,
          2,
          6,
          6,
          6,
          19,
          5,
          5,
          4,
          5,
          12,
          12,
          5,
          4,
          6,
          4
         ]
        },
        {
         "hoverinfo": "text",
         "hovertext": [
          "<b>Topic 7</b><br>Words: 내신, 배정, 응시, 거주, 고사",
          "<b>Topic 7</b><br>Words: 극동방송, 방송, 심포지엄, 세기, 선교",
          "<b>Topic 7</b><br>Words: 청소년, 겨울, 콘서트, 캠프, 경기도",
          "<b>Topic 7</b><br>Words: 디자인, 연맹, 회원, 사무총장, 기독교",
          "<b>Topic 7</b><br>Words: 토플, 졸업, 부친상, 13, 요건",
          "<b>Topic 7</b><br>Words: 오염, 학사, 조사, 사이버, 실태",
          "<b>Topic 7</b><br>Words: 교도소, 스승, 면담, 구속, 혐의",
          "<b>Topic 7</b><br>Words: 뮤지컬, 무대, 창간, 음악, 작품",
          "<b>Topic 7</b><br>Words: 세력, 한나라당, 보수, 진보, 의원",
          "<b>Topic 7</b><br>Words: 법무부, 음악, 무대, ccm, 예배",
          "<b>Topic 7</b><br>Words: 도덕, 부시, 사고, 조금, 사건",
          "<b>Topic 7</b><br>Words: 강사, 성시, 성령, 행복, 주제",
          "<b>Topic 7</b><br>Words: 탈락, 심사, 하버드대, 보장, 예외",
          "<b>Topic 7</b><br>Words: 몽골, 지사, 철강, 언론인, 미디어",
          "<b>Topic 7</b><br>Words: 사랑, 정신, 기도회, 카페, 어머니",
          "<b>Topic 7</b><br>Words: 여행, 여성, 자전거, 미국인, 청장",
          "<b>Topic 7</b><br>Words: tv, 토론, 엄마, 남자, 페미니즘",
          "<b>Topic 7</b><br>Words: 캠프, 시정, 영어, 계약, 마을",
          "<b>Topic 7</b><br>Words: 홀리, 심리학, 기도회, 통일, 클럽",
          "<b>Topic 7</b><br>Words: 시인, 자전거, 서비스, 15, 학번",
          "<b>Topic 7</b><br>Words: 지진, 오빠, 이지선, 건물, 발생",
          "<b>Topic 7</b><br>Words: 표출, 불만, 매체, 조항, 인권",
          "<b>Topic 7</b><br>Words: 재건, 지진, 반환, 기지, 판정",
          "<b>Topic 7</b><br>Words: 개성, 공단, 대리, 상원, 지진",
          "<b>Topic 7</b><br>Words: 옥수수, 재난, 지진, 조사, 15",
          "<b>Topic 7</b><br>Words: 금호, 화학, 이사회, 옥수수, 의장",
          "<b>Topic 7</b><br>Words: 옥수수, 전지, 과거사, 개척, 15",
          "<b>Topic 7</b><br>Words: 언어, 옥수수, 장애, 고용, 청년"
         ],
         "marker": {
          "color": "#E69F00"
         },
         "mode": "lines",
         "name": "7_지진_15_옥수수_오빠",
         "type": "scatter",
         "x": [
          1995,
          1996,
          1997,
          1998,
          1999,
          2000,
          2001,
          2003,
          2004,
          2005,
          2006,
          2007,
          2008,
          2009,
          2010,
          2011,
          2012,
          2013,
          2015,
          2016,
          2017,
          2018,
          2019,
          2020,
          2021,
          2022,
          2023,
          2024
         ],
         "y": [
          1,
          1,
          1,
          3,
          2,
          1,
          2,
          4,
          1,
          2,
          1,
          1,
          1,
          4,
          4,
          4,
          6,
          2,
          3,
          4,
          35,
          2,
          9,
          12,
          5,
          5,
          12,
          7
         ]
        },
        {
         "hoverinfo": "text",
         "hovertext": [
          "<b>Topic 8</b><br>Words: 동성애자, 동성애, 본고사, 순결, 특차",
          "<b>Topic 8</b><br>Words: 온누리, 성령, 양육, 젊은이, 목사",
          "<b>Topic 8</b><br>Words: 헌신, 계승, 박사, 창립, 기념",
          "<b>Topic 8</b><br>Words: 사학, 경영학, 경영, 커리큘럼, 사립",
          "<b>Topic 8</b><br>Words: 구속, 서명, 법정, 사이트, 부총장",
          "<b>Topic 8</b><br>Words: 고문, 요약, 조작, 허용, 이름",
          "<b>Topic 8</b><br>Words: 설립자, 연구비, 주류, 치유, 학술지",
          "<b>Topic 8</b><br>Words: 지방, 법률가, 풍경, 문장, 중앙",
          "<b>Topic 8</b><br>Words: 군대, 그림, 가족, 작품, 사건",
          "<b>Topic 8</b><br>Words: 신화, 시위, 차별, 충돌, 노동자",
          "<b>Topic 8</b><br>Words: 여론, 조사, 국교회, 사회봉사, 부흥",
          "<b>Topic 8</b><br>Words: 개헌, 내년도, 동결, 사립대, 등록금",
          "<b>Topic 8</b><br>Words: 헌재, 입법, 법원, 침해, 대리",
          "<b>Topic 8</b><br>Words: 선진, 발족, 협의회, 건양, 결의",
          "<b>Topic 8</b><br>Words: 벨트, 기부금, 교협, 확충, 유치",
          "<b>Topic 8</b><br>Words: 가구, 아파트, 검찰, 기소, 공간",
          "<b>Topic 8</b><br>Words: 남용, 총재, 권력, 지배, 기소",
          "<b>Topic 8</b><br>Words: 고등학교, 대구경북, 대학교, 창업, 본부",
          "<b>Topic 8</b><br>Words: 누리, 접수, 혐오, 상임, 부회장",
          "<b>Topic 8</b><br>Words: 동성혼, 이사장, 동성애, 법인, 개헌",
          "<b>Topic 8</b><br>Words: 퀴어, 징계, 페미니즘, 아들, 지열",
          "<b>Topic 8</b><br>Words: 종교, 다자, 자유, 권리, 동성애",
          "<b>Topic 8</b><br>Words: 소수자, 금강산, 가속기, 관광, 공단",
          "<b>Topic 8</b><br>Words: 수산, 선생, 옥수수, 주식, 이사장",
          "<b>Topic 8</b><br>Words: 동물, 학대, 단장, 부장, 고양",
          "<b>Topic 8</b><br>Words: 퀴어, 행사, 동성애자, 동성애, 독립운동",
          "<b>Topic 8</b><br>Words: 퀴어, 동성애, 바이오, 인구, 울릉"
         ],
         "marker": {
          "color": "#56B4E9"
         },
         "mode": "lines",
         "name": "8_퀴어_누리_동성애_동성애자",
         "type": "scatter",
         "x": [
          1995,
          1996,
          1997,
          2000,
          2001,
          2002,
          2003,
          2004,
          2005,
          2006,
          2007,
          2008,
          2009,
          2010,
          2011,
          2012,
          2013,
          2014,
          2016,
          2017,
          2018,
          2019,
          2020,
          2021,
          2022,
          2023,
          2024
         ],
         "y": [
          4,
          2,
          1,
          2,
          3,
          2,
          4,
          5,
          4,
          1,
          2,
          6,
          5,
          1,
          2,
          8,
          6,
          4,
          10,
          7,
          8,
          7,
          7,
          5,
          7,
          9,
          8
         ]
        },
        {
         "hoverinfo": "text",
         "hovertext": [
          "<b>Topic 9</b><br>Words: 월드컵, 의식, 질서, 성숙, 향상",
          "<b>Topic 9</b><br>Words: 오바마, 냉전, 패권, 동북아, 질서",
          "<b>Topic 9</b><br>Words: 중국, 오바마, 봉쇄, 부상, 롬니",
          "<b>Topic 9</b><br>Words: 구역, 중국, 이익, 일본, 견제",
          "<b>Topic 9</b><br>Words: 중국, 사드, 전작, 전환, 석방",
          "<b>Topic 9</b><br>Words: 중국, 구도, 영토, 열병식, 분쟁",
          "<b>Topic 9</b><br>Words: 사드, 중국, 위안부, 외교, 배치",
          "<b>Topic 9</b><br>Words: 사드, 중국, 대화, 압박, 베이징",
          "<b>Topic 9</b><br>Words: 회담, 폼페이, 중국, 정상, 외무",
          "<b>Topic 9</b><br>Words: 주석, 푸틴, 러시아, 중국, 회담",
          "<b>Topic 9</b><br>Words: 중국, 주석, 갈등, 외교, 전작",
          "<b>Topic 9</b><br>Words: 통화, 중국, 동맹, 태평양, 행정부",
          "<b>Topic 9</b><br>Words: 노선, 대만, 무역, 중국, 내정",
          "<b>Topic 9</b><br>Words: 중국, 총리, 외교, 일본, 윤석열"
         ],
         "marker": {
          "color": "#009E73"
         },
         "mode": "lines",
         "name": "9_중국_주석_회담_외교",
         "type": "scatter",
         "x": [
          2002,
          2011,
          2012,
          2013,
          2014,
          2015,
          2016,
          2017,
          2018,
          2019,
          2020,
          2021,
          2022,
          2023
         ],
         "y": [
          1,
          4,
          3,
          13,
          5,
          17,
          9,
          9,
          20,
          18,
          19,
          3,
          1,
          6
         ]
        },
        {
         "hoverinfo": "text",
         "hovertext": [
          "<b>Topic 10</b><br>Words: 모금, 사랑, 재활, 남편, 요즘",
          "<b>Topic 10</b><br>Words: 개혁, 96, 학과, 학년, 전산",
          "<b>Topic 10</b><br>Words: 신설, 정원, 증원, 자율, 내년도",
          "<b>Topic 10</b><br>Words: 특차, 마감, 표준, 접수, 기금",
          "<b>Topic 10</b><br>Words: 치료제, 치료, 기적, 효과, 실험",
          "<b>Topic 10</b><br>Words: 교대, 예대, 유형, 신대, 가톨릭",
          "<b>Topic 10</b><br>Words: 신입, 장학금, 기숙사, 응시, 전액",
          "<b>Topic 10</b><br>Words: 단계, 인문, 68, 외국어, 신대",
          "<b>Topic 10</b><br>Words: 통역, 신대, 수대, 목포, 안산",
          "<b>Topic 10</b><br>Words: 문자, 분위, 수리, 표준, 홈페이지",
          "<b>Topic 10</b><br>Words: 물품, 코리아, 광고, 기증, 50",
          "<b>Topic 10</b><br>Words: 기증, 추천자, 12, 11, 일반",
          "<b>Topic 10</b><br>Words: 얼굴, 환자, 치료, 죽음, 한국인",
          "<b>Topic 10</b><br>Words: 교대, 춘천, 토익, 조치원, 가톨릭",
          "<b>Topic 10</b><br>Words: 대원, 사관, 농업, 농민, 법조",
          "<b>Topic 10</b><br>Words: 극동방송, 체결, 인력, 상호, 스마트폰",
          "<b>Topic 10</b><br>Words: 사정관, 교협, 컨설팅, 학원, 확충",
          "<b>Topic 10</b><br>Words: 분권, 학비, 지방, 개정, 자치",
          "<b>Topic 10</b><br>Words: 편찬, 멘토링, 국사, 유영익, 청장",
          "<b>Topic 10</b><br>Words: 기부, 자립, 비즈니스, 수익, 결합",
          "<b>Topic 10</b><br>Words: 중앙일보, 창간, 수련, 선교사, 50",
          "<b>Topic 10</b><br>Words: 순결, 기도, 약식, 장학금, 모임",
          "<b>Topic 10</b><br>Words: 지선, 전신, 이지선, 운전자, 재활",
          "<b>Topic 10</b><br>Words: 싱가포르, 호텔, 영변, 화상, 사고",
          "<b>Topic 10</b><br>Words: 배터리, 지소, 미아, 전작, 50",
          "<b>Topic 10</b><br>Words: 교과, 내신, 평양, 전형, 기대",
          "<b>Topic 10</b><br>Words: 배터리, 인구, 영일, 000, 포항",
          "<b>Topic 10</b><br>Words: 옥수수, 석좌, 화상, 전신, 수상",
          "<b>Topic 10</b><br>Words: 모교, 지선, 사고, 전신, 이지선",
          "<b>Topic 10</b><br>Words: 주주, 금호, 화학, 지도자, 상무"
         ],
         "marker": {
          "color": "#F0E442"
         },
         "mode": "lines",
         "name": "10_50_배터리_사고_지선",
         "type": "scatter",
         "x": [
          1995,
          1996,
          1997,
          1998,
          1999,
          2000,
          2001,
          2002,
          2003,
          2004,
          2005,
          2006,
          2007,
          2008,
          2009,
          2010,
          2011,
          2012,
          2013,
          2014,
          2015,
          2016,
          2017,
          2018,
          2019,
          2020,
          2021,
          2022,
          2023,
          2024
         ],
         "y": [
          1,
          1,
          2,
          2,
          3,
          2,
          4,
          5,
          7,
          4,
          4,
          2,
          6,
          4,
          5,
          1,
          4,
          2,
          5,
          2,
          7,
          5,
          7,
          5,
          8,
          3,
          2,
          2,
          14,
          2
         ]
        },
        {
         "hoverinfo": "text",
         "hovertext": [
          "<b>Topic 11</b><br>Words: 화성, 생명체, 물질, 유입, 지구",
          "<b>Topic 11</b><br>Words: 친구, 눈물, 여자, 겨울, 그날",
          "<b>Topic 11</b><br>Words: korea, 국정원, 사찰, un, 불법",
          "<b>Topic 11</b><br>Words: 전작, 장비, 능력, 전환, 미사일",
          "<b>Topic 11</b><br>Words: 아베, 방미, 총리, 탄도, 발사",
          "<b>Topic 11</b><br>Words: 핵실험, 사드, 제재, 무장, 핵무기",
          "<b>Topic 11</b><br>Words: 타격, 화성, 발사, 미사일, 도발",
          "<b>Topic 11</b><br>Words: 미사일, icbm, 폐기, 엔진, 훈련",
          "<b>Topic 11</b><br>Words: 발사, 미사일, slbm, 중거리, 탄도",
          "<b>Topic 11</b><br>Words: 미사일, icbm, 탄도, 도발, 발사",
          "<b>Topic 11</b><br>Words: slbm, 열병식, 발사, korea, 탄도",
          "<b>Topic 11</b><br>Words: icbm, 당선인, 미사일, 발사, 도발",
          "<b>Topic 11</b><br>Words: 이스라엘, 민간, 생명체, 우주, 비행",
          "<b>Topic 11</b><br>Words: 이스라엘, 공격, 이란, 중동, 기도"
         ],
         "marker": {
          "color": "#D55E00"
         },
         "mode": "lines",
         "name": "11_미사일_발사_icbm_도발",
         "type": "scatter",
         "x": [
          1996,
          2002,
          2013,
          2014,
          2015,
          2016,
          2017,
          2018,
          2019,
          2020,
          2021,
          2022,
          2023,
          2024
         ],
         "y": [
          1,
          1,
          2,
          1,
          5,
          7,
          11,
          13,
          46,
          20,
          5,
          3,
          2,
          2
         ]
        },
        {
         "hoverinfo": "text",
         "hovertext": [
          "<b>Topic 12</b><br>Words: 합격자, 등록, 예비, 엔진, 합격",
          "<b>Topic 12</b><br>Words: 새벽, 선린, 인수, 병원, 진료",
          "<b>Topic 12</b><br>Words: 자전거, 여행, 제주, 코스, 다리",
          "<b>Topic 12</b><br>Words: 마감, 기증, 기록, co, 예과",
          "<b>Topic 12</b><br>Words: 강좌, 국무총리, 지대, 창조, 보상",
          "<b>Topic 12</b><br>Words: 혐의, 구속, 의사, 비리, 총장",
          "<b>Topic 12</b><br>Words: 등록, 복수, 모집, 두란노, 가족",
          "<b>Topic 12</b><br>Words: 외대, 신학, 강좌, 진주, 성결",
          "<b>Topic 12</b><br>Words: 서비스, 법률, 농민, 법률가, 캠퍼스",
          "<b>Topic 12</b><br>Words: 점수, 분위, 만점, 표준, 예상",
          "<b>Topic 12</b><br>Words: 평판, 비율, 외국인, 교환, 강좌",
          "<b>Topic 12</b><br>Words: 신문, 보도, 동계, 일자, 유치",
          "<b>Topic 12</b><br>Words: 히딩크, 감독, 고래, 필드, 드림",
          "<b>Topic 12</b><br>Words: 축구장, 발인, 히딩크, 29, 학장",
          "<b>Topic 12</b><br>Words: 국무총리, 등록금, 사정관, 전형, 입학",
          "<b>Topic 12</b><br>Words: 등록금, 발인, 반값, 모친상, 교협",
          "<b>Topic 12</b><br>Words: 재단, 공단, 변경, 이사장, 개성",
          "<b>Topic 12</b><br>Words: 불안, 발인, 정세, 별세, 진보",
          "<b>Topic 12</b><br>Words: 작품, 트위터, 장로, 극동방송, 논란",
          "<b>Topic 12</b><br>Words: 가구, 학부모, 참조, 예술, 후원",
          "<b>Topic 12</b><br>Words: 지진, 양산, 제일, 담임, 발생",
          "<b>Topic 12</b><br>Words: 내진, 공론, 지진, 위주, 진로",
          "<b>Topic 12</b><br>Words: 대학교, 서명, 소수자, 강연회, 사이버",
          "<b>Topic 12</b><br>Words: 낙태, 감독, 정면, 전원, 영화",
          "<b>Topic 12</b><br>Words: 부산, 해외, 인성, 외대, 취업",
          "<b>Topic 12</b><br>Words: 아이디어, 상금, 수여, 신부, 소프트",
          "<b>Topic 12</b><br>Words: 지식, 온라인, 사고, 개교, 학년"
         ],
         "marker": {
          "color": "#0072B2"
         },
         "mode": "lines",
         "name": "12_대학교_히딩크_감독_발인",
         "type": "scatter",
         "x": [
          1995,
          1996,
          1997,
          1999,
          2000,
          2001,
          2002,
          2003,
          2004,
          2005,
          2006,
          2007,
          2008,
          2009,
          2010,
          2011,
          2013,
          2014,
          2015,
          2016,
          2017,
          2018,
          2019,
          2020,
          2022,
          2023,
          2024
         ],
         "y": [
          3,
          5,
          1,
          2,
          4,
          4,
          3,
          4,
          2,
          3,
          2,
          2,
          12,
          5,
          8,
          10,
          2,
          8,
          9,
          6,
          2,
          3,
          7,
          4,
          1,
          3,
          2
         ]
        },
        {
         "hoverinfo": "text",
         "hovertext": [
          "<b>Topic 13</b><br>Words: 제한, 25, 명문, 표방, 상위",
          "<b>Topic 13</b><br>Words: 청년, 교제, 마당, 모임, 24",
          "<b>Topic 13</b><br>Words: 사모, 목사, 소리, 도청, 대원",
          "<b>Topic 13</b><br>Words: 졸업, 전산, 토플, 이수, 학번",
          "<b>Topic 13</b><br>Words: 운동, 기적, 실망, 식사, 25",
          "<b>Topic 13</b><br>Words: 빈대, 학문, 기독, 기독교, 신앙",
          "<b>Topic 13</b><br>Words: 연구비, 지표, 학술지, 평판, 재산",
          "<b>Topic 13</b><br>Words: 성탄, 25, 예배, 세미나, 26",
          "<b>Topic 13</b><br>Words: 직장, 청년, 선배, 검사, 아동",
          "<b>Topic 13</b><br>Words: 교대, 수리, 수능, 논술, 가톨릭",
          "<b>Topic 13</b><br>Words: 대안, 고교, 학부모, 공부, 진로",
          "<b>Topic 13</b><br>Words: 탈락, 2005, 심사, 출판, 창조론",
          "<b>Topic 13</b><br>Words: 25, 병원, 박람회, 부친상, 재미",
          "<b>Topic 13</b><br>Words: 성령, 온누리, 창조, 소명, 축제",
          "<b>Topic 13</b><br>Words: 문장, 강좌, 연습, 단어, 인문학",
          "<b>Topic 13</b><br>Words: 기소, 판결, 소송, 검찰, 삭제",
          "<b>Topic 13</b><br>Words: 검사, 양극, 검찰, 마리, 의혹",
          "<b>Topic 13</b><br>Words: 장인상, 25, 별세, 응원, 모친상",
          "<b>Topic 13</b><br>Words: 제어, 제일, 학술지, 25, 장학금",
          "<b>Topic 13</b><br>Words: 지옥, 백신, 말씀, 등급, 목숨",
          "<b>Topic 13</b><br>Words: 매티스, 이스라엘, 25, 아시아, 이웃",
          "<b>Topic 13</b><br>Words: 합의, 25, 문단, 파기, 고위급",
          "<b>Topic 13</b><br>Words: 독도, 25, 전술, 나토, 도청",
          "<b>Topic 13</b><br>Words: 입국, nll, 노선, 버스, 신종",
          "<b>Topic 13</b><br>Words: 가족, mk, 작가, 교지, 학사",
          "<b>Topic 13</b><br>Words: 치유, 인문학, 주년, 신년, 상임",
          "<b>Topic 13</b><br>Words: 브랜드, 전지, 선도, 수상, 프로",
          "<b>Topic 13</b><br>Words: 울릉도, 법관, 전공, 경력, 25"
         ],
         "marker": {
          "color": "#CC79A7"
         },
         "mode": "lines",
         "name": "13_25_가족_대안_병원",
         "type": "scatter",
         "x": [
          1995,
          1996,
          1998,
          2000,
          2001,
          2002,
          2003,
          2004,
          2005,
          2006,
          2007,
          2008,
          2009,
          2010,
          2011,
          2012,
          2013,
          2014,
          2015,
          2016,
          2017,
          2018,
          2019,
          2020,
          2021,
          2022,
          2023,
          2024
         ],
         "y": [
          6,
          1,
          1,
          1,
          3,
          2,
          2,
          7,
          3,
          4,
          1,
          3,
          4,
          1,
          3,
          5,
          2,
          4,
          5,
          5,
          7,
          8,
          15,
          8,
          3,
          3,
          2,
          8
         ]
        },
        {
         "hoverinfo": "text",
         "hovertext": [
          "<b>Topic 14</b><br>Words: 농어촌, 특차, 여대, 12, 공대",
          "<b>Topic 14</b><br>Words: 진화, 대학가, 창조, 관리, 일자",
          "<b>Topic 14</b><br>Words: 우수, 선정, 특성, 재정, 개혁",
          "<b>Topic 14</b><br>Words: 영상, 사진, 유학, 신입, 경산",
          "<b>Topic 14</b><br>Words: 상영, 재단, 무료, 소송, 처리",
          "<b>Topic 14</b><br>Words: 기증, 석방, 남편, 부부, 징역",
          "<b>Topic 14</b><br>Words: 유권자, 투표, 선거, 지방, 고양",
          "<b>Topic 14</b><br>Words: 지표, 순위, 여건, 재정, 종합",
          "<b>Topic 14</b><br>Words: 실내, 성시, 체육관, 감지, 아내",
          "<b>Topic 14</b><br>Words: 해수욕장, 유실, 송도, 세대, 북구",
          "<b>Topic 14</b><br>Words: 마을, 경기, 교대, 가톨릭, 충남",
          "<b>Topic 14</b><br>Words: 히딩크, 감독, 영화, 고문, 2005",
          "<b>Topic 14</b><br>Words: 수리, 공무원, 민족, 점수, 제외",
          "<b>Topic 14</b><br>Words: 목회, 목사, 법률가, 후배, 수강",
          "<b>Topic 14</b><br>Words: 징계, 수업, 침해, 합격자, 시간",
          "<b>Topic 14</b><br>Words: 마케팅, 얘기, 남자, 웃음, 자기",
          "<b>Topic 14</b><br>Words: 여학생, 남자, 학생회, 여자, 여성",
          "<b>Topic 14</b><br>Words: 엄마, 정신, 대리, 참사, 직원",
          "<b>Topic 14</b><br>Words: 창립, 차세대, 교회, 예배, 목사",
          "<b>Topic 14</b><br>Words: 혐오, 정치, 투표, 전선, 지혜",
          "<b>Topic 14</b><br>Words: 지진, 대피, 건물, 여진, 발생",
          "<b>Topic 14</b><br>Words: 대피, 징계, 소수자, 지진, 내진",
          "<b>Topic 14</b><br>Words: 발사체, 탄도, 전술, 미사일, 유도",
          "<b>Topic 14</b><br>Words: 도박, 결혼, 김여정, 신종, 미사일",
          "<b>Topic 14</b><br>Words: 누나, 부총장, 조과, 국창, 아버지",
          "<b>Topic 14</b><br>Words: 택시, 기사, 아파트, 도서관, 지진",
          "<b>Topic 14</b><br>Words: 전지, 특화, 과학자, 단지, 도청",
          "<b>Topic 14</b><br>Words: 검정고시, 내신, 합격, 진학, 증가"
         ],
         "marker": {
          "color": "#E69F00"
         },
         "mode": "lines",
         "name": "14_지진_대피_아파트_건물",
         "type": "scatter",
         "x": [
          1995,
          1996,
          1997,
          1998,
          1999,
          2001,
          2002,
          2003,
          2004,
          2005,
          2007,
          2008,
          2009,
          2010,
          2011,
          2012,
          2013,
          2014,
          2015,
          2016,
          2017,
          2018,
          2019,
          2020,
          2021,
          2022,
          2023,
          2024
         ],
         "y": [
          2,
          3,
          1,
          1,
          2,
          6,
          1,
          1,
          2,
          2,
          3,
          4,
          4,
          4,
          3,
          4,
          3,
          8,
          4,
          1,
          24,
          5,
          3,
          7,
          3,
          3,
          4,
          1
         ]
        },
        {
         "hoverinfo": "text",
         "hovertext": [
          "<b>Topic 15</b><br>Words: 특차, 전원, 구분, 공학부, 전기",
          "<b>Topic 15</b><br>Words: 치료제, 실험, 에이즈, 임상, 가정",
          "<b>Topic 15</b><br>Words: 기증, 대중, 장기, 문화, 출간",
          "<b>Topic 15</b><br>Words: 신부, 사학, 엘리트, 선교, 윤리",
          "<b>Topic 15</b><br>Words: 교도소, 설립, 범죄, 기독교, 추진",
          "<b>Topic 15</b><br>Words: 집회, 은혜, 연속, 신자, 관장",
          "<b>Topic 15</b><br>Words: 아담, 이슬람, 자원, 신학교, 선교사",
          "<b>Topic 15</b><br>Words: 홀리, 클럽, 추모, 선교, 식품",
          "<b>Topic 15</b><br>Words: 조화, 복지, 균형, 인간, 머리",
          "<b>Topic 15</b><br>Words: 드라마, 공동체, 선수, 치유, 한국인",
          "<b>Topic 15</b><br>Words: 선교, 학력, 현직, 이슬람, 학위",
          "<b>Topic 15</b><br>Words: 직업, 겨울, 방학, 사교육, 진로",
          "<b>Topic 15</b><br>Words: 심리학, 서류, 면접, 사정관, 선교",
          "<b>Topic 15</b><br>Words: 코스타, 유학, 조국, 헌신, 지성",
          "<b>Topic 15</b><br>Words: 학술, 신학, 파송, 본질, 창조",
          "<b>Topic 15</b><br>Words: 대안, 학교, 기독교, 특징, 학력",
          "<b>Topic 15</b><br>Words: 신입, 원로, 지도자, 영성, 최고",
          "<b>Topic 15</b><br>Words: 김치, 유산균, 98, co, 식품",
          "<b>Topic 15</b><br>Words: 전지, 제품, 말씀, 묵상, 휴대",
          "<b>Topic 15</b><br>Words: 벽돌, 이스트, 건물, 내진, 구조",
          "<b>Topic 15</b><br>Words: 페미니즘, 강연, 징계, 무기정학, 주최",
          "<b>Topic 15</b><br>Words: 출산, 결혼, 엄마, 통일, 처리",
          "<b>Topic 15</b><br>Words: 신자, 판정, 검사, 엄마, 장로회",
          "<b>Topic 15</b><br>Words: 이스트, 바이오, 사학, 선교, 학원",
          "<b>Topic 15</b><br>Words: 영혼, ai, 택시, 콘퍼런스, 변증",
          "<b>Topic 15</b><br>Words: 도박, 예방, 변증, 기독교, 대학교",
          "<b>Topic 15</b><br>Words: 항공, 육성, 첨단, 동력, 산업"
         ],
         "marker": {
          "color": "#56B4E9"
         },
         "mode": "lines",
         "name": "15_김치_벽돌_코스타_선교",
         "type": "scatter",
         "x": [
          1995,
          1996,
          1998,
          2000,
          2001,
          2002,
          2003,
          2004,
          2005,
          2006,
          2007,
          2008,
          2009,
          2010,
          2011,
          2012,
          2014,
          2015,
          2016,
          2017,
          2018,
          2019,
          2020,
          2021,
          2022,
          2023,
          2024
         ],
         "y": [
          1,
          5,
          4,
          4,
          1,
          1,
          7,
          4,
          4,
          3,
          2,
          4,
          4,
          4,
          3,
          1,
          3,
          5,
          2,
          7,
          6,
          4,
          2,
          7,
          3,
          9,
          1
         ]
        },
        {
         "hoverinfo": "text",
         "hovertext": [
          "<b>Topic 16</b><br>Words: 입시, 학과, 소프트, 경쟁, 제도",
          "<b>Topic 16</b><br>Words: 원서, 집계, 방식, 중간, 복수",
          "<b>Topic 16</b><br>Words: 교과목, 수강, 학점, 눈길, 아주",
          "<b>Topic 16</b><br>Words: 사법, 소원, 제한, 시험, 헌법",
          "<b>Topic 16</b><br>Words: 편입, 합산, 혜택, 전문대, 응시",
          "<b>Topic 16</b><br>Words: 사법, 시험, 제도, 법조, 개혁",
          "<b>Topic 16</b><br>Words: 학술지, 2003, 등급, 2004, 외대",
          "<b>Topic 16</b><br>Words: 병역, 거부, 양심, 위헌, 재판소",
          "<b>Topic 16</b><br>Words: 10, 12, 26, 21, 11",
          "<b>Topic 16</b><br>Words: 장학, 삼성, 기금, 재단, 주식",
          "<b>Topic 16</b><br>Words: 편집, 본보, 철학, 칼럼, 자문",
          "<b>Topic 16</b><br>Words: 화학, 동결, 등록금, 과학부, 사립대",
          "<b>Topic 16</b><br>Words: 규제, 진입, 소송, 변호사, 기금",
          "<b>Topic 16</b><br>Words: 드라마, 겸임, 성경, 상담, 지도자",
          "<b>Topic 16</b><br>Words: 등록금, 반값, 교협, 국사, 교과서",
          "<b>Topic 16</b><br>Words: 웃음, 회사, 인수, 이미지, 조정",
          "<b>Topic 16</b><br>Words: 식품, 분당, 현대사, 임명, 지자체",
          "<b>Topic 16</b><br>Words: 구원, 사교육, 봉사, 토익, 영어",
          "<b>Topic 16</b><br>Words: 학점, 학기, 인정, 해외, 전면",
          "<b>Topic 16</b><br>Words: 포착, 사원, 영업, 미술, 직원",
          "<b>Topic 16</b><br>Words: 혁명, 강좌, 대법원장, 법관, 행정",
          "<b>Topic 16</b><br>Words: 설교, 금지법, 통과, 강연회, 국교회",
          "<b>Topic 16</b><br>Words: 소수자, 배상, 징계, 다자, 권위",
          "<b>Topic 16</b><br>Words: 설교, 차별, 동성애, 투자, 무기정학",
          "<b>Topic 16</b><br>Words: 선교사, 모금, 미션, 한인, 성시",
          "<b>Topic 16</b><br>Words: 데이터, 공개, 법무부, 금융, 카드",
          "<b>Topic 16</b><br>Words: 사학, 퓨처, 예과, 개정안, 웃음",
          "<b>Topic 16</b><br>Words: 변증, 금호, 판결, 동성, 주주"
         ],
         "marker": {
          "color": "#009E73"
         },
         "mode": "lines",
         "name": "16_10_변증_등록금_학술지",
         "type": "scatter",
         "x": [
          1995,
          1996,
          1997,
          1999,
          2001,
          2002,
          2003,
          2004,
          2005,
          2006,
          2007,
          2008,
          2009,
          2010,
          2011,
          2012,
          2013,
          2014,
          2015,
          2016,
          2017,
          2018,
          2019,
          2020,
          2021,
          2022,
          2023,
          2024
         ],
         "y": [
          4,
          1,
          1,
          3,
          1,
          2,
          3,
          2,
          3,
          3,
          1,
          7,
          3,
          1,
          8,
          1,
          4,
          5,
          2,
          2,
          5,
          1,
          7,
          5,
          4,
          3,
          5,
          10
         ]
        },
        {
         "hoverinfo": "text",
         "hovertext": [
          "<b>Topic 17</b><br>Words: 청소년, 여름, 수련, 책임자, 방학",
          "<b>Topic 17</b><br>Words: 사정, 성적, 수능, 정원, 선발",
          "<b>Topic 17</b><br>Words: 부사장, 처리, kbs, 이사, 임명",
          "<b>Topic 17</b><br>Words: 명령, 가정, 장신, 예장, 세미나",
          "<b>Topic 17</b><br>Words: 코스타, 유학, 한인, 대회, 사역",
          "<b>Topic 17</b><br>Words: 박람회, 부총장, 상금, 모금, 미술",
          "<b>Topic 17</b><br>Words: 이라크, 구호, 29, 28, 이슬람",
          "<b>Topic 17</b><br>Words: 우즈베키스탄, 봉사, 한글, 여학생, 학장",
          "<b>Topic 17</b><br>Words: 영화, 수리, 탐구, 영역, 자연",
          "<b>Topic 17</b><br>Words: 언론, 신문, 선포, 창조주, 회복",
          "<b>Topic 17</b><br>Words: 동결, 사립대, 등록금, 아카데미, 부담",
          "<b>Topic 17</b><br>Words: 발인, 장모, 29, 별세, 세브",
          "<b>Topic 17</b><br>Words: 창업, 제품, 청년, 예비, 입주",
          "<b>Topic 17</b><br>Words: 적성, 진학, 진로, 작성, 원서",
          "<b>Topic 17</b><br>Words: 시험, 제도, 원주, 술대, 유수",
          "<b>Topic 17</b><br>Words: 장례식장, 별세, 미술, 신임, 수업",
          "<b>Topic 17</b><br>Words: 중독, 양육, 제일, 세미나, 미디어",
          "<b>Topic 17</b><br>Words: 영일, 영덕, 축제, 영어, 캠프",
          "<b>Topic 17</b><br>Words: 실적, 진학, 합격, 대입, 용인",
          "<b>Topic 17</b><br>Words: 편향, 통일부, 식당, 공단, 개성",
          "<b>Topic 17</b><br>Words: 태국, 기쁨, 기도, 고용, 부모",
          "<b>Topic 17</b><br>Words: 종료, 지소, 미아, 수출, 협정",
          "<b>Topic 17</b><br>Words: 지침, 개정, 온라인, 연료, 방역",
          "<b>Topic 17</b><br>Words: esg, 반기문, un, 가스, unai",
          "<b>Topic 17</b><br>Words: esg, 스타트업, 창업, 허브, 양극",
          "<b>Topic 17</b><br>Words: 게임, 네덜란드, 예과, 택시, 개정안",
          "<b>Topic 17</b><br>Words: 지정, 청년, 혁신, 예비, 포항시"
         ],
         "marker": {
          "color": "#F0E442"
         },
         "mode": "lines",
         "name": "17_게임_28_esg_29",
         "type": "scatter",
         "x": [
          1995,
          1996,
          1998,
          1999,
          2000,
          2001,
          2003,
          2004,
          2005,
          2006,
          2008,
          2009,
          2010,
          2011,
          2012,
          2013,
          2014,
          2015,
          2016,
          2017,
          2018,
          2019,
          2020,
          2021,
          2022,
          2023,
          2024
         ],
         "y": [
          1,
          1,
          2,
          1,
          2,
          3,
          4,
          1,
          5,
          2,
          2,
          4,
          2,
          2,
          2,
          3,
          4,
          4,
          8,
          3,
          4,
          6,
          3,
          2,
          3,
          7,
          9
         ]
        },
        {
         "hoverinfo": "text",
         "hovertext": [
          "<b>Topic 18</b><br>Words: 유학, 특강, 수련, 컴퓨터, 전교",
          "<b>Topic 18</b><br>Words: 특차, 반영, 기록부, 고사, 21",
          "<b>Topic 18</b><br>Words: 선교회, 특수, 대상자, 22, 초청",
          "<b>Topic 18</b><br>Words: 21, 세기, 취업, 수도, 정원",
          "<b>Topic 18</b><br>Words: 특차, 상위, 공대, 석차, 22",
          "<b>Topic 18</b><br>Words: 추천자, 특기, 학교장, 취업자, 실업",
          "<b>Topic 18</b><br>Words: 부부, 수련, 필리핀, 귀국, 장기",
          "<b>Topic 18</b><br>Words: 홀리, 클럽, 성시, 포항시, 결성",
          "<b>Topic 18</b><br>Words: 피지, 송도, 학문, 유실, 지급",
          "<b>Topic 18</b><br>Words: 출판, 서울시, 생물, 상금, 판정",
          "<b>Topic 18</b><br>Words: 평판, 학술지, 연구비, 인용, 수입",
          "<b>Topic 18</b><br>Words: 명회, 모의, 법정, 영어, 온라인",
          "<b>Topic 18</b><br>Words: 21, 23, 장인상, 부친상, 모친상",
          "<b>Topic 18</b><br>Words: 참가자, 순위, 순서, 전화, 집계",
          "<b>Topic 18</b><br>Words: 낙태, 법무, 학술, 법인, 법조",
          "<b>Topic 18</b><br>Words: 법률가, 아시아, 노하우, 여행, 중동",
          "<b>Topic 18</b><br>Words: 상담, 평생, 평신, 수강, 협회",
          "<b>Topic 18</b><br>Words: 연극, 연출, 근로자, 해고, 원내",
          "<b>Topic 18</b><br>Words: 전도, 차세대, 등급, 수도, 목사",
          "<b>Topic 18</b><br>Words: 식품, 금속, 중구, 장학금, 미디어",
          "<b>Topic 18</b><br>Words: 자문, 위원, 김대중, 노무현, 대학교",
          "<b>Topic 18</b><br>Words: 필리핀, 단기, 해진, 아동, 하늘",
          "<b>Topic 18</b><br>Words: 아이디어, 영변, 비핵화, 송도, 발굴",
          "<b>Topic 18</b><br>Words: 배상, 소송, 손해, 판결, 혁명",
          "<b>Topic 18</b><br>Words: 독도, 탐방, 별세, 원어민, 부친상",
          "<b>Topic 18</b><br>Words: 청소년, 의학, 송도, 21, 문제점",
          "<b>Topic 18</b><br>Words: 판결, 동성혼, 동성, 윤리, 규탄",
          "<b>Topic 18</b><br>Words: 송환, 범죄, 처벌, 개국, 글로벌"
         ],
         "marker": {
          "color": "#D55E00"
         },
         "mode": "lines",
         "name": "18_21_특차_추천자_판결",
         "type": "scatter",
         "x": [
          1995,
          1996,
          1997,
          1998,
          2000,
          2001,
          2002,
          2003,
          2004,
          2005,
          2006,
          2007,
          2008,
          2009,
          2010,
          2011,
          2013,
          2014,
          2015,
          2016,
          2017,
          2018,
          2019,
          2020,
          2021,
          2022,
          2023,
          2024
         ],
         "y": [
          2,
          10,
          2,
          4,
          1,
          4,
          1,
          2,
          4,
          4,
          1,
          1,
          5,
          1,
          1,
          5,
          1,
          4,
          5,
          3,
          1,
          1,
          2,
          4,
          4,
          2,
          2,
          3
         ]
        },
        {
         "hoverinfo": "text",
         "hovertext": [
          "<b>Topic 19</b><br>Words: 정원, 증원, 마감, 경쟁, 67",
          "<b>Topic 19</b><br>Words: 취업자, 가장, 선발, 소년, 특기",
          "<b>Topic 19</b><br>Words: 편입, 학점, 학기, 대상자, 특수",
          "<b>Topic 19</b><br>Words: 증원, 66, 정원, 동결, 조정",
          "<b>Topic 19</b><br>Words: 모금, 000, 편입, 기금, 성균관",
          "<b>Topic 19</b><br>Words: 외국인, 결혼, 불법, 노동자, 공연",
          "<b>Topic 19</b><br>Words: 선출, 형제, 투표, 총장, 홍익",
          "<b>Topic 19</b><br>Words: 교대, 캠프, 가톨릭, 탐구, 진주",
          "<b>Topic 19</b><br>Words: 고객, 광고, 자동차, 콘서트, 주인공",
          "<b>Topic 19</b><br>Words: 제자, 사역, 재외, 훈련, 전형",
          "<b>Topic 19</b><br>Words: 사원, 회사, 공연, 교대, 무기",
          "<b>Topic 19</b><br>Words: 공연, 페스티벌, 작품, 특성, 뮤지컬",
          "<b>Topic 19</b><br>Words: 무역, 공정, 제품, 커피, 거래",
          "<b>Topic 19</b><br>Words: 일괄, 합산, 인문, 사립, 자연",
          "<b>Topic 19</b><br>Words: 인상, 공립, 사립대, 교원, 2007",
          "<b>Topic 19</b><br>Words: 확정, 금융, 캠프, 미만, 교대",
          "<b>Topic 19</b><br>Words: 부스, 채용, 경고, 교원, 세월",
          "<b>Topic 19</b><br>Words: 적정, 창업, 기술, 아이디어, 동아리",
          "<b>Topic 19</b><br>Words: 외국인, 어학, 유학, 충족, 개헌",
          "<b>Topic 19</b><br>Words: 강사, 서류, 종료, 남측, 지원자",
          "<b>Topic 19</b><br>Words: 분권, 자치, 캠페인, 지방, 대선",
          "<b>Topic 19</b><br>Words: 비평, 수련, 청소년, 맞춤, 선도",
          "<b>Topic 19</b><br>Words: 집사, 천국, sw, 소프트웨어, 상금",
          "<b>Topic 19</b><br>Words: 비평, 성경, 가치관, 이성, 신학"
         ],
         "marker": {
          "color": "#0072B2"
         },
         "mode": "lines",
         "name": "19_교대_공연_비평_합산",
         "type": "scatter",
         "x": [
          1995,
          1996,
          1997,
          1998,
          1999,
          2002,
          2003,
          2004,
          2005,
          2006,
          2007,
          2008,
          2009,
          2010,
          2011,
          2013,
          2015,
          2016,
          2017,
          2019,
          2021,
          2022,
          2023,
          2024
         ],
         "y": [
          2,
          2,
          3,
          1,
          2,
          2,
          4,
          3,
          4,
          2,
          3,
          3,
          2,
          2,
          1,
          6,
          7,
          6,
          7,
          3,
          1,
          3,
          4,
          2
         ]
        },
        {
         "hoverinfo": "text",
         "hovertext": [
          "<b>Topic 20</b><br>Words: 이슬람, 아프간, 서구, 충돌, 저항",
          "<b>Topic 20</b><br>Words: 소송, 대사관, 방문, 동생, 부서",
          "<b>Topic 20</b><br>Words: 카메라, 수사, 방송, 관행, 장면",
          "<b>Topic 20</b><br>Words: 양국, 방미, 협정, 원자력, 이견",
          "<b>Topic 20</b><br>Words: 가입, 안보리, 협약, 사드, dmz",
          "<b>Topic 20</b><br>Words: 원전, 원자력, 청와대, 공론, 안전",
          "<b>Topic 20</b><br>Words: 평화, 평창, 비핵화, 올림픽, 중단",
          "<b>Topic 20</b><br>Words: 지소, 미아, 종료, gsomia, 일본",
          "<b>Topic 20</b><br>Words: 지소, 미아, 종료, 종전, 수출",
          "<b>Topic 20</b><br>Words: 기부, 대화, 실태, 자살, 경북",
          "<b>Topic 20</b><br>Words: 법안, 교계, 인권, 제정, 국회"
         ],
         "marker": {
          "color": "#CC79A7"
         },
         "mode": "lines",
         "name": "20_지소_미아_종료_gsomia",
         "type": "scatter",
         "x": [
          2001,
          2002,
          2004,
          2013,
          2015,
          2017,
          2018,
          2019,
          2020,
          2022,
          2024
         ],
         "y": [
          1,
          1,
          1,
          1,
          4,
          2,
          10,
          34,
          13,
          1,
          1
         ]
        },
        {
         "hoverinfo": "text",
         "hovertext": [
          "<b>Topic 21</b><br>Words: 만점, 18, 19, 영문, 전자",
          "<b>Topic 21</b><br>Words: 만점, 불교, 19, 수련, 장애",
          "<b>Topic 21</b><br>Words: 신입, 전문대, 확정, 광고, 요강",
          "<b>Topic 21</b><br>Words: 학교장, 특기, 취업자, 토플, 실업",
          "<b>Topic 21</b><br>Words: 15, 19, 18, 추천자, 28",
          "<b>Topic 21</b><br>Words: 양심, 이라크, 병역, 심화, 구호",
          "<b>Topic 21</b><br>Words: 인권, 수용소, 정치범, 캄보디아, 탈북자",
          "<b>Topic 21</b><br>Words: 논문, 금속, 재료, 학술, 합격",
          "<b>Topic 21</b><br>Words: 아프간, 일자, 생산, 진실, 봉사",
          "<b>Topic 21</b><br>Words: 투표, 선거, 재외, 공직, 동포",
          "<b>Topic 21</b><br>Words: 개신교, 석학, 복음주의, 해방, 보수",
          "<b>Topic 21</b><br>Words: 마을, 아카데미, 봉사자, 자원, 봉사",
          "<b>Topic 21</b><br>Words: 영토, 문제, 분쟁, 봉쇄, 행태",
          "<b>Topic 21</b><br>Words: 아프리카, 경영, 질병, 탄생, 시상식",
          "<b>Topic 21</b><br>Words: 배출, 고시, 범죄, 옥수수, 보급",
          "<b>Topic 21</b><br>Words: 홀리, 클럽, 언론인, 극동방송, 바울",
          "<b>Topic 21</b><br>Words: 점검, 사랑, 지휘, 총리, 복구",
          "<b>Topic 21</b><br>Words: 합의, 선언문, 시위, 학부모, 수장",
          "<b>Topic 21</b><br>Words: 훈련, 접촉, 해제, 방중, 연합",
          "<b>Topic 21</b><br>Words: 친구, 관광, 개별, 아이, 입국",
          "<b>Topic 21</b><br>Words: 타결, 인상, 바이든, 임팩트, 분담금",
          "<b>Topic 21</b><br>Words: 과학자, 의사, 의학, 포스, 대행",
          "<b>Topic 21</b><br>Words: 혐오, 소수자, 피해자, 동성혼, 형사",
          "<b>Topic 21</b><br>Words: 비평, 성경, 금지법, 출마, 권위"
         ],
         "marker": {
          "color": "#E69F00"
         },
         "mode": "lines",
         "name": "21_19_만점_친구_18",
         "type": "scatter",
         "x": [
          1995,
          1996,
          1999,
          2000,
          2001,
          2003,
          2004,
          2006,
          2007,
          2008,
          2009,
          2010,
          2012,
          2013,
          2014,
          2015,
          2017,
          2018,
          2019,
          2020,
          2021,
          2022,
          2023,
          2024
         ],
         "y": [
          2,
          4,
          1,
          2,
          4,
          4,
          1,
          1,
          3,
          1,
          2,
          2,
          2,
          3,
          2,
          1,
          5,
          2,
          3,
          6,
          2,
          2,
          3,
          4
         ]
        },
        {
         "hoverinfo": "text",
         "hovertext": [
          "<b>Topic 22</b><br>Words: 의료, 난민, 기아, 긴급, 이라크",
          "<b>Topic 22</b><br>Words: 동북아, 남북, 중국, 절차, 패권",
          "<b>Topic 22</b><br>Words: 헌재, 동북아, 소장, 헌법, 입각",
          "<b>Topic 22</b><br>Words: 부장, 과장, 본부, 팀장, 처장",
          "<b>Topic 22</b><br>Words: 도박, 박근혜, 안보, 남북, nsc",
          "<b>Topic 22</b><br>Words: 과장, 처장, 직무, 팀장, 대리",
          "<b>Topic 22</b><br>Words: 통일부, 개성, 공단, 평등, 전면",
          "<b>Topic 22</b><br>Words: 문단, 김영철, 통일부, 남북, 대남",
          "<b>Topic 22</b><br>Words: 통일부, 개성, 공단, 북송, 송환",
          "<b>Topic 22</b><br>Words: 대남, 담화, 김여정, 사격, 연락",
          "<b>Topic 22</b><br>Words: 지사, 개성, 공단, 계승, 문재",
          "<b>Topic 22</b><br>Words: 배터리, 전지, 특구, 특화, 리서치",
          "<b>Topic 22</b><br>Words: 전단, 출장, 의원, 금지법, 권리",
          "<b>Topic 22</b><br>Words: 대행, 조국, 지명, 사퇴, 원내"
         ],
         "marker": {
          "color": "#56B4E9"
         },
         "mode": "lines",
         "name": "22_통일부_개성_공단_남북",
         "type": "scatter",
         "x": [
          2003,
          2010,
          2013,
          2014,
          2015,
          2016,
          2017,
          2018,
          2019,
          2020,
          2021,
          2022,
          2023,
          2024
         ],
         "y": [
          1,
          3,
          2,
          2,
          2,
          4,
          3,
          11,
          10,
          13,
          1,
          2,
          4,
          1
         ]
        },
        {
         "hoverinfo": "text",
         "hovertext": [
          "<b>Topic 23</b><br>Words: 응시, 수석, 합격자, 이념, 대학가",
          "<b>Topic 23</b><br>Words: 수련, 크리스천, 내달, 박사, 커뮤니케이션",
          "<b>Topic 23</b><br>Words: 신입, 동덕, 충원, 기록부, 대신",
          "<b>Topic 23</b><br>Words: 평신, 세미, 세미나, 사역, 확립",
          "<b>Topic 23</b><br>Words: 수상자, 공로, 노인, 67, 46",
          "<b>Topic 23</b><br>Words: 복구, 봉사자, 물품, 구호, 가구",
          "<b>Topic 23</b><br>Words: 발인, 부친상, 재미, 12, 병원",
          "<b>Topic 23</b><br>Words: 페스티벌, 축제, 바다, 부산, 상영",
          "<b>Topic 23</b><br>Words: 부친상, 발인, 병원, 모친상, 부장",
          "<b>Topic 23</b><br>Words: 세브, 란스, 연세, 병원, 자율",
          "<b>Topic 23</b><br>Words: 히딩크, 감독, 간담회, 신화, 축구",
          "<b>Topic 23</b><br>Words: 부친상, 발인, 12, 병원, 삼성",
          "<b>Topic 23</b><br>Words: 충원, 등록금, 현대사, 반값, 발인",
          "<b>Topic 23</b><br>Words: 추모, 객원, 음악, 아프리카, 협회",
          "<b>Topic 23</b><br>Words: 발인, 별세, 12, 병원, 분당",
          "<b>Topic 23</b><br>Words: 기부, 성탄, 사회봉사, 프로그램, 포항",
          "<b>Topic 23</b><br>Words: 학번, 기도회, 학부모, 열매, 삼성전자",
          "<b>Topic 23</b><br>Words: 간사, 전도, 지부, 예배, 선교",
          "<b>Topic 23</b><br>Words: 건물, 공사, 철도, 지진, 가구",
          "<b>Topic 23</b><br>Words: 특보, 시상식, 평화, 술대, 촉진",
          "<b>Topic 23</b><br>Words: 온라인, 대남, 노선, 교수진, 군사력",
          "<b>Topic 23</b><br>Words: 과학자, 도청, 북송, 수용소, 마을",
          "<b>Topic 23</b><br>Words: 소망, 자립, 개정안, 팀장, 엄마"
         ],
         "marker": {
          "color": "#009E73"
         },
         "mode": "lines",
         "name": "23_발인_12_부친상_병원",
         "type": "scatter",
         "x": [
          1995,
          1996,
          1999,
          2001,
          2002,
          2003,
          2004,
          2005,
          2006,
          2007,
          2008,
          2009,
          2011,
          2012,
          2013,
          2015,
          2016,
          2017,
          2018,
          2019,
          2021,
          2023,
          2024
         ],
         "y": [
          1,
          1,
          1,
          1,
          2,
          1,
          1,
          1,
          4,
          4,
          2,
          3,
          8,
          4,
          4,
          3,
          4,
          2,
          2,
          4,
          2,
          2,
          1
         ]
        },
        {
         "hoverinfo": "text",
         "hovertext": [
          "<b>Topic 24</b><br>Words: 본고사, 지원자, 나머지, 전기, 신설",
          "<b>Topic 24</b><br>Words: 침묵, 17, 세기, 석학, 의원",
          "<b>Topic 24</b><br>Words: 도서, 구매, 수행, 저자, 구절",
          "<b>Topic 24</b><br>Words: 교도소, 민간, 장로, 사장, 이사장",
          "<b>Topic 24</b><br>Words: 침례, 수련, 창립, 기념, 멘토링",
          "<b>Topic 24</b><br>Words: 일보, 창간, 칼럼, 국민, 지구촌",
          "<b>Topic 24</b><br>Words: 반환, 영구, 장군, 캠페인, 최선",
          "<b>Topic 24</b><br>Words: 17, 평양, 도서관, 시내, 클럽",
          "<b>Topic 24</b><br>Words: 처장, 기획, 지표, 합산, 문단",
          "<b>Topic 24</b><br>Words: 사정관, 교사, 소개서, 입학, 자기",
          "<b>Topic 24</b><br>Words: 개척, 성령, 예배, 집회, 파송",
          "<b>Topic 24</b><br>Words: 인성, 교내, 사교육, 수상, 대회",
          "<b>Topic 24</b><br>Words: 기후, 컨벤션, 오픈, 참조, 행정학",
          "<b>Topic 24</b><br>Words: 인증, 건물, 지진, 주택, 피해",
          "<b>Topic 24</b><br>Words: 세속, 위주, 개편, 공론, 비율",
          "<b>Topic 24</b><br>Words: 유엔사, 사령관, 전력, 증원, 재건",
          "<b>Topic 24</b><br>Words: 작전, 금법, 가속기, 참모, 공군",
          "<b>Topic 24</b><br>Words: 바이오, 지자체, 허브, 수도, 송도",
          "<b>Topic 24</b><br>Words: 주립, 명회, 글로벌, 축구장, 양육",
          "<b>Topic 24</b><br>Words: 출장, 법무부, 조례, 판례, 참사",
          "<b>Topic 24</b><br>Words: 시티, 정주, 복합, 개원, 공간"
         ],
         "marker": {
          "color": "#F0E442"
         },
         "mode": "lines",
         "name": "24_유엔사_17_출장_작전",
         "type": "scatter",
         "x": [
          1995,
          1996,
          2001,
          2003,
          2004,
          2005,
          2007,
          2008,
          2010,
          2011,
          2012,
          2015,
          2016,
          2017,
          2018,
          2019,
          2020,
          2021,
          2022,
          2023,
          2024
         ],
         "y": [
          1,
          2,
          1,
          1,
          1,
          2,
          1,
          4,
          2,
          3,
          1,
          3,
          1,
          2,
          4,
          7,
          6,
          2,
          1,
          10,
          3
         ]
        },
        {
         "hoverinfo": "text",
         "hovertext": [
          "<b>Topic 25</b><br>Words: 공개, 대화, 회담, 정상, 박근혜",
          "<b>Topic 25</b><br>Words: 위안부, 회담, 외교, 아베, 성명",
          "<b>Topic 25</b><br>Words: 사드, 배치, 규탄, 정상, 억제",
          "<b>Topic 25</b><br>Words: 문재, 코리아, 조지, 안보, 대사",
          "<b>Topic 25</b><br>Words: 회담, 정상, 사찰, 북미, cvid",
          "<b>Topic 25</b><br>Words: 회담, 정상, 지소, 베트남, 미아",
          "<b>Topic 25</b><br>Words: 호르무즈, 파병, 대화, 바이든, 북미",
          "<b>Topic 25</b><br>Words: 후보, 군사력, 전원, 식량, 회의"
         ],
         "marker": {
          "color": "#D55E00"
         },
         "mode": "lines",
         "name": "25_회담_정상_대화_북미",
         "type": "scatter",
         "x": [
          2013,
          2015,
          2016,
          2017,
          2018,
          2019,
          2020,
          2021
         ],
         "y": [
          5,
          6,
          3,
          2,
          16,
          13,
          8,
          5
         ]
        },
        {
         "hoverinfo": "text",
         "hovertext": [
          "<b>Topic 26</b><br>Words: 대사관, 환영, 참석자, 한국과학기술원, 주최",
          "<b>Topic 26</b><br>Words: 일보, 클럽, 목회, 심포지엄, 창간",
          "<b>Topic 26</b><br>Words: 홀리, 클럽, 창립, 이벤트, 성시",
          "<b>Topic 26</b><br>Words: 교육대, 일자, 경기, 충남, 장로회",
          "<b>Topic 26</b><br>Words: 발인, 부상, 모친상, 고대, 부친상",
          "<b>Topic 26</b><br>Words: 응시, 2003, 당락, 주요, 입시",
          "<b>Topic 26</b><br>Words: 발인, 재판, 부친상, 모친상, 병원",
          "<b>Topic 26</b><br>Words: 건립, 기숙사, 학부모, 지하, 지상",
          "<b>Topic 26</b><br>Words: 구미, 선교, 부활, 고난, 내달",
          "<b>Topic 26</b><br>Words: 히딩크, 감독, 축구, 거스, 준공식",
          "<b>Topic 26</b><br>Words: 발인, 모친상, 세브, 란스, 장모",
          "<b>Topic 26</b><br>Words: 부문, 지방, 진로, 편의, 하위",
          "<b>Topic 26</b><br>Words: 추가, 합격, 특집, 나군, 합격자",
          "<b>Topic 26</b><br>Words: 국어, 과목, 수학, 히딩크, 필드",
          "<b>Topic 26</b><br>Words: nll, 국정원, 누리, 공개, 노무현",
          "<b>Topic 26</b><br>Words: 우승, 경연, 법률, 대회, 국제법",
          "<b>Topic 26</b><br>Words: 채용, 코스, 일대, 장애, 총학생회",
          "<b>Topic 26</b><br>Words: 소장, 부장, 교무, 교육학, 재천",
          "<b>Topic 26</b><br>Words: 분권, 자치, 여행, 캄보디아, 집사",
          "<b>Topic 26</b><br>Words: 임명, 반도체, 조국, 방송, 통신",
          "<b>Topic 26</b><br>Words: 집회, 경찰, 청장, 수상자, 설치",
          "<b>Topic 26</b><br>Words: 교인, 독재, 자제, 승리, 원리",
          "<b>Topic 26</b><br>Words: 오빠, 도착, 선교, 드라마, 간부",
          "<b>Topic 26</b><br>Words: 특구, 이강덕, 별세, 시범, 소멸"
         ],
         "marker": {
          "color": "#0072B2"
         },
         "mode": "lines",
         "name": "26_발인_모친상_부친상_병원",
         "type": "scatter",
         "x": [
          1995,
          1996,
          2000,
          2001,
          2002,
          2003,
          2004,
          2006,
          2007,
          2008,
          2009,
          2010,
          2011,
          2012,
          2013,
          2014,
          2015,
          2016,
          2017,
          2019,
          2020,
          2022,
          2023,
          2024
         ],
         "y": [
          1,
          1,
          1,
          3,
          1,
          2,
          5,
          1,
          4,
          1,
          2,
          4,
          6,
          2,
          2,
          2,
          3,
          1,
          6,
          1,
          2,
          1,
          3,
          3
         ]
        },
        {
         "hoverinfo": "text",
         "hovertext": [
          "<b>Topic 27</b><br>Words: 강사, 수련, 강의, 청소년, 인기",
          "<b>Topic 27</b><br>Words: 정규, 과목, 채택, 장애, 실질",
          "<b>Topic 27</b><br>Words: 유실, 문화, 총회, 사역, 해수욕장",
          "<b>Topic 27</b><br>Words: 회계, 등록금, 2000, 58, 수입",
          "<b>Topic 27</b><br>Words: 우즈베키스탄, 농업, 젊은이, 성민, 미만",
          "<b>Topic 27</b><br>Words: 구절, 폭력, 박정희, 기독교, 정권",
          "<b>Topic 27</b><br>Words: 양심, 평판, 병역, 지표, 장학금",
          "<b>Topic 27</b><br>Words: 등록금, 계열, 사립대, 연간, 평균",
          "<b>Topic 27</b><br>Words: 지표, 중도, 정규, 로봇, 중심",
          "<b>Topic 27</b><br>Words: 지수, 보험, 생명, 명성, 지속",
          "<b>Topic 27</b><br>Words: 음성, 송도, 선진, 캠퍼스, 인천",
          "<b>Topic 27</b><br>Words: 원어민, 독도, 울릉도, 전시회, 교사",
          "<b>Topic 27</b><br>Words: 권사, 은혜, 상자, 70, 성경",
          "<b>Topic 27</b><br>Words: 미군, 조약, 동맹, 기지, 해고",
          "<b>Topic 27</b><br>Words: ngo, 컨퍼런스, 변호사, 법률, 사용",
          "<b>Topic 27</b><br>Words: 변호사, 법률, 스쿨, 합격, 배출",
          "<b>Topic 27</b><br>Words: 지열, cvid, 성명, 북미, 싱가포르",
          "<b>Topic 27</b><br>Words: 사드, 70, 분단, 강대국, 배치",
          "<b>Topic 27</b><br>Words: 특별법, 지급, 파병, 구제, 70",
          "<b>Topic 27</b><br>Words: 바이든, 본질, 행정부, 머리, 대미",
          "<b>Topic 27</b><br>Words: 동행, 박사, 회장, 감사, 과학부",
          "<b>Topic 27</b><br>Words: 정전, 동맹, 윤석열, 평화, 70",
          "<b>Topic 27</b><br>Words: 재원, 노조, 수익, 70, 감소"
         ],
         "marker": {
          "color": "#CC79A7"
         },
         "mode": "lines",
         "name": "27_70_지수_보험_동맹",
         "type": "scatter",
         "x": [
          1996,
          1997,
          2000,
          2002,
          2003,
          2004,
          2007,
          2008,
          2009,
          2011,
          2012,
          2013,
          2014,
          2015,
          2016,
          2017,
          2018,
          2019,
          2020,
          2021,
          2022,
          2023,
          2024
         ],
         "y": [
          1,
          1,
          2,
          1,
          2,
          1,
          2,
          1,
          2,
          2,
          2,
          2,
          4,
          8,
          5,
          1,
          4,
          3,
          6,
          1,
          1,
          5,
          1
         ]
        },
        {
         "hoverinfo": "text",
         "hovertext": [
          "<b>Topic 28</b><br>Words: 만점, 여고, 전자, 공학, 충북",
          "<b>Topic 28</b><br>Words: 원서, 유형, 서울대, 상위, 수험",
          "<b>Topic 28</b><br>Words: 분쟁, 비리, 수업, 학내, 교육부",
          "<b>Topic 28</b><br>Words: 교포, 반영, 당락, 논술, 기록부",
          "<b>Topic 28</b><br>Words: 도서, 교과목, 연구비, 전임, 울대",
          "<b>Topic 28</b><br>Words: 리더십, 크리스천, 세상, 축제, 입학",
          "<b>Topic 28</b><br>Words: 대형, 병원, 평가, 기관, 확정",
          "<b>Topic 28</b><br>Words: 지표, 폐지, 연구비, 외국인, 논문",
          "<b>Topic 28</b><br>Words: 재판관, 가구, 헌법, 임명, 법관",
          "<b>Topic 28</b><br>Words: 히딩크, 축구, 경기도, 축구장, 월드컵",
          "<b>Topic 28</b><br>Words: 기부금, 장학금, 잠재력, 북대, 합격자",
          "<b>Topic 28</b><br>Words: 인상, 등록금, 동결, 자제, 교협",
          "<b>Topic 28</b><br>Words: 법관, 교장, 재판소, 대법원장, 재판관",
          "<b>Topic 28</b><br>Words: 발인, 삼성, 별세, 고대, 병원",
          "<b>Topic 28</b><br>Words: 프로세스, 신문, 신뢰, 68, 명단",
          "<b>Topic 28</b><br>Words: 말씀, 해진, 학기, 소멸, 설교",
          "<b>Topic 28</b><br>Words: 신년, 담임, 예배, 감사, 설교",
          "<b>Topic 28</b><br>Words: 취업, 진로, 고용, 법조, 청년",
          "<b>Topic 28</b><br>Words: 건학, 스마트폰, 이념, 신년, 부회장",
          "<b>Topic 28</b><br>Words: 익명, 건물, 전용, 기부, 후원자",
          "<b>Topic 28</b><br>Words: 고양, 마리, 혐의, 징역, 동물",
          "<b>Topic 28</b><br>Words: 분과, 불교, 울릉, 시티, 공항",
          "<b>Topic 28</b><br>Words: 재천, 부사장, 발인, 성민, 장인상"
         ],
         "marker": {
          "color": "#E69F00"
         },
         "mode": "lines",
         "name": "28_재판관_법관_신년_헌법",
         "type": "scatter",
         "x": [
          1995,
          1996,
          1997,
          1998,
          2001,
          2004,
          2005,
          2007,
          2008,
          2009,
          2010,
          2011,
          2012,
          2013,
          2014,
          2015,
          2016,
          2017,
          2018,
          2019,
          2022,
          2023,
          2024
         ],
         "y": [
          1,
          2,
          1,
          2,
          2,
          2,
          1,
          3,
          5,
          1,
          3,
          4,
          3,
          1,
          3,
          2,
          5,
          4,
          3,
          2,
          1,
          5,
          1
         ]
        },
        {
         "hoverinfo": "text",
         "hovertext": [
          "<b>Topic 29</b><br>Words: 구호, 모금, 긴급, 피해, 달러",
          "<b>Topic 29</b><br>Words: 부시, 테러, 고통, 약자, 재천",
          "<b>Topic 29</b><br>Words: 전쟁, 평화, 추구, 역사, 이라크",
          "<b>Topic 29</b><br>Words: 유네스코, 외교, 당선인, 소프트, 코리아",
          "<b>Topic 29</b><br>Words: 패권, 금융, 확장, 부시, 위기",
          "<b>Topic 29</b><br>Words: 오바마, 붕괴, 개혁, 민주당, 균형",
          "<b>Topic 29</b><br>Words: 오바마, 공화, 리비아, 중동, 이스라엘",
          "<b>Topic 29</b><br>Words: 담론, 냉전, 분단, 긴장, 대외",
          "<b>Topic 29</b><br>Words: 국방, 중간, 편입, 방어, 보고서",
          "<b>Topic 29</b><br>Words: 법원, 연방, 대법원장, 사건, 법관",
          "<b>Topic 29</b><br>Words: 배치, 자산, 억제, 확장, 당국자",
          "<b>Topic 29</b><br>Words: 레드라인, 핵실험, 전쟁, 배치, 평화",
          "<b>Topic 29</b><br>Words: 연방, 대법관, 법원, 재판소, 판례",
          "<b>Topic 29</b><br>Words: 지소, 미아, 종료, 호르무즈, 방위비",
          "<b>Topic 29</b><br>Words: 워킹, 종전, 지지, 선언, 결의",
          "<b>Topic 29</b><br>Words: 총리, 영국, 회의, 개국, 캐나다",
          "<b>Topic 29</b><br>Words: 우크라, 이나, 러시아, 전쟁, 나토",
          "<b>Topic 29</b><br>Words: 공조, 설정, 주주, 현안, 대중",
          "<b>Topic 29</b><br>Words: 국제법, 학번, 우승, 경연, 재판"
         ],
         "marker": {
          "color": "#56B4E9"
         },
         "mode": "lines",
         "name": "29_오바마_연방_레드라인_우크라",
         "type": "scatter",
         "x": [
          2004,
          2005,
          2007,
          2008,
          2009,
          2010,
          2011,
          2013,
          2014,
          2015,
          2016,
          2017,
          2018,
          2019,
          2020,
          2021,
          2022,
          2023,
          2024
         ],
         "y": [
          1,
          1,
          1,
          1,
          2,
          4,
          8,
          1,
          4,
          2,
          1,
          2,
          4,
          9,
          5,
          1,
          2,
          1,
          1
         ]
        }
       ],
       "layout": {
        "height": 450,
        "hoverlabel": {
         "bgcolor": "white",
         "font": {
          "family": "Rockwell",
          "size": 16
         }
        },
        "legend": {
         "title": {
          "text": "<b>Global Topic Representation"
         }
        },
        "template": {
         "data": {
          "bar": [
           {
            "error_x": {
             "color": "rgb(36,36,36)"
            },
            "error_y": {
             "color": "rgb(36,36,36)"
            },
            "marker": {
             "line": {
              "color": "white",
              "width": 0.5
             },
             "pattern": {
              "fillmode": "overlay",
              "size": 10,
              "solidity": 0.2
             }
            },
            "type": "bar"
           }
          ],
          "barpolar": [
           {
            "marker": {
             "line": {
              "color": "white",
              "width": 0.5
             },
             "pattern": {
              "fillmode": "overlay",
              "size": 10,
              "solidity": 0.2
             }
            },
            "type": "barpolar"
           }
          ],
          "carpet": [
           {
            "aaxis": {
             "endlinecolor": "rgb(36,36,36)",
             "gridcolor": "white",
             "linecolor": "white",
             "minorgridcolor": "white",
             "startlinecolor": "rgb(36,36,36)"
            },
            "baxis": {
             "endlinecolor": "rgb(36,36,36)",
             "gridcolor": "white",
             "linecolor": "white",
             "minorgridcolor": "white",
             "startlinecolor": "rgb(36,36,36)"
            },
            "type": "carpet"
           }
          ],
          "choropleth": [
           {
            "colorbar": {
             "outlinewidth": 1,
             "tickcolor": "rgb(36,36,36)",
             "ticks": "outside"
            },
            "type": "choropleth"
           }
          ],
          "contour": [
           {
            "colorbar": {
             "outlinewidth": 1,
             "tickcolor": "rgb(36,36,36)",
             "ticks": "outside"
            },
            "colorscale": [
             [
              0,
              "#440154"
             ],
             [
              0.1111111111111111,
              "#482878"
             ],
             [
              0.2222222222222222,
              "#3e4989"
             ],
             [
              0.3333333333333333,
              "#31688e"
             ],
             [
              0.4444444444444444,
              "#26828e"
             ],
             [
              0.5555555555555556,
              "#1f9e89"
             ],
             [
              0.6666666666666666,
              "#35b779"
             ],
             [
              0.7777777777777778,
              "#6ece58"
             ],
             [
              0.8888888888888888,
              "#b5de2b"
             ],
             [
              1,
              "#fde725"
             ]
            ],
            "type": "contour"
           }
          ],
          "contourcarpet": [
           {
            "colorbar": {
             "outlinewidth": 1,
             "tickcolor": "rgb(36,36,36)",
             "ticks": "outside"
            },
            "type": "contourcarpet"
           }
          ],
          "heatmap": [
           {
            "colorbar": {
             "outlinewidth": 1,
             "tickcolor": "rgb(36,36,36)",
             "ticks": "outside"
            },
            "colorscale": [
             [
              0,
              "#440154"
             ],
             [
              0.1111111111111111,
              "#482878"
             ],
             [
              0.2222222222222222,
              "#3e4989"
             ],
             [
              0.3333333333333333,
              "#31688e"
             ],
             [
              0.4444444444444444,
              "#26828e"
             ],
             [
              0.5555555555555556,
              "#1f9e89"
             ],
             [
              0.6666666666666666,
              "#35b779"
             ],
             [
              0.7777777777777778,
              "#6ece58"
             ],
             [
              0.8888888888888888,
              "#b5de2b"
             ],
             [
              1,
              "#fde725"
             ]
            ],
            "type": "heatmap"
           }
          ],
          "heatmapgl": [
           {
            "colorbar": {
             "outlinewidth": 1,
             "tickcolor": "rgb(36,36,36)",
             "ticks": "outside"
            },
            "colorscale": [
             [
              0,
              "#440154"
             ],
             [
              0.1111111111111111,
              "#482878"
             ],
             [
              0.2222222222222222,
              "#3e4989"
             ],
             [
              0.3333333333333333,
              "#31688e"
             ],
             [
              0.4444444444444444,
              "#26828e"
             ],
             [
              0.5555555555555556,
              "#1f9e89"
             ],
             [
              0.6666666666666666,
              "#35b779"
             ],
             [
              0.7777777777777778,
              "#6ece58"
             ],
             [
              0.8888888888888888,
              "#b5de2b"
             ],
             [
              1,
              "#fde725"
             ]
            ],
            "type": "heatmapgl"
           }
          ],
          "histogram": [
           {
            "marker": {
             "line": {
              "color": "white",
              "width": 0.6
             }
            },
            "type": "histogram"
           }
          ],
          "histogram2d": [
           {
            "colorbar": {
             "outlinewidth": 1,
             "tickcolor": "rgb(36,36,36)",
             "ticks": "outside"
            },
            "colorscale": [
             [
              0,
              "#440154"
             ],
             [
              0.1111111111111111,
              "#482878"
             ],
             [
              0.2222222222222222,
              "#3e4989"
             ],
             [
              0.3333333333333333,
              "#31688e"
             ],
             [
              0.4444444444444444,
              "#26828e"
             ],
             [
              0.5555555555555556,
              "#1f9e89"
             ],
             [
              0.6666666666666666,
              "#35b779"
             ],
             [
              0.7777777777777778,
              "#6ece58"
             ],
             [
              0.8888888888888888,
              "#b5de2b"
             ],
             [
              1,
              "#fde725"
             ]
            ],
            "type": "histogram2d"
           }
          ],
          "histogram2dcontour": [
           {
            "colorbar": {
             "outlinewidth": 1,
             "tickcolor": "rgb(36,36,36)",
             "ticks": "outside"
            },
            "colorscale": [
             [
              0,
              "#440154"
             ],
             [
              0.1111111111111111,
              "#482878"
             ],
             [
              0.2222222222222222,
              "#3e4989"
             ],
             [
              0.3333333333333333,
              "#31688e"
             ],
             [
              0.4444444444444444,
              "#26828e"
             ],
             [
              0.5555555555555556,
              "#1f9e89"
             ],
             [
              0.6666666666666666,
              "#35b779"
             ],
             [
              0.7777777777777778,
              "#6ece58"
             ],
             [
              0.8888888888888888,
              "#b5de2b"
             ],
             [
              1,
              "#fde725"
             ]
            ],
            "type": "histogram2dcontour"
           }
          ],
          "mesh3d": [
           {
            "colorbar": {
             "outlinewidth": 1,
             "tickcolor": "rgb(36,36,36)",
             "ticks": "outside"
            },
            "type": "mesh3d"
           }
          ],
          "parcoords": [
           {
            "line": {
             "colorbar": {
              "outlinewidth": 1,
              "tickcolor": "rgb(36,36,36)",
              "ticks": "outside"
             }
            },
            "type": "parcoords"
           }
          ],
          "pie": [
           {
            "automargin": true,
            "type": "pie"
           }
          ],
          "scatter": [
           {
            "fillpattern": {
             "fillmode": "overlay",
             "size": 10,
             "solidity": 0.2
            },
            "type": "scatter"
           }
          ],
          "scatter3d": [
           {
            "line": {
             "colorbar": {
              "outlinewidth": 1,
              "tickcolor": "rgb(36,36,36)",
              "ticks": "outside"
             }
            },
            "marker": {
             "colorbar": {
              "outlinewidth": 1,
              "tickcolor": "rgb(36,36,36)",
              "ticks": "outside"
             }
            },
            "type": "scatter3d"
           }
          ],
          "scattercarpet": [
           {
            "marker": {
             "colorbar": {
              "outlinewidth": 1,
              "tickcolor": "rgb(36,36,36)",
              "ticks": "outside"
             }
            },
            "type": "scattercarpet"
           }
          ],
          "scattergeo": [
           {
            "marker": {
             "colorbar": {
              "outlinewidth": 1,
              "tickcolor": "rgb(36,36,36)",
              "ticks": "outside"
             }
            },
            "type": "scattergeo"
           }
          ],
          "scattergl": [
           {
            "marker": {
             "colorbar": {
              "outlinewidth": 1,
              "tickcolor": "rgb(36,36,36)",
              "ticks": "outside"
             }
            },
            "type": "scattergl"
           }
          ],
          "scattermapbox": [
           {
            "marker": {
             "colorbar": {
              "outlinewidth": 1,
              "tickcolor": "rgb(36,36,36)",
              "ticks": "outside"
             }
            },
            "type": "scattermapbox"
           }
          ],
          "scatterpolar": [
           {
            "marker": {
             "colorbar": {
              "outlinewidth": 1,
              "tickcolor": "rgb(36,36,36)",
              "ticks": "outside"
             }
            },
            "type": "scatterpolar"
           }
          ],
          "scatterpolargl": [
           {
            "marker": {
             "colorbar": {
              "outlinewidth": 1,
              "tickcolor": "rgb(36,36,36)",
              "ticks": "outside"
             }
            },
            "type": "scatterpolargl"
           }
          ],
          "scatterternary": [
           {
            "marker": {
             "colorbar": {
              "outlinewidth": 1,
              "tickcolor": "rgb(36,36,36)",
              "ticks": "outside"
             }
            },
            "type": "scatterternary"
           }
          ],
          "surface": [
           {
            "colorbar": {
             "outlinewidth": 1,
             "tickcolor": "rgb(36,36,36)",
             "ticks": "outside"
            },
            "colorscale": [
             [
              0,
              "#440154"
             ],
             [
              0.1111111111111111,
              "#482878"
             ],
             [
              0.2222222222222222,
              "#3e4989"
             ],
             [
              0.3333333333333333,
              "#31688e"
             ],
             [
              0.4444444444444444,
              "#26828e"
             ],
             [
              0.5555555555555556,
              "#1f9e89"
             ],
             [
              0.6666666666666666,
              "#35b779"
             ],
             [
              0.7777777777777778,
              "#6ece58"
             ],
             [
              0.8888888888888888,
              "#b5de2b"
             ],
             [
              1,
              "#fde725"
             ]
            ],
            "type": "surface"
           }
          ],
          "table": [
           {
            "cells": {
             "fill": {
              "color": "rgb(237,237,237)"
             },
             "line": {
              "color": "white"
             }
            },
            "header": {
             "fill": {
              "color": "rgb(217,217,217)"
             },
             "line": {
              "color": "white"
             }
            },
            "type": "table"
           }
          ]
         },
         "layout": {
          "annotationdefaults": {
           "arrowhead": 0,
           "arrowwidth": 1
          },
          "autotypenumbers": "strict",
          "coloraxis": {
           "colorbar": {
            "outlinewidth": 1,
            "tickcolor": "rgb(36,36,36)",
            "ticks": "outside"
           }
          },
          "colorscale": {
           "diverging": [
            [
             0,
             "rgb(103,0,31)"
            ],
            [
             0.1,
             "rgb(178,24,43)"
            ],
            [
             0.2,
             "rgb(214,96,77)"
            ],
            [
             0.3,
             "rgb(244,165,130)"
            ],
            [
             0.4,
             "rgb(253,219,199)"
            ],
            [
             0.5,
             "rgb(247,247,247)"
            ],
            [
             0.6,
             "rgb(209,229,240)"
            ],
            [
             0.7,
             "rgb(146,197,222)"
            ],
            [
             0.8,
             "rgb(67,147,195)"
            ],
            [
             0.9,
             "rgb(33,102,172)"
            ],
            [
             1,
             "rgb(5,48,97)"
            ]
           ],
           "sequential": [
            [
             0,
             "#440154"
            ],
            [
             0.1111111111111111,
             "#482878"
            ],
            [
             0.2222222222222222,
             "#3e4989"
            ],
            [
             0.3333333333333333,
             "#31688e"
            ],
            [
             0.4444444444444444,
             "#26828e"
            ],
            [
             0.5555555555555556,
             "#1f9e89"
            ],
            [
             0.6666666666666666,
             "#35b779"
            ],
            [
             0.7777777777777778,
             "#6ece58"
            ],
            [
             0.8888888888888888,
             "#b5de2b"
            ],
            [
             1,
             "#fde725"
            ]
           ],
           "sequentialminus": [
            [
             0,
             "#440154"
            ],
            [
             0.1111111111111111,
             "#482878"
            ],
            [
             0.2222222222222222,
             "#3e4989"
            ],
            [
             0.3333333333333333,
             "#31688e"
            ],
            [
             0.4444444444444444,
             "#26828e"
            ],
            [
             0.5555555555555556,
             "#1f9e89"
            ],
            [
             0.6666666666666666,
             "#35b779"
            ],
            [
             0.7777777777777778,
             "#6ece58"
            ],
            [
             0.8888888888888888,
             "#b5de2b"
            ],
            [
             1,
             "#fde725"
            ]
           ]
          },
          "colorway": [
           "#1F77B4",
           "#FF7F0E",
           "#2CA02C",
           "#D62728",
           "#9467BD",
           "#8C564B",
           "#E377C2",
           "#7F7F7F",
           "#BCBD22",
           "#17BECF"
          ],
          "font": {
           "color": "rgb(36,36,36)"
          },
          "geo": {
           "bgcolor": "white",
           "lakecolor": "white",
           "landcolor": "white",
           "showlakes": true,
           "showland": true,
           "subunitcolor": "white"
          },
          "hoverlabel": {
           "align": "left"
          },
          "hovermode": "closest",
          "mapbox": {
           "style": "light"
          },
          "paper_bgcolor": "white",
          "plot_bgcolor": "white",
          "polar": {
           "angularaxis": {
            "gridcolor": "rgb(232,232,232)",
            "linecolor": "rgb(36,36,36)",
            "showgrid": false,
            "showline": true,
            "ticks": "outside"
           },
           "bgcolor": "white",
           "radialaxis": {
            "gridcolor": "rgb(232,232,232)",
            "linecolor": "rgb(36,36,36)",
            "showgrid": false,
            "showline": true,
            "ticks": "outside"
           }
          },
          "scene": {
           "xaxis": {
            "backgroundcolor": "white",
            "gridcolor": "rgb(232,232,232)",
            "gridwidth": 2,
            "linecolor": "rgb(36,36,36)",
            "showbackground": true,
            "showgrid": false,
            "showline": true,
            "ticks": "outside",
            "zeroline": false,
            "zerolinecolor": "rgb(36,36,36)"
           },
           "yaxis": {
            "backgroundcolor": "white",
            "gridcolor": "rgb(232,232,232)",
            "gridwidth": 2,
            "linecolor": "rgb(36,36,36)",
            "showbackground": true,
            "showgrid": false,
            "showline": true,
            "ticks": "outside",
            "zeroline": false,
            "zerolinecolor": "rgb(36,36,36)"
           },
           "zaxis": {
            "backgroundcolor": "white",
            "gridcolor": "rgb(232,232,232)",
            "gridwidth": 2,
            "linecolor": "rgb(36,36,36)",
            "showbackground": true,
            "showgrid": false,
            "showline": true,
            "ticks": "outside",
            "zeroline": false,
            "zerolinecolor": "rgb(36,36,36)"
           }
          },
          "shapedefaults": {
           "fillcolor": "black",
           "line": {
            "width": 0
           },
           "opacity": 0.3
          },
          "ternary": {
           "aaxis": {
            "gridcolor": "rgb(232,232,232)",
            "linecolor": "rgb(36,36,36)",
            "showgrid": false,
            "showline": true,
            "ticks": "outside"
           },
           "baxis": {
            "gridcolor": "rgb(232,232,232)",
            "linecolor": "rgb(36,36,36)",
            "showgrid": false,
            "showline": true,
            "ticks": "outside"
           },
           "bgcolor": "white",
           "caxis": {
            "gridcolor": "rgb(232,232,232)",
            "linecolor": "rgb(36,36,36)",
            "showgrid": false,
            "showline": true,
            "ticks": "outside"
           }
          },
          "title": {
           "x": 0.05
          },
          "xaxis": {
           "automargin": true,
           "gridcolor": "rgb(232,232,232)",
           "linecolor": "rgb(36,36,36)",
           "showgrid": false,
           "showline": true,
           "ticks": "outside",
           "title": {
            "standoff": 15
           },
           "zeroline": false,
           "zerolinecolor": "rgb(36,36,36)"
          },
          "yaxis": {
           "automargin": true,
           "gridcolor": "rgb(232,232,232)",
           "linecolor": "rgb(36,36,36)",
           "showgrid": false,
           "showline": true,
           "ticks": "outside",
           "title": {
            "standoff": 15
           },
           "zeroline": false,
           "zerolinecolor": "rgb(36,36,36)"
          }
         }
        },
        "title": {
         "font": {
          "color": "Black",
          "size": 22
         },
         "text": "<b>Topics over Time</b>",
         "x": 0.4,
         "xanchor": "center",
         "y": 0.95,
         "yanchor": "top"
        },
        "width": 1250,
        "xaxis": {
         "showgrid": true
        },
        "yaxis": {
         "showgrid": true,
         "title": {
          "text": "Frequency"
         }
        }
       }
      }
     },
     "metadata": {},
     "output_type": "display_data"
    }
   ],
   "source": [
    "#show line plot of ToT result\n",
    "topic_model.visualize_topics_over_time(topics_over_time, top_n_topics=30)"
   ]
  },
  {
   "cell_type": "markdown",
   "metadata": {},
   "source": [
    "# Result interpretation\n",
    "\n",
    "- In BERTopic model, the optimal number of topics is found as a result of HDBSCAN. Therefore, the methodology (Perplexity, Coherence) used in the existing topic modeling is not used separately.\n",
    "\n",
    "- Unlike the DTM model, BERTopic includes time variables in the topic. This makes it possible to analyze continuous time fluctuations. for this reason, BERTopic is characterized by relatively accurate capture of topics even in rapidly changing data (ex, news, newspaper editorials, SNS, etc.)."
   ]
  }
 ],
 "metadata": {
  "kernelspec": {
   "display_name": "test",
   "language": "python",
   "name": "python3"
  },
  "language_info": {
   "codemirror_mode": {
    "name": "ipython",
    "version": 3
   },
   "file_extension": ".py",
   "mimetype": "text/x-python",
   "name": "python",
   "nbconvert_exporter": "python",
   "pygments_lexer": "ipython3",
   "version": "3.11.8"
  }
 },
 "nbformat": 4,
 "nbformat_minor": 4
}
