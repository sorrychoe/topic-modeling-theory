{
 "cells": [
  {
   "cell_type": "markdown",
   "metadata": {},
   "source": [
    "# Latent Dirichlet Allocation (LDA)"
   ]
  },
  {
   "cell_type": "markdown",
   "metadata": {},
   "source": [
    "#### Author information\n",
    "- **Name:** Jaeseong Choe\n",
    "\n",
    "- **email address:** 21900759@handong.ac.kr\n",
    "\n",
    "- **GitHub:** https://github.com/sorrychoe\n",
    "\n",
    "- **Linkedin:** https://www.linkedin.com/in/jaeseong-choe-048639250/\n",
    "\n",
    "- **Personal Webpage:** https://jaeseongchoe.vercel.app/"
   ]
  },
  {
   "attachments": {},
   "cell_type": "markdown",
   "metadata": {},
   "source": [
    "## Part 1. Brief background of methodology"
   ]
  },
  {
   "cell_type": "markdown",
   "metadata": {},
   "source": [
    "### Overview\n",
    "\n",
    "- **Latent Dirichlet Allocation(LDA)** is a generative probabilistic model for collections of discrete data such as text corpora. \n",
    "\n",
    "- It assumes that each document is generated from a mixture of topics, where each topic is characterized by a distribution over words."
   ]
  },
  {
   "cell_type": "markdown",
   "metadata": {},
   "source": [
    "### Situation Before LDA\n",
    "\n",
    "- Before LDA, text mining techniques mainly relied on frequency-based methods such as TF-IDF or clustering analysis without capturing latent semantics in documents."
   ]
  },
  {
   "cell_type": "markdown",
   "metadata": {},
   "source": [
    "### Why LDA Was Introduced\n",
    "\n",
    "- LDA was introduced from the paper *\"Latent Dirichlet Allocation\"* of Blei, D. M., Ng, A. Y., & Jordan, M. I. (2003).\n",
    "\n",
    "- LDA was developed for capture the hidden thematic structure within large corpora of documents.\n",
    "\n",
    "- It offers a generative probabilistic approach that assumes documents are a mixture of topics, with each topic being a distribution over words."
   ]
  },
  {
   "cell_type": "markdown",
   "metadata": {},
   "source": [
    "### Use Cases\n",
    "\n",
    "- LDA is widely used in document classification, information retrieval, and topic discovery in large text datasets."
   ]
  },
  {
   "attachments": {},
   "cell_type": "markdown",
   "metadata": {},
   "source": [
    "## Part 2. Key concept of methodology"
   ]
  },
  {
   "cell_type": "markdown",
   "metadata": {},
   "source": [
    "### Key Concept\n",
    "- LDA models each document as a mixture of topics, and each topic as a mixture of words. \n",
    "\n",
    "- The generative process involves sampling a topic distribution for each document and word distributions for each topic."
   ]
  },
  {
   "cell_type": "markdown",
   "metadata": {},
   "source": [
    "### Generative Process\n",
    "\n",
    "The LDA generative process can be described as follows:\n",
    "\n",
    "1. **Document Length**:\n",
    "   - For each document $d$, choose the number of words $N \\sim \\text{Poisson}(\\xi)$.\n",
    "\n",
    "2. **Topic Distribution**:\n",
    "   - Draw a topic distribution $\\theta_d$ from a Dirichlet prior:\n",
    "   $$\n",
    "   \\theta_d \\sim \\text{Dir}(\\alpha)\n",
    "   $$\n",
    "   where $\\alpha$ is the hyperparameter for the Dirichlet distribution.\n",
    "\n",
    "3. **Word Generation**:\n",
    "   - For each word $w_{dn}$ in document $d$:\n",
    "     - Choose a topic $z_{dn}$ from $\\theta_d$:\n",
    "     $$\n",
    "     z_{dn} \\sim \\text{Multinomial}(\\theta_d)\n",
    "     $$\n",
    "     - Choose a word $w_{dn}$ from the word distribution $\\beta_{z_{dn}}$ conditioned on the topic:\n",
    "     $$\n",
    "     w_{dn} \\sim \\text{Multinomial}(\\beta_{z_{dn}})\n",
    "     $$\n",
    "     where $\\beta_{z_{dn}}$ is the topic-specific distribution over the vocabulary."
   ]
  },
  {
   "cell_type": "markdown",
   "metadata": {},
   "source": [
    "![LDA_Graphic](./img/LDA_Graphic.png)"
   ]
  },
  {
   "cell_type": "markdown",
   "metadata": {},
   "source": [
    "### Mathematical Representation\n",
    "\n",
    "- **Dirichlet Distribution**: \n",
    "  $\\theta$, the distribution of topics for a document, is drawn from a Dirichlet distribution $\\text{Dir}(\\alpha)$. The Dirichlet distribution has the following probability density function($pdf$):\n",
    "  \n",
    "  $$\n",
    "  p(\\theta | \\alpha) = \\frac{\\Gamma(\\sum_{i=1}^{K} \\alpha_i)}{\\prod_{i=1}^{K} \\Gamma(\\alpha_i)} \\prod_{i=1}^{K} \\theta_i^{\\alpha_i - 1}\n",
    "  $$\n",
    "\n",
    "  where $\\theta$ is a $K$-dimensional vector, each $\\theta_i \\geq 0$, and $\\sum_{i=1}^{K} \\theta_i = 1$. $\\alpha$ is a $K$-dimensional vector with $\\alpha_i > 0$, and $\\Gamma(\\cdot)$ is the Gamma function.\n",
    "\n",
    "- **Joint Distribution**:\n",
    "  The joint distribution of the topic mixture $\\theta$, the topics $z$, and the words $w$ is given by:\n",
    "\n",
    "  $$\n",
    "  p(\\theta, z, w | \\alpha, \\beta) = p(\\theta | \\alpha) \\prod_{n=1}^{N} p(z_n | \\theta) p(w_n | z_n, \\beta)\n",
    "  $$\n",
    "\n",
    "  where $\\theta$ is the topic distribution for the document, $z_n$ is the topic for the $n$-th word, and $w_n$ is the word itself.\n",
    "\n",
    "- **Marginal Likelihood**:\n",
    "  By integrating out the topic distribution $\\theta$ and summing over the topic assignments $z$, the marginal probability of a document is:\n",
    "\n",
    "  $$\n",
    "  p(w | \\alpha, \\beta) = \\int p(\\theta | \\alpha) \\prod_{n=1}^{N} \\sum_{z_n} p(z_n | \\theta) p(w_n | z_n, \\beta) d\\theta\n",
    "  $$\n",
    "\n",
    "  This expression involves an intractable integral, which requires approximation methods like variational inference or Gibbs sampling for practical computation."
   ]
  },
  {
   "cell_type": "markdown",
   "metadata": {},
   "source": [
    "### Inference\n",
    "\n",
    "Inference in LDA is approximated using methods like **variational inference** and **Gibbs sampling**.\n",
    "\n",
    "- **Variational Inference:** Variational methods introduce a factorized distribution $q(\\theta, z)$ to approximate the posterior distribution $p(\\theta, z | w)$:\n",
    "\n",
    "    $$\n",
    "    q(\\theta, z | \\gamma, \\phi) = q(\\theta | \\gamma) \\prod_{n=1}^{N} q(z_n | \\phi_n)\n",
    "    $$\n",
    "\n",
    "    Where $\\gamma$ and $\\phi$ are variational parameters. The update equations are:\n",
    "\n",
    "    $$\n",
    "    \\phi_{ni} \\propto \\beta_{i w_n} \\exp(\\mathbb{E}[\\log \\theta_i])\n",
    "    $$\n",
    "\n",
    "    $$\n",
    "    \\gamma_i = \\alpha_i + \\sum_{n=1}^{N} \\phi_{ni}\n",
    "    $$\n",
    "\n",
    "- **Gibbs Sampling:** The conditional distribution for the topic assignment $z_{dn}$ in Gibbs sampling is:\n",
    "\n",
    "    $$\n",
    "    P(z_{dn} = k | z_{-dn}, w, \\alpha, \\beta) \\propto (\\alpha_k + N_{dk}^{-dn}) \\cdot \\frac{\\beta_{kw_n} + N_{kw_n}^{-dn}}{\\sum_{v} (\\beta_{kv} + N_{kv}^{-dn})}\n",
    "    $$\n",
    "\n",
    "    Where $N_{dk}^{-dn}$ is the count of words in document $d$ assigned to topic $k$, and $N_{kw_n}^{-dn}$ is the count of word $w_n$ in topic $k$ excluding $w_{dn}$.\n"
   ]
  },
  {
   "cell_type": "markdown",
   "metadata": {},
   "source": [
    "### Key Assumptions\n",
    "\n",
    "- **Bag-of-Words**: The order of words in a document is ignored, meaning that only the frequency of words matters, not their position.\n",
    "\n",
    "- **Exchangeability**: Words within a document and documents within a corpus are assumed to be exchangeable, meaning the probability of a sequence of words (or documents) remains unchanged under permutation."
   ]
  },
  {
   "cell_type": "markdown",
   "metadata": {
    "vscode": {
     "languageId": "plaintext"
    }
   },
   "source": [
    "### Strength\n",
    "\n",
    "- LDA captures hidden topics in a large corpus and provides a probabilistic framework for topic discovery."
   ]
  },
  {
   "attachments": {},
   "cell_type": "markdown",
   "metadata": {},
   "source": [
    "## Part 3. Example"
   ]
  },
  {
   "cell_type": "markdown",
   "metadata": {},
   "source": [
    "### Before Sample code\n",
    "- Generally, the gensim library is used for topic modeling, but tomotopy was used in this practice.\n",
    "- The reason is that the library is excellent in terms of speed and is characterized by best reproduction of the mathematical formulas mentioned in the paper.\n",
    "- Although it is not a library with many users yet, it is a library that is emerging as an alternative to gensim, so topic modeling was attempted through this library."
   ]
  },
  {
   "cell_type": "markdown",
   "metadata": {},
   "source": [
    "### Precautions\n",
    "\n",
    "- If you re-execute the code, there may be a slight difference in the result.\n",
    "\n",
    "- Of course, the difference in the number or content of the topic will not be significant due to the seed number and the learning rate, but the number of the topic changes."
   ]
  },
  {
   "cell_type": "code",
   "execution_count": 1,
   "metadata": {},
   "outputs": [],
   "source": [
    "# import librarys\n",
    "import numpy as np # for data preprocessing\n",
    "import pandas as pd # for load excel data\n",
    "import pyBigKinds as pbk # for preprocessing news text data\n",
    "import tomotopy as tp # for topic modeling\n",
    "import pyLDAvis # for visualize the LDA result\n",
    "\n",
    "# for ignore the warning message\n",
    "import warnings\n",
    "warnings.filterwarnings(\"ignore\")"
   ]
  },
  {
   "cell_type": "code",
   "execution_count": 2,
   "metadata": {},
   "outputs": [],
   "source": [
    "def ldamodel(df:pd.DataFrame, k:int):\n",
    "    \"\"\"Define the LDA model \"\"\"\n",
    "    \n",
    "    words = pbk.keyword_parser(pbk.keyword_list(df))\n",
    "    model=tp.LDAModel(min_cf=5, rm_top=10, k=k, seed=42)\n",
    "\n",
    "    for k in range(len(words)):\n",
    "        model.add_doc(words=words[k])\n",
    "    \n",
    "    model.train(0)\n",
    "\n",
    "    # print docs, vocabs and words\n",
    "    print('Num docs:{}, Num Vocabs:{}, Total Words:{}'.format(\n",
    "        len(model.docs), len(model.used_vocabs), model.num_words\n",
    "    ))\n",
    "\n",
    "    # train the model\n",
    "    model.train(2000, show_progress=True)\n",
    "    return model"
   ]
  },
  {
   "cell_type": "code",
   "execution_count": 3,
   "metadata": {},
   "outputs": [],
   "source": [
    "def find_proper_k(df:pd.DataFrame, start:int, end:int):\n",
    "    \"\"\"find proper k value for hyperparameter tunning\"\"\"\n",
    "\n",
    "    words = pbk.keyword_parser(pbk.keyword_list(df))\n",
    "\n",
    "    for i in range(start,end+1):        \n",
    "        # model setting\n",
    "        mdl=tp.LDAModel(min_cf=5, rm_top=10, k=i, seed=42)\n",
    "        \n",
    "        for k in range(len(words)):\n",
    "            mdl.add_doc(words=words[k])\n",
    "            \n",
    "        # pre-train the model for check the coherence score\n",
    "        mdl.train(100)\n",
    "        \n",
    "        # get the coherence score\n",
    "        coh = tp.coherence.Coherence(mdl, coherence='c_v')\n",
    "        \n",
    "        # coherence average\n",
    "        average_coherence = coh.get_score()\n",
    "        # initial value setup\n",
    "        if i == start:\n",
    "            proper_k = start\n",
    "            tmp = average_coherence\n",
    "        \n",
    "        # get coherence per topic\n",
    "        coherence_per_topic = [coh.get_score(topic_id=k) for k in range(mdl.k)]\n",
    "        \n",
    "        # print it out\n",
    "        print('==== Coherence : k = {} ===='.format(i))\n",
    "        print(\"\\n\")\n",
    "        print('Average: {}'.format(average_coherence))\n",
    "        print(\"\\n\")\n",
    "        print('Per Topic:{}'.format(coherence_per_topic))\n",
    "        print(\"\\n\")\n",
    "        print(\"\\n\")\n",
    "        \n",
    "        # update k\n",
    "        if tmp < average_coherence:\n",
    "            proper_k = i\n",
    "            tmp = average_coherence\n",
    "    return proper_k"
   ]
  },
  {
   "cell_type": "code",
   "execution_count": 4,
   "metadata": {},
   "outputs": [],
   "source": [
    "def get_ldavis(mdl):\n",
    "    \"\"\"preprocessing for LDA Topic data visualization\"\"\"\n",
    "    \n",
    "    # get the values\n",
    "    topic_term_dists = np.stack([mdl.get_topic_word_dist(k) for k in range(mdl.k)])\n",
    "    doc_topic_dists = np.stack([doc.get_topic_dist() for doc in mdl.docs])\n",
    "    doc_lengths = np.array([len(doc.words) for doc in mdl.docs])\n",
    "    vocab = list(mdl.used_vocabs)\n",
    "    term_frequency = mdl.used_vocab_freq\n",
    "\n",
    "    # prepara dataset\n",
    "    prepared_data = pyLDAvis.prepare(\n",
    "        topic_term_dists, \n",
    "        doc_topic_dists, \n",
    "        doc_lengths, \n",
    "        vocab, \n",
    "        term_frequency,\n",
    "        start_index=0, \n",
    "        sort_topics=False \n",
    "    )\n",
    "\n",
    "    # save result\n",
    "    pyLDAvis.save_html(prepared_data, 'view/ldavis.html')"
   ]
  },
  {
   "cell_type": "code",
   "execution_count": 5,
   "metadata": {},
   "outputs": [
    {
     "name": "stdout",
     "output_type": "stream",
     "text": [
      "==== Coherence : k = 3 ====\n",
      "\n",
      "\n",
      "Average: 0.741083973646164\n",
      "\n",
      "\n",
      "Per Topic:[0.5999453455209732, 0.8651391208171845, 0.7581674546003342]\n",
      "\n",
      "\n",
      "\n",
      "\n",
      "==== Coherence : k = 4 ====\n",
      "\n",
      "\n",
      "Average: 0.7011181615293025\n",
      "\n",
      "\n",
      "Per Topic:[0.6224485903978347, 0.766037181019783, 0.8679994404315948, 0.5479874342679978]\n",
      "\n",
      "\n",
      "\n",
      "\n",
      "==== Coherence : k = 5 ====\n",
      "\n",
      "\n",
      "Average: 0.7732469771802425\n",
      "\n",
      "\n",
      "Per Topic:[0.7342068195343018, 0.8780243456363678, 0.7895594149827957, 0.8406326591968536, 0.6238116465508938]\n",
      "\n",
      "\n",
      "\n",
      "\n",
      "==== Coherence : k = 6 ====\n",
      "\n",
      "\n",
      "Average: 0.825429646174113\n",
      "\n",
      "\n",
      "Per Topic:[0.7725077867507935, 0.7968347370624542, 0.761194908618927, 0.925168490409851, 0.8171466290950775, 0.8797253251075745]\n",
      "\n",
      "\n",
      "\n",
      "\n",
      "==== Coherence : k = 7 ====\n",
      "\n",
      "\n",
      "Average: 0.8127426283700127\n",
      "\n",
      "\n",
      "Per Topic:[0.7746312499046326, 0.776884400844574, 0.9046697795391083, 0.7563041687011719, 0.8720169305801392, 0.8372242093086243, 0.7674676597118377]\n",
      "\n",
      "\n",
      "\n",
      "\n",
      "==== Coherence : k = 8 ====\n",
      "\n",
      "\n",
      "Average: 0.7869673725217581\n",
      "\n",
      "\n",
      "Per Topic:[0.7796162962913513, 0.7850739479064941, 0.7353005141019822, 0.79520483314991, 0.8125846982002258, 0.9307012498378754, 0.7602913230657578, 0.6969661176204681]\n",
      "\n",
      "\n",
      "\n",
      "\n",
      "==== Coherence : k = 9 ====\n",
      "\n",
      "\n",
      "Average: 0.7858443571461572\n",
      "\n",
      "\n",
      "Per Topic:[0.7689438790082932, 0.6000672608613968, 0.8030995666980744, 0.7726394474506378, 0.8123740196228028, 0.8955206274986267, 0.7839869379997253, 0.7300536155700683, 0.9059138596057892]\n",
      "\n",
      "\n",
      "\n",
      "\n",
      "==== Coherence : k = 10 ====\n",
      "\n",
      "\n",
      "Average: 0.7804358653724193\n",
      "\n",
      "\n",
      "Per Topic:[0.7379157066345214, 0.5284374222159386, 0.7311362534761429, 0.9331300735473633, 0.8340034365653992, 0.8027094960212707, 0.7693215161561966, 0.8926488757133484, 0.7697432994842529, 0.8053125739097595]\n",
      "\n",
      "\n",
      "\n",
      "\n"
     ]
    }
   ],
   "source": [
    "# data load\n",
    "# The data is related to Handong University, \n",
    "# which was reported in major Korean daily newspapers from January 1995 to September 2024.\n",
    "df = pd.read_excel(\"data/NewsResult_19950101-20240930.xlsx\", engine=\"openpyxl\")\n",
    "\n",
    "#find proper k value\n",
    "proper_k = find_proper_k(df, 3,10)"
   ]
  },
  {
   "cell_type": "code",
   "execution_count": 6,
   "metadata": {},
   "outputs": [
    {
     "name": "stdout",
     "output_type": "stream",
     "text": [
      "Num docs:8051, Num Vocabs:27099, Total Words:1657565\n"
     ]
    },
    {
     "name": "stderr",
     "output_type": "stream",
     "text": [
      "Iteration: 100%|███████████| 2000/2000 [00:24<00:00, 81.70it/s, LLPW: -8.391166]\n"
     ]
    }
   ],
   "source": [
    "# Model setting with K\n",
    "mdl = ldamodel(df, proper_k)"
   ]
  },
  {
   "cell_type": "code",
   "execution_count": 7,
   "metadata": {},
   "outputs": [
    {
     "name": "stdout",
     "output_type": "stream",
     "text": [
      "<Basic Info>\n",
      "| LDAModel (current version: 0.12.7)\n",
      "| 8051 docs, 1657565 words\n",
      "| Total Vocabs: 128176, Used Vocabs: 27099\n",
      "| Entropy of words: 8.65140\n",
      "| Entropy of term-weighted words: 8.65140\n",
      "| Removed Vocabs: 미국 대학 북한 교수 한동대 한국 대통령 정부 교육 중국\n",
      "|\n",
      "<Training Info>\n",
      "| Iterations: 2000, Burn-in steps: 0\n",
      "| Optimization Interval: 10\n",
      "| Log-likelihood per word: -8.39061\n",
      "|\n",
      "<Initial Parameters>\n",
      "| tw: TermWeight.ONE\n",
      "| min_cf: 5 (minimum collection frequency of words)\n",
      "| min_df: 0 (minimum document frequency of words)\n",
      "| rm_top: 10 (the number of top words to be removed)\n",
      "| k: 6 (the number of topics between 1 ~ 32767)\n",
      "| alpha: [0.1] (hyperparameter of Dirichlet distribution for document-topic, given as a single `float` in case of symmetric prior and as a list with length `k` of `float` in case of asymmetric prior.)\n",
      "| eta: 0.01 (hyperparameter of Dirichlet distribution for topic-word)\n",
      "| seed: 42 (random seed)\n",
      "| trained in version 0.12.7\n",
      "|\n",
      "<Parameters>\n",
      "| alpha (Dirichlet prior on the per-document topic distributions)\n",
      "|  [0.21223544 0.06531291 0.15866221 0.08127981 0.18292816 0.10579267]\n",
      "| eta (Dirichlet prior on the per-topic word distribution)\n",
      "|  0.01\n",
      "|\n",
      "<Topics>\n",
      "| #0 (352882) : 지역 포항 지원 총장 사업\n",
      "| #1 (186788) : 서울 전형 모집 반영 선발\n",
      "| #2 (276617) : 사회 인권 국민 주장 정치\n",
      "| #3 (238494) : 회담 위원장 남북 협상 정상\n",
      "| #4 (354298) : 교회 목사 하나님 기독교 학교\n",
      "| #5 (248486) : 일본 외교 안보 트럼프 상황\n",
      "|\n",
      "\n"
     ]
    }
   ],
   "source": [
    "# get summary\n",
    "mdl.summary()\n",
    "\n",
    "# save result\n",
    "get_ldavis(mdl)"
   ]
  },
  {
   "cell_type": "code",
   "execution_count": 8,
   "metadata": {},
   "outputs": [
    {
     "data": {
      "text/html": [
       "\n",
       "<link rel=\"stylesheet\" type=\"text/css\" href=\"https://cdn.jsdelivr.net/gh/bmabey/pyLDAvis@3.4.0/pyLDAvis/js/ldavis.v1.0.0.css\">\n",
       "\n",
       "\n",
       "<div id=\"ldavis_el433555497124928651706191\" style=\"background-color:white;\"></div>\n",
       "<script type=\"text/javascript\">\n",
       "\n",
       "var ldavis_el433555497124928651706191_data = {\"mdsDat\": {\"x\": [0.06546586165512655, 0.35160111685368584, -0.08022870327194462, -0.2152127232237659, 0.07861355659539436, -0.20023910860849614], \"y\": [-0.10328752051464284, 0.1986344794181042, -0.047853546228528755, 0.11917971377256938, -0.26767904011769184, 0.10100591367018982], \"topics\": [0, 1, 2, 3, 4, 5], \"cluster\": [1, 1, 1, 1, 1, 1], \"Freq\": [21.424108150128745, 10.956544961483479, 16.67401467371731, 14.21770674640943, 21.729121045920035, 14.998504422340996]}, \"tinfo\": {\"Term\": [\"\\ud68c\\ub2f4\", \"\\uad50\\ud68c\", \"\\ubaa9\\uc0ac\", \"\\uc77c\\ubcf8\", \"\\ud558\\ub098\\ub2d8\", \"\\ud2b8\\ub7fc\\ud504\", \"\\uc678\\uad50\", \"\\ud611\\uc0c1\", \"\\ub0a8\\ubd81\", \"\\uc704\\uc6d0\\uc7a5\", \"\\uc804\\ud615\", \"\\ud3ec\\ud56d\", \"\\uc815\\uc0c1\", \"\\ubaa8\\uc9d1\", \"\\uc9c0\\uc6d0\", \"\\uc11c\\uc6b8\", \"\\ub300\\ubd81\", \"\\uc81c\\uc7ac\", \"\\ud55c\\ubc18\\ub3c4\", \"\\ub300\\ud654\", \"\\uc218\\ub2a5\", \"\\uc120\\ubc1c\", \"\\uc548\\ubcf4\", \"\\ucd1d\\uc7a5\", \"\\uae40\\uc815\\uc740\", \"\\ubc18\\uc601\", \"\\uc9c0\\uc5ed\", \"\\ub3d9\\ub9f9\", \"\\ud559\\uc0dd\", \"\\uc0ac\\uc5c5\", \"\\uc9c0\\uc9c4\", \"\\ud601\\uc2e0\", \"\\ub4f1\\ub85d\\uae08\", \"\\uacbd\\ubd81\\ub3c4\", \"\\ucc3d\\uc5c5\", \"AI\", \"\\uc720\\uce58\", \"\\uacbd\\uc7c1\\ub825\", \"\\uc735\\ud569\", \"\\ubc14\\uc774\\uc624\", \"\\uc804\\uc9c0\", \"\\uc774\\ucc28\", \"\\uc9c0\\uc790\\uccb4\", \"\\ub2e8\\uc9c0\", \"\\uc778\\uacf5\\uc9c0\\ub2a5\", \"\\ub514\\uc9c0\\ud138\", \"\\ubc30\\ud130\\ub9ac\", \"\\ub808\\uc774\\uc800\", \"\\uc0b0\\ud559\", \"\\uc774\\uac15\\ub355\", \"\\ud50c\\ub7ab\\ud3fc\", \"\\ud2b9\\uad6c\", \"ESG\", \"\\ub85c\\ubd07\", \"\\uae00\\ub85c\\uceec\\ub300\\ud559\", \"\\uc2dc\\uc0c1\\uc2dd\", \"\\uc9c0\\ub2a5\", \"\\uc2a4\\ud0c0\\ud2b8\\uc5c5\", \"\\uc720\\ub124\\uc2a4\\ucf54\", \"\\ubcf8\\uc9c0\\uc815\", \"\\uc0b0\\uc5c5\", \"\\ud2b9\\ud654\", \"\\uc721\\uc131\", \"\\uc778\\uc7ac\", \"\\uc120\\uc815\", \"\\ud3ec\\uc2a4\\ud14d\", \"\\ud611\\uc57d\", \"\\uc778\\ud504\\ub77c\", \"\\uae30\\uc5c5\", \"\\ud3ec\\ud56d\\uc2dc\", \"\\uae00\\ub85c\\uceec\", \"\\ucde8\\uc5c5\", \"\\uc778\\ub825\", \"\\uac74\\ubb3c\", \"\\ud3ec\\ud56d\", \"\\uae00\\ub85c\\ubc8c\", \"\\uc0ac\\uc5c5\", \"\\uacbd\\ubd81\", \"\\uc591\\uc131\", \"\\ub3c4\\uc2dc\", \"\\uc9c0\\uc5ed\", \"\\uc6b4\\uc601\", \"\\uc9c0\\uc815\", \"\\uc2dc\\uc7a5\", \"\\ud22c\\uc790\", \"\\uae30\\uad00\", \"\\ucd1d\\uc7a5\", \"\\uc9c0\\uc6d0\", \"\\ubd84\\uc57c\", \"\\ubc1c\\uc804\", \"\\uacc4\\ud68d\", \"\\ud504\\ub85c\\uadf8\\ub7a8\", \"\\ud559\\uc0dd\", \"\\ud611\\ub825\", \"\\uc13c\\ud130\", \"\\ubbf8\\ub798\", \"\\uc138\\uacc4\", \"\\ucd94\\uc9c4\", \"\\ud3c9\\uac00\", \"\\ud559\\uc0dd\\ub4e4\", \"\\ub300\\uc0c1\", \"\\ucc38\\uc5ec\", \"\\uc9c4\\ud589\", \"\\uc218\\uc2dc2\", \"\\uc815\\uc2dc\", \"\\ud559\\uc0dd\\ubd80\", \"\\uba74\\uc811\", \"\\ud559\\ub144\\ub3c4\", \"\\ub17c\\uc220\", \"\\ub300\\uc785\", \"\\uc870\\uc120\\ub300\", \"\\uc0ac\\uc815\\uad00\", \"\\uc0c1\\uba85\\ub300\", \"\\ucda9\\ubd81\\ub300\", \"\\uac74\\uc591\\ub300\", \"\\ub3d9\\uc11c\\ub300\", \"\\ub355\\uc131\\uc5ec\\ub300\", \"\\uc120\\ubb38\\ub300\", \"\\uc81c\\uc8fc\\ub300\", \"\\ub3d9\\uc758\\ub300\", \"\\uc21c\\ucc9c\\ub300\", \"\\ub3d9\\ub355\\uc5ec\\ub300\", \"\\uc6b0\\uc218\\uc790\", \"\\uac00\\uad70\", \"\\uc2e0\\ub77c\\ub300\", \"\\uc6b0\\uc11d\\ub300\", \"\\ub3d9\\uc2e0\\ub300\", \"\\uc0c1\\uc9c0\\ub300\", \"\\uc815\\uc2dc\\ubaa8\\uc9d1\", \"\\uacbd\\uc6d0\\ub300\", \"\\ubaa9\\ud3ec\\ub300\", \"\\uccad\\uc8fc\\ub300\", \"\\ud2b9\\uae30\\uc790\", \"\\uc804\\ud615\", \"\\uc218\\uc2dc\", \"\\uc218\\ub2a5\", \"\\ubaa8\\uc9d1\", \"\\uc218\\ud5d8\\uc0dd\", \"\\uc785\\uc2dc\", \"\\uc810\\uc218\", \"\\ud569\\uaca9\\uc790\", \"\\uc6d0\\uad11\\ub300\", \"\\uc815\\uc6d0\", \"\\uac15\\uc6d0\\ub300\", \"\\ucda9\\ub0a8\\ub300\", \"\\uc131\\uc801\", \"\\ud55c\\uc591\\ub300\", \"\\uc131\\uade0\\uad00\\ub300\", \"\\uc120\\ubc1c\", \"\\uc804\\ub0a8\\ub300\", \"\\ub2e8\\uad6d\\ub300\", \"\\uc911\\uc559\\ub300\", \"\\uacbd\\ud76c\\ub300\", \"\\ud64d\\uc775\\ub300\", \"\\uc11c\\uac15\\ub300\", \"\\uace0\\ub824\\ub300\", \"\\uc219\\uba85\\uc5ec\\ub300\", \"\\ubc18\\uc601\", \"\\uc778\\ud558\\ub300\", \"\\uc5f0\\uc138\\ub300\", \"\\uac74\\uad6d\\ub300\", \"\\uc774\\ud654\\uc5ec\\ub300\", \"\\uc785\\ud559\", \"\\uc11c\\uc6b8\", \"\\ud559\\uacfc\", \"\\uc11c\\uc6b8\\ub300\", \"\\ub3d9\\uad6d\\ub300\", \"\\uc9c0\\uc6d0\", \"\\ud559\\uc0dd\", \"\\ud3c9\\uac00\", \"\\ud5cc\\ubc95\", \"\\uac80\\ucc30\", \"\\ub3d9\\uc131\\uc560\", \"\\uc774\\uc2b9\\ub9cc\", \"\\ubc95\\uc6d0\", \"\\uc9d5\\uacc4\", \"\\ubc95\\ubb34\\ubd80\", \"\\uc7ac\\ud310\", \"\\ud310\\uc0ac\", \"\\ud610\\uc758\", \"\\ud22c\\ud45c\", \"A\\uc528\", \"\\uc778\\uad8c\\uc704\", \"\\uc704\\ud5cc\", \"\\uc18c\\uc1a1\", \"\\ud5cc\\uc7ac\", \"\\ucc98\\ubc8c\", \"\\ubc95\\uad00\", \"\\uc815\\ub2f9\", \"\\uac1c\\ud5cc\", \"\\ud398\\ubbf8\\ub2c8\\uc998\", \"\\ubc95\\ub960\\uac00\", \"\\ud610\\uc624\", \"\\uc120\\uace0\", \"\\ud55c\\ub098\\ub77c\\ub2f9\", \"\\uc785\\ubc95\", \"\\uae30\\uc18c\", \"\\uc131\\uc18c\\uc218\\uc790\", \"\\ub3d9\\uc131\\ud63c\", \"\\ub178\\uc870\", \"\\ucc28\\ubcc4\", \"\\uac80\\uc0ac\", \"\\uc218\\uc0ac\", \"\\ubcc0\\ud638\\uc0ac\", \"\\uc0ac\\ubc95\", \"\\uc778\\uad8c\", \"\\uc0ac\\uac74\", \"\\uce68\\ud574\", \"\\uac1c\\ud601\", \"\\ub85c\\uc2a4\\ucfe8\", \"\\uad8c\\ub825\", \"\\ud310\\uacb0\", \"\\uad8c\\ub9ac\", \"\\uad50\\uacfc\\uc11c\", \"\\ubc95\\ub960\", \"\\uad6d\\ubbfc\", \"\\uc790\\uc720\", \"\\uc758\\uc6d0\", \"\\uc815\\uce58\", \"\\ud6c4\\ubcf4\", \"\\uc8fc\\uc7a5\", \"\\uad6d\\ud68c\", \"\\ube44\\ud310\", \"\\ubc18\\ub300\", \"\\uc9c0\\uc801\", \"\\uc0ac\\ud68c\", \"\\uc704\\uc6d0\\ud68c\", \"\\ub300\\ud45c\", \"\\uc120\\uac70\", \"\\ub17c\\ub780\", \"\\uacb0\\uc815\", \"\\uc870\\uc0ac\", \"\\uad6d\\uac00\", \"\\uc0ac\\ub78c\", \"\\ucd9c\\uc2e0\", \"\\uc0dd\\uac01\", \"\\uc0ac\\uc2e4\", \"\\ucc38\\uc5ec\", \"\\uc7a5\\uad00\", \"\\uc704\\uc6d0\\uc7a5\", \"\\uae40\\uc815\\uc740\", \"\\ubc1c\\uc0ac\", \"\\ud3fc\\ud398\\uc774\\uc624\", \"\\uc885\\uc804\\uc120\\uc5b8\", \"\\ud310\\ubb38\\uc810\", \"\\ube44\\uac74\", \"\\uad6d\\ubb34\\uc704\\uc6d0\\uc7a5\", \"\\ub178\\ub3d9\\ub2f9\", \"\\ubd81\\uce21\", \"ICBM\", \"\\ud558\\ub178\\uc774\", \"\\uc601\\ubcc0\", \"\\uce5c\\uc11c\", \"\\ub0a8\\uce21\", \"\\uc678\\ubb34\\uc131\", \"\\ud0c4\\ub3c4\", \"\\uacb0\\ub82c\", \"\\ubcfc\\ud134\", \"\\ub0a8\\ubd81\\uc815\\uc0c1\\ud68c\\ub2f4\", \"\\ub300\\ub0a8\", \"\\uae40\\uc5ec\\uc815\", \"\\ub2e8\\uac70\\ub9ac\", \"\\uad50\\ucc29\", \"\\uc2e4\\ubb34\\ud611\\uc0c1\", \"\\ubc1c\\uc0ac\\uccb4\", \"\\uae08\\uac15\\uc0b0\", \"\\ubc29\\uc0ac\\ud3ec\", \"SLBM\", \"\\ub300\\ub959\\uac04\\ud0c4\\ub3c4\\ubbf8\\uc0ac\\uc77c\", \"\\ud68c\\ub3d9\", \"\\ubd81\\ubbf8\", \"\\uc7ac\\uac1c\", \"\\ube44\\ud575\\ud654\", \"\\uad6d\\ubb34\", \"\\ud68c\\ub2f4\", \"\\uc81c\\uc7ac\", \"\\ub0a8\\ubd81\", \"\\ubc29\\ubd81\", \"\\ud574\\uc81c\", \"\\uc815\\uc0c1\\ud68c\\ub2f4\", \"\\ub300\\ubd81\", \"\\uc815\\uc0c1\", \"\\ub300\\ud654\", \"\\uc704\\uc6d0\\uc7a5\", \"\\ud1b5\\uc77c\\ubd80\", \"\\ub3c4\\ubc1c\", \"\\ud3d0\\uae30\", \"\\ud611\\uc0c1\", \"\\ubbf8\\uc0ac\\uc77c\", \"\\ud2b8\\ub7fc\\ud504\", \"\\ud569\\uc758\", \"\\uc120\\uc5b8\", \"\\ud55c\\ubc18\\ub3c4\", \"\\ud3c9\\uc591\", \"\\ud3c9\\ud654\", \"\\uac00\\ub2a5\\uc131\", \"\\uc870\\uce58\", \"\\uc7a5\\uad00\", \"\\uc785\\uc7a5\", \"\\uccad\\uc640\\ub300\", \"\\ud1b5\\uc77c\", \"\\uc0c1\\ud669\", \"\\uad70\\uc0ac\", \"\\uac00\\ub2a5\", \"\\uc774\\ub0a0\", \"\\uc678\\uad50\", \"\\ubaa9\\uc0ac\", \"\\ud558\\ub098\\ub2d8\", \"\\uc0ac\\ub791\", \"\\uae30\\ub3c4\", \"\\uc120\\uad50\", \"\\uc120\\uad50\\uc0ac\", \"\\uc131\\uacbd\", \"\\uc2e0\\uc559\", \"\\ubcf5\\uc74c\", \"\\uc608\\ubc30\", \"\\uccad\\uc18c\\ub144\", \"\\uc608\\uc218\", \"\\uc544\\uc774\\ub4e4\", \"\\ubcc4\\uc138\", \"\\ud06c\\ub9ac\\uc2a4\\ucc9c\", \"\\ud788\\ub529\\ud06c\", \"\\ubc1c\\uc778\", \"\\ud55c\\uad6d\\uad50\\ud68c\", \"\\uc544\\uc774\", \"\\uc7a5\\ub85c\", \"\\uc608\\uc218\\ub2d8\", \"\\ubd80\\uce5c\\uc0c1\", \"\\uc124\\uad50\", \"\\uae30\\ub3c4\\ud68c\", \"\\uc8fc\\ub2d8\", \"\\uc601\\uc131\", \"\\ubaa8\\uce5c\\uc0c1\", \"\\ud5cc\\uc2e0\", \"\\uc5b4\\uba38\\ub2c8\", \"\\uc544\\ub0b4\", \"\\uad50\\ud68c\", \"\\uc0ac\\uc5ed\", \"\\ub9d0\\uc500\", \"\\ubaa9\\ud68c\\uc790\", \"\\uadf8\\ub9ac\\uc2a4\\ub3c4\", \"\\uae30\\ub3c5\\uad50\", \"\\ub9c8\\uc74c\", \"\\uac00\\uc815\", \"\\uc138\\uc0c1\", \"\\uc544\\ubc84\\uc9c0\", \"\\uae30\\ub3c5\", \"\\ucc3d\\uc870\", \"\\uacf5\\ubd80\", \"\\uc0ac\\ub78c\", \"\\ud559\\uad50\", \"\\uc0ac\\ub78c\\ub4e4\", \"\\uc0dd\\uac01\", \"\\ub300\\ud45c\", \"\\uc8fc\\uc81c\", \"\\uc2dc\\uc791\", \"\\ub300\\ud68c\", \"\\ud559\\uc0dd\\ub4e4\", \"\\uc0ac\\ud68c\", \"\\ucd1d\\uc7a5\", \"\\uc11c\\uc6b8\", \"\\uc790\\uc2e0\", \"\\uc138\\uacc4\", \"\\uc9c4\\ud589\", \"\\ubb38\\ud654\", \"\\ud559\\uc0dd\", \"\\ub3d9\\ub9f9\", \"\\ubc29\\uc704\\ube44\", \"\\uc624\\ubc14\\ub9c8\", \"\\uc0ac\\ub4dc\", \"\\uc9c0\\uc18c\\ubbf8\\uc544\", \"\\ub3d9\\ubd81\\uc544\", \"\\ubd84\\ub2f4\\uae08\", \"\\ubc14\\uc774\\ub4e0\", \"\\uc8fc\\ud55c\\ubbf8\\uad70\", \"\\uc774\\ub780\", \"\\uc544\\ubca0\", \"\\uc804\\uc791\", \"\\ub3d9\\uc544\\uc2dc\\uc544\", \"\\ud30c\\ubcd1\", \"\\uacf5\\ud654\\ub2f9\", \"\\uc8fc\\ub454\", \"\\uad6d\\ubc29\\uc7a5\\uad00\", \"\\ubd80\\uc2dc\", \"\\uc6b0\\ud06c\\ub77c\\uc774\\ub098\", \"\\ubbf8\\ub3d9\\ub9f9\", \"\\ub3d9\\ub9f9\\uad6d\", \"\\uad6d\\uc775\", \"\\uc720\\uc5d4\\uc0ac\", \"\\uc0ac\\ub839\\uad00\", \"\\ubd84\\ub2f4\", \"SMA\", \"\\ud55c\\uad6d\\uad70\", \"GSOMIA\", \"\\uc704\\uc548\\ubd80\", \"\\ub0c9\\uc804\", \"\\ubbf8\\uad70\", \"\\uc77c\\ubcf8\", \"\\uc8fc\\ud55c\", \"\\uae30\\uc9c0\", \"\\uad6d\\ubc29\\ubd80\", \"\\uc678\\uad50\", \"\\uc591\\uad6d\", \"\\uacac\\uc81c\", \"\\uc885\\ub8cc\", \"\\ubc30\\uce58\", \"\\uc548\\ubcf4\", \"\\uac08\\ub4f1\", \"\\ud589\\uc815\\ubd80\", \"\\ud0dc\\ud3c9\\uc591\", \"\\ucd1d\\ub9ac\", \"\\ud55c\\ubbf8\", \"\\uc804\\ub7b5\", \"\\ud611\\uc815\", \"\\ub7ec\\uc2dc\\uc544\", \"\\uc804\\ud658\", \"\\uc0c1\\ud669\", \"\\ud2b8\\ub7fc\\ud504\", \"\\ud55c\\ubc18\\ub3c4\", \"\\uc555\\ubc15\", \"\\uc815\\ucc45\", \"\\ud611\\ub825\", \"\\ud611\\uc0c1\", \"\\uad70\\uc0ac\", \"\\uc785\\uc7a5\", \"\\uac00\\ub2a5\\uc131\", \"\\uc694\\uad6c\", \"\\ud3c9\\ud654\", \"\\uacbd\\uc81c\", \"\\uad6d\\uac00\"], \"Freq\": [4120.0, 4762.0, 4493.0, 4063.0, 4124.0, 4977.0, 4450.0, 4500.0, 3289.0, 4106.0, 2477.0, 4514.0, 3500.0, 2358.0, 6318.0, 5468.0, 2647.0, 2344.0, 3631.0, 2855.0, 1801.0, 2014.0, 2913.0, 5369.0, 1820.0, 2276.0, 5585.0, 1806.0, 5659.0, 3239.0, 1955.335724115797, 1363.5928608953313, 981.1820528574042, 837.339471217856, 796.4086103522461, 715.7164104729112, 691.1578939535452, 609.2962683803398, 544.976412847249, 514.5706236215091, 511.0622984608906, 456.09804079479204, 371.897491715335, 362.54186980883895, 332.1361046226027, 332.1361046226027, 321.61103298273264, 311.08596134286256, 287.69691859637425, 279.5107464232523, 271.3245742501303, 266.6467753166341, 258.4606031435121, 252.61335447664186, 245.5966320368939, 242.08828283677178, 236.24101013039788, 229.22431173015357, 224.54648875715375, 219.86868982365755, 1999.7747659050037, 389.43926175544937, 756.6472232595138, 1624.3808005043427, 2233.6652895279008, 801.0864092857423, 594.0933978069736, 315.7637843158624, 2558.773036590996, 1785.7651041049978, 602.2795699800955, 885.2869343256957, 687.6495687929266, 856.0506669518408, 3902.473400543676, 1829.034864437356, 2835.9331282302223, 1988.080412808285, 1385.8124779479492, 962.4707609654048, 4122.330623524099, 2059.4169667416204, 1032.637937283877, 1181.1583178569213, 760.1555964991396, 1237.2920973749049, 3414.8118761070477, 3743.428044488776, 1823.1874955729675, 1516.7911365598864, 1829.034864437356, 1454.8101804935436, 2237.173710846534, 1673.49773738506, 1070.060424909861, 1217.4113317100278, 1705.0729523046703, 1405.6931474548117, 1430.2516158951703, 1307.4591775353624, 1192.8528632696691, 1222.0892268015384, 1224.4280781892794, 1508.5071041814642, 1287.2008061997142, 1130.2540665996426, 1044.4414204434536, 993.6313255970471, 758.7756624327409, 576.9883708216252, 431.3327196973257, 421.17067122222966, 400.8466480365744, 392.9428516800833, 388.4263966192313, 386.16816908880526, 345.52007354113687, 343.2618460107108, 341.00361848028484, 328.5833670629417, 325.1960257673027, 318.4213431760246, 315.0340018803856, 311.64666058474654, 308.2593192891075, 307.1302055238945, 306.00109175868147, 295.8390678717644, 294.7099541065514, 292.4517265761254, 284.5479302196343, 284.5479302196343, 283.4188164544213, 2462.608211198279, 1137.0287000145627, 1780.623398656905, 2223.235994620405, 686.5123814591082, 877.332583191928, 915.7225003855283, 487.78840795797623, 448.2694015873419, 881.8490382527801, 513.7579999696965, 460.689677592864, 1256.7148083034997, 1158.4818861417887, 1092.993336935792, 1781.7526845393706, 653.7681068561099, 667.317472038666, 825.3933991684875, 995.8895039511152, 632.3149207288836, 846.8464869429978, 1706.1019393292042, 681.9959263982562, 1798.689218900313, 610.8617837780155, 1665.4539421342515, 775.7123443227571, 1074.927516692384, 1107.6717912953823, 2532.613117112412, 887.4945824906662, 1480.279284639318, 899.9148584961882, 1778.3652203028369, 1646.2589343610937, 993.6313255970471, 1368.6618347886363, 1151.5815714144353, 1045.9435874884641, 590.8877315685621, 561.8662913763338, 488.73233992357154, 445.78060544554853, 399.3463535246728, 394.70290962305324, 388.89865151985873, 388.89865151985873, 327.37321627348547, 306.4778122638574, 299.51266512096004, 297.1909618796822, 286.74322245580424, 278.617223692268, 272.8129468795415, 268.16952168745394, 250.75667253974254, 248.43495058893276, 240.30895182539652, 228.7003794904116, 225.2178246284949, 225.2178246284949, 212.44840067287106, 208.9658271014224, 208.9658271014224, 204.32240190933481, 190.3921076235401, 639.6437241497796, 705.8125284596446, 655.8957216768521, 1684.4148226887191, 535.1665918444473, 1846.9347979594443, 1662.3585296393883, 506.1451890712829, 963.5227108133988, 682.5954212087387, 549.096886130242, 681.4345321690358, 417.9200542930231, 551.4185893715198, 797.5202180998211, 1733.1708152699366, 1492.873369806702, 1059.8738817742587, 1694.8625246935333, 789.3942193362849, 1696.023413733236, 957.7184901292683, 1066.8389914980924, 897.3539065035338, 1393.0397562411172, 1916.5861945502897, 919.4101995528648, 1444.1175269017403, 668.665126922944, 683.7562354103136, 1001.8310013898023, 751.0859287598814, 1035.49588548365, 1014.600481474022, 758.0511133218426, 973.9704876563408, 810.2896233459129, 818.4156221094491, 759.2119275234177, 755.7294100805649, 1820.5701693217206, 1367.1524409809679, 724.3321539408238, 676.1206387941588, 562.4792056760589, 562.4792056760589, 529.1902765312472, 501.64085753699845, 480.9787613845823, 475.23931504747867, 451.1335574741462, 369.6331131826697, 365.0415433502949, 362.74575843410753, 351.26683385317057, 337.4921243560462, 329.4568611960255, 323.7173829521922, 317.97793661508854, 306.49898012742193, 305.3511036226931, 277.80165272171473, 273.21008288933996, 273.21008288933996, 270.91429797315254, 231.88592249123724, 228.44222916359132, 219.25908949884175, 207.78014896454, 204.3364715902589, 1592.1394265807917, 944.727633521732, 1742.5135459848084, 1217.92619808168, 3959.0954938535824, 2240.69909614458, 3092.435970091425, 471.79562171983275, 399.4783489998354, 1773.5065944932437, 2329.0868632778893, 2931.7309621448485, 2368.1154302001823, 3176.2322312058186, 642.8317096493472, 1132.982188089476, 751.8815729350724, 2961.576261775473, 1657.569408365686, 2900.7377860094944, 1328.1240016855932, 971.1291760112518, 1877.9648879465942, 576.2539151731831, 1424.547031978923, 1464.7233477790264, 1037.7070343008752, 1465.8712242837553, 1258.1025138817834, 918.3260910322122, 996.3828419960428, 1263.8420240323462, 917.1782145274833, 1040.002787310333, 999.8265353236886, 1023.9323248037507, 4493.923141808684, 4124.156128016168, 2060.311849918056, 2023.6894836592842, 1708.2651031217686, 1572.4082274032476, 1571.226882771966, 1145.9355985121483, 1085.6859495197207, 962.8240597993092, 951.0104184324813, 867.1334867063979, 799.7957211627781, 704.1051968333702, 701.7424588073039, 691.1101620717575, 671.0269619954494, 639.1301205523134, 609.5960171352436, 546.9836788802531, 522.1750027518125, 522.1750027518125, 512.7240994110508, 506.8172787276369, 457.19997523425906, 415.85218168685805, 388.6808162958545, 369.7789852325796, 346.15167811717214, 342.6075954598244, 4760.911514720599, 849.413024656156, 1030.1618741064322, 654.4878933399923, 520.993658120531, 2584.837838691636, 1271.1602750221293, 826.9670865537817, 1163.6560605623902, 647.3996792617936, 692.2915554665423, 869.4962734959674, 1123.489660409774, 2321.393402146558, 2387.5498718223994, 1157.7492398789761, 1877.2004087322234, 2047.3169614469532, 1281.792571757676, 1544.0554686174594, 1084.5046048884392, 1431.8258756325943, 1722.4416288051725, 1636.2019102895197, 1644.471517762503, 1180.1951779813505, 1349.1302885377922, 1221.5429227652482, 1073.8723081528929, 1131.759170355751, 1806.2134492382252, 1076.2940573517733, 989.1221973674151, 936.8190005952956, 877.5421384986488, 858.9454956794813, 840.3487855423933, 625.3247789782771, 514.9069976635988, 496.3103548444312, 481.2005446875274, 453.3055467998159, 403.3269724537926, 397.51551736543274, 392.86633983116076, 324.29112266596997, 299.8829910994824, 298.7206798864343, 298.7206798864343, 297.5584023323464, 292.90922479807443, 291.74691358502633, 288.26004726380245, 281.2862977918746, 275.47482587403465, 275.47482587403465, 271.98795955281076, 262.6896213137469, 241.7683560684832, 239.4437841308273, 1831.7838920177608, 3705.3986012079054, 1091.4039011676373, 513.7447201095108, 885.6781823541447, 3426.44848769495, 1116.9742766292527, 560.23639447535, 526.5299414992786, 939.1436230213918, 2143.2781809526996, 1191.3610498596838, 1084.4301012072692, 374.2696633530331, 624.1624677652289, 1192.5232264368913, 1830.6215808047127, 626.4870228734048, 937.9813118083438, 879.8666936068246, 1981.7196150558307, 2077.027518895685, 1609.7860854932765, 1015.8548840420784, 1495.8814715163344, 1413.3587217483275, 1538.8863132199099, 985.6352637282708, 1184.3871825813953, 1183.2250060041881, 1121.6234541635247, 1032.1269717530702, 1018.1795064681746, 1042.5876380346622], \"Total\": [4120.0, 4762.0, 4493.0, 4063.0, 4124.0, 4977.0, 4450.0, 4500.0, 3289.0, 4106.0, 2477.0, 4514.0, 3500.0, 2358.0, 6318.0, 5468.0, 2647.0, 2344.0, 3631.0, 2855.0, 1801.0, 2014.0, 2913.0, 5369.0, 1820.0, 2276.0, 5585.0, 1806.0, 5659.0, 3239.0, 1955.3935393198178, 1363.6506760993523, 981.239868061425, 837.3972864218769, 796.4664255562669, 715.774225676932, 691.215709157566, 609.3540835843606, 545.0342280512698, 514.6284388255299, 511.12011366491157, 456.155855998813, 371.95530691935596, 362.59968501285994, 332.1939198266237, 332.1939198266237, 321.6688481867536, 311.14377654688354, 287.75473380039523, 279.56856162727325, 271.3823894541513, 266.7045905206551, 258.5184183475331, 252.67116968066287, 245.65444724091492, 242.1460980407928, 236.2988253344189, 229.28212693417458, 224.60430396117476, 219.92650502767856, 2014.9423785832143, 390.65793373482285, 764.8310361696352, 1661.6993647985862, 2300.340805570638, 813.5644745872024, 601.1249655778456, 316.9838916076818, 2718.013196630634, 1886.2389250977305, 617.0158620436011, 921.9670571935616, 710.953225326633, 895.9066977633759, 4514.478157262061, 2022.2884562896054, 3239.320746111699, 2342.0365587148876, 1576.0619203163862, 1061.7632129451042, 5585.436020640578, 2569.5492948741326, 1160.2124472115042, 1385.5642274947036, 817.3183003867383, 1487.9032260379556, 5369.134545274949, 6318.497400704387, 2721.4599051586943, 2114.171882256626, 2860.632366695186, 2266.1317840220495, 5659.502048048844, 3385.354921358409, 1416.4121946416378, 1858.6885386018378, 3817.1251250798305, 2581.5025483218615, 4332.142127546155, 3278.4445038901936, 2586.1573542949995, 3242.1615064384423, 3800.827321173793, 1508.565322770383, 1287.259024788633, 1130.3122851885614, 1044.4996390323724, 993.6895441859657, 758.8338810216595, 577.0465894105438, 431.39093828624453, 421.2288898111485, 400.90486662549324, 393.0010702690022, 388.48461520815016, 386.2263876777241, 345.57829213005573, 343.3200645996297, 341.0618370692037, 328.64158565186057, 325.25424435622153, 318.47956176494347, 315.09222046930444, 311.7048791736654, 308.31753787802637, 307.1884241128134, 306.05931034760033, 295.8972864606833, 294.76817269547024, 292.50994516504426, 284.60614880855314, 284.60614880855314, 283.47703504334015, 2477.7762272613877, 1141.6784919373395, 1801.7317552133677, 2358.8176102694524, 703.1097061117042, 909.2876486311541, 953.0656614488437, 495.9726242529956, 456.4536178823613, 936.7253864381405, 527.8496446036941, 471.22125275201455, 1373.5969917513428, 1262.5144223375369, 1189.4199600429151, 2014.5232765797045, 688.8325310118568, 704.9742821009439, 891.8181452730485, 1099.6327015229328, 666.2635754728587, 930.4863971051396, 2047.542635676504, 732.3904576096764, 2276.7776076323453, 648.2737083482075, 2257.472251582496, 886.4301493283186, 1362.5179222114664, 1443.620810440207, 5468.550244038054, 1130.3083995932795, 2653.7586344097895, 1202.293245567818, 6318.497400704387, 5659.502048048844, 4332.142127546155, 1368.7197359454917, 1151.6394725712908, 1046.0014886453196, 590.9456327254173, 561.9241925331891, 488.79024108042694, 445.8385066024039, 399.4042546815282, 394.76081077990864, 388.9565526767141, 388.9565526767141, 327.43111743034086, 306.5357134207128, 299.57056627781543, 297.2488630365376, 286.80112361265964, 278.6751248491234, 272.8708480363969, 268.22742284430933, 250.81457369659793, 248.49285174578816, 240.3668529822519, 228.758280647267, 225.2757257853503, 225.2757257853503, 212.50630182972645, 209.0237282582778, 209.0237282582778, 204.3803030661902, 190.4500087803955, 640.8639173944333, 717.2660685242181, 669.9011280280139, 1757.7173337660934, 546.515629333529, 2011.5054115801854, 1836.1334032573507, 528.2866392779407, 1073.5091159803792, 741.367226847819, 587.4528303659024, 752.3922455086687, 438.8992122197979, 601.0938055243622, 925.0484053266675, 2265.8263140101267, 1928.493791518583, 1391.0081373503606, 2577.1312606439747, 1004.8198227900807, 2801.392784580313, 1306.3656593510814, 1664.666965113553, 1406.4829991242586, 2933.2327626077226, 5068.668274482598, 1648.2589027181943, 5010.148104520696, 926.5318733697045, 989.9536834140006, 2567.8611582937037, 1326.7449615093524, 3661.872751271272, 3508.6929873530366, 1374.238777294355, 4035.4144471653517, 2163.3975775646873, 3242.1615064384423, 3224.075487241589, 4106.578067004065, 1820.6282001137427, 1367.2104717729899, 724.3901847328458, 676.1786695861808, 562.5372364680809, 562.5372364680809, 529.2483073232692, 501.6988883290206, 481.0367921766044, 475.2973458395008, 451.1915882661683, 369.69114397469184, 365.099574142317, 362.80378922612965, 351.3248646451927, 337.5501551480683, 329.5148919880476, 323.77541374421435, 318.03596740711066, 306.55701091944405, 305.4091344147152, 277.85968351373685, 273.2681136813621, 273.2681136813621, 270.97232876517467, 231.94395328325933, 228.50025995561342, 219.31712029086384, 207.83817975656208, 204.394502382281, 1609.9179278779459, 950.6329253224385, 1764.655125826633, 1235.418609855815, 4120.712113622405, 2344.146574581484, 3289.188372402052, 483.6673000477838, 406.5015206152633, 1964.1805233628254, 2647.612938727229, 3500.215713783607, 2855.0111271029746, 4106.578067004065, 692.8065806624255, 1312.0331899528578, 851.8263876166081, 4500.5089828671125, 2281.778284002645, 4977.811712776909, 2051.104442893844, 1351.3625862383078, 3631.923876005714, 643.64973520231, 2792.1049548471146, 3050.6283124210627, 1704.6518964006937, 3224.075487241589, 2981.5091955073567, 1694.4909455040943, 2163.78577023767, 4576.151164133198, 1902.8598861274836, 3581.2660278902235, 3143.626380172616, 4450.42722037043, 4493.980837886599, 4124.213824094083, 2060.3695459959717, 2023.7471797371998, 1708.3227991996841, 1572.4659234811631, 1571.2845788498817, 1145.993294590064, 1085.7436455976363, 962.8817558772249, 951.068114510397, 867.1911827843136, 799.8534172406938, 704.1628929112859, 701.8001548852196, 691.1678581496732, 671.0846580733651, 639.1878166302291, 609.6537132131593, 547.0413749581688, 522.2326988297282, 522.2326988297282, 512.7817954889665, 506.87497480555265, 457.2576713121748, 415.9098777647738, 388.7385123737703, 369.83668131049535, 346.2093741950879, 342.66529153774013, 4762.130067573868, 850.6315775094242, 1047.4379705280894, 663.5784989880889, 526.6969224729886, 2938.956879425983, 1396.1855718534325, 879.2484019420027, 1301.094547505856, 668.2764059504547, 723.6923839810895, 960.7712357808919, 1327.2755404811758, 3508.6929873530366, 4419.481579022827, 1705.5713349721484, 4035.4144471653517, 5010.148104520696, 2185.4420668961907, 3440.3965639213957, 1750.8962673242956, 3278.4445038901936, 5068.668274482598, 5369.134545274949, 5468.550244038054, 2383.458848108349, 3817.1251250798305, 3800.827321173793, 1826.2698705144346, 5659.502048048844, 1806.2713360427929, 1076.351944156341, 989.1800841719827, 936.8768873998632, 877.6000253032164, 859.0033824840489, 840.4066723469609, 625.3826657828447, 514.9648844681664, 496.36824164899883, 481.25843149209504, 453.36343360438354, 403.3848592583603, 397.5734041700004, 392.9242266357284, 324.3490094705376, 299.94087790405007, 298.77856669100197, 298.77856669100197, 297.6162891369141, 292.9671116026421, 291.804800389594, 288.3179340683701, 281.34418459644223, 275.5327126786023, 275.5327126786023, 272.0458463573784, 262.74750811831456, 241.82624287305083, 239.50167093539494, 1872.018042287138, 4063.5380295536625, 1154.729801713914, 539.2718482119724, 992.9252787317145, 4450.42722037043, 1297.2513985179087, 603.2459790354596, 566.220271192688, 1106.0640409987916, 2913.5724410890007, 1505.678683899662, 1390.3720655246966, 391.86933291514663, 742.7416573011192, 1687.3231370970573, 3384.6520259475687, 753.4814947496998, 1368.3691913841456, 1259.6273325652694, 4576.151164133198, 4977.811712776909, 3631.923876005714, 1692.2033991035437, 3533.016934651002, 3385.354921358409, 4500.5089828671125, 1902.8598861274836, 2981.5091955073567, 3050.6283124210627, 2757.0902093372965, 2792.1049548471146, 2777.2555987566975, 3661.872751271272], \"Category\": [\"Default\", \"Default\", \"Default\", \"Default\", \"Default\", \"Default\", \"Default\", \"Default\", \"Default\", \"Default\", \"Default\", \"Default\", \"Default\", \"Default\", \"Default\", \"Default\", \"Default\", \"Default\", \"Default\", \"Default\", \"Default\", \"Default\", \"Default\", \"Default\", \"Default\", \"Default\", \"Default\", \"Default\", \"Default\", \"Default\", \"Topic0\", \"Topic0\", \"Topic0\", \"Topic0\", \"Topic0\", \"Topic0\", \"Topic0\", \"Topic0\", \"Topic0\", \"Topic0\", \"Topic0\", \"Topic0\", \"Topic0\", \"Topic0\", \"Topic0\", \"Topic0\", \"Topic0\", \"Topic0\", \"Topic0\", \"Topic0\", \"Topic0\", \"Topic0\", \"Topic0\", \"Topic0\", \"Topic0\", \"Topic0\", \"Topic0\", \"Topic0\", \"Topic0\", \"Topic0\", \"Topic0\", \"Topic0\", \"Topic0\", \"Topic0\", \"Topic0\", \"Topic0\", \"Topic0\", \"Topic0\", \"Topic0\", \"Topic0\", \"Topic0\", \"Topic0\", \"Topic0\", \"Topic0\", \"Topic0\", \"Topic0\", \"Topic0\", \"Topic0\", \"Topic0\", \"Topic0\", \"Topic0\", \"Topic0\", \"Topic0\", \"Topic0\", \"Topic0\", \"Topic0\", \"Topic0\", \"Topic0\", \"Topic0\", \"Topic0\", \"Topic0\", \"Topic0\", \"Topic0\", \"Topic0\", \"Topic0\", \"Topic0\", \"Topic0\", \"Topic0\", \"Topic0\", \"Topic0\", \"Topic0\", \"Topic0\", \"Topic0\", \"Topic1\", \"Topic1\", \"Topic1\", \"Topic1\", \"Topic1\", \"Topic1\", \"Topic1\", \"Topic1\", \"Topic1\", \"Topic1\", \"Topic1\", \"Topic1\", \"Topic1\", \"Topic1\", \"Topic1\", \"Topic1\", \"Topic1\", \"Topic1\", \"Topic1\", \"Topic1\", \"Topic1\", \"Topic1\", \"Topic1\", \"Topic1\", \"Topic1\", \"Topic1\", \"Topic1\", \"Topic1\", \"Topic1\", \"Topic1\", \"Topic1\", \"Topic1\", \"Topic1\", \"Topic1\", \"Topic1\", \"Topic1\", \"Topic1\", \"Topic1\", \"Topic1\", \"Topic1\", \"Topic1\", \"Topic1\", \"Topic1\", \"Topic1\", \"Topic1\", \"Topic1\", \"Topic1\", \"Topic1\", \"Topic1\", \"Topic1\", \"Topic1\", \"Topic1\", \"Topic1\", \"Topic1\", \"Topic1\", \"Topic1\", \"Topic1\", \"Topic1\", \"Topic1\", \"Topic1\", \"Topic1\", \"Topic1\", \"Topic1\", \"Topic1\", \"Topic1\", \"Topic1\", \"Topic1\", \"Topic2\", \"Topic2\", \"Topic2\", \"Topic2\", \"Topic2\", \"Topic2\", \"Topic2\", \"Topic2\", \"Topic2\", \"Topic2\", \"Topic2\", \"Topic2\", \"Topic2\", \"Topic2\", \"Topic2\", \"Topic2\", \"Topic2\", \"Topic2\", \"Topic2\", \"Topic2\", \"Topic2\", \"Topic2\", \"Topic2\", \"Topic2\", \"Topic2\", \"Topic2\", \"Topic2\", \"Topic2\", \"Topic2\", \"Topic2\", \"Topic2\", \"Topic2\", \"Topic2\", \"Topic2\", \"Topic2\", \"Topic2\", \"Topic2\", \"Topic2\", \"Topic2\", \"Topic2\", \"Topic2\", \"Topic2\", \"Topic2\", \"Topic2\", \"Topic2\", \"Topic2\", \"Topic2\", \"Topic2\", \"Topic2\", \"Topic2\", \"Topic2\", \"Topic2\", \"Topic2\", \"Topic2\", \"Topic2\", \"Topic2\", \"Topic2\", \"Topic2\", \"Topic2\", \"Topic2\", \"Topic2\", \"Topic2\", \"Topic2\", \"Topic2\", \"Topic2\", \"Topic2\", \"Topic2\", \"Topic2\", \"Topic2\", \"Topic2\", \"Topic3\", \"Topic3\", \"Topic3\", \"Topic3\", \"Topic3\", \"Topic3\", \"Topic3\", \"Topic3\", \"Topic3\", \"Topic3\", \"Topic3\", \"Topic3\", \"Topic3\", \"Topic3\", \"Topic3\", \"Topic3\", \"Topic3\", \"Topic3\", \"Topic3\", \"Topic3\", \"Topic3\", \"Topic3\", \"Topic3\", \"Topic3\", \"Topic3\", \"Topic3\", \"Topic3\", \"Topic3\", \"Topic3\", \"Topic3\", \"Topic3\", \"Topic3\", \"Topic3\", \"Topic3\", \"Topic3\", \"Topic3\", \"Topic3\", \"Topic3\", \"Topic3\", \"Topic3\", \"Topic3\", \"Topic3\", \"Topic3\", \"Topic3\", \"Topic3\", \"Topic3\", \"Topic3\", \"Topic3\", \"Topic3\", \"Topic3\", \"Topic3\", \"Topic3\", \"Topic3\", \"Topic3\", \"Topic3\", \"Topic3\", \"Topic3\", \"Topic3\", \"Topic3\", \"Topic3\", \"Topic3\", \"Topic3\", \"Topic3\", \"Topic3\", \"Topic3\", \"Topic3\", \"Topic4\", \"Topic4\", \"Topic4\", \"Topic4\", \"Topic4\", \"Topic4\", \"Topic4\", \"Topic4\", \"Topic4\", \"Topic4\", \"Topic4\", \"Topic4\", \"Topic4\", \"Topic4\", \"Topic4\", \"Topic4\", \"Topic4\", \"Topic4\", \"Topic4\", \"Topic4\", \"Topic4\", \"Topic4\", \"Topic4\", \"Topic4\", \"Topic4\", \"Topic4\", \"Topic4\", \"Topic4\", \"Topic4\", \"Topic4\", \"Topic4\", \"Topic4\", \"Topic4\", \"Topic4\", \"Topic4\", \"Topic4\", \"Topic4\", \"Topic4\", \"Topic4\", \"Topic4\", \"Topic4\", \"Topic4\", \"Topic4\", \"Topic4\", \"Topic4\", \"Topic4\", \"Topic4\", \"Topic4\", \"Topic4\", \"Topic4\", \"Topic4\", \"Topic4\", \"Topic4\", \"Topic4\", \"Topic4\", \"Topic4\", \"Topic4\", \"Topic4\", \"Topic4\", \"Topic4\", \"Topic5\", \"Topic5\", \"Topic5\", \"Topic5\", \"Topic5\", \"Topic5\", \"Topic5\", \"Topic5\", \"Topic5\", \"Topic5\", \"Topic5\", \"Topic5\", \"Topic5\", \"Topic5\", \"Topic5\", \"Topic5\", \"Topic5\", \"Topic5\", \"Topic5\", \"Topic5\", \"Topic5\", \"Topic5\", \"Topic5\", \"Topic5\", \"Topic5\", \"Topic5\", \"Topic5\", \"Topic5\", \"Topic5\", \"Topic5\", \"Topic5\", \"Topic5\", \"Topic5\", \"Topic5\", \"Topic5\", \"Topic5\", \"Topic5\", \"Topic5\", \"Topic5\", \"Topic5\", \"Topic5\", \"Topic5\", \"Topic5\", \"Topic5\", \"Topic5\", \"Topic5\", \"Topic5\", \"Topic5\", \"Topic5\", \"Topic5\", \"Topic5\", \"Topic5\", \"Topic5\", \"Topic5\", \"Topic5\", \"Topic5\", \"Topic5\", \"Topic5\", \"Topic5\", \"Topic5\", \"Topic5\", \"Topic5\", \"Topic5\", \"Topic5\"], \"logprob\": [30.0, 29.0, 28.0, 27.0, 26.0, 25.0, 24.0, 23.0, 22.0, 21.0, 20.0, 19.0, 18.0, 17.0, 16.0, 15.0, 14.0, 13.0, 12.0, 11.0, 10.0, 9.0, 8.0, 7.0, 6.0, 5.0, 4.0, 3.0, 2.0, 1.0, -5.3529, -5.7133, -6.0424, -6.201, -6.2511, -6.3579, -6.3928, -6.5189, -6.6304, -6.6879, -6.6947, -6.8085, -7.0126, -7.0381, -7.1256, -7.1256, -7.1578, -7.1911, -7.2693, -7.2982, -7.3279, -7.3453, -7.3764, -7.3993, -7.4275, -7.4419, -7.4663, -7.4965, -7.5171, -7.5382, -5.3304, -6.9665, -6.3023, -5.5383, -5.2198, -6.2452, -6.5442, -7.1762, -5.0839, -5.4436, -6.5305, -6.1453, -6.3979, -6.1789, -4.6618, -5.4196, -4.9811, -5.3363, -5.6972, -6.0617, -4.607, -5.301, -5.9913, -5.8569, -6.2977, -5.8105, -4.7953, -4.7034, -5.4229, -5.6068, -5.4196, -5.6486, -5.2182, -5.5085, -5.9557, -5.8267, -5.4898, -5.6829, -5.6656, -5.7554, -5.8471, -5.8229, -5.821, -4.9417, -5.1004, -5.2304, -5.3094, -5.3592, -5.6289, -5.9028, -6.1937, -6.2176, -6.267, -6.2869, -6.2985, -6.3043, -6.4156, -6.4221, -6.4287, -6.4658, -6.4762, -6.4972, -6.5079, -6.5187, -6.5297, -6.5333, -6.537, -6.5708, -6.5746, -6.5823, -6.6097, -6.6097, -6.6137, -4.4516, -5.2244, -4.7759, -4.5539, -5.729, -5.4837, -5.4409, -6.0707, -6.1552, -5.4786, -6.0189, -6.1279, -5.1244, -5.2057, -5.2639, -4.7753, -5.7779, -5.7573, -5.5448, -5.357, -5.8112, -5.5191, -4.8186, -5.7356, -4.7658, -5.8457, -4.8428, -5.6068, -5.2806, -5.2506, -4.4236, -5.4722, -4.9606, -5.4583, -4.7772, -4.8544, -5.3592, -5.4589, -5.6316, -5.7279, -6.2989, -6.3493, -6.4887, -6.5807, -6.6907, -6.7024, -6.7172, -6.7172, -6.8894, -6.9554, -6.9784, -6.9862, -7.0219, -7.0507, -7.0717, -7.0889, -7.156, -7.1653, -7.1986, -7.2481, -7.2635, -7.2635, -7.3218, -7.3384, -7.3384, -7.3608, -7.4314, -6.2196, -6.1212, -6.1945, -5.2514, -6.3979, -5.1592, -5.2645, -6.4537, -5.8099, -6.1546, -6.3723, -6.1563, -6.6452, -6.368, -5.999, -5.2228, -5.3721, -5.7146, -5.2452, -6.0093, -5.2445, -5.816, -5.7081, -5.8811, -5.4413, -5.1222, -5.8568, -5.4053, -6.1752, -6.1529, -5.7709, -6.059, -5.7379, -5.7583, -6.0498, -5.7991, -5.9831, -5.9732, -6.0482, -6.0528, -5.0143, -5.3007, -5.9359, -6.0048, -6.1888, -6.1888, -6.2498, -6.3033, -6.3453, -6.3573, -6.4094, -6.6087, -6.6212, -6.6275, -6.6596, -6.6996, -6.7237, -6.7413, -6.7592, -6.7959, -6.7997, -6.8943, -6.9109, -6.9109, -6.9194, -7.0749, -7.0899, -7.1309, -7.1847, -7.2014, -5.1483, -5.6703, -5.0581, -5.4163, -4.2374, -4.8066, -4.4844, -6.3646, -6.531, -5.0404, -4.7679, -4.5378, -4.7513, -4.4577, -6.0553, -5.4886, -5.8986, -4.5277, -5.1081, -4.5484, -5.3296, -5.6427, -4.9832, -6.1646, -5.2596, -5.2317, -5.5764, -5.231, -5.3838, -5.6986, -5.617, -5.3793, -5.6999, -5.5742, -5.6136, -5.5898, -4.5348, -4.6207, -5.3147, -5.3327, -5.5021, -5.585, -5.5857, -5.9014, -5.9554, -6.0755, -6.0878, -6.1801, -6.261, -6.3884, -6.3918, -6.407, -6.4365, -6.4852, -6.5325, -6.6409, -6.6873, -6.6873, -6.7056, -6.7172, -6.8202, -6.915, -6.9826, -7.0324, -7.0985, -7.1087, -4.4771, -6.2008, -6.0079, -6.4615, -6.6896, -5.0879, -5.7976, -6.2276, -5.886, -6.4724, -6.4053, -6.1774, -5.9211, -5.1954, -5.1673, -5.8911, -5.4078, -5.321, -5.7893, -5.6032, -5.9564, -5.6786, -5.4938, -5.5452, -5.5402, -5.8719, -5.7381, -5.8375, -5.9663, -5.9138, -5.0756, -5.5933, -5.6778, -5.7321, -5.7975, -5.8189, -5.8408, -6.1364, -6.3306, -6.3674, -6.3983, -6.4581, -6.5749, -6.5894, -6.6012, -6.793, -6.8712, -6.8751, -6.8751, -6.879, -6.8948, -6.8987, -6.9108, -6.9353, -6.9561, -6.9561, -6.9689, -7.0037, -7.0866, -7.0963, -5.0616, -4.3571, -5.5794, -6.3329, -5.7883, -4.4353, -5.5562, -6.2463, -6.3083, -5.7297, -4.9045, -5.4918, -5.5858, -6.6496, -6.1382, -5.4908, -5.0622, -6.1345, -5.7309, -5.7949, -4.9829, -4.9359, -5.1908, -5.6511, -5.2642, -5.3209, -5.2358, -5.6813, -5.4976, -5.4986, -5.5521, -5.6352, -5.6489, -5.6252], \"loglift\": [30.0, 29.0, 28.0, 27.0, 26.0, 25.0, 24.0, 23.0, 22.0, 21.0, 20.0, 19.0, 18.0, 17.0, 16.0, 15.0, 14.0, 13.0, 12.0, 11.0, 10.0, 9.0, 8.0, 7.0, 6.0, 5.0, 4.0, 3.0, 2.0, 1.0, 1.5406, 1.5406, 1.5406, 1.5406, 1.5406, 1.5406, 1.5406, 1.5406, 1.5405, 1.5405, 1.5405, 1.5405, 1.5405, 1.5405, 1.5405, 1.5405, 1.5405, 1.5405, 1.5405, 1.5404, 1.5404, 1.5404, 1.5404, 1.5404, 1.5404, 1.5404, 1.5404, 1.5404, 1.5404, 1.5404, 1.5331, 1.5375, 1.5299, 1.5179, 1.5112, 1.5252, 1.5289, 1.5368, 1.4803, 1.4859, 1.5165, 1.5001, 1.5073, 1.4951, 1.395, 1.4402, 1.4077, 1.3768, 1.412, 1.4425, 1.2369, 1.3193, 1.4242, 1.381, 1.4681, 1.3562, 1.0881, 1.0172, 1.1401, 1.2086, 1.0934, 1.0975, 0.6125, 0.8361, 1.2602, 1.1175, 0.7348, 0.9328, 0.4324, 0.6214, 0.7668, 0.565, 0.4079, 2.2112, 2.2112, 2.2112, 2.2112, 2.2112, 2.2112, 2.2111, 2.2111, 2.2111, 2.2111, 2.2111, 2.2111, 2.2111, 2.2111, 2.2111, 2.2111, 2.2111, 2.2111, 2.2111, 2.211, 2.211, 2.211, 2.211, 2.211, 2.211, 2.211, 2.211, 2.211, 2.211, 2.211, 2.2051, 2.2072, 2.1994, 2.152, 2.1873, 2.1755, 2.1713, 2.1946, 2.1931, 2.1509, 2.1842, 2.1886, 2.1223, 2.1252, 2.1267, 2.0884, 2.159, 2.1563, 2.1338, 2.1121, 2.1589, 2.117, 2.0288, 2.1399, 1.9755, 2.1518, 1.9071, 2.0778, 1.9742, 1.9463, 1.4415, 1.9694, 1.6275, 1.9215, 0.9434, 0.9764, 0.7388, 1.7913, 1.7913, 1.7913, 1.7912, 1.7912, 1.7912, 1.7912, 1.7912, 1.7912, 1.7912, 1.7912, 1.7911, 1.7911, 1.7911, 1.7911, 1.7911, 1.7911, 1.7911, 1.7911, 1.7911, 1.7911, 1.7911, 1.7911, 1.7911, 1.7911, 1.791, 1.791, 1.791, 1.791, 1.791, 1.7894, 1.7752, 1.7702, 1.7487, 1.7703, 1.706, 1.6919, 1.7485, 1.6832, 1.7087, 1.7238, 1.6923, 1.7423, 1.7051, 1.643, 1.5233, 1.5353, 1.5194, 1.3722, 1.55, 1.2895, 1.4809, 1.3464, 1.3419, 1.0467, 0.8188, 1.2076, 0.5474, 1.4652, 1.4213, 0.8501, 1.2224, 0.5282, 0.5506, 1.1964, 0.3698, 0.8093, 0.4147, 0.3452, 0.0987, 1.9507, 1.9506, 1.9506, 1.9506, 1.9506, 1.9506, 1.9506, 1.9506, 1.9506, 1.9506, 1.9506, 1.9505, 1.9505, 1.9505, 1.9505, 1.9505, 1.9505, 1.9505, 1.9505, 1.9505, 1.9505, 1.9505, 1.9505, 1.9505, 1.9505, 1.9504, 1.9504, 1.9504, 1.9504, 1.9504, 1.9396, 1.9445, 1.9381, 1.9364, 1.9107, 1.9055, 1.889, 1.9258, 1.9333, 1.8486, 1.8225, 1.7735, 1.7637, 1.6938, 1.8758, 1.804, 1.8259, 1.5322, 1.6311, 1.4107, 1.5161, 1.6203, 1.2911, 1.8401, 1.2777, 1.217, 1.4543, 1.1625, 1.0879, 1.3381, 1.1752, 0.664, 1.2209, 0.7142, 0.8051, 0.4813, 1.5265, 1.5265, 1.5265, 1.5265, 1.5265, 1.5265, 1.5265, 1.5265, 1.5265, 1.5265, 1.5265, 1.5265, 1.5264, 1.5264, 1.5264, 1.5264, 1.5264, 1.5264, 1.5264, 1.5264, 1.5264, 1.5264, 1.5264, 1.5264, 1.5264, 1.5264, 1.5264, 1.5264, 1.5264, 1.5263, 1.5263, 1.5251, 1.5099, 1.5127, 1.5156, 1.3981, 1.4327, 1.4652, 1.4149, 1.4948, 1.4822, 1.4267, 1.3598, 1.1134, 0.9108, 1.1391, 0.7612, 0.6316, 0.993, 0.7253, 1.0475, 0.6981, 0.4472, 0.3382, 0.3249, 0.8236, 0.4865, 0.3914, 0.9955, -0.083, 1.8972, 1.8972, 1.8972, 1.8972, 1.8972, 1.8972, 1.8972, 1.8971, 1.8971, 1.8971, 1.8971, 1.8971, 1.8971, 1.8971, 1.8971, 1.897, 1.897, 1.897, 1.897, 1.897, 1.897, 1.897, 1.897, 1.897, 1.897, 1.897, 1.897, 1.897, 1.897, 1.897, 1.8755, 1.805, 1.8408, 1.8487, 1.7829, 1.6357, 1.7476, 1.8233, 1.8245, 1.7336, 1.5902, 1.6631, 1.6487, 1.8513, 1.7233, 1.5501, 1.2826, 1.7126, 1.5196, 1.5384, 1.0603, 1.0232, 1.0836, 1.3869, 1.0378, 1.0237, 0.8241, 1.2394, 0.974, 0.9501, 0.9978, 0.902, 0.8938, 0.641]}, \"token.table\": {\"Topic\": [0, 2, 0, 5, 3, 3, 5, 1, 0, 1, 2, 3, 4, 5, 0, 1, 2, 3, 5, 0, 1, 2, 4, 5, 2, 4, 5, 0, 1, 2, 0, 2, 0, 1, 2, 0, 3, 4, 1, 1, 2, 4, 2, 2, 5, 3, 0, 1, 2, 3, 4, 5, 0, 1, 4, 0, 1, 0, 0, 2, 3, 5, 1, 2, 4, 5, 0, 1, 2, 3, 4, 5, 0, 1, 2, 3, 4, 5, 0, 1, 2, 4, 5, 2, 4, 3, 2, 4, 0, 1, 2, 3, 4, 5, 3, 5, 3, 0, 1, 2, 3, 4, 5, 3, 4, 5, 5, 5, 0, 2, 3, 5, 3, 5, 2, 3, 5, 2, 5, 1, 4, 0, 1, 4, 5, 0, 1, 0, 3, 0, 2, 3, 4, 5, 4, 4, 2, 4, 2, 4, 2, 0, 2, 5, 0, 3, 5, 3, 3, 3, 4, 5, 3, 3, 5, 3, 2, 2, 3, 5, 1, 3, 1, 2, 4, 0, 3, 3, 3, 5, 0, 1, 2, 3, 4, 5, 1, 0, 1, 2, 3, 4, 5, 2, 3, 4, 5, 0, 1, 3, 4, 1, 3, 5, 0, 4, 0, 1, 2, 3, 1, 5, 5, 5, 1, 2, 2, 1, 5, 1, 0, 0, 3, 4, 5, 0, 0, 1, 2, 2, 3, 4, 5, 3, 4, 1, 0, 1, 4, 4, 4, 1, 1, 4, 0, 2, 3, 4, 3, 5, 5, 0, 2, 3, 4, 5, 3, 5, 5, 0, 2, 3, 4, 5, 0, 1, 2, 3, 5, 3, 3, 4, 0, 2, 3, 4, 5, 3, 4, 3, 5, 0, 2, 3, 5, 0, 2, 0, 2, 2, 2, 2, 2, 4, 4, 4, 0, 3, 5, 4, 3, 4, 3, 5, 5, 0, 1, 2, 3, 4, 5, 3, 2, 3, 5, 3, 5, 2, 3, 4, 5, 5, 0, 2, 3, 4, 2, 3, 4, 5, 4, 5, 1, 2, 1, 2, 3, 4, 5, 0, 3, 4, 2, 4, 1, 0, 1, 2, 3, 4, 5, 0, 5, 0, 1, 1, 0, 1, 2, 3, 4, 5, 0, 1, 2, 3, 4, 5, 1, 2, 0, 1, 2, 3, 4, 5, 0, 1, 2, 3, 4, 5, 2, 3, 5, 2, 4, 4, 1, 0, 1, 2, 2, 3, 4, 5, 0, 1, 4, 4, 0, 1, 2, 4, 2, 1, 2, 4, 0, 2, 3, 4, 5, 0, 2, 4, 5, 0, 1, 2, 3, 4, 5, 2, 0, 1, 2, 5, 1, 3, 1, 1, 4, 0, 1, 4, 5, 1, 0, 0, 0, 1, 2, 3, 4, 5, 0, 2, 5, 1, 4, 3, 4, 2, 3, 4, 5, 5, 4, 4, 3, 5, 2, 3, 5, 3, 5, 0, 2, 4, 4, 0, 1, 2, 3, 4, 5, 3, 4, 4, 4, 4, 5, 3, 5, 3, 0, 1, 2, 3, 5, 1, 1, 5, 0, 2, 3, 4, 1, 2, 5, 0, 2, 3, 4, 0, 2, 3, 5, 2, 0, 5, 0, 0, 2, 0, 0, 2, 3, 4, 5, 0, 0, 2, 3, 4, 5, 5, 2, 0, 1, 2, 3, 4, 5, 0, 2, 3, 5, 2, 0, 5, 0, 1, 0, 5, 0, 1, 2, 0, 2, 4, 5, 2, 1, 4, 1, 2, 3, 5, 0, 1, 4, 1, 2, 3, 4, 5, 0, 2, 3, 4, 5, 0, 2, 3, 5, 4, 0, 3, 2, 0, 1, 2, 0, 1, 3, 4, 5, 5, 0, 1, 5, 0, 1, 2, 3, 4, 5, 0, 1, 2, 2, 0, 1, 2, 3, 5, 3, 5, 1, 1, 0, 1, 2, 0, 2, 3, 5, 2, 3, 5, 2, 3, 5, 1, 0, 1, 2, 3, 5, 1, 0, 1, 2, 3, 5, 0, 2, 5, 3, 4, 5, 0, 2, 3, 5, 0, 1, 2, 3, 4, 5, 3, 4, 5, 5, 0, 1, 2, 0, 5, 0, 1, 3, 4, 5, 0, 1, 2, 3, 4, 5, 0, 0, 1, 2, 3, 5, 0, 1, 2, 5, 0, 0, 1, 2, 3, 4, 5, 2, 2, 5, 0, 2, 4, 5, 0, 0, 4, 2, 4, 2, 3, 5, 1, 2, 3, 4, 5, 0, 2, 4, 0, 1, 2, 3, 5, 0, 1, 2, 4, 5, 0, 1, 2, 3, 1, 0, 4, 3, 2, 5, 4, 3, 0, 5, 2, 3, 4, 5, 2, 3, 0, 4, 5, 2, 3, 5, 0, 1, 0, 2, 5, 2, 5, 3, 2, 2, 0, 1, 2, 3, 5, 3, 4, 2, 3, 4, 5, 2, 3, 5, 0, 1, 0, 4, 0, 4, 3, 0, 1, 3, 4, 0, 4, 3, 0, 1, 4, 0, 1, 2, 4, 1, 0, 1, 2, 4, 0, 1, 2, 4, 1, 4, 5, 2, 3, 5, 3, 4, 5, 0, 1, 2, 4, 1, 2, 0, 2, 3, 5, 2, 3, 2, 3, 5, 2, 4, 2, 0, 2, 2, 0, 3, 5, 3, 5, 0, 5, 0, 3, 5, 1, 2, 4, 3, 5, 3, 0, 2, 5, 4], \"Freq\": [1.0003154267295031, 0.9986833339673876, 0.997994656044831, 1.0009609677499653, 0.999374400378829, 0.9985540559239366, 0.9980666082316559, 1.000946795658499, 0.25214546838118324, 0.1382192766873596, 0.06785309946470379, 0.2904000964744524, 0.047748477401087855, 0.20383852925610604, 0.03474694034943755, 0.02491290062789862, 0.07244409261533678, 0.480228939735151, 0.3877889663526851, 0.006824010128136433, 0.0034120050640682165, 0.014785355277628939, 0.9405760626614716, 0.034120050640682166, 0.1328304651839834, 0.07637751748079045, 0.7910054201706211, 0.02652270422671423, 0.9737621408950795, 1.0007392963681065, 0.10246769064419431, 0.8979895798273028, 0.05753414416087338, 0.8754214876242694, 0.0665591079508143, 0.9554566364298842, 0.014510439571949177, 0.03013706680327906, 0.9987525498071771, 0.012547645002248033, 0.9842930412874568, 0.0027883655560551183, 1.0003130558106907, 0.0712810387377193, 0.9283112021656467, 0.9984374242240126, 0.0755492559920605, 0.07593868514665875, 0.3902080129074465, 0.10241986765933975, 0.02998604490406525, 0.32595220239873524, 0.8488338888658711, 0.02647268667489135, 0.12467781466239153, 0.9995255699674231, 0.9982566570009901, 0.9994189198137841, 0.3064176017435953, 0.1375458564818489, 0.18939560342788617, 0.3665489054935135, 0.905756984691882, 0.060929435717225, 0.018187891258873132, 0.014550313007098506, 0.6393691203714499, 0.04754193568645007, 0.022372675617152976, 0.07970265688610748, 0.11221295114228289, 0.0985796019380803, 0.028326638473555845, 0.8331938833773496, 0.07032820586538004, 0.014163319236777923, 0.030768590066103763, 0.023442735288460012, 0.029383499364315394, 0.11678057439663811, 0.007534230606234716, 0.8460940970801587, 1.0001928447245934, 0.9166622496123329, 0.08318169234231695, 0.999018862179893, 0.00020999006449008305, 0.9997626970372854, 0.17750480263803353, 0.01638505870504925, 0.2826422626620995, 0.20399398087786313, 0.03440862328060342, 0.28482693715610613, 0.9859006415178998, 0.013760517985061, 0.9995308301985414, 0.03354184719723417, 0.028687106155529225, 0.7648423841158792, 0.015888243409216185, 0.027804425966128327, 0.12931264774723175, 0.09265551192081004, 0.015106876943610332, 0.8923128648025836, 1.0001971124988467, 1.0006689389967038, 0.016840614143920615, 0.733332197721634, 0.08496855318069037, 0.16457872913376964, 0.48190621216267776, 0.5181674211476557, 0.9345431183947968, 0.008511321661154798, 0.057876987295852625, 0.952382661809537, 0.04784697583253655, 0.011391750633036416, 0.9891836799686621, 0.9044209268522249, 0.0074173394766448185, 0.021263039833048482, 0.06725054458824635, 0.9756637341641955, 0.02431055816023743, 1.0014066619308797, 1.0002416390509314, 0.8313712735833835, 0.13643360431481555, 0.02150677506440442, 0.006048780486863744, 0.004032520324575829, 1.000124926801792, 1.0002466588422427, 0.0428358798381524, 0.9562073821935956, 0.12045089959575754, 0.8795637724718454, 0.9998864805518708, 0.9414965325305434, 0.015452463605425097, 0.04304614861511277, 0.022252227776746732, 0.02596093240620452, 0.9531370897706517, 0.9986603726980883, 1.0002042151638837, 0.9400495349987973, 0.005168448284275405, 0.054724746539386644, 0.9998869077374993, 1.0005408178737296, 0.9979053551758715, 1.0006001840506011, 0.9976371291170987, 0.6909414162096207, 0.056568303081489406, 0.25253706732807774, 1.0002189134967416, 1.0005049904487358, 0.9461338050690671, 0.01702189754247197, 0.036880778008689274, 1.0011040136097358, 0.9981830103386856, 1.0007785876667485, 0.8796603030349316, 0.12010819079652565, 0.4613021701942101, 0.10246862959049931, 0.12760244439571614, 0.06032115553252035, 0.2072573036245571, 0.04098745183619972, 0.9999192623067206, 0.12215207758983963, 0.004590682654520117, 0.2882150327446543, 0.13013587351074418, 0.40857075625229045, 0.0463060163412464, 0.014710975940264747, 0.829418833965403, 0.07320461836941268, 0.08266167433101144, 0.26786281332172907, 0.04112179650141683, 0.07139200781495977, 0.6196826278338508, 1.0012202961804835, 0.8635452278769787, 0.13642947554278836, 0.9060400551377341, 0.09324112833538013, 0.16884399937232228, 0.7485694553452712, 0.008317438392725236, 0.07319345785598208, 0.9984942149433833, 0.9998497811279078, 1.0001122596907823, 0.9999960623157977, 0.9994138472021932, 0.9999985768229437, 0.998139238172736, 0.9998062128953602, 0.999045925374919, 1.0010905934117513, 0.9997555459483124, 0.9994162451054946, 0.22873943813613, 0.08550324045344157, 0.6854875174814375, 0.9995379096169649, 1.0013014160648115, 0.07958269244090956, 0.9212708294430716, 0.03223067256042664, 0.028649486720379234, 0.9103374405400502, 0.028649486720379234, 0.016230078036438823, 0.9833517869136464, 0.9995216474820084, 0.013990060043781996, 0.9424213174947691, 0.04366594498513775, 1.0006726568577757, 1.000004263950847, 1.00138384638946, 0.013562826423285828, 0.9855653867587701, 0.2858285122192592, 0.11444091772763443, 0.012046412392382572, 0.588083950428131, 0.021367315429892973, 0.9786230466890982, 1.0012892804496645, 0.6547627398162494, 0.06509966435313573, 0.06671370561808951, 0.16086611274039325, 0.052725347988490094, 0.7266262509482618, 0.2734709171240744, 0.9993881093868093, 1.0007219989150193, 0.6377609971528371, 0.02772873900664509, 0.021329799235880836, 0.3135480487674483, 0.03513738001103814, 0.7901518329982201, 0.08564736377690546, 0.037772683511865995, 0.05138841826614327, 0.99984605751833, 1.0001021183046677, 0.9998738488917209, 0.7175386319019548, 0.050137834529734485, 0.07047676740500414, 0.055813815797251594, 0.10595165032698607, 0.9758774263907626, 0.024810443043832946, 0.9978106810219358, 0.9996730213028817, 0.060575154345943696, 0.027123203438482252, 0.06328747468979193, 0.8489562676244945, 1.0010294805204578, 1.0004733080302732, 0.1372901128943104, 0.8626575597611, 0.9984737788189164, 1.0003622239784238, 1.0001349069284047, 0.9580607573527501, 0.04153113734367622, 0.9997686715489758, 1.0002361095120411, 1.0003341796947676, 1.0006936482705358, 1.0007411284934205, 0.9995544154353995, 0.988870284896098, 0.011180694175960907, 0.9999235148387757, 0.9980666082316559, 0.9995161005256833, 0.6698610538205585, 0.04776847887914021, 0.05070807757939499, 0.04776847887914021, 0.06944801929351922, 0.1146443493099365, 0.9990449761664597, 0.6409690480805667, 0.09431315890220147, 0.2649178539864385, 0.987728409075689, 0.012467025243640366, 0.9051629892749441, 0.0462929326644827, 0.014704813905188623, 0.03376660970821091, 1.0001314074472245, 0.025080564277693427, 0.28928150843021394, 0.024225545040953877, 0.661499882824164, 0.2949158382802053, 0.009967334494559622, 0.6789513732176496, 0.016416786226333496, 0.9998206409152718, 0.9987766422222805, 0.020127512205669953, 0.9789290027303114, 0.02311179439161823, 0.3744110691442153, 0.22973123625268518, 0.15762243775083631, 0.21493968784204953, 0.8754921856392817, 0.05741944517944513, 0.06698935270935265, 0.0011755970815566401, 0.9980819222415874, 0.9994566141670598, 0.1811126612135035, 0.06668418245115923, 0.3782058513576102, 0.005918714418741944, 0.3397342076357876, 0.02840982920996133, 0.9925842154385969, 0.007444381615789477, 1.0008523446212874, 1.0002372966317608, 1.0003471256548018, 0.07451676917333461, 0.01267440648696014, 0.12455882237184965, 0.276214651715821, 0.07910577841861328, 0.4331150630543965, 0.028993304537080652, 0.01511616732275145, 0.2413630651206543, 0.1199381144952738, 0.4651319027017127, 0.1293547433192829, 0.910276606552362, 0.09027536593907722, 0.09179763878868856, 0.463194061856072, 0.06711102277977829, 0.036572764457644846, 0.3006281238418406, 0.040778632370274, 0.07461115620412717, 0.5576995514247889, 0.25284891824731986, 0.006782832382193378, 0.09345235726577544, 0.014319312806852688, 0.7220474753522654, 0.11872230536434857, 0.15973546539930536, 0.9987760519497204, 0.9998110432057481, 0.999703698837472, 0.9990677369818075, 0.11516372270162793, 0.8845765252340559, 0.0004963953564725342, 0.1650186280654323, 0.7185340262400662, 0.017759852347849218, 0.09915917560882478, 0.9711604448306167, 0.029126118981043562, 1.0004255309235879, 0.9998188877726465, 0.01261118907022444, 0.9189353102503541, 0.016814918760299252, 0.05128550221891272, 0.9998864805518708, 0.915115574326731, 0.05387315234699928, 0.03130466960704012, 0.4466712366323968, 0.009431181535933303, 0.014670726833674028, 0.35340733033261185, 0.1757867447392013, 0.04150351725285126, 0.06148669222644631, 0.8946313718947938, 0.0023057509584917366, 0.7554298134736954, 0.0049420642002952035, 0.08119105471913549, 0.01694422011529784, 0.1270816508647338, 0.01482619260088561, 0.999162778844651, 0.011655453115723713, 0.9884934285287587, 0.9792489854899414, 0.02089860639765119, 0.995902093303518, 0.004379516681194011, 1.0002881394813044, 0.9770879196067522, 0.02417830368750333, 0.02867322994422715, 0.9311972772363294, 0.019115486629484767, 0.02048087853159082, 0.9992183211729496, 0.9987695205991544, 0.9993966533345989, 0.17236385078936747, 0.03604235665747313, 0.07993264581294444, 0.1127776966378998, 0.448785473218859, 0.14998270996174304, 0.8523603428586023, 0.12558060936274074, 0.02165182920047254, 0.9989700946621077, 1.0000058511772867, 0.999018862179893, 1.0009767795879116, 0.0014963868110497663, 0.01197109448839813, 0.9681622667491989, 0.017956641732597197, 0.9994630089050205, 1.0005680057044442, 1.0001832620279498, 0.26428036905517904, 0.7355231569938294, 0.00945512815331544, 0.3900240363242619, 0.6004006377355304, 0.138754909191578, 0.8610512975944036, 0.8794070728653653, 0.04251102011686831, 0.07804261902051944, 0.9993952382266521, 0.01107433324262343, 0.7375505939587205, 0.1094144124371195, 0.019933799836722176, 0.09302439923803682, 0.02879326643082092, 1.0008354433973925, 1.000216686931579, 1.000122802329625, 0.9997795379057017, 0.9995544154353995, 0.9998179460192697, 0.23009026983139105, 0.7698137348069782, 0.9990753155330444, 0.07435375139548825, 0.04533765328993186, 0.23249148607077058, 0.2411963155024375, 0.4069507759304284, 0.9993866171443225, 0.9997073222907025, 1.0007411284934205, 0.8013078418489179, 0.060711036099286644, 0.01439941240816414, 0.12375711204854585, 0.9814797877567925, 0.017526424781371293, 1.0007185205579214, 0.0348221798457919, 0.18409488086306766, 0.7733933090226228, 0.007792375909547837, 0.229332903572751, 0.5575580380512121, 0.16623602005008933, 0.04671596183889372, 1.0014334977148134, 1.001761747356781, 0.9988972795972701, 0.9996879278715628, 0.9897610899671985, 0.010459826578253088, 0.9999372001802672, 0.047447601655098176, 0.7620372387030919, 0.049604310821239, 0.012940254996844957, 0.1286836469130693, 1.0015432292179618, 0.2767504451188085, 0.12247002456407041, 0.3181039599066764, 0.1428286779980977, 0.13964763839903094, 0.9992581281030883, 1.0000920004676774, 0.9996583273090471, 0.7889804475050106, 0.005871482400037288, 0.0022018059000139833, 0.18128201910115127, 0.02128412370013517, 0.9994162451054946, 0.918217763356175, 0.020879884169441986, 0.060651092111236246, 0.9982523621318553, 0.9677148587150898, 0.03235093277681259, 0.9773127645125171, 0.022266362245666953, 0.9968960832593363, 0.003154734440694102, 0.04319163285418996, 0.9425031312110738, 0.01388302484598963, 0.030515279812360983, 0.030023097879903548, 0.02756218821761637, 0.9117670298773987, 0.9976174738096373, 0.9644912710738345, 0.03519238389322999, 0.009726617661853341, 0.17105431060500703, 0.4219339661590173, 0.39711432109083983, 0.05403080880789968, 0.7675145661429852, 0.17871729067228354, 0.12838484719082074, 0.25173499449180536, 0.05538169878819719, 0.4950788225005506, 0.06922712348524648, 0.078299448338434, 0.7741793137038541, 0.014519103003153323, 0.04666854536727854, 0.08659607862595019, 0.02729464627867316, 0.235416324153556, 0.45470399368789605, 0.2825616222712642, 0.9999243659436693, 0.006311584461441731, 0.9940745526770726, 0.9989878558458258, 0.03629329172836304, 0.9494325116139772, 0.014517316691345218, 0.16368004620649354, 0.05436304783753576, 0.23458836947284453, 0.006204478285805712, 0.5409714162528694, 0.9991983614525456, 0.9997649991426667, 0.9940364964766333, 0.006053815447482541, 0.13496055190688014, 0.0285798815802805, 0.045251479168777455, 0.09209072953645939, 0.000793885599452236, 0.6986193275179677, 0.01993566736117251, 0.9611090159386325, 0.01993566736117251, 0.9991521267963667, 0.015141923908086484, 0.0017141800650663946, 0.0208558574583078, 0.8376626584624448, 0.12484944807233574, 0.9031756393565995, 0.09724157109194503, 0.9997987780363975, 1.0007864733237983, 0.037364205675140344, 0.9415779830135367, 0.021350974671508767, 0.1794500314396675, 0.15850475963125205, 0.23888931630138702, 0.42343414358634474, 0.6577080593001897, 0.10709582558516363, 0.23553321061664612, 0.018770157325958003, 0.9559982401698156, 0.02516907459617096, 0.9998186924994743, 0.3278700975846394, 0.05426815408297479, 0.5660469960599177, 0.016581935969797856, 0.035425045026386326, 0.9990937726049657, 0.021705311259221934, 0.005279670306297227, 0.11028644639820875, 0.6089219753262802, 0.2534241747022669, 0.038854137019254255, 0.030023651333060106, 0.9307331913248632, 0.9997357657166409, 0.999436485534654, 0.9989239693652607, 0.0114228894199119, 0.6054131392553308, 0.17170030659305077, 0.21168041956274242, 0.2882711967262252, 0.0054908799376423845, 0.0860237856897307, 0.016472639812927153, 0.5866090066714614, 0.01693021314106402, 0.05109420395353868, 0.004330017284198193, 0.9448097714120458, 1.0000681901482853, 0.030275230598423623, 0.9250764905073885, 0.043730888642167454, 0.9987353922136685, 1.0004557596687003, 0.7379907288826593, 0.02542326140255643, 0.02381192793338032, 0.10043978624531097, 0.11207719463380511, 0.5923876774219659, 0.2813960166861489, 0.01060378690549605, 0.05333546547988312, 0.02437288333502077, 0.03766718333594119, 1.0001201571259037, 0.056251928624072293, 0.00988670260665513, 0.47490264589898606, 0.15921000404510158, 0.2996693652155124, 0.8903541782220565, 0.07757200003870773, 0.004309555557705985, 0.0284430666808595, 0.9997987416282685, 0.32203515092129925, 0.006314414723947045, 0.08787560490826303, 0.18048702085948637, 0.3215089496943037, 0.081561190184316, 1.0004291389269748, 0.9986519487663688, 0.0015603936699474512, 0.37690904588599083, 0.25230081794986947, 0.19616542813706234, 0.17457489359367498, 0.9994143813960003, 0.09471557495790076, 0.9044816993232501, 1.0011657845351374, 0.9999283810387944, 0.1451763437584008, 0.5417556242691542, 0.31277830159330255, 1.00138384638946, 0.03635180514596312, 0.07001088398481786, 0.05385452614216758, 0.8401306078178143, 0.6360429173832746, 0.059227422467900824, 0.30470460112416903, 0.5446440488365926, 0.0034863417066353718, 0.07824900274892724, 0.142552638671313, 0.23087329523940908, 0.1739144637371904, 0.08950409640031139, 0.551578090011675, 0.15499489864444166, 0.030562374380594132, 0.014855017593367818, 0.978309015791795, 0.002122145370481117, 0.004244290740962234, 0.9999972766766222, 0.9599041452673069, 0.040131585734339385, 0.9997272685333832, 0.957813358088325, 0.04164405904731848, 1.0002847607162655, 0.9983701528804602, 0.04593367862214834, 0.9543997669268599, 0.039283001658090955, 0.46030434884068927, 0.3803518866424571, 0.11969761681700655, 0.07217021517346531, 0.9281089671307639, 0.9298702838788554, 0.01101162178277592, 0.05872864950813824, 1.0001117022530843, 0.5827862055436516, 0.4172516197566923, 1.00110762802683, 0.9983172003923803, 0.9957560474480258, 0.0025597841836710175, 1.0010729989117109, 0.9051129966651867, 0.09436567219269935, 0.9990449761664597, 1.0006059092330335, 0.99801663612323, 0.3300907398460612, 0.22944768909579358, 0.10987635815854904, 0.1438087628839833, 0.18674364233249197, 0.8948966627306285, 0.10409388264401409, 0.002507069079852442, 0.5103676341128186, 0.11747409402737156, 0.3696136129153886, 0.06691504375613999, 0.8828089983266189, 0.05047976985112315, 0.9845562644637629, 0.014749906583726786, 0.8643302424053555, 0.13556384119735457, 0.946857779380978, 0.053015553156829674, 0.9994613610992125, 0.6420632772810722, 0.00044128060294231766, 0.040156534867750907, 0.3172807535155264, 0.9985909570074889, 0.9999481539747445, 0.9995753726994234, 0.15482500179859807, 0.7847415805448942, 0.059275857831463254, 0.21088446310620682, 0.11743458836064521, 0.13123711223347634, 0.5403348689888647, 1.0003124273731678, 0.39526445630869994, 0.2908383080393921, 0.1137909297553879, 0.20001759702344582, 0.39866467114179216, 0.08296617486653976, 0.08144106135796367, 0.43679250885619464, 0.9997237177790125, 0.9997061636261791, 0.9998314756207739, 0.9987760519497204, 0.2933640801320482, 0.7070370658536029, 0.5170813222179564, 0.03964840809338963, 0.4432912293774813, 0.03326694670326006, 0.9172172448184559, 0.03326694670326006, 0.0158414031920286, 0.9839252735672589, 0.016129922517496047, 0.01023838648136889, 0.05996769224801778, 0.6474560593932327, 0.28228694155774225, 0.017220107785587368, 0.98154614377848, 0.0352423651301628, 0.18484260894799676, 0.7796474245121731, 1.000204763654054, 1.00044159678517, 1.0006934295962138, 1.0002561681717834, 1.0010566583734108, 1.0001117022530843, 0.4941874748331237, 0.08802622086089112, 0.4173860740820106, 0.6581477809012207, 0.3419613216769003, 0.9881472805392526, 0.011644833272348096, 0.04777821386570203, 0.1207727072716357, 0.8308100522202632, 0.9485735424624687, 0.03151905758182254, 0.019511797550652046, 0.9607562699932832, 0.039313593265701406, 0.9980698972933081, 0.05573138460237074, 0.7852154009155449, 0.15823732413887406, 0.9997571383742836], \"Term\": [\"AI\", \"A\\uc528\", \"ESG\", \"GSOMIA\", \"ICBM\", \"SLBM\", \"SMA\", \"\\uac00\\uad70\", \"\\uac00\\ub2a5\", \"\\uac00\\ub2a5\", \"\\uac00\\ub2a5\", \"\\uac00\\ub2a5\", \"\\uac00\\ub2a5\", \"\\uac00\\ub2a5\", \"\\uac00\\ub2a5\\uc131\", \"\\uac00\\ub2a5\\uc131\", \"\\uac00\\ub2a5\\uc131\", \"\\uac00\\ub2a5\\uc131\", \"\\uac00\\ub2a5\\uc131\", \"\\uac00\\uc815\", \"\\uac00\\uc815\", \"\\uac00\\uc815\", \"\\uac00\\uc815\", \"\\uac00\\uc815\", \"\\uac08\\ub4f1\", \"\\uac08\\ub4f1\", \"\\uac08\\ub4f1\", \"\\uac15\\uc6d0\\ub300\", \"\\uac15\\uc6d0\\ub300\", \"\\uac1c\\ud5cc\", \"\\uac1c\\ud601\", \"\\uac1c\\ud601\", \"\\uac74\\uad6d\\ub300\", \"\\uac74\\uad6d\\ub300\", \"\\uac74\\uad6d\\ub300\", \"\\uac74\\ubb3c\", \"\\uac74\\ubb3c\", \"\\uac74\\ubb3c\", \"\\uac74\\uc591\\ub300\", \"\\uac80\\uc0ac\", \"\\uac80\\uc0ac\", \"\\uac80\\uc0ac\", \"\\uac80\\ucc30\", \"\\uacac\\uc81c\", \"\\uacac\\uc81c\", \"\\uacb0\\ub82c\", \"\\uacb0\\uc815\", \"\\uacb0\\uc815\", \"\\uacb0\\uc815\", \"\\uacb0\\uc815\", \"\\uacb0\\uc815\", \"\\uacb0\\uc815\", \"\\uacbd\\ubd81\", \"\\uacbd\\ubd81\", \"\\uacbd\\ubd81\", \"\\uacbd\\ubd81\\ub3c4\", \"\\uacbd\\uc6d0\\ub300\", \"\\uacbd\\uc7c1\\ub825\", \"\\uacbd\\uc81c\", \"\\uacbd\\uc81c\", \"\\uacbd\\uc81c\", \"\\uacbd\\uc81c\", \"\\uacbd\\ud76c\\ub300\", \"\\uacbd\\ud76c\\ub300\", \"\\uacbd\\ud76c\\ub300\", \"\\uacbd\\ud76c\\ub300\", \"\\uacc4\\ud68d\", \"\\uacc4\\ud68d\", \"\\uacc4\\ud68d\", \"\\uacc4\\ud68d\", \"\\uacc4\\ud68d\", \"\\uacc4\\ud68d\", \"\\uace0\\ub824\\ub300\", \"\\uace0\\ub824\\ub300\", \"\\uace0\\ub824\\ub300\", \"\\uace0\\ub824\\ub300\", \"\\uace0\\ub824\\ub300\", \"\\uace0\\ub824\\ub300\", \"\\uacf5\\ubd80\", \"\\uacf5\\ubd80\", \"\\uacf5\\ubd80\", \"\\uacf5\\ubd80\", \"\\uacf5\\ud654\\ub2f9\", \"\\uad50\\uacfc\\uc11c\", \"\\uad50\\uacfc\\uc11c\", \"\\uad50\\ucc29\", \"\\uad50\\ud68c\", \"\\uad50\\ud68c\", \"\\uad6d\\uac00\", \"\\uad6d\\uac00\", \"\\uad6d\\uac00\", \"\\uad6d\\uac00\", \"\\uad6d\\uac00\", \"\\uad6d\\uac00\", \"\\uad6d\\ubb34\", \"\\uad6d\\ubb34\", \"\\uad6d\\ubb34\\uc704\\uc6d0\\uc7a5\", \"\\uad6d\\ubbfc\", \"\\uad6d\\ubbfc\", \"\\uad6d\\ubbfc\", \"\\uad6d\\ubbfc\", \"\\uad6d\\ubbfc\", \"\\uad6d\\ubbfc\", \"\\uad6d\\ubc29\\ubd80\", \"\\uad6d\\ubc29\\ubd80\", \"\\uad6d\\ubc29\\ubd80\", \"\\uad6d\\ubc29\\uc7a5\\uad00\", \"\\uad6d\\uc775\", \"\\uad6d\\ud68c\", \"\\uad6d\\ud68c\", \"\\uad6d\\ud68c\", \"\\uad6d\\ud68c\", \"\\uad70\\uc0ac\", \"\\uad70\\uc0ac\", \"\\uad8c\\ub825\", \"\\uad8c\\ub825\", \"\\uad8c\\ub825\", \"\\uad8c\\ub9ac\", \"\\uad8c\\ub9ac\", \"\\uadf8\\ub9ac\\uc2a4\\ub3c4\", \"\\uadf8\\ub9ac\\uc2a4\\ub3c4\", \"\\uae00\\ub85c\\ubc8c\", \"\\uae00\\ub85c\\ubc8c\", \"\\uae00\\ub85c\\ubc8c\", \"\\uae00\\ub85c\\ubc8c\", \"\\uae00\\ub85c\\uceec\", \"\\uae00\\ub85c\\uceec\", \"\\uae00\\ub85c\\uceec\\ub300\\ud559\", \"\\uae08\\uac15\\uc0b0\", \"\\uae30\\uad00\", \"\\uae30\\uad00\", \"\\uae30\\uad00\", \"\\uae30\\uad00\", \"\\uae30\\uad00\", \"\\uae30\\ub3c4\", \"\\uae30\\ub3c4\\ud68c\", \"\\uae30\\ub3c5\", \"\\uae30\\ub3c5\", \"\\uae30\\ub3c5\\uad50\", \"\\uae30\\ub3c5\\uad50\", \"\\uae30\\uc18c\", \"\\uae30\\uc5c5\", \"\\uae30\\uc5c5\", \"\\uae30\\uc5c5\", \"\\uae30\\uc9c0\", \"\\uae30\\uc9c0\", \"\\uae30\\uc9c0\", \"\\uae40\\uc5ec\\uc815\", \"\\uae40\\uc815\\uc740\", \"\\ub0a8\\ubd81\", \"\\ub0a8\\ubd81\", \"\\ub0a8\\ubd81\", \"\\ub0a8\\ubd81\\uc815\\uc0c1\\ud68c\\ub2f4\", \"\\ub0a8\\uce21\", \"\\ub0c9\\uc804\", \"\\ub178\\ub3d9\\ub2f9\", \"\\ub178\\uc870\", \"\\ub17c\\ub780\", \"\\ub17c\\ub780\", \"\\ub17c\\ub780\", \"\\ub17c\\uc220\", \"\\ub2e8\\uac70\\ub9ac\", \"\\ub2e8\\uad6d\\ub300\", \"\\ub2e8\\uad6d\\ub300\", \"\\ub2e8\\uad6d\\ub300\", \"\\ub2e8\\uc9c0\", \"\\ub300\\ub0a8\", \"\\ub300\\ub959\\uac04\\ud0c4\\ub3c4\\ubbf8\\uc0ac\\uc77c\", \"\\ub300\\ubd81\", \"\\ub300\\ubd81\", \"\\ub300\\uc0c1\", \"\\ub300\\uc0c1\", \"\\ub300\\uc0c1\", \"\\ub300\\uc0c1\", \"\\ub300\\uc0c1\", \"\\ub300\\uc0c1\", \"\\ub300\\uc785\", \"\\ub300\\ud45c\", \"\\ub300\\ud45c\", \"\\ub300\\ud45c\", \"\\ub300\\ud45c\", \"\\ub300\\ud45c\", \"\\ub300\\ud45c\", \"\\ub300\\ud654\", \"\\ub300\\ud654\", \"\\ub300\\ud654\", \"\\ub300\\ud654\", \"\\ub300\\ud68c\", \"\\ub300\\ud68c\", \"\\ub300\\ud68c\", \"\\ub300\\ud68c\", \"\\ub355\\uc131\\uc5ec\\ub300\", \"\\ub3c4\\ubc1c\", \"\\ub3c4\\ubc1c\", \"\\ub3c4\\uc2dc\", \"\\ub3c4\\uc2dc\", \"\\ub3d9\\uad6d\\ub300\", \"\\ub3d9\\uad6d\\ub300\", \"\\ub3d9\\uad6d\\ub300\", \"\\ub3d9\\uad6d\\ub300\", \"\\ub3d9\\ub355\\uc5ec\\ub300\", \"\\ub3d9\\ub9f9\", \"\\ub3d9\\ub9f9\\uad6d\", \"\\ub3d9\\ubd81\\uc544\", \"\\ub3d9\\uc11c\\ub300\", \"\\ub3d9\\uc131\\uc560\", \"\\ub3d9\\uc131\\ud63c\", \"\\ub3d9\\uc2e0\\ub300\", \"\\ub3d9\\uc544\\uc2dc\\uc544\", \"\\ub3d9\\uc758\\ub300\", \"\\ub4f1\\ub85d\\uae08\", \"\\ub514\\uc9c0\\ud138\", \"\\ub7ec\\uc2dc\\uc544\", \"\\ub7ec\\uc2dc\\uc544\", \"\\ub7ec\\uc2dc\\uc544\", \"\\ub808\\uc774\\uc800\", \"\\ub85c\\ubd07\", \"\\ub85c\\uc2a4\\ucfe8\", \"\\ub85c\\uc2a4\\ucfe8\", \"\\ub9c8\\uc74c\", \"\\ub9c8\\uc74c\", \"\\ub9c8\\uc74c\", \"\\ub9c8\\uc74c\", \"\\ub9d0\\uc500\", \"\\ub9d0\\uc500\", \"\\uba74\\uc811\", \"\\ubaa8\\uc9d1\", \"\\ubaa8\\uc9d1\", \"\\ubaa8\\uc9d1\", \"\\ubaa8\\uce5c\\uc0c1\", \"\\ubaa9\\uc0ac\", \"\\ubaa9\\ud3ec\\ub300\", \"\\ubaa9\\ud68c\\uc790\", \"\\ubaa9\\ud68c\\uc790\", \"\\ubb38\\ud654\", \"\\ubb38\\ud654\", \"\\ubb38\\ud654\", \"\\ubb38\\ud654\", \"\\ubbf8\\uad70\", \"\\ubbf8\\uad70\", \"\\ubbf8\\ub3d9\\ub9f9\", \"\\ubbf8\\ub798\", \"\\ubbf8\\ub798\", \"\\ubbf8\\ub798\", \"\\ubbf8\\ub798\", \"\\ubbf8\\ub798\", \"\\ubbf8\\uc0ac\\uc77c\", \"\\ubbf8\\uc0ac\\uc77c\", \"\\ubc14\\uc774\\ub4e0\", \"\\ubc14\\uc774\\uc624\", \"\\ubc18\\ub300\", \"\\ubc18\\ub300\", \"\\ubc18\\ub300\", \"\\ubc18\\ub300\", \"\\ubc18\\uc601\", \"\\ubc18\\uc601\", \"\\ubc18\\uc601\", \"\\ubc18\\uc601\", \"\\ubc18\\uc601\", \"\\ubc1c\\uc0ac\", \"\\ubc1c\\uc0ac\\uccb4\", \"\\ubc1c\\uc778\", \"\\ubc1c\\uc804\", \"\\ubc1c\\uc804\", \"\\ubc1c\\uc804\", \"\\ubc1c\\uc804\", \"\\ubc1c\\uc804\", \"\\ubc29\\ubd81\", \"\\ubc29\\ubd81\", \"\\ubc29\\uc0ac\\ud3ec\", \"\\ubc29\\uc704\\ube44\", \"\\ubc30\\uce58\", \"\\ubc30\\uce58\", \"\\ubc30\\uce58\", \"\\ubc30\\uce58\", \"\\ubc30\\ud130\\ub9ac\", \"\\ubc95\\uad00\", \"\\ubc95\\ub960\", \"\\ubc95\\ub960\", \"\\ubc95\\ub960\\uac00\", \"\\ubc95\\ubb34\\ubd80\", \"\\ubc95\\uc6d0\", \"\\ubcc0\\ud638\\uc0ac\", \"\\ubcc0\\ud638\\uc0ac\", \"\\ubcc4\\uc138\", \"\\ubcf5\\uc74c\", \"\\ubcf8\\uc9c0\\uc815\", \"\\ubcfc\\ud134\", \"\\ubd80\\uc2dc\", \"\\ubd80\\uce5c\\uc0c1\", \"\\ubd81\\ubbf8\", \"\\ubd81\\ubbf8\", \"\\ubd81\\uce21\", \"\\ubd84\\ub2f4\", \"\\ubd84\\ub2f4\\uae08\", \"\\ubd84\\uc57c\", \"\\ubd84\\uc57c\", \"\\ubd84\\uc57c\", \"\\ubd84\\uc57c\", \"\\ubd84\\uc57c\", \"\\ubd84\\uc57c\", \"\\ube44\\uac74\", \"\\ube44\\ud310\", \"\\ube44\\ud310\", \"\\ube44\\ud310\", \"\\ube44\\ud575\\ud654\", \"\\ube44\\ud575\\ud654\", \"\\uc0ac\\uac74\", \"\\uc0ac\\uac74\", \"\\uc0ac\\uac74\", \"\\uc0ac\\uac74\", \"\\uc0ac\\ub4dc\", \"\\uc0ac\\ub78c\", \"\\uc0ac\\ub78c\", \"\\uc0ac\\ub78c\", \"\\uc0ac\\ub78c\", \"\\uc0ac\\ub78c\\ub4e4\", \"\\uc0ac\\ub78c\\ub4e4\", \"\\uc0ac\\ub78c\\ub4e4\", \"\\uc0ac\\ub78c\\ub4e4\", \"\\uc0ac\\ub791\", \"\\uc0ac\\ub839\\uad00\", \"\\uc0ac\\ubc95\", \"\\uc0ac\\ubc95\", \"\\uc0ac\\uc2e4\", \"\\uc0ac\\uc2e4\", \"\\uc0ac\\uc2e4\", \"\\uc0ac\\uc2e4\", \"\\uc0ac\\uc2e4\", \"\\uc0ac\\uc5c5\", \"\\uc0ac\\uc5c5\", \"\\uc0ac\\uc5c5\", \"\\uc0ac\\uc5ed\", \"\\uc0ac\\uc5ed\", \"\\uc0ac\\uc815\\uad00\", \"\\uc0ac\\ud68c\", \"\\uc0ac\\ud68c\", \"\\uc0ac\\ud68c\", \"\\uc0ac\\ud68c\", \"\\uc0ac\\ud68c\", \"\\uc0ac\\ud68c\", \"\\uc0b0\\uc5c5\", \"\\uc0b0\\uc5c5\", \"\\uc0b0\\ud559\", \"\\uc0c1\\uba85\\ub300\", \"\\uc0c1\\uc9c0\\ub300\", \"\\uc0c1\\ud669\", \"\\uc0c1\\ud669\", \"\\uc0c1\\ud669\", \"\\uc0c1\\ud669\", \"\\uc0c1\\ud669\", \"\\uc0c1\\ud669\", \"\\uc0dd\\uac01\", \"\\uc0dd\\uac01\", \"\\uc0dd\\uac01\", \"\\uc0dd\\uac01\", \"\\uc0dd\\uac01\", \"\\uc0dd\\uac01\", \"\\uc11c\\uac15\\ub300\", \"\\uc11c\\uac15\\ub300\", \"\\uc11c\\uc6b8\", \"\\uc11c\\uc6b8\", \"\\uc11c\\uc6b8\", \"\\uc11c\\uc6b8\", \"\\uc11c\\uc6b8\", \"\\uc11c\\uc6b8\", \"\\uc11c\\uc6b8\\ub300\", \"\\uc11c\\uc6b8\\ub300\", \"\\uc11c\\uc6b8\\ub300\", \"\\uc11c\\uc6b8\\ub300\", \"\\uc11c\\uc6b8\\ub300\", \"\\uc11c\\uc6b8\\ub300\", \"\\uc120\\uac70\", \"\\uc120\\uac70\", \"\\uc120\\uac70\", \"\\uc120\\uace0\", \"\\uc120\\uad50\", \"\\uc120\\uad50\\uc0ac\", \"\\uc120\\ubb38\\ub300\", \"\\uc120\\ubc1c\", \"\\uc120\\ubc1c\", \"\\uc120\\ubc1c\", \"\\uc120\\uc5b8\", \"\\uc120\\uc5b8\", \"\\uc120\\uc5b8\", \"\\uc120\\uc5b8\", \"\\uc120\\uc815\", \"\\uc120\\uc815\", \"\\uc124\\uad50\", \"\\uc131\\uacbd\", \"\\uc131\\uade0\\uad00\\ub300\", \"\\uc131\\uade0\\uad00\\ub300\", \"\\uc131\\uade0\\uad00\\ub300\", \"\\uc131\\uade0\\uad00\\ub300\", \"\\uc131\\uc18c\\uc218\\uc790\", \"\\uc131\\uc801\", \"\\uc131\\uc801\", \"\\uc131\\uc801\", \"\\uc138\\uacc4\", \"\\uc138\\uacc4\", \"\\uc138\\uacc4\", \"\\uc138\\uacc4\", \"\\uc138\\uacc4\", \"\\uc138\\uc0c1\", \"\\uc138\\uc0c1\", \"\\uc138\\uc0c1\", \"\\uc138\\uc0c1\", \"\\uc13c\\ud130\", \"\\uc13c\\ud130\", \"\\uc13c\\ud130\", \"\\uc13c\\ud130\", \"\\uc13c\\ud130\", \"\\uc13c\\ud130\", \"\\uc18c\\uc1a1\", \"\\uc218\\ub2a5\", \"\\uc218\\ub2a5\", \"\\uc218\\uc0ac\", \"\\uc218\\uc0ac\", \"\\uc218\\uc2dc\", \"\\uc218\\uc2dc\", \"\\uc218\\uc2dc2\", \"\\uc218\\ud5d8\\uc0dd\", \"\\uc218\\ud5d8\\uc0dd\", \"\\uc219\\uba85\\uc5ec\\ub300\", \"\\uc219\\uba85\\uc5ec\\ub300\", \"\\uc219\\uba85\\uc5ec\\ub300\", \"\\uc219\\uba85\\uc5ec\\ub300\", \"\\uc21c\\ucc9c\\ub300\", \"\\uc2a4\\ud0c0\\ud2b8\\uc5c5\", \"\\uc2dc\\uc0c1\\uc2dd\", \"\\uc2dc\\uc791\", \"\\uc2dc\\uc791\", \"\\uc2dc\\uc791\", \"\\uc2dc\\uc791\", \"\\uc2dc\\uc791\", \"\\uc2dc\\uc791\", \"\\uc2dc\\uc7a5\", \"\\uc2dc\\uc7a5\", \"\\uc2dc\\uc7a5\", \"\\uc2e0\\ub77c\\ub300\", \"\\uc2e0\\uc559\", \"\\uc2e4\\ubb34\\ud611\\uc0c1\", \"\\uc544\\ub0b4\", \"\\uc544\\ubc84\\uc9c0\", \"\\uc544\\ubc84\\uc9c0\", \"\\uc544\\ubc84\\uc9c0\", \"\\uc544\\ubc84\\uc9c0\", \"\\uc544\\ubca0\", \"\\uc544\\uc774\", \"\\uc544\\uc774\\ub4e4\", \"\\uc548\\ubcf4\", \"\\uc548\\ubcf4\", \"\\uc555\\ubc15\", \"\\uc555\\ubc15\", \"\\uc555\\ubc15\", \"\\uc591\\uad6d\", \"\\uc591\\uad6d\", \"\\uc591\\uc131\", \"\\uc591\\uc131\", \"\\uc591\\uc131\", \"\\uc5b4\\uba38\\ub2c8\", \"\\uc5f0\\uc138\\ub300\", \"\\uc5f0\\uc138\\ub300\", \"\\uc5f0\\uc138\\ub300\", \"\\uc5f0\\uc138\\ub300\", \"\\uc5f0\\uc138\\ub300\", \"\\uc5f0\\uc138\\ub300\", \"\\uc601\\ubcc0\", \"\\uc601\\uc131\", \"\\uc608\\ubc30\", \"\\uc608\\uc218\", \"\\uc608\\uc218\\ub2d8\", \"\\uc624\\ubc14\\ub9c8\", \"\\uc678\\uad50\", \"\\uc678\\uad50\", \"\\uc678\\ubb34\\uc131\", \"\\uc694\\uad6c\", \"\\uc694\\uad6c\", \"\\uc694\\uad6c\", \"\\uc694\\uad6c\", \"\\uc694\\uad6c\", \"\\uc6b0\\uc11d\\ub300\", \"\\uc6b0\\uc218\\uc790\", \"\\uc6b0\\ud06c\\ub77c\\uc774\\ub098\", \"\\uc6b4\\uc601\", \"\\uc6b4\\uc601\", \"\\uc6b4\\uc601\", \"\\uc6b4\\uc601\", \"\\uc6d0\\uad11\\ub300\", \"\\uc6d0\\uad11\\ub300\", \"\\uc704\\uc548\\ubd80\", \"\\uc704\\uc6d0\\uc7a5\", \"\\uc704\\uc6d0\\uc7a5\", \"\\uc704\\uc6d0\\uc7a5\", \"\\uc704\\uc6d0\\uc7a5\", \"\\uc704\\uc6d0\\ud68c\", \"\\uc704\\uc6d0\\ud68c\", \"\\uc704\\uc6d0\\ud68c\", \"\\uc704\\uc6d0\\ud68c\", \"\\uc704\\ud5cc\", \"\\uc720\\ub124\\uc2a4\\ucf54\", \"\\uc720\\uc5d4\\uc0ac\", \"\\uc720\\uce58\", \"\\uc721\\uc131\", \"\\uc721\\uc131\", \"\\uc735\\ud569\", \"\\uc758\\uc6d0\", \"\\uc758\\uc6d0\", \"\\uc758\\uc6d0\", \"\\uc758\\uc6d0\", \"\\uc758\\uc6d0\", \"\\uc774\\uac15\\ub355\", \"\\uc774\\ub0a0\", \"\\uc774\\ub0a0\", \"\\uc774\\ub0a0\", \"\\uc774\\ub0a0\", \"\\uc774\\ub0a0\", \"\\uc774\\ub780\", \"\\uc774\\uc2b9\\ub9cc\", \"\\uc774\\ucc28\", \"\\uc774\\ud654\\uc5ec\\ub300\", \"\\uc774\\ud654\\uc5ec\\ub300\", \"\\uc774\\ud654\\uc5ec\\ub300\", \"\\uc774\\ud654\\uc5ec\\ub300\", \"\\uc774\\ud654\\uc5ec\\ub300\", \"\\uc778\\uacf5\\uc9c0\\ub2a5\", \"\\uc778\\uad8c\", \"\\uc778\\uad8c\", \"\\uc778\\uad8c\", \"\\uc778\\uad8c\\uc704\", \"\\uc778\\ub825\", \"\\uc778\\ub825\", \"\\uc778\\uc7ac\", \"\\uc778\\uc7ac\", \"\\uc778\\ud504\\ub77c\", \"\\uc778\\ud504\\ub77c\", \"\\uc778\\ud558\\ub300\", \"\\uc778\\ud558\\ub300\", \"\\uc778\\ud558\\ub300\", \"\\uc77c\\ubcf8\", \"\\uc77c\\ubcf8\", \"\\uc77c\\ubcf8\", \"\\uc77c\\ubcf8\", \"\\uc785\\ubc95\", \"\\uc785\\uc2dc\", \"\\uc785\\uc2dc\", \"\\uc785\\uc7a5\", \"\\uc785\\uc7a5\", \"\\uc785\\uc7a5\", \"\\uc785\\uc7a5\", \"\\uc785\\ud559\", \"\\uc785\\ud559\", \"\\uc785\\ud559\", \"\\uc790\\uc2e0\", \"\\uc790\\uc2e0\", \"\\uc790\\uc2e0\", \"\\uc790\\uc2e0\", \"\\uc790\\uc2e0\", \"\\uc790\\uc720\", \"\\uc790\\uc720\", \"\\uc790\\uc720\", \"\\uc790\\uc720\", \"\\uc790\\uc720\", \"\\uc7a5\\uad00\", \"\\uc7a5\\uad00\", \"\\uc7a5\\uad00\", \"\\uc7a5\\uad00\", \"\\uc7a5\\ub85c\", \"\\uc7ac\\uac1c\", \"\\uc7ac\\uac1c\", \"\\uc7ac\\ud310\", \"\\uc804\\ub0a8\\ub300\", \"\\uc804\\ub0a8\\ub300\", \"\\uc804\\ub0a8\\ub300\", \"\\uc804\\ub7b5\", \"\\uc804\\ub7b5\", \"\\uc804\\ub7b5\", \"\\uc804\\ub7b5\", \"\\uc804\\ub7b5\", \"\\uc804\\uc791\", \"\\uc804\\uc9c0\", \"\\uc804\\ud615\", \"\\uc804\\ud615\", \"\\uc804\\ud658\", \"\\uc804\\ud658\", \"\\uc804\\ud658\", \"\\uc804\\ud658\", \"\\uc804\\ud658\", \"\\uc804\\ud658\", \"\\uc810\\uc218\", \"\\uc810\\uc218\", \"\\uc810\\uc218\", \"\\uc815\\ub2f9\", \"\\uc815\\uc0c1\", \"\\uc815\\uc0c1\", \"\\uc815\\uc0c1\", \"\\uc815\\uc0c1\", \"\\uc815\\uc0c1\", \"\\uc815\\uc0c1\\ud68c\\ub2f4\", \"\\uc815\\uc0c1\\ud68c\\ub2f4\", \"\\uc815\\uc2dc\", \"\\uc815\\uc2dc\\ubaa8\\uc9d1\", \"\\uc815\\uc6d0\", \"\\uc815\\uc6d0\", \"\\uc815\\uc6d0\", \"\\uc815\\ucc45\", \"\\uc815\\ucc45\", \"\\uc815\\ucc45\", \"\\uc815\\ucc45\", \"\\uc815\\uce58\", \"\\uc815\\uce58\", \"\\uc815\\uce58\", \"\\uc81c\\uc7ac\", \"\\uc81c\\uc7ac\", \"\\uc81c\\uc7ac\", \"\\uc81c\\uc8fc\\ub300\", \"\\uc870\\uc0ac\", \"\\uc870\\uc0ac\", \"\\uc870\\uc0ac\", \"\\uc870\\uc0ac\", \"\\uc870\\uc0ac\", \"\\uc870\\uc120\\ub300\", \"\\uc870\\uce58\", \"\\uc870\\uce58\", \"\\uc870\\uce58\", \"\\uc870\\uce58\", \"\\uc870\\uce58\", \"\\uc885\\ub8cc\", \"\\uc885\\ub8cc\", \"\\uc885\\ub8cc\", \"\\uc885\\uc804\\uc120\\uc5b8\", \"\\uc8fc\\ub2d8\", \"\\uc8fc\\ub454\", \"\\uc8fc\\uc7a5\", \"\\uc8fc\\uc7a5\", \"\\uc8fc\\uc7a5\", \"\\uc8fc\\uc7a5\", \"\\uc8fc\\uc81c\", \"\\uc8fc\\uc81c\", \"\\uc8fc\\uc81c\", \"\\uc8fc\\uc81c\", \"\\uc8fc\\uc81c\", \"\\uc8fc\\uc81c\", \"\\uc8fc\\ud55c\", \"\\uc8fc\\ud55c\", \"\\uc8fc\\ud55c\", \"\\uc8fc\\ud55c\\ubbf8\\uad70\", \"\\uc911\\uc559\\ub300\", \"\\uc911\\uc559\\ub300\", \"\\uc911\\uc559\\ub300\", \"\\uc9c0\\ub2a5\", \"\\uc9c0\\uc18c\\ubbf8\\uc544\", \"\\uc9c0\\uc5ed\", \"\\uc9c0\\uc5ed\", \"\\uc9c0\\uc5ed\", \"\\uc9c0\\uc5ed\", \"\\uc9c0\\uc5ed\", \"\\uc9c0\\uc6d0\", \"\\uc9c0\\uc6d0\", \"\\uc9c0\\uc6d0\", \"\\uc9c0\\uc6d0\", \"\\uc9c0\\uc6d0\", \"\\uc9c0\\uc6d0\", \"\\uc9c0\\uc790\\uccb4\", \"\\uc9c0\\uc801\", \"\\uc9c0\\uc801\", \"\\uc9c0\\uc801\", \"\\uc9c0\\uc801\", \"\\uc9c0\\uc801\", \"\\uc9c0\\uc815\", \"\\uc9c0\\uc815\", \"\\uc9c0\\uc815\", \"\\uc9c0\\uc815\", \"\\uc9c0\\uc9c4\", \"\\uc9c4\\ud589\", \"\\uc9c4\\ud589\", \"\\uc9c4\\ud589\", \"\\uc9c4\\ud589\", \"\\uc9c4\\ud589\", \"\\uc9c4\\ud589\", \"\\uc9d5\\uacc4\", \"\\ucc28\\ubcc4\", \"\\ucc28\\ubcc4\", \"\\ucc38\\uc5ec\", \"\\ucc38\\uc5ec\", \"\\ucc38\\uc5ec\", \"\\ucc38\\uc5ec\", \"\\ucc3d\\uc5c5\", \"\\ucc3d\\uc870\", \"\\ucc3d\\uc870\", \"\\ucc98\\ubc8c\", \"\\uccad\\uc18c\\ub144\", \"\\uccad\\uc640\\ub300\", \"\\uccad\\uc640\\ub300\", \"\\uccad\\uc640\\ub300\", \"\\uccad\\uc8fc\\ub300\", \"\\ucd1d\\ub9ac\", \"\\ucd1d\\ub9ac\", \"\\ucd1d\\ub9ac\", \"\\ucd1d\\ub9ac\", \"\\ucd1d\\uc7a5\", \"\\ucd1d\\uc7a5\", \"\\ucd1d\\uc7a5\", \"\\ucd94\\uc9c4\", \"\\ucd94\\uc9c4\", \"\\ucd94\\uc9c4\", \"\\ucd94\\uc9c4\", \"\\ucd94\\uc9c4\", \"\\ucd9c\\uc2e0\", \"\\ucd9c\\uc2e0\", \"\\ucd9c\\uc2e0\", \"\\ucd9c\\uc2e0\", \"\\ucd9c\\uc2e0\", \"\\ucda9\\ub0a8\\ub300\", \"\\ucda9\\ub0a8\\ub300\", \"\\ucda9\\ub0a8\\ub300\", \"\\ucda9\\ub0a8\\ub300\", \"\\ucda9\\ubd81\\ub300\", \"\\ucde8\\uc5c5\", \"\\ucde8\\uc5c5\", \"\\uce5c\\uc11c\", \"\\uce68\\ud574\", \"\\uce68\\ud574\", \"\\ud06c\\ub9ac\\uc2a4\\ucc9c\", \"\\ud0c4\\ub3c4\", \"\\ud0dc\\ud3c9\\uc591\", \"\\ud0dc\\ud3c9\\uc591\", \"\\ud1b5\\uc77c\", \"\\ud1b5\\uc77c\", \"\\ud1b5\\uc77c\", \"\\ud1b5\\uc77c\", \"\\ud1b5\\uc77c\\ubd80\", \"\\ud1b5\\uc77c\\ubd80\", \"\\ud22c\\uc790\", \"\\ud22c\\uc790\", \"\\ud22c\\uc790\", \"\\ud22c\\ud45c\", \"\\ud2b8\\ub7fc\\ud504\", \"\\ud2b8\\ub7fc\\ud504\", \"\\ud2b9\\uad6c\", \"\\ud2b9\\uae30\\uc790\", \"\\ud2b9\\ud654\", \"\\ud2b9\\ud654\", \"\\ud30c\\ubcd1\", \"\\ud310\\uacb0\", \"\\ud310\\uacb0\", \"\\ud310\\ubb38\\uc810\", \"\\ud310\\uc0ac\", \"\\ud398\\ubbf8\\ub2c8\\uc998\", \"\\ud3c9\\uac00\", \"\\ud3c9\\uac00\", \"\\ud3c9\\uac00\", \"\\ud3c9\\uac00\", \"\\ud3c9\\uac00\", \"\\ud3c9\\uc591\", \"\\ud3c9\\uc591\", \"\\ud3c9\\ud654\", \"\\ud3c9\\ud654\", \"\\ud3c9\\ud654\", \"\\ud3c9\\ud654\", \"\\ud3d0\\uae30\", \"\\ud3d0\\uae30\", \"\\ud3d0\\uae30\", \"\\ud3ec\\uc2a4\\ud14d\", \"\\ud3ec\\uc2a4\\ud14d\", \"\\ud3ec\\ud56d\", \"\\ud3ec\\ud56d\", \"\\ud3ec\\ud56d\\uc2dc\", \"\\ud3ec\\ud56d\\uc2dc\", \"\\ud3fc\\ud398\\uc774\\uc624\", \"\\ud504\\ub85c\\uadf8\\ub7a8\", \"\\ud504\\ub85c\\uadf8\\ub7a8\", \"\\ud504\\ub85c\\uadf8\\ub7a8\", \"\\ud504\\ub85c\\uadf8\\ub7a8\", \"\\ud50c\\ub7ab\\ud3fc\", \"\\ud558\\ub098\\ub2d8\", \"\\ud558\\ub178\\uc774\", \"\\ud559\\uacfc\", \"\\ud559\\uacfc\", \"\\ud559\\uacfc\", \"\\ud559\\uad50\", \"\\ud559\\uad50\", \"\\ud559\\uad50\", \"\\ud559\\uad50\", \"\\ud559\\ub144\\ub3c4\", \"\\ud559\\uc0dd\", \"\\ud559\\uc0dd\", \"\\ud559\\uc0dd\", \"\\ud559\\uc0dd\", \"\\ud559\\uc0dd\\ub4e4\", \"\\ud559\\uc0dd\\ub4e4\", \"\\ud559\\uc0dd\\ub4e4\", \"\\ud559\\uc0dd\\ub4e4\", \"\\ud559\\uc0dd\\ubd80\", \"\\ud55c\\uad6d\\uad50\\ud68c\", \"\\ud55c\\uad6d\\uad70\", \"\\ud55c\\ub098\\ub77c\\ub2f9\", \"\\ud55c\\ubbf8\", \"\\ud55c\\ubbf8\", \"\\ud55c\\ubc18\\ub3c4\", \"\\ud55c\\ubc18\\ub3c4\", \"\\ud55c\\ubc18\\ub3c4\", \"\\ud55c\\uc591\\ub300\", \"\\ud55c\\uc591\\ub300\", \"\\ud55c\\uc591\\ub300\", \"\\ud55c\\uc591\\ub300\", \"\\ud569\\uaca9\\uc790\", \"\\ud569\\uaca9\\uc790\", \"\\ud569\\uc758\", \"\\ud569\\uc758\", \"\\ud569\\uc758\", \"\\ud569\\uc758\", \"\\ud574\\uc81c\", \"\\ud574\\uc81c\", \"\\ud589\\uc815\\ubd80\", \"\\ud589\\uc815\\ubd80\", \"\\ud589\\uc815\\ubd80\", \"\\ud5cc\\ubc95\", \"\\ud5cc\\uc2e0\", \"\\ud5cc\\uc7ac\", \"\\ud601\\uc2e0\", \"\\ud610\\uc624\", \"\\ud610\\uc758\", \"\\ud611\\ub825\", \"\\ud611\\ub825\", \"\\ud611\\ub825\", \"\\ud611\\uc0c1\", \"\\ud611\\uc0c1\", \"\\ud611\\uc57d\", \"\\ud611\\uc57d\", \"\\ud611\\uc815\", \"\\ud611\\uc815\", \"\\ud611\\uc815\", \"\\ud64d\\uc775\\ub300\", \"\\ud64d\\uc775\\ub300\", \"\\ud64d\\uc775\\ub300\", \"\\ud68c\\ub2f4\", \"\\ud68c\\ub2f4\", \"\\ud68c\\ub3d9\", \"\\ud6c4\\ubcf4\", \"\\ud6c4\\ubcf4\", \"\\ud6c4\\ubcf4\", \"\\ud788\\ub529\\ud06c\"]}, \"R\": 30, \"lambda.step\": 0.01, \"plot.opts\": {\"xlab\": \"PC1\", \"ylab\": \"PC2\"}, \"topic.order\": [0, 1, 2, 3, 4, 5]};\n",
       "\n",
       "function LDAvis_load_lib(url, callback){\n",
       "  var s = document.createElement('script');\n",
       "  s.src = url;\n",
       "  s.async = true;\n",
       "  s.onreadystatechange = s.onload = callback;\n",
       "  s.onerror = function(){console.warn(\"failed to load library \" + url);};\n",
       "  document.getElementsByTagName(\"head\")[0].appendChild(s);\n",
       "}\n",
       "\n",
       "if(typeof(LDAvis) !== \"undefined\"){\n",
       "   // already loaded: just create the visualization\n",
       "   !function(LDAvis){\n",
       "       new LDAvis(\"#\" + \"ldavis_el433555497124928651706191\", ldavis_el433555497124928651706191_data);\n",
       "   }(LDAvis);\n",
       "}else if(typeof define === \"function\" && define.amd){\n",
       "   // require.js is available: use it to load d3/LDAvis\n",
       "   require.config({paths: {d3: \"https://d3js.org/d3.v5\"}});\n",
       "   require([\"d3\"], function(d3){\n",
       "      window.d3 = d3;\n",
       "      LDAvis_load_lib(\"https://cdn.jsdelivr.net/gh/bmabey/pyLDAvis@3.4.0/pyLDAvis/js/ldavis.v3.0.0.js\", function(){\n",
       "        new LDAvis(\"#\" + \"ldavis_el433555497124928651706191\", ldavis_el433555497124928651706191_data);\n",
       "      });\n",
       "    });\n",
       "}else{\n",
       "    // require.js not available: dynamically load d3 & LDAvis\n",
       "    LDAvis_load_lib(\"https://d3js.org/d3.v5.js\", function(){\n",
       "         LDAvis_load_lib(\"https://cdn.jsdelivr.net/gh/bmabey/pyLDAvis@3.4.0/pyLDAvis/js/ldavis.v3.0.0.js\", function(){\n",
       "                 new LDAvis(\"#\" + \"ldavis_el433555497124928651706191\", ldavis_el433555497124928651706191_data);\n",
       "            })\n",
       "         });\n",
       "}\n",
       "</script>"
      ],
      "text/plain": [
       "<IPython.core.display.HTML object>"
      ]
     },
     "execution_count": 8,
     "metadata": {},
     "output_type": "execute_result"
    }
   ],
   "source": [
    "# show result\n",
    "from IPython.display import HTML\n",
    "\n",
    "HTML(filename=\"view/ldavis.html\")"
   ]
  },
  {
   "cell_type": "markdown",
   "metadata": {},
   "source": [
    "### The result of Topic Modeling \n",
    "\n",
    "- Topic #0: Topic related to the university entrance examination system.\n",
    "\n",
    "- Topic #1: Topic related to Handong University's business collaborating with the local community.\n",
    "\n",
    "- Topic #2: Topic related to the Professors in Politics and Government Affairs\n",
    "\n",
    "- Topic #3: Topic related to North Korea and Inter-Korean Relations\n",
    "\n",
    "- Topic #4: Topic related to Religious Activities and Christian Identity of Handong University\n",
    "\n",
    "- Topic #5: Topic related to International Relations and Global Affairs"
   ]
  }
 ],
 "metadata": {
  "kernelspec": {
   "display_name": "test",
   "language": "python",
   "name": "python3"
  },
  "language_info": {
   "codemirror_mode": {
    "name": "ipython",
    "version": 3
   },
   "file_extension": ".py",
   "mimetype": "text/x-python",
   "name": "python",
   "nbconvert_exporter": "python",
   "pygments_lexer": "ipython3",
   "version": "3.11.8"
  }
 },
 "nbformat": 4,
 "nbformat_minor": 4
}
